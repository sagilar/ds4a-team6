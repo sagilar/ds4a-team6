{
 "cells": [
  {
   "cell_type": "markdown",
   "metadata": {
    "colab_type": "text",
    "id": "tGVbJSaaXWk6"
   },
   "source": [
    "# Team 6 Project: MINJUSTICIA"
   ]
  },
  {
   "cell_type": "code",
   "execution_count": 38,
   "metadata": {
    "colab": {},
    "colab_type": "code",
    "id": "-Tgl_xzzXWlQ"
   },
   "outputs": [],
   "source": [
    "import pandas as pd\n",
    "import numpy as np\n",
    "from datetime import datetime\n",
    "from matplotlib import pyplot as plt\n",
    "import seaborn as sns\n",
    "pd.options.display.max_columns = 50\n",
    "%matplotlib inline\n",
    "\n",
    "path = \"C:/Users/david/Desktop/ds4a-team6/retomintic/Data_UpdateJune13/reincidencia11junio2020_clean.csv\"\n",
    "df_mj = pd.read_csv(path, sep=\",\",encoding=\"utf-8\")"
   ]
  },
  {
   "cell_type": "markdown",
   "metadata": {
    "colab_type": "text",
    "id": "80ZORxEqXWlu"
   },
   "source": [
    "# Processing"
   ]
  },
  {
   "cell_type": "markdown",
   "metadata": {},
   "source": [
    "## 1. Data cleaning and tentative transformations"
   ]
  },
  {
   "cell_type": "code",
   "execution_count": 39,
   "metadata": {
    "colab": {
     "base_uri": "https://localhost:8080/",
     "height": 337
    },
    "colab_type": "code",
    "id": "nlX1b7XMfH3Z",
    "outputId": "209026fa-a687-491e-a884-c529c55bed46"
   },
   "outputs": [],
   "source": [
    "#Date variables are parsed to datetime\n",
    "df_mj[\"FECHA_CAPTURA\"] = pd.to_datetime(df_mj[\"FECHA_CAPTURA\"])\n",
    "df_mj[\"FECHA_INGRESO\"] = pd.to_datetime(df_mj[\"FECHA_INGRESO\"])\n",
    "df_mj[\"FECHA_SALIDA\"] = pd.to_datetime(df_mj[\"FECHA_SALIDA\"])\n",
    "#Month and year variables are defined\n",
    "df_mj[\"MES_INGRESO_INT\"]=df_mj[\"FECHA_INGRESO\"].dt.strftime('%m')\n",
    "df_mj[\"ANO_INGRESO_INT\"]=df_mj[\"FECHA_INGRESO\"].dt.strftime('%y')\n",
    "#Calculations on how much time have the criminal being outside since its last stay in jail\n",
    "for column in ['FECHA_INGRESO', 'FECHA_SALIDA', 'FECHA_CAPTURA']:\n",
    "    df_mj = df_mj.sort_values(['INTERNOEN', column], ascending = False)\n",
    "    \n",
    "    df_mj['DIAS' + column[5:]] = -1*df_mj[column].diff().copy()\n",
    "\n",
    "    df_mj.loc[(df_mj.INTERNOEN != df_mj.INTERNOEN.shift(1)) | (df_mj['DIAS' + column[5:]] == np.timedelta64(0)), \n",
    "              ['DIAS' + column[5:]]] = datetime.today() - df_mj[column]\n",
    "    \n",
    "#It seems that sometimes entering and gettint out is switched, that's why we computed in absolute values\n",
    "df_mj['DIAS_CONDENA'] = abs(df_mj['FECHA_SALIDA'] - df_mj['FECHA_INGRESO'])\n",
    "df_mj['DIAS_JUDICIALIZACION'] = df_mj['FECHA_INGRESO'] - df_mj['FECHA_CAPTURA']\n",
    "df_mj['DIAS_LIBRE'] = df_mj['DIAS_INGRESO'] - df_mj['DIAS_CONDENA']\n",
    "#The individual finishes its sentence but she's incarcelated inmediately for another crime\n",
    "df_mj.loc[df_mj.DIAS_CAPTURA < np.timedelta64(0), 'DIAS_CAPTURA'] = np.timedelta64(0)\n",
    "df_mj.loc[df_mj.DIAS_INGRESO < np.timedelta64(0), 'DIAS_INGRESO'] = np.timedelta64(0)\n",
    "df_mj.loc[df_mj.DIAS_LIBRE < np.timedelta64(0), 'DIAS_LIBRE'] = np.timedelta64(0)\n",
    "#The individual is still on jail\n",
    "df_mj.loc[df_mj['DIAS_LIBRE'].isnull(), 'DIAS_LIBRE'] = np.timedelta64(0)\n",
    "\n",
    "#Timedelta variables are parsed to integer variables\n",
    "df_mj[['DIAS_CONDENA', 'DIAS_LIBRE', 'DIAS_INGRESO']] = df_mj[['DIAS_CONDENA', 'DIAS_LIBRE', 'DIAS_INGRESO']].apply(lambda x: x.dt.days, axis = 0)\n",
    "\n",
    "#Find the last date the criminal went out the jail, so that these observations are marked as censored\n",
    "last_df = df_mj[['INTERNOEN', 'FECHA_INGRESO']].groupby('INTERNOEN').apply(lambda x: x.sort_values('FECHA_INGRESO', ascending = False).head(1)).reset_index(drop = True)\n",
    "#Censored\n",
    "last_df['CENSURADO_LIBRES'] = 0\n",
    "df_mj = df_mj.merge(last_df, on = ['INTERNOEN', 'FECHA_INGRESO'], how = 'left')\n",
    "#Event\n",
    "df_mj.loc[df_mj['CENSURADO_LIBRES'].isnull(), 'CENSURADO_LIBRES'] = 1\n",
    "#All criminals that haven't got out of jail yet have zero days out and they are not censored.\n",
    "df_mj.loc[df_mj['FECHA_SALIDA'].isnull(), 'CENSURADO_LIBRES'] = 1\n",
    "#Turned censored variables to integers instead of float\n",
    "df_mj['CENSURADO_LIBRES'] = df_mj['CENSURADO_LIBRES'].astype('int64')\n",
    "\n",
    "#We create a variable to count the amount of times the individual re-entered in jail\n",
    "df_mj = df_mj.merge(df_mj.drop_duplicates(['INTERNOEN', 'FECHA_INGRESO']).groupby(['INTERNOEN']).size().reset_index(name = 'NUMERO_REINCIDENCIAS'), on = 'INTERNOEN', how = 'left')\n",
    "#This is the average amount of crimes the ciminals had before he committed its last crime\n",
    "index_not_last = df_mj.groupby(['INTERNOEN'])['FECHA_INGRESO'].apply(lambda x: x != x.max())\n",
    "df_mj = df_mj.merge(df_mj[index_not_last].groupby(['INTERNOEN', 'FECHA_INGRESO']).size().reset_index(name = 'CRIMENES').groupby('INTERNOEN')['CRIMENES'].mean().reset_index(name = 'CRIMENES_PROMEDIO'), on = 'INTERNOEN', how = 'left')\n",
    "df_mj['CRIMENES_PROMEDIO'].fillna(0, inplace = True)\n",
    "\n",
    "#We dropped SITUACION_JURIDICA and REINCIDENTE as both columns are constants\n",
    "df_mj = df_mj.drop(columns = ['SITUACION_JURIDICA', 'REINCIDENTE'])"
   ]
  },
  {
   "cell_type": "code",
   "execution_count": null,
   "metadata": {},
   "outputs": [],
   "source": []
  }
 ],
 "metadata": {
  "colab": {
   "collapsed_sections": [],
   "name": "project_notebook_minjusticia.ipynb",
   "provenance": []
  },
  "kernelspec": {
   "display_name": "Python 3",
   "language": "python",
   "name": "python3"
  },
  "language_info": {
   "codemirror_mode": {
    "name": "ipython",
    "version": 3
   },
   "file_extension": ".py",
   "mimetype": "text/x-python",
   "name": "python",
   "nbconvert_exporter": "python",
   "pygments_lexer": "ipython3",
   "version": "3.7.4"
  }
 },
 "nbformat": 4,
 "nbformat_minor": 1
}
