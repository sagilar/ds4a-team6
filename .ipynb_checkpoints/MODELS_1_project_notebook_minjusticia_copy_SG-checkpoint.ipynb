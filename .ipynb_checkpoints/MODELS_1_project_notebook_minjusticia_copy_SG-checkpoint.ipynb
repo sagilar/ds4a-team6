{
 "cells": [
  {
   "cell_type": "markdown",
   "metadata": {
    "colab_type": "text",
    "id": "tGVbJSaaXWk6"
   },
   "source": [
    "# Team 6 Project: MINJUSTICIA"
   ]
  },
  {
   "cell_type": "code",
   "execution_count": 3,
   "metadata": {
    "colab": {},
    "colab_type": "code",
    "id": "-Tgl_xzzXWlQ"
   },
   "outputs": [],
   "source": [
    "import pandas as pd\n",
    "import numpy as np\n",
    "from datetime import datetime, timedelta\n",
    "import pandas as pd\n",
    "import numpy as np\n",
    "import powerlaw as plw\n",
    "import networkx as nx\n",
    "import community as community_louvain\n",
    "import seaborn as sns\n",
    "pd.options.display.max_columns = 50\n",
    "\n",
    "path = \"https://raw.githubusercontent.com/sagilar/ds4a-team6/master/retomintic/Data_UpdateJune13/reincidencia11junio2020_clean.csv\"\n",
    "df_mj = pd.read_csv(path, sep=\",\",encoding=\"utf-8\")"
   ]
  },
  {
   "cell_type": "markdown",
   "metadata": {
    "colab_type": "text",
    "id": "80ZORxEqXWlu"
   },
   "source": [
    "# Data"
   ]
  },
  {
   "cell_type": "code",
   "execution_count": null,
   "metadata": {
    "colab": {
     "base_uri": "https://localhost:8080/",
     "height": 337
    },
    "colab_type": "code",
    "id": "nlX1b7XMfH3Z",
    "outputId": "209026fa-a687-491e-a884-c529c55bed46"
   },
   "outputs": [],
   "source": [
    "#Date variables are parsed to datetime\n",
    "df_mj[\"FECHA_CAPTURA\"] = pd.to_datetime(df_mj[\"FECHA_CAPTURA\"])\n",
    "df_mj[\"FECHA_INGRESO\"] = pd.to_datetime(df_mj[\"FECHA_INGRESO\"])\n",
    "df_mj[\"FECHA_SALIDA\"] = pd.to_datetime(df_mj[\"FECHA_SALIDA\"])\n",
    "#Month and year variables are defined\n",
    "df_mj[\"MES_INGRESO_INT\"]=df_mj[\"FECHA_INGRESO\"].dt.strftime('%m')\n",
    "df_mj[\"ANO_INGRESO_INT\"]=df_mj[\"FECHA_INGRESO\"].dt.strftime('%y')\n",
    "#Calculations on how much time have the criminal being outside since its last stay in jail\n",
    "for column in ['FECHA_INGRESO', 'FECHA_SALIDA', 'FECHA_CAPTURA']:\n",
    "    df_mj = df_mj.sort_values(['INTERNOEN', column], ascending = False)\n",
    "    \n",
    "    df_mj['DIAS' + column[5:]] = -1*(df_mj[column].diff()/timedelta(days = 1))\n",
    "\n",
    "    df_mj.loc[(df_mj.INTERNOEN != df_mj.INTERNOEN.shift(1)) | (df_mj['DIAS' + column[5:]] == 0), \n",
    "              ['DIAS' + column[5:]]] = (datetime.today() - df_mj[column])/timedelta(days = 1)\n",
    "    \n",
    "#It seems that sometimes entering and gettint out is switched, that's why we computed in absolute values\n",
    "df_mj['DIAS_CONDENA'] = abs(df_mj['FECHA_SALIDA'] - df_mj['FECHA_INGRESO'])/timedelta(days = 1)\n",
    "df_mj['DIAS_JUDICIALIZACION'] = df_mj['FECHA_INGRESO'] - df_mj['FECHA_CAPTURA']\n",
    "df_mj['DIAS_LIBRE'] = df_mj['DIAS_INGRESO'] - df_mj['DIAS_CONDENA']\n",
    "#The individual finishes its sentence but she's incarcelated inmediately for another crime\n",
    "df_mj.loc[df_mj.DIAS_CAPTURA < 0, 'DIAS_CAPTURA'] = 0\n",
    "df_mj.loc[df_mj.DIAS_INGRESO < 0, 'DIAS_INGRESO'] = 0\n",
    "df_mj.loc[df_mj.DIAS_LIBRE < 0, 'DIAS_LIBRE'] = 0\n",
    "#The individual is still on jail\n",
    "df_mj.loc[df_mj['DIAS_LIBRE'].isnull(), 'DIAS_LIBRE'] = 0\n",
    "\n",
    "#Find the last date the criminal went out the jail, so that these observations are marked as censored\n",
    "last_df = df_mj[['INTERNOEN', 'FECHA_INGRESO']].groupby('INTERNOEN').apply(lambda x: x.sort_values('FECHA_INGRESO', ascending = False).head(1)).reset_index(drop = True)\n",
    "#Censored\n",
    "last_df['CENSURADO_LIBRES'] = 0\n",
    "df_mj = df_mj.merge(last_df, on = ['INTERNOEN', 'FECHA_INGRESO'], how = 'left')\n",
    "#Event\n",
    "df_mj.loc[df_mj['CENSURADO_LIBRES'].isnull(), 'CENSURADO_LIBRES'] = 1\n",
    "#All criminals that haven't got out of jail yet have zero days out and they are not censored.\n",
    "df_mj.loc[df_mj['FECHA_SALIDA'].isnull(), 'CENSURADO_LIBRES'] = 1\n",
    "#Turned censored variables to integers instead of float\n",
    "df_mj['CENSURADO_LIBRES'] = df_mj['CENSURADO_LIBRES'].astype('int64')\n",
    "\n",
    "#We create a variable to count the amount of times the individual re-entered in jail\n",
    "df_mj = df_mj.merge(df_mj.drop_duplicates(['INTERNOEN', 'FECHA_INGRESO']).groupby(['INTERNOEN']).size().reset_index(name = 'NUMERO_REINCIDENCIAS'), on = 'INTERNOEN', how = 'left')\n",
    "\n",
    "#We create a variable to count the number of crimes the individual commited on this times\n",
    "df_mj = df_mj.merge(df_mj.groupby(['INTERNOEN', 'FECHA_INGRESO']).size().to_frame('CRIMENES').reset_index(), on = ['INTERNOEN', 'FECHA_INGRESO'])\n",
    "                    \n",
    "#We dropped SITUACION_JURIDICA and REINCIDENTE as both columns are constants\n",
    "df_mj = df_mj.drop(columns = ['SITUACION_JURIDICA', 'REINCIDENTE'])\n",
    "\n",
    "#Find the correlation across crimes\n",
    "crime = df_mj[['INTERNOEN', 'DELITO']]\n",
    "crime = crime.groupby(['INTERNOEN', 'DELITO']).size().reset_index()\n",
    "crime.columns = ['id', 'crime', 'count']\n",
    "crime = crime.pivot(index='id', columns='crime', values = 'count').fillna(0)\n",
    "corr = crime.corr()\n",
    "\n",
    "#From correlation matrix get similarity function\n",
    "edge_dict = {}\n",
    "h = 0\n",
    "for i in np.arange(corr.shape[0]):\n",
    "    for  j in np.arange(corr.shape[1]):\n",
    "        if i > j:\n",
    "            edge_dict[h] = [corr.columns[i], corr.columns[j], corr.iloc[i, j]]\n",
    "        h+=1\n",
    "\n",
    "#Similarity get defined\n",
    "pd_edges = pd.DataFrame.from_dict(edge_dict).T\n",
    "pd_edges.columns = ['source', 'target', 'weight']\n",
    "pd_edges['weight'] = pd_edges['weight'].astype(float)\n",
    "pd_edges.weight = (pd_edges.weight.max() - pd_edges.weight)\n",
    "\n",
    "#Threshold on the correlation\n",
    "distance_threshold = 0.6925\n",
    "pd_edges['reduced_weight'] = pd_edges.weight\n",
    "pd_edges.loc[pd_edges.weight > distance_threshold, 'reduced_weight'] = 0\n",
    "pd_edges['similarity'] = 1 - pd_edges.reduced_weight/pd_edges.reduced_weight.max()\n",
    "pd_edges.loc[pd_edges.similarity == 1, 'similarity'] = 0\n",
    "\n",
    "#Define graph from threshold on the similarity\n",
    "graph = nx.from_pandas_edgelist(pd_edges.loc[pd_edges.similarity > 0, ['source', 'target', 'weight']])\n",
    "edges_result = pd_edges.loc[pd_edges.similarity > 0, ['source', 'target', 'similarity']]\n",
    "\n",
    "#Find partitions from Louvain heuristics\n",
    "partition = community_louvain.best_partition(graph)\n",
    "\n",
    "#Add partition to node list\n",
    "nodes_result = pd.DataFrame.from_dict(partition.items())\n",
    "nodes_result.columns = ['Id', 'community'] \n",
    "nodes_result['label'] = nodes_result['Id']\n",
    "\n",
    "#Add degrees to node list\n",
    "nodes_result = nodes_result.merge(pd.DataFrame(graph.degree, columns = ['Id', 'degree']), on = 'Id')\n",
    "\n",
    "#Add centrality to node list\n",
    "centrality = pd.DataFrame.from_dict(nx.eigenvector_centrality(graph).items()).reset_index(drop = True)\n",
    "centrality.columns = ['Id', 'eigencentrality']\n",
    "nodes_result = nodes_result.merge(centrality, on = 'Id')\n",
    "\n",
    "#Add graph information to data\n",
    "df_mj = df_mj.merge(nodes_result[['Id', 'community', 'eigencentrality', 'degree']], left_on = 'DELITO', right_on = 'Id')\n",
    "\n",
    "#Add how many times a crime repeats\n",
    "delitos_df = pd.DataFrame(df_mj.DELITO.value_counts().sort_values()).reset_index()\n",
    "delitos_df['logDelito'] = np.log(delitos_df.DELITO) + 1\n",
    "df_mj = df_mj.merge(delitos_df[['index', 'logDelito']], left_on = 'DELITO', right_on = 'index')\n",
    "\n",
    "#Add dummy to test whether the individuals was in jaiñ \n",
    "df_mj['EN_CARCEL'] = 0\n",
    "df_mj.loc[df_mj['ESTADO_INGRESO'].isin(['Espera Traslado', 'Intramuros']),'EN_CARCEL'] = 1\n",
    "\n",
    "#Makes more readable the education years\n",
    "df_mj['NIVEL_EDUCATIVO'] = df_mj['NIVEL_EDUCATIVO'].map(\n",
    "            {'ANALFABETA': 0, 'CICLO I': 2, 'CICLO II': 5, 'CICLO III': 9,\n",
    "            'CICLO IV': 11, 'TECNICO': 13, 'TECNOLOGICO': 14, 'PROFESIONAL': 16,\n",
    "            'MAGISTER': 18, 'POST GRADO': 18})"
   ]
  },
  {
   "cell_type": "code",
   "execution_count": 38,
   "metadata": {},
   "outputs": [],
   "source": [
    "df_mj = df_mj.merge(df_mj.groupby(['INTERNOEN', 'FECHA_INGRESO']).size().to_frame('CRIMENES').reset_index(), on = ['INTERNOEN', 'FECHA_INGRESO'])"
   ]
  },
  {
   "cell_type": "code",
   "execution_count": 41,
   "metadata": {},
   "outputs": [],
   "source": [
    "df_mj.head()\n",
    "\n",
    "cuantitativas = ['EDAD', 'NIVEL_EDUCATIVO', 'MES_INGRESO_INT', 'ANO_INGRESO_INT', 'DIAS_INGRESO', 'DIAS_SALIDA', 'DIAS_CAPTURA', 'DIAS_JUDICIALIZACION', 'DIAS_LIBRE', 'NUMERO_REINCIDENCIAS', 'CRIMENES', 'eigencentrality', 'degree', 'logDelito']\n",
    "categoricas = ['TENTATIVA', 'AGRAVADO', 'CALIFICADO', 'GENERO', 'GENERO', 'REGIONAL', 'HIJOS_MENORES', 'ESTADO', 'community', 'EN_CARCEL', 'CENSURADO_LIBRES']"
   ]
  }
 ],
 "metadata": {
  "colab": {
   "collapsed_sections": [],
   "name": "project_notebook_minjusticia.ipynb",
   "provenance": []
  },
  "kernelspec": {
   "display_name": "Python 3",
   "language": "python",
   "name": "python3"
  },
  "language_info": {
   "codemirror_mode": {
    "name": "ipython",
    "version": 3
   },
   "file_extension": ".py",
   "mimetype": "text/x-python",
   "name": "python",
   "nbconvert_exporter": "python",
   "pygments_lexer": "ipython3",
   "version": "3.6.9"
  }
 },
 "nbformat": 4,
 "nbformat_minor": 1
}
