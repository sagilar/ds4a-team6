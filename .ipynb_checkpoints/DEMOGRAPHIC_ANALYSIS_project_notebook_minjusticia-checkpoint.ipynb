{
 "cells": [
  {
   "cell_type": "markdown",
   "metadata": {
    "colab_type": "text",
    "id": "tGVbJSaaXWk6"
   },
   "source": [
    "# Team 6 Project: MINJUSTICIA"
   ]
  },
  {
   "cell_type": "code",
   "execution_count": 6,
   "metadata": {
    "colab": {},
    "colab_type": "code",
    "id": "-Tgl_xzzXWlQ"
   },
   "outputs": [],
   "source": [
    "import pandas as pd\n",
    "import numpy as np\n",
    "import calendar\n",
    "from matplotlib import pyplot as plt\n",
    "import seaborn as sns\n",
    "%matplotlib inline\n",
    "pd.options.display.max_rows = 7\n",
    "import requests\n",
    "import io\n",
    "from datetime import datetime\n",
    "import geopandas\n",
    "import branca\n",
    "import folium # package for making maps, please make sure to use a version older than 1.0.0.\n",
    "from folium.plugins import TimeSliderChoropleth"
   ]
  },
  {
   "cell_type": "markdown",
   "metadata": {
    "colab_type": "text",
    "id": "80ZORxEqXWlu"
   },
   "source": [
    "Data"
   ]
  },
  {
   "cell_type": "code",
   "execution_count": 2,
   "metadata": {
    "colab": {
     "base_uri": "https://localhost:8080/",
     "height": 631
    },
    "colab_type": "code",
    "id": "6XZ1VBiLXWl6",
    "outputId": "32cb19cf-f596-408c-fb6b-418c7fc6f017"
   },
   "outputs": [
    {
     "data": {
      "text/html": [
       "<div>\n",
       "<style scoped>\n",
       "    .dataframe tbody tr th:only-of-type {\n",
       "        vertical-align: middle;\n",
       "    }\n",
       "\n",
       "    .dataframe tbody tr th {\n",
       "        vertical-align: top;\n",
       "    }\n",
       "\n",
       "    .dataframe thead th {\n",
       "        text-align: right;\n",
       "    }\n",
       "</style>\n",
       "<table border=\"1\" class=\"dataframe\">\n",
       "  <thead>\n",
       "    <tr style=\"text-align: right;\">\n",
       "      <th></th>\n",
       "      <th>INTERNOEN</th>\n",
       "      <th>DELITO</th>\n",
       "      <th>TITULO_DELITO</th>\n",
       "      <th>SUBTITULO_DELITO</th>\n",
       "      <th>TENTATIVA</th>\n",
       "      <th>AGRAVADO</th>\n",
       "      <th>CALIFICADO</th>\n",
       "      <th>FECHA_INGRESO</th>\n",
       "      <th>FECHA_SALIDA</th>\n",
       "      <th>FECHA_CAPTURA</th>\n",
       "      <th>...</th>\n",
       "      <th>ACTIVIDADES_ENSEÑANZA</th>\n",
       "      <th>NIVEL_EDUCATIVO</th>\n",
       "      <th>HIJOS_MENORES</th>\n",
       "      <th>CONDIC_EXPECIONAL</th>\n",
       "      <th>CODIGO_ESTABLECIMIENTO</th>\n",
       "      <th>ESTABLECIMIENTO</th>\n",
       "      <th>DEPTO_ESTABLECIMIENTO</th>\n",
       "      <th>MPIO_ESTABLECIMIENTO</th>\n",
       "      <th>REGIONAL</th>\n",
       "      <th>ESTADO</th>\n",
       "    </tr>\n",
       "  </thead>\n",
       "  <tbody>\n",
       "    <tr>\n",
       "      <th>0</th>\n",
       "      <td>5496C737C624136DB406CFC6744C684C070A3CD8</td>\n",
       "      <td>FABRICACION TRAFICO Y PORTE DE ARMAS DE FUEGO ...</td>\n",
       "      <td>CONTRA LA SEGURIDAD PUBLICA</td>\n",
       "      <td>DE LOS DELITOS DE PELIGRO COMUN O QUE PUEDEN O...</td>\n",
       "      <td>N</td>\n",
       "      <td>N</td>\n",
       "      <td>N</td>\n",
       "      <td>01/01/10</td>\n",
       "      <td>12/05/11</td>\n",
       "      <td>30/12/09</td>\n",
       "      <td>...</td>\n",
       "      <td>NO</td>\n",
       "      <td>CICLO III</td>\n",
       "      <td>SI</td>\n",
       "      <td>NaN</td>\n",
       "      <td>502</td>\n",
       "      <td>EPMSC MEDELLIN</td>\n",
       "      <td>ANTIOQUIA</td>\n",
       "      <td>MEDELLIN</td>\n",
       "      <td>NOROESTE</td>\n",
       "      <td>Baja</td>\n",
       "    </tr>\n",
       "    <tr>\n",
       "      <th>1</th>\n",
       "      <td>1097561F306939C26DB4AC60377063DA7E2B079F</td>\n",
       "      <td>TRAFICO FABRICACION O PORTE DE ESTUPEFACIENTES</td>\n",
       "      <td>CONTRA LA SALUD PUBLICA</td>\n",
       "      <td>DE LAS AFECTACIONES A LA SALUD PUBLICA</td>\n",
       "      <td>N</td>\n",
       "      <td>N</td>\n",
       "      <td>N</td>\n",
       "      <td>01/01/10</td>\n",
       "      <td>05/12/11</td>\n",
       "      <td>30/12/09</td>\n",
       "      <td>...</td>\n",
       "      <td>NO</td>\n",
       "      <td>CICLO I</td>\n",
       "      <td>SI</td>\n",
       "      <td>NaN</td>\n",
       "      <td>502</td>\n",
       "      <td>EPMSC MEDELLIN</td>\n",
       "      <td>ANTIOQUIA</td>\n",
       "      <td>MEDELLIN</td>\n",
       "      <td>NOROESTE</td>\n",
       "      <td>Baja</td>\n",
       "    </tr>\n",
       "    <tr>\n",
       "      <th>2</th>\n",
       "      <td>CB7033A707ADE673139F8A17CAD26AD54696C135</td>\n",
       "      <td>FABRICACION TRAFICO Y PORTE DE ARMAS DE FUEGO ...</td>\n",
       "      <td>CONTRA LA SEGURIDAD PUBLICA</td>\n",
       "      <td>DE LOS DELITOS DE PELIGRO COMUN O QUE PUEDEN O...</td>\n",
       "      <td>N</td>\n",
       "      <td>N</td>\n",
       "      <td>N</td>\n",
       "      <td>01/01/10</td>\n",
       "      <td>06/08/13</td>\n",
       "      <td>30/12/09</td>\n",
       "      <td>...</td>\n",
       "      <td>NO</td>\n",
       "      <td>CICLO I</td>\n",
       "      <td>SI</td>\n",
       "      <td>NaN</td>\n",
       "      <td>235</td>\n",
       "      <td>EPAMSCAS POPAYAN (ERE)</td>\n",
       "      <td>CAUCA</td>\n",
       "      <td>POPAYAN</td>\n",
       "      <td>OCCIDENTE</td>\n",
       "      <td>Baja</td>\n",
       "    </tr>\n",
       "    <tr>\n",
       "      <th>...</th>\n",
       "      <td>...</td>\n",
       "      <td>...</td>\n",
       "      <td>...</td>\n",
       "      <td>...</td>\n",
       "      <td>...</td>\n",
       "      <td>...</td>\n",
       "      <td>...</td>\n",
       "      <td>...</td>\n",
       "      <td>...</td>\n",
       "      <td>...</td>\n",
       "      <td>...</td>\n",
       "      <td>...</td>\n",
       "      <td>...</td>\n",
       "      <td>...</td>\n",
       "      <td>...</td>\n",
       "      <td>...</td>\n",
       "      <td>...</td>\n",
       "      <td>...</td>\n",
       "      <td>...</td>\n",
       "      <td>...</td>\n",
       "      <td>...</td>\n",
       "    </tr>\n",
       "    <tr>\n",
       "      <th>142896</th>\n",
       "      <td>856368363834654A5F64534163FE7C7EE6A8A1CA</td>\n",
       "      <td>FABRICACION TRAFICO Y PORTE DE ARMAS DE FUEGO ...</td>\n",
       "      <td>CONTRA LA SEGURIDAD PUBLICA</td>\n",
       "      <td>DE LOS DELITOS DE PELIGRO COMUN O QUE PUEDEN O...</td>\n",
       "      <td>N</td>\n",
       "      <td>N</td>\n",
       "      <td>N</td>\n",
       "      <td>11/06/20</td>\n",
       "      <td>NaN</td>\n",
       "      <td>13/08/16</td>\n",
       "      <td>...</td>\n",
       "      <td>NO</td>\n",
       "      <td>CICLO I</td>\n",
       "      <td>NO</td>\n",
       "      <td>CON DISCAPACIDAD</td>\n",
       "      <td>613</td>\n",
       "      <td>EPMSC ARMENIA</td>\n",
       "      <td>QUINDIO</td>\n",
       "      <td>ARMENIA</td>\n",
       "      <td>VIEJO CALDAS</td>\n",
       "      <td>Activo</td>\n",
       "    </tr>\n",
       "    <tr>\n",
       "      <th>142897</th>\n",
       "      <td>E5385D722533896751FBF38A2129D97966267AB1</td>\n",
       "      <td>HURTO</td>\n",
       "      <td>CONTRA EL PATRIMONIO ECONOMICO</td>\n",
       "      <td>DE LA ESTAFA</td>\n",
       "      <td>S</td>\n",
       "      <td>N</td>\n",
       "      <td>N</td>\n",
       "      <td>11/06/20</td>\n",
       "      <td>NaN</td>\n",
       "      <td>09/06/20</td>\n",
       "      <td>...</td>\n",
       "      <td>NO</td>\n",
       "      <td>CICLO I</td>\n",
       "      <td>SI</td>\n",
       "      <td>AFRO COLOMBIANO</td>\n",
       "      <td>5373</td>\n",
       "      <td>COMPLEJO CARCELARIO Y PENITENCIARIO DE MEDELLI...</td>\n",
       "      <td>ANTIOQUIA</td>\n",
       "      <td>MEDELLIN</td>\n",
       "      <td>NOROESTE</td>\n",
       "      <td>Activo</td>\n",
       "    </tr>\n",
       "    <tr>\n",
       "      <th>142898</th>\n",
       "      <td>FA176CD9955DAF77F313343E29136E87FE8B0056</td>\n",
       "      <td>FABRICACION TRAFICO Y PORTE DE ARMAS DE FUEGO ...</td>\n",
       "      <td>CONTRA LA SEGURIDAD PUBLICA</td>\n",
       "      <td>DE LOS DELITOS DE PELIGRO COMUN O QUE PUEDEN O...</td>\n",
       "      <td>N</td>\n",
       "      <td>N</td>\n",
       "      <td>N</td>\n",
       "      <td>11/06/20</td>\n",
       "      <td>NaN</td>\n",
       "      <td>02/08/18</td>\n",
       "      <td>...</td>\n",
       "      <td>NO</td>\n",
       "      <td>CICLO IV</td>\n",
       "      <td>SI</td>\n",
       "      <td>NaN</td>\n",
       "      <td>204</td>\n",
       "      <td>EPMSC EL BORDO</td>\n",
       "      <td>CAUCA</td>\n",
       "      <td>EL BORDO</td>\n",
       "      <td>OCCIDENTE</td>\n",
       "      <td>Activo</td>\n",
       "    </tr>\n",
       "  </tbody>\n",
       "</table>\n",
       "<p>142899 rows × 32 columns</p>\n",
       "</div>"
      ],
      "text/plain": [
       "                                       INTERNOEN  \\\n",
       "0       5496C737C624136DB406CFC6744C684C070A3CD8   \n",
       "1       1097561F306939C26DB4AC60377063DA7E2B079F   \n",
       "2       CB7033A707ADE673139F8A17CAD26AD54696C135   \n",
       "...                                          ...   \n",
       "142896  856368363834654A5F64534163FE7C7EE6A8A1CA   \n",
       "142897  E5385D722533896751FBF38A2129D97966267AB1   \n",
       "142898  FA176CD9955DAF77F313343E29136E87FE8B0056   \n",
       "\n",
       "                                                   DELITO  \\\n",
       "0       FABRICACION TRAFICO Y PORTE DE ARMAS DE FUEGO ...   \n",
       "1          TRAFICO FABRICACION O PORTE DE ESTUPEFACIENTES   \n",
       "2       FABRICACION TRAFICO Y PORTE DE ARMAS DE FUEGO ...   \n",
       "...                                                   ...   \n",
       "142896  FABRICACION TRAFICO Y PORTE DE ARMAS DE FUEGO ...   \n",
       "142897                                              HURTO   \n",
       "142898  FABRICACION TRAFICO Y PORTE DE ARMAS DE FUEGO ...   \n",
       "\n",
       "                         TITULO_DELITO  \\\n",
       "0          CONTRA LA SEGURIDAD PUBLICA   \n",
       "1              CONTRA LA SALUD PUBLICA   \n",
       "2          CONTRA LA SEGURIDAD PUBLICA   \n",
       "...                                ...   \n",
       "142896     CONTRA LA SEGURIDAD PUBLICA   \n",
       "142897  CONTRA EL PATRIMONIO ECONOMICO   \n",
       "142898     CONTRA LA SEGURIDAD PUBLICA   \n",
       "\n",
       "                                         SUBTITULO_DELITO TENTATIVA AGRAVADO  \\\n",
       "0       DE LOS DELITOS DE PELIGRO COMUN O QUE PUEDEN O...         N        N   \n",
       "1                  DE LAS AFECTACIONES A LA SALUD PUBLICA         N        N   \n",
       "2       DE LOS DELITOS DE PELIGRO COMUN O QUE PUEDEN O...         N        N   \n",
       "...                                                   ...       ...      ...   \n",
       "142896  DE LOS DELITOS DE PELIGRO COMUN O QUE PUEDEN O...         N        N   \n",
       "142897                                       DE LA ESTAFA         S        N   \n",
       "142898  DE LOS DELITOS DE PELIGRO COMUN O QUE PUEDEN O...         N        N   \n",
       "\n",
       "       CALIFICADO FECHA_INGRESO FECHA_SALIDA FECHA_CAPTURA  ...  \\\n",
       "0               N      01/01/10     12/05/11      30/12/09  ...   \n",
       "1               N      01/01/10     05/12/11      30/12/09  ...   \n",
       "2               N      01/01/10     06/08/13      30/12/09  ...   \n",
       "...           ...           ...          ...           ...  ...   \n",
       "142896          N      11/06/20          NaN      13/08/16  ...   \n",
       "142897          N      11/06/20          NaN      09/06/20  ...   \n",
       "142898          N      11/06/20          NaN      02/08/18  ...   \n",
       "\n",
       "       ACTIVIDADES_ENSEÑANZA  NIVEL_EDUCATIVO  HIJOS_MENORES  \\\n",
       "0                         NO        CICLO III             SI   \n",
       "1                         NO          CICLO I             SI   \n",
       "2                         NO          CICLO I             SI   \n",
       "...                      ...              ...            ...   \n",
       "142896                    NO          CICLO I             NO   \n",
       "142897                    NO          CICLO I             SI   \n",
       "142898                    NO         CICLO IV             SI   \n",
       "\n",
       "       CONDIC_EXPECIONAL CODIGO_ESTABLECIMIENTO  \\\n",
       "0                    NaN                    502   \n",
       "1                    NaN                    502   \n",
       "2                    NaN                    235   \n",
       "...                  ...                    ...   \n",
       "142896  CON DISCAPACIDAD                    613   \n",
       "142897   AFRO COLOMBIANO                   5373   \n",
       "142898               NaN                    204   \n",
       "\n",
       "                                          ESTABLECIMIENTO  \\\n",
       "0                                          EPMSC MEDELLIN   \n",
       "1                                          EPMSC MEDELLIN   \n",
       "2                                  EPAMSCAS POPAYAN (ERE)   \n",
       "...                                                   ...   \n",
       "142896                                      EPMSC ARMENIA   \n",
       "142897  COMPLEJO CARCELARIO Y PENITENCIARIO DE MEDELLI...   \n",
       "142898                                     EPMSC EL BORDO   \n",
       "\n",
       "       DEPTO_ESTABLECIMIENTO MPIO_ESTABLECIMIENTO      REGIONAL  ESTADO  \n",
       "0                  ANTIOQUIA             MEDELLIN      NOROESTE    Baja  \n",
       "1                  ANTIOQUIA             MEDELLIN      NOROESTE    Baja  \n",
       "2                      CAUCA              POPAYAN     OCCIDENTE    Baja  \n",
       "...                      ...                  ...           ...     ...  \n",
       "142896               QUINDIO              ARMENIA  VIEJO CALDAS  Activo  \n",
       "142897             ANTIOQUIA             MEDELLIN      NOROESTE  Activo  \n",
       "142898                 CAUCA             EL BORDO     OCCIDENTE  Activo  \n",
       "\n",
       "[142899 rows x 32 columns]"
      ]
     },
     "execution_count": 2,
     "metadata": {},
     "output_type": "execute_result"
    }
   ],
   "source": [
    "url=\"https://raw.githubusercontent.com/sagilar/ds4a-team6/master/retomintic/Data_UpdateJune13/reincidencia11junio2020_clean.csv\"\n",
    "df_mj = pd.read_csv(url,sep=\",\",encoding=\"utf-8\")\n",
    "df_mj"
   ]
  },
  {
   "cell_type": "code",
   "execution_count": 3,
   "metadata": {
    "colab": {
     "base_uri": "https://localhost:8080/",
     "height": 201
    },
    "colab_type": "code",
    "id": "WndeGwuDbz8L",
    "outputId": "e2d5538a-46c8-46fd-cee9-d3bb6166d2d2"
   },
   "outputs": [
    {
     "data": {
      "text/plain": [
       "Index(['INTERNOEN', 'DELITO', 'TITULO_DELITO', 'SUBTITULO_DELITO', 'TENTATIVA',\n",
       "       'AGRAVADO', 'CALIFICADO', 'FECHA_INGRESO', 'FECHA_SALIDA',\n",
       "       'FECHA_CAPTURA', 'SITUACION_JURIDICA', 'ANO_NACIMIENTO', 'EDAD',\n",
       "       'GENERO', 'ESTADO_CIVIL', 'PAIS_INTERNO', 'DEPARTAMENTO', 'CIUDAD',\n",
       "       'REINCIDENTE', 'ESTADO_INGRESO', 'ACTIVIDADES_TRABAJO',\n",
       "       'ACTIVIDADES_ESTUDIO', 'ACTIVIDADES_ENSEÑANZA', 'NIVEL_EDUCATIVO',\n",
       "       'HIJOS_MENORES', 'CONDIC_EXPECIONAL', 'CODIGO_ESTABLECIMIENTO',\n",
       "       'ESTABLECIMIENTO', 'DEPTO_ESTABLECIMIENTO', 'MPIO_ESTABLECIMIENTO',\n",
       "       'REGIONAL', 'ESTADO'],\n",
       "      dtype='object')"
      ]
     },
     "execution_count": 3,
     "metadata": {},
     "output_type": "execute_result"
    }
   ],
   "source": [
    "df_mj.columns"
   ]
  },
  {
   "cell_type": "code",
   "execution_count": 4,
   "metadata": {
    "colab": {
     "base_uri": "https://localhost:8080/",
     "height": 631
    },
    "colab_type": "code",
    "id": "qcYiOJo5XWmO",
    "outputId": "bea0f5be-e8a4-42a0-81be-31608b53c908"
   },
   "outputs": [
    {
     "data": {
      "text/html": [
       "<div>\n",
       "<style scoped>\n",
       "    .dataframe tbody tr th:only-of-type {\n",
       "        vertical-align: middle;\n",
       "    }\n",
       "\n",
       "    .dataframe tbody tr th {\n",
       "        vertical-align: top;\n",
       "    }\n",
       "\n",
       "    .dataframe thead th {\n",
       "        text-align: right;\n",
       "    }\n",
       "</style>\n",
       "<table border=\"1\" class=\"dataframe\">\n",
       "  <thead>\n",
       "    <tr style=\"text-align: right;\">\n",
       "      <th></th>\n",
       "      <th>INTERNOEN</th>\n",
       "      <th>DELITO</th>\n",
       "      <th>TITULO_DELITO</th>\n",
       "      <th>SUBTITULO_DELITO</th>\n",
       "      <th>TENTATIVA</th>\n",
       "      <th>AGRAVADO</th>\n",
       "      <th>CALIFICADO</th>\n",
       "      <th>FECHA_INGRESO</th>\n",
       "      <th>FECHA_SALIDA</th>\n",
       "      <th>FECHA_CAPTURA</th>\n",
       "      <th>...</th>\n",
       "      <th>NIVEL_EDUCATIVO</th>\n",
       "      <th>HIJOS_MENORES</th>\n",
       "      <th>CONDIC_EXPECIONAL</th>\n",
       "      <th>CODIGO_ESTABLECIMIENTO</th>\n",
       "      <th>ESTABLECIMIENTO</th>\n",
       "      <th>DEPTO_ESTABLECIMIENTO</th>\n",
       "      <th>MPIO_ESTABLECIMIENTO</th>\n",
       "      <th>REGIONAL</th>\n",
       "      <th>ESTADO</th>\n",
       "      <th>MES_INGRESO_INT</th>\n",
       "    </tr>\n",
       "  </thead>\n",
       "  <tbody>\n",
       "    <tr>\n",
       "      <th>0</th>\n",
       "      <td>5496C737C624136DB406CFC6744C684C070A3CD8</td>\n",
       "      <td>FABRICACION TRAFICO Y PORTE DE ARMAS DE FUEGO ...</td>\n",
       "      <td>CONTRA LA SEGURIDAD PUBLICA</td>\n",
       "      <td>DE LOS DELITOS DE PELIGRO COMUN O QUE PUEDEN O...</td>\n",
       "      <td>N</td>\n",
       "      <td>N</td>\n",
       "      <td>N</td>\n",
       "      <td>2010-01-01</td>\n",
       "      <td>12/05/11</td>\n",
       "      <td>2009-12-30</td>\n",
       "      <td>...</td>\n",
       "      <td>CICLO III</td>\n",
       "      <td>SI</td>\n",
       "      <td>NaN</td>\n",
       "      <td>502</td>\n",
       "      <td>EPMSC MEDELLIN</td>\n",
       "      <td>ANTIOQUIA</td>\n",
       "      <td>MEDELLIN</td>\n",
       "      <td>NOROESTE</td>\n",
       "      <td>Baja</td>\n",
       "      <td>01</td>\n",
       "    </tr>\n",
       "    <tr>\n",
       "      <th>1</th>\n",
       "      <td>1097561F306939C26DB4AC60377063DA7E2B079F</td>\n",
       "      <td>TRAFICO FABRICACION O PORTE DE ESTUPEFACIENTES</td>\n",
       "      <td>CONTRA LA SALUD PUBLICA</td>\n",
       "      <td>DE LAS AFECTACIONES A LA SALUD PUBLICA</td>\n",
       "      <td>N</td>\n",
       "      <td>N</td>\n",
       "      <td>N</td>\n",
       "      <td>2010-01-01</td>\n",
       "      <td>05/12/11</td>\n",
       "      <td>2009-12-30</td>\n",
       "      <td>...</td>\n",
       "      <td>CICLO I</td>\n",
       "      <td>SI</td>\n",
       "      <td>NaN</td>\n",
       "      <td>502</td>\n",
       "      <td>EPMSC MEDELLIN</td>\n",
       "      <td>ANTIOQUIA</td>\n",
       "      <td>MEDELLIN</td>\n",
       "      <td>NOROESTE</td>\n",
       "      <td>Baja</td>\n",
       "      <td>01</td>\n",
       "    </tr>\n",
       "    <tr>\n",
       "      <th>2</th>\n",
       "      <td>CB7033A707ADE673139F8A17CAD26AD54696C135</td>\n",
       "      <td>FABRICACION TRAFICO Y PORTE DE ARMAS DE FUEGO ...</td>\n",
       "      <td>CONTRA LA SEGURIDAD PUBLICA</td>\n",
       "      <td>DE LOS DELITOS DE PELIGRO COMUN O QUE PUEDEN O...</td>\n",
       "      <td>N</td>\n",
       "      <td>N</td>\n",
       "      <td>N</td>\n",
       "      <td>2010-01-01</td>\n",
       "      <td>06/08/13</td>\n",
       "      <td>2009-12-30</td>\n",
       "      <td>...</td>\n",
       "      <td>CICLO I</td>\n",
       "      <td>SI</td>\n",
       "      <td>NaN</td>\n",
       "      <td>235</td>\n",
       "      <td>EPAMSCAS POPAYAN (ERE)</td>\n",
       "      <td>CAUCA</td>\n",
       "      <td>POPAYAN</td>\n",
       "      <td>OCCIDENTE</td>\n",
       "      <td>Baja</td>\n",
       "      <td>01</td>\n",
       "    </tr>\n",
       "    <tr>\n",
       "      <th>...</th>\n",
       "      <td>...</td>\n",
       "      <td>...</td>\n",
       "      <td>...</td>\n",
       "      <td>...</td>\n",
       "      <td>...</td>\n",
       "      <td>...</td>\n",
       "      <td>...</td>\n",
       "      <td>...</td>\n",
       "      <td>...</td>\n",
       "      <td>...</td>\n",
       "      <td>...</td>\n",
       "      <td>...</td>\n",
       "      <td>...</td>\n",
       "      <td>...</td>\n",
       "      <td>...</td>\n",
       "      <td>...</td>\n",
       "      <td>...</td>\n",
       "      <td>...</td>\n",
       "      <td>...</td>\n",
       "      <td>...</td>\n",
       "      <td>...</td>\n",
       "    </tr>\n",
       "    <tr>\n",
       "      <th>142896</th>\n",
       "      <td>856368363834654A5F64534163FE7C7EE6A8A1CA</td>\n",
       "      <td>FABRICACION TRAFICO Y PORTE DE ARMAS DE FUEGO ...</td>\n",
       "      <td>CONTRA LA SEGURIDAD PUBLICA</td>\n",
       "      <td>DE LOS DELITOS DE PELIGRO COMUN O QUE PUEDEN O...</td>\n",
       "      <td>N</td>\n",
       "      <td>N</td>\n",
       "      <td>N</td>\n",
       "      <td>2020-11-06</td>\n",
       "      <td>NaN</td>\n",
       "      <td>2016-08-13</td>\n",
       "      <td>...</td>\n",
       "      <td>CICLO I</td>\n",
       "      <td>NO</td>\n",
       "      <td>CON DISCAPACIDAD</td>\n",
       "      <td>613</td>\n",
       "      <td>EPMSC ARMENIA</td>\n",
       "      <td>QUINDIO</td>\n",
       "      <td>ARMENIA</td>\n",
       "      <td>VIEJO CALDAS</td>\n",
       "      <td>Activo</td>\n",
       "      <td>11</td>\n",
       "    </tr>\n",
       "    <tr>\n",
       "      <th>142897</th>\n",
       "      <td>E5385D722533896751FBF38A2129D97966267AB1</td>\n",
       "      <td>HURTO</td>\n",
       "      <td>CONTRA EL PATRIMONIO ECONOMICO</td>\n",
       "      <td>DE LA ESTAFA</td>\n",
       "      <td>S</td>\n",
       "      <td>N</td>\n",
       "      <td>N</td>\n",
       "      <td>2020-11-06</td>\n",
       "      <td>NaN</td>\n",
       "      <td>2020-09-06</td>\n",
       "      <td>...</td>\n",
       "      <td>CICLO I</td>\n",
       "      <td>SI</td>\n",
       "      <td>AFRO COLOMBIANO</td>\n",
       "      <td>5373</td>\n",
       "      <td>COMPLEJO CARCELARIO Y PENITENCIARIO DE MEDELLI...</td>\n",
       "      <td>ANTIOQUIA</td>\n",
       "      <td>MEDELLIN</td>\n",
       "      <td>NOROESTE</td>\n",
       "      <td>Activo</td>\n",
       "      <td>11</td>\n",
       "    </tr>\n",
       "    <tr>\n",
       "      <th>142898</th>\n",
       "      <td>FA176CD9955DAF77F313343E29136E87FE8B0056</td>\n",
       "      <td>FABRICACION TRAFICO Y PORTE DE ARMAS DE FUEGO ...</td>\n",
       "      <td>CONTRA LA SEGURIDAD PUBLICA</td>\n",
       "      <td>DE LOS DELITOS DE PELIGRO COMUN O QUE PUEDEN O...</td>\n",
       "      <td>N</td>\n",
       "      <td>N</td>\n",
       "      <td>N</td>\n",
       "      <td>2020-11-06</td>\n",
       "      <td>NaN</td>\n",
       "      <td>2018-02-08</td>\n",
       "      <td>...</td>\n",
       "      <td>CICLO IV</td>\n",
       "      <td>SI</td>\n",
       "      <td>NaN</td>\n",
       "      <td>204</td>\n",
       "      <td>EPMSC EL BORDO</td>\n",
       "      <td>CAUCA</td>\n",
       "      <td>EL BORDO</td>\n",
       "      <td>OCCIDENTE</td>\n",
       "      <td>Activo</td>\n",
       "      <td>11</td>\n",
       "    </tr>\n",
       "  </tbody>\n",
       "</table>\n",
       "<p>142899 rows × 33 columns</p>\n",
       "</div>"
      ],
      "text/plain": [
       "                                       INTERNOEN  \\\n",
       "0       5496C737C624136DB406CFC6744C684C070A3CD8   \n",
       "1       1097561F306939C26DB4AC60377063DA7E2B079F   \n",
       "2       CB7033A707ADE673139F8A17CAD26AD54696C135   \n",
       "...                                          ...   \n",
       "142896  856368363834654A5F64534163FE7C7EE6A8A1CA   \n",
       "142897  E5385D722533896751FBF38A2129D97966267AB1   \n",
       "142898  FA176CD9955DAF77F313343E29136E87FE8B0056   \n",
       "\n",
       "                                                   DELITO  \\\n",
       "0       FABRICACION TRAFICO Y PORTE DE ARMAS DE FUEGO ...   \n",
       "1          TRAFICO FABRICACION O PORTE DE ESTUPEFACIENTES   \n",
       "2       FABRICACION TRAFICO Y PORTE DE ARMAS DE FUEGO ...   \n",
       "...                                                   ...   \n",
       "142896  FABRICACION TRAFICO Y PORTE DE ARMAS DE FUEGO ...   \n",
       "142897                                              HURTO   \n",
       "142898  FABRICACION TRAFICO Y PORTE DE ARMAS DE FUEGO ...   \n",
       "\n",
       "                         TITULO_DELITO  \\\n",
       "0          CONTRA LA SEGURIDAD PUBLICA   \n",
       "1              CONTRA LA SALUD PUBLICA   \n",
       "2          CONTRA LA SEGURIDAD PUBLICA   \n",
       "...                                ...   \n",
       "142896     CONTRA LA SEGURIDAD PUBLICA   \n",
       "142897  CONTRA EL PATRIMONIO ECONOMICO   \n",
       "142898     CONTRA LA SEGURIDAD PUBLICA   \n",
       "\n",
       "                                         SUBTITULO_DELITO TENTATIVA AGRAVADO  \\\n",
       "0       DE LOS DELITOS DE PELIGRO COMUN O QUE PUEDEN O...         N        N   \n",
       "1                  DE LAS AFECTACIONES A LA SALUD PUBLICA         N        N   \n",
       "2       DE LOS DELITOS DE PELIGRO COMUN O QUE PUEDEN O...         N        N   \n",
       "...                                                   ...       ...      ...   \n",
       "142896  DE LOS DELITOS DE PELIGRO COMUN O QUE PUEDEN O...         N        N   \n",
       "142897                                       DE LA ESTAFA         S        N   \n",
       "142898  DE LOS DELITOS DE PELIGRO COMUN O QUE PUEDEN O...         N        N   \n",
       "\n",
       "       CALIFICADO FECHA_INGRESO FECHA_SALIDA FECHA_CAPTURA  ...  \\\n",
       "0               N    2010-01-01     12/05/11    2009-12-30  ...   \n",
       "1               N    2010-01-01     05/12/11    2009-12-30  ...   \n",
       "2               N    2010-01-01     06/08/13    2009-12-30  ...   \n",
       "...           ...           ...          ...           ...  ...   \n",
       "142896          N    2020-11-06          NaN    2016-08-13  ...   \n",
       "142897          N    2020-11-06          NaN    2020-09-06  ...   \n",
       "142898          N    2020-11-06          NaN    2018-02-08  ...   \n",
       "\n",
       "       NIVEL_EDUCATIVO  HIJOS_MENORES  CONDIC_EXPECIONAL  \\\n",
       "0            CICLO III             SI                NaN   \n",
       "1              CICLO I             SI                NaN   \n",
       "2              CICLO I             SI                NaN   \n",
       "...                ...            ...                ...   \n",
       "142896         CICLO I             NO   CON DISCAPACIDAD   \n",
       "142897         CICLO I             SI    AFRO COLOMBIANO   \n",
       "142898        CICLO IV             SI                NaN   \n",
       "\n",
       "       CODIGO_ESTABLECIMIENTO  \\\n",
       "0                         502   \n",
       "1                         502   \n",
       "2                         235   \n",
       "...                       ...   \n",
       "142896                    613   \n",
       "142897                   5373   \n",
       "142898                    204   \n",
       "\n",
       "                                          ESTABLECIMIENTO  \\\n",
       "0                                          EPMSC MEDELLIN   \n",
       "1                                          EPMSC MEDELLIN   \n",
       "2                                  EPAMSCAS POPAYAN (ERE)   \n",
       "...                                                   ...   \n",
       "142896                                      EPMSC ARMENIA   \n",
       "142897  COMPLEJO CARCELARIO Y PENITENCIARIO DE MEDELLI...   \n",
       "142898                                     EPMSC EL BORDO   \n",
       "\n",
       "       DEPTO_ESTABLECIMIENTO MPIO_ESTABLECIMIENTO      REGIONAL  ESTADO  \\\n",
       "0                  ANTIOQUIA             MEDELLIN      NOROESTE    Baja   \n",
       "1                  ANTIOQUIA             MEDELLIN      NOROESTE    Baja   \n",
       "2                      CAUCA              POPAYAN     OCCIDENTE    Baja   \n",
       "...                      ...                  ...           ...     ...   \n",
       "142896               QUINDIO              ARMENIA  VIEJO CALDAS  Activo   \n",
       "142897             ANTIOQUIA             MEDELLIN      NOROESTE  Activo   \n",
       "142898                 CAUCA             EL BORDO     OCCIDENTE  Activo   \n",
       "\n",
       "       MES_INGRESO_INT  \n",
       "0                   01  \n",
       "1                   01  \n",
       "2                   01  \n",
       "...                ...  \n",
       "142896              11  \n",
       "142897              11  \n",
       "142898              11  \n",
       "\n",
       "[142899 rows x 33 columns]"
      ]
     },
     "execution_count": 4,
     "metadata": {},
     "output_type": "execute_result"
    }
   ],
   "source": [
    "df_mj[\"FECHA_CAPTURA\"] = pd.to_datetime(df_mj[\"FECHA_CAPTURA\"])\n",
    "df_mj[\"FECHA_INGRESO\"] = pd.to_datetime(df_mj[\"FECHA_INGRESO\"])\n",
    "df_mj[\"FECHA_CAPTURA\"] = pd.to_datetime(df_mj[\"FECHA_CAPTURA\"])\n",
    "\n",
    "df_mj[\"MES_INGRESO_INT\"]=df_mj[\"FECHA_INGRESO\"].dt.strftime('%m')\n",
    "df_mj"
   ]
  },
  {
   "cell_type": "code",
   "execution_count": 7,
   "metadata": {
    "colab": {
     "base_uri": "https://localhost:8080/",
     "height": 337
    },
    "colab_type": "code",
    "id": "nlX1b7XMfH3Z",
    "outputId": "209026fa-a687-491e-a884-c529c55bed46"
   },
   "outputs": [
    {
     "ename": "TypeError",
     "evalue": "unsupported operand type(s) for -: 'str' and 'float'",
     "output_type": "error",
     "traceback": [
      "\u001b[0;31m---------------------------------------------------------------------------\u001b[0m",
      "\u001b[0;31mTypeError\u001b[0m                                 Traceback (most recent call last)",
      "\u001b[0;32m<ipython-input-7-4379e731097a>\u001b[0m in \u001b[0;36m<module>\u001b[0;34m\u001b[0m\n\u001b[1;32m      2\u001b[0m     \u001b[0mdf_mj\u001b[0m \u001b[0;34m=\u001b[0m \u001b[0mdf_mj\u001b[0m\u001b[0;34m.\u001b[0m\u001b[0msort_values\u001b[0m\u001b[0;34m(\u001b[0m\u001b[0;34m[\u001b[0m\u001b[0;34m'INTERNOEN'\u001b[0m\u001b[0;34m,\u001b[0m \u001b[0mcolumn\u001b[0m\u001b[0;34m]\u001b[0m\u001b[0;34m,\u001b[0m \u001b[0mascending\u001b[0m \u001b[0;34m=\u001b[0m \u001b[0;32mFalse\u001b[0m\u001b[0;34m)\u001b[0m\u001b[0;34m\u001b[0m\u001b[0;34m\u001b[0m\u001b[0m\n\u001b[1;32m      3\u001b[0m \u001b[0;34m\u001b[0m\u001b[0m\n\u001b[0;32m----> 4\u001b[0;31m     \u001b[0mdf_mj\u001b[0m\u001b[0;34m[\u001b[0m\u001b[0;34m'DIAS'\u001b[0m \u001b[0;34m+\u001b[0m \u001b[0mcolumn\u001b[0m\u001b[0;34m[\u001b[0m\u001b[0;36m5\u001b[0m\u001b[0;34m:\u001b[0m\u001b[0;34m]\u001b[0m\u001b[0;34m]\u001b[0m \u001b[0;34m=\u001b[0m \u001b[0;34m-\u001b[0m\u001b[0;36m1\u001b[0m\u001b[0;34m*\u001b[0m\u001b[0mdf_mj\u001b[0m\u001b[0;34m[\u001b[0m\u001b[0mcolumn\u001b[0m\u001b[0;34m]\u001b[0m\u001b[0;34m.\u001b[0m\u001b[0mdiff\u001b[0m\u001b[0;34m(\u001b[0m\u001b[0;34m)\u001b[0m\u001b[0;34m.\u001b[0m\u001b[0mcopy\u001b[0m\u001b[0;34m(\u001b[0m\u001b[0;34m)\u001b[0m\u001b[0;34m\u001b[0m\u001b[0;34m\u001b[0m\u001b[0m\n\u001b[0m\u001b[1;32m      5\u001b[0m \u001b[0;34m\u001b[0m\u001b[0m\n\u001b[1;32m      6\u001b[0m     df_mj.loc[(df_mj.INTERNOEN != df_mj.INTERNOEN.shift(1)) | (df_mj['DIAS' + column[5:]] == np.timedelta64(0)), \n",
      "\u001b[0;32m~/.local/lib/python3.6/site-packages/pandas/core/series.py\u001b[0m in \u001b[0;36mdiff\u001b[0;34m(self, periods)\u001b[0m\n\u001b[1;32m   2356\u001b[0m         \u001b[0mdtype\u001b[0m\u001b[0;34m:\u001b[0m \u001b[0mfloat64\u001b[0m\u001b[0;34m\u001b[0m\u001b[0;34m\u001b[0m\u001b[0m\n\u001b[1;32m   2357\u001b[0m         \"\"\"\n\u001b[0;32m-> 2358\u001b[0;31m         \u001b[0mresult\u001b[0m \u001b[0;34m=\u001b[0m \u001b[0malgorithms\u001b[0m\u001b[0;34m.\u001b[0m\u001b[0mdiff\u001b[0m\u001b[0;34m(\u001b[0m\u001b[0mself\u001b[0m\u001b[0;34m.\u001b[0m\u001b[0marray\u001b[0m\u001b[0;34m,\u001b[0m \u001b[0mperiods\u001b[0m\u001b[0;34m)\u001b[0m\u001b[0;34m\u001b[0m\u001b[0;34m\u001b[0m\u001b[0m\n\u001b[0m\u001b[1;32m   2359\u001b[0m         \u001b[0;32mreturn\u001b[0m \u001b[0mself\u001b[0m\u001b[0;34m.\u001b[0m\u001b[0m_constructor\u001b[0m\u001b[0;34m(\u001b[0m\u001b[0mresult\u001b[0m\u001b[0;34m,\u001b[0m \u001b[0mindex\u001b[0m\u001b[0;34m=\u001b[0m\u001b[0mself\u001b[0m\u001b[0;34m.\u001b[0m\u001b[0mindex\u001b[0m\u001b[0;34m)\u001b[0m\u001b[0;34m.\u001b[0m\u001b[0m__finalize__\u001b[0m\u001b[0;34m(\u001b[0m\u001b[0mself\u001b[0m\u001b[0;34m)\u001b[0m\u001b[0;34m\u001b[0m\u001b[0;34m\u001b[0m\u001b[0m\n\u001b[1;32m   2360\u001b[0m \u001b[0;34m\u001b[0m\u001b[0m\n",
      "\u001b[0;32m~/.local/lib/python3.6/site-packages/pandas/core/algorithms.py\u001b[0m in \u001b[0;36mdiff\u001b[0;34m(arr, n, axis, stacklevel)\u001b[0m\n\u001b[1;32m   1924\u001b[0m             \u001b[0mout_arr\u001b[0m\u001b[0;34m[\u001b[0m\u001b[0mres_indexer\u001b[0m\u001b[0;34m]\u001b[0m \u001b[0;34m=\u001b[0m \u001b[0marr\u001b[0m\u001b[0;34m[\u001b[0m\u001b[0mres_indexer\u001b[0m\u001b[0;34m]\u001b[0m \u001b[0;34m^\u001b[0m \u001b[0marr\u001b[0m\u001b[0;34m[\u001b[0m\u001b[0mlag_indexer\u001b[0m\u001b[0;34m]\u001b[0m\u001b[0;34m\u001b[0m\u001b[0;34m\u001b[0m\u001b[0m\n\u001b[1;32m   1925\u001b[0m         \u001b[0;32melse\u001b[0m\u001b[0;34m:\u001b[0m\u001b[0;34m\u001b[0m\u001b[0;34m\u001b[0m\u001b[0m\n\u001b[0;32m-> 1926\u001b[0;31m             \u001b[0mout_arr\u001b[0m\u001b[0;34m[\u001b[0m\u001b[0mres_indexer\u001b[0m\u001b[0;34m]\u001b[0m \u001b[0;34m=\u001b[0m \u001b[0marr\u001b[0m\u001b[0;34m[\u001b[0m\u001b[0mres_indexer\u001b[0m\u001b[0;34m]\u001b[0m \u001b[0;34m-\u001b[0m \u001b[0marr\u001b[0m\u001b[0;34m[\u001b[0m\u001b[0mlag_indexer\u001b[0m\u001b[0;34m]\u001b[0m\u001b[0;34m\u001b[0m\u001b[0;34m\u001b[0m\u001b[0m\n\u001b[0m\u001b[1;32m   1927\u001b[0m \u001b[0;34m\u001b[0m\u001b[0m\n\u001b[1;32m   1928\u001b[0m     \u001b[0;32mif\u001b[0m \u001b[0mis_timedelta\u001b[0m\u001b[0;34m:\u001b[0m\u001b[0;34m\u001b[0m\u001b[0;34m\u001b[0m\u001b[0m\n",
      "\u001b[0;31mTypeError\u001b[0m: unsupported operand type(s) for -: 'str' and 'float'"
     ]
    }
   ],
   "source": [
    "for column in ['FECHA_INGRESO', 'FECHA_SALIDA', 'FECHA_CAPTURA']:\n",
    "    df_mj = df_mj.sort_values(['INTERNOEN', column], ascending = False)\n",
    "    \n",
    "    df_mj['DIAS' + column[5:]] = -1*df_mj[column].diff().copy()\n",
    "\n",
    "    df_mj.loc[(df_mj.INTERNOEN != df_mj.INTERNOEN.shift(1)) | (df_mj['DIAS' + column[5:]] == np.timedelta64(0)), \n",
    "              ['DIAS' + column[5:]]] = datetime.today() - df_mj[column]\n",
    "    \n",
    "df_mj['DIAS_CONDENA'] = df_mj['FECHA_SALIDA'] - df_mj['FECHA_INGRESO'] \n",
    "df_mj['DIAS_JUDICIALIZACION'] = df_mj['FECHA_INGRESO'] - df_mj['FECHA_CAPTURA']\n",
    "df_mj['DIAS_LIBRE'] = df_mj['DIAS_INGRESO'] - df_mj['DIAS_CONDENA']"
   ]
  },
  {
   "cell_type": "markdown",
   "metadata": {
    "colab_type": "text",
    "id": "Ndyq45BvXWmi"
   },
   "source": [
    "individuals"
   ]
  },
  {
   "cell_type": "code",
   "execution_count": 8,
   "metadata": {
    "colab": {
     "base_uri": "https://localhost:8080/",
     "height": 54
    },
    "colab_type": "code",
    "id": "Ul03ymVTXWml",
    "outputId": "5aed051e-0370-44c7-da66-b4e0298f5684"
   },
   "outputs": [
    {
     "name": "stdout",
     "output_type": "stream",
     "text": [
      "length of complete df: 142899\n",
      "length of unique individuals: 78841\n"
     ]
    }
   ],
   "source": [
    "individuals = df_mj[\"INTERNOEN\"].unique()\n",
    "print(\"length of complete df: \" + str(df_mj[\"INTERNOEN\"].count()))\n",
    "print(\"length of unique individuals: \"+ str(len(individuals)))\n"
   ]
  },
  {
   "cell_type": "code",
   "execution_count": 9,
   "metadata": {
    "colab": {
     "base_uri": "https://localhost:8080/",
     "height": 182
    },
    "colab_type": "code",
    "id": "VFlGhvfhXWm2",
    "outputId": "03320b9f-14d5-491e-d5f0-c6b84ede24c3"
   },
   "outputs": [
    {
     "name": "stdout",
     "output_type": "stream",
     "text": [
      "number of occurrences by individual\n"
     ]
    },
    {
     "data": {
      "text/plain": [
       "71D8863489582B956956B3E244CF97F629E190F8    16\n",
       "85F84CC906246E467ACC8D3CD73B576E0B264556    15\n",
       "C6A8D6B8A3433007BDDE0B6A682268EFD0FA16AD    14\n",
       "                                            ..\n",
       "5CD486BF94E1F7EBC5E2DFA2FE6898887459A686     1\n",
       "2FFBBE66DC1471CBBF79D096869AB123CC59C49B     1\n",
       "D8C35136560C99C75532C11797DA54E894237FC9     1\n",
       "Name: INTERNOEN, Length: 78841, dtype: int64"
      ]
     },
     "execution_count": 9,
     "metadata": {},
     "output_type": "execute_result"
    }
   ],
   "source": [
    "print(\"number of occurrences by individual\")\n",
    "occurrences = df_mj[\"INTERNOEN\"].value_counts()\n",
    "occurrences"
   ]
  },
  {
   "cell_type": "code",
   "execution_count": 10,
   "metadata": {
    "colab": {
     "base_uri": "https://localhost:8080/",
     "height": 74
    },
    "colab_type": "code",
    "id": "FJbl4HtMXWnI",
    "outputId": "fdbb7143-e612-488f-9cec-3934d4c3b3bb"
   },
   "outputs": [
    {
     "name": "stdout",
     "output_type": "stream",
     "text": [
      "crimes of individual 71D8863489582B956956B3E244CF97F629E190F8: \n",
      "CONCIERTO PARA DELINQUIR, CONCIERTO PARA DELINQUIR, CONSTREÑIMIENTO ILEGAL, DESPLAZAMIENTO FORZADO, DESPLAZAMIENTO FORZADO, DESTRUCCION Y APROPIACION DE BIENES PROTEGIDOS, FABRICACION  TRAFICO Y PORTE DE ARMAS Y MUNICIONES DE USO PRIVATIVO DE LAS FUERZAS ARMADAS, HOMICIDIO, HOMICIDIO, HOMICIDIO EN PERSONA PROTEGIDA, HURTO, HURTO, RECLUTAMIENTO ILICITO, SECUESTRO SIMPLE, TORTURA EN PERSONA PROTEGIDA, UTILIZACION ILEGAL DE UNIFORMES E INSIGNIAS, "
     ]
    }
   ],
   "source": [
    "for item in occurrences.index:\n",
    "    print(\"crimes of individual \" + str(item) + \": \")\n",
    "    crime_list_per_ind = df_mj[\"DELITO\"].where(df_mj[\"INTERNOEN\"]==item)\n",
    "    for crime in crime_list_per_ind.dropna():\n",
    "        print(crime + \", \", end=\"\")\n",
    "    #breaking to check just first ind\n",
    "    break"
   ]
  },
  {
   "cell_type": "markdown",
   "metadata": {
    "colab_type": "text",
    "id": "pUdUU0R3eFHY"
   },
   "source": [
    "Ubicación geográfica"
   ]
  },
  {
   "cell_type": "code",
   "execution_count": 11,
   "metadata": {
    "colab": {
     "base_uri": "https://localhost:8080/",
     "height": 164
    },
    "colab_type": "code",
    "id": "xJrfVLsqXWnX",
    "outputId": "e70a8c7c-e0e8-4d6a-9556-6d1cca5572ca"
   },
   "outputs": [
    {
     "data": {
      "text/plain": [
       "BOGOTA D.C.                 19008\n",
       "ANTIOQUIA                   18591\n",
       "VALLE DEL CAUCA             17346\n",
       "                            ...  \n",
       "PUTUMAYO                      378\n",
       "AMAZONAS                      349\n",
       "SAN ANDRES Y PROVIDENCIA      252\n",
       "Name: DEPTO_ESTABLECIMIENTO, Length: 29, dtype: int64"
      ]
     },
     "execution_count": 11,
     "metadata": {},
     "output_type": "execute_result"
    }
   ],
   "source": [
    "dept_count = df_mj[\"DEPTO_ESTABLECIMIENTO\"].value_counts()\n",
    "dept_count"
   ]
  },
  {
   "cell_type": "markdown",
   "metadata": {
    "colab": {},
    "colab_type": "code",
    "id": "GtvEDB4jXWnh"
   },
   "source": [
    "### Gender Information"
   ]
  },
  {
   "cell_type": "markdown",
   "metadata": {},
   "source": [
    "['INTERNOEN', 'DELITO', 'TITULO_DELITO', 'SUBTITULO_DELITO', 'TENTATIVA',\n",
    "       'AGRAVADO', 'CALIFICADO', 'FECHA_INGRESO', 'FECHA_SALIDA',\n",
    "       'FECHA_CAPTURA', 'SITUACION_JURIDICA', 'ANO_NACIMIENTO', 'EDAD',\n",
    "       'GENERO', 'ESTADO_CIVIL', 'PAIS_INTERNO', 'DEPARTAMENTO', 'CIUDAD',\n",
    "       'REINCIDENTE', 'ESTADO_INGRESO', 'ACTIVIDADES_TRABAJO',\n",
    "       'ACTIVIDADES_ESTUDIO', 'ACTIVIDADES_ENSEÑANZA', 'NIVEL_EDUCATIVO',\n",
    "       'HIJOS_MENORES', 'CONDIC_EXPECIONAL', 'CODIGO_ESTABLECIMIENTO',\n",
    "       'ESTABLECIMIENTO', 'DEPTO_ESTABLECIMIENTO', 'MPIO_ESTABLECIMIENTO',\n",
    "       'REGIONAL', 'ESTADO']"
   ]
  },
  {
   "cell_type": "code",
   "execution_count": 36,
   "metadata": {},
   "outputs": [
    {
     "name": "stdout",
     "output_type": "stream",
     "text": [
      "UNION LIBRE       37926\n",
      "SOLTERO(A)        20988\n",
      "CASADO(A)          2834\n",
      "                  ...  \n",
      "DIVORCIADO(A)        42\n",
      "PENDIENTE POR        25\n",
      "RELIGIOSO(A)          1\n",
      "Name: ESTADO_CIVIL, Length: 8, dtype: int64\n"
     ]
    },
    {
     "data": {
      "text/plain": [
       "([0, 1, 2, 3, 4, 5, 6, 7], <a list of 8 Text major ticklabel objects>)"
      ]
     },
     "execution_count": 36,
     "metadata": {},
     "output_type": "execute_result"
    },
    {
     "data": {
      "image/png": "[encoded data removed]",
      "text/plain": [
       "<Figure size 432x288 with 1 Axes>"
      ]
     },
     "metadata": {
      "needs_background": "light"
     },
     "output_type": "display_data"
    }
   ],
   "source": [
    "print(df_mj['ESTADO_CIVIL'].value_counts())\n",
    "df_mj['ESTADO_CIVIL'].hist(bins=30)\n",
    "plt.title(\"MARITAL STATUS HISTOGRAM\")\n",
    "plt.xticks(rotation=90)"
   ]
  },
  {
   "cell_type": "code",
   "execution_count": 38,
   "metadata": {},
   "outputs": [
    {
     "data": {
      "text/plain": [
       "Text(0.5, 1.0, 'MINOR CHILDREN HISTOGRAM')"
      ]
     },
     "execution_count": 38,
     "metadata": {},
     "output_type": "execute_result"
    },
    {
     "data": {
      "image/png": "[encoded data removed]",
      "text/plain": [
       "<Figure size 432x288 with 1 Axes>"
      ]
     },
     "metadata": {
      "needs_background": "light"
     },
     "output_type": "display_data"
    }
   ],
   "source": [
    "df_mj[\"HIJOS_MENORES\"].hist()\n",
    "plt.title(\"MINOR CHILDREN HISTOGRAM\")"
   ]
  },
  {
   "cell_type": "code",
   "execution_count": 41,
   "metadata": {},
   "outputs": [
    {
     "data": {
      "text/plain": [
       "([0, 1, 2, 3, 4, 5, 6, 7, 8, 9, 10, 11],\n",
       " <a list of 12 Text major ticklabel objects>)"
      ]
     },
     "execution_count": 41,
     "metadata": {},
     "output_type": "execute_result"
    },
    {
     "data": {
      "image/png": "[encoded data removed]",
      "text/plain": [
       "<Figure size 432x288 with 1 Axes>"
      ]
     },
     "metadata": {
      "needs_background": "light"
     },
     "output_type": "display_data"
    }
   ],
   "source": [
    "df_mj[\"NIVEL_EDUCATIVO\"].hist(bins=100)\n",
    "plt.title(\"EDUCATION LEVEL HISTOGRAM\")\n",
    "plt.xticks(rotation=90)"
   ]
  },
  {
   "cell_type": "code",
   "execution_count": 55,
   "metadata": {},
   "outputs": [
    {
     "data": {
      "image/png": "[encoded data removed]",
      "text/plain": [
       "<Figure size 1152x720 with 1 Axes>"
      ]
     },
     "metadata": {
      "needs_background": "light"
     },
     "output_type": "display_data"
    }
   ],
   "source": [
    "df_mj_etn=df_mj[\"CONDIC_EXPECIONAL\"].value_counts().reset_index()\n",
    "df_mj_etn.columns=[\"CONDIC_EXPECIONAL\",\"COUNT\"]\n",
    "fig = plt.figure(figsize=(16,10))\n",
    "#df_mj[\"CONDIC_EXPECIONAL\"].hist(bins=100)\n",
    "plt.title(\"RACE/ETHNICITY HISTOGRAM\")\n",
    "A=plt.xticks(rotation=90)\n",
    "etn_bc = sns.barplot(x=\"CONDIC_EXPECIONAL\", y=\"COUNT\",data=df_mj_etn)\n"
   ]
  },
  {
   "cell_type": "code",
   "execution_count": 14,
   "metadata": {},
   "outputs": [
    {
     "data": {
      "text/plain": [
       "MASCULINO    131485\n",
       "FEMENINO      11414\n",
       "Name: GENERO, dtype: int64"
      ]
     },
     "execution_count": 14,
     "metadata": {},
     "output_type": "execute_result"
    }
   ],
   "source": [
    "df_mj['GENERO'].value_counts()"
   ]
  },
  {
   "cell_type": "code",
   "execution_count": 16,
   "metadata": {},
   "outputs": [
    {
     "data": {
      "text/plain": [
       "<matplotlib.axes._subplots.AxesSubplot at 0x7f7584fd6e48>"
      ]
     },
     "execution_count": 16,
     "metadata": {},
     "output_type": "execute_result"
    },
    {
     "data": {
      "image/png": "[encoded data removed]",
      "text/plain": [
       "<Figure size 432x288 with 1 Axes>"
      ]
     },
     "metadata": {
      "needs_background": "light"
     },
     "output_type": "display_data"
    }
   ],
   "source": [
    "df_mj[\"GENERO\"].hist()"
   ]
  },
  {
   "cell_type": "code",
   "execution_count": 30,
   "metadata": {},
   "outputs": [
    {
     "name": "stdout",
     "output_type": "stream",
     "text": [
      "35    6395\n",
      "30    6387\n",
      "29    6308\n",
      "      ... \n",
      "93       3\n",
      "90       2\n",
      "91       2\n",
      "Name: EDAD, Length: 75, dtype: int64\n"
     ]
    },
    {
     "data": {
      "text/plain": [
       "Text(0.5, 1.0, 'AGE HISTOGRAM OF MALE RECIDIVISTS')"
      ]
     },
     "execution_count": 30,
     "metadata": {},
     "output_type": "execute_result"
    },
    {
     "data": {
      "image/png": "[encoded data removed]",
      "text/plain": [
       "<Figure size 432x288 with 1 Axes>"
      ]
     },
     "metadata": {
      "needs_background": "light"
     },
     "output_type": "display_data"
    }
   ],
   "source": [
    "df_mj_men = df_mj[df_mj[\"GENERO\"]==\"MASCULINO\"]\n",
    "print(df_mj_men[\"EDAD\"].value_counts())\n",
    "df_mj_men[\"EDAD\"].hist(bins=100)\n",
    "plt.title(\"AGE HISTOGRAM OF MALE RECIDIVISTS\")"
   ]
  },
  {
   "cell_type": "code",
   "execution_count": 31,
   "metadata": {},
   "outputs": [
    {
     "name": "stdout",
     "output_type": "stream",
     "text": [
      "38    497\n",
      "35    486\n",
      "36    480\n",
      "     ... \n",
      "92      1\n",
      "85      1\n",
      "94      1\n",
      "Name: EDAD, Length: 70, dtype: int64\n"
     ]
    },
    {
     "data": {
      "text/plain": [
       "Text(0.5, 1.0, 'AGE HISTOGRAM OF FEMALE RECIDIVISTS')"
      ]
     },
     "execution_count": 31,
     "metadata": {},
     "output_type": "execute_result"
    },
    {
     "data": {
      "image/png": "[encoded data removed]",
      "text/plain": [
       "<Figure size 432x288 with 1 Axes>"
      ]
     },
     "metadata": {
      "needs_background": "light"
     },
     "output_type": "display_data"
    }
   ],
   "source": [
    "df_mj_women = df_mj[df_mj[\"GENERO\"]==\"FEMENINO\"]\n",
    "print(df_mj_women[\"EDAD\"].value_counts())\n",
    "df_mj_women[\"EDAD\"].hist(bins=100)\n",
    "plt.title(\"AGE HISTOGRAM OF FEMALE RECIDIVISTS\")"
   ]
  },
  {
   "cell_type": "code",
   "execution_count": 58,
   "metadata": {},
   "outputs": [
    {
     "data": {
      "text/html": [
       "<div>\n",
       "<style scoped>\n",
       "    .dataframe tbody tr th:only-of-type {\n",
       "        vertical-align: middle;\n",
       "    }\n",
       "\n",
       "    .dataframe tbody tr th {\n",
       "        vertical-align: top;\n",
       "    }\n",
       "\n",
       "    .dataframe thead th {\n",
       "        text-align: right;\n",
       "    }\n",
       "</style>\n",
       "<table border=\"1\" class=\"dataframe\">\n",
       "  <thead>\n",
       "    <tr style=\"text-align: right;\">\n",
       "      <th></th>\n",
       "      <th>GENERO</th>\n",
       "      <th>EDAD</th>\n",
       "      <th>NIVEL_EDUCATIVO</th>\n",
       "      <th>HIJOS_MENORES</th>\n",
       "      <th>ESTADO_CIVIL</th>\n",
       "      <th>CONDIC_EXPECIONAL</th>\n",
       "    </tr>\n",
       "  </thead>\n",
       "  <tbody>\n",
       "    <tr>\n",
       "      <th>72750</th>\n",
       "      <td>MASCULINO</td>\n",
       "      <td>29</td>\n",
       "      <td>CICLO IV</td>\n",
       "      <td>SI</td>\n",
       "      <td>UNION LIBRE</td>\n",
       "      <td>NaN</td>\n",
       "    </tr>\n",
       "    <tr>\n",
       "      <th>72751</th>\n",
       "      <td>MASCULINO</td>\n",
       "      <td>29</td>\n",
       "      <td>CICLO IV</td>\n",
       "      <td>SI</td>\n",
       "      <td>UNION LIBRE</td>\n",
       "      <td>NaN</td>\n",
       "    </tr>\n",
       "    <tr>\n",
       "      <th>72752</th>\n",
       "      <td>MASCULINO</td>\n",
       "      <td>29</td>\n",
       "      <td>CICLO IV</td>\n",
       "      <td>SI</td>\n",
       "      <td>UNION LIBRE</td>\n",
       "      <td>NaN</td>\n",
       "    </tr>\n",
       "    <tr>\n",
       "      <th>75131</th>\n",
       "      <td>MASCULINO</td>\n",
       "      <td>33</td>\n",
       "      <td>CICLO IV</td>\n",
       "      <td>SI</td>\n",
       "      <td>NaN</td>\n",
       "      <td>NaN</td>\n",
       "    </tr>\n",
       "    <tr>\n",
       "      <th>138808</th>\n",
       "      <td>MASCULINO</td>\n",
       "      <td>36</td>\n",
       "      <td>CICLO II</td>\n",
       "      <td>SI</td>\n",
       "      <td>UNION LIBRE</td>\n",
       "      <td>NaN</td>\n",
       "    </tr>\n",
       "  </tbody>\n",
       "</table>\n",
       "</div>"
      ],
      "text/plain": [
       "           GENERO  EDAD NIVEL_EDUCATIVO HIJOS_MENORES ESTADO_CIVIL  \\\n",
       "72750   MASCULINO    29        CICLO IV            SI  UNION LIBRE   \n",
       "72751   MASCULINO    29        CICLO IV            SI  UNION LIBRE   \n",
       "72752   MASCULINO    29        CICLO IV            SI  UNION LIBRE   \n",
       "75131   MASCULINO    33        CICLO IV            SI          NaN   \n",
       "138808  MASCULINO    36        CICLO II            SI  UNION LIBRE   \n",
       "\n",
       "       CONDIC_EXPECIONAL  \n",
       "72750                NaN  \n",
       "72751                NaN  \n",
       "72752                NaN  \n",
       "75131                NaN  \n",
       "138808               NaN  "
      ]
     },
     "execution_count": 58,
     "metadata": {},
     "output_type": "execute_result"
    }
   ],
   "source": [
    "df_demo = df_mj[[\"GENERO\",\"EDAD\",\"NIVEL_EDUCATIVO\",\"HIJOS_MENORES\",\"ESTADO_CIVIL\",\"CONDIC_EXPECIONAL\"]]\n",
    "df_demo.head()"
   ]
  },
  {
   "cell_type": "code",
   "execution_count": 66,
   "metadata": {},
   "outputs": [
    {
     "ename": "KeyError",
     "evalue": "\"Column 'STATS' does not exist!\"",
     "output_type": "error",
     "traceback": [
      "\u001b[0;31m---------------------------------------------------------------------------\u001b[0m",
      "\u001b[0;31mKeyError\u001b[0m                                  Traceback (most recent call last)",
      "\u001b[0;32m<ipython-input-66-1cf446da55b0>\u001b[0m in \u001b[0;36m<module>\u001b[0;34m\u001b[0m\n\u001b[0;32m----> 1\u001b[0;31m \u001b[0mdf_demo_grp\u001b[0m \u001b[0;34m=\u001b[0m \u001b[0mdf_demo\u001b[0m\u001b[0;34m.\u001b[0m\u001b[0mgroupby\u001b[0m\u001b[0;34m(\u001b[0m\u001b[0mby\u001b[0m\u001b[0;34m=\u001b[0m\u001b[0;34m[\u001b[0m\u001b[0;34m\"GENERO\"\u001b[0m\u001b[0;34m,\u001b[0m\u001b[0;34m\"NIVEL_EDUCATIVO\"\u001b[0m\u001b[0;34m,\u001b[0m\u001b[0;34m\"CONDIC_EXPECIONAL\"\u001b[0m\u001b[0;34m,\u001b[0m\u001b[0;34m\"ESTADO_CIVIL\"\u001b[0m\u001b[0;34m]\u001b[0m\u001b[0;34m)\u001b[0m\u001b[0;34m.\u001b[0m\u001b[0magg\u001b[0m\u001b[0;34m(\u001b[0m\u001b[0;34m{\u001b[0m\u001b[0;34m'STATS'\u001b[0m\u001b[0;34m:\u001b[0m\u001b[0;34m[\u001b[0m\u001b[0;34m'count'\u001b[0m\u001b[0;34m,\u001b[0m\u001b[0;34m'mean'\u001b[0m\u001b[0;34m]\u001b[0m\u001b[0;34m}\u001b[0m\u001b[0;34m)\u001b[0m\u001b[0;34m\u001b[0m\u001b[0;34m\u001b[0m\u001b[0m\n\u001b[0m\u001b[1;32m      2\u001b[0m \u001b[0mdf_demo_grp\u001b[0m\u001b[0;34m.\u001b[0m\u001b[0mreset_index\u001b[0m\u001b[0;34m(\u001b[0m\u001b[0minplace\u001b[0m\u001b[0;34m=\u001b[0m\u001b[0;32mTrue\u001b[0m\u001b[0;34m)\u001b[0m\u001b[0;34m\u001b[0m\u001b[0;34m\u001b[0m\u001b[0m\n\u001b[1;32m      3\u001b[0m \u001b[0mdf_demo_grp\u001b[0m\u001b[0;34m\u001b[0m\u001b[0;34m\u001b[0m\u001b[0m\n",
      "\u001b[0;32m~/.local/lib/python3.6/site-packages/pandas/core/groupby/generic.py\u001b[0m in \u001b[0;36maggregate\u001b[0;34m(self, func, *args, **kwargs)\u001b[0m\n\u001b[1;32m    926\u001b[0m         \u001b[0mfunc\u001b[0m \u001b[0;34m=\u001b[0m \u001b[0m_maybe_mangle_lambdas\u001b[0m\u001b[0;34m(\u001b[0m\u001b[0mfunc\u001b[0m\u001b[0;34m)\u001b[0m\u001b[0;34m\u001b[0m\u001b[0;34m\u001b[0m\u001b[0m\n\u001b[1;32m    927\u001b[0m \u001b[0;34m\u001b[0m\u001b[0m\n\u001b[0;32m--> 928\u001b[0;31m         \u001b[0mresult\u001b[0m\u001b[0;34m,\u001b[0m \u001b[0mhow\u001b[0m \u001b[0;34m=\u001b[0m \u001b[0mself\u001b[0m\u001b[0;34m.\u001b[0m\u001b[0m_aggregate\u001b[0m\u001b[0;34m(\u001b[0m\u001b[0mfunc\u001b[0m\u001b[0;34m,\u001b[0m \u001b[0;34m*\u001b[0m\u001b[0margs\u001b[0m\u001b[0;34m,\u001b[0m \u001b[0;34m**\u001b[0m\u001b[0mkwargs\u001b[0m\u001b[0;34m)\u001b[0m\u001b[0;34m\u001b[0m\u001b[0;34m\u001b[0m\u001b[0m\n\u001b[0m\u001b[1;32m    929\u001b[0m         \u001b[0;32mif\u001b[0m \u001b[0mhow\u001b[0m \u001b[0;32mis\u001b[0m \u001b[0;32mNone\u001b[0m\u001b[0;34m:\u001b[0m\u001b[0;34m\u001b[0m\u001b[0;34m\u001b[0m\u001b[0m\n\u001b[1;32m    930\u001b[0m             \u001b[0;32mreturn\u001b[0m \u001b[0mresult\u001b[0m\u001b[0;34m\u001b[0m\u001b[0;34m\u001b[0m\u001b[0m\n",
      "\u001b[0;32m~/.local/lib/python3.6/site-packages/pandas/core/base.py\u001b[0m in \u001b[0;36m_aggregate\u001b[0;34m(self, arg, *args, **kwargs)\u001b[0m\n\u001b[1;32m    344\u001b[0m                         \u001b[0;32mraise\u001b[0m \u001b[0mSpecificationError\u001b[0m\u001b[0;34m(\u001b[0m\u001b[0;34m\"nested renamer is not supported\"\u001b[0m\u001b[0;34m)\u001b[0m\u001b[0;34m\u001b[0m\u001b[0;34m\u001b[0m\u001b[0m\n\u001b[1;32m    345\u001b[0m                     \u001b[0;32melif\u001b[0m \u001b[0misinstance\u001b[0m\u001b[0;34m(\u001b[0m\u001b[0mobj\u001b[0m\u001b[0;34m,\u001b[0m \u001b[0mABCDataFrame\u001b[0m\u001b[0;34m)\u001b[0m \u001b[0;32mand\u001b[0m \u001b[0mk\u001b[0m \u001b[0;32mnot\u001b[0m \u001b[0;32min\u001b[0m \u001b[0mobj\u001b[0m\u001b[0;34m.\u001b[0m\u001b[0mcolumns\u001b[0m\u001b[0;34m:\u001b[0m\u001b[0;34m\u001b[0m\u001b[0;34m\u001b[0m\u001b[0m\n\u001b[0;32m--> 346\u001b[0;31m                         \u001b[0;32mraise\u001b[0m \u001b[0mKeyError\u001b[0m\u001b[0;34m(\u001b[0m\u001b[0;34mf\"Column '{k}' does not exist!\"\u001b[0m\u001b[0;34m)\u001b[0m\u001b[0;34m\u001b[0m\u001b[0;34m\u001b[0m\u001b[0m\n\u001b[0m\u001b[1;32m    347\u001b[0m \u001b[0;34m\u001b[0m\u001b[0m\n\u001b[1;32m    348\u001b[0m                 \u001b[0marg\u001b[0m \u001b[0;34m=\u001b[0m \u001b[0mnew_arg\u001b[0m\u001b[0;34m\u001b[0m\u001b[0;34m\u001b[0m\u001b[0m\n",
      "\u001b[0;31mKeyError\u001b[0m: \"Column 'STATS' does not exist!\""
     ]
    }
   ],
   "source": [
    "df_demo_grp = df_demo.groupby(by=[\"GENERO\",\"NIVEL_EDUCATIVO\",\"CONDIC_EXPECIONAL\",\"ESTADO_CIVIL\"]).agg({'STATS':['count','mean']})\n",
    "df_demo_grp.reset_index(inplace=True)\n",
    "df_demo_grp"
   ]
  },
  {
   "cell_type": "code",
   "execution_count": null,
   "metadata": {},
   "outputs": [],
   "source": [
    "\n"
   ]
  }
 ],
 "metadata": {
  "colab": {
   "collapsed_sections": [],
   "name": "project_notebook_minjusticia.ipynb",
   "provenance": []
  },
  "kernelspec": {
   "display_name": "Python 3",
   "language": "python",
   "name": "python3"
  },
  "language_info": {
   "codemirror_mode": {
    "name": "ipython",
    "version": 3
   },
   "file_extension": ".py",
   "mimetype": "text/x-python",
   "name": "python",
   "nbconvert_exporter": "python",
   "pygments_lexer": "ipython3",
   "version": "3.6.9"
  }
 },
 "nbformat": 4,
 "nbformat_minor": 1
}
