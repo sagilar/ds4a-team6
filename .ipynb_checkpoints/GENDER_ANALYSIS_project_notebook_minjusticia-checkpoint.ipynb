{
 "cells": [
  {
   "cell_type": "markdown",
   "metadata": {
    "colab_type": "text",
    "id": "tGVbJSaaXWk6"
   },
   "source": [
    "# Team 6 Project: MINJUSTICIA"
   ]
  },
  {
   "cell_type": "code",
   "execution_count": 1,
   "metadata": {
    "colab": {},
    "colab_type": "code",
    "id": "-Tgl_xzzXWlQ"
   },
   "outputs": [],
   "source": [
    "import pandas as pd\n",
    "import numpy as np\n",
    "import calendar\n",
    "from matplotlib import pyplot as plt\n",
    "%matplotlib inline\n",
    "pd.options.display.max_rows = 15\n",
    "import requests\n",
    "import io\n",
    "import plotly\n",
    "import plotly.express as px\n",
    "from datetime import datetime, date\n",
    "import psutil"
   ]
  },
  {
   "cell_type": "markdown",
   "metadata": {
    "colab_type": "text",
    "id": "80ZORxEqXWlu"
   },
   "source": [
    "Data"
   ]
  },
  {
   "cell_type": "code",
   "execution_count": 29,
   "metadata": {
    "colab": {
     "base_uri": "https://localhost:8080/",
     "height": 631
    },
    "colab_type": "code",
    "id": "6XZ1VBiLXWl6",
    "outputId": "32cb19cf-f596-408c-fb6b-418c7fc6f017"
   },
   "outputs": [],
   "source": [
    "url=\"https://raw.githubusercontent.com/sagilar/ds4a-team6/master/retomintic/Data_UpdateJune13/reincidencia11junio2020_clean.csv\"\n",
    "df_mj = pd.read_csv(url,sep=\",\",encoding=\"utf-8\")\n",
    "# df_mj"
   ]
  },
  {
   "cell_type": "code",
   "execution_count": 30,
   "metadata": {
    "colab": {
     "base_uri": "https://localhost:8080/",
     "height": 201
    },
    "colab_type": "code",
    "id": "WndeGwuDbz8L",
    "outputId": "e2d5538a-46c8-46fd-cee9-d3bb6166d2d2"
   },
   "outputs": [],
   "source": [
    "df_orig = df_mj.copy()\n",
    "# df_mj.columns"
   ]
  },
  {
   "cell_type": "code",
   "execution_count": 31,
   "metadata": {
    "colab": {
     "base_uri": "https://localhost:8080/",
     "height": 631
    },
    "colab_type": "code",
    "id": "qcYiOJo5XWmO",
    "outputId": "bea0f5be-e8a4-42a0-81be-31608b53c908"
   },
   "outputs": [
    {
     "data": {
      "text/html": [
       "<div>\n",
       "<style scoped>\n",
       "    .dataframe tbody tr th:only-of-type {\n",
       "        vertical-align: middle;\n",
       "    }\n",
       "\n",
       "    .dataframe tbody tr th {\n",
       "        vertical-align: top;\n",
       "    }\n",
       "\n",
       "    .dataframe thead th {\n",
       "        text-align: right;\n",
       "    }\n",
       "</style>\n",
       "<table border=\"1\" class=\"dataframe\">\n",
       "  <thead>\n",
       "    <tr style=\"text-align: right;\">\n",
       "      <th></th>\n",
       "      <th>INTERNOEN</th>\n",
       "      <th>DELITO</th>\n",
       "      <th>TITULO_DELITO</th>\n",
       "      <th>SUBTITULO_DELITO</th>\n",
       "      <th>TENTATIVA</th>\n",
       "      <th>AGRAVADO</th>\n",
       "      <th>CALIFICADO</th>\n",
       "      <th>FECHA_INGRESO</th>\n",
       "      <th>FECHA_SALIDA</th>\n",
       "      <th>FECHA_CAPTURA</th>\n",
       "      <th>...</th>\n",
       "      <th>NIVEL_EDUCATIVO</th>\n",
       "      <th>HIJOS_MENORES</th>\n",
       "      <th>CONDIC_EXPECIONAL</th>\n",
       "      <th>CODIGO_ESTABLECIMIENTO</th>\n",
       "      <th>ESTABLECIMIENTO</th>\n",
       "      <th>DEPTO_ESTABLECIMIENTO</th>\n",
       "      <th>MPIO_ESTABLECIMIENTO</th>\n",
       "      <th>REGIONAL</th>\n",
       "      <th>ESTADO</th>\n",
       "      <th>MES_INGRESO_INT</th>\n",
       "    </tr>\n",
       "  </thead>\n",
       "  <tbody>\n",
       "    <tr>\n",
       "      <th>0</th>\n",
       "      <td>5496C737C624136DB406CFC6744C684C070A3CD8</td>\n",
       "      <td>FABRICACION TRAFICO Y PORTE DE ARMAS DE FUEGO ...</td>\n",
       "      <td>CONTRA LA SEGURIDAD PUBLICA</td>\n",
       "      <td>DE LOS DELITOS DE PELIGRO COMUN O QUE PUEDEN O...</td>\n",
       "      <td>N</td>\n",
       "      <td>N</td>\n",
       "      <td>N</td>\n",
       "      <td>2010-01-01</td>\n",
       "      <td>2011-12-05</td>\n",
       "      <td>2009-12-30</td>\n",
       "      <td>...</td>\n",
       "      <td>CICLO III</td>\n",
       "      <td>SI</td>\n",
       "      <td>NaN</td>\n",
       "      <td>502</td>\n",
       "      <td>EPMSC MEDELLIN</td>\n",
       "      <td>ANTIOQUIA</td>\n",
       "      <td>MEDELLIN</td>\n",
       "      <td>NOROESTE</td>\n",
       "      <td>Baja</td>\n",
       "      <td>01</td>\n",
       "    </tr>\n",
       "    <tr>\n",
       "      <th>1</th>\n",
       "      <td>1097561F306939C26DB4AC60377063DA7E2B079F</td>\n",
       "      <td>TRAFICO FABRICACION O PORTE DE ESTUPEFACIENTES</td>\n",
       "      <td>CONTRA LA SALUD PUBLICA</td>\n",
       "      <td>DE LAS AFECTACIONES A LA SALUD PUBLICA</td>\n",
       "      <td>N</td>\n",
       "      <td>N</td>\n",
       "      <td>N</td>\n",
       "      <td>2010-01-01</td>\n",
       "      <td>2011-05-12</td>\n",
       "      <td>2009-12-30</td>\n",
       "      <td>...</td>\n",
       "      <td>CICLO I</td>\n",
       "      <td>SI</td>\n",
       "      <td>NaN</td>\n",
       "      <td>502</td>\n",
       "      <td>EPMSC MEDELLIN</td>\n",
       "      <td>ANTIOQUIA</td>\n",
       "      <td>MEDELLIN</td>\n",
       "      <td>NOROESTE</td>\n",
       "      <td>Baja</td>\n",
       "      <td>01</td>\n",
       "    </tr>\n",
       "    <tr>\n",
       "      <th>2</th>\n",
       "      <td>CB7033A707ADE673139F8A17CAD26AD54696C135</td>\n",
       "      <td>FABRICACION TRAFICO Y PORTE DE ARMAS DE FUEGO ...</td>\n",
       "      <td>CONTRA LA SEGURIDAD PUBLICA</td>\n",
       "      <td>DE LOS DELITOS DE PELIGRO COMUN O QUE PUEDEN O...</td>\n",
       "      <td>N</td>\n",
       "      <td>N</td>\n",
       "      <td>N</td>\n",
       "      <td>2010-01-01</td>\n",
       "      <td>2013-06-08</td>\n",
       "      <td>2009-12-30</td>\n",
       "      <td>...</td>\n",
       "      <td>CICLO I</td>\n",
       "      <td>SI</td>\n",
       "      <td>NaN</td>\n",
       "      <td>235</td>\n",
       "      <td>EPAMSCAS POPAYAN (ERE)</td>\n",
       "      <td>CAUCA</td>\n",
       "      <td>POPAYAN</td>\n",
       "      <td>OCCIDENTE</td>\n",
       "      <td>Baja</td>\n",
       "      <td>01</td>\n",
       "    </tr>\n",
       "    <tr>\n",
       "      <th>3</th>\n",
       "      <td>CB7033A707ADE673139F8A17CAD26AD54696C135</td>\n",
       "      <td>HURTO</td>\n",
       "      <td>CONTRA EL PATRIMONIO ECONOMICO</td>\n",
       "      <td>DE LA ESTAFA</td>\n",
       "      <td>N</td>\n",
       "      <td>S</td>\n",
       "      <td>S</td>\n",
       "      <td>2010-01-01</td>\n",
       "      <td>2013-06-08</td>\n",
       "      <td>2009-12-30</td>\n",
       "      <td>...</td>\n",
       "      <td>CICLO I</td>\n",
       "      <td>SI</td>\n",
       "      <td>NaN</td>\n",
       "      <td>235</td>\n",
       "      <td>EPAMSCAS POPAYAN (ERE)</td>\n",
       "      <td>CAUCA</td>\n",
       "      <td>POPAYAN</td>\n",
       "      <td>OCCIDENTE</td>\n",
       "      <td>Baja</td>\n",
       "      <td>01</td>\n",
       "    </tr>\n",
       "    <tr>\n",
       "      <th>4</th>\n",
       "      <td>CB7033A707ADE673139F8A17CAD26AD54696C135</td>\n",
       "      <td>UTILIZACION ILEGAL DE UNIFORMES E INSIGNIAS</td>\n",
       "      <td>CONTRA LA SEGURIDAD PUBLICA</td>\n",
       "      <td>DE LOS DELITOS DE PELIGRO COMUN O QUE PUEDEN O...</td>\n",
       "      <td>N</td>\n",
       "      <td>N</td>\n",
       "      <td>N</td>\n",
       "      <td>2010-01-01</td>\n",
       "      <td>2013-06-08</td>\n",
       "      <td>2009-12-30</td>\n",
       "      <td>...</td>\n",
       "      <td>CICLO I</td>\n",
       "      <td>SI</td>\n",
       "      <td>NaN</td>\n",
       "      <td>235</td>\n",
       "      <td>EPAMSCAS POPAYAN (ERE)</td>\n",
       "      <td>CAUCA</td>\n",
       "      <td>POPAYAN</td>\n",
       "      <td>OCCIDENTE</td>\n",
       "      <td>Baja</td>\n",
       "      <td>01</td>\n",
       "    </tr>\n",
       "  </tbody>\n",
       "</table>\n",
       "<p>5 rows × 33 columns</p>\n",
       "</div>"
      ],
      "text/plain": [
       "                                  INTERNOEN  \\\n",
       "0  5496C737C624136DB406CFC6744C684C070A3CD8   \n",
       "1  1097561F306939C26DB4AC60377063DA7E2B079F   \n",
       "2  CB7033A707ADE673139F8A17CAD26AD54696C135   \n",
       "3  CB7033A707ADE673139F8A17CAD26AD54696C135   \n",
       "4  CB7033A707ADE673139F8A17CAD26AD54696C135   \n",
       "\n",
       "                                              DELITO  \\\n",
       "0  FABRICACION TRAFICO Y PORTE DE ARMAS DE FUEGO ...   \n",
       "1     TRAFICO FABRICACION O PORTE DE ESTUPEFACIENTES   \n",
       "2  FABRICACION TRAFICO Y PORTE DE ARMAS DE FUEGO ...   \n",
       "3                                              HURTO   \n",
       "4        UTILIZACION ILEGAL DE UNIFORMES E INSIGNIAS   \n",
       "\n",
       "                    TITULO_DELITO  \\\n",
       "0     CONTRA LA SEGURIDAD PUBLICA   \n",
       "1         CONTRA LA SALUD PUBLICA   \n",
       "2     CONTRA LA SEGURIDAD PUBLICA   \n",
       "3  CONTRA EL PATRIMONIO ECONOMICO   \n",
       "4     CONTRA LA SEGURIDAD PUBLICA   \n",
       "\n",
       "                                    SUBTITULO_DELITO TENTATIVA AGRAVADO  \\\n",
       "0  DE LOS DELITOS DE PELIGRO COMUN O QUE PUEDEN O...         N        N   \n",
       "1             DE LAS AFECTACIONES A LA SALUD PUBLICA         N        N   \n",
       "2  DE LOS DELITOS DE PELIGRO COMUN O QUE PUEDEN O...         N        N   \n",
       "3                                       DE LA ESTAFA         N        S   \n",
       "4  DE LOS DELITOS DE PELIGRO COMUN O QUE PUEDEN O...         N        N   \n",
       "\n",
       "  CALIFICADO FECHA_INGRESO FECHA_SALIDA FECHA_CAPTURA  ... NIVEL_EDUCATIVO  \\\n",
       "0          N    2010-01-01   2011-12-05    2009-12-30  ...       CICLO III   \n",
       "1          N    2010-01-01   2011-05-12    2009-12-30  ...         CICLO I   \n",
       "2          N    2010-01-01   2013-06-08    2009-12-30  ...         CICLO I   \n",
       "3          S    2010-01-01   2013-06-08    2009-12-30  ...         CICLO I   \n",
       "4          N    2010-01-01   2013-06-08    2009-12-30  ...         CICLO I   \n",
       "\n",
       "   HIJOS_MENORES  CONDIC_EXPECIONAL CODIGO_ESTABLECIMIENTO  \\\n",
       "0             SI                NaN                    502   \n",
       "1             SI                NaN                    502   \n",
       "2             SI                NaN                    235   \n",
       "3             SI                NaN                    235   \n",
       "4             SI                NaN                    235   \n",
       "\n",
       "          ESTABLECIMIENTO DEPTO_ESTABLECIMIENTO MPIO_ESTABLECIMIENTO  \\\n",
       "0          EPMSC MEDELLIN             ANTIOQUIA             MEDELLIN   \n",
       "1          EPMSC MEDELLIN             ANTIOQUIA             MEDELLIN   \n",
       "2  EPAMSCAS POPAYAN (ERE)                 CAUCA              POPAYAN   \n",
       "3  EPAMSCAS POPAYAN (ERE)                 CAUCA              POPAYAN   \n",
       "4  EPAMSCAS POPAYAN (ERE)                 CAUCA              POPAYAN   \n",
       "\n",
       "    REGIONAL ESTADO MES_INGRESO_INT  \n",
       "0   NOROESTE   Baja              01  \n",
       "1   NOROESTE   Baja              01  \n",
       "2  OCCIDENTE   Baja              01  \n",
       "3  OCCIDENTE   Baja              01  \n",
       "4  OCCIDENTE   Baja              01  \n",
       "\n",
       "[5 rows x 33 columns]"
      ]
     },
     "execution_count": 31,
     "metadata": {},
     "output_type": "execute_result"
    }
   ],
   "source": [
    "df_mj[\"FECHA_CAPTURA\"] = pd.to_datetime(df_mj[\"FECHA_CAPTURA\"])\n",
    "df_mj[\"FECHA_INGRESO\"] = pd.to_datetime(df_mj[\"FECHA_INGRESO\"])\n",
    "df_mj[\"FECHA_SALIDA\"] = pd.to_datetime(df_mj[\"FECHA_SALIDA\"])\n",
    "\n",
    "df_mj[\"MES_INGRESO_INT\"]=df_mj[\"FECHA_INGRESO\"].dt.strftime('%m')\n",
    "df_mj.head()"
   ]
  },
  {
   "cell_type": "code",
   "execution_count": 32,
   "metadata": {
    "colab": {
     "base_uri": "https://localhost:8080/",
     "height": 337
    },
    "colab_type": "code",
    "id": "nlX1b7XMfH3Z",
    "outputId": "209026fa-a687-491e-a884-c529c55bed46"
   },
   "outputs": [
    {
     "name": "stderr",
     "output_type": "stream",
     "text": [
      "<ipython-input-32-fc0f918af65f>:6: SettingWithCopyWarning:\n",
      "\n",
      "\n",
      "A value is trying to be set on a copy of a slice from a DataFrame\n",
      "\n",
      "See the caveats in the documentation: https://pandas.pydata.org/pandas-docs/stable/user_guide/indexing.html#returning-a-view-versus-a-copy\n",
      "\n"
     ]
    }
   ],
   "source": [
    "for column in ['FECHA_INGRESO', 'FECHA_SALIDA', 'FECHA_CAPTURA']:\n",
    "    df_mj = df_mj.sort_values(['INTERNOEN', column], ascending = False)\n",
    "    \n",
    "    df_mj['DIAS' + column[5:]] = -1*df_mj[column].diff().copy()\n",
    "\n",
    "    df_mj['DIAS' + column[5:]][(df_mj.INTERNOEN != df_mj.INTERNOEN.shift(1)) | (df_mj['DIAS' + column[5:]] == np.timedelta64(0))] = (datetime.today() - pd.to_datetime(df_mj[column]))\n"
   ]
  },
  {
   "cell_type": "code",
   "execution_count": 33,
   "metadata": {},
   "outputs": [
    {
     "data": {
      "text/html": [
       "<div>\n",
       "<style scoped>\n",
       "    .dataframe tbody tr th:only-of-type {\n",
       "        vertical-align: middle;\n",
       "    }\n",
       "\n",
       "    .dataframe tbody tr th {\n",
       "        vertical-align: top;\n",
       "    }\n",
       "\n",
       "    .dataframe thead th {\n",
       "        text-align: right;\n",
       "    }\n",
       "</style>\n",
       "<table border=\"1\" class=\"dataframe\">\n",
       "  <thead>\n",
       "    <tr style=\"text-align: right;\">\n",
       "      <th></th>\n",
       "      <th>INTERNOEN</th>\n",
       "      <th>DELITO</th>\n",
       "      <th>TITULO_DELITO</th>\n",
       "      <th>SUBTITULO_DELITO</th>\n",
       "      <th>TENTATIVA</th>\n",
       "      <th>AGRAVADO</th>\n",
       "      <th>CALIFICADO</th>\n",
       "      <th>FECHA_INGRESO</th>\n",
       "      <th>FECHA_SALIDA</th>\n",
       "      <th>FECHA_CAPTURA</th>\n",
       "      <th>...</th>\n",
       "      <th>MPIO_ESTABLECIMIENTO</th>\n",
       "      <th>REGIONAL</th>\n",
       "      <th>ESTADO</th>\n",
       "      <th>MES_INGRESO_INT</th>\n",
       "      <th>DIAS_INGRESO</th>\n",
       "      <th>DIAS_SALIDA</th>\n",
       "      <th>DIAS_CAPTURA</th>\n",
       "      <th>DIAS_CONDENA</th>\n",
       "      <th>DIAS_JUDICIALIZACION</th>\n",
       "      <th>DIAS_LIBRE</th>\n",
       "    </tr>\n",
       "  </thead>\n",
       "  <tbody>\n",
       "    <tr>\n",
       "      <th>39682</th>\n",
       "      <td>000393AD7FE65FBBE53A61B0EAA1FB9A62F71450</td>\n",
       "      <td>FABRICACION TRAFICO Y PORTE DE ARMAS DE FUEGO ...</td>\n",
       "      <td>CONTRA LA SEGURIDAD PUBLICA</td>\n",
       "      <td>DE LOS DELITOS DE PELIGRO COMUN O QUE PUEDEN O...</td>\n",
       "      <td>N</td>\n",
       "      <td>N</td>\n",
       "      <td>N</td>\n",
       "      <td>2013-05-17</td>\n",
       "      <td>2015-11-08</td>\n",
       "      <td>2010-04-22</td>\n",
       "      <td>...</td>\n",
       "      <td>BOGOTA D.C.</td>\n",
       "      <td>CENTRAL</td>\n",
       "      <td>Baja</td>\n",
       "      <td>05</td>\n",
       "      <td>2634 days 22:46:54.150419</td>\n",
       "      <td>1729 days 22:46:54.418421</td>\n",
       "      <td>3755 days 22:46:54.680457</td>\n",
       "      <td>905 days</td>\n",
       "      <td>1121 days</td>\n",
       "      <td>1729 days 22:46:54.150419</td>\n",
       "    </tr>\n",
       "    <tr>\n",
       "      <th>39683</th>\n",
       "      <td>000393AD7FE65FBBE53A61B0EAA1FB9A62F71450</td>\n",
       "      <td>HURTO</td>\n",
       "      <td>CONTRA EL PATRIMONIO ECONOMICO</td>\n",
       "      <td>DE LA ESTAFA</td>\n",
       "      <td>N</td>\n",
       "      <td>S</td>\n",
       "      <td>S</td>\n",
       "      <td>2013-05-17</td>\n",
       "      <td>2015-11-08</td>\n",
       "      <td>2010-04-22</td>\n",
       "      <td>...</td>\n",
       "      <td>BOGOTA D.C.</td>\n",
       "      <td>CENTRAL</td>\n",
       "      <td>Baja</td>\n",
       "      <td>05</td>\n",
       "      <td>2634 days 22:46:54.150419</td>\n",
       "      <td>1729 days 22:46:54.418421</td>\n",
       "      <td>3755 days 22:46:54.680457</td>\n",
       "      <td>905 days</td>\n",
       "      <td>1121 days</td>\n",
       "      <td>1729 days 22:46:54.150419</td>\n",
       "    </tr>\n",
       "    <tr>\n",
       "      <th>133508</th>\n",
       "      <td>000357E4F19E3722BA43488F69A7D7DECFC620C4</td>\n",
       "      <td>CONCIERTO PARA DELINQUIR</td>\n",
       "      <td>CONTRA LA SEGURIDAD PUBLICA</td>\n",
       "      <td>DE LOS DELITOS DE PELIGRO COMUN O QUE PUEDEN O...</td>\n",
       "      <td>N</td>\n",
       "      <td>N</td>\n",
       "      <td>N</td>\n",
       "      <td>2019-09-25</td>\n",
       "      <td>NaT</td>\n",
       "      <td>2017-12-14</td>\n",
       "      <td>...</td>\n",
       "      <td>PEREIRA</td>\n",
       "      <td>VIEJO CALDAS</td>\n",
       "      <td>Activo</td>\n",
       "      <td>09</td>\n",
       "      <td>312 days 22:46:54.150419</td>\n",
       "      <td>NaT</td>\n",
       "      <td>962 days 22:46:54.680457</td>\n",
       "      <td>NaT</td>\n",
       "      <td>650 days</td>\n",
       "      <td>NaT</td>\n",
       "    </tr>\n",
       "    <tr>\n",
       "      <th>133509</th>\n",
       "      <td>000357E4F19E3722BA43488F69A7D7DECFC620C4</td>\n",
       "      <td>HURTO</td>\n",
       "      <td>CONTRA EL PATRIMONIO ECONOMICO</td>\n",
       "      <td>DE LA ESTAFA</td>\n",
       "      <td>N</td>\n",
       "      <td>S</td>\n",
       "      <td>S</td>\n",
       "      <td>2019-09-25</td>\n",
       "      <td>NaT</td>\n",
       "      <td>2017-12-14</td>\n",
       "      <td>...</td>\n",
       "      <td>PEREIRA</td>\n",
       "      <td>VIEJO CALDAS</td>\n",
       "      <td>Activo</td>\n",
       "      <td>09</td>\n",
       "      <td>312 days 22:46:54.150419</td>\n",
       "      <td>NaT</td>\n",
       "      <td>962 days 22:46:54.680457</td>\n",
       "      <td>NaT</td>\n",
       "      <td>650 days</td>\n",
       "      <td>NaT</td>\n",
       "    </tr>\n",
       "    <tr>\n",
       "      <th>112953</th>\n",
       "      <td>000334541B6B3305CE91761942D7B381248777EA</td>\n",
       "      <td>TRAFICO FABRICACION O PORTE DE ESTUPEFACIENTES</td>\n",
       "      <td>CONTRA LA SALUD PUBLICA</td>\n",
       "      <td>DE LAS AFECTACIONES A LA SALUD PUBLICA</td>\n",
       "      <td>N</td>\n",
       "      <td>N</td>\n",
       "      <td>N</td>\n",
       "      <td>2018-06-08</td>\n",
       "      <td>NaT</td>\n",
       "      <td>2018-02-08</td>\n",
       "      <td>...</td>\n",
       "      <td>PITALITO</td>\n",
       "      <td>CENTRAL</td>\n",
       "      <td>Activo</td>\n",
       "      <td>06</td>\n",
       "      <td>786 days 22:46:54.150419</td>\n",
       "      <td>NaT</td>\n",
       "      <td>906 days 22:46:54.680457</td>\n",
       "      <td>NaT</td>\n",
       "      <td>120 days</td>\n",
       "      <td>NaT</td>\n",
       "    </tr>\n",
       "  </tbody>\n",
       "</table>\n",
       "<p>5 rows × 39 columns</p>\n",
       "</div>"
      ],
      "text/plain": [
       "                                       INTERNOEN  \\\n",
       "39682   000393AD7FE65FBBE53A61B0EAA1FB9A62F71450   \n",
       "39683   000393AD7FE65FBBE53A61B0EAA1FB9A62F71450   \n",
       "133508  000357E4F19E3722BA43488F69A7D7DECFC620C4   \n",
       "133509  000357E4F19E3722BA43488F69A7D7DECFC620C4   \n",
       "112953  000334541B6B3305CE91761942D7B381248777EA   \n",
       "\n",
       "                                                   DELITO  \\\n",
       "39682   FABRICACION TRAFICO Y PORTE DE ARMAS DE FUEGO ...   \n",
       "39683                                               HURTO   \n",
       "133508                           CONCIERTO PARA DELINQUIR   \n",
       "133509                                              HURTO   \n",
       "112953     TRAFICO FABRICACION O PORTE DE ESTUPEFACIENTES   \n",
       "\n",
       "                         TITULO_DELITO  \\\n",
       "39682      CONTRA LA SEGURIDAD PUBLICA   \n",
       "39683   CONTRA EL PATRIMONIO ECONOMICO   \n",
       "133508     CONTRA LA SEGURIDAD PUBLICA   \n",
       "133509  CONTRA EL PATRIMONIO ECONOMICO   \n",
       "112953         CONTRA LA SALUD PUBLICA   \n",
       "\n",
       "                                         SUBTITULO_DELITO TENTATIVA AGRAVADO  \\\n",
       "39682   DE LOS DELITOS DE PELIGRO COMUN O QUE PUEDEN O...         N        N   \n",
       "39683                                        DE LA ESTAFA         N        S   \n",
       "133508  DE LOS DELITOS DE PELIGRO COMUN O QUE PUEDEN O...         N        N   \n",
       "133509                                       DE LA ESTAFA         N        S   \n",
       "112953             DE LAS AFECTACIONES A LA SALUD PUBLICA         N        N   \n",
       "\n",
       "       CALIFICADO FECHA_INGRESO FECHA_SALIDA FECHA_CAPTURA  ...  \\\n",
       "39682           N    2013-05-17   2015-11-08    2010-04-22  ...   \n",
       "39683           S    2013-05-17   2015-11-08    2010-04-22  ...   \n",
       "133508          N    2019-09-25          NaT    2017-12-14  ...   \n",
       "133509          S    2019-09-25          NaT    2017-12-14  ...   \n",
       "112953          N    2018-06-08          NaT    2018-02-08  ...   \n",
       "\n",
       "       MPIO_ESTABLECIMIENTO      REGIONAL  ESTADO MES_INGRESO_INT  \\\n",
       "39682           BOGOTA D.C.       CENTRAL    Baja              05   \n",
       "39683           BOGOTA D.C.       CENTRAL    Baja              05   \n",
       "133508              PEREIRA  VIEJO CALDAS  Activo              09   \n",
       "133509              PEREIRA  VIEJO CALDAS  Activo              09   \n",
       "112953             PITALITO       CENTRAL  Activo              06   \n",
       "\n",
       "                    DIAS_INGRESO               DIAS_SALIDA  \\\n",
       "39682  2634 days 22:46:54.150419 1729 days 22:46:54.418421   \n",
       "39683  2634 days 22:46:54.150419 1729 days 22:46:54.418421   \n",
       "133508  312 days 22:46:54.150419                       NaT   \n",
       "133509  312 days 22:46:54.150419                       NaT   \n",
       "112953  786 days 22:46:54.150419                       NaT   \n",
       "\n",
       "                    DIAS_CAPTURA DIAS_CONDENA DIAS_JUDICIALIZACION  \\\n",
       "39682  3755 days 22:46:54.680457     905 days            1121 days   \n",
       "39683  3755 days 22:46:54.680457     905 days            1121 days   \n",
       "133508  962 days 22:46:54.680457          NaT             650 days   \n",
       "133509  962 days 22:46:54.680457          NaT             650 days   \n",
       "112953  906 days 22:46:54.680457          NaT             120 days   \n",
       "\n",
       "                      DIAS_LIBRE  \n",
       "39682  1729 days 22:46:54.150419  \n",
       "39683  1729 days 22:46:54.150419  \n",
       "133508                       NaT  \n",
       "133509                       NaT  \n",
       "112953                       NaT  \n",
       "\n",
       "[5 rows x 39 columns]"
      ]
     },
     "execution_count": 33,
     "metadata": {},
     "output_type": "execute_result"
    }
   ],
   "source": [
    "df_mj['DIAS_CONDENA'] = df_mj['FECHA_SALIDA'] - df_mj['FECHA_INGRESO'] \n",
    "df_mj['DIAS_JUDICIALIZACION'] = df_mj['FECHA_INGRESO'] - df_mj['FECHA_CAPTURA']\n",
    "df_mj['DIAS_LIBRE'] = (df_mj['DIAS_INGRESO'] - df_mj['DIAS_CONDENA'])\n",
    "df_mj.tail()\n",
    "# df_mj['DIAS_CAPTURA'].unique().astype('timedelta64[D]')"
   ]
  },
  {
   "cell_type": "markdown",
   "metadata": {
    "colab_type": "text",
    "id": "Ndyq45BvXWmi"
   },
   "source": [
    "individuals"
   ]
  },
  {
   "cell_type": "code",
   "execution_count": 34,
   "metadata": {
    "colab": {
     "base_uri": "https://localhost:8080/",
     "height": 54
    },
    "colab_type": "code",
    "id": "Ul03ymVTXWml",
    "outputId": "5aed051e-0370-44c7-da66-b4e0298f5684"
   },
   "outputs": [
    {
     "name": "stdout",
     "output_type": "stream",
     "text": [
      "length of complete df: 142899\n",
      "length of unique individuals: 78841\n"
     ]
    }
   ],
   "source": [
    "individuals = df_mj[\"INTERNOEN\"].unique()\n",
    "print(\"length of complete df: \" + str(df_mj[\"INTERNOEN\"].count()))\n",
    "print(\"length of unique individuals: \"+ str(len(individuals)))"
   ]
  },
  {
   "cell_type": "code",
   "execution_count": 35,
   "metadata": {
    "colab": {
     "base_uri": "https://localhost:8080/",
     "height": 182
    },
    "colab_type": "code",
    "id": "VFlGhvfhXWm2",
    "outputId": "03320b9f-14d5-491e-d5f0-c6b84ede24c3"
   },
   "outputs": [
    {
     "name": "stdout",
     "output_type": "stream",
     "text": [
      "number of occurrences by individual\n"
     ]
    },
    {
     "data": {
      "text/plain": [
       "71D8863489582B956956B3E244CF97F629E190F8    16\n",
       "85F84CC906246E467ACC8D3CD73B576E0B264556    15\n",
       "C6A8D6B8A3433007BDDE0B6A682268EFD0FA16AD    14\n",
       "5F6A19F239D3786924DB4FEAC108F33219BFD205    14\n",
       "D46A8E8ACCCCBB5CF90A9A81047E36D2207F25FB    13\n",
       "                                            ..\n",
       "EF6290F52FABEE4B9B3FC80DA099D7C3CFC42AAD     1\n",
       "21D268D13DEDCDF019A44CF4B8343DB9CC2A57DA     1\n",
       "C43984962FD09290AAAEDD51A5639ADD4A7BCA0F     1\n",
       "D082ED87AF4888421DC9CD6D8B1A58899AC5D623     1\n",
       "3C590DA50C2C4FD7A610C4C76512A1097016DED3     1\n",
       "Name: INTERNOEN, Length: 78841, dtype: int64"
      ]
     },
     "execution_count": 35,
     "metadata": {},
     "output_type": "execute_result"
    }
   ],
   "source": [
    "print(\"number of occurrences by individual\")\n",
    "occurrences = df_mj[\"INTERNOEN\"].value_counts()\n",
    "occurrences"
   ]
  },
  {
   "cell_type": "code",
   "execution_count": 36,
   "metadata": {
    "colab": {
     "base_uri": "https://localhost:8080/",
     "height": 74
    },
    "colab_type": "code",
    "id": "FJbl4HtMXWnI",
    "outputId": "fdbb7143-e612-488f-9cec-3934d4c3b3bb"
   },
   "outputs": [
    {
     "name": "stdout",
     "output_type": "stream",
     "text": [
      "crimes of individual 71D8863489582B956956B3E244CF97F629E190F8: \n",
      "CONCIERTO PARA DELINQUIR, CONSTREÑIMIENTO ILEGAL, DESPLAZAMIENTO FORZADO, DESTRUCCION Y APROPIACION DE BIENES PROTEGIDOS, FABRICACION  TRAFICO Y PORTE DE ARMAS Y MUNICIONES DE USO PRIVATIVO DE LAS FUERZAS ARMADAS, HOMICIDIO, HOMICIDIO EN PERSONA PROTEGIDA, HURTO, RECLUTAMIENTO ILICITO, SECUESTRO SIMPLE, TORTURA EN PERSONA PROTEGIDA, UTILIZACION ILEGAL DE UNIFORMES E INSIGNIAS, CONCIERTO PARA DELINQUIR, DESPLAZAMIENTO FORZADO, HOMICIDIO, HURTO, "
     ]
    }
   ],
   "source": [
    "for item in occurrences.index:\n",
    "    print(\"crimes of individual \" + str(item) + \": \")\n",
    "    crime_list_per_ind = df_mj[\"DELITO\"].where(df_mj[\"INTERNOEN\"]==item)\n",
    "    for crime in crime_list_per_ind.dropna():\n",
    "        print(crime + \", \", end=\"\")\n",
    "    #breaking to check just first ind\n",
    "    break"
   ]
  },
  {
   "cell_type": "markdown",
   "metadata": {
    "colab_type": "text",
    "id": "pUdUU0R3eFHY"
   },
   "source": [
    "Ubicación geográfica"
   ]
  },
  {
   "cell_type": "code",
   "execution_count": 37,
   "metadata": {
    "colab": {
     "base_uri": "https://localhost:8080/",
     "height": 164
    },
    "colab_type": "code",
    "id": "xJrfVLsqXWnX",
    "outputId": "e70a8c7c-e0e8-4d6a-9556-6d1cca5572ca"
   },
   "outputs": [
    {
     "data": {
      "text/plain": [
       "BOGOTA D.C.                 19008\n",
       "ANTIOQUIA                   18591\n",
       "VALLE DEL CAUCA             17346\n",
       "SANTANDER                    9274\n",
       "META                         7996\n",
       "                            ...  \n",
       "ARAUCA                        513\n",
       "LA GUAJIRA                    456\n",
       "PUTUMAYO                      378\n",
       "AMAZONAS                      349\n",
       "SAN ANDRES Y PROVIDENCIA      252\n",
       "Name: DEPTO_ESTABLECIMIENTO, Length: 29, dtype: int64"
      ]
     },
     "execution_count": 37,
     "metadata": {},
     "output_type": "execute_result"
    }
   ],
   "source": [
    "dept_count = df_mj[\"DEPTO_ESTABLECIMIENTO\"].value_counts()\n",
    "dept_count"
   ]
  },
  {
   "cell_type": "code",
   "execution_count": 38,
   "metadata": {
    "colab": {},
    "colab_type": "code",
    "id": "GtvEDB4jXWnh"
   },
   "outputs": [
    {
     "data": {
      "text/plain": [
       "MASCULINO    131485\n",
       "FEMENINO      11414\n",
       "Name: GENERO, dtype: int64"
      ]
     },
     "execution_count": 38,
     "metadata": {},
     "output_type": "execute_result"
    }
   ],
   "source": [
    "gender_count = df_mj[\"GENERO\"].value_counts()\n",
    "gender_count"
   ]
  },
  {
   "cell_type": "code",
   "execution_count": 39,
   "metadata": {},
   "outputs": [
    {
     "name": "stdout",
     "output_type": "stream",
     "text": [
      "CICLO II               54353\n",
      "CICLO I                28198\n",
      "CICLO III              27839\n",
      "CICLO IV               25109\n",
      "ANALFABETA              3717\n",
      "PROFESIONAL             1636\n",
      "TECNICO                 1328\n",
      "TECNOLOGICO              460\n",
      "ESPECIALIZACION          145\n",
      "TECNICO PROFESIONAL       61\n",
      "POST GRADO                33\n",
      "MAGISTER                  20\n",
      "Name: NIVEL_EDUCATIVO, dtype: int64\n"
     ]
    },
    {
     "data": {
      "text/plain": [
       "count       142899\n",
       "unique          12\n",
       "top       CICLO II\n",
       "freq         54353\n",
       "Name: NIVEL_EDUCATIVO, dtype: object"
      ]
     },
     "execution_count": 39,
     "metadata": {},
     "output_type": "execute_result"
    }
   ],
   "source": [
    "education_count =df_mj[\"NIVEL_EDUCATIVO\"].value_counts()\n",
    "print(education_count)\n",
    "\n",
    "df_mj[\"NIVEL_EDUCATIVO\"].describe()"
   ]
  },
  {
   "cell_type": "code",
   "execution_count": 40,
   "metadata": {},
   "outputs": [
    {
     "name": "stdout",
     "output_type": "stream",
     "text": [
      "Male education leves\n",
      " CICLO II               49994\n",
      "CICLO III              25844\n",
      "CICLO I                25790\n",
      "CICLO IV               23352\n",
      "ANALFABETA              3389\n",
      "PROFESIONAL             1375\n",
      "TECNICO                 1128\n",
      "TECNOLOGICO              397\n",
      "ESPECIALIZACION          115\n",
      "TECNICO PROFESIONAL       51\n",
      "POST GRADO                30\n",
      "MAGISTER                  20\n",
      "Name: NIVEL_EDUCATIVO, dtype: int64 \n",
      "\n",
      " Female education leves\n",
      " CICLO II               4359\n",
      "CICLO I                2408\n",
      "CICLO III              1995\n",
      "CICLO IV               1757\n",
      "ANALFABETA              328\n",
      "PROFESIONAL             261\n",
      "TECNICO                 200\n",
      "TECNOLOGICO              63\n",
      "ESPECIALIZACION          30\n",
      "TECNICO PROFESIONAL      10\n",
      "POST GRADO                3\n",
      "Name: NIVEL_EDUCATIVO, dtype: int64\n"
     ]
    }
   ],
   "source": [
    "education_male = df_mj[\"NIVEL_EDUCATIVO\"][df_mj[\"GENERO\"]==\"MASCULINO\"].value_counts()\n",
    "education_female = df_mj[\"NIVEL_EDUCATIVO\"][df_mj[\"GENERO\"]==\"FEMENINO\"].value_counts()\n",
    "print(\"Male education leves\\n\",education_male,\"\\n\\n\",\"Female education leves\\n\", education_female)"
   ]
  },
  {
   "cell_type": "code",
   "execution_count": 41,
   "metadata": {},
   "outputs": [
    {
     "data": {
      "text/plain": [
       "CONTRA EL PATRIMONIO ECONOMICO                 56860\n",
       "CONTRA LA SEGURIDAD PUBLICA                    31591\n",
       "CONTRA LA SALUD PUBLICA                        25028\n",
       "CONTRA LA VIDA Y LA INTEGRIDAD PERSONAL        11329\n",
       "CONTRA LA FAMILIA                               3689\n",
       "                                               ...  \n",
       "DELITOS DE PARAMILITARISMO Y SICARIATO             9\n",
       "DELITOS CONTRA LA DISCIPLINA                       5\n",
       "ACCION DE TUTELA                                   4\n",
       "DELITOS CONTRA LA ADMINISTRACION PUBLICA           2\n",
       "CONTRA LA EXISTENCIA Y SEGURIDAD DEL ESTADO        1\n",
       "Name: TITULO_DELITO, Length: 25, dtype: int64"
      ]
     },
     "execution_count": 41,
     "metadata": {},
     "output_type": "execute_result"
    }
   ],
   "source": [
    "df_mj[\"TITULO_DELITO\"].value_counts()"
   ]
  },
  {
   "cell_type": "code",
   "execution_count": 42,
   "metadata": {},
   "outputs": [],
   "source": [
    "df_genero = pd.DataFrame(df_mj.groupby([\"GENERO\",\"TITULO_DELITO\"])[\"INTERNOEN\"].agg('count'))\n",
    "df_genero.reset_index(inplace=True)\n",
    "\n",
    "df_geo_gen = pd.DataFrame(df_mj.groupby([\"GENERO\",\"DEPTO_ESTABLECIMIENTO\"])[\"INTERNOEN\"].agg('count'))\n",
    "df_geo_gen.reset_index(inplace=True)\n",
    "\n",
    "df_crimen = pd.DataFrame(df_mj.groupby([\"TITULO_DELITO\"])[\"INTERNOEN\"].agg('count'))\n",
    "df_crimen.reset_index(inplace=True)\n",
    "\n",
    "df_edu_gen = pd.DataFrame(df_mj.groupby([\"GENERO\",\"NIVEL_EDUCATIVO\"])[\"INTERNOEN\"].agg('count'))\n",
    "df_edu_gen.reset_index(inplace=True)"
   ]
  },
  {
   "cell_type": "code",
   "execution_count": 43,
   "metadata": {
    "scrolled": false
   },
   "outputs": [
    {
     "data": {
      "application/vnd.plotly.v1+json": {
       "config": {
        "plotlyServerURL": "https://plot.ly"
       },
       "data": [
        {
         "alignmentgroup": "True",
         "customdata": [
          [
           "FEMENINO",
           "ANALFABETA"
          ],
          [
           "FEMENINO",
           "CICLO I"
          ],
          [
           "FEMENINO",
           "CICLO II"
          ],
          [
           "FEMENINO",
           "CICLO III"
          ],
          [
           "FEMENINO",
           "CICLO IV"
          ],
          [
           "FEMENINO",
           "ESPECIALIZACION"
          ],
          [
           "FEMENINO",
           "POST GRADO"
          ],
          [
           "FEMENINO",
           "PROFESIONAL"
          ],
          [
           "FEMENINO",
           "TECNICO"
          ],
          [
           "FEMENINO",
           "TECNICO PROFESIONAL"
          ],
          [
           "FEMENINO",
           "TECNOLOGICO"
          ]
         ],
         "hovertemplate": "GENERO=%{customdata[0]}<br>Nivel educativo=%{customdata[1]}<br>Frecuencia del crimen=%{text}<extra></extra>",
         "legendgroup": "FEMENINO",
         "marker": {
          "color": "#636efa"
         },
         "name": "FEMENINO",
         "offsetgroup": "FEMENINO",
         "orientation": "v",
         "showlegend": true,
         "text": [
          328,
          2408,
          4359,
          1995,
          1757,
          30,
          3,
          261,
          200,
          10,
          63
         ],
         "textposition": "outside",
         "texttemplate": "%{text:.2s}",
         "type": "bar",
         "x": [
          "ANALFABETA",
          "CICLO I",
          "CICLO II",
          "CICLO III",
          "CICLO IV",
          "ESPECIALIZACION",
          "POST GRADO",
          "PROFESIONAL",
          "TECNICO",
          "TECNICO PROFESIONAL",
          "TECNOLOGICO"
         ],
         "xaxis": "x",
         "y": [
          328,
          2408,
          4359,
          1995,
          1757,
          30,
          3,
          261,
          200,
          10,
          63
         ],
         "yaxis": "y"
        },
        {
         "alignmentgroup": "True",
         "customdata": [
          [
           "MASCULINO",
           "ANALFABETA"
          ],
          [
           "MASCULINO",
           "CICLO I"
          ],
          [
           "MASCULINO",
           "CICLO II"
          ],
          [
           "MASCULINO",
           "CICLO III"
          ],
          [
           "MASCULINO",
           "CICLO IV"
          ],
          [
           "MASCULINO",
           "ESPECIALIZACION"
          ],
          [
           "MASCULINO",
           "MAGISTER"
          ],
          [
           "MASCULINO",
           "POST GRADO"
          ],
          [
           "MASCULINO",
           "PROFESIONAL"
          ],
          [
           "MASCULINO",
           "TECNICO"
          ],
          [
           "MASCULINO",
           "TECNICO PROFESIONAL"
          ],
          [
           "MASCULINO",
           "TECNOLOGICO"
          ]
         ],
         "hovertemplate": "GENERO=%{customdata[0]}<br>Nivel educativo=%{customdata[1]}<br>Frecuencia del crimen=%{text}<extra></extra>",
         "legendgroup": "MASCULINO",
         "marker": {
          "color": "#EF553B"
         },
         "name": "MASCULINO",
         "offsetgroup": "MASCULINO",
         "orientation": "v",
         "showlegend": true,
         "text": [
          3389,
          25790,
          49994,
          25844,
          23352,
          115,
          20,
          30,
          1375,
          1128,
          51,
          397
         ],
         "textposition": "outside",
         "texttemplate": "%{text:.2s}",
         "type": "bar",
         "x": [
          "ANALFABETA",
          "CICLO I",
          "CICLO II",
          "CICLO III",
          "CICLO IV",
          "ESPECIALIZACION",
          "MAGISTER",
          "POST GRADO",
          "PROFESIONAL",
          "TECNICO",
          "TECNICO PROFESIONAL",
          "TECNOLOGICO"
         ],
         "xaxis": "x",
         "y": [
          3389,
          25790,
          49994,
          25844,
          23352,
          115,
          20,
          30,
          1375,
          1128,
          51,
          397
         ],
         "yaxis": "y"
        }
       ],
       "layout": {
        "barmode": "group",
        "height": 500,
        "legend": {
         "title": {
          "text": "GENERO"
         },
         "tracegroupgap": 0
        },
        "margin": {
         "t": 60
        },
        "template": {
         "data": {
          "bar": [
           {
            "error_x": {
             "color": "#2a3f5f"
            },
            "error_y": {
             "color": "#2a3f5f"
            },
            "marker": {
             "line": {
              "color": "#E5ECF6",
              "width": 0.5
             }
            },
            "type": "bar"
           }
          ],
          "barpolar": [
           {
            "marker": {
             "line": {
              "color": "#E5ECF6",
              "width": 0.5
             }
            },
            "type": "barpolar"
           }
          ],
          "carpet": [
           {
            "aaxis": {
             "endlinecolor": "#2a3f5f",
             "gridcolor": "white",
             "linecolor": "white",
             "minorgridcolor": "white",
             "startlinecolor": "#2a3f5f"
            },
            "baxis": {
             "endlinecolor": "#2a3f5f",
             "gridcolor": "white",
             "linecolor": "white",
             "minorgridcolor": "white",
             "startlinecolor": "#2a3f5f"
            },
            "type": "carpet"
           }
          ],
          "choropleth": [
           {
            "colorbar": {
             "outlinewidth": 0,
             "ticks": ""
            },
            "type": "choropleth"
           }
          ],
          "contour": [
           {
            "colorbar": {
             "outlinewidth": 0,
             "ticks": ""
            },
            "colorscale": [
             [
              0,
              "#0d0887"
             ],
             [
              0.1111111111111111,
              "#46039f"
             ],
             [
              0.2222222222222222,
              "#7201a8"
             ],
             [
              0.3333333333333333,
              "#9c179e"
             ],
             [
              0.4444444444444444,
              "#bd3786"
             ],
             [
              0.5555555555555556,
              "#d8576b"
             ],
             [
              0.6666666666666666,
              "#ed7953"
             ],
             [
              0.7777777777777778,
              "#fb9f3a"
             ],
             [
              0.8888888888888888,
              "#fdca26"
             ],
             [
              1,
              "#f0f921"
             ]
            ],
            "type": "contour"
           }
          ],
          "contourcarpet": [
           {
            "colorbar": {
             "outlinewidth": 0,
             "ticks": ""
            },
            "type": "contourcarpet"
           }
          ],
          "heatmap": [
           {
            "colorbar": {
             "outlinewidth": 0,
             "ticks": ""
            },
            "colorscale": [
             [
              0,
              "#0d0887"
             ],
             [
              0.1111111111111111,
              "#46039f"
             ],
             [
              0.2222222222222222,
              "#7201a8"
             ],
             [
              0.3333333333333333,
              "#9c179e"
             ],
             [
              0.4444444444444444,
              "#bd3786"
             ],
             [
              0.5555555555555556,
              "#d8576b"
             ],
             [
              0.6666666666666666,
              "#ed7953"
             ],
             [
              0.7777777777777778,
              "#fb9f3a"
             ],
             [
              0.8888888888888888,
              "#fdca26"
             ],
             [
              1,
              "#f0f921"
             ]
            ],
            "type": "heatmap"
           }
          ],
          "heatmapgl": [
           {
            "colorbar": {
             "outlinewidth": 0,
             "ticks": ""
            },
            "colorscale": [
             [
              0,
              "#0d0887"
             ],
             [
              0.1111111111111111,
              "#46039f"
             ],
             [
              0.2222222222222222,
              "#7201a8"
             ],
             [
              0.3333333333333333,
              "#9c179e"
             ],
             [
              0.4444444444444444,
              "#bd3786"
             ],
             [
              0.5555555555555556,
              "#d8576b"
             ],
             [
              0.6666666666666666,
              "#ed7953"
             ],
             [
              0.7777777777777778,
              "#fb9f3a"
             ],
             [
              0.8888888888888888,
              "#fdca26"
             ],
             [
              1,
              "#f0f921"
             ]
            ],
            "type": "heatmapgl"
           }
          ],
          "histogram": [
           {
            "marker": {
             "colorbar": {
              "outlinewidth": 0,
              "ticks": ""
             }
            },
            "type": "histogram"
           }
          ],
          "histogram2d": [
           {
            "colorbar": {
             "outlinewidth": 0,
             "ticks": ""
            },
            "colorscale": [
             [
              0,
              "#0d0887"
             ],
             [
              0.1111111111111111,
              "#46039f"
             ],
             [
              0.2222222222222222,
              "#7201a8"
             ],
             [
              0.3333333333333333,
              "#9c179e"
             ],
             [
              0.4444444444444444,
              "#bd3786"
             ],
             [
              0.5555555555555556,
              "#d8576b"
             ],
             [
              0.6666666666666666,
              "#ed7953"
             ],
             [
              0.7777777777777778,
              "#fb9f3a"
             ],
             [
              0.8888888888888888,
              "#fdca26"
             ],
             [
              1,
              "#f0f921"
             ]
            ],
            "type": "histogram2d"
           }
          ],
          "histogram2dcontour": [
           {
            "colorbar": {
             "outlinewidth": 0,
             "ticks": ""
            },
            "colorscale": [
             [
              0,
              "#0d0887"
             ],
             [
              0.1111111111111111,
              "#46039f"
             ],
             [
              0.2222222222222222,
              "#7201a8"
             ],
             [
              0.3333333333333333,
              "#9c179e"
             ],
             [
              0.4444444444444444,
              "#bd3786"
             ],
             [
              0.5555555555555556,
              "#d8576b"
             ],
             [
              0.6666666666666666,
              "#ed7953"
             ],
             [
              0.7777777777777778,
              "#fb9f3a"
             ],
             [
              0.8888888888888888,
              "#fdca26"
             ],
             [
              1,
              "#f0f921"
             ]
            ],
            "type": "histogram2dcontour"
           }
          ],
          "mesh3d": [
           {
            "colorbar": {
             "outlinewidth": 0,
             "ticks": ""
            },
            "type": "mesh3d"
           }
          ],
          "parcoords": [
           {
            "line": {
             "colorbar": {
              "outlinewidth": 0,
              "ticks": ""
             }
            },
            "type": "parcoords"
           }
          ],
          "pie": [
           {
            "automargin": true,
            "type": "pie"
           }
          ],
          "scatter": [
           {
            "marker": {
             "colorbar": {
              "outlinewidth": 0,
              "ticks": ""
             }
            },
            "type": "scatter"
           }
          ],
          "scatter3d": [
           {
            "line": {
             "colorbar": {
              "outlinewidth": 0,
              "ticks": ""
             }
            },
            "marker": {
             "colorbar": {
              "outlinewidth": 0,
              "ticks": ""
             }
            },
            "type": "scatter3d"
           }
          ],
          "scattercarpet": [
           {
            "marker": {
             "colorbar": {
              "outlinewidth": 0,
              "ticks": ""
             }
            },
            "type": "scattercarpet"
           }
          ],
          "scattergeo": [
           {
            "marker": {
             "colorbar": {
              "outlinewidth": 0,
              "ticks": ""
             }
            },
            "type": "scattergeo"
           }
          ],
          "scattergl": [
           {
            "marker": {
             "colorbar": {
              "outlinewidth": 0,
              "ticks": ""
             }
            },
            "type": "scattergl"
           }
          ],
          "scattermapbox": [
           {
            "marker": {
             "colorbar": {
              "outlinewidth": 0,
              "ticks": ""
             }
            },
            "type": "scattermapbox"
           }
          ],
          "scatterpolar": [
           {
            "marker": {
             "colorbar": {
              "outlinewidth": 0,
              "ticks": ""
             }
            },
            "type": "scatterpolar"
           }
          ],
          "scatterpolargl": [
           {
            "marker": {
             "colorbar": {
              "outlinewidth": 0,
              "ticks": ""
             }
            },
            "type": "scatterpolargl"
           }
          ],
          "scatterternary": [
           {
            "marker": {
             "colorbar": {
              "outlinewidth": 0,
              "ticks": ""
             }
            },
            "type": "scatterternary"
           }
          ],
          "surface": [
           {
            "colorbar": {
             "outlinewidth": 0,
             "ticks": ""
            },
            "colorscale": [
             [
              0,
              "#0d0887"
             ],
             [
              0.1111111111111111,
              "#46039f"
             ],
             [
              0.2222222222222222,
              "#7201a8"
             ],
             [
              0.3333333333333333,
              "#9c179e"
             ],
             [
              0.4444444444444444,
              "#bd3786"
             ],
             [
              0.5555555555555556,
              "#d8576b"
             ],
             [
              0.6666666666666666,
              "#ed7953"
             ],
             [
              0.7777777777777778,
              "#fb9f3a"
             ],
             [
              0.8888888888888888,
              "#fdca26"
             ],
             [
              1,
              "#f0f921"
             ]
            ],
            "type": "surface"
           }
          ],
          "table": [
           {
            "cells": {
             "fill": {
              "color": "#EBF0F8"
             },
             "line": {
              "color": "white"
             }
            },
            "header": {
             "fill": {
              "color": "#C8D4E3"
             },
             "line": {
              "color": "white"
             }
            },
            "type": "table"
           }
          ]
         },
         "layout": {
          "annotationdefaults": {
           "arrowcolor": "#2a3f5f",
           "arrowhead": 0,
           "arrowwidth": 1
          },
          "coloraxis": {
           "colorbar": {
            "outlinewidth": 0,
            "ticks": ""
           }
          },
          "colorscale": {
           "diverging": [
            [
             0,
             "#8e0152"
            ],
            [
             0.1,
             "#c51b7d"
            ],
            [
             0.2,
             "#de77ae"
            ],
            [
             0.3,
             "#f1b6da"
            ],
            [
             0.4,
             "#fde0ef"
            ],
            [
             0.5,
             "#f7f7f7"
            ],
            [
             0.6,
             "#e6f5d0"
            ],
            [
             0.7,
             "#b8e186"
            ],
            [
             0.8,
             "#7fbc41"
            ],
            [
             0.9,
             "#4d9221"
            ],
            [
             1,
             "#276419"
            ]
           ],
           "sequential": [
            [
             0,
             "#0d0887"
            ],
            [
             0.1111111111111111,
             "#46039f"
            ],
            [
             0.2222222222222222,
             "#7201a8"
            ],
            [
             0.3333333333333333,
             "#9c179e"
            ],
            [
             0.4444444444444444,
             "#bd3786"
            ],
            [
             0.5555555555555556,
             "#d8576b"
            ],
            [
             0.6666666666666666,
             "#ed7953"
            ],
            [
             0.7777777777777778,
             "#fb9f3a"
            ],
            [
             0.8888888888888888,
             "#fdca26"
            ],
            [
             1,
             "#f0f921"
            ]
           ],
           "sequentialminus": [
            [
             0,
             "#0d0887"
            ],
            [
             0.1111111111111111,
             "#46039f"
            ],
            [
             0.2222222222222222,
             "#7201a8"
            ],
            [
             0.3333333333333333,
             "#9c179e"
            ],
            [
             0.4444444444444444,
             "#bd3786"
            ],
            [
             0.5555555555555556,
             "#d8576b"
            ],
            [
             0.6666666666666666,
             "#ed7953"
            ],
            [
             0.7777777777777778,
             "#fb9f3a"
            ],
            [
             0.8888888888888888,
             "#fdca26"
            ],
            [
             1,
             "#f0f921"
            ]
           ]
          },
          "colorway": [
           "#636efa",
           "#EF553B",
           "#00cc96",
           "#ab63fa",
           "#FFA15A",
           "#19d3f3",
           "#FF6692",
           "#B6E880",
           "#FF97FF",
           "#FECB52"
          ],
          "font": {
           "color": "#2a3f5f"
          },
          "geo": {
           "bgcolor": "white",
           "lakecolor": "white",
           "landcolor": "#E5ECF6",
           "showlakes": true,
           "showland": true,
           "subunitcolor": "white"
          },
          "hoverlabel": {
           "align": "left"
          },
          "hovermode": "closest",
          "mapbox": {
           "style": "light"
          },
          "paper_bgcolor": "white",
          "plot_bgcolor": "#E5ECF6",
          "polar": {
           "angularaxis": {
            "gridcolor": "white",
            "linecolor": "white",
            "ticks": ""
           },
           "bgcolor": "#E5ECF6",
           "radialaxis": {
            "gridcolor": "white",
            "linecolor": "white",
            "ticks": ""
           }
          },
          "scene": {
           "xaxis": {
            "backgroundcolor": "#E5ECF6",
            "gridcolor": "white",
            "gridwidth": 2,
            "linecolor": "white",
            "showbackground": true,
            "ticks": "",
            "zerolinecolor": "white"
           },
           "yaxis": {
            "backgroundcolor": "#E5ECF6",
            "gridcolor": "white",
            "gridwidth": 2,
            "linecolor": "white",
            "showbackground": true,
            "ticks": "",
            "zerolinecolor": "white"
           },
           "zaxis": {
            "backgroundcolor": "#E5ECF6",
            "gridcolor": "white",
            "gridwidth": 2,
            "linecolor": "white",
            "showbackground": true,
            "ticks": "",
            "zerolinecolor": "white"
           }
          },
          "shapedefaults": {
           "line": {
            "color": "#2a3f5f"
           }
          },
          "ternary": {
           "aaxis": {
            "gridcolor": "white",
            "linecolor": "white",
            "ticks": ""
           },
           "baxis": {
            "gridcolor": "white",
            "linecolor": "white",
            "ticks": ""
           },
           "bgcolor": "#E5ECF6",
           "caxis": {
            "gridcolor": "white",
            "linecolor": "white",
            "ticks": ""
           }
          },
          "title": {
           "x": 0.05
          },
          "xaxis": {
           "automargin": true,
           "gridcolor": "white",
           "linecolor": "white",
           "ticks": "",
           "title": {
            "standoff": 15
           },
           "zerolinecolor": "white",
           "zerolinewidth": 2
          },
          "yaxis": {
           "automargin": true,
           "gridcolor": "white",
           "linecolor": "white",
           "ticks": "",
           "title": {
            "standoff": 15
           },
           "zerolinecolor": "white",
           "zerolinewidth": 2
          }
         }
        },
        "title": {
         "text": "Crimenes por nivel educativo"
        },
        "uniformtext": {
         "minsize": 6,
         "mode": "hide"
        },
        "xaxis": {
         "anchor": "y",
         "domain": [
          0,
          1
         ],
         "title": {
          "text": "Nivel educativo"
         }
        },
        "yaxis": {
         "anchor": "x",
         "domain": [
          0,
          1
         ],
         "title": {
          "text": "Frecuencia del crimen"
         }
        }
       }
      },
      "text/html": [
       "<div>\n",
       "        \n",
       "        \n",
       "            <div id=\"ef040b8d-2399-469f-bb88-f92a7daf398b\" class=\"plotly-graph-div\" style=\"height:500px; width:100%;\"></div>\n",
       "            <script type=\"text/javascript\">\n",
       "                require([\"plotly\"], function(Plotly) {\n",
       "                    window.PLOTLYENV=window.PLOTLYENV || {};\n",
       "                    \n",
       "                if (document.getElementById(\"ef040b8d-2399-469f-bb88-f92a7daf398b\")) {\n",
       "                    Plotly.newPlot(\n",
       "                        'ef040b8d-2399-469f-bb88-f92a7daf398b',\n",
       "                        [{\"alignmentgroup\": \"True\", \"customdata\": [[\"FEMENINO\", \"ANALFABETA\"], [\"FEMENINO\", \"CICLO I\"], [\"FEMENINO\", \"CICLO II\"], [\"FEMENINO\", \"CICLO III\"], [\"FEMENINO\", \"CICLO IV\"], [\"FEMENINO\", \"ESPECIALIZACION\"], [\"FEMENINO\", \"POST GRADO\"], [\"FEMENINO\", \"PROFESIONAL\"], [\"FEMENINO\", \"TECNICO\"], [\"FEMENINO\", \"TECNICO PROFESIONAL\"], [\"FEMENINO\", \"TECNOLOGICO\"]], \"hovertemplate\": \"GENERO=%{customdata[0]}<br>Nivel educativo=%{customdata[1]}<br>Frecuencia del crimen=%{text}<extra></extra>\", \"legendgroup\": \"FEMENINO\", \"marker\": {\"color\": \"#636efa\"}, \"name\": \"FEMENINO\", \"offsetgroup\": \"FEMENINO\", \"orientation\": \"v\", \"showlegend\": true, \"text\": [328.0, 2408.0, 4359.0, 1995.0, 1757.0, 30.0, 3.0, 261.0, 200.0, 10.0, 63.0], \"textposition\": \"outside\", \"texttemplate\": \"%{text:.2s}\", \"type\": \"bar\", \"x\": [\"ANALFABETA\", \"CICLO I\", \"CICLO II\", \"CICLO III\", \"CICLO IV\", \"ESPECIALIZACION\", \"POST GRADO\", \"PROFESIONAL\", \"TECNICO\", \"TECNICO PROFESIONAL\", \"TECNOLOGICO\"], \"xaxis\": \"x\", \"y\": [328, 2408, 4359, 1995, 1757, 30, 3, 261, 200, 10, 63], \"yaxis\": \"y\"}, {\"alignmentgroup\": \"True\", \"customdata\": [[\"MASCULINO\", \"ANALFABETA\"], [\"MASCULINO\", \"CICLO I\"], [\"MASCULINO\", \"CICLO II\"], [\"MASCULINO\", \"CICLO III\"], [\"MASCULINO\", \"CICLO IV\"], [\"MASCULINO\", \"ESPECIALIZACION\"], [\"MASCULINO\", \"MAGISTER\"], [\"MASCULINO\", \"POST GRADO\"], [\"MASCULINO\", \"PROFESIONAL\"], [\"MASCULINO\", \"TECNICO\"], [\"MASCULINO\", \"TECNICO PROFESIONAL\"], [\"MASCULINO\", \"TECNOLOGICO\"]], \"hovertemplate\": \"GENERO=%{customdata[0]}<br>Nivel educativo=%{customdata[1]}<br>Frecuencia del crimen=%{text}<extra></extra>\", \"legendgroup\": \"MASCULINO\", \"marker\": {\"color\": \"#EF553B\"}, \"name\": \"MASCULINO\", \"offsetgroup\": \"MASCULINO\", \"orientation\": \"v\", \"showlegend\": true, \"text\": [3389.0, 25790.0, 49994.0, 25844.0, 23352.0, 115.0, 20.0, 30.0, 1375.0, 1128.0, 51.0, 397.0], \"textposition\": \"outside\", \"texttemplate\": \"%{text:.2s}\", \"type\": \"bar\", \"x\": [\"ANALFABETA\", \"CICLO I\", \"CICLO II\", \"CICLO III\", \"CICLO IV\", \"ESPECIALIZACION\", \"MAGISTER\", \"POST GRADO\", \"PROFESIONAL\", \"TECNICO\", \"TECNICO PROFESIONAL\", \"TECNOLOGICO\"], \"xaxis\": \"x\", \"y\": [3389, 25790, 49994, 25844, 23352, 115, 20, 30, 1375, 1128, 51, 397], \"yaxis\": \"y\"}],\n",
       "                        {\"barmode\": \"group\", \"height\": 500, \"legend\": {\"title\": {\"text\": \"GENERO\"}, \"tracegroupgap\": 0}, \"margin\": {\"t\": 60}, \"template\": {\"data\": {\"bar\": [{\"error_x\": {\"color\": \"#2a3f5f\"}, \"error_y\": {\"color\": \"#2a3f5f\"}, \"marker\": {\"line\": {\"color\": \"#E5ECF6\", \"width\": 0.5}}, \"type\": \"bar\"}], \"barpolar\": [{\"marker\": {\"line\": {\"color\": \"#E5ECF6\", \"width\": 0.5}}, \"type\": \"barpolar\"}], \"carpet\": [{\"aaxis\": {\"endlinecolor\": \"#2a3f5f\", \"gridcolor\": \"white\", \"linecolor\": \"white\", \"minorgridcolor\": \"white\", \"startlinecolor\": \"#2a3f5f\"}, \"baxis\": {\"endlinecolor\": \"#2a3f5f\", \"gridcolor\": \"white\", \"linecolor\": \"white\", \"minorgridcolor\": \"white\", \"startlinecolor\": \"#2a3f5f\"}, \"type\": \"carpet\"}], \"choropleth\": [{\"colorbar\": {\"outlinewidth\": 0, \"ticks\": \"\"}, \"type\": \"choropleth\"}], \"contour\": [{\"colorbar\": {\"outlinewidth\": 0, \"ticks\": \"\"}, \"colorscale\": [[0.0, \"#0d0887\"], [0.1111111111111111, \"#46039f\"], [0.2222222222222222, \"#7201a8\"], [0.3333333333333333, \"#9c179e\"], [0.4444444444444444, \"#bd3786\"], [0.5555555555555556, \"#d8576b\"], [0.6666666666666666, \"#ed7953\"], [0.7777777777777778, \"#fb9f3a\"], [0.8888888888888888, \"#fdca26\"], [1.0, \"#f0f921\"]], \"type\": \"contour\"}], \"contourcarpet\": [{\"colorbar\": {\"outlinewidth\": 0, \"ticks\": \"\"}, \"type\": \"contourcarpet\"}], \"heatmap\": [{\"colorbar\": {\"outlinewidth\": 0, \"ticks\": \"\"}, \"colorscale\": [[0.0, \"#0d0887\"], [0.1111111111111111, \"#46039f\"], [0.2222222222222222, \"#7201a8\"], [0.3333333333333333, \"#9c179e\"], [0.4444444444444444, \"#bd3786\"], [0.5555555555555556, \"#d8576b\"], [0.6666666666666666, \"#ed7953\"], [0.7777777777777778, \"#fb9f3a\"], [0.8888888888888888, \"#fdca26\"], [1.0, \"#f0f921\"]], \"type\": \"heatmap\"}], \"heatmapgl\": [{\"colorbar\": {\"outlinewidth\": 0, \"ticks\": \"\"}, \"colorscale\": [[0.0, \"#0d0887\"], [0.1111111111111111, \"#46039f\"], [0.2222222222222222, \"#7201a8\"], [0.3333333333333333, \"#9c179e\"], [0.4444444444444444, \"#bd3786\"], [0.5555555555555556, \"#d8576b\"], [0.6666666666666666, \"#ed7953\"], [0.7777777777777778, \"#fb9f3a\"], [0.8888888888888888, \"#fdca26\"], [1.0, \"#f0f921\"]], \"type\": \"heatmapgl\"}], \"histogram\": [{\"marker\": {\"colorbar\": {\"outlinewidth\": 0, \"ticks\": \"\"}}, \"type\": \"histogram\"}], \"histogram2d\": [{\"colorbar\": {\"outlinewidth\": 0, \"ticks\": \"\"}, \"colorscale\": [[0.0, \"#0d0887\"], [0.1111111111111111, \"#46039f\"], [0.2222222222222222, \"#7201a8\"], [0.3333333333333333, \"#9c179e\"], [0.4444444444444444, \"#bd3786\"], [0.5555555555555556, \"#d8576b\"], [0.6666666666666666, \"#ed7953\"], [0.7777777777777778, \"#fb9f3a\"], [0.8888888888888888, \"#fdca26\"], [1.0, \"#f0f921\"]], \"type\": \"histogram2d\"}], \"histogram2dcontour\": [{\"colorbar\": {\"outlinewidth\": 0, \"ticks\": \"\"}, \"colorscale\": [[0.0, \"#0d0887\"], [0.1111111111111111, \"#46039f\"], [0.2222222222222222, \"#7201a8\"], [0.3333333333333333, \"#9c179e\"], [0.4444444444444444, \"#bd3786\"], [0.5555555555555556, \"#d8576b\"], [0.6666666666666666, \"#ed7953\"], [0.7777777777777778, \"#fb9f3a\"], [0.8888888888888888, \"#fdca26\"], [1.0, \"#f0f921\"]], \"type\": \"histogram2dcontour\"}], \"mesh3d\": [{\"colorbar\": {\"outlinewidth\": 0, \"ticks\": \"\"}, \"type\": \"mesh3d\"}], \"parcoords\": [{\"line\": {\"colorbar\": {\"outlinewidth\": 0, \"ticks\": \"\"}}, \"type\": \"parcoords\"}], \"pie\": [{\"automargin\": true, \"type\": \"pie\"}], \"scatter\": [{\"marker\": {\"colorbar\": {\"outlinewidth\": 0, \"ticks\": \"\"}}, \"type\": \"scatter\"}], \"scatter3d\": [{\"line\": {\"colorbar\": {\"outlinewidth\": 0, \"ticks\": \"\"}}, \"marker\": {\"colorbar\": {\"outlinewidth\": 0, \"ticks\": \"\"}}, \"type\": \"scatter3d\"}], \"scattercarpet\": [{\"marker\": {\"colorbar\": {\"outlinewidth\": 0, \"ticks\": \"\"}}, \"type\": \"scattercarpet\"}], \"scattergeo\": [{\"marker\": {\"colorbar\": {\"outlinewidth\": 0, \"ticks\": \"\"}}, \"type\": \"scattergeo\"}], \"scattergl\": [{\"marker\": {\"colorbar\": {\"outlinewidth\": 0, \"ticks\": \"\"}}, \"type\": \"scattergl\"}], \"scattermapbox\": [{\"marker\": {\"colorbar\": {\"outlinewidth\": 0, \"ticks\": \"\"}}, \"type\": \"scattermapbox\"}], \"scatterpolar\": [{\"marker\": {\"colorbar\": {\"outlinewidth\": 0, \"ticks\": \"\"}}, \"type\": \"scatterpolar\"}], \"scatterpolargl\": [{\"marker\": {\"colorbar\": {\"outlinewidth\": 0, \"ticks\": \"\"}}, \"type\": \"scatterpolargl\"}], \"scatterternary\": [{\"marker\": {\"colorbar\": {\"outlinewidth\": 0, \"ticks\": \"\"}}, \"type\": \"scatterternary\"}], \"surface\": [{\"colorbar\": {\"outlinewidth\": 0, \"ticks\": \"\"}, \"colorscale\": [[0.0, \"#0d0887\"], [0.1111111111111111, \"#46039f\"], [0.2222222222222222, \"#7201a8\"], [0.3333333333333333, \"#9c179e\"], [0.4444444444444444, \"#bd3786\"], [0.5555555555555556, \"#d8576b\"], [0.6666666666666666, \"#ed7953\"], [0.7777777777777778, \"#fb9f3a\"], [0.8888888888888888, \"#fdca26\"], [1.0, \"#f0f921\"]], \"type\": \"surface\"}], \"table\": [{\"cells\": {\"fill\": {\"color\": \"#EBF0F8\"}, \"line\": {\"color\": \"white\"}}, \"header\": {\"fill\": {\"color\": \"#C8D4E3\"}, \"line\": {\"color\": \"white\"}}, \"type\": \"table\"}]}, \"layout\": {\"annotationdefaults\": {\"arrowcolor\": \"#2a3f5f\", \"arrowhead\": 0, \"arrowwidth\": 1}, \"coloraxis\": {\"colorbar\": {\"outlinewidth\": 0, \"ticks\": \"\"}}, \"colorscale\": {\"diverging\": [[0, \"#8e0152\"], [0.1, \"#c51b7d\"], [0.2, \"#de77ae\"], [0.3, \"#f1b6da\"], [0.4, \"#fde0ef\"], [0.5, \"#f7f7f7\"], [0.6, \"#e6f5d0\"], [0.7, \"#b8e186\"], [0.8, \"#7fbc41\"], [0.9, \"#4d9221\"], [1, \"#276419\"]], \"sequential\": [[0.0, \"#0d0887\"], [0.1111111111111111, \"#46039f\"], [0.2222222222222222, \"#7201a8\"], [0.3333333333333333, \"#9c179e\"], [0.4444444444444444, \"#bd3786\"], [0.5555555555555556, \"#d8576b\"], [0.6666666666666666, \"#ed7953\"], [0.7777777777777778, \"#fb9f3a\"], [0.8888888888888888, \"#fdca26\"], [1.0, \"#f0f921\"]], \"sequentialminus\": [[0.0, \"#0d0887\"], [0.1111111111111111, \"#46039f\"], [0.2222222222222222, \"#7201a8\"], [0.3333333333333333, \"#9c179e\"], [0.4444444444444444, \"#bd3786\"], [0.5555555555555556, \"#d8576b\"], [0.6666666666666666, \"#ed7953\"], [0.7777777777777778, \"#fb9f3a\"], [0.8888888888888888, \"#fdca26\"], [1.0, \"#f0f921\"]]}, \"colorway\": [\"#636efa\", \"#EF553B\", \"#00cc96\", \"#ab63fa\", \"#FFA15A\", \"#19d3f3\", \"#FF6692\", \"#B6E880\", \"#FF97FF\", \"#FECB52\"], \"font\": {\"color\": \"#2a3f5f\"}, \"geo\": {\"bgcolor\": \"white\", \"lakecolor\": \"white\", \"landcolor\": \"#E5ECF6\", \"showlakes\": true, \"showland\": true, \"subunitcolor\": \"white\"}, \"hoverlabel\": {\"align\": \"left\"}, \"hovermode\": \"closest\", \"mapbox\": {\"style\": \"light\"}, \"paper_bgcolor\": \"white\", \"plot_bgcolor\": \"#E5ECF6\", \"polar\": {\"angularaxis\": {\"gridcolor\": \"white\", \"linecolor\": \"white\", \"ticks\": \"\"}, \"bgcolor\": \"#E5ECF6\", \"radialaxis\": {\"gridcolor\": \"white\", \"linecolor\": \"white\", \"ticks\": \"\"}}, \"scene\": {\"xaxis\": {\"backgroundcolor\": \"#E5ECF6\", \"gridcolor\": \"white\", \"gridwidth\": 2, \"linecolor\": \"white\", \"showbackground\": true, \"ticks\": \"\", \"zerolinecolor\": \"white\"}, \"yaxis\": {\"backgroundcolor\": \"#E5ECF6\", \"gridcolor\": \"white\", \"gridwidth\": 2, \"linecolor\": \"white\", \"showbackground\": true, \"ticks\": \"\", \"zerolinecolor\": \"white\"}, \"zaxis\": {\"backgroundcolor\": \"#E5ECF6\", \"gridcolor\": \"white\", \"gridwidth\": 2, \"linecolor\": \"white\", \"showbackground\": true, \"ticks\": \"\", \"zerolinecolor\": \"white\"}}, \"shapedefaults\": {\"line\": {\"color\": \"#2a3f5f\"}}, \"ternary\": {\"aaxis\": {\"gridcolor\": \"white\", \"linecolor\": \"white\", \"ticks\": \"\"}, \"baxis\": {\"gridcolor\": \"white\", \"linecolor\": \"white\", \"ticks\": \"\"}, \"bgcolor\": \"#E5ECF6\", \"caxis\": {\"gridcolor\": \"white\", \"linecolor\": \"white\", \"ticks\": \"\"}}, \"title\": {\"x\": 0.05}, \"xaxis\": {\"automargin\": true, \"gridcolor\": \"white\", \"linecolor\": \"white\", \"ticks\": \"\", \"title\": {\"standoff\": 15}, \"zerolinecolor\": \"white\", \"zerolinewidth\": 2}, \"yaxis\": {\"automargin\": true, \"gridcolor\": \"white\", \"linecolor\": \"white\", \"ticks\": \"\", \"title\": {\"standoff\": 15}, \"zerolinecolor\": \"white\", \"zerolinewidth\": 2}}}, \"title\": {\"text\": \"Crimenes por nivel educativo\"}, \"uniformtext\": {\"minsize\": 6, \"mode\": \"hide\"}, \"xaxis\": {\"anchor\": \"y\", \"domain\": [0.0, 1.0], \"title\": {\"text\": \"Nivel educativo\"}}, \"yaxis\": {\"anchor\": \"x\", \"domain\": [0.0, 1.0], \"title\": {\"text\": \"Frecuencia del crimen\"}}},\n",
       "                        {\"responsive\": true}\n",
       "                    ).then(function(){\n",
       "                            \n",
       "var gd = document.getElementById('ef040b8d-2399-469f-bb88-f92a7daf398b');\n",
       "var x = new MutationObserver(function (mutations, observer) {{\n",
       "        var display = window.getComputedStyle(gd).display;\n",
       "        if (!display || display === 'none') {{\n",
       "            console.log([gd, 'removed!']);\n",
       "            Plotly.purge(gd);\n",
       "            observer.disconnect();\n",
       "        }}\n",
       "}});\n",
       "\n",
       "// Listen for the removal of the full notebook cells\n",
       "var notebookContainer = gd.closest('#notebook-container');\n",
       "if (notebookContainer) {{\n",
       "    x.observe(notebookContainer, {childList: true});\n",
       "}}\n",
       "\n",
       "// Listen for the clearing of the current output cell\n",
       "var outputEl = gd.closest('.output');\n",
       "if (outputEl) {{\n",
       "    x.observe(outputEl, {childList: true});\n",
       "}}\n",
       "\n",
       "                        })\n",
       "                };\n",
       "                });\n",
       "            </script>\n",
       "        </div>"
      ]
     },
     "metadata": {},
     "output_type": "display_data"
    }
   ],
   "source": [
    "\n",
    "fig = px.bar(df_edu_gen, x='NIVEL_EDUCATIVO', y='INTERNOEN',\n",
    "             hover_data=['GENERO','NIVEL_EDUCATIVO'], color='GENERO',\n",
    "             labels={'INTERNOEN':'Frecuencia del crimen','NIVEL_EDUCATIVO':'Nivel educativo'}, \n",
    "             height=500, barmode='group', text=\"INTERNOEN\")\n",
    "fig.update_traces(texttemplate='%{text:.2s}', textposition='outside')\n",
    "fig.update_layout(uniformtext_minsize=6, uniformtext_mode='hide',\n",
    "                  title=\"Crimenes por nivel educativo\",\n",
    "                 )\n",
    "fig.show()\n",
    "fig.write_image(\"fig3.png\")"
   ]
  },
  {
   "cell_type": "code",
   "execution_count": 19,
   "metadata": {
    "scrolled": false
   },
   "outputs": [
    {
     "data": {
      "application/vnd.plotly.v1+json": {
       "config": {
        "plotlyServerURL": "https://plot.ly"
       },
       "data": [
        {
         "alignmentgroup": "True",
         "customdata": [
          [
           "ACCION DE TUTELA"
          ]
         ],
         "hovertemplate": "TITULO_DELITO=%{customdata[0]}<br>Amount of recidivist crimes=%{text}<extra></extra>",
         "legendgroup": "ACCION DE TUTELA",
         "marker": {
          "color": "#636efa"
         },
         "name": "ACCION DE TUTELA",
         "offsetgroup": "ACCION DE TUTELA",
         "orientation": "v",
         "showlegend": true,
         "text": [
          4
         ],
         "textposition": "outside",
         "texttemplate": "%{text:.2s}",
         "type": "bar",
         "x": [
          "ACCION DE TUTELA"
         ],
         "xaxis": "x",
         "y": [
          4
         ],
         "yaxis": "y"
        },
        {
         "alignmentgroup": "True",
         "customdata": [
          [
           "CONTRA EL ORDEN ECONOMICO SOCIAL"
          ]
         ],
         "hovertemplate": "TITULO_DELITO=%{customdata[0]}<br>Amount of recidivist crimes=%{text}<extra></extra>",
         "legendgroup": "CONTRA EL ORDEN ECONOMICO SOCIAL",
         "marker": {
          "color": "#EF553B"
         },
         "name": "CONTRA EL ORDEN ECONOMICO SOCIAL",
         "offsetgroup": "CONTRA EL ORDEN ECONOMICO SOCIAL",
         "orientation": "v",
         "showlegend": true,
         "text": [
          459
         ],
         "textposition": "outside",
         "texttemplate": "%{text:.2s}",
         "type": "bar",
         "x": [
          "CONTRA EL ORDEN ECONOMICO SOCIAL"
         ],
         "xaxis": "x",
         "y": [
          459
         ],
         "yaxis": "y"
        },
        {
         "alignmentgroup": "True",
         "customdata": [
          [
           "CONTRA EL PATRIMONIO ECONOMICO"
          ]
         ],
         "hovertemplate": "TITULO_DELITO=%{customdata[0]}<br>Amount of recidivist crimes=%{text}<extra></extra>",
         "legendgroup": "CONTRA EL PATRIMONIO ECONOMICO",
         "marker": {
          "color": "#00cc96"
         },
         "name": "CONTRA EL PATRIMONIO ECONOMICO",
         "offsetgroup": "CONTRA EL PATRIMONIO ECONOMICO",
         "orientation": "v",
         "showlegend": true,
         "text": [
          53192
         ],
         "textposition": "outside",
         "texttemplate": "%{text:.2s}",
         "type": "bar",
         "x": [
          "CONTRA EL PATRIMONIO ECONOMICO"
         ],
         "xaxis": "x",
         "y": [
          53192
         ],
         "yaxis": "y"
        },
        {
         "alignmentgroup": "True",
         "customdata": [
          [
           "CONTRA EL REGIMEN CONSTITUCIONAL Y LEGAL"
          ]
         ],
         "hovertemplate": "TITULO_DELITO=%{customdata[0]}<br>Amount of recidivist crimes=%{text}<extra></extra>",
         "legendgroup": "CONTRA EL REGIMEN CONSTITUCIONAL Y LEGAL",
         "marker": {
          "color": "#ab63fa"
         },
         "name": "CONTRA EL REGIMEN CONSTITUCIONAL Y LEGAL",
         "offsetgroup": "CONTRA EL REGIMEN CONSTITUCIONAL Y LEGAL",
         "orientation": "v",
         "showlegend": true,
         "text": [
          339
         ],
         "textposition": "outside",
         "texttemplate": "%{text:.2s}",
         "type": "bar",
         "x": [
          "CONTRA EL REGIMEN CONSTITUCIONAL Y LEGAL"
         ],
         "xaxis": "x",
         "y": [
          339
         ],
         "yaxis": "y"
        },
        {
         "alignmentgroup": "True",
         "customdata": [
          [
           "CONTRA LA ADMINISTRACION PUBLICA"
          ]
         ],
         "hovertemplate": "TITULO_DELITO=%{customdata[0]}<br>Amount of recidivist crimes=%{text}<extra></extra>",
         "legendgroup": "CONTRA LA ADMINISTRACION PUBLICA",
         "marker": {
          "color": "#FFA15A"
         },
         "name": "CONTRA LA ADMINISTRACION PUBLICA",
         "offsetgroup": "CONTRA LA ADMINISTRACION PUBLICA",
         "orientation": "v",
         "showlegend": true,
         "text": [
          1218
         ],
         "textposition": "outside",
         "texttemplate": "%{text:.2s}",
         "type": "bar",
         "x": [
          "CONTRA LA ADMINISTRACION PUBLICA"
         ],
         "xaxis": "x",
         "y": [
          1218
         ],
         "yaxis": "y"
        },
        {
         "alignmentgroup": "True",
         "customdata": [
          [
           "CONTRA LA EFICAZ Y RECTA IMPARTICION DE JUSTICIA"
          ]
         ],
         "hovertemplate": "TITULO_DELITO=%{customdata[0]}<br>Amount of recidivist crimes=%{text}<extra></extra>",
         "legendgroup": "CONTRA LA EFICAZ Y RECTA IMPARTICION DE JUSTICIA",
         "marker": {
          "color": "#19d3f3"
         },
         "name": "CONTRA LA EFICAZ Y RECTA IMPARTICION DE JUSTICIA",
         "offsetgroup": "CONTRA LA EFICAZ Y RECTA IMPARTICION DE JUSTICIA",
         "orientation": "v",
         "showlegend": true,
         "text": [
          2855
         ],
         "textposition": "outside",
         "texttemplate": "%{text:.2s}",
         "type": "bar",
         "x": [
          "CONTRA LA EFICAZ Y RECTA IMPARTICION DE JUSTICIA"
         ],
         "xaxis": "x",
         "y": [
          2855
         ],
         "yaxis": "y"
        },
        {
         "alignmentgroup": "True",
         "customdata": [
          [
           "CONTRA LA EXISTENCIA Y SEGURIDAD DEL ESTADO"
          ]
         ],
         "hovertemplate": "TITULO_DELITO=%{customdata[0]}<br>Amount of recidivist crimes=%{text}<extra></extra>",
         "legendgroup": "CONTRA LA EXISTENCIA Y SEGURIDAD DEL ESTADO",
         "marker": {
          "color": "#FF6692"
         },
         "name": "CONTRA LA EXISTENCIA Y SEGURIDAD DEL ESTADO",
         "offsetgroup": "CONTRA LA EXISTENCIA Y SEGURIDAD DEL ESTADO",
         "orientation": "v",
         "showlegend": true,
         "text": [
          1
         ],
         "textposition": "outside",
         "texttemplate": "%{text:.2s}",
         "type": "bar",
         "x": [
          "CONTRA LA EXISTENCIA Y SEGURIDAD DEL ESTADO"
         ],
         "xaxis": "x",
         "y": [
          1
         ],
         "yaxis": "y"
        },
        {
         "alignmentgroup": "True",
         "customdata": [
          [
           "CONTRA LA FAMILIA"
          ]
         ],
         "hovertemplate": "TITULO_DELITO=%{customdata[0]}<br>Amount of recidivist crimes=%{text}<extra></extra>",
         "legendgroup": "CONTRA LA FAMILIA",
         "marker": {
          "color": "#B6E880"
         },
         "name": "CONTRA LA FAMILIA",
         "offsetgroup": "CONTRA LA FAMILIA",
         "orientation": "v",
         "showlegend": true,
         "text": [
          3632
         ],
         "textposition": "outside",
         "texttemplate": "%{text:.2s}",
         "type": "bar",
         "x": [
          "CONTRA LA FAMILIA"
         ],
         "xaxis": "x",
         "y": [
          3632
         ],
         "yaxis": "y"
        },
        {
         "alignmentgroup": "True",
         "customdata": [
          [
           "CONTRA LA FE PUBLICA"
          ]
         ],
         "hovertemplate": "TITULO_DELITO=%{customdata[0]}<br>Amount of recidivist crimes=%{text}<extra></extra>",
         "legendgroup": "CONTRA LA FE PUBLICA",
         "marker": {
          "color": "#FF97FF"
         },
         "name": "CONTRA LA FE PUBLICA",
         "offsetgroup": "CONTRA LA FE PUBLICA",
         "orientation": "v",
         "showlegend": true,
         "text": [
          2025
         ],
         "textposition": "outside",
         "texttemplate": "%{text:.2s}",
         "type": "bar",
         "x": [
          "CONTRA LA FE PUBLICA"
         ],
         "xaxis": "x",
         "y": [
          2025
         ],
         "yaxis": "y"
        },
        {
         "alignmentgroup": "True",
         "customdata": [
          [
           "CONTRA LA INTEGRIDAD MORAL"
          ]
         ],
         "hovertemplate": "TITULO_DELITO=%{customdata[0]}<br>Amount of recidivist crimes=%{text}<extra></extra>",
         "legendgroup": "CONTRA LA INTEGRIDAD MORAL",
         "marker": {
          "color": "#FECB52"
         },
         "name": "CONTRA LA INTEGRIDAD MORAL",
         "offsetgroup": "CONTRA LA INTEGRIDAD MORAL",
         "orientation": "v",
         "showlegend": true,
         "text": [
          23
         ],
         "textposition": "outside",
         "texttemplate": "%{text:.2s}",
         "type": "bar",
         "x": [
          "CONTRA LA INTEGRIDAD MORAL"
         ],
         "xaxis": "x",
         "y": [
          23
         ],
         "yaxis": "y"
        },
        {
         "alignmentgroup": "True",
         "customdata": [
          [
           "CONTRA LA LIBERTAD INDIVIDUAL Y OTRAS GARANTIAS"
          ]
         ],
         "hovertemplate": "TITULO_DELITO=%{customdata[0]}<br>Amount of recidivist crimes=%{text}<extra></extra>",
         "legendgroup": "CONTRA LA LIBERTAD INDIVIDUAL Y OTRAS GARANTIAS",
         "marker": {
          "color": "#636efa"
         },
         "name": "CONTRA LA LIBERTAD INDIVIDUAL Y OTRAS GARANTIAS",
         "offsetgroup": "CONTRA LA LIBERTAD INDIVIDUAL Y OTRAS GARANTIAS",
         "orientation": "v",
         "showlegend": true,
         "text": [
          2713
         ],
         "textposition": "outside",
         "texttemplate": "%{text:.2s}",
         "type": "bar",
         "x": [
          "CONTRA LA LIBERTAD INDIVIDUAL Y OTRAS GARANTIAS"
         ],
         "xaxis": "x",
         "y": [
          2713
         ],
         "yaxis": "y"
        },
        {
         "alignmentgroup": "True",
         "customdata": [
          [
           "CONTRA LA LIBERTAD INTEGRIDAD Y FORMACION SEXUALES"
          ]
         ],
         "hovertemplate": "TITULO_DELITO=%{customdata[0]}<br>Amount of recidivist crimes=%{text}<extra></extra>",
         "legendgroup": "CONTRA LA LIBERTAD INTEGRIDAD Y FORMACION SEXUALES",
         "marker": {
          "color": "#EF553B"
         },
         "name": "CONTRA LA LIBERTAD INTEGRIDAD Y FORMACION SEXUALES",
         "offsetgroup": "CONTRA LA LIBERTAD INTEGRIDAD Y FORMACION SEXUALES",
         "orientation": "v",
         "showlegend": true,
         "text": [
          2802
         ],
         "textposition": "outside",
         "texttemplate": "%{text:.2s}",
         "type": "bar",
         "x": [
          "CONTRA LA LIBERTAD INTEGRIDAD Y FORMACION SEXUALES"
         ],
         "xaxis": "x",
         "y": [
          2802
         ],
         "yaxis": "y"
        },
        {
         "alignmentgroup": "True",
         "customdata": [
          [
           "CONTRA LA SALUD PUBLICA"
          ]
         ],
         "hovertemplate": "TITULO_DELITO=%{customdata[0]}<br>Amount of recidivist crimes=%{text}<extra></extra>",
         "legendgroup": "CONTRA LA SALUD PUBLICA",
         "marker": {
          "color": "#00cc96"
         },
         "name": "CONTRA LA SALUD PUBLICA",
         "offsetgroup": "CONTRA LA SALUD PUBLICA",
         "orientation": "v",
         "showlegend": true,
         "text": [
          20503
         ],
         "textposition": "outside",
         "texttemplate": "%{text:.2s}",
         "type": "bar",
         "x": [
          "CONTRA LA SALUD PUBLICA"
         ],
         "xaxis": "x",
         "y": [
          20503
         ],
         "yaxis": "y"
        },
        {
         "alignmentgroup": "True",
         "customdata": [
          [
           "CONTRA LA SEGURIDAD PUBLICA"
          ]
         ],
         "hovertemplate": "TITULO_DELITO=%{customdata[0]}<br>Amount of recidivist crimes=%{text}<extra></extra>",
         "legendgroup": "CONTRA LA SEGURIDAD PUBLICA",
         "marker": {
          "color": "#ab63fa"
         },
         "name": "CONTRA LA SEGURIDAD PUBLICA",
         "offsetgroup": "CONTRA LA SEGURIDAD PUBLICA",
         "orientation": "v",
         "showlegend": true,
         "text": [
          29903
         ],
         "textposition": "outside",
         "texttemplate": "%{text:.2s}",
         "type": "bar",
         "x": [
          "CONTRA LA SEGURIDAD PUBLICA"
         ],
         "xaxis": "x",
         "y": [
          29903
         ],
         "yaxis": "y"
        },
        {
         "alignmentgroup": "True",
         "customdata": [
          [
           "CONTRA LA VIDA Y LA INTEGRIDAD PERSONAL"
          ]
         ],
         "hovertemplate": "TITULO_DELITO=%{customdata[0]}<br>Amount of recidivist crimes=%{text}<extra></extra>",
         "legendgroup": "CONTRA LA VIDA Y LA INTEGRIDAD PERSONAL",
         "marker": {
          "color": "#FFA15A"
         },
         "name": "CONTRA LA VIDA Y LA INTEGRIDAD PERSONAL",
         "offsetgroup": "CONTRA LA VIDA Y LA INTEGRIDAD PERSONAL",
         "orientation": "v",
         "showlegend": true,
         "text": [
          10942
         ],
         "textposition": "outside",
         "texttemplate": "%{text:.2s}",
         "type": "bar",
         "x": [
          "CONTRA LA VIDA Y LA INTEGRIDAD PERSONAL"
         ],
         "xaxis": "x",
         "y": [
          10942
         ],
         "yaxis": "y"
        },
        {
         "alignmentgroup": "True",
         "customdata": [
          [
           "CONTRA LOS DERECHOS DE AUTOR"
          ]
         ],
         "hovertemplate": "TITULO_DELITO=%{customdata[0]}<br>Amount of recidivist crimes=%{text}<extra></extra>",
         "legendgroup": "CONTRA LOS DERECHOS DE AUTOR",
         "marker": {
          "color": "#19d3f3"
         },
         "name": "CONTRA LOS DERECHOS DE AUTOR",
         "offsetgroup": "CONTRA LOS DERECHOS DE AUTOR",
         "orientation": "v",
         "showlegend": true,
         "text": [
          25
         ],
         "textposition": "outside",
         "texttemplate": "%{text:.2s}",
         "type": "bar",
         "x": [
          "CONTRA LOS DERECHOS DE AUTOR"
         ],
         "xaxis": "x",
         "y": [
          25
         ],
         "yaxis": "y"
        },
        {
         "alignmentgroup": "True",
         "customdata": [
          [
           "CONTRA LOS RECURSOS NATURALES Y EL MEDIO AMBIENTE"
          ]
         ],
         "hovertemplate": "TITULO_DELITO=%{customdata[0]}<br>Amount of recidivist crimes=%{text}<extra></extra>",
         "legendgroup": "CONTRA LOS RECURSOS NATURALES Y EL MEDIO AMBIENTE",
         "marker": {
          "color": "#FF6692"
         },
         "name": "CONTRA LOS RECURSOS NATURALES Y EL MEDIO AMBIENTE",
         "offsetgroup": "CONTRA LOS RECURSOS NATURALES Y EL MEDIO AMBIENTE",
         "orientation": "v",
         "showlegend": true,
         "text": [
          242
         ],
         "textposition": "outside",
         "texttemplate": "%{text:.2s}",
         "type": "bar",
         "x": [
          "CONTRA LOS RECURSOS NATURALES Y EL MEDIO AMBIENTE"
         ],
         "xaxis": "x",
         "y": [
          242
         ],
         "yaxis": "y"
        },
        {
         "alignmentgroup": "True",
         "customdata": [
          [
           "CONTRA MECANISMOS DE PARTICIPACION DEMOCRATICA"
          ]
         ],
         "hovertemplate": "TITULO_DELITO=%{customdata[0]}<br>Amount of recidivist crimes=%{text}<extra></extra>",
         "legendgroup": "CONTRA MECANISMOS DE PARTICIPACION DEMOCRATICA",
         "marker": {
          "color": "#B6E880"
         },
         "name": "CONTRA MECANISMOS DE PARTICIPACION DEMOCRATICA",
         "offsetgroup": "CONTRA MECANISMOS DE PARTICIPACION DEMOCRATICA",
         "orientation": "v",
         "showlegend": true,
         "text": [
          16
         ],
         "textposition": "outside",
         "texttemplate": "%{text:.2s}",
         "type": "bar",
         "x": [
          "CONTRA MECANISMOS DE PARTICIPACION DEMOCRATICA"
         ],
         "xaxis": "x",
         "y": [
          16
         ],
         "yaxis": "y"
        },
        {
         "alignmentgroup": "True",
         "customdata": [
          [
           "CONTRA PERSONAS Y BIENES PROTEGIDOS POR EL DERECHO INTERNACIONAL HUMANITARIO"
          ]
         ],
         "hovertemplate": "TITULO_DELITO=%{customdata[0]}<br>Amount of recidivist crimes=%{text}<extra></extra>",
         "legendgroup": "CONTRA PERSONAS Y BIENES PROTEGIDOS POR EL DERECHO INTERNACIONAL HUMANITARIO",
         "marker": {
          "color": "#FF97FF"
         },
         "name": "CONTRA PERSONAS Y BIENES PROTEGIDOS POR EL DERECHO INTERNACIONAL HUMANITARIO",
         "offsetgroup": "CONTRA PERSONAS Y BIENES PROTEGIDOS POR EL DERECHO INTERNACIONAL HUMANITARIO",
         "orientation": "v",
         "showlegend": true,
         "text": [
          140
         ],
         "textposition": "outside",
         "texttemplate": "%{text:.2s}",
         "type": "bar",
         "x": [
          "CONTRA PERSONAS Y BIENES PROTEGIDOS POR EL DERECHO INTERNACIONAL HUMANITARIO"
         ],
         "xaxis": "x",
         "y": [
          140
         ],
         "yaxis": "y"
        },
        {
         "alignmentgroup": "True",
         "customdata": [
          [
           "DE LA PROTECCION DE LA INFORMACION Y DE LOS DATOS"
          ]
         ],
         "hovertemplate": "TITULO_DELITO=%{customdata[0]}<br>Amount of recidivist crimes=%{text}<extra></extra>",
         "legendgroup": "DE LA PROTECCION DE LA INFORMACION Y DE LOS DATOS",
         "marker": {
          "color": "#FECB52"
         },
         "name": "DE LA PROTECCION DE LA INFORMACION Y DE LOS DATOS",
         "offsetgroup": "DE LA PROTECCION DE LA INFORMACION Y DE LOS DATOS",
         "orientation": "v",
         "showlegend": true,
         "text": [
          280
         ],
         "textposition": "outside",
         "texttemplate": "%{text:.2s}",
         "type": "bar",
         "x": [
          "DE LA PROTECCION DE LA INFORMACION Y DE LOS DATOS"
         ],
         "xaxis": "x",
         "y": [
          280
         ],
         "yaxis": "y"
        },
        {
         "alignmentgroup": "True",
         "customdata": [
          [
           "DELITOS CONTRA EL SERVICIO"
          ]
         ],
         "hovertemplate": "TITULO_DELITO=%{customdata[0]}<br>Amount of recidivist crimes=%{text}<extra></extra>",
         "legendgroup": "DELITOS CONTRA EL SERVICIO",
         "marker": {
          "color": "#636efa"
         },
         "name": "DELITOS CONTRA EL SERVICIO",
         "offsetgroup": "DELITOS CONTRA EL SERVICIO",
         "orientation": "v",
         "showlegend": true,
         "text": [
          144
         ],
         "textposition": "outside",
         "texttemplate": "%{text:.2s}",
         "type": "bar",
         "x": [
          "DELITOS CONTRA EL SERVICIO"
         ],
         "xaxis": "x",
         "y": [
          144
         ],
         "yaxis": "y"
        },
        {
         "alignmentgroup": "True",
         "customdata": [
          [
           "DELITOS CONTRA LA ADMINISTRACION PUBLICA"
          ]
         ],
         "hovertemplate": "TITULO_DELITO=%{customdata[0]}<br>Amount of recidivist crimes=%{text}<extra></extra>",
         "legendgroup": "DELITOS CONTRA LA ADMINISTRACION PUBLICA",
         "marker": {
          "color": "#EF553B"
         },
         "name": "DELITOS CONTRA LA ADMINISTRACION PUBLICA",
         "offsetgroup": "DELITOS CONTRA LA ADMINISTRACION PUBLICA",
         "orientation": "v",
         "showlegend": true,
         "text": [
          2
         ],
         "textposition": "outside",
         "texttemplate": "%{text:.2s}",
         "type": "bar",
         "x": [
          "DELITOS CONTRA LA ADMINISTRACION PUBLICA"
         ],
         "xaxis": "x",
         "y": [
          2
         ],
         "yaxis": "y"
        },
        {
         "alignmentgroup": "True",
         "customdata": [
          [
           "DELITOS CONTRA LA DISCIPLINA"
          ]
         ],
         "hovertemplate": "TITULO_DELITO=%{customdata[0]}<br>Amount of recidivist crimes=%{text}<extra></extra>",
         "legendgroup": "DELITOS CONTRA LA DISCIPLINA",
         "marker": {
          "color": "#00cc96"
         },
         "name": "DELITOS CONTRA LA DISCIPLINA",
         "offsetgroup": "DELITOS CONTRA LA DISCIPLINA",
         "orientation": "v",
         "showlegend": true,
         "text": [
          5
         ],
         "textposition": "outside",
         "texttemplate": "%{text:.2s}",
         "type": "bar",
         "x": [
          "DELITOS CONTRA LA DISCIPLINA"
         ],
         "xaxis": "x",
         "y": [
          5
         ],
         "yaxis": "y"
        },
        {
         "alignmentgroup": "True",
         "customdata": [
          [
           "DELITOS DE PARAMILITARISMO Y SICARIATO"
          ]
         ],
         "hovertemplate": "TITULO_DELITO=%{customdata[0]}<br>Amount of recidivist crimes=%{text}<extra></extra>",
         "legendgroup": "DELITOS DE PARAMILITARISMO Y SICARIATO",
         "marker": {
          "color": "#ab63fa"
         },
         "name": "DELITOS DE PARAMILITARISMO Y SICARIATO",
         "offsetgroup": "DELITOS DE PARAMILITARISMO Y SICARIATO",
         "orientation": "v",
         "showlegend": true,
         "text": [
          9
         ],
         "textposition": "outside",
         "texttemplate": "%{text:.2s}",
         "type": "bar",
         "x": [
          "DELITOS DE PARAMILITARISMO Y SICARIATO"
         ],
         "xaxis": "x",
         "y": [
          9
         ],
         "yaxis": "y"
        },
        {
         "alignmentgroup": "True",
         "customdata": [
          [
           "LEGISLACION INDIGENA"
          ]
         ],
         "hovertemplate": "TITULO_DELITO=%{customdata[0]}<br>Amount of recidivist crimes=%{text}<extra></extra>",
         "legendgroup": "LEGISLACION INDIGENA",
         "marker": {
          "color": "#FFA15A"
         },
         "name": "LEGISLACION INDIGENA",
         "offsetgroup": "LEGISLACION INDIGENA",
         "orientation": "v",
         "showlegend": true,
         "text": [
          11
         ],
         "textposition": "outside",
         "texttemplate": "%{text:.2s}",
         "type": "bar",
         "x": [
          "LEGISLACION INDIGENA"
         ],
         "xaxis": "x",
         "y": [
          11
         ],
         "yaxis": "y"
        }
       ],
       "layout": {
        "autosize": false,
        "barmode": "stack",
        "height": 700,
        "legend": {
         "title": {
          "text": "TITULO_DELITO"
         },
         "tracegroupgap": 0
        },
        "margin": {
         "b": 100,
         "l": 50,
         "pad": 4,
         "r": 50,
         "t": 100
        },
        "showlegend": false,
        "template": {
         "data": {
          "bar": [
           {
            "error_x": {
             "color": "#2a3f5f"
            },
            "error_y": {
             "color": "#2a3f5f"
            },
            "marker": {
             "line": {
              "color": "#E5ECF6",
              "width": 0.5
             }
            },
            "type": "bar"
           }
          ],
          "barpolar": [
           {
            "marker": {
             "line": {
              "color": "#E5ECF6",
              "width": 0.5
             }
            },
            "type": "barpolar"
           }
          ],
          "carpet": [
           {
            "aaxis": {
             "endlinecolor": "#2a3f5f",
             "gridcolor": "white",
             "linecolor": "white",
             "minorgridcolor": "white",
             "startlinecolor": "#2a3f5f"
            },
            "baxis": {
             "endlinecolor": "#2a3f5f",
             "gridcolor": "white",
             "linecolor": "white",
             "minorgridcolor": "white",
             "startlinecolor": "#2a3f5f"
            },
            "type": "carpet"
           }
          ],
          "choropleth": [
           {
            "colorbar": {
             "outlinewidth": 0,
             "ticks": ""
            },
            "type": "choropleth"
           }
          ],
          "contour": [
           {
            "colorbar": {
             "outlinewidth": 0,
             "ticks": ""
            },
            "colorscale": [
             [
              0,
              "#0d0887"
             ],
             [
              0.1111111111111111,
              "#46039f"
             ],
             [
              0.2222222222222222,
              "#7201a8"
             ],
             [
              0.3333333333333333,
              "#9c179e"
             ],
             [
              0.4444444444444444,
              "#bd3786"
             ],
             [
              0.5555555555555556,
              "#d8576b"
             ],
             [
              0.6666666666666666,
              "#ed7953"
             ],
             [
              0.7777777777777778,
              "#fb9f3a"
             ],
             [
              0.8888888888888888,
              "#fdca26"
             ],
             [
              1,
              "#f0f921"
             ]
            ],
            "type": "contour"
           }
          ],
          "contourcarpet": [
           {
            "colorbar": {
             "outlinewidth": 0,
             "ticks": ""
            },
            "type": "contourcarpet"
           }
          ],
          "heatmap": [
           {
            "colorbar": {
             "outlinewidth": 0,
             "ticks": ""
            },
            "colorscale": [
             [
              0,
              "#0d0887"
             ],
             [
              0.1111111111111111,
              "#46039f"
             ],
             [
              0.2222222222222222,
              "#7201a8"
             ],
             [
              0.3333333333333333,
              "#9c179e"
             ],
             [
              0.4444444444444444,
              "#bd3786"
             ],
             [
              0.5555555555555556,
              "#d8576b"
             ],
             [
              0.6666666666666666,
              "#ed7953"
             ],
             [
              0.7777777777777778,
              "#fb9f3a"
             ],
             [
              0.8888888888888888,
              "#fdca26"
             ],
             [
              1,
              "#f0f921"
             ]
            ],
            "type": "heatmap"
           }
          ],
          "heatmapgl": [
           {
            "colorbar": {
             "outlinewidth": 0,
             "ticks": ""
            },
            "colorscale": [
             [
              0,
              "#0d0887"
             ],
             [
              0.1111111111111111,
              "#46039f"
             ],
             [
              0.2222222222222222,
              "#7201a8"
             ],
             [
              0.3333333333333333,
              "#9c179e"
             ],
             [
              0.4444444444444444,
              "#bd3786"
             ],
             [
              0.5555555555555556,
              "#d8576b"
             ],
             [
              0.6666666666666666,
              "#ed7953"
             ],
             [
              0.7777777777777778,
              "#fb9f3a"
             ],
             [
              0.8888888888888888,
              "#fdca26"
             ],
             [
              1,
              "#f0f921"
             ]
            ],
            "type": "heatmapgl"
           }
          ],
          "histogram": [
           {
            "marker": {
             "colorbar": {
              "outlinewidth": 0,
              "ticks": ""
             }
            },
            "type": "histogram"
           }
          ],
          "histogram2d": [
           {
            "colorbar": {
             "outlinewidth": 0,
             "ticks": ""
            },
            "colorscale": [
             [
              0,
              "#0d0887"
             ],
             [
              0.1111111111111111,
              "#46039f"
             ],
             [
              0.2222222222222222,
              "#7201a8"
             ],
             [
              0.3333333333333333,
              "#9c179e"
             ],
             [
              0.4444444444444444,
              "#bd3786"
             ],
             [
              0.5555555555555556,
              "#d8576b"
             ],
             [
              0.6666666666666666,
              "#ed7953"
             ],
             [
              0.7777777777777778,
              "#fb9f3a"
             ],
             [
              0.8888888888888888,
              "#fdca26"
             ],
             [
              1,
              "#f0f921"
             ]
            ],
            "type": "histogram2d"
           }
          ],
          "histogram2dcontour": [
           {
            "colorbar": {
             "outlinewidth": 0,
             "ticks": ""
            },
            "colorscale": [
             [
              0,
              "#0d0887"
             ],
             [
              0.1111111111111111,
              "#46039f"
             ],
             [
              0.2222222222222222,
              "#7201a8"
             ],
             [
              0.3333333333333333,
              "#9c179e"
             ],
             [
              0.4444444444444444,
              "#bd3786"
             ],
             [
              0.5555555555555556,
              "#d8576b"
             ],
             [
              0.6666666666666666,
              "#ed7953"
             ],
             [
              0.7777777777777778,
              "#fb9f3a"
             ],
             [
              0.8888888888888888,
              "#fdca26"
             ],
             [
              1,
              "#f0f921"
             ]
            ],
            "type": "histogram2dcontour"
           }
          ],
          "mesh3d": [
           {
            "colorbar": {
             "outlinewidth": 0,
             "ticks": ""
            },
            "type": "mesh3d"
           }
          ],
          "parcoords": [
           {
            "line": {
             "colorbar": {
              "outlinewidth": 0,
              "ticks": ""
             }
            },
            "type": "parcoords"
           }
          ],
          "pie": [
           {
            "automargin": true,
            "type": "pie"
           }
          ],
          "scatter": [
           {
            "marker": {
             "colorbar": {
              "outlinewidth": 0,
              "ticks": ""
             }
            },
            "type": "scatter"
           }
          ],
          "scatter3d": [
           {
            "line": {
             "colorbar": {
              "outlinewidth": 0,
              "ticks": ""
             }
            },
            "marker": {
             "colorbar": {
              "outlinewidth": 0,
              "ticks": ""
             }
            },
            "type": "scatter3d"
           }
          ],
          "scattercarpet": [
           {
            "marker": {
             "colorbar": {
              "outlinewidth": 0,
              "ticks": ""
             }
            },
            "type": "scattercarpet"
           }
          ],
          "scattergeo": [
           {
            "marker": {
             "colorbar": {
              "outlinewidth": 0,
              "ticks": ""
             }
            },
            "type": "scattergeo"
           }
          ],
          "scattergl": [
           {
            "marker": {
             "colorbar": {
              "outlinewidth": 0,
              "ticks": ""
             }
            },
            "type": "scattergl"
           }
          ],
          "scattermapbox": [
           {
            "marker": {
             "colorbar": {
              "outlinewidth": 0,
              "ticks": ""
             }
            },
            "type": "scattermapbox"
           }
          ],
          "scatterpolar": [
           {
            "marker": {
             "colorbar": {
              "outlinewidth": 0,
              "ticks": ""
             }
            },
            "type": "scatterpolar"
           }
          ],
          "scatterpolargl": [
           {
            "marker": {
             "colorbar": {
              "outlinewidth": 0,
              "ticks": ""
             }
            },
            "type": "scatterpolargl"
           }
          ],
          "scatterternary": [
           {
            "marker": {
             "colorbar": {
              "outlinewidth": 0,
              "ticks": ""
             }
            },
            "type": "scatterternary"
           }
          ],
          "surface": [
           {
            "colorbar": {
             "outlinewidth": 0,
             "ticks": ""
            },
            "colorscale": [
             [
              0,
              "#0d0887"
             ],
             [
              0.1111111111111111,
              "#46039f"
             ],
             [
              0.2222222222222222,
              "#7201a8"
             ],
             [
              0.3333333333333333,
              "#9c179e"
             ],
             [
              0.4444444444444444,
              "#bd3786"
             ],
             [
              0.5555555555555556,
              "#d8576b"
             ],
             [
              0.6666666666666666,
              "#ed7953"
             ],
             [
              0.7777777777777778,
              "#fb9f3a"
             ],
             [
              0.8888888888888888,
              "#fdca26"
             ],
             [
              1,
              "#f0f921"
             ]
            ],
            "type": "surface"
           }
          ],
          "table": [
           {
            "cells": {
             "fill": {
              "color": "#EBF0F8"
             },
             "line": {
              "color": "white"
             }
            },
            "header": {
             "fill": {
              "color": "#C8D4E3"
             },
             "line": {
              "color": "white"
             }
            },
            "type": "table"
           }
          ]
         },
         "layout": {
          "annotationdefaults": {
           "arrowcolor": "#2a3f5f",
           "arrowhead": 0,
           "arrowwidth": 1
          },
          "coloraxis": {
           "colorbar": {
            "outlinewidth": 0,
            "ticks": ""
           }
          },
          "colorscale": {
           "diverging": [
            [
             0,
             "#8e0152"
            ],
            [
             0.1,
             "#c51b7d"
            ],
            [
             0.2,
             "#de77ae"
            ],
            [
             0.3,
             "#f1b6da"
            ],
            [
             0.4,
             "#fde0ef"
            ],
            [
             0.5,
             "#f7f7f7"
            ],
            [
             0.6,
             "#e6f5d0"
            ],
            [
             0.7,
             "#b8e186"
            ],
            [
             0.8,
             "#7fbc41"
            ],
            [
             0.9,
             "#4d9221"
            ],
            [
             1,
             "#276419"
            ]
           ],
           "sequential": [
            [
             0,
             "#0d0887"
            ],
            [
             0.1111111111111111,
             "#46039f"
            ],
            [
             0.2222222222222222,
             "#7201a8"
            ],
            [
             0.3333333333333333,
             "#9c179e"
            ],
            [
             0.4444444444444444,
             "#bd3786"
            ],
            [
             0.5555555555555556,
             "#d8576b"
            ],
            [
             0.6666666666666666,
             "#ed7953"
            ],
            [
             0.7777777777777778,
             "#fb9f3a"
            ],
            [
             0.8888888888888888,
             "#fdca26"
            ],
            [
             1,
             "#f0f921"
            ]
           ],
           "sequentialminus": [
            [
             0,
             "#0d0887"
            ],
            [
             0.1111111111111111,
             "#46039f"
            ],
            [
             0.2222222222222222,
             "#7201a8"
            ],
            [
             0.3333333333333333,
             "#9c179e"
            ],
            [
             0.4444444444444444,
             "#bd3786"
            ],
            [
             0.5555555555555556,
             "#d8576b"
            ],
            [
             0.6666666666666666,
             "#ed7953"
            ],
            [
             0.7777777777777778,
             "#fb9f3a"
            ],
            [
             0.8888888888888888,
             "#fdca26"
            ],
            [
             1,
             "#f0f921"
            ]
           ]
          },
          "colorway": [
           "#636efa",
           "#EF553B",
           "#00cc96",
           "#ab63fa",
           "#FFA15A",
           "#19d3f3",
           "#FF6692",
           "#B6E880",
           "#FF97FF",
           "#FECB52"
          ],
          "font": {
           "color": "#2a3f5f"
          },
          "geo": {
           "bgcolor": "white",
           "lakecolor": "white",
           "landcolor": "#E5ECF6",
           "showlakes": true,
           "showland": true,
           "subunitcolor": "white"
          },
          "hoverlabel": {
           "align": "left"
          },
          "hovermode": "closest",
          "mapbox": {
           "style": "light"
          },
          "paper_bgcolor": "white",
          "plot_bgcolor": "#E5ECF6",
          "polar": {
           "angularaxis": {
            "gridcolor": "white",
            "linecolor": "white",
            "ticks": ""
           },
           "bgcolor": "#E5ECF6",
           "radialaxis": {
            "gridcolor": "white",
            "linecolor": "white",
            "ticks": ""
           }
          },
          "scene": {
           "xaxis": {
            "backgroundcolor": "#E5ECF6",
            "gridcolor": "white",
            "gridwidth": 2,
            "linecolor": "white",
            "showbackground": true,
            "ticks": "",
            "zerolinecolor": "white"
           },
           "yaxis": {
            "backgroundcolor": "#E5ECF6",
            "gridcolor": "white",
            "gridwidth": 2,
            "linecolor": "white",
            "showbackground": true,
            "ticks": "",
            "zerolinecolor": "white"
           },
           "zaxis": {
            "backgroundcolor": "#E5ECF6",
            "gridcolor": "white",
            "gridwidth": 2,
            "linecolor": "white",
            "showbackground": true,
            "ticks": "",
            "zerolinecolor": "white"
           }
          },
          "shapedefaults": {
           "line": {
            "color": "#2a3f5f"
           }
          },
          "ternary": {
           "aaxis": {
            "gridcolor": "white",
            "linecolor": "white",
            "ticks": ""
           },
           "baxis": {
            "gridcolor": "white",
            "linecolor": "white",
            "ticks": ""
           },
           "bgcolor": "#E5ECF6",
           "caxis": {
            "gridcolor": "white",
            "linecolor": "white",
            "ticks": ""
           }
          },
          "title": {
           "x": 0.05
          },
          "xaxis": {
           "automargin": true,
           "gridcolor": "white",
           "linecolor": "white",
           "ticks": "",
           "title": {
            "standoff": 15
           },
           "zerolinecolor": "white",
           "zerolinewidth": 2
          },
          "yaxis": {
           "automargin": true,
           "gridcolor": "white",
           "linecolor": "white",
           "ticks": "",
           "title": {
            "standoff": 15
           },
           "zerolinecolor": "white",
           "zerolinewidth": 2
          }
         }
        },
        "title": {
         "text": "Most commited crimes by men"
        },
        "uniformtext": {
         "minsize": 6,
         "mode": "hide"
        },
        "width": 800,
        "xaxis": {
         "anchor": "y",
         "categoryarray": [
          "ACCION DE TUTELA",
          "CONTRA EL ORDEN ECONOMICO SOCIAL",
          "CONTRA EL PATRIMONIO ECONOMICO",
          "CONTRA EL REGIMEN CONSTITUCIONAL Y LEGAL",
          "CONTRA LA ADMINISTRACION PUBLICA",
          "CONTRA LA EFICAZ Y RECTA IMPARTICION DE JUSTICIA",
          "CONTRA LA EXISTENCIA Y SEGURIDAD DEL ESTADO",
          "CONTRA LA FAMILIA",
          "CONTRA LA FE PUBLICA",
          "CONTRA LA INTEGRIDAD MORAL",
          "CONTRA LA LIBERTAD INDIVIDUAL Y OTRAS GARANTIAS",
          "CONTRA LA LIBERTAD INTEGRIDAD Y FORMACION SEXUALES",
          "CONTRA LA SALUD PUBLICA",
          "CONTRA LA SEGURIDAD PUBLICA",
          "CONTRA LA VIDA Y LA INTEGRIDAD PERSONAL",
          "CONTRA LOS DERECHOS DE AUTOR",
          "CONTRA LOS RECURSOS NATURALES Y EL MEDIO AMBIENTE",
          "CONTRA MECANISMOS DE PARTICIPACION DEMOCRATICA",
          "CONTRA PERSONAS Y BIENES PROTEGIDOS POR EL DERECHO INTERNACIONAL HUMANITARIO",
          "DE LA PROTECCION DE LA INFORMACION Y DE LOS DATOS",
          "DELITOS CONTRA EL SERVICIO",
          "DELITOS CONTRA LA ADMINISTRACION PUBLICA",
          "DELITOS CONTRA LA DISCIPLINA",
          "DELITOS DE PARAMILITARISMO Y SICARIATO",
          "LEGISLACION INDIGENA"
         ],
         "categoryorder": "array",
         "domain": [
          0,
          1
         ],
         "tickangle": -45,
         "tickfont": {
          "color": "black",
          "family": "Rockwell",
          "size": 8
         },
         "title": {
          "text": "TITULO_DELITO"
         }
        },
        "yaxis": {
         "anchor": "x",
         "domain": [
          0,
          1
         ],
         "title": {
          "text": "Amount of recidivist crimes"
         }
        }
       }
      },
      "text/html": [
       "<div>\n",
       "        \n",
       "        \n",
       "            <div id=\"96419ea1-e41d-4f3b-ba87-b2fde0311b3f\" class=\"plotly-graph-div\" style=\"height:700px; width:800px;\"></div>\n",
       "            <script type=\"text/javascript\">\n",
       "                require([\"plotly\"], function(Plotly) {\n",
       "                    window.PLOTLYENV=window.PLOTLYENV || {};\n",
       "                    \n",
       "                if (document.getElementById(\"96419ea1-e41d-4f3b-ba87-b2fde0311b3f\")) {\n",
       "                    Plotly.newPlot(\n",
       "                        '96419ea1-e41d-4f3b-ba87-b2fde0311b3f',\n",
       "                        [{\"alignmentgroup\": \"True\", \"customdata\": [[\"ACCION DE TUTELA\"]], \"hovertemplate\": \"TITULO_DELITO=%{customdata[0]}<br>Amount of recidivist crimes=%{text}<extra></extra>\", \"legendgroup\": \"ACCION DE TUTELA\", \"marker\": {\"color\": \"#636efa\"}, \"name\": \"ACCION DE TUTELA\", \"offsetgroup\": \"ACCION DE TUTELA\", \"orientation\": \"v\", \"showlegend\": true, \"text\": [4.0], \"textposition\": \"outside\", \"texttemplate\": \"%{text:.2s}\", \"type\": \"bar\", \"x\": [\"ACCION DE TUTELA\"], \"xaxis\": \"x\", \"y\": [4], \"yaxis\": \"y\"}, {\"alignmentgroup\": \"True\", \"customdata\": [[\"CONTRA EL ORDEN ECONOMICO SOCIAL\"]], \"hovertemplate\": \"TITULO_DELITO=%{customdata[0]}<br>Amount of recidivist crimes=%{text}<extra></extra>\", \"legendgroup\": \"CONTRA EL ORDEN ECONOMICO SOCIAL\", \"marker\": {\"color\": \"#EF553B\"}, \"name\": \"CONTRA EL ORDEN ECONOMICO SOCIAL\", \"offsetgroup\": \"CONTRA EL ORDEN ECONOMICO SOCIAL\", \"orientation\": \"v\", \"showlegend\": true, \"text\": [459.0], \"textposition\": \"outside\", \"texttemplate\": \"%{text:.2s}\", \"type\": \"bar\", \"x\": [\"CONTRA EL ORDEN ECONOMICO SOCIAL\"], \"xaxis\": \"x\", \"y\": [459], \"yaxis\": \"y\"}, {\"alignmentgroup\": \"True\", \"customdata\": [[\"CONTRA EL PATRIMONIO ECONOMICO\"]], \"hovertemplate\": \"TITULO_DELITO=%{customdata[0]}<br>Amount of recidivist crimes=%{text}<extra></extra>\", \"legendgroup\": \"CONTRA EL PATRIMONIO ECONOMICO\", \"marker\": {\"color\": \"#00cc96\"}, \"name\": \"CONTRA EL PATRIMONIO ECONOMICO\", \"offsetgroup\": \"CONTRA EL PATRIMONIO ECONOMICO\", \"orientation\": \"v\", \"showlegend\": true, \"text\": [53192.0], \"textposition\": \"outside\", \"texttemplate\": \"%{text:.2s}\", \"type\": \"bar\", \"x\": [\"CONTRA EL PATRIMONIO ECONOMICO\"], \"xaxis\": \"x\", \"y\": [53192], \"yaxis\": \"y\"}, {\"alignmentgroup\": \"True\", \"customdata\": [[\"CONTRA EL REGIMEN CONSTITUCIONAL Y LEGAL\"]], \"hovertemplate\": \"TITULO_DELITO=%{customdata[0]}<br>Amount of recidivist crimes=%{text}<extra></extra>\", \"legendgroup\": \"CONTRA EL REGIMEN CONSTITUCIONAL Y LEGAL\", \"marker\": {\"color\": \"#ab63fa\"}, \"name\": \"CONTRA EL REGIMEN CONSTITUCIONAL Y LEGAL\", \"offsetgroup\": \"CONTRA EL REGIMEN CONSTITUCIONAL Y LEGAL\", \"orientation\": \"v\", \"showlegend\": true, \"text\": [339.0], \"textposition\": \"outside\", \"texttemplate\": \"%{text:.2s}\", \"type\": \"bar\", \"x\": [\"CONTRA EL REGIMEN CONSTITUCIONAL Y LEGAL\"], \"xaxis\": \"x\", \"y\": [339], \"yaxis\": \"y\"}, {\"alignmentgroup\": \"True\", \"customdata\": [[\"CONTRA LA ADMINISTRACION PUBLICA\"]], \"hovertemplate\": \"TITULO_DELITO=%{customdata[0]}<br>Amount of recidivist crimes=%{text}<extra></extra>\", \"legendgroup\": \"CONTRA LA ADMINISTRACION PUBLICA\", \"marker\": {\"color\": \"#FFA15A\"}, \"name\": \"CONTRA LA ADMINISTRACION PUBLICA\", \"offsetgroup\": \"CONTRA LA ADMINISTRACION PUBLICA\", \"orientation\": \"v\", \"showlegend\": true, \"text\": [1218.0], \"textposition\": \"outside\", \"texttemplate\": \"%{text:.2s}\", \"type\": \"bar\", \"x\": [\"CONTRA LA ADMINISTRACION PUBLICA\"], \"xaxis\": \"x\", \"y\": [1218], \"yaxis\": \"y\"}, {\"alignmentgroup\": \"True\", \"customdata\": [[\"CONTRA LA EFICAZ Y RECTA IMPARTICION DE JUSTICIA\"]], \"hovertemplate\": \"TITULO_DELITO=%{customdata[0]}<br>Amount of recidivist crimes=%{text}<extra></extra>\", \"legendgroup\": \"CONTRA LA EFICAZ Y RECTA IMPARTICION DE JUSTICIA\", \"marker\": {\"color\": \"#19d3f3\"}, \"name\": \"CONTRA LA EFICAZ Y RECTA IMPARTICION DE JUSTICIA\", \"offsetgroup\": \"CONTRA LA EFICAZ Y RECTA IMPARTICION DE JUSTICIA\", \"orientation\": \"v\", \"showlegend\": true, \"text\": [2855.0], \"textposition\": \"outside\", \"texttemplate\": \"%{text:.2s}\", \"type\": \"bar\", \"x\": [\"CONTRA LA EFICAZ Y RECTA IMPARTICION DE JUSTICIA\"], \"xaxis\": \"x\", \"y\": [2855], \"yaxis\": \"y\"}, {\"alignmentgroup\": \"True\", \"customdata\": [[\"CONTRA LA EXISTENCIA Y SEGURIDAD DEL ESTADO\"]], \"hovertemplate\": \"TITULO_DELITO=%{customdata[0]}<br>Amount of recidivist crimes=%{text}<extra></extra>\", \"legendgroup\": \"CONTRA LA EXISTENCIA Y SEGURIDAD DEL ESTADO\", \"marker\": {\"color\": \"#FF6692\"}, \"name\": \"CONTRA LA EXISTENCIA Y SEGURIDAD DEL ESTADO\", \"offsetgroup\": \"CONTRA LA EXISTENCIA Y SEGURIDAD DEL ESTADO\", \"orientation\": \"v\", \"showlegend\": true, \"text\": [1.0], \"textposition\": \"outside\", \"texttemplate\": \"%{text:.2s}\", \"type\": \"bar\", \"x\": [\"CONTRA LA EXISTENCIA Y SEGURIDAD DEL ESTADO\"], \"xaxis\": \"x\", \"y\": [1], \"yaxis\": \"y\"}, {\"alignmentgroup\": \"True\", \"customdata\": [[\"CONTRA LA FAMILIA\"]], \"hovertemplate\": \"TITULO_DELITO=%{customdata[0]}<br>Amount of recidivist crimes=%{text}<extra></extra>\", \"legendgroup\": \"CONTRA LA FAMILIA\", \"marker\": {\"color\": \"#B6E880\"}, \"name\": \"CONTRA LA FAMILIA\", \"offsetgroup\": \"CONTRA LA FAMILIA\", \"orientation\": \"v\", \"showlegend\": true, \"text\": [3632.0], \"textposition\": \"outside\", \"texttemplate\": \"%{text:.2s}\", \"type\": \"bar\", \"x\": [\"CONTRA LA FAMILIA\"], \"xaxis\": \"x\", \"y\": [3632], \"yaxis\": \"y\"}, {\"alignmentgroup\": \"True\", \"customdata\": [[\"CONTRA LA FE PUBLICA\"]], \"hovertemplate\": \"TITULO_DELITO=%{customdata[0]}<br>Amount of recidivist crimes=%{text}<extra></extra>\", \"legendgroup\": \"CONTRA LA FE PUBLICA\", \"marker\": {\"color\": \"#FF97FF\"}, \"name\": \"CONTRA LA FE PUBLICA\", \"offsetgroup\": \"CONTRA LA FE PUBLICA\", \"orientation\": \"v\", \"showlegend\": true, \"text\": [2025.0], \"textposition\": \"outside\", \"texttemplate\": \"%{text:.2s}\", \"type\": \"bar\", \"x\": [\"CONTRA LA FE PUBLICA\"], \"xaxis\": \"x\", \"y\": [2025], \"yaxis\": \"y\"}, {\"alignmentgroup\": \"True\", \"customdata\": [[\"CONTRA LA INTEGRIDAD MORAL\"]], \"hovertemplate\": \"TITULO_DELITO=%{customdata[0]}<br>Amount of recidivist crimes=%{text}<extra></extra>\", \"legendgroup\": \"CONTRA LA INTEGRIDAD MORAL\", \"marker\": {\"color\": \"#FECB52\"}, \"name\": \"CONTRA LA INTEGRIDAD MORAL\", \"offsetgroup\": \"CONTRA LA INTEGRIDAD MORAL\", \"orientation\": \"v\", \"showlegend\": true, \"text\": [23.0], \"textposition\": \"outside\", \"texttemplate\": \"%{text:.2s}\", \"type\": \"bar\", \"x\": [\"CONTRA LA INTEGRIDAD MORAL\"], \"xaxis\": \"x\", \"y\": [23], \"yaxis\": \"y\"}, {\"alignmentgroup\": \"True\", \"customdata\": [[\"CONTRA LA LIBERTAD INDIVIDUAL Y OTRAS GARANTIAS\"]], \"hovertemplate\": \"TITULO_DELITO=%{customdata[0]}<br>Amount of recidivist crimes=%{text}<extra></extra>\", \"legendgroup\": \"CONTRA LA LIBERTAD INDIVIDUAL Y OTRAS GARANTIAS\", \"marker\": {\"color\": \"#636efa\"}, \"name\": \"CONTRA LA LIBERTAD INDIVIDUAL Y OTRAS GARANTIAS\", \"offsetgroup\": \"CONTRA LA LIBERTAD INDIVIDUAL Y OTRAS GARANTIAS\", \"orientation\": \"v\", \"showlegend\": true, \"text\": [2713.0], \"textposition\": \"outside\", \"texttemplate\": \"%{text:.2s}\", \"type\": \"bar\", \"x\": [\"CONTRA LA LIBERTAD INDIVIDUAL Y OTRAS GARANTIAS\"], \"xaxis\": \"x\", \"y\": [2713], \"yaxis\": \"y\"}, {\"alignmentgroup\": \"True\", \"customdata\": [[\"CONTRA LA LIBERTAD INTEGRIDAD Y FORMACION SEXUALES\"]], \"hovertemplate\": \"TITULO_DELITO=%{customdata[0]}<br>Amount of recidivist crimes=%{text}<extra></extra>\", \"legendgroup\": \"CONTRA LA LIBERTAD INTEGRIDAD Y FORMACION SEXUALES\", \"marker\": {\"color\": \"#EF553B\"}, \"name\": \"CONTRA LA LIBERTAD INTEGRIDAD Y FORMACION SEXUALES\", \"offsetgroup\": \"CONTRA LA LIBERTAD INTEGRIDAD Y FORMACION SEXUALES\", \"orientation\": \"v\", \"showlegend\": true, \"text\": [2802.0], \"textposition\": \"outside\", \"texttemplate\": \"%{text:.2s}\", \"type\": \"bar\", \"x\": [\"CONTRA LA LIBERTAD INTEGRIDAD Y FORMACION SEXUALES\"], \"xaxis\": \"x\", \"y\": [2802], \"yaxis\": \"y\"}, {\"alignmentgroup\": \"True\", \"customdata\": [[\"CONTRA LA SALUD PUBLICA\"]], \"hovertemplate\": \"TITULO_DELITO=%{customdata[0]}<br>Amount of recidivist crimes=%{text}<extra></extra>\", \"legendgroup\": \"CONTRA LA SALUD PUBLICA\", \"marker\": {\"color\": \"#00cc96\"}, \"name\": \"CONTRA LA SALUD PUBLICA\", \"offsetgroup\": \"CONTRA LA SALUD PUBLICA\", \"orientation\": \"v\", \"showlegend\": true, \"text\": [20503.0], \"textposition\": \"outside\", \"texttemplate\": \"%{text:.2s}\", \"type\": \"bar\", \"x\": [\"CONTRA LA SALUD PUBLICA\"], \"xaxis\": \"x\", \"y\": [20503], \"yaxis\": \"y\"}, {\"alignmentgroup\": \"True\", \"customdata\": [[\"CONTRA LA SEGURIDAD PUBLICA\"]], \"hovertemplate\": \"TITULO_DELITO=%{customdata[0]}<br>Amount of recidivist crimes=%{text}<extra></extra>\", \"legendgroup\": \"CONTRA LA SEGURIDAD PUBLICA\", \"marker\": {\"color\": \"#ab63fa\"}, \"name\": \"CONTRA LA SEGURIDAD PUBLICA\", \"offsetgroup\": \"CONTRA LA SEGURIDAD PUBLICA\", \"orientation\": \"v\", \"showlegend\": true, \"text\": [29903.0], \"textposition\": \"outside\", \"texttemplate\": \"%{text:.2s}\", \"type\": \"bar\", \"x\": [\"CONTRA LA SEGURIDAD PUBLICA\"], \"xaxis\": \"x\", \"y\": [29903], \"yaxis\": \"y\"}, {\"alignmentgroup\": \"True\", \"customdata\": [[\"CONTRA LA VIDA Y LA INTEGRIDAD PERSONAL\"]], \"hovertemplate\": \"TITULO_DELITO=%{customdata[0]}<br>Amount of recidivist crimes=%{text}<extra></extra>\", \"legendgroup\": \"CONTRA LA VIDA Y LA INTEGRIDAD PERSONAL\", \"marker\": {\"color\": \"#FFA15A\"}, \"name\": \"CONTRA LA VIDA Y LA INTEGRIDAD PERSONAL\", \"offsetgroup\": \"CONTRA LA VIDA Y LA INTEGRIDAD PERSONAL\", \"orientation\": \"v\", \"showlegend\": true, \"text\": [10942.0], \"textposition\": \"outside\", \"texttemplate\": \"%{text:.2s}\", \"type\": \"bar\", \"x\": [\"CONTRA LA VIDA Y LA INTEGRIDAD PERSONAL\"], \"xaxis\": \"x\", \"y\": [10942], \"yaxis\": \"y\"}, {\"alignmentgroup\": \"True\", \"customdata\": [[\"CONTRA LOS DERECHOS DE AUTOR\"]], \"hovertemplate\": \"TITULO_DELITO=%{customdata[0]}<br>Amount of recidivist crimes=%{text}<extra></extra>\", \"legendgroup\": \"CONTRA LOS DERECHOS DE AUTOR\", \"marker\": {\"color\": \"#19d3f3\"}, \"name\": \"CONTRA LOS DERECHOS DE AUTOR\", \"offsetgroup\": \"CONTRA LOS DERECHOS DE AUTOR\", \"orientation\": \"v\", \"showlegend\": true, \"text\": [25.0], \"textposition\": \"outside\", \"texttemplate\": \"%{text:.2s}\", \"type\": \"bar\", \"x\": [\"CONTRA LOS DERECHOS DE AUTOR\"], \"xaxis\": \"x\", \"y\": [25], \"yaxis\": \"y\"}, {\"alignmentgroup\": \"True\", \"customdata\": [[\"CONTRA LOS RECURSOS NATURALES Y EL MEDIO AMBIENTE\"]], \"hovertemplate\": \"TITULO_DELITO=%{customdata[0]}<br>Amount of recidivist crimes=%{text}<extra></extra>\", \"legendgroup\": \"CONTRA LOS RECURSOS NATURALES Y EL MEDIO AMBIENTE\", \"marker\": {\"color\": \"#FF6692\"}, \"name\": \"CONTRA LOS RECURSOS NATURALES Y EL MEDIO AMBIENTE\", \"offsetgroup\": \"CONTRA LOS RECURSOS NATURALES Y EL MEDIO AMBIENTE\", \"orientation\": \"v\", \"showlegend\": true, \"text\": [242.0], \"textposition\": \"outside\", \"texttemplate\": \"%{text:.2s}\", \"type\": \"bar\", \"x\": [\"CONTRA LOS RECURSOS NATURALES Y EL MEDIO AMBIENTE\"], \"xaxis\": \"x\", \"y\": [242], \"yaxis\": \"y\"}, {\"alignmentgroup\": \"True\", \"customdata\": [[\"CONTRA MECANISMOS DE PARTICIPACION DEMOCRATICA\"]], \"hovertemplate\": \"TITULO_DELITO=%{customdata[0]}<br>Amount of recidivist crimes=%{text}<extra></extra>\", \"legendgroup\": \"CONTRA MECANISMOS DE PARTICIPACION DEMOCRATICA\", \"marker\": {\"color\": \"#B6E880\"}, \"name\": \"CONTRA MECANISMOS DE PARTICIPACION DEMOCRATICA\", \"offsetgroup\": \"CONTRA MECANISMOS DE PARTICIPACION DEMOCRATICA\", \"orientation\": \"v\", \"showlegend\": true, \"text\": [16.0], \"textposition\": \"outside\", \"texttemplate\": \"%{text:.2s}\", \"type\": \"bar\", \"x\": [\"CONTRA MECANISMOS DE PARTICIPACION DEMOCRATICA\"], \"xaxis\": \"x\", \"y\": [16], \"yaxis\": \"y\"}, {\"alignmentgroup\": \"True\", \"customdata\": [[\"CONTRA PERSONAS Y BIENES PROTEGIDOS POR EL DERECHO INTERNACIONAL HUMANITARIO\"]], \"hovertemplate\": \"TITULO_DELITO=%{customdata[0]}<br>Amount of recidivist crimes=%{text}<extra></extra>\", \"legendgroup\": \"CONTRA PERSONAS Y BIENES PROTEGIDOS POR EL DERECHO INTERNACIONAL HUMANITARIO\", \"marker\": {\"color\": \"#FF97FF\"}, \"name\": \"CONTRA PERSONAS Y BIENES PROTEGIDOS POR EL DERECHO INTERNACIONAL HUMANITARIO\", \"offsetgroup\": \"CONTRA PERSONAS Y BIENES PROTEGIDOS POR EL DERECHO INTERNACIONAL HUMANITARIO\", \"orientation\": \"v\", \"showlegend\": true, \"text\": [140.0], \"textposition\": \"outside\", \"texttemplate\": \"%{text:.2s}\", \"type\": \"bar\", \"x\": [\"CONTRA PERSONAS Y BIENES PROTEGIDOS POR EL DERECHO INTERNACIONAL HUMANITARIO\"], \"xaxis\": \"x\", \"y\": [140], \"yaxis\": \"y\"}, {\"alignmentgroup\": \"True\", \"customdata\": [[\"DE LA PROTECCION DE LA INFORMACION Y DE LOS DATOS\"]], \"hovertemplate\": \"TITULO_DELITO=%{customdata[0]}<br>Amount of recidivist crimes=%{text}<extra></extra>\", \"legendgroup\": \"DE LA PROTECCION DE LA INFORMACION Y DE LOS DATOS\", \"marker\": {\"color\": \"#FECB52\"}, \"name\": \"DE LA PROTECCION DE LA INFORMACION Y DE LOS DATOS\", \"offsetgroup\": \"DE LA PROTECCION DE LA INFORMACION Y DE LOS DATOS\", \"orientation\": \"v\", \"showlegend\": true, \"text\": [280.0], \"textposition\": \"outside\", \"texttemplate\": \"%{text:.2s}\", \"type\": \"bar\", \"x\": [\"DE LA PROTECCION DE LA INFORMACION Y DE LOS DATOS\"], \"xaxis\": \"x\", \"y\": [280], \"yaxis\": \"y\"}, {\"alignmentgroup\": \"True\", \"customdata\": [[\"DELITOS CONTRA EL SERVICIO\"]], \"hovertemplate\": \"TITULO_DELITO=%{customdata[0]}<br>Amount of recidivist crimes=%{text}<extra></extra>\", \"legendgroup\": \"DELITOS CONTRA EL SERVICIO\", \"marker\": {\"color\": \"#636efa\"}, \"name\": \"DELITOS CONTRA EL SERVICIO\", \"offsetgroup\": \"DELITOS CONTRA EL SERVICIO\", \"orientation\": \"v\", \"showlegend\": true, \"text\": [144.0], \"textposition\": \"outside\", \"texttemplate\": \"%{text:.2s}\", \"type\": \"bar\", \"x\": [\"DELITOS CONTRA EL SERVICIO\"], \"xaxis\": \"x\", \"y\": [144], \"yaxis\": \"y\"}, {\"alignmentgroup\": \"True\", \"customdata\": [[\"DELITOS CONTRA LA ADMINISTRACION PUBLICA\"]], \"hovertemplate\": \"TITULO_DELITO=%{customdata[0]}<br>Amount of recidivist crimes=%{text}<extra></extra>\", \"legendgroup\": \"DELITOS CONTRA LA ADMINISTRACION PUBLICA\", \"marker\": {\"color\": \"#EF553B\"}, \"name\": \"DELITOS CONTRA LA ADMINISTRACION PUBLICA\", \"offsetgroup\": \"DELITOS CONTRA LA ADMINISTRACION PUBLICA\", \"orientation\": \"v\", \"showlegend\": true, \"text\": [2.0], \"textposition\": \"outside\", \"texttemplate\": \"%{text:.2s}\", \"type\": \"bar\", \"x\": [\"DELITOS CONTRA LA ADMINISTRACION PUBLICA\"], \"xaxis\": \"x\", \"y\": [2], \"yaxis\": \"y\"}, {\"alignmentgroup\": \"True\", \"customdata\": [[\"DELITOS CONTRA LA DISCIPLINA\"]], \"hovertemplate\": \"TITULO_DELITO=%{customdata[0]}<br>Amount of recidivist crimes=%{text}<extra></extra>\", \"legendgroup\": \"DELITOS CONTRA LA DISCIPLINA\", \"marker\": {\"color\": \"#00cc96\"}, \"name\": \"DELITOS CONTRA LA DISCIPLINA\", \"offsetgroup\": \"DELITOS CONTRA LA DISCIPLINA\", \"orientation\": \"v\", \"showlegend\": true, \"text\": [5.0], \"textposition\": \"outside\", \"texttemplate\": \"%{text:.2s}\", \"type\": \"bar\", \"x\": [\"DELITOS CONTRA LA DISCIPLINA\"], \"xaxis\": \"x\", \"y\": [5], \"yaxis\": \"y\"}, {\"alignmentgroup\": \"True\", \"customdata\": [[\"DELITOS DE PARAMILITARISMO Y SICARIATO\"]], \"hovertemplate\": \"TITULO_DELITO=%{customdata[0]}<br>Amount of recidivist crimes=%{text}<extra></extra>\", \"legendgroup\": \"DELITOS DE PARAMILITARISMO Y SICARIATO\", \"marker\": {\"color\": \"#ab63fa\"}, \"name\": \"DELITOS DE PARAMILITARISMO Y SICARIATO\", \"offsetgroup\": \"DELITOS DE PARAMILITARISMO Y SICARIATO\", \"orientation\": \"v\", \"showlegend\": true, \"text\": [9.0], \"textposition\": \"outside\", \"texttemplate\": \"%{text:.2s}\", \"type\": \"bar\", \"x\": [\"DELITOS DE PARAMILITARISMO Y SICARIATO\"], \"xaxis\": \"x\", \"y\": [9], \"yaxis\": \"y\"}, {\"alignmentgroup\": \"True\", \"customdata\": [[\"LEGISLACION INDIGENA\"]], \"hovertemplate\": \"TITULO_DELITO=%{customdata[0]}<br>Amount of recidivist crimes=%{text}<extra></extra>\", \"legendgroup\": \"LEGISLACION INDIGENA\", \"marker\": {\"color\": \"#FFA15A\"}, \"name\": \"LEGISLACION INDIGENA\", \"offsetgroup\": \"LEGISLACION INDIGENA\", \"orientation\": \"v\", \"showlegend\": true, \"text\": [11.0], \"textposition\": \"outside\", \"texttemplate\": \"%{text:.2s}\", \"type\": \"bar\", \"x\": [\"LEGISLACION INDIGENA\"], \"xaxis\": \"x\", \"y\": [11], \"yaxis\": \"y\"}],\n",
       "                        {\"autosize\": false, \"barmode\": \"stack\", \"height\": 700, \"legend\": {\"title\": {\"text\": \"TITULO_DELITO\"}, \"tracegroupgap\": 0}, \"margin\": {\"b\": 100, \"l\": 50, \"pad\": 4, \"r\": 50, \"t\": 100}, \"showlegend\": false, \"template\": {\"data\": {\"bar\": [{\"error_x\": {\"color\": \"#2a3f5f\"}, \"error_y\": {\"color\": \"#2a3f5f\"}, \"marker\": {\"line\": {\"color\": \"#E5ECF6\", \"width\": 0.5}}, \"type\": \"bar\"}], \"barpolar\": [{\"marker\": {\"line\": {\"color\": \"#E5ECF6\", \"width\": 0.5}}, \"type\": \"barpolar\"}], \"carpet\": [{\"aaxis\": {\"endlinecolor\": \"#2a3f5f\", \"gridcolor\": \"white\", \"linecolor\": \"white\", \"minorgridcolor\": \"white\", \"startlinecolor\": \"#2a3f5f\"}, \"baxis\": {\"endlinecolor\": \"#2a3f5f\", \"gridcolor\": \"white\", \"linecolor\": \"white\", \"minorgridcolor\": \"white\", \"startlinecolor\": \"#2a3f5f\"}, \"type\": \"carpet\"}], \"choropleth\": [{\"colorbar\": {\"outlinewidth\": 0, \"ticks\": \"\"}, \"type\": \"choropleth\"}], \"contour\": [{\"colorbar\": {\"outlinewidth\": 0, \"ticks\": \"\"}, \"colorscale\": [[0.0, \"#0d0887\"], [0.1111111111111111, \"#46039f\"], [0.2222222222222222, \"#7201a8\"], [0.3333333333333333, \"#9c179e\"], [0.4444444444444444, \"#bd3786\"], [0.5555555555555556, \"#d8576b\"], [0.6666666666666666, \"#ed7953\"], [0.7777777777777778, \"#fb9f3a\"], [0.8888888888888888, \"#fdca26\"], [1.0, \"#f0f921\"]], \"type\": \"contour\"}], \"contourcarpet\": [{\"colorbar\": {\"outlinewidth\": 0, \"ticks\": \"\"}, \"type\": \"contourcarpet\"}], \"heatmap\": [{\"colorbar\": {\"outlinewidth\": 0, \"ticks\": \"\"}, \"colorscale\": [[0.0, \"#0d0887\"], [0.1111111111111111, \"#46039f\"], [0.2222222222222222, \"#7201a8\"], [0.3333333333333333, \"#9c179e\"], [0.4444444444444444, \"#bd3786\"], [0.5555555555555556, \"#d8576b\"], [0.6666666666666666, \"#ed7953\"], [0.7777777777777778, \"#fb9f3a\"], [0.8888888888888888, \"#fdca26\"], [1.0, \"#f0f921\"]], \"type\": \"heatmap\"}], \"heatmapgl\": [{\"colorbar\": {\"outlinewidth\": 0, \"ticks\": \"\"}, \"colorscale\": [[0.0, \"#0d0887\"], [0.1111111111111111, \"#46039f\"], [0.2222222222222222, \"#7201a8\"], [0.3333333333333333, \"#9c179e\"], [0.4444444444444444, \"#bd3786\"], [0.5555555555555556, \"#d8576b\"], [0.6666666666666666, \"#ed7953\"], [0.7777777777777778, \"#fb9f3a\"], [0.8888888888888888, \"#fdca26\"], [1.0, \"#f0f921\"]], \"type\": \"heatmapgl\"}], \"histogram\": [{\"marker\": {\"colorbar\": {\"outlinewidth\": 0, \"ticks\": \"\"}}, \"type\": \"histogram\"}], \"histogram2d\": [{\"colorbar\": {\"outlinewidth\": 0, \"ticks\": \"\"}, \"colorscale\": [[0.0, \"#0d0887\"], [0.1111111111111111, \"#46039f\"], [0.2222222222222222, \"#7201a8\"], [0.3333333333333333, \"#9c179e\"], [0.4444444444444444, \"#bd3786\"], [0.5555555555555556, \"#d8576b\"], [0.6666666666666666, \"#ed7953\"], [0.7777777777777778, \"#fb9f3a\"], [0.8888888888888888, \"#fdca26\"], [1.0, \"#f0f921\"]], \"type\": \"histogram2d\"}], \"histogram2dcontour\": [{\"colorbar\": {\"outlinewidth\": 0, \"ticks\": \"\"}, \"colorscale\": [[0.0, \"#0d0887\"], [0.1111111111111111, \"#46039f\"], [0.2222222222222222, \"#7201a8\"], [0.3333333333333333, \"#9c179e\"], [0.4444444444444444, \"#bd3786\"], [0.5555555555555556, \"#d8576b\"], [0.6666666666666666, \"#ed7953\"], [0.7777777777777778, \"#fb9f3a\"], [0.8888888888888888, \"#fdca26\"], [1.0, \"#f0f921\"]], \"type\": \"histogram2dcontour\"}], \"mesh3d\": [{\"colorbar\": {\"outlinewidth\": 0, \"ticks\": \"\"}, \"type\": \"mesh3d\"}], \"parcoords\": [{\"line\": {\"colorbar\": {\"outlinewidth\": 0, \"ticks\": \"\"}}, \"type\": \"parcoords\"}], \"pie\": [{\"automargin\": true, \"type\": \"pie\"}], \"scatter\": [{\"marker\": {\"colorbar\": {\"outlinewidth\": 0, \"ticks\": \"\"}}, \"type\": \"scatter\"}], \"scatter3d\": [{\"line\": {\"colorbar\": {\"outlinewidth\": 0, \"ticks\": \"\"}}, \"marker\": {\"colorbar\": {\"outlinewidth\": 0, \"ticks\": \"\"}}, \"type\": \"scatter3d\"}], \"scattercarpet\": [{\"marker\": {\"colorbar\": {\"outlinewidth\": 0, \"ticks\": \"\"}}, \"type\": \"scattercarpet\"}], \"scattergeo\": [{\"marker\": {\"colorbar\": {\"outlinewidth\": 0, \"ticks\": \"\"}}, \"type\": \"scattergeo\"}], \"scattergl\": [{\"marker\": {\"colorbar\": {\"outlinewidth\": 0, \"ticks\": \"\"}}, \"type\": \"scattergl\"}], \"scattermapbox\": [{\"marker\": {\"colorbar\": {\"outlinewidth\": 0, \"ticks\": \"\"}}, \"type\": \"scattermapbox\"}], \"scatterpolar\": [{\"marker\": {\"colorbar\": {\"outlinewidth\": 0, \"ticks\": \"\"}}, \"type\": \"scatterpolar\"}], \"scatterpolargl\": [{\"marker\": {\"colorbar\": {\"outlinewidth\": 0, \"ticks\": \"\"}}, \"type\": \"scatterpolargl\"}], \"scatterternary\": [{\"marker\": {\"colorbar\": {\"outlinewidth\": 0, \"ticks\": \"\"}}, \"type\": \"scatterternary\"}], \"surface\": [{\"colorbar\": {\"outlinewidth\": 0, \"ticks\": \"\"}, \"colorscale\": [[0.0, \"#0d0887\"], [0.1111111111111111, \"#46039f\"], [0.2222222222222222, \"#7201a8\"], [0.3333333333333333, \"#9c179e\"], [0.4444444444444444, \"#bd3786\"], [0.5555555555555556, \"#d8576b\"], [0.6666666666666666, \"#ed7953\"], [0.7777777777777778, \"#fb9f3a\"], [0.8888888888888888, \"#fdca26\"], [1.0, \"#f0f921\"]], \"type\": \"surface\"}], \"table\": [{\"cells\": {\"fill\": {\"color\": \"#EBF0F8\"}, \"line\": {\"color\": \"white\"}}, \"header\": {\"fill\": {\"color\": \"#C8D4E3\"}, \"line\": {\"color\": \"white\"}}, \"type\": \"table\"}]}, \"layout\": {\"annotationdefaults\": {\"arrowcolor\": \"#2a3f5f\", \"arrowhead\": 0, \"arrowwidth\": 1}, \"coloraxis\": {\"colorbar\": {\"outlinewidth\": 0, \"ticks\": \"\"}}, \"colorscale\": {\"diverging\": [[0, \"#8e0152\"], [0.1, \"#c51b7d\"], [0.2, \"#de77ae\"], [0.3, \"#f1b6da\"], [0.4, \"#fde0ef\"], [0.5, \"#f7f7f7\"], [0.6, \"#e6f5d0\"], [0.7, \"#b8e186\"], [0.8, \"#7fbc41\"], [0.9, \"#4d9221\"], [1, \"#276419\"]], \"sequential\": [[0.0, \"#0d0887\"], [0.1111111111111111, \"#46039f\"], [0.2222222222222222, \"#7201a8\"], [0.3333333333333333, \"#9c179e\"], [0.4444444444444444, \"#bd3786\"], [0.5555555555555556, \"#d8576b\"], [0.6666666666666666, \"#ed7953\"], [0.7777777777777778, \"#fb9f3a\"], [0.8888888888888888, \"#fdca26\"], [1.0, \"#f0f921\"]], \"sequentialminus\": [[0.0, \"#0d0887\"], [0.1111111111111111, \"#46039f\"], [0.2222222222222222, \"#7201a8\"], [0.3333333333333333, \"#9c179e\"], [0.4444444444444444, \"#bd3786\"], [0.5555555555555556, \"#d8576b\"], [0.6666666666666666, \"#ed7953\"], [0.7777777777777778, \"#fb9f3a\"], [0.8888888888888888, \"#fdca26\"], [1.0, \"#f0f921\"]]}, \"colorway\": [\"#636efa\", \"#EF553B\", \"#00cc96\", \"#ab63fa\", \"#FFA15A\", \"#19d3f3\", \"#FF6692\", \"#B6E880\", \"#FF97FF\", \"#FECB52\"], \"font\": {\"color\": \"#2a3f5f\"}, \"geo\": {\"bgcolor\": \"white\", \"lakecolor\": \"white\", \"landcolor\": \"#E5ECF6\", \"showlakes\": true, \"showland\": true, \"subunitcolor\": \"white\"}, \"hoverlabel\": {\"align\": \"left\"}, \"hovermode\": \"closest\", \"mapbox\": {\"style\": \"light\"}, \"paper_bgcolor\": \"white\", \"plot_bgcolor\": \"#E5ECF6\", \"polar\": {\"angularaxis\": {\"gridcolor\": \"white\", \"linecolor\": \"white\", \"ticks\": \"\"}, \"bgcolor\": \"#E5ECF6\", \"radialaxis\": {\"gridcolor\": \"white\", \"linecolor\": \"white\", \"ticks\": \"\"}}, \"scene\": {\"xaxis\": {\"backgroundcolor\": \"#E5ECF6\", \"gridcolor\": \"white\", \"gridwidth\": 2, \"linecolor\": \"white\", \"showbackground\": true, \"ticks\": \"\", \"zerolinecolor\": \"white\"}, \"yaxis\": {\"backgroundcolor\": \"#E5ECF6\", \"gridcolor\": \"white\", \"gridwidth\": 2, \"linecolor\": \"white\", \"showbackground\": true, \"ticks\": \"\", \"zerolinecolor\": \"white\"}, \"zaxis\": {\"backgroundcolor\": \"#E5ECF6\", \"gridcolor\": \"white\", \"gridwidth\": 2, \"linecolor\": \"white\", \"showbackground\": true, \"ticks\": \"\", \"zerolinecolor\": \"white\"}}, \"shapedefaults\": {\"line\": {\"color\": \"#2a3f5f\"}}, \"ternary\": {\"aaxis\": {\"gridcolor\": \"white\", \"linecolor\": \"white\", \"ticks\": \"\"}, \"baxis\": {\"gridcolor\": \"white\", \"linecolor\": \"white\", \"ticks\": \"\"}, \"bgcolor\": \"#E5ECF6\", \"caxis\": {\"gridcolor\": \"white\", \"linecolor\": \"white\", \"ticks\": \"\"}}, \"title\": {\"x\": 0.05}, \"xaxis\": {\"automargin\": true, \"gridcolor\": \"white\", \"linecolor\": \"white\", \"ticks\": \"\", \"title\": {\"standoff\": 15}, \"zerolinecolor\": \"white\", \"zerolinewidth\": 2}, \"yaxis\": {\"automargin\": true, \"gridcolor\": \"white\", \"linecolor\": \"white\", \"ticks\": \"\", \"title\": {\"standoff\": 15}, \"zerolinecolor\": \"white\", \"zerolinewidth\": 2}}}, \"title\": {\"text\": \"Most commited crimes by men\"}, \"uniformtext\": {\"minsize\": 6, \"mode\": \"hide\"}, \"width\": 800, \"xaxis\": {\"anchor\": \"y\", \"categoryarray\": [\"ACCION DE TUTELA\", \"CONTRA EL ORDEN ECONOMICO SOCIAL\", \"CONTRA EL PATRIMONIO ECONOMICO\", \"CONTRA EL REGIMEN CONSTITUCIONAL Y LEGAL\", \"CONTRA LA ADMINISTRACION PUBLICA\", \"CONTRA LA EFICAZ Y RECTA IMPARTICION DE JUSTICIA\", \"CONTRA LA EXISTENCIA Y SEGURIDAD DEL ESTADO\", \"CONTRA LA FAMILIA\", \"CONTRA LA FE PUBLICA\", \"CONTRA LA INTEGRIDAD MORAL\", \"CONTRA LA LIBERTAD INDIVIDUAL Y OTRAS GARANTIAS\", \"CONTRA LA LIBERTAD INTEGRIDAD Y FORMACION SEXUALES\", \"CONTRA LA SALUD PUBLICA\", \"CONTRA LA SEGURIDAD PUBLICA\", \"CONTRA LA VIDA Y LA INTEGRIDAD PERSONAL\", \"CONTRA LOS DERECHOS DE AUTOR\", \"CONTRA LOS RECURSOS NATURALES Y EL MEDIO AMBIENTE\", \"CONTRA MECANISMOS DE PARTICIPACION DEMOCRATICA\", \"CONTRA PERSONAS Y BIENES PROTEGIDOS POR EL DERECHO INTERNACIONAL HUMANITARIO\", \"DE LA PROTECCION DE LA INFORMACION Y DE LOS DATOS\", \"DELITOS CONTRA EL SERVICIO\", \"DELITOS CONTRA LA ADMINISTRACION PUBLICA\", \"DELITOS CONTRA LA DISCIPLINA\", \"DELITOS DE PARAMILITARISMO Y SICARIATO\", \"LEGISLACION INDIGENA\"], \"categoryorder\": \"array\", \"domain\": [0.0, 1.0], \"tickangle\": -45, \"tickfont\": {\"color\": \"black\", \"family\": \"Rockwell\", \"size\": 8}, \"title\": {\"text\": \"TITULO_DELITO\"}}, \"yaxis\": {\"anchor\": \"x\", \"domain\": [0.0, 1.0], \"title\": {\"text\": \"Amount of recidivist crimes\"}}},\n",
       "                        {\"responsive\": true}\n",
       "                    ).then(function(){\n",
       "                            \n",
       "var gd = document.getElementById('96419ea1-e41d-4f3b-ba87-b2fde0311b3f');\n",
       "var x = new MutationObserver(function (mutations, observer) {{\n",
       "        var display = window.getComputedStyle(gd).display;\n",
       "        if (!display || display === 'none') {{\n",
       "            console.log([gd, 'removed!']);\n",
       "            Plotly.purge(gd);\n",
       "            observer.disconnect();\n",
       "        }}\n",
       "}});\n",
       "\n",
       "// Listen for the removal of the full notebook cells\n",
       "var notebookContainer = gd.closest('#notebook-container');\n",
       "if (notebookContainer) {{\n",
       "    x.observe(notebookContainer, {childList: true});\n",
       "}}\n",
       "\n",
       "// Listen for the clearing of the current output cell\n",
       "var outputEl = gd.closest('.output');\n",
       "if (outputEl) {{\n",
       "    x.observe(outputEl, {childList: true});\n",
       "}}\n",
       "\n",
       "                        })\n",
       "                };\n",
       "                });\n",
       "            </script>\n",
       "        </div>"
      ]
     },
     "metadata": {},
     "output_type": "display_data"
    }
   ],
   "source": [
    "fig = px.bar(df_genero[df_genero[\"GENERO\"]==\"MASCULINO\"], x='TITULO_DELITO', y='INTERNOEN',\n",
    "             hover_data=['TITULO_DELITO'], color='TITULO_DELITO',\n",
    "             labels={'INTERNOEN':'Amount of recidivist crimes'}, height=400, barmode='stack', text=\"INTERNOEN\")\n",
    "fig.update_traces(texttemplate='%{text:.2s}', textposition='outside')\n",
    "fig.update_layout(uniformtext_minsize=6, uniformtext_mode='hide', xaxis_tickangle=-45, showlegend=False, autosize=False,\n",
    "                 width=800, height=700, margin=dict(l=50, r=50, b=100, t=100, pad=4 ),\n",
    "                  title=\"Most commited crimes by men\",\n",
    "                 )\n",
    "fig.update_xaxes( tickfont=dict(family='Rockwell', color='black', size=8)) #tickangle=45,\n",
    "\n",
    "fig.show()\n"
   ]
  },
  {
   "cell_type": "code",
   "execution_count": 20,
   "metadata": {},
   "outputs": [
    {
     "data": {
      "application/vnd.plotly.v1+json": {
       "config": {
        "plotlyServerURL": "https://plot.ly"
       },
       "data": [
        {
         "alignmentgroup": "True",
         "customdata": [
          [
           "CONTRA EL ORDEN ECONOMICO SOCIAL"
          ]
         ],
         "hovertemplate": "TITULO_DELITO=%{customdata[0]}<br>Amount of recidivist crimes=%{text}<extra></extra>",
         "legendgroup": "CONTRA EL ORDEN ECONOMICO SOCIAL",
         "marker": {
          "color": "#636efa"
         },
         "name": "CONTRA EL ORDEN ECONOMICO SOCIAL",
         "offsetgroup": "CONTRA EL ORDEN ECONOMICO SOCIAL",
         "orientation": "v",
         "showlegend": true,
         "text": [
          61
         ],
         "textposition": "outside",
         "texttemplate": "%{text:.2s}",
         "type": "bar",
         "x": [
          "CONTRA EL ORDEN ECONOMICO SOCIAL"
         ],
         "xaxis": "x",
         "y": [
          61
         ],
         "yaxis": "y"
        },
        {
         "alignmentgroup": "True",
         "customdata": [
          [
           "CONTRA EL PATRIMONIO ECONOMICO"
          ]
         ],
         "hovertemplate": "TITULO_DELITO=%{customdata[0]}<br>Amount of recidivist crimes=%{text}<extra></extra>",
         "legendgroup": "CONTRA EL PATRIMONIO ECONOMICO",
         "marker": {
          "color": "#EF553B"
         },
         "name": "CONTRA EL PATRIMONIO ECONOMICO",
         "offsetgroup": "CONTRA EL PATRIMONIO ECONOMICO",
         "orientation": "v",
         "showlegend": true,
         "text": [
          3668
         ],
         "textposition": "outside",
         "texttemplate": "%{text:.2s}",
         "type": "bar",
         "x": [
          "CONTRA EL PATRIMONIO ECONOMICO"
         ],
         "xaxis": "x",
         "y": [
          3668
         ],
         "yaxis": "y"
        },
        {
         "alignmentgroup": "True",
         "customdata": [
          [
           "CONTRA EL REGIMEN CONSTITUCIONAL Y LEGAL"
          ]
         ],
         "hovertemplate": "TITULO_DELITO=%{customdata[0]}<br>Amount of recidivist crimes=%{text}<extra></extra>",
         "legendgroup": "CONTRA EL REGIMEN CONSTITUCIONAL Y LEGAL",
         "marker": {
          "color": "#00cc96"
         },
         "name": "CONTRA EL REGIMEN CONSTITUCIONAL Y LEGAL",
         "offsetgroup": "CONTRA EL REGIMEN CONSTITUCIONAL Y LEGAL",
         "orientation": "v",
         "showlegend": true,
         "text": [
          27
         ],
         "textposition": "outside",
         "texttemplate": "%{text:.2s}",
         "type": "bar",
         "x": [
          "CONTRA EL REGIMEN CONSTITUCIONAL Y LEGAL"
         ],
         "xaxis": "x",
         "y": [
          27
         ],
         "yaxis": "y"
        },
        {
         "alignmentgroup": "True",
         "customdata": [
          [
           "CONTRA LA ADMINISTRACION PUBLICA"
          ]
         ],
         "hovertemplate": "TITULO_DELITO=%{customdata[0]}<br>Amount of recidivist crimes=%{text}<extra></extra>",
         "legendgroup": "CONTRA LA ADMINISTRACION PUBLICA",
         "marker": {
          "color": "#ab63fa"
         },
         "name": "CONTRA LA ADMINISTRACION PUBLICA",
         "offsetgroup": "CONTRA LA ADMINISTRACION PUBLICA",
         "orientation": "v",
         "showlegend": true,
         "text": [
          142
         ],
         "textposition": "outside",
         "texttemplate": "%{text:.2s}",
         "type": "bar",
         "x": [
          "CONTRA LA ADMINISTRACION PUBLICA"
         ],
         "xaxis": "x",
         "y": [
          142
         ],
         "yaxis": "y"
        },
        {
         "alignmentgroup": "True",
         "customdata": [
          [
           "CONTRA LA EFICAZ Y RECTA IMPARTICION DE JUSTICIA"
          ]
         ],
         "hovertemplate": "TITULO_DELITO=%{customdata[0]}<br>Amount of recidivist crimes=%{text}<extra></extra>",
         "legendgroup": "CONTRA LA EFICAZ Y RECTA IMPARTICION DE JUSTICIA",
         "marker": {
          "color": "#FFA15A"
         },
         "name": "CONTRA LA EFICAZ Y RECTA IMPARTICION DE JUSTICIA",
         "offsetgroup": "CONTRA LA EFICAZ Y RECTA IMPARTICION DE JUSTICIA",
         "orientation": "v",
         "showlegend": true,
         "text": [
          240
         ],
         "textposition": "outside",
         "texttemplate": "%{text:.2s}",
         "type": "bar",
         "x": [
          "CONTRA LA EFICAZ Y RECTA IMPARTICION DE JUSTICIA"
         ],
         "xaxis": "x",
         "y": [
          240
         ],
         "yaxis": "y"
        },
        {
         "alignmentgroup": "True",
         "customdata": [
          [
           "CONTRA LA FAMILIA"
          ]
         ],
         "hovertemplate": "TITULO_DELITO=%{customdata[0]}<br>Amount of recidivist crimes=%{text}<extra></extra>",
         "legendgroup": "CONTRA LA FAMILIA",
         "marker": {
          "color": "#19d3f3"
         },
         "name": "CONTRA LA FAMILIA",
         "offsetgroup": "CONTRA LA FAMILIA",
         "orientation": "v",
         "showlegend": true,
         "text": [
          57
         ],
         "textposition": "outside",
         "texttemplate": "%{text:.2s}",
         "type": "bar",
         "x": [
          "CONTRA LA FAMILIA"
         ],
         "xaxis": "x",
         "y": [
          57
         ],
         "yaxis": "y"
        },
        {
         "alignmentgroup": "True",
         "customdata": [
          [
           "CONTRA LA FE PUBLICA"
          ]
         ],
         "hovertemplate": "TITULO_DELITO=%{customdata[0]}<br>Amount of recidivist crimes=%{text}<extra></extra>",
         "legendgroup": "CONTRA LA FE PUBLICA",
         "marker": {
          "color": "#FF6692"
         },
         "name": "CONTRA LA FE PUBLICA",
         "offsetgroup": "CONTRA LA FE PUBLICA",
         "orientation": "v",
         "showlegend": true,
         "text": [
          336
         ],
         "textposition": "outside",
         "texttemplate": "%{text:.2s}",
         "type": "bar",
         "x": [
          "CONTRA LA FE PUBLICA"
         ],
         "xaxis": "x",
         "y": [
          336
         ],
         "yaxis": "y"
        },
        {
         "alignmentgroup": "True",
         "customdata": [
          [
           "CONTRA LA LIBERTAD INDIVIDUAL Y OTRAS GARANTIAS"
          ]
         ],
         "hovertemplate": "TITULO_DELITO=%{customdata[0]}<br>Amount of recidivist crimes=%{text}<extra></extra>",
         "legendgroup": "CONTRA LA LIBERTAD INDIVIDUAL Y OTRAS GARANTIAS",
         "marker": {
          "color": "#B6E880"
         },
         "name": "CONTRA LA LIBERTAD INDIVIDUAL Y OTRAS GARANTIAS",
         "offsetgroup": "CONTRA LA LIBERTAD INDIVIDUAL Y OTRAS GARANTIAS",
         "orientation": "v",
         "showlegend": true,
         "text": [
          183
         ],
         "textposition": "outside",
         "texttemplate": "%{text:.2s}",
         "type": "bar",
         "x": [
          "CONTRA LA LIBERTAD INDIVIDUAL Y OTRAS GARANTIAS"
         ],
         "xaxis": "x",
         "y": [
          183
         ],
         "yaxis": "y"
        },
        {
         "alignmentgroup": "True",
         "customdata": [
          [
           "CONTRA LA LIBERTAD INTEGRIDAD Y FORMACION SEXUALES"
          ]
         ],
         "hovertemplate": "TITULO_DELITO=%{customdata[0]}<br>Amount of recidivist crimes=%{text}<extra></extra>",
         "legendgroup": "CONTRA LA LIBERTAD INTEGRIDAD Y FORMACION SEXUALES",
         "marker": {
          "color": "#FF97FF"
         },
         "name": "CONTRA LA LIBERTAD INTEGRIDAD Y FORMACION SEXUALES",
         "offsetgroup": "CONTRA LA LIBERTAD INTEGRIDAD Y FORMACION SEXUALES",
         "orientation": "v",
         "showlegend": true,
         "text": [
          45
         ],
         "textposition": "outside",
         "texttemplate": "%{text:.2s}",
         "type": "bar",
         "x": [
          "CONTRA LA LIBERTAD INTEGRIDAD Y FORMACION SEXUALES"
         ],
         "xaxis": "x",
         "y": [
          45
         ],
         "yaxis": "y"
        },
        {
         "alignmentgroup": "True",
         "customdata": [
          [
           "CONTRA LA SALUD PUBLICA"
          ]
         ],
         "hovertemplate": "TITULO_DELITO=%{customdata[0]}<br>Amount of recidivist crimes=%{text}<extra></extra>",
         "legendgroup": "CONTRA LA SALUD PUBLICA",
         "marker": {
          "color": "#FECB52"
         },
         "name": "CONTRA LA SALUD PUBLICA",
         "offsetgroup": "CONTRA LA SALUD PUBLICA",
         "orientation": "v",
         "showlegend": true,
         "text": [
          4525
         ],
         "textposition": "outside",
         "texttemplate": "%{text:.2s}",
         "type": "bar",
         "x": [
          "CONTRA LA SALUD PUBLICA"
         ],
         "xaxis": "x",
         "y": [
          4525
         ],
         "yaxis": "y"
        },
        {
         "alignmentgroup": "True",
         "customdata": [
          [
           "CONTRA LA SEGURIDAD PUBLICA"
          ]
         ],
         "hovertemplate": "TITULO_DELITO=%{customdata[0]}<br>Amount of recidivist crimes=%{text}<extra></extra>",
         "legendgroup": "CONTRA LA SEGURIDAD PUBLICA",
         "marker": {
          "color": "#636efa"
         },
         "name": "CONTRA LA SEGURIDAD PUBLICA",
         "offsetgroup": "CONTRA LA SEGURIDAD PUBLICA",
         "orientation": "v",
         "showlegend": true,
         "text": [
          1688
         ],
         "textposition": "outside",
         "texttemplate": "%{text:.2s}",
         "type": "bar",
         "x": [
          "CONTRA LA SEGURIDAD PUBLICA"
         ],
         "xaxis": "x",
         "y": [
          1688
         ],
         "yaxis": "y"
        },
        {
         "alignmentgroup": "True",
         "customdata": [
          [
           "CONTRA LA VIDA Y LA INTEGRIDAD PERSONAL"
          ]
         ],
         "hovertemplate": "TITULO_DELITO=%{customdata[0]}<br>Amount of recidivist crimes=%{text}<extra></extra>",
         "legendgroup": "CONTRA LA VIDA Y LA INTEGRIDAD PERSONAL",
         "marker": {
          "color": "#EF553B"
         },
         "name": "CONTRA LA VIDA Y LA INTEGRIDAD PERSONAL",
         "offsetgroup": "CONTRA LA VIDA Y LA INTEGRIDAD PERSONAL",
         "orientation": "v",
         "showlegend": true,
         "text": [
          387
         ],
         "textposition": "outside",
         "texttemplate": "%{text:.2s}",
         "type": "bar",
         "x": [
          "CONTRA LA VIDA Y LA INTEGRIDAD PERSONAL"
         ],
         "xaxis": "x",
         "y": [
          387
         ],
         "yaxis": "y"
        },
        {
         "alignmentgroup": "True",
         "customdata": [
          [
           "CONTRA LOS DERECHOS DE AUTOR"
          ]
         ],
         "hovertemplate": "TITULO_DELITO=%{customdata[0]}<br>Amount of recidivist crimes=%{text}<extra></extra>",
         "legendgroup": "CONTRA LOS DERECHOS DE AUTOR",
         "marker": {
          "color": "#00cc96"
         },
         "name": "CONTRA LOS DERECHOS DE AUTOR",
         "offsetgroup": "CONTRA LOS DERECHOS DE AUTOR",
         "orientation": "v",
         "showlegend": true,
         "text": [
          6
         ],
         "textposition": "outside",
         "texttemplate": "%{text:.2s}",
         "type": "bar",
         "x": [
          "CONTRA LOS DERECHOS DE AUTOR"
         ],
         "xaxis": "x",
         "y": [
          6
         ],
         "yaxis": "y"
        },
        {
         "alignmentgroup": "True",
         "customdata": [
          [
           "CONTRA LOS RECURSOS NATURALES Y EL MEDIO AMBIENTE"
          ]
         ],
         "hovertemplate": "TITULO_DELITO=%{customdata[0]}<br>Amount of recidivist crimes=%{text}<extra></extra>",
         "legendgroup": "CONTRA LOS RECURSOS NATURALES Y EL MEDIO AMBIENTE",
         "marker": {
          "color": "#ab63fa"
         },
         "name": "CONTRA LOS RECURSOS NATURALES Y EL MEDIO AMBIENTE",
         "offsetgroup": "CONTRA LOS RECURSOS NATURALES Y EL MEDIO AMBIENTE",
         "orientation": "v",
         "showlegend": true,
         "text": [
          3
         ],
         "textposition": "outside",
         "texttemplate": "%{text:.2s}",
         "type": "bar",
         "x": [
          "CONTRA LOS RECURSOS NATURALES Y EL MEDIO AMBIENTE"
         ],
         "xaxis": "x",
         "y": [
          3
         ],
         "yaxis": "y"
        },
        {
         "alignmentgroup": "True",
         "customdata": [
          [
           "CONTRA MECANISMOS DE PARTICIPACION DEMOCRATICA"
          ]
         ],
         "hovertemplate": "TITULO_DELITO=%{customdata[0]}<br>Amount of recidivist crimes=%{text}<extra></extra>",
         "legendgroup": "CONTRA MECANISMOS DE PARTICIPACION DEMOCRATICA",
         "marker": {
          "color": "#FFA15A"
         },
         "name": "CONTRA MECANISMOS DE PARTICIPACION DEMOCRATICA",
         "offsetgroup": "CONTRA MECANISMOS DE PARTICIPACION DEMOCRATICA",
         "orientation": "v",
         "showlegend": true,
         "text": [
          1
         ],
         "textposition": "outside",
         "texttemplate": "%{text:.2s}",
         "type": "bar",
         "x": [
          "CONTRA MECANISMOS DE PARTICIPACION DEMOCRATICA"
         ],
         "xaxis": "x",
         "y": [
          1
         ],
         "yaxis": "y"
        },
        {
         "alignmentgroup": "True",
         "customdata": [
          [
           "CONTRA PERSONAS Y BIENES PROTEGIDOS POR EL DERECHO INTERNACIONAL HUMANITARIO"
          ]
         ],
         "hovertemplate": "TITULO_DELITO=%{customdata[0]}<br>Amount of recidivist crimes=%{text}<extra></extra>",
         "legendgroup": "CONTRA PERSONAS Y BIENES PROTEGIDOS POR EL DERECHO INTERNACIONAL HUMANITARIO",
         "marker": {
          "color": "#19d3f3"
         },
         "name": "CONTRA PERSONAS Y BIENES PROTEGIDOS POR EL DERECHO INTERNACIONAL HUMANITARIO",
         "offsetgroup": "CONTRA PERSONAS Y BIENES PROTEGIDOS POR EL DERECHO INTERNACIONAL HUMANITARIO",
         "orientation": "v",
         "showlegend": true,
         "text": [
          1
         ],
         "textposition": "outside",
         "texttemplate": "%{text:.2s}",
         "type": "bar",
         "x": [
          "CONTRA PERSONAS Y BIENES PROTEGIDOS POR EL DERECHO INTERNACIONAL HUMANITARIO"
         ],
         "xaxis": "x",
         "y": [
          1
         ],
         "yaxis": "y"
        },
        {
         "alignmentgroup": "True",
         "customdata": [
          [
           "DE LA PROTECCION DE LA INFORMACION Y DE LOS DATOS"
          ]
         ],
         "hovertemplate": "TITULO_DELITO=%{customdata[0]}<br>Amount of recidivist crimes=%{text}<extra></extra>",
         "legendgroup": "DE LA PROTECCION DE LA INFORMACION Y DE LOS DATOS",
         "marker": {
          "color": "#FF6692"
         },
         "name": "DE LA PROTECCION DE LA INFORMACION Y DE LOS DATOS",
         "offsetgroup": "DE LA PROTECCION DE LA INFORMACION Y DE LOS DATOS",
         "orientation": "v",
         "showlegend": true,
         "text": [
          35
         ],
         "textposition": "outside",
         "texttemplate": "%{text:.2s}",
         "type": "bar",
         "x": [
          "DE LA PROTECCION DE LA INFORMACION Y DE LOS DATOS"
         ],
         "xaxis": "x",
         "y": [
          35
         ],
         "yaxis": "y"
        },
        {
         "alignmentgroup": "True",
         "customdata": [
          [
           "DELITOS CONTRA EL SERVICIO"
          ]
         ],
         "hovertemplate": "TITULO_DELITO=%{customdata[0]}<br>Amount of recidivist crimes=%{text}<extra></extra>",
         "legendgroup": "DELITOS CONTRA EL SERVICIO",
         "marker": {
          "color": "#B6E880"
         },
         "name": "DELITOS CONTRA EL SERVICIO",
         "offsetgroup": "DELITOS CONTRA EL SERVICIO",
         "orientation": "v",
         "showlegend": true,
         "text": [
          9
         ],
         "textposition": "outside",
         "texttemplate": "%{text:.2s}",
         "type": "bar",
         "x": [
          "DELITOS CONTRA EL SERVICIO"
         ],
         "xaxis": "x",
         "y": [
          9
         ],
         "yaxis": "y"
        }
       ],
       "layout": {
        "autosize": false,
        "barmode": "stack",
        "height": 700,
        "legend": {
         "title": {
          "text": "TITULO_DELITO"
         },
         "tracegroupgap": 0
        },
        "margin": {
         "b": 100,
         "l": 50,
         "pad": 4,
         "r": 50,
         "t": 100
        },
        "showlegend": false,
        "template": {
         "data": {
          "bar": [
           {
            "error_x": {
             "color": "#2a3f5f"
            },
            "error_y": {
             "color": "#2a3f5f"
            },
            "marker": {
             "line": {
              "color": "#E5ECF6",
              "width": 0.5
             }
            },
            "type": "bar"
           }
          ],
          "barpolar": [
           {
            "marker": {
             "line": {
              "color": "#E5ECF6",
              "width": 0.5
             }
            },
            "type": "barpolar"
           }
          ],
          "carpet": [
           {
            "aaxis": {
             "endlinecolor": "#2a3f5f",
             "gridcolor": "white",
             "linecolor": "white",
             "minorgridcolor": "white",
             "startlinecolor": "#2a3f5f"
            },
            "baxis": {
             "endlinecolor": "#2a3f5f",
             "gridcolor": "white",
             "linecolor": "white",
             "minorgridcolor": "white",
             "startlinecolor": "#2a3f5f"
            },
            "type": "carpet"
           }
          ],
          "choropleth": [
           {
            "colorbar": {
             "outlinewidth": 0,
             "ticks": ""
            },
            "type": "choropleth"
           }
          ],
          "contour": [
           {
            "colorbar": {
             "outlinewidth": 0,
             "ticks": ""
            },
            "colorscale": [
             [
              0,
              "#0d0887"
             ],
             [
              0.1111111111111111,
              "#46039f"
             ],
             [
              0.2222222222222222,
              "#7201a8"
             ],
             [
              0.3333333333333333,
              "#9c179e"
             ],
             [
              0.4444444444444444,
              "#bd3786"
             ],
             [
              0.5555555555555556,
              "#d8576b"
             ],
             [
              0.6666666666666666,
              "#ed7953"
             ],
             [
              0.7777777777777778,
              "#fb9f3a"
             ],
             [
              0.8888888888888888,
              "#fdca26"
             ],
             [
              1,
              "#f0f921"
             ]
            ],
            "type": "contour"
           }
          ],
          "contourcarpet": [
           {
            "colorbar": {
             "outlinewidth": 0,
             "ticks": ""
            },
            "type": "contourcarpet"
           }
          ],
          "heatmap": [
           {
            "colorbar": {
             "outlinewidth": 0,
             "ticks": ""
            },
            "colorscale": [
             [
              0,
              "#0d0887"
             ],
             [
              0.1111111111111111,
              "#46039f"
             ],
             [
              0.2222222222222222,
              "#7201a8"
             ],
             [
              0.3333333333333333,
              "#9c179e"
             ],
             [
              0.4444444444444444,
              "#bd3786"
             ],
             [
              0.5555555555555556,
              "#d8576b"
             ],
             [
              0.6666666666666666,
              "#ed7953"
             ],
             [
              0.7777777777777778,
              "#fb9f3a"
             ],
             [
              0.8888888888888888,
              "#fdca26"
             ],
             [
              1,
              "#f0f921"
             ]
            ],
            "type": "heatmap"
           }
          ],
          "heatmapgl": [
           {
            "colorbar": {
             "outlinewidth": 0,
             "ticks": ""
            },
            "colorscale": [
             [
              0,
              "#0d0887"
             ],
             [
              0.1111111111111111,
              "#46039f"
             ],
             [
              0.2222222222222222,
              "#7201a8"
             ],
             [
              0.3333333333333333,
              "#9c179e"
             ],
             [
              0.4444444444444444,
              "#bd3786"
             ],
             [
              0.5555555555555556,
              "#d8576b"
             ],
             [
              0.6666666666666666,
              "#ed7953"
             ],
             [
              0.7777777777777778,
              "#fb9f3a"
             ],
             [
              0.8888888888888888,
              "#fdca26"
             ],
             [
              1,
              "#f0f921"
             ]
            ],
            "type": "heatmapgl"
           }
          ],
          "histogram": [
           {
            "marker": {
             "colorbar": {
              "outlinewidth": 0,
              "ticks": ""
             }
            },
            "type": "histogram"
           }
          ],
          "histogram2d": [
           {
            "colorbar": {
             "outlinewidth": 0,
             "ticks": ""
            },
            "colorscale": [
             [
              0,
              "#0d0887"
             ],
             [
              0.1111111111111111,
              "#46039f"
             ],
             [
              0.2222222222222222,
              "#7201a8"
             ],
             [
              0.3333333333333333,
              "#9c179e"
             ],
             [
              0.4444444444444444,
              "#bd3786"
             ],
             [
              0.5555555555555556,
              "#d8576b"
             ],
             [
              0.6666666666666666,
              "#ed7953"
             ],
             [
              0.7777777777777778,
              "#fb9f3a"
             ],
             [
              0.8888888888888888,
              "#fdca26"
             ],
             [
              1,
              "#f0f921"
             ]
            ],
            "type": "histogram2d"
           }
          ],
          "histogram2dcontour": [
           {
            "colorbar": {
             "outlinewidth": 0,
             "ticks": ""
            },
            "colorscale": [
             [
              0,
              "#0d0887"
             ],
             [
              0.1111111111111111,
              "#46039f"
             ],
             [
              0.2222222222222222,
              "#7201a8"
             ],
             [
              0.3333333333333333,
              "#9c179e"
             ],
             [
              0.4444444444444444,
              "#bd3786"
             ],
             [
              0.5555555555555556,
              "#d8576b"
             ],
             [
              0.6666666666666666,
              "#ed7953"
             ],
             [
              0.7777777777777778,
              "#fb9f3a"
             ],
             [
              0.8888888888888888,
              "#fdca26"
             ],
             [
              1,
              "#f0f921"
             ]
            ],
            "type": "histogram2dcontour"
           }
          ],
          "mesh3d": [
           {
            "colorbar": {
             "outlinewidth": 0,
             "ticks": ""
            },
            "type": "mesh3d"
           }
          ],
          "parcoords": [
           {
            "line": {
             "colorbar": {
              "outlinewidth": 0,
              "ticks": ""
             }
            },
            "type": "parcoords"
           }
          ],
          "pie": [
           {
            "automargin": true,
            "type": "pie"
           }
          ],
          "scatter": [
           {
            "marker": {
             "colorbar": {
              "outlinewidth": 0,
              "ticks": ""
             }
            },
            "type": "scatter"
           }
          ],
          "scatter3d": [
           {
            "line": {
             "colorbar": {
              "outlinewidth": 0,
              "ticks": ""
             }
            },
            "marker": {
             "colorbar": {
              "outlinewidth": 0,
              "ticks": ""
             }
            },
            "type": "scatter3d"
           }
          ],
          "scattercarpet": [
           {
            "marker": {
             "colorbar": {
              "outlinewidth": 0,
              "ticks": ""
             }
            },
            "type": "scattercarpet"
           }
          ],
          "scattergeo": [
           {
            "marker": {
             "colorbar": {
              "outlinewidth": 0,
              "ticks": ""
             }
            },
            "type": "scattergeo"
           }
          ],
          "scattergl": [
           {
            "marker": {
             "colorbar": {
              "outlinewidth": 0,
              "ticks": ""
             }
            },
            "type": "scattergl"
           }
          ],
          "scattermapbox": [
           {
            "marker": {
             "colorbar": {
              "outlinewidth": 0,
              "ticks": ""
             }
            },
            "type": "scattermapbox"
           }
          ],
          "scatterpolar": [
           {
            "marker": {
             "colorbar": {
              "outlinewidth": 0,
              "ticks": ""
             }
            },
            "type": "scatterpolar"
           }
          ],
          "scatterpolargl": [
           {
            "marker": {
             "colorbar": {
              "outlinewidth": 0,
              "ticks": ""
             }
            },
            "type": "scatterpolargl"
           }
          ],
          "scatterternary": [
           {
            "marker": {
             "colorbar": {
              "outlinewidth": 0,
              "ticks": ""
             }
            },
            "type": "scatterternary"
           }
          ],
          "surface": [
           {
            "colorbar": {
             "outlinewidth": 0,
             "ticks": ""
            },
            "colorscale": [
             [
              0,
              "#0d0887"
             ],
             [
              0.1111111111111111,
              "#46039f"
             ],
             [
              0.2222222222222222,
              "#7201a8"
             ],
             [
              0.3333333333333333,
              "#9c179e"
             ],
             [
              0.4444444444444444,
              "#bd3786"
             ],
             [
              0.5555555555555556,
              "#d8576b"
             ],
             [
              0.6666666666666666,
              "#ed7953"
             ],
             [
              0.7777777777777778,
              "#fb9f3a"
             ],
             [
              0.8888888888888888,
              "#fdca26"
             ],
             [
              1,
              "#f0f921"
             ]
            ],
            "type": "surface"
           }
          ],
          "table": [
           {
            "cells": {
             "fill": {
              "color": "#EBF0F8"
             },
             "line": {
              "color": "white"
             }
            },
            "header": {
             "fill": {
              "color": "#C8D4E3"
             },
             "line": {
              "color": "white"
             }
            },
            "type": "table"
           }
          ]
         },
         "layout": {
          "annotationdefaults": {
           "arrowcolor": "#2a3f5f",
           "arrowhead": 0,
           "arrowwidth": 1
          },
          "coloraxis": {
           "colorbar": {
            "outlinewidth": 0,
            "ticks": ""
           }
          },
          "colorscale": {
           "diverging": [
            [
             0,
             "#8e0152"
            ],
            [
             0.1,
             "#c51b7d"
            ],
            [
             0.2,
             "#de77ae"
            ],
            [
             0.3,
             "#f1b6da"
            ],
            [
             0.4,
             "#fde0ef"
            ],
            [
             0.5,
             "#f7f7f7"
            ],
            [
             0.6,
             "#e6f5d0"
            ],
            [
             0.7,
             "#b8e186"
            ],
            [
             0.8,
             "#7fbc41"
            ],
            [
             0.9,
             "#4d9221"
            ],
            [
             1,
             "#276419"
            ]
           ],
           "sequential": [
            [
             0,
             "#0d0887"
            ],
            [
             0.1111111111111111,
             "#46039f"
            ],
            [
             0.2222222222222222,
             "#7201a8"
            ],
            [
             0.3333333333333333,
             "#9c179e"
            ],
            [
             0.4444444444444444,
             "#bd3786"
            ],
            [
             0.5555555555555556,
             "#d8576b"
            ],
            [
             0.6666666666666666,
             "#ed7953"
            ],
            [
             0.7777777777777778,
             "#fb9f3a"
            ],
            [
             0.8888888888888888,
             "#fdca26"
            ],
            [
             1,
             "#f0f921"
            ]
           ],
           "sequentialminus": [
            [
             0,
             "#0d0887"
            ],
            [
             0.1111111111111111,
             "#46039f"
            ],
            [
             0.2222222222222222,
             "#7201a8"
            ],
            [
             0.3333333333333333,
             "#9c179e"
            ],
            [
             0.4444444444444444,
             "#bd3786"
            ],
            [
             0.5555555555555556,
             "#d8576b"
            ],
            [
             0.6666666666666666,
             "#ed7953"
            ],
            [
             0.7777777777777778,
             "#fb9f3a"
            ],
            [
             0.8888888888888888,
             "#fdca26"
            ],
            [
             1,
             "#f0f921"
            ]
           ]
          },
          "colorway": [
           "#636efa",
           "#EF553B",
           "#00cc96",
           "#ab63fa",
           "#FFA15A",
           "#19d3f3",
           "#FF6692",
           "#B6E880",
           "#FF97FF",
           "#FECB52"
          ],
          "font": {
           "color": "#2a3f5f"
          },
          "geo": {
           "bgcolor": "white",
           "lakecolor": "white",
           "landcolor": "#E5ECF6",
           "showlakes": true,
           "showland": true,
           "subunitcolor": "white"
          },
          "hoverlabel": {
           "align": "left"
          },
          "hovermode": "closest",
          "mapbox": {
           "style": "light"
          },
          "paper_bgcolor": "white",
          "plot_bgcolor": "#E5ECF6",
          "polar": {
           "angularaxis": {
            "gridcolor": "white",
            "linecolor": "white",
            "ticks": ""
           },
           "bgcolor": "#E5ECF6",
           "radialaxis": {
            "gridcolor": "white",
            "linecolor": "white",
            "ticks": ""
           }
          },
          "scene": {
           "xaxis": {
            "backgroundcolor": "#E5ECF6",
            "gridcolor": "white",
            "gridwidth": 2,
            "linecolor": "white",
            "showbackground": true,
            "ticks": "",
            "zerolinecolor": "white"
           },
           "yaxis": {
            "backgroundcolor": "#E5ECF6",
            "gridcolor": "white",
            "gridwidth": 2,
            "linecolor": "white",
            "showbackground": true,
            "ticks": "",
            "zerolinecolor": "white"
           },
           "zaxis": {
            "backgroundcolor": "#E5ECF6",
            "gridcolor": "white",
            "gridwidth": 2,
            "linecolor": "white",
            "showbackground": true,
            "ticks": "",
            "zerolinecolor": "white"
           }
          },
          "shapedefaults": {
           "line": {
            "color": "#2a3f5f"
           }
          },
          "ternary": {
           "aaxis": {
            "gridcolor": "white",
            "linecolor": "white",
            "ticks": ""
           },
           "baxis": {
            "gridcolor": "white",
            "linecolor": "white",
            "ticks": ""
           },
           "bgcolor": "#E5ECF6",
           "caxis": {
            "gridcolor": "white",
            "linecolor": "white",
            "ticks": ""
           }
          },
          "title": {
           "x": 0.05
          },
          "xaxis": {
           "automargin": true,
           "gridcolor": "white",
           "linecolor": "white",
           "ticks": "",
           "title": {
            "standoff": 15
           },
           "zerolinecolor": "white",
           "zerolinewidth": 2
          },
          "yaxis": {
           "automargin": true,
           "gridcolor": "white",
           "linecolor": "white",
           "ticks": "",
           "title": {
            "standoff": 15
           },
           "zerolinecolor": "white",
           "zerolinewidth": 2
          }
         }
        },
        "title": {
         "text": "Most commited crimes by women"
        },
        "uniformtext": {
         "minsize": 6,
         "mode": "hide"
        },
        "width": 800,
        "xaxis": {
         "anchor": "y",
         "categoryarray": [
          "CONTRA EL ORDEN ECONOMICO SOCIAL",
          "CONTRA EL PATRIMONIO ECONOMICO",
          "CONTRA EL REGIMEN CONSTITUCIONAL Y LEGAL",
          "CONTRA LA ADMINISTRACION PUBLICA",
          "CONTRA LA EFICAZ Y RECTA IMPARTICION DE JUSTICIA",
          "CONTRA LA FAMILIA",
          "CONTRA LA FE PUBLICA",
          "CONTRA LA LIBERTAD INDIVIDUAL Y OTRAS GARANTIAS",
          "CONTRA LA LIBERTAD INTEGRIDAD Y FORMACION SEXUALES",
          "CONTRA LA SALUD PUBLICA",
          "CONTRA LA SEGURIDAD PUBLICA",
          "CONTRA LA VIDA Y LA INTEGRIDAD PERSONAL",
          "CONTRA LOS DERECHOS DE AUTOR",
          "CONTRA LOS RECURSOS NATURALES Y EL MEDIO AMBIENTE",
          "CONTRA MECANISMOS DE PARTICIPACION DEMOCRATICA",
          "CONTRA PERSONAS Y BIENES PROTEGIDOS POR EL DERECHO INTERNACIONAL HUMANITARIO",
          "DE LA PROTECCION DE LA INFORMACION Y DE LOS DATOS",
          "DELITOS CONTRA EL SERVICIO"
         ],
         "categoryorder": "array",
         "domain": [
          0,
          1
         ],
         "tickangle": -45,
         "tickfont": {
          "color": "black",
          "family": "Rockwell",
          "size": 8
         },
         "title": {
          "text": "TITULO_DELITO"
         }
        },
        "yaxis": {
         "anchor": "x",
         "domain": [
          0,
          1
         ],
         "title": {
          "text": "Amount of recidivist crimes"
         }
        }
       }
      },
      "text/html": [
       "<div>\n",
       "        \n",
       "        \n",
       "            <div id=\"b00ffecb-239f-4765-9a00-ebcbc9505930\" class=\"plotly-graph-div\" style=\"height:700px; width:800px;\"></div>\n",
       "            <script type=\"text/javascript\">\n",
       "                require([\"plotly\"], function(Plotly) {\n",
       "                    window.PLOTLYENV=window.PLOTLYENV || {};\n",
       "                    \n",
       "                if (document.getElementById(\"b00ffecb-239f-4765-9a00-ebcbc9505930\")) {\n",
       "                    Plotly.newPlot(\n",
       "                        'b00ffecb-239f-4765-9a00-ebcbc9505930',\n",
       "                        [{\"alignmentgroup\": \"True\", \"customdata\": [[\"CONTRA EL ORDEN ECONOMICO SOCIAL\"]], \"hovertemplate\": \"TITULO_DELITO=%{customdata[0]}<br>Amount of recidivist crimes=%{text}<extra></extra>\", \"legendgroup\": \"CONTRA EL ORDEN ECONOMICO SOCIAL\", \"marker\": {\"color\": \"#636efa\"}, \"name\": \"CONTRA EL ORDEN ECONOMICO SOCIAL\", \"offsetgroup\": \"CONTRA EL ORDEN ECONOMICO SOCIAL\", \"orientation\": \"v\", \"showlegend\": true, \"text\": [61.0], \"textposition\": \"outside\", \"texttemplate\": \"%{text:.2s}\", \"type\": \"bar\", \"x\": [\"CONTRA EL ORDEN ECONOMICO SOCIAL\"], \"xaxis\": \"x\", \"y\": [61], \"yaxis\": \"y\"}, {\"alignmentgroup\": \"True\", \"customdata\": [[\"CONTRA EL PATRIMONIO ECONOMICO\"]], \"hovertemplate\": \"TITULO_DELITO=%{customdata[0]}<br>Amount of recidivist crimes=%{text}<extra></extra>\", \"legendgroup\": \"CONTRA EL PATRIMONIO ECONOMICO\", \"marker\": {\"color\": \"#EF553B\"}, \"name\": \"CONTRA EL PATRIMONIO ECONOMICO\", \"offsetgroup\": \"CONTRA EL PATRIMONIO ECONOMICO\", \"orientation\": \"v\", \"showlegend\": true, \"text\": [3668.0], \"textposition\": \"outside\", \"texttemplate\": \"%{text:.2s}\", \"type\": \"bar\", \"x\": [\"CONTRA EL PATRIMONIO ECONOMICO\"], \"xaxis\": \"x\", \"y\": [3668], \"yaxis\": \"y\"}, {\"alignmentgroup\": \"True\", \"customdata\": [[\"CONTRA EL REGIMEN CONSTITUCIONAL Y LEGAL\"]], \"hovertemplate\": \"TITULO_DELITO=%{customdata[0]}<br>Amount of recidivist crimes=%{text}<extra></extra>\", \"legendgroup\": \"CONTRA EL REGIMEN CONSTITUCIONAL Y LEGAL\", \"marker\": {\"color\": \"#00cc96\"}, \"name\": \"CONTRA EL REGIMEN CONSTITUCIONAL Y LEGAL\", \"offsetgroup\": \"CONTRA EL REGIMEN CONSTITUCIONAL Y LEGAL\", \"orientation\": \"v\", \"showlegend\": true, \"text\": [27.0], \"textposition\": \"outside\", \"texttemplate\": \"%{text:.2s}\", \"type\": \"bar\", \"x\": [\"CONTRA EL REGIMEN CONSTITUCIONAL Y LEGAL\"], \"xaxis\": \"x\", \"y\": [27], \"yaxis\": \"y\"}, {\"alignmentgroup\": \"True\", \"customdata\": [[\"CONTRA LA ADMINISTRACION PUBLICA\"]], \"hovertemplate\": \"TITULO_DELITO=%{customdata[0]}<br>Amount of recidivist crimes=%{text}<extra></extra>\", \"legendgroup\": \"CONTRA LA ADMINISTRACION PUBLICA\", \"marker\": {\"color\": \"#ab63fa\"}, \"name\": \"CONTRA LA ADMINISTRACION PUBLICA\", \"offsetgroup\": \"CONTRA LA ADMINISTRACION PUBLICA\", \"orientation\": \"v\", \"showlegend\": true, \"text\": [142.0], \"textposition\": \"outside\", \"texttemplate\": \"%{text:.2s}\", \"type\": \"bar\", \"x\": [\"CONTRA LA ADMINISTRACION PUBLICA\"], \"xaxis\": \"x\", \"y\": [142], \"yaxis\": \"y\"}, {\"alignmentgroup\": \"True\", \"customdata\": [[\"CONTRA LA EFICAZ Y RECTA IMPARTICION DE JUSTICIA\"]], \"hovertemplate\": \"TITULO_DELITO=%{customdata[0]}<br>Amount of recidivist crimes=%{text}<extra></extra>\", \"legendgroup\": \"CONTRA LA EFICAZ Y RECTA IMPARTICION DE JUSTICIA\", \"marker\": {\"color\": \"#FFA15A\"}, \"name\": \"CONTRA LA EFICAZ Y RECTA IMPARTICION DE JUSTICIA\", \"offsetgroup\": \"CONTRA LA EFICAZ Y RECTA IMPARTICION DE JUSTICIA\", \"orientation\": \"v\", \"showlegend\": true, \"text\": [240.0], \"textposition\": \"outside\", \"texttemplate\": \"%{text:.2s}\", \"type\": \"bar\", \"x\": [\"CONTRA LA EFICAZ Y RECTA IMPARTICION DE JUSTICIA\"], \"xaxis\": \"x\", \"y\": [240], \"yaxis\": \"y\"}, {\"alignmentgroup\": \"True\", \"customdata\": [[\"CONTRA LA FAMILIA\"]], \"hovertemplate\": \"TITULO_DELITO=%{customdata[0]}<br>Amount of recidivist crimes=%{text}<extra></extra>\", \"legendgroup\": \"CONTRA LA FAMILIA\", \"marker\": {\"color\": \"#19d3f3\"}, \"name\": \"CONTRA LA FAMILIA\", \"offsetgroup\": \"CONTRA LA FAMILIA\", \"orientation\": \"v\", \"showlegend\": true, \"text\": [57.0], \"textposition\": \"outside\", \"texttemplate\": \"%{text:.2s}\", \"type\": \"bar\", \"x\": [\"CONTRA LA FAMILIA\"], \"xaxis\": \"x\", \"y\": [57], \"yaxis\": \"y\"}, {\"alignmentgroup\": \"True\", \"customdata\": [[\"CONTRA LA FE PUBLICA\"]], \"hovertemplate\": \"TITULO_DELITO=%{customdata[0]}<br>Amount of recidivist crimes=%{text}<extra></extra>\", \"legendgroup\": \"CONTRA LA FE PUBLICA\", \"marker\": {\"color\": \"#FF6692\"}, \"name\": \"CONTRA LA FE PUBLICA\", \"offsetgroup\": \"CONTRA LA FE PUBLICA\", \"orientation\": \"v\", \"showlegend\": true, \"text\": [336.0], \"textposition\": \"outside\", \"texttemplate\": \"%{text:.2s}\", \"type\": \"bar\", \"x\": [\"CONTRA LA FE PUBLICA\"], \"xaxis\": \"x\", \"y\": [336], \"yaxis\": \"y\"}, {\"alignmentgroup\": \"True\", \"customdata\": [[\"CONTRA LA LIBERTAD INDIVIDUAL Y OTRAS GARANTIAS\"]], \"hovertemplate\": \"TITULO_DELITO=%{customdata[0]}<br>Amount of recidivist crimes=%{text}<extra></extra>\", \"legendgroup\": \"CONTRA LA LIBERTAD INDIVIDUAL Y OTRAS GARANTIAS\", \"marker\": {\"color\": \"#B6E880\"}, \"name\": \"CONTRA LA LIBERTAD INDIVIDUAL Y OTRAS GARANTIAS\", \"offsetgroup\": \"CONTRA LA LIBERTAD INDIVIDUAL Y OTRAS GARANTIAS\", \"orientation\": \"v\", \"showlegend\": true, \"text\": [183.0], \"textposition\": \"outside\", \"texttemplate\": \"%{text:.2s}\", \"type\": \"bar\", \"x\": [\"CONTRA LA LIBERTAD INDIVIDUAL Y OTRAS GARANTIAS\"], \"xaxis\": \"x\", \"y\": [183], \"yaxis\": \"y\"}, {\"alignmentgroup\": \"True\", \"customdata\": [[\"CONTRA LA LIBERTAD INTEGRIDAD Y FORMACION SEXUALES\"]], \"hovertemplate\": \"TITULO_DELITO=%{customdata[0]}<br>Amount of recidivist crimes=%{text}<extra></extra>\", \"legendgroup\": \"CONTRA LA LIBERTAD INTEGRIDAD Y FORMACION SEXUALES\", \"marker\": {\"color\": \"#FF97FF\"}, \"name\": \"CONTRA LA LIBERTAD INTEGRIDAD Y FORMACION SEXUALES\", \"offsetgroup\": \"CONTRA LA LIBERTAD INTEGRIDAD Y FORMACION SEXUALES\", \"orientation\": \"v\", \"showlegend\": true, \"text\": [45.0], \"textposition\": \"outside\", \"texttemplate\": \"%{text:.2s}\", \"type\": \"bar\", \"x\": [\"CONTRA LA LIBERTAD INTEGRIDAD Y FORMACION SEXUALES\"], \"xaxis\": \"x\", \"y\": [45], \"yaxis\": \"y\"}, {\"alignmentgroup\": \"True\", \"customdata\": [[\"CONTRA LA SALUD PUBLICA\"]], \"hovertemplate\": \"TITULO_DELITO=%{customdata[0]}<br>Amount of recidivist crimes=%{text}<extra></extra>\", \"legendgroup\": \"CONTRA LA SALUD PUBLICA\", \"marker\": {\"color\": \"#FECB52\"}, \"name\": \"CONTRA LA SALUD PUBLICA\", \"offsetgroup\": \"CONTRA LA SALUD PUBLICA\", \"orientation\": \"v\", \"showlegend\": true, \"text\": [4525.0], \"textposition\": \"outside\", \"texttemplate\": \"%{text:.2s}\", \"type\": \"bar\", \"x\": [\"CONTRA LA SALUD PUBLICA\"], \"xaxis\": \"x\", \"y\": [4525], \"yaxis\": \"y\"}, {\"alignmentgroup\": \"True\", \"customdata\": [[\"CONTRA LA SEGURIDAD PUBLICA\"]], \"hovertemplate\": \"TITULO_DELITO=%{customdata[0]}<br>Amount of recidivist crimes=%{text}<extra></extra>\", \"legendgroup\": \"CONTRA LA SEGURIDAD PUBLICA\", \"marker\": {\"color\": \"#636efa\"}, \"name\": \"CONTRA LA SEGURIDAD PUBLICA\", \"offsetgroup\": \"CONTRA LA SEGURIDAD PUBLICA\", \"orientation\": \"v\", \"showlegend\": true, \"text\": [1688.0], \"textposition\": \"outside\", \"texttemplate\": \"%{text:.2s}\", \"type\": \"bar\", \"x\": [\"CONTRA LA SEGURIDAD PUBLICA\"], \"xaxis\": \"x\", \"y\": [1688], \"yaxis\": \"y\"}, {\"alignmentgroup\": \"True\", \"customdata\": [[\"CONTRA LA VIDA Y LA INTEGRIDAD PERSONAL\"]], \"hovertemplate\": \"TITULO_DELITO=%{customdata[0]}<br>Amount of recidivist crimes=%{text}<extra></extra>\", \"legendgroup\": \"CONTRA LA VIDA Y LA INTEGRIDAD PERSONAL\", \"marker\": {\"color\": \"#EF553B\"}, \"name\": \"CONTRA LA VIDA Y LA INTEGRIDAD PERSONAL\", \"offsetgroup\": \"CONTRA LA VIDA Y LA INTEGRIDAD PERSONAL\", \"orientation\": \"v\", \"showlegend\": true, \"text\": [387.0], \"textposition\": \"outside\", \"texttemplate\": \"%{text:.2s}\", \"type\": \"bar\", \"x\": [\"CONTRA LA VIDA Y LA INTEGRIDAD PERSONAL\"], \"xaxis\": \"x\", \"y\": [387], \"yaxis\": \"y\"}, {\"alignmentgroup\": \"True\", \"customdata\": [[\"CONTRA LOS DERECHOS DE AUTOR\"]], \"hovertemplate\": \"TITULO_DELITO=%{customdata[0]}<br>Amount of recidivist crimes=%{text}<extra></extra>\", \"legendgroup\": \"CONTRA LOS DERECHOS DE AUTOR\", \"marker\": {\"color\": \"#00cc96\"}, \"name\": \"CONTRA LOS DERECHOS DE AUTOR\", \"offsetgroup\": \"CONTRA LOS DERECHOS DE AUTOR\", \"orientation\": \"v\", \"showlegend\": true, \"text\": [6.0], \"textposition\": \"outside\", \"texttemplate\": \"%{text:.2s}\", \"type\": \"bar\", \"x\": [\"CONTRA LOS DERECHOS DE AUTOR\"], \"xaxis\": \"x\", \"y\": [6], \"yaxis\": \"y\"}, {\"alignmentgroup\": \"True\", \"customdata\": [[\"CONTRA LOS RECURSOS NATURALES Y EL MEDIO AMBIENTE\"]], \"hovertemplate\": \"TITULO_DELITO=%{customdata[0]}<br>Amount of recidivist crimes=%{text}<extra></extra>\", \"legendgroup\": \"CONTRA LOS RECURSOS NATURALES Y EL MEDIO AMBIENTE\", \"marker\": {\"color\": \"#ab63fa\"}, \"name\": \"CONTRA LOS RECURSOS NATURALES Y EL MEDIO AMBIENTE\", \"offsetgroup\": \"CONTRA LOS RECURSOS NATURALES Y EL MEDIO AMBIENTE\", \"orientation\": \"v\", \"showlegend\": true, \"text\": [3.0], \"textposition\": \"outside\", \"texttemplate\": \"%{text:.2s}\", \"type\": \"bar\", \"x\": [\"CONTRA LOS RECURSOS NATURALES Y EL MEDIO AMBIENTE\"], \"xaxis\": \"x\", \"y\": [3], \"yaxis\": \"y\"}, {\"alignmentgroup\": \"True\", \"customdata\": [[\"CONTRA MECANISMOS DE PARTICIPACION DEMOCRATICA\"]], \"hovertemplate\": \"TITULO_DELITO=%{customdata[0]}<br>Amount of recidivist crimes=%{text}<extra></extra>\", \"legendgroup\": \"CONTRA MECANISMOS DE PARTICIPACION DEMOCRATICA\", \"marker\": {\"color\": \"#FFA15A\"}, \"name\": \"CONTRA MECANISMOS DE PARTICIPACION DEMOCRATICA\", \"offsetgroup\": \"CONTRA MECANISMOS DE PARTICIPACION DEMOCRATICA\", \"orientation\": \"v\", \"showlegend\": true, \"text\": [1.0], \"textposition\": \"outside\", \"texttemplate\": \"%{text:.2s}\", \"type\": \"bar\", \"x\": [\"CONTRA MECANISMOS DE PARTICIPACION DEMOCRATICA\"], \"xaxis\": \"x\", \"y\": [1], \"yaxis\": \"y\"}, {\"alignmentgroup\": \"True\", \"customdata\": [[\"CONTRA PERSONAS Y BIENES PROTEGIDOS POR EL DERECHO INTERNACIONAL HUMANITARIO\"]], \"hovertemplate\": \"TITULO_DELITO=%{customdata[0]}<br>Amount of recidivist crimes=%{text}<extra></extra>\", \"legendgroup\": \"CONTRA PERSONAS Y BIENES PROTEGIDOS POR EL DERECHO INTERNACIONAL HUMANITARIO\", \"marker\": {\"color\": \"#19d3f3\"}, \"name\": \"CONTRA PERSONAS Y BIENES PROTEGIDOS POR EL DERECHO INTERNACIONAL HUMANITARIO\", \"offsetgroup\": \"CONTRA PERSONAS Y BIENES PROTEGIDOS POR EL DERECHO INTERNACIONAL HUMANITARIO\", \"orientation\": \"v\", \"showlegend\": true, \"text\": [1.0], \"textposition\": \"outside\", \"texttemplate\": \"%{text:.2s}\", \"type\": \"bar\", \"x\": [\"CONTRA PERSONAS Y BIENES PROTEGIDOS POR EL DERECHO INTERNACIONAL HUMANITARIO\"], \"xaxis\": \"x\", \"y\": [1], \"yaxis\": \"y\"}, {\"alignmentgroup\": \"True\", \"customdata\": [[\"DE LA PROTECCION DE LA INFORMACION Y DE LOS DATOS\"]], \"hovertemplate\": \"TITULO_DELITO=%{customdata[0]}<br>Amount of recidivist crimes=%{text}<extra></extra>\", \"legendgroup\": \"DE LA PROTECCION DE LA INFORMACION Y DE LOS DATOS\", \"marker\": {\"color\": \"#FF6692\"}, \"name\": \"DE LA PROTECCION DE LA INFORMACION Y DE LOS DATOS\", \"offsetgroup\": \"DE LA PROTECCION DE LA INFORMACION Y DE LOS DATOS\", \"orientation\": \"v\", \"showlegend\": true, \"text\": [35.0], \"textposition\": \"outside\", \"texttemplate\": \"%{text:.2s}\", \"type\": \"bar\", \"x\": [\"DE LA PROTECCION DE LA INFORMACION Y DE LOS DATOS\"], \"xaxis\": \"x\", \"y\": [35], \"yaxis\": \"y\"}, {\"alignmentgroup\": \"True\", \"customdata\": [[\"DELITOS CONTRA EL SERVICIO\"]], \"hovertemplate\": \"TITULO_DELITO=%{customdata[0]}<br>Amount of recidivist crimes=%{text}<extra></extra>\", \"legendgroup\": \"DELITOS CONTRA EL SERVICIO\", \"marker\": {\"color\": \"#B6E880\"}, \"name\": \"DELITOS CONTRA EL SERVICIO\", \"offsetgroup\": \"DELITOS CONTRA EL SERVICIO\", \"orientation\": \"v\", \"showlegend\": true, \"text\": [9.0], \"textposition\": \"outside\", \"texttemplate\": \"%{text:.2s}\", \"type\": \"bar\", \"x\": [\"DELITOS CONTRA EL SERVICIO\"], \"xaxis\": \"x\", \"y\": [9], \"yaxis\": \"y\"}],\n",
       "                        {\"autosize\": false, \"barmode\": \"stack\", \"height\": 700, \"legend\": {\"title\": {\"text\": \"TITULO_DELITO\"}, \"tracegroupgap\": 0}, \"margin\": {\"b\": 100, \"l\": 50, \"pad\": 4, \"r\": 50, \"t\": 100}, \"showlegend\": false, \"template\": {\"data\": {\"bar\": [{\"error_x\": {\"color\": \"#2a3f5f\"}, \"error_y\": {\"color\": \"#2a3f5f\"}, \"marker\": {\"line\": {\"color\": \"#E5ECF6\", \"width\": 0.5}}, \"type\": \"bar\"}], \"barpolar\": [{\"marker\": {\"line\": {\"color\": \"#E5ECF6\", \"width\": 0.5}}, \"type\": \"barpolar\"}], \"carpet\": [{\"aaxis\": {\"endlinecolor\": \"#2a3f5f\", \"gridcolor\": \"white\", \"linecolor\": \"white\", \"minorgridcolor\": \"white\", \"startlinecolor\": \"#2a3f5f\"}, \"baxis\": {\"endlinecolor\": \"#2a3f5f\", \"gridcolor\": \"white\", \"linecolor\": \"white\", \"minorgridcolor\": \"white\", \"startlinecolor\": \"#2a3f5f\"}, \"type\": \"carpet\"}], \"choropleth\": [{\"colorbar\": {\"outlinewidth\": 0, \"ticks\": \"\"}, \"type\": \"choropleth\"}], \"contour\": [{\"colorbar\": {\"outlinewidth\": 0, \"ticks\": \"\"}, \"colorscale\": [[0.0, \"#0d0887\"], [0.1111111111111111, \"#46039f\"], [0.2222222222222222, \"#7201a8\"], [0.3333333333333333, \"#9c179e\"], [0.4444444444444444, \"#bd3786\"], [0.5555555555555556, \"#d8576b\"], [0.6666666666666666, \"#ed7953\"], [0.7777777777777778, \"#fb9f3a\"], [0.8888888888888888, \"#fdca26\"], [1.0, \"#f0f921\"]], \"type\": \"contour\"}], \"contourcarpet\": [{\"colorbar\": {\"outlinewidth\": 0, \"ticks\": \"\"}, \"type\": \"contourcarpet\"}], \"heatmap\": [{\"colorbar\": {\"outlinewidth\": 0, \"ticks\": \"\"}, \"colorscale\": [[0.0, \"#0d0887\"], [0.1111111111111111, \"#46039f\"], [0.2222222222222222, \"#7201a8\"], [0.3333333333333333, \"#9c179e\"], [0.4444444444444444, \"#bd3786\"], [0.5555555555555556, \"#d8576b\"], [0.6666666666666666, \"#ed7953\"], [0.7777777777777778, \"#fb9f3a\"], [0.8888888888888888, \"#fdca26\"], [1.0, \"#f0f921\"]], \"type\": \"heatmap\"}], \"heatmapgl\": [{\"colorbar\": {\"outlinewidth\": 0, \"ticks\": \"\"}, \"colorscale\": [[0.0, \"#0d0887\"], [0.1111111111111111, \"#46039f\"], [0.2222222222222222, \"#7201a8\"], [0.3333333333333333, \"#9c179e\"], [0.4444444444444444, \"#bd3786\"], [0.5555555555555556, \"#d8576b\"], [0.6666666666666666, \"#ed7953\"], [0.7777777777777778, \"#fb9f3a\"], [0.8888888888888888, \"#fdca26\"], [1.0, \"#f0f921\"]], \"type\": \"heatmapgl\"}], \"histogram\": [{\"marker\": {\"colorbar\": {\"outlinewidth\": 0, \"ticks\": \"\"}}, \"type\": \"histogram\"}], \"histogram2d\": [{\"colorbar\": {\"outlinewidth\": 0, \"ticks\": \"\"}, \"colorscale\": [[0.0, \"#0d0887\"], [0.1111111111111111, \"#46039f\"], [0.2222222222222222, \"#7201a8\"], [0.3333333333333333, \"#9c179e\"], [0.4444444444444444, \"#bd3786\"], [0.5555555555555556, \"#d8576b\"], [0.6666666666666666, \"#ed7953\"], [0.7777777777777778, \"#fb9f3a\"], [0.8888888888888888, \"#fdca26\"], [1.0, \"#f0f921\"]], \"type\": \"histogram2d\"}], \"histogram2dcontour\": [{\"colorbar\": {\"outlinewidth\": 0, \"ticks\": \"\"}, \"colorscale\": [[0.0, \"#0d0887\"], [0.1111111111111111, \"#46039f\"], [0.2222222222222222, \"#7201a8\"], [0.3333333333333333, \"#9c179e\"], [0.4444444444444444, \"#bd3786\"], [0.5555555555555556, \"#d8576b\"], [0.6666666666666666, \"#ed7953\"], [0.7777777777777778, \"#fb9f3a\"], [0.8888888888888888, \"#fdca26\"], [1.0, \"#f0f921\"]], \"type\": \"histogram2dcontour\"}], \"mesh3d\": [{\"colorbar\": {\"outlinewidth\": 0, \"ticks\": \"\"}, \"type\": \"mesh3d\"}], \"parcoords\": [{\"line\": {\"colorbar\": {\"outlinewidth\": 0, \"ticks\": \"\"}}, \"type\": \"parcoords\"}], \"pie\": [{\"automargin\": true, \"type\": \"pie\"}], \"scatter\": [{\"marker\": {\"colorbar\": {\"outlinewidth\": 0, \"ticks\": \"\"}}, \"type\": \"scatter\"}], \"scatter3d\": [{\"line\": {\"colorbar\": {\"outlinewidth\": 0, \"ticks\": \"\"}}, \"marker\": {\"colorbar\": {\"outlinewidth\": 0, \"ticks\": \"\"}}, \"type\": \"scatter3d\"}], \"scattercarpet\": [{\"marker\": {\"colorbar\": {\"outlinewidth\": 0, \"ticks\": \"\"}}, \"type\": \"scattercarpet\"}], \"scattergeo\": [{\"marker\": {\"colorbar\": {\"outlinewidth\": 0, \"ticks\": \"\"}}, \"type\": \"scattergeo\"}], \"scattergl\": [{\"marker\": {\"colorbar\": {\"outlinewidth\": 0, \"ticks\": \"\"}}, \"type\": \"scattergl\"}], \"scattermapbox\": [{\"marker\": {\"colorbar\": {\"outlinewidth\": 0, \"ticks\": \"\"}}, \"type\": \"scattermapbox\"}], \"scatterpolar\": [{\"marker\": {\"colorbar\": {\"outlinewidth\": 0, \"ticks\": \"\"}}, \"type\": \"scatterpolar\"}], \"scatterpolargl\": [{\"marker\": {\"colorbar\": {\"outlinewidth\": 0, \"ticks\": \"\"}}, \"type\": \"scatterpolargl\"}], \"scatterternary\": [{\"marker\": {\"colorbar\": {\"outlinewidth\": 0, \"ticks\": \"\"}}, \"type\": \"scatterternary\"}], \"surface\": [{\"colorbar\": {\"outlinewidth\": 0, \"ticks\": \"\"}, \"colorscale\": [[0.0, \"#0d0887\"], [0.1111111111111111, \"#46039f\"], [0.2222222222222222, \"#7201a8\"], [0.3333333333333333, \"#9c179e\"], [0.4444444444444444, \"#bd3786\"], [0.5555555555555556, \"#d8576b\"], [0.6666666666666666, \"#ed7953\"], [0.7777777777777778, \"#fb9f3a\"], [0.8888888888888888, \"#fdca26\"], [1.0, \"#f0f921\"]], \"type\": \"surface\"}], \"table\": [{\"cells\": {\"fill\": {\"color\": \"#EBF0F8\"}, \"line\": {\"color\": \"white\"}}, \"header\": {\"fill\": {\"color\": \"#C8D4E3\"}, \"line\": {\"color\": \"white\"}}, \"type\": \"table\"}]}, \"layout\": {\"annotationdefaults\": {\"arrowcolor\": \"#2a3f5f\", \"arrowhead\": 0, \"arrowwidth\": 1}, \"coloraxis\": {\"colorbar\": {\"outlinewidth\": 0, \"ticks\": \"\"}}, \"colorscale\": {\"diverging\": [[0, \"#8e0152\"], [0.1, \"#c51b7d\"], [0.2, \"#de77ae\"], [0.3, \"#f1b6da\"], [0.4, \"#fde0ef\"], [0.5, \"#f7f7f7\"], [0.6, \"#e6f5d0\"], [0.7, \"#b8e186\"], [0.8, \"#7fbc41\"], [0.9, \"#4d9221\"], [1, \"#276419\"]], \"sequential\": [[0.0, \"#0d0887\"], [0.1111111111111111, \"#46039f\"], [0.2222222222222222, \"#7201a8\"], [0.3333333333333333, \"#9c179e\"], [0.4444444444444444, \"#bd3786\"], [0.5555555555555556, \"#d8576b\"], [0.6666666666666666, \"#ed7953\"], [0.7777777777777778, \"#fb9f3a\"], [0.8888888888888888, \"#fdca26\"], [1.0, \"#f0f921\"]], \"sequentialminus\": [[0.0, \"#0d0887\"], [0.1111111111111111, \"#46039f\"], [0.2222222222222222, \"#7201a8\"], [0.3333333333333333, \"#9c179e\"], [0.4444444444444444, \"#bd3786\"], [0.5555555555555556, \"#d8576b\"], [0.6666666666666666, \"#ed7953\"], [0.7777777777777778, \"#fb9f3a\"], [0.8888888888888888, \"#fdca26\"], [1.0, \"#f0f921\"]]}, \"colorway\": [\"#636efa\", \"#EF553B\", \"#00cc96\", \"#ab63fa\", \"#FFA15A\", \"#19d3f3\", \"#FF6692\", \"#B6E880\", \"#FF97FF\", \"#FECB52\"], \"font\": {\"color\": \"#2a3f5f\"}, \"geo\": {\"bgcolor\": \"white\", \"lakecolor\": \"white\", \"landcolor\": \"#E5ECF6\", \"showlakes\": true, \"showland\": true, \"subunitcolor\": \"white\"}, \"hoverlabel\": {\"align\": \"left\"}, \"hovermode\": \"closest\", \"mapbox\": {\"style\": \"light\"}, \"paper_bgcolor\": \"white\", \"plot_bgcolor\": \"#E5ECF6\", \"polar\": {\"angularaxis\": {\"gridcolor\": \"white\", \"linecolor\": \"white\", \"ticks\": \"\"}, \"bgcolor\": \"#E5ECF6\", \"radialaxis\": {\"gridcolor\": \"white\", \"linecolor\": \"white\", \"ticks\": \"\"}}, \"scene\": {\"xaxis\": {\"backgroundcolor\": \"#E5ECF6\", \"gridcolor\": \"white\", \"gridwidth\": 2, \"linecolor\": \"white\", \"showbackground\": true, \"ticks\": \"\", \"zerolinecolor\": \"white\"}, \"yaxis\": {\"backgroundcolor\": \"#E5ECF6\", \"gridcolor\": \"white\", \"gridwidth\": 2, \"linecolor\": \"white\", \"showbackground\": true, \"ticks\": \"\", \"zerolinecolor\": \"white\"}, \"zaxis\": {\"backgroundcolor\": \"#E5ECF6\", \"gridcolor\": \"white\", \"gridwidth\": 2, \"linecolor\": \"white\", \"showbackground\": true, \"ticks\": \"\", \"zerolinecolor\": \"white\"}}, \"shapedefaults\": {\"line\": {\"color\": \"#2a3f5f\"}}, \"ternary\": {\"aaxis\": {\"gridcolor\": \"white\", \"linecolor\": \"white\", \"ticks\": \"\"}, \"baxis\": {\"gridcolor\": \"white\", \"linecolor\": \"white\", \"ticks\": \"\"}, \"bgcolor\": \"#E5ECF6\", \"caxis\": {\"gridcolor\": \"white\", \"linecolor\": \"white\", \"ticks\": \"\"}}, \"title\": {\"x\": 0.05}, \"xaxis\": {\"automargin\": true, \"gridcolor\": \"white\", \"linecolor\": \"white\", \"ticks\": \"\", \"title\": {\"standoff\": 15}, \"zerolinecolor\": \"white\", \"zerolinewidth\": 2}, \"yaxis\": {\"automargin\": true, \"gridcolor\": \"white\", \"linecolor\": \"white\", \"ticks\": \"\", \"title\": {\"standoff\": 15}, \"zerolinecolor\": \"white\", \"zerolinewidth\": 2}}}, \"title\": {\"text\": \"Most commited crimes by women\"}, \"uniformtext\": {\"minsize\": 6, \"mode\": \"hide\"}, \"width\": 800, \"xaxis\": {\"anchor\": \"y\", \"categoryarray\": [\"CONTRA EL ORDEN ECONOMICO SOCIAL\", \"CONTRA EL PATRIMONIO ECONOMICO\", \"CONTRA EL REGIMEN CONSTITUCIONAL Y LEGAL\", \"CONTRA LA ADMINISTRACION PUBLICA\", \"CONTRA LA EFICAZ Y RECTA IMPARTICION DE JUSTICIA\", \"CONTRA LA FAMILIA\", \"CONTRA LA FE PUBLICA\", \"CONTRA LA LIBERTAD INDIVIDUAL Y OTRAS GARANTIAS\", \"CONTRA LA LIBERTAD INTEGRIDAD Y FORMACION SEXUALES\", \"CONTRA LA SALUD PUBLICA\", \"CONTRA LA SEGURIDAD PUBLICA\", \"CONTRA LA VIDA Y LA INTEGRIDAD PERSONAL\", \"CONTRA LOS DERECHOS DE AUTOR\", \"CONTRA LOS RECURSOS NATURALES Y EL MEDIO AMBIENTE\", \"CONTRA MECANISMOS DE PARTICIPACION DEMOCRATICA\", \"CONTRA PERSONAS Y BIENES PROTEGIDOS POR EL DERECHO INTERNACIONAL HUMANITARIO\", \"DE LA PROTECCION DE LA INFORMACION Y DE LOS DATOS\", \"DELITOS CONTRA EL SERVICIO\"], \"categoryorder\": \"array\", \"domain\": [0.0, 1.0], \"tickangle\": -45, \"tickfont\": {\"color\": \"black\", \"family\": \"Rockwell\", \"size\": 8}, \"title\": {\"text\": \"TITULO_DELITO\"}}, \"yaxis\": {\"anchor\": \"x\", \"domain\": [0.0, 1.0], \"title\": {\"text\": \"Amount of recidivist crimes\"}}},\n",
       "                        {\"responsive\": true}\n",
       "                    ).then(function(){\n",
       "                            \n",
       "var gd = document.getElementById('b00ffecb-239f-4765-9a00-ebcbc9505930');\n",
       "var x = new MutationObserver(function (mutations, observer) {{\n",
       "        var display = window.getComputedStyle(gd).display;\n",
       "        if (!display || display === 'none') {{\n",
       "            console.log([gd, 'removed!']);\n",
       "            Plotly.purge(gd);\n",
       "            observer.disconnect();\n",
       "        }}\n",
       "}});\n",
       "\n",
       "// Listen for the removal of the full notebook cells\n",
       "var notebookContainer = gd.closest('#notebook-container');\n",
       "if (notebookContainer) {{\n",
       "    x.observe(notebookContainer, {childList: true});\n",
       "}}\n",
       "\n",
       "// Listen for the clearing of the current output cell\n",
       "var outputEl = gd.closest('.output');\n",
       "if (outputEl) {{\n",
       "    x.observe(outputEl, {childList: true});\n",
       "}}\n",
       "\n",
       "                        })\n",
       "                };\n",
       "                });\n",
       "            </script>\n",
       "        </div>"
      ]
     },
     "metadata": {},
     "output_type": "display_data"
    }
   ],
   "source": [
    "fig = px.bar(df_genero[df_genero[\"GENERO\"]==\"FEMENINO\"], x='TITULO_DELITO', y='INTERNOEN',\n",
    "             hover_data=['TITULO_DELITO'], color='TITULO_DELITO',\n",
    "             labels={'INTERNOEN':'Amount of recidivist crimes'}, height=400, barmode='stack', text=\"INTERNOEN\")\n",
    "fig.update_traces(texttemplate='%{text:.2s}', textposition='outside')\n",
    "fig.update_layout(uniformtext_minsize=6, uniformtext_mode='hide', xaxis_tickangle=-45, showlegend=False, autosize=False,\n",
    "                 width=800, height=700, margin=dict(l=50, r=50, b=100, t=100, pad=4 ),\n",
    "                  title=\"Most commited crimes by women\",\n",
    "                 )\n",
    "fig.update_xaxes( tickfont=dict(family='Rockwell', color='black', size=8)) #tickangle=45,\n",
    "\n",
    "fig.show()"
   ]
  },
  {
   "cell_type": "code",
   "execution_count": 26,
   "metadata": {
    "scrolled": false
   },
   "outputs": [
    {
     "data": {
      "application/vnd.plotly.v1+json": {
       "config": {
        "plotlyServerURL": "https://plot.ly"
       },
       "data": [
        {
         "alignmentgroup": "True",
         "customdata": [
          [
           "FEMENINO",
           "CONTRA EL ORDEN ECONOMICO SOCIAL"
          ],
          [
           "FEMENINO",
           "CONTRA EL PATRIMONIO ECONOMICO"
          ],
          [
           "FEMENINO",
           "CONTRA EL REGIMEN CONSTITUCIONAL Y LEGAL"
          ],
          [
           "FEMENINO",
           "CONTRA LA ADMINISTRACION PUBLICA"
          ],
          [
           "FEMENINO",
           "CONTRA LA EFICAZ Y RECTA IMPARTICION DE JUSTICIA"
          ],
          [
           "FEMENINO",
           "CONTRA LA FAMILIA"
          ],
          [
           "FEMENINO",
           "CONTRA LA FE PUBLICA"
          ],
          [
           "FEMENINO",
           "CONTRA LA LIBERTAD INDIVIDUAL Y OTRAS GARANTIAS"
          ],
          [
           "FEMENINO",
           "CONTRA LA LIBERTAD INTEGRIDAD Y FORMACION SEXUALES"
          ],
          [
           "FEMENINO",
           "CONTRA LA SALUD PUBLICA"
          ],
          [
           "FEMENINO",
           "CONTRA LA SEGURIDAD PUBLICA"
          ],
          [
           "FEMENINO",
           "CONTRA LA VIDA Y LA INTEGRIDAD PERSONAL"
          ],
          [
           "FEMENINO",
           "CONTRA LOS DERECHOS DE AUTOR"
          ],
          [
           "FEMENINO",
           "CONTRA LOS RECURSOS NATURALES Y EL MEDIO AMBIENTE"
          ],
          [
           "FEMENINO",
           "CONTRA MECANISMOS DE PARTICIPACION DEMOCRATICA"
          ],
          [
           "FEMENINO",
           "CONTRA PERSONAS Y BIENES PROTEGIDOS POR EL DERECHO INTERNACIONAL HUMANITARIO"
          ],
          [
           "FEMENINO",
           "DE LA PROTECCION DE LA INFORMACION Y DE LOS DATOS"
          ],
          [
           "FEMENINO",
           "DELITOS CONTRA EL SERVICIO"
          ]
         ],
         "hovertemplate": "GENERO=%{customdata[0]}<br>Delito=%{customdata[1]}<br>Frecuencia del delito=%{text}<extra></extra>",
         "legendgroup": "FEMENINO",
         "marker": {
          "color": "#636efa"
         },
         "name": "FEMENINO",
         "offsetgroup": "FEMENINO",
         "orientation": "v",
         "showlegend": true,
         "text": [
          61,
          3668,
          27,
          142,
          240,
          57,
          336,
          183,
          45,
          4525,
          1688,
          387,
          6,
          3,
          1,
          1,
          35,
          9
         ],
         "textposition": "outside",
         "texttemplate": "%{text:.2s}",
         "type": "bar",
         "x": [
          "CONTRA EL ORDEN ECONOMICO SOCIAL",
          "CONTRA EL PATRIMONIO ECONOMICO",
          "CONTRA EL REGIMEN CONSTITUCIONAL Y LEGAL",
          "CONTRA LA ADMINISTRACION PUBLICA",
          "CONTRA LA EFICAZ Y RECTA IMPARTICION DE JUSTICIA",
          "CONTRA LA FAMILIA",
          "CONTRA LA FE PUBLICA",
          "CONTRA LA LIBERTAD INDIVIDUAL Y OTRAS GARANTIAS",
          "CONTRA LA LIBERTAD INTEGRIDAD Y FORMACION SEXUALES",
          "CONTRA LA SALUD PUBLICA",
          "CONTRA LA SEGURIDAD PUBLICA",
          "CONTRA LA VIDA Y LA INTEGRIDAD PERSONAL",
          "CONTRA LOS DERECHOS DE AUTOR",
          "CONTRA LOS RECURSOS NATURALES Y EL MEDIO AMBIENTE",
          "CONTRA MECANISMOS DE PARTICIPACION DEMOCRATICA",
          "CONTRA PERSONAS Y BIENES PROTEGIDOS POR EL DERECHO INTERNACIONAL HUMANITARIO",
          "DE LA PROTECCION DE LA INFORMACION Y DE LOS DATOS",
          "DELITOS CONTRA EL SERVICIO"
         ],
         "xaxis": "x",
         "y": [
          61,
          3668,
          27,
          142,
          240,
          57,
          336,
          183,
          45,
          4525,
          1688,
          387,
          6,
          3,
          1,
          1,
          35,
          9
         ],
         "yaxis": "y"
        },
        {
         "alignmentgroup": "True",
         "customdata": [
          [
           "MASCULINO",
           "ACCION DE TUTELA"
          ],
          [
           "MASCULINO",
           "CONTRA EL ORDEN ECONOMICO SOCIAL"
          ],
          [
           "MASCULINO",
           "CONTRA EL PATRIMONIO ECONOMICO"
          ],
          [
           "MASCULINO",
           "CONTRA EL REGIMEN CONSTITUCIONAL Y LEGAL"
          ],
          [
           "MASCULINO",
           "CONTRA LA ADMINISTRACION PUBLICA"
          ],
          [
           "MASCULINO",
           "CONTRA LA EFICAZ Y RECTA IMPARTICION DE JUSTICIA"
          ],
          [
           "MASCULINO",
           "CONTRA LA EXISTENCIA Y SEGURIDAD DEL ESTADO"
          ],
          [
           "MASCULINO",
           "CONTRA LA FAMILIA"
          ],
          [
           "MASCULINO",
           "CONTRA LA FE PUBLICA"
          ],
          [
           "MASCULINO",
           "CONTRA LA INTEGRIDAD MORAL"
          ],
          [
           "MASCULINO",
           "CONTRA LA LIBERTAD INDIVIDUAL Y OTRAS GARANTIAS"
          ],
          [
           "MASCULINO",
           "CONTRA LA LIBERTAD INTEGRIDAD Y FORMACION SEXUALES"
          ],
          [
           "MASCULINO",
           "CONTRA LA SALUD PUBLICA"
          ],
          [
           "MASCULINO",
           "CONTRA LA SEGURIDAD PUBLICA"
          ],
          [
           "MASCULINO",
           "CONTRA LA VIDA Y LA INTEGRIDAD PERSONAL"
          ],
          [
           "MASCULINO",
           "CONTRA LOS DERECHOS DE AUTOR"
          ],
          [
           "MASCULINO",
           "CONTRA LOS RECURSOS NATURALES Y EL MEDIO AMBIENTE"
          ],
          [
           "MASCULINO",
           "CONTRA MECANISMOS DE PARTICIPACION DEMOCRATICA"
          ],
          [
           "MASCULINO",
           "CONTRA PERSONAS Y BIENES PROTEGIDOS POR EL DERECHO INTERNACIONAL HUMANITARIO"
          ],
          [
           "MASCULINO",
           "DE LA PROTECCION DE LA INFORMACION Y DE LOS DATOS"
          ],
          [
           "MASCULINO",
           "DELITOS CONTRA EL SERVICIO"
          ],
          [
           "MASCULINO",
           "DELITOS CONTRA LA ADMINISTRACION PUBLICA"
          ],
          [
           "MASCULINO",
           "DELITOS CONTRA LA DISCIPLINA"
          ],
          [
           "MASCULINO",
           "DELITOS DE PARAMILITARISMO Y SICARIATO"
          ],
          [
           "MASCULINO",
           "LEGISLACION INDIGENA"
          ]
         ],
         "hovertemplate": "GENERO=%{customdata[0]}<br>Delito=%{customdata[1]}<br>Frecuencia del delito=%{text}<extra></extra>",
         "legendgroup": "MASCULINO",
         "marker": {
          "color": "#EF553B"
         },
         "name": "MASCULINO",
         "offsetgroup": "MASCULINO",
         "orientation": "v",
         "showlegend": true,
         "text": [
          4,
          459,
          53192,
          339,
          1218,
          2855,
          1,
          3632,
          2025,
          23,
          2713,
          2802,
          20503,
          29903,
          10942,
          25,
          242,
          16,
          140,
          280,
          144,
          2,
          5,
          9,
          11
         ],
         "textposition": "outside",
         "texttemplate": "%{text:.2s}",
         "type": "bar",
         "x": [
          "ACCION DE TUTELA",
          "CONTRA EL ORDEN ECONOMICO SOCIAL",
          "CONTRA EL PATRIMONIO ECONOMICO",
          "CONTRA EL REGIMEN CONSTITUCIONAL Y LEGAL",
          "CONTRA LA ADMINISTRACION PUBLICA",
          "CONTRA LA EFICAZ Y RECTA IMPARTICION DE JUSTICIA",
          "CONTRA LA EXISTENCIA Y SEGURIDAD DEL ESTADO",
          "CONTRA LA FAMILIA",
          "CONTRA LA FE PUBLICA",
          "CONTRA LA INTEGRIDAD MORAL",
          "CONTRA LA LIBERTAD INDIVIDUAL Y OTRAS GARANTIAS",
          "CONTRA LA LIBERTAD INTEGRIDAD Y FORMACION SEXUALES",
          "CONTRA LA SALUD PUBLICA",
          "CONTRA LA SEGURIDAD PUBLICA",
          "CONTRA LA VIDA Y LA INTEGRIDAD PERSONAL",
          "CONTRA LOS DERECHOS DE AUTOR",
          "CONTRA LOS RECURSOS NATURALES Y EL MEDIO AMBIENTE",
          "CONTRA MECANISMOS DE PARTICIPACION DEMOCRATICA",
          "CONTRA PERSONAS Y BIENES PROTEGIDOS POR EL DERECHO INTERNACIONAL HUMANITARIO",
          "DE LA PROTECCION DE LA INFORMACION Y DE LOS DATOS",
          "DELITOS CONTRA EL SERVICIO",
          "DELITOS CONTRA LA ADMINISTRACION PUBLICA",
          "DELITOS CONTRA LA DISCIPLINA",
          "DELITOS DE PARAMILITARISMO Y SICARIATO",
          "LEGISLACION INDIGENA"
         ],
         "xaxis": "x",
         "y": [
          4,
          459,
          53192,
          339,
          1218,
          2855,
          1,
          3632,
          2025,
          23,
          2713,
          2802,
          20503,
          29903,
          10942,
          25,
          242,
          16,
          140,
          280,
          144,
          2,
          5,
          9,
          11
         ],
         "yaxis": "y"
        }
       ],
       "layout": {
        "autosize": false,
        "barmode": "relative",
        "height": 700,
        "legend": {
         "title": {
          "text": "GENERO"
         },
         "tracegroupgap": 0
        },
        "margin": {
         "b": 100,
         "l": 50,
         "pad": 4,
         "r": 50,
         "t": 100
        },
        "showlegend": true,
        "template": {
         "data": {
          "bar": [
           {
            "error_x": {
             "color": "#2a3f5f"
            },
            "error_y": {
             "color": "#2a3f5f"
            },
            "marker": {
             "line": {
              "color": "#E5ECF6",
              "width": 0.5
             }
            },
            "type": "bar"
           }
          ],
          "barpolar": [
           {
            "marker": {
             "line": {
              "color": "#E5ECF6",
              "width": 0.5
             }
            },
            "type": "barpolar"
           }
          ],
          "carpet": [
           {
            "aaxis": {
             "endlinecolor": "#2a3f5f",
             "gridcolor": "white",
             "linecolor": "white",
             "minorgridcolor": "white",
             "startlinecolor": "#2a3f5f"
            },
            "baxis": {
             "endlinecolor": "#2a3f5f",
             "gridcolor": "white",
             "linecolor": "white",
             "minorgridcolor": "white",
             "startlinecolor": "#2a3f5f"
            },
            "type": "carpet"
           }
          ],
          "choropleth": [
           {
            "colorbar": {
             "outlinewidth": 0,
             "ticks": ""
            },
            "type": "choropleth"
           }
          ],
          "contour": [
           {
            "colorbar": {
             "outlinewidth": 0,
             "ticks": ""
            },
            "colorscale": [
             [
              0,
              "#0d0887"
             ],
             [
              0.1111111111111111,
              "#46039f"
             ],
             [
              0.2222222222222222,
              "#7201a8"
             ],
             [
              0.3333333333333333,
              "#9c179e"
             ],
             [
              0.4444444444444444,
              "#bd3786"
             ],
             [
              0.5555555555555556,
              "#d8576b"
             ],
             [
              0.6666666666666666,
              "#ed7953"
             ],
             [
              0.7777777777777778,
              "#fb9f3a"
             ],
             [
              0.8888888888888888,
              "#fdca26"
             ],
             [
              1,
              "#f0f921"
             ]
            ],
            "type": "contour"
           }
          ],
          "contourcarpet": [
           {
            "colorbar": {
             "outlinewidth": 0,
             "ticks": ""
            },
            "type": "contourcarpet"
           }
          ],
          "heatmap": [
           {
            "colorbar": {
             "outlinewidth": 0,
             "ticks": ""
            },
            "colorscale": [
             [
              0,
              "#0d0887"
             ],
             [
              0.1111111111111111,
              "#46039f"
             ],
             [
              0.2222222222222222,
              "#7201a8"
             ],
             [
              0.3333333333333333,
              "#9c179e"
             ],
             [
              0.4444444444444444,
              "#bd3786"
             ],
             [
              0.5555555555555556,
              "#d8576b"
             ],
             [
              0.6666666666666666,
              "#ed7953"
             ],
             [
              0.7777777777777778,
              "#fb9f3a"
             ],
             [
              0.8888888888888888,
              "#fdca26"
             ],
             [
              1,
              "#f0f921"
             ]
            ],
            "type": "heatmap"
           }
          ],
          "heatmapgl": [
           {
            "colorbar": {
             "outlinewidth": 0,
             "ticks": ""
            },
            "colorscale": [
             [
              0,
              "#0d0887"
             ],
             [
              0.1111111111111111,
              "#46039f"
             ],
             [
              0.2222222222222222,
              "#7201a8"
             ],
             [
              0.3333333333333333,
              "#9c179e"
             ],
             [
              0.4444444444444444,
              "#bd3786"
             ],
             [
              0.5555555555555556,
              "#d8576b"
             ],
             [
              0.6666666666666666,
              "#ed7953"
             ],
             [
              0.7777777777777778,
              "#fb9f3a"
             ],
             [
              0.8888888888888888,
              "#fdca26"
             ],
             [
              1,
              "#f0f921"
             ]
            ],
            "type": "heatmapgl"
           }
          ],
          "histogram": [
           {
            "marker": {
             "colorbar": {
              "outlinewidth": 0,
              "ticks": ""
             }
            },
            "type": "histogram"
           }
          ],
          "histogram2d": [
           {
            "colorbar": {
             "outlinewidth": 0,
             "ticks": ""
            },
            "colorscale": [
             [
              0,
              "#0d0887"
             ],
             [
              0.1111111111111111,
              "#46039f"
             ],
             [
              0.2222222222222222,
              "#7201a8"
             ],
             [
              0.3333333333333333,
              "#9c179e"
             ],
             [
              0.4444444444444444,
              "#bd3786"
             ],
             [
              0.5555555555555556,
              "#d8576b"
             ],
             [
              0.6666666666666666,
              "#ed7953"
             ],
             [
              0.7777777777777778,
              "#fb9f3a"
             ],
             [
              0.8888888888888888,
              "#fdca26"
             ],
             [
              1,
              "#f0f921"
             ]
            ],
            "type": "histogram2d"
           }
          ],
          "histogram2dcontour": [
           {
            "colorbar": {
             "outlinewidth": 0,
             "ticks": ""
            },
            "colorscale": [
             [
              0,
              "#0d0887"
             ],
             [
              0.1111111111111111,
              "#46039f"
             ],
             [
              0.2222222222222222,
              "#7201a8"
             ],
             [
              0.3333333333333333,
              "#9c179e"
             ],
             [
              0.4444444444444444,
              "#bd3786"
             ],
             [
              0.5555555555555556,
              "#d8576b"
             ],
             [
              0.6666666666666666,
              "#ed7953"
             ],
             [
              0.7777777777777778,
              "#fb9f3a"
             ],
             [
              0.8888888888888888,
              "#fdca26"
             ],
             [
              1,
              "#f0f921"
             ]
            ],
            "type": "histogram2dcontour"
           }
          ],
          "mesh3d": [
           {
            "colorbar": {
             "outlinewidth": 0,
             "ticks": ""
            },
            "type": "mesh3d"
           }
          ],
          "parcoords": [
           {
            "line": {
             "colorbar": {
              "outlinewidth": 0,
              "ticks": ""
             }
            },
            "type": "parcoords"
           }
          ],
          "pie": [
           {
            "automargin": true,
            "type": "pie"
           }
          ],
          "scatter": [
           {
            "marker": {
             "colorbar": {
              "outlinewidth": 0,
              "ticks": ""
             }
            },
            "type": "scatter"
           }
          ],
          "scatter3d": [
           {
            "line": {
             "colorbar": {
              "outlinewidth": 0,
              "ticks": ""
             }
            },
            "marker": {
             "colorbar": {
              "outlinewidth": 0,
              "ticks": ""
             }
            },
            "type": "scatter3d"
           }
          ],
          "scattercarpet": [
           {
            "marker": {
             "colorbar": {
              "outlinewidth": 0,
              "ticks": ""
             }
            },
            "type": "scattercarpet"
           }
          ],
          "scattergeo": [
           {
            "marker": {
             "colorbar": {
              "outlinewidth": 0,
              "ticks": ""
             }
            },
            "type": "scattergeo"
           }
          ],
          "scattergl": [
           {
            "marker": {
             "colorbar": {
              "outlinewidth": 0,
              "ticks": ""
             }
            },
            "type": "scattergl"
           }
          ],
          "scattermapbox": [
           {
            "marker": {
             "colorbar": {
              "outlinewidth": 0,
              "ticks": ""
             }
            },
            "type": "scattermapbox"
           }
          ],
          "scatterpolar": [
           {
            "marker": {
             "colorbar": {
              "outlinewidth": 0,
              "ticks": ""
             }
            },
            "type": "scatterpolar"
           }
          ],
          "scatterpolargl": [
           {
            "marker": {
             "colorbar": {
              "outlinewidth": 0,
              "ticks": ""
             }
            },
            "type": "scatterpolargl"
           }
          ],
          "scatterternary": [
           {
            "marker": {
             "colorbar": {
              "outlinewidth": 0,
              "ticks": ""
             }
            },
            "type": "scatterternary"
           }
          ],
          "surface": [
           {
            "colorbar": {
             "outlinewidth": 0,
             "ticks": ""
            },
            "colorscale": [
             [
              0,
              "#0d0887"
             ],
             [
              0.1111111111111111,
              "#46039f"
             ],
             [
              0.2222222222222222,
              "#7201a8"
             ],
             [
              0.3333333333333333,
              "#9c179e"
             ],
             [
              0.4444444444444444,
              "#bd3786"
             ],
             [
              0.5555555555555556,
              "#d8576b"
             ],
             [
              0.6666666666666666,
              "#ed7953"
             ],
             [
              0.7777777777777778,
              "#fb9f3a"
             ],
             [
              0.8888888888888888,
              "#fdca26"
             ],
             [
              1,
              "#f0f921"
             ]
            ],
            "type": "surface"
           }
          ],
          "table": [
           {
            "cells": {
             "fill": {
              "color": "#EBF0F8"
             },
             "line": {
              "color": "white"
             }
            },
            "header": {
             "fill": {
              "color": "#C8D4E3"
             },
             "line": {
              "color": "white"
             }
            },
            "type": "table"
           }
          ]
         },
         "layout": {
          "annotationdefaults": {
           "arrowcolor": "#2a3f5f",
           "arrowhead": 0,
           "arrowwidth": 1
          },
          "coloraxis": {
           "colorbar": {
            "outlinewidth": 0,
            "ticks": ""
           }
          },
          "colorscale": {
           "diverging": [
            [
             0,
             "#8e0152"
            ],
            [
             0.1,
             "#c51b7d"
            ],
            [
             0.2,
             "#de77ae"
            ],
            [
             0.3,
             "#f1b6da"
            ],
            [
             0.4,
             "#fde0ef"
            ],
            [
             0.5,
             "#f7f7f7"
            ],
            [
             0.6,
             "#e6f5d0"
            ],
            [
             0.7,
             "#b8e186"
            ],
            [
             0.8,
             "#7fbc41"
            ],
            [
             0.9,
             "#4d9221"
            ],
            [
             1,
             "#276419"
            ]
           ],
           "sequential": [
            [
             0,
             "#0d0887"
            ],
            [
             0.1111111111111111,
             "#46039f"
            ],
            [
             0.2222222222222222,
             "#7201a8"
            ],
            [
             0.3333333333333333,
             "#9c179e"
            ],
            [
             0.4444444444444444,
             "#bd3786"
            ],
            [
             0.5555555555555556,
             "#d8576b"
            ],
            [
             0.6666666666666666,
             "#ed7953"
            ],
            [
             0.7777777777777778,
             "#fb9f3a"
            ],
            [
             0.8888888888888888,
             "#fdca26"
            ],
            [
             1,
             "#f0f921"
            ]
           ],
           "sequentialminus": [
            [
             0,
             "#0d0887"
            ],
            [
             0.1111111111111111,
             "#46039f"
            ],
            [
             0.2222222222222222,
             "#7201a8"
            ],
            [
             0.3333333333333333,
             "#9c179e"
            ],
            [
             0.4444444444444444,
             "#bd3786"
            ],
            [
             0.5555555555555556,
             "#d8576b"
            ],
            [
             0.6666666666666666,
             "#ed7953"
            ],
            [
             0.7777777777777778,
             "#fb9f3a"
            ],
            [
             0.8888888888888888,
             "#fdca26"
            ],
            [
             1,
             "#f0f921"
            ]
           ]
          },
          "colorway": [
           "#636efa",
           "#EF553B",
           "#00cc96",
           "#ab63fa",
           "#FFA15A",
           "#19d3f3",
           "#FF6692",
           "#B6E880",
           "#FF97FF",
           "#FECB52"
          ],
          "font": {
           "color": "#2a3f5f"
          },
          "geo": {
           "bgcolor": "white",
           "lakecolor": "white",
           "landcolor": "#E5ECF6",
           "showlakes": true,
           "showland": true,
           "subunitcolor": "white"
          },
          "hoverlabel": {
           "align": "left"
          },
          "hovermode": "closest",
          "mapbox": {
           "style": "light"
          },
          "paper_bgcolor": "white",
          "plot_bgcolor": "#E5ECF6",
          "polar": {
           "angularaxis": {
            "gridcolor": "white",
            "linecolor": "white",
            "ticks": ""
           },
           "bgcolor": "#E5ECF6",
           "radialaxis": {
            "gridcolor": "white",
            "linecolor": "white",
            "ticks": ""
           }
          },
          "scene": {
           "xaxis": {
            "backgroundcolor": "#E5ECF6",
            "gridcolor": "white",
            "gridwidth": 2,
            "linecolor": "white",
            "showbackground": true,
            "ticks": "",
            "zerolinecolor": "white"
           },
           "yaxis": {
            "backgroundcolor": "#E5ECF6",
            "gridcolor": "white",
            "gridwidth": 2,
            "linecolor": "white",
            "showbackground": true,
            "ticks": "",
            "zerolinecolor": "white"
           },
           "zaxis": {
            "backgroundcolor": "#E5ECF6",
            "gridcolor": "white",
            "gridwidth": 2,
            "linecolor": "white",
            "showbackground": true,
            "ticks": "",
            "zerolinecolor": "white"
           }
          },
          "shapedefaults": {
           "line": {
            "color": "#2a3f5f"
           }
          },
          "ternary": {
           "aaxis": {
            "gridcolor": "white",
            "linecolor": "white",
            "ticks": ""
           },
           "baxis": {
            "gridcolor": "white",
            "linecolor": "white",
            "ticks": ""
           },
           "bgcolor": "#E5ECF6",
           "caxis": {
            "gridcolor": "white",
            "linecolor": "white",
            "ticks": ""
           }
          },
          "title": {
           "x": 0.05
          },
          "xaxis": {
           "automargin": true,
           "gridcolor": "white",
           "linecolor": "white",
           "ticks": "",
           "title": {
            "standoff": 15
           },
           "zerolinecolor": "white",
           "zerolinewidth": 2
          },
          "yaxis": {
           "automargin": true,
           "gridcolor": "white",
           "linecolor": "white",
           "ticks": "",
           "title": {
            "standoff": 15
           },
           "zerolinecolor": "white",
           "zerolinewidth": 2
          }
         }
        },
        "title": {
         "text": "Crimenes más cometidos por género"
        },
        "uniformtext": {
         "minsize": 7,
         "mode": "hide"
        },
        "width": 800,
        "xaxis": {
         "anchor": "y",
         "domain": [
          0,
          1
         ],
         "tickangle": -45,
         "tickfont": {
          "color": "black",
          "family": "Rockwell",
          "size": 8
         },
         "title": {
          "text": "Delito"
         }
        },
        "yaxis": {
         "anchor": "x",
         "domain": [
          0,
          1
         ],
         "title": {
          "text": "Frecuencia del delito"
         }
        }
       }
      },
      "text/html": [
       "<div>\n",
       "        \n",
       "        \n",
       "            <div id=\"5d70eeb0-62a6-4e31-bc39-65f26303a21e\" class=\"plotly-graph-div\" style=\"height:700px; width:800px;\"></div>\n",
       "            <script type=\"text/javascript\">\n",
       "                require([\"plotly\"], function(Plotly) {\n",
       "                    window.PLOTLYENV=window.PLOTLYENV || {};\n",
       "                    \n",
       "                if (document.getElementById(\"5d70eeb0-62a6-4e31-bc39-65f26303a21e\")) {\n",
       "                    Plotly.newPlot(\n",
       "                        '5d70eeb0-62a6-4e31-bc39-65f26303a21e',\n",
       "                        [{\"alignmentgroup\": \"True\", \"customdata\": [[\"FEMENINO\", \"CONTRA EL ORDEN ECONOMICO SOCIAL\"], [\"FEMENINO\", \"CONTRA EL PATRIMONIO ECONOMICO\"], [\"FEMENINO\", \"CONTRA EL REGIMEN CONSTITUCIONAL Y LEGAL\"], [\"FEMENINO\", \"CONTRA LA ADMINISTRACION PUBLICA\"], [\"FEMENINO\", \"CONTRA LA EFICAZ Y RECTA IMPARTICION DE JUSTICIA\"], [\"FEMENINO\", \"CONTRA LA FAMILIA\"], [\"FEMENINO\", \"CONTRA LA FE PUBLICA\"], [\"FEMENINO\", \"CONTRA LA LIBERTAD INDIVIDUAL Y OTRAS GARANTIAS\"], [\"FEMENINO\", \"CONTRA LA LIBERTAD INTEGRIDAD Y FORMACION SEXUALES\"], [\"FEMENINO\", \"CONTRA LA SALUD PUBLICA\"], [\"FEMENINO\", \"CONTRA LA SEGURIDAD PUBLICA\"], [\"FEMENINO\", \"CONTRA LA VIDA Y LA INTEGRIDAD PERSONAL\"], [\"FEMENINO\", \"CONTRA LOS DERECHOS DE AUTOR\"], [\"FEMENINO\", \"CONTRA LOS RECURSOS NATURALES Y EL MEDIO AMBIENTE\"], [\"FEMENINO\", \"CONTRA MECANISMOS DE PARTICIPACION DEMOCRATICA\"], [\"FEMENINO\", \"CONTRA PERSONAS Y BIENES PROTEGIDOS POR EL DERECHO INTERNACIONAL HUMANITARIO\"], [\"FEMENINO\", \"DE LA PROTECCION DE LA INFORMACION Y DE LOS DATOS\"], [\"FEMENINO\", \"DELITOS CONTRA EL SERVICIO\"]], \"hovertemplate\": \"GENERO=%{customdata[0]}<br>Delito=%{customdata[1]}<br>Frecuencia del delito=%{text}<extra></extra>\", \"legendgroup\": \"FEMENINO\", \"marker\": {\"color\": \"#636efa\"}, \"name\": \"FEMENINO\", \"offsetgroup\": \"FEMENINO\", \"orientation\": \"v\", \"showlegend\": true, \"text\": [61.0, 3668.0, 27.0, 142.0, 240.0, 57.0, 336.0, 183.0, 45.0, 4525.0, 1688.0, 387.0, 6.0, 3.0, 1.0, 1.0, 35.0, 9.0], \"textposition\": \"outside\", \"texttemplate\": \"%{text:.2s}\", \"type\": \"bar\", \"x\": [\"CONTRA EL ORDEN ECONOMICO SOCIAL\", \"CONTRA EL PATRIMONIO ECONOMICO\", \"CONTRA EL REGIMEN CONSTITUCIONAL Y LEGAL\", \"CONTRA LA ADMINISTRACION PUBLICA\", \"CONTRA LA EFICAZ Y RECTA IMPARTICION DE JUSTICIA\", \"CONTRA LA FAMILIA\", \"CONTRA LA FE PUBLICA\", \"CONTRA LA LIBERTAD INDIVIDUAL Y OTRAS GARANTIAS\", \"CONTRA LA LIBERTAD INTEGRIDAD Y FORMACION SEXUALES\", \"CONTRA LA SALUD PUBLICA\", \"CONTRA LA SEGURIDAD PUBLICA\", \"CONTRA LA VIDA Y LA INTEGRIDAD PERSONAL\", \"CONTRA LOS DERECHOS DE AUTOR\", \"CONTRA LOS RECURSOS NATURALES Y EL MEDIO AMBIENTE\", \"CONTRA MECANISMOS DE PARTICIPACION DEMOCRATICA\", \"CONTRA PERSONAS Y BIENES PROTEGIDOS POR EL DERECHO INTERNACIONAL HUMANITARIO\", \"DE LA PROTECCION DE LA INFORMACION Y DE LOS DATOS\", \"DELITOS CONTRA EL SERVICIO\"], \"xaxis\": \"x\", \"y\": [61, 3668, 27, 142, 240, 57, 336, 183, 45, 4525, 1688, 387, 6, 3, 1, 1, 35, 9], \"yaxis\": \"y\"}, {\"alignmentgroup\": \"True\", \"customdata\": [[\"MASCULINO\", \"ACCION DE TUTELA\"], [\"MASCULINO\", \"CONTRA EL ORDEN ECONOMICO SOCIAL\"], [\"MASCULINO\", \"CONTRA EL PATRIMONIO ECONOMICO\"], [\"MASCULINO\", \"CONTRA EL REGIMEN CONSTITUCIONAL Y LEGAL\"], [\"MASCULINO\", \"CONTRA LA ADMINISTRACION PUBLICA\"], [\"MASCULINO\", \"CONTRA LA EFICAZ Y RECTA IMPARTICION DE JUSTICIA\"], [\"MASCULINO\", \"CONTRA LA EXISTENCIA Y SEGURIDAD DEL ESTADO\"], [\"MASCULINO\", \"CONTRA LA FAMILIA\"], [\"MASCULINO\", \"CONTRA LA FE PUBLICA\"], [\"MASCULINO\", \"CONTRA LA INTEGRIDAD MORAL\"], [\"MASCULINO\", \"CONTRA LA LIBERTAD INDIVIDUAL Y OTRAS GARANTIAS\"], [\"MASCULINO\", \"CONTRA LA LIBERTAD INTEGRIDAD Y FORMACION SEXUALES\"], [\"MASCULINO\", \"CONTRA LA SALUD PUBLICA\"], [\"MASCULINO\", \"CONTRA LA SEGURIDAD PUBLICA\"], [\"MASCULINO\", \"CONTRA LA VIDA Y LA INTEGRIDAD PERSONAL\"], [\"MASCULINO\", \"CONTRA LOS DERECHOS DE AUTOR\"], [\"MASCULINO\", \"CONTRA LOS RECURSOS NATURALES Y EL MEDIO AMBIENTE\"], [\"MASCULINO\", \"CONTRA MECANISMOS DE PARTICIPACION DEMOCRATICA\"], [\"MASCULINO\", \"CONTRA PERSONAS Y BIENES PROTEGIDOS POR EL DERECHO INTERNACIONAL HUMANITARIO\"], [\"MASCULINO\", \"DE LA PROTECCION DE LA INFORMACION Y DE LOS DATOS\"], [\"MASCULINO\", \"DELITOS CONTRA EL SERVICIO\"], [\"MASCULINO\", \"DELITOS CONTRA LA ADMINISTRACION PUBLICA\"], [\"MASCULINO\", \"DELITOS CONTRA LA DISCIPLINA\"], [\"MASCULINO\", \"DELITOS DE PARAMILITARISMO Y SICARIATO\"], [\"MASCULINO\", \"LEGISLACION INDIGENA\"]], \"hovertemplate\": \"GENERO=%{customdata[0]}<br>Delito=%{customdata[1]}<br>Frecuencia del delito=%{text}<extra></extra>\", \"legendgroup\": \"MASCULINO\", \"marker\": {\"color\": \"#EF553B\"}, \"name\": \"MASCULINO\", \"offsetgroup\": \"MASCULINO\", \"orientation\": \"v\", \"showlegend\": true, \"text\": [4.0, 459.0, 53192.0, 339.0, 1218.0, 2855.0, 1.0, 3632.0, 2025.0, 23.0, 2713.0, 2802.0, 20503.0, 29903.0, 10942.0, 25.0, 242.0, 16.0, 140.0, 280.0, 144.0, 2.0, 5.0, 9.0, 11.0], \"textposition\": \"outside\", \"texttemplate\": \"%{text:.2s}\", \"type\": \"bar\", \"x\": [\"ACCION DE TUTELA\", \"CONTRA EL ORDEN ECONOMICO SOCIAL\", \"CONTRA EL PATRIMONIO ECONOMICO\", \"CONTRA EL REGIMEN CONSTITUCIONAL Y LEGAL\", \"CONTRA LA ADMINISTRACION PUBLICA\", \"CONTRA LA EFICAZ Y RECTA IMPARTICION DE JUSTICIA\", \"CONTRA LA EXISTENCIA Y SEGURIDAD DEL ESTADO\", \"CONTRA LA FAMILIA\", \"CONTRA LA FE PUBLICA\", \"CONTRA LA INTEGRIDAD MORAL\", \"CONTRA LA LIBERTAD INDIVIDUAL Y OTRAS GARANTIAS\", \"CONTRA LA LIBERTAD INTEGRIDAD Y FORMACION SEXUALES\", \"CONTRA LA SALUD PUBLICA\", \"CONTRA LA SEGURIDAD PUBLICA\", \"CONTRA LA VIDA Y LA INTEGRIDAD PERSONAL\", \"CONTRA LOS DERECHOS DE AUTOR\", \"CONTRA LOS RECURSOS NATURALES Y EL MEDIO AMBIENTE\", \"CONTRA MECANISMOS DE PARTICIPACION DEMOCRATICA\", \"CONTRA PERSONAS Y BIENES PROTEGIDOS POR EL DERECHO INTERNACIONAL HUMANITARIO\", \"DE LA PROTECCION DE LA INFORMACION Y DE LOS DATOS\", \"DELITOS CONTRA EL SERVICIO\", \"DELITOS CONTRA LA ADMINISTRACION PUBLICA\", \"DELITOS CONTRA LA DISCIPLINA\", \"DELITOS DE PARAMILITARISMO Y SICARIATO\", \"LEGISLACION INDIGENA\"], \"xaxis\": \"x\", \"y\": [4, 459, 53192, 339, 1218, 2855, 1, 3632, 2025, 23, 2713, 2802, 20503, 29903, 10942, 25, 242, 16, 140, 280, 144, 2, 5, 9, 11], \"yaxis\": \"y\"}],\n",
       "                        {\"autosize\": false, \"barmode\": \"relative\", \"height\": 700, \"legend\": {\"title\": {\"text\": \"GENERO\"}, \"tracegroupgap\": 0}, \"margin\": {\"b\": 100, \"l\": 50, \"pad\": 4, \"r\": 50, \"t\": 100}, \"showlegend\": true, \"template\": {\"data\": {\"bar\": [{\"error_x\": {\"color\": \"#2a3f5f\"}, \"error_y\": {\"color\": \"#2a3f5f\"}, \"marker\": {\"line\": {\"color\": \"#E5ECF6\", \"width\": 0.5}}, \"type\": \"bar\"}], \"barpolar\": [{\"marker\": {\"line\": {\"color\": \"#E5ECF6\", \"width\": 0.5}}, \"type\": \"barpolar\"}], \"carpet\": [{\"aaxis\": {\"endlinecolor\": \"#2a3f5f\", \"gridcolor\": \"white\", \"linecolor\": \"white\", \"minorgridcolor\": \"white\", \"startlinecolor\": \"#2a3f5f\"}, \"baxis\": {\"endlinecolor\": \"#2a3f5f\", \"gridcolor\": \"white\", \"linecolor\": \"white\", \"minorgridcolor\": \"white\", \"startlinecolor\": \"#2a3f5f\"}, \"type\": \"carpet\"}], \"choropleth\": [{\"colorbar\": {\"outlinewidth\": 0, \"ticks\": \"\"}, \"type\": \"choropleth\"}], \"contour\": [{\"colorbar\": {\"outlinewidth\": 0, \"ticks\": \"\"}, \"colorscale\": [[0.0, \"#0d0887\"], [0.1111111111111111, \"#46039f\"], [0.2222222222222222, \"#7201a8\"], [0.3333333333333333, \"#9c179e\"], [0.4444444444444444, \"#bd3786\"], [0.5555555555555556, \"#d8576b\"], [0.6666666666666666, \"#ed7953\"], [0.7777777777777778, \"#fb9f3a\"], [0.8888888888888888, \"#fdca26\"], [1.0, \"#f0f921\"]], \"type\": \"contour\"}], \"contourcarpet\": [{\"colorbar\": {\"outlinewidth\": 0, \"ticks\": \"\"}, \"type\": \"contourcarpet\"}], \"heatmap\": [{\"colorbar\": {\"outlinewidth\": 0, \"ticks\": \"\"}, \"colorscale\": [[0.0, \"#0d0887\"], [0.1111111111111111, \"#46039f\"], [0.2222222222222222, \"#7201a8\"], [0.3333333333333333, \"#9c179e\"], [0.4444444444444444, \"#bd3786\"], [0.5555555555555556, \"#d8576b\"], [0.6666666666666666, \"#ed7953\"], [0.7777777777777778, \"#fb9f3a\"], [0.8888888888888888, \"#fdca26\"], [1.0, \"#f0f921\"]], \"type\": \"heatmap\"}], \"heatmapgl\": [{\"colorbar\": {\"outlinewidth\": 0, \"ticks\": \"\"}, \"colorscale\": [[0.0, \"#0d0887\"], [0.1111111111111111, \"#46039f\"], [0.2222222222222222, \"#7201a8\"], [0.3333333333333333, \"#9c179e\"], [0.4444444444444444, \"#bd3786\"], [0.5555555555555556, \"#d8576b\"], [0.6666666666666666, \"#ed7953\"], [0.7777777777777778, \"#fb9f3a\"], [0.8888888888888888, \"#fdca26\"], [1.0, \"#f0f921\"]], \"type\": \"heatmapgl\"}], \"histogram\": [{\"marker\": {\"colorbar\": {\"outlinewidth\": 0, \"ticks\": \"\"}}, \"type\": \"histogram\"}], \"histogram2d\": [{\"colorbar\": {\"outlinewidth\": 0, \"ticks\": \"\"}, \"colorscale\": [[0.0, \"#0d0887\"], [0.1111111111111111, \"#46039f\"], [0.2222222222222222, \"#7201a8\"], [0.3333333333333333, \"#9c179e\"], [0.4444444444444444, \"#bd3786\"], [0.5555555555555556, \"#d8576b\"], [0.6666666666666666, \"#ed7953\"], [0.7777777777777778, \"#fb9f3a\"], [0.8888888888888888, \"#fdca26\"], [1.0, \"#f0f921\"]], \"type\": \"histogram2d\"}], \"histogram2dcontour\": [{\"colorbar\": {\"outlinewidth\": 0, \"ticks\": \"\"}, \"colorscale\": [[0.0, \"#0d0887\"], [0.1111111111111111, \"#46039f\"], [0.2222222222222222, \"#7201a8\"], [0.3333333333333333, \"#9c179e\"], [0.4444444444444444, \"#bd3786\"], [0.5555555555555556, \"#d8576b\"], [0.6666666666666666, \"#ed7953\"], [0.7777777777777778, \"#fb9f3a\"], [0.8888888888888888, \"#fdca26\"], [1.0, \"#f0f921\"]], \"type\": \"histogram2dcontour\"}], \"mesh3d\": [{\"colorbar\": {\"outlinewidth\": 0, \"ticks\": \"\"}, \"type\": \"mesh3d\"}], \"parcoords\": [{\"line\": {\"colorbar\": {\"outlinewidth\": 0, \"ticks\": \"\"}}, \"type\": \"parcoords\"}], \"pie\": [{\"automargin\": true, \"type\": \"pie\"}], \"scatter\": [{\"marker\": {\"colorbar\": {\"outlinewidth\": 0, \"ticks\": \"\"}}, \"type\": \"scatter\"}], \"scatter3d\": [{\"line\": {\"colorbar\": {\"outlinewidth\": 0, \"ticks\": \"\"}}, \"marker\": {\"colorbar\": {\"outlinewidth\": 0, \"ticks\": \"\"}}, \"type\": \"scatter3d\"}], \"scattercarpet\": [{\"marker\": {\"colorbar\": {\"outlinewidth\": 0, \"ticks\": \"\"}}, \"type\": \"scattercarpet\"}], \"scattergeo\": [{\"marker\": {\"colorbar\": {\"outlinewidth\": 0, \"ticks\": \"\"}}, \"type\": \"scattergeo\"}], \"scattergl\": [{\"marker\": {\"colorbar\": {\"outlinewidth\": 0, \"ticks\": \"\"}}, \"type\": \"scattergl\"}], \"scattermapbox\": [{\"marker\": {\"colorbar\": {\"outlinewidth\": 0, \"ticks\": \"\"}}, \"type\": \"scattermapbox\"}], \"scatterpolar\": [{\"marker\": {\"colorbar\": {\"outlinewidth\": 0, \"ticks\": \"\"}}, \"type\": \"scatterpolar\"}], \"scatterpolargl\": [{\"marker\": {\"colorbar\": {\"outlinewidth\": 0, \"ticks\": \"\"}}, \"type\": \"scatterpolargl\"}], \"scatterternary\": [{\"marker\": {\"colorbar\": {\"outlinewidth\": 0, \"ticks\": \"\"}}, \"type\": \"scatterternary\"}], \"surface\": [{\"colorbar\": {\"outlinewidth\": 0, \"ticks\": \"\"}, \"colorscale\": [[0.0, \"#0d0887\"], [0.1111111111111111, \"#46039f\"], [0.2222222222222222, \"#7201a8\"], [0.3333333333333333, \"#9c179e\"], [0.4444444444444444, \"#bd3786\"], [0.5555555555555556, \"#d8576b\"], [0.6666666666666666, \"#ed7953\"], [0.7777777777777778, \"#fb9f3a\"], [0.8888888888888888, \"#fdca26\"], [1.0, \"#f0f921\"]], \"type\": \"surface\"}], \"table\": [{\"cells\": {\"fill\": {\"color\": \"#EBF0F8\"}, \"line\": {\"color\": \"white\"}}, \"header\": {\"fill\": {\"color\": \"#C8D4E3\"}, \"line\": {\"color\": \"white\"}}, \"type\": \"table\"}]}, \"layout\": {\"annotationdefaults\": {\"arrowcolor\": \"#2a3f5f\", \"arrowhead\": 0, \"arrowwidth\": 1}, \"coloraxis\": {\"colorbar\": {\"outlinewidth\": 0, \"ticks\": \"\"}}, \"colorscale\": {\"diverging\": [[0, \"#8e0152\"], [0.1, \"#c51b7d\"], [0.2, \"#de77ae\"], [0.3, \"#f1b6da\"], [0.4, \"#fde0ef\"], [0.5, \"#f7f7f7\"], [0.6, \"#e6f5d0\"], [0.7, \"#b8e186\"], [0.8, \"#7fbc41\"], [0.9, \"#4d9221\"], [1, \"#276419\"]], \"sequential\": [[0.0, \"#0d0887\"], [0.1111111111111111, \"#46039f\"], [0.2222222222222222, \"#7201a8\"], [0.3333333333333333, \"#9c179e\"], [0.4444444444444444, \"#bd3786\"], [0.5555555555555556, \"#d8576b\"], [0.6666666666666666, \"#ed7953\"], [0.7777777777777778, \"#fb9f3a\"], [0.8888888888888888, \"#fdca26\"], [1.0, \"#f0f921\"]], \"sequentialminus\": [[0.0, \"#0d0887\"], [0.1111111111111111, \"#46039f\"], [0.2222222222222222, \"#7201a8\"], [0.3333333333333333, \"#9c179e\"], [0.4444444444444444, \"#bd3786\"], [0.5555555555555556, \"#d8576b\"], [0.6666666666666666, \"#ed7953\"], [0.7777777777777778, \"#fb9f3a\"], [0.8888888888888888, \"#fdca26\"], [1.0, \"#f0f921\"]]}, \"colorway\": [\"#636efa\", \"#EF553B\", \"#00cc96\", \"#ab63fa\", \"#FFA15A\", \"#19d3f3\", \"#FF6692\", \"#B6E880\", \"#FF97FF\", \"#FECB52\"], \"font\": {\"color\": \"#2a3f5f\"}, \"geo\": {\"bgcolor\": \"white\", \"lakecolor\": \"white\", \"landcolor\": \"#E5ECF6\", \"showlakes\": true, \"showland\": true, \"subunitcolor\": \"white\"}, \"hoverlabel\": {\"align\": \"left\"}, \"hovermode\": \"closest\", \"mapbox\": {\"style\": \"light\"}, \"paper_bgcolor\": \"white\", \"plot_bgcolor\": \"#E5ECF6\", \"polar\": {\"angularaxis\": {\"gridcolor\": \"white\", \"linecolor\": \"white\", \"ticks\": \"\"}, \"bgcolor\": \"#E5ECF6\", \"radialaxis\": {\"gridcolor\": \"white\", \"linecolor\": \"white\", \"ticks\": \"\"}}, \"scene\": {\"xaxis\": {\"backgroundcolor\": \"#E5ECF6\", \"gridcolor\": \"white\", \"gridwidth\": 2, \"linecolor\": \"white\", \"showbackground\": true, \"ticks\": \"\", \"zerolinecolor\": \"white\"}, \"yaxis\": {\"backgroundcolor\": \"#E5ECF6\", \"gridcolor\": \"white\", \"gridwidth\": 2, \"linecolor\": \"white\", \"showbackground\": true, \"ticks\": \"\", \"zerolinecolor\": \"white\"}, \"zaxis\": {\"backgroundcolor\": \"#E5ECF6\", \"gridcolor\": \"white\", \"gridwidth\": 2, \"linecolor\": \"white\", \"showbackground\": true, \"ticks\": \"\", \"zerolinecolor\": \"white\"}}, \"shapedefaults\": {\"line\": {\"color\": \"#2a3f5f\"}}, \"ternary\": {\"aaxis\": {\"gridcolor\": \"white\", \"linecolor\": \"white\", \"ticks\": \"\"}, \"baxis\": {\"gridcolor\": \"white\", \"linecolor\": \"white\", \"ticks\": \"\"}, \"bgcolor\": \"#E5ECF6\", \"caxis\": {\"gridcolor\": \"white\", \"linecolor\": \"white\", \"ticks\": \"\"}}, \"title\": {\"x\": 0.05}, \"xaxis\": {\"automargin\": true, \"gridcolor\": \"white\", \"linecolor\": \"white\", \"ticks\": \"\", \"title\": {\"standoff\": 15}, \"zerolinecolor\": \"white\", \"zerolinewidth\": 2}, \"yaxis\": {\"automargin\": true, \"gridcolor\": \"white\", \"linecolor\": \"white\", \"ticks\": \"\", \"title\": {\"standoff\": 15}, \"zerolinecolor\": \"white\", \"zerolinewidth\": 2}}}, \"title\": {\"text\": \"Crimenes m\\u00e1s cometidos por g\\u00e9nero\"}, \"uniformtext\": {\"minsize\": 7, \"mode\": \"hide\"}, \"width\": 800, \"xaxis\": {\"anchor\": \"y\", \"domain\": [0.0, 1.0], \"tickangle\": -45, \"tickfont\": {\"color\": \"black\", \"family\": \"Rockwell\", \"size\": 8}, \"title\": {\"text\": \"Delito\"}}, \"yaxis\": {\"anchor\": \"x\", \"domain\": [0.0, 1.0], \"title\": {\"text\": \"Frecuencia del delito\"}}},\n",
       "                        {\"responsive\": true}\n",
       "                    ).then(function(){\n",
       "                            \n",
       "var gd = document.getElementById('5d70eeb0-62a6-4e31-bc39-65f26303a21e');\n",
       "var x = new MutationObserver(function (mutations, observer) {{\n",
       "        var display = window.getComputedStyle(gd).display;\n",
       "        if (!display || display === 'none') {{\n",
       "            console.log([gd, 'removed!']);\n",
       "            Plotly.purge(gd);\n",
       "            observer.disconnect();\n",
       "        }}\n",
       "}});\n",
       "\n",
       "// Listen for the removal of the full notebook cells\n",
       "var notebookContainer = gd.closest('#notebook-container');\n",
       "if (notebookContainer) {{\n",
       "    x.observe(notebookContainer, {childList: true});\n",
       "}}\n",
       "\n",
       "// Listen for the clearing of the current output cell\n",
       "var outputEl = gd.closest('.output');\n",
       "if (outputEl) {{\n",
       "    x.observe(outputEl, {childList: true});\n",
       "}}\n",
       "\n",
       "                        })\n",
       "                };\n",
       "                });\n",
       "            </script>\n",
       "        </div>"
      ]
     },
     "metadata": {},
     "output_type": "display_data"
    }
   ],
   "source": [
    "fig = px.bar(df_genero, x='TITULO_DELITO', y='INTERNOEN',\n",
    "             hover_data=[\"GENERO\",'TITULO_DELITO'], color='GENERO',\n",
    "             labels={'INTERNOEN':'Frecuencia del delito',\"TITULO_DELITO\":\"Delito\"}, height=400, barmode='relative', text=\"INTERNOEN\")\n",
    "fig.update_traces(texttemplate='%{text:.2s}', textposition='outside')\n",
    "fig.update_layout(uniformtext_minsize=7, uniformtext_mode='hide', xaxis_tickangle=-45, showlegend=True, autosize=False,\n",
    "                 width=800, height=700, margin=dict(l=50, r=50, b=100, t=100, pad=4 ),\n",
    "                  title=\"Crimenes más cometidos por género\",\n",
    "                 )\n",
    "fig.update_xaxes( tickfont=dict(family='Rockwell', color='black', size=8)) #tickangle=45,\n",
    "\n",
    "fig.show()\n",
    "\n",
    "fig.write_image(\"fig1.png\")"
   ]
  },
  {
   "cell_type": "code",
   "execution_count": 27,
   "metadata": {
    "scrolled": false
   },
   "outputs": [
    {
     "data": {
      "application/vnd.plotly.v1+json": {
       "config": {
        "plotlyServerURL": "https://plot.ly"
       },
       "data": [
        {
         "alignmentgroup": "True",
         "customdata": [
          [
           "FEMENINO",
           "AMAZONAS"
          ],
          [
           "FEMENINO",
           "ANTIOQUIA"
          ],
          [
           "FEMENINO",
           "ARAUCA"
          ],
          [
           "FEMENINO",
           "ATLANTICO"
          ],
          [
           "FEMENINO",
           "BOGOTA D.C."
          ],
          [
           "FEMENINO",
           "BOLIVAR"
          ],
          [
           "FEMENINO",
           "BOYACA"
          ],
          [
           "FEMENINO",
           "CALDAS"
          ],
          [
           "FEMENINO",
           "CAQUETA"
          ],
          [
           "FEMENINO",
           "CASANARE"
          ],
          [
           "FEMENINO",
           "CAUCA"
          ],
          [
           "FEMENINO",
           "CESAR"
          ],
          [
           "FEMENINO",
           "CHOCO"
          ],
          [
           "FEMENINO",
           "CORDOBA"
          ],
          [
           "FEMENINO",
           "CUNDINAMARCA"
          ],
          [
           "FEMENINO",
           "HUILA"
          ],
          [
           "FEMENINO",
           "LA GUAJIRA"
          ],
          [
           "FEMENINO",
           "MAGDALENA"
          ],
          [
           "FEMENINO",
           "META"
          ],
          [
           "FEMENINO",
           "NARIÑO"
          ],
          [
           "FEMENINO",
           "NORTE DE SANTANDER"
          ],
          [
           "FEMENINO",
           "PUTUMAYO"
          ],
          [
           "FEMENINO",
           "QUINDIO"
          ],
          [
           "FEMENINO",
           "RISARALDA"
          ],
          [
           "FEMENINO",
           "SAN ANDRES Y PROVIDENCIA"
          ],
          [
           "FEMENINO",
           "SANTANDER"
          ],
          [
           "FEMENINO",
           "SUCRE"
          ],
          [
           "FEMENINO",
           "TOLIMA"
          ],
          [
           "FEMENINO",
           "VALLE DEL CAUCA"
          ]
         ],
         "hovertemplate": "GENERO=%{customdata[0]}<br>Departamento=%{customdata[1]}<br>Frecuencia del delito=%{text}<extra></extra>",
         "legendgroup": "FEMENINO",
         "marker": {
          "color": "#636efa"
         },
         "name": "FEMENINO",
         "offsetgroup": "FEMENINO",
         "orientation": "v",
         "showlegend": true,
         "text": [
          26,
          1691,
          14,
          73,
          2459,
          17,
          353,
          390,
          116,
          112,
          361,
          91,
          38,
          103,
          46,
          442,
          15,
          101,
          283,
          518,
          329,
          39,
          308,
          443,
          11,
          610,
          125,
          440,
          1436
         ],
         "textposition": "outside",
         "texttemplate": "%{text:.2s}",
         "type": "bar",
         "x": [
          "AMAZONAS",
          "ANTIOQUIA",
          "ARAUCA",
          "ATLANTICO",
          "BOGOTA D.C.",
          "BOLIVAR",
          "BOYACA",
          "CALDAS",
          "CAQUETA",
          "CASANARE",
          "CAUCA",
          "CESAR",
          "CHOCO",
          "CORDOBA",
          "CUNDINAMARCA",
          "HUILA",
          "LA GUAJIRA",
          "MAGDALENA",
          "META",
          "NARIÑO",
          "NORTE DE SANTANDER",
          "PUTUMAYO",
          "QUINDIO",
          "RISARALDA",
          "SAN ANDRES Y PROVIDENCIA",
          "SANTANDER",
          "SUCRE",
          "TOLIMA",
          "VALLE DEL CAUCA"
         ],
         "xaxis": "x",
         "y": [
          26,
          1691,
          14,
          73,
          2459,
          17,
          353,
          390,
          116,
          112,
          361,
          91,
          38,
          103,
          46,
          442,
          15,
          101,
          283,
          518,
          329,
          39,
          308,
          443,
          11,
          610,
          125,
          440,
          1436
         ],
         "yaxis": "y"
        },
        {
         "alignmentgroup": "True",
         "customdata": [
          [
           "MASCULINO",
           "AMAZONAS"
          ],
          [
           "MASCULINO",
           "ANTIOQUIA"
          ],
          [
           "MASCULINO",
           "ARAUCA"
          ],
          [
           "MASCULINO",
           "ATLANTICO"
          ],
          [
           "MASCULINO",
           "BOGOTA D.C."
          ],
          [
           "MASCULINO",
           "BOLIVAR"
          ],
          [
           "MASCULINO",
           "BOYACA"
          ],
          [
           "MASCULINO",
           "CALDAS"
          ],
          [
           "MASCULINO",
           "CAQUETA"
          ],
          [
           "MASCULINO",
           "CASANARE"
          ],
          [
           "MASCULINO",
           "CAUCA"
          ],
          [
           "MASCULINO",
           "CESAR"
          ],
          [
           "MASCULINO",
           "CHOCO"
          ],
          [
           "MASCULINO",
           "CORDOBA"
          ],
          [
           "MASCULINO",
           "CUNDINAMARCA"
          ],
          [
           "MASCULINO",
           "HUILA"
          ],
          [
           "MASCULINO",
           "LA GUAJIRA"
          ],
          [
           "MASCULINO",
           "MAGDALENA"
          ],
          [
           "MASCULINO",
           "META"
          ],
          [
           "MASCULINO",
           "NARIÑO"
          ],
          [
           "MASCULINO",
           "NORTE DE SANTANDER"
          ],
          [
           "MASCULINO",
           "PUTUMAYO"
          ],
          [
           "MASCULINO",
           "QUINDIO"
          ],
          [
           "MASCULINO",
           "RISARALDA"
          ],
          [
           "MASCULINO",
           "SAN ANDRES Y PROVIDENCIA"
          ],
          [
           "MASCULINO",
           "SANTANDER"
          ],
          [
           "MASCULINO",
           "SUCRE"
          ],
          [
           "MASCULINO",
           "TOLIMA"
          ],
          [
           "MASCULINO",
           "VALLE DEL CAUCA"
          ]
         ],
         "hovertemplate": "GENERO=%{customdata[0]}<br>Departamento=%{customdata[1]}<br>Frecuencia del delito=%{text}<extra></extra>",
         "legendgroup": "MASCULINO",
         "marker": {
          "color": "#EF553B"
         },
         "name": "MASCULINO",
         "offsetgroup": "MASCULINO",
         "orientation": "v",
         "showlegend": true,
         "text": [
          323,
          16900,
          499,
          2491,
          16549,
          1914,
          6934,
          4906,
          2169,
          1729,
          4296,
          2022,
          603,
          2942,
          5721,
          4750,
          441,
          1351,
          7713,
          3638,
          4092,
          339,
          2296,
          2772,
          241,
          8664,
          1347,
          5566,
          15910
         ],
         "textposition": "outside",
         "texttemplate": "%{text:.2s}",
         "type": "bar",
         "x": [
          "AMAZONAS",
          "ANTIOQUIA",
          "ARAUCA",
          "ATLANTICO",
          "BOGOTA D.C.",
          "BOLIVAR",
          "BOYACA",
          "CALDAS",
          "CAQUETA",
          "CASANARE",
          "CAUCA",
          "CESAR",
          "CHOCO",
          "CORDOBA",
          "CUNDINAMARCA",
          "HUILA",
          "LA GUAJIRA",
          "MAGDALENA",
          "META",
          "NARIÑO",
          "NORTE DE SANTANDER",
          "PUTUMAYO",
          "QUINDIO",
          "RISARALDA",
          "SAN ANDRES Y PROVIDENCIA",
          "SANTANDER",
          "SUCRE",
          "TOLIMA",
          "VALLE DEL CAUCA"
         ],
         "xaxis": "x",
         "y": [
          323,
          16900,
          499,
          2491,
          16549,
          1914,
          6934,
          4906,
          2169,
          1729,
          4296,
          2022,
          603,
          2942,
          5721,
          4750,
          441,
          1351,
          7713,
          3638,
          4092,
          339,
          2296,
          2772,
          241,
          8664,
          1347,
          5566,
          15910
         ],
         "yaxis": "y"
        }
       ],
       "layout": {
        "autosize": false,
        "barmode": "relative",
        "height": 700,
        "legend": {
         "title": {
          "text": "GENERO"
         },
         "tracegroupgap": 0
        },
        "margin": {
         "b": 100,
         "l": 50,
         "pad": 4,
         "r": 50,
         "t": 100
        },
        "showlegend": true,
        "template": {
         "data": {
          "bar": [
           {
            "error_x": {
             "color": "#2a3f5f"
            },
            "error_y": {
             "color": "#2a3f5f"
            },
            "marker": {
             "line": {
              "color": "#E5ECF6",
              "width": 0.5
             }
            },
            "type": "bar"
           }
          ],
          "barpolar": [
           {
            "marker": {
             "line": {
              "color": "#E5ECF6",
              "width": 0.5
             }
            },
            "type": "barpolar"
           }
          ],
          "carpet": [
           {
            "aaxis": {
             "endlinecolor": "#2a3f5f",
             "gridcolor": "white",
             "linecolor": "white",
             "minorgridcolor": "white",
             "startlinecolor": "#2a3f5f"
            },
            "baxis": {
             "endlinecolor": "#2a3f5f",
             "gridcolor": "white",
             "linecolor": "white",
             "minorgridcolor": "white",
             "startlinecolor": "#2a3f5f"
            },
            "type": "carpet"
           }
          ],
          "choropleth": [
           {
            "colorbar": {
             "outlinewidth": 0,
             "ticks": ""
            },
            "type": "choropleth"
           }
          ],
          "contour": [
           {
            "colorbar": {
             "outlinewidth": 0,
             "ticks": ""
            },
            "colorscale": [
             [
              0,
              "#0d0887"
             ],
             [
              0.1111111111111111,
              "#46039f"
             ],
             [
              0.2222222222222222,
              "#7201a8"
             ],
             [
              0.3333333333333333,
              "#9c179e"
             ],
             [
              0.4444444444444444,
              "#bd3786"
             ],
             [
              0.5555555555555556,
              "#d8576b"
             ],
             [
              0.6666666666666666,
              "#ed7953"
             ],
             [
              0.7777777777777778,
              "#fb9f3a"
             ],
             [
              0.8888888888888888,
              "#fdca26"
             ],
             [
              1,
              "#f0f921"
             ]
            ],
            "type": "contour"
           }
          ],
          "contourcarpet": [
           {
            "colorbar": {
             "outlinewidth": 0,
             "ticks": ""
            },
            "type": "contourcarpet"
           }
          ],
          "heatmap": [
           {
            "colorbar": {
             "outlinewidth": 0,
             "ticks": ""
            },
            "colorscale": [
             [
              0,
              "#0d0887"
             ],
             [
              0.1111111111111111,
              "#46039f"
             ],
             [
              0.2222222222222222,
              "#7201a8"
             ],
             [
              0.3333333333333333,
              "#9c179e"
             ],
             [
              0.4444444444444444,
              "#bd3786"
             ],
             [
              0.5555555555555556,
              "#d8576b"
             ],
             [
              0.6666666666666666,
              "#ed7953"
             ],
             [
              0.7777777777777778,
              "#fb9f3a"
             ],
             [
              0.8888888888888888,
              "#fdca26"
             ],
             [
              1,
              "#f0f921"
             ]
            ],
            "type": "heatmap"
           }
          ],
          "heatmapgl": [
           {
            "colorbar": {
             "outlinewidth": 0,
             "ticks": ""
            },
            "colorscale": [
             [
              0,
              "#0d0887"
             ],
             [
              0.1111111111111111,
              "#46039f"
             ],
             [
              0.2222222222222222,
              "#7201a8"
             ],
             [
              0.3333333333333333,
              "#9c179e"
             ],
             [
              0.4444444444444444,
              "#bd3786"
             ],
             [
              0.5555555555555556,
              "#d8576b"
             ],
             [
              0.6666666666666666,
              "#ed7953"
             ],
             [
              0.7777777777777778,
              "#fb9f3a"
             ],
             [
              0.8888888888888888,
              "#fdca26"
             ],
             [
              1,
              "#f0f921"
             ]
            ],
            "type": "heatmapgl"
           }
          ],
          "histogram": [
           {
            "marker": {
             "colorbar": {
              "outlinewidth": 0,
              "ticks": ""
             }
            },
            "type": "histogram"
           }
          ],
          "histogram2d": [
           {
            "colorbar": {
             "outlinewidth": 0,
             "ticks": ""
            },
            "colorscale": [
             [
              0,
              "#0d0887"
             ],
             [
              0.1111111111111111,
              "#46039f"
             ],
             [
              0.2222222222222222,
              "#7201a8"
             ],
             [
              0.3333333333333333,
              "#9c179e"
             ],
             [
              0.4444444444444444,
              "#bd3786"
             ],
             [
              0.5555555555555556,
              "#d8576b"
             ],
             [
              0.6666666666666666,
              "#ed7953"
             ],
             [
              0.7777777777777778,
              "#fb9f3a"
             ],
             [
              0.8888888888888888,
              "#fdca26"
             ],
             [
              1,
              "#f0f921"
             ]
            ],
            "type": "histogram2d"
           }
          ],
          "histogram2dcontour": [
           {
            "colorbar": {
             "outlinewidth": 0,
             "ticks": ""
            },
            "colorscale": [
             [
              0,
              "#0d0887"
             ],
             [
              0.1111111111111111,
              "#46039f"
             ],
             [
              0.2222222222222222,
              "#7201a8"
             ],
             [
              0.3333333333333333,
              "#9c179e"
             ],
             [
              0.4444444444444444,
              "#bd3786"
             ],
             [
              0.5555555555555556,
              "#d8576b"
             ],
             [
              0.6666666666666666,
              "#ed7953"
             ],
             [
              0.7777777777777778,
              "#fb9f3a"
             ],
             [
              0.8888888888888888,
              "#fdca26"
             ],
             [
              1,
              "#f0f921"
             ]
            ],
            "type": "histogram2dcontour"
           }
          ],
          "mesh3d": [
           {
            "colorbar": {
             "outlinewidth": 0,
             "ticks": ""
            },
            "type": "mesh3d"
           }
          ],
          "parcoords": [
           {
            "line": {
             "colorbar": {
              "outlinewidth": 0,
              "ticks": ""
             }
            },
            "type": "parcoords"
           }
          ],
          "pie": [
           {
            "automargin": true,
            "type": "pie"
           }
          ],
          "scatter": [
           {
            "marker": {
             "colorbar": {
              "outlinewidth": 0,
              "ticks": ""
             }
            },
            "type": "scatter"
           }
          ],
          "scatter3d": [
           {
            "line": {
             "colorbar": {
              "outlinewidth": 0,
              "ticks": ""
             }
            },
            "marker": {
             "colorbar": {
              "outlinewidth": 0,
              "ticks": ""
             }
            },
            "type": "scatter3d"
           }
          ],
          "scattercarpet": [
           {
            "marker": {
             "colorbar": {
              "outlinewidth": 0,
              "ticks": ""
             }
            },
            "type": "scattercarpet"
           }
          ],
          "scattergeo": [
           {
            "marker": {
             "colorbar": {
              "outlinewidth": 0,
              "ticks": ""
             }
            },
            "type": "scattergeo"
           }
          ],
          "scattergl": [
           {
            "marker": {
             "colorbar": {
              "outlinewidth": 0,
              "ticks": ""
             }
            },
            "type": "scattergl"
           }
          ],
          "scattermapbox": [
           {
            "marker": {
             "colorbar": {
              "outlinewidth": 0,
              "ticks": ""
             }
            },
            "type": "scattermapbox"
           }
          ],
          "scatterpolar": [
           {
            "marker": {
             "colorbar": {
              "outlinewidth": 0,
              "ticks": ""
             }
            },
            "type": "scatterpolar"
           }
          ],
          "scatterpolargl": [
           {
            "marker": {
             "colorbar": {
              "outlinewidth": 0,
              "ticks": ""
             }
            },
            "type": "scatterpolargl"
           }
          ],
          "scatterternary": [
           {
            "marker": {
             "colorbar": {
              "outlinewidth": 0,
              "ticks": ""
             }
            },
            "type": "scatterternary"
           }
          ],
          "surface": [
           {
            "colorbar": {
             "outlinewidth": 0,
             "ticks": ""
            },
            "colorscale": [
             [
              0,
              "#0d0887"
             ],
             [
              0.1111111111111111,
              "#46039f"
             ],
             [
              0.2222222222222222,
              "#7201a8"
             ],
             [
              0.3333333333333333,
              "#9c179e"
             ],
             [
              0.4444444444444444,
              "#bd3786"
             ],
             [
              0.5555555555555556,
              "#d8576b"
             ],
             [
              0.6666666666666666,
              "#ed7953"
             ],
             [
              0.7777777777777778,
              "#fb9f3a"
             ],
             [
              0.8888888888888888,
              "#fdca26"
             ],
             [
              1,
              "#f0f921"
             ]
            ],
            "type": "surface"
           }
          ],
          "table": [
           {
            "cells": {
             "fill": {
              "color": "#EBF0F8"
             },
             "line": {
              "color": "white"
             }
            },
            "header": {
             "fill": {
              "color": "#C8D4E3"
             },
             "line": {
              "color": "white"
             }
            },
            "type": "table"
           }
          ]
         },
         "layout": {
          "annotationdefaults": {
           "arrowcolor": "#2a3f5f",
           "arrowhead": 0,
           "arrowwidth": 1
          },
          "coloraxis": {
           "colorbar": {
            "outlinewidth": 0,
            "ticks": ""
           }
          },
          "colorscale": {
           "diverging": [
            [
             0,
             "#8e0152"
            ],
            [
             0.1,
             "#c51b7d"
            ],
            [
             0.2,
             "#de77ae"
            ],
            [
             0.3,
             "#f1b6da"
            ],
            [
             0.4,
             "#fde0ef"
            ],
            [
             0.5,
             "#f7f7f7"
            ],
            [
             0.6,
             "#e6f5d0"
            ],
            [
             0.7,
             "#b8e186"
            ],
            [
             0.8,
             "#7fbc41"
            ],
            [
             0.9,
             "#4d9221"
            ],
            [
             1,
             "#276419"
            ]
           ],
           "sequential": [
            [
             0,
             "#0d0887"
            ],
            [
             0.1111111111111111,
             "#46039f"
            ],
            [
             0.2222222222222222,
             "#7201a8"
            ],
            [
             0.3333333333333333,
             "#9c179e"
            ],
            [
             0.4444444444444444,
             "#bd3786"
            ],
            [
             0.5555555555555556,
             "#d8576b"
            ],
            [
             0.6666666666666666,
             "#ed7953"
            ],
            [
             0.7777777777777778,
             "#fb9f3a"
            ],
            [
             0.8888888888888888,
             "#fdca26"
            ],
            [
             1,
             "#f0f921"
            ]
           ],
           "sequentialminus": [
            [
             0,
             "#0d0887"
            ],
            [
             0.1111111111111111,
             "#46039f"
            ],
            [
             0.2222222222222222,
             "#7201a8"
            ],
            [
             0.3333333333333333,
             "#9c179e"
            ],
            [
             0.4444444444444444,
             "#bd3786"
            ],
            [
             0.5555555555555556,
             "#d8576b"
            ],
            [
             0.6666666666666666,
             "#ed7953"
            ],
            [
             0.7777777777777778,
             "#fb9f3a"
            ],
            [
             0.8888888888888888,
             "#fdca26"
            ],
            [
             1,
             "#f0f921"
            ]
           ]
          },
          "colorway": [
           "#636efa",
           "#EF553B",
           "#00cc96",
           "#ab63fa",
           "#FFA15A",
           "#19d3f3",
           "#FF6692",
           "#B6E880",
           "#FF97FF",
           "#FECB52"
          ],
          "font": {
           "color": "#2a3f5f"
          },
          "geo": {
           "bgcolor": "white",
           "lakecolor": "white",
           "landcolor": "#E5ECF6",
           "showlakes": true,
           "showland": true,
           "subunitcolor": "white"
          },
          "hoverlabel": {
           "align": "left"
          },
          "hovermode": "closest",
          "mapbox": {
           "style": "light"
          },
          "paper_bgcolor": "white",
          "plot_bgcolor": "#E5ECF6",
          "polar": {
           "angularaxis": {
            "gridcolor": "white",
            "linecolor": "white",
            "ticks": ""
           },
           "bgcolor": "#E5ECF6",
           "radialaxis": {
            "gridcolor": "white",
            "linecolor": "white",
            "ticks": ""
           }
          },
          "scene": {
           "xaxis": {
            "backgroundcolor": "#E5ECF6",
            "gridcolor": "white",
            "gridwidth": 2,
            "linecolor": "white",
            "showbackground": true,
            "ticks": "",
            "zerolinecolor": "white"
           },
           "yaxis": {
            "backgroundcolor": "#E5ECF6",
            "gridcolor": "white",
            "gridwidth": 2,
            "linecolor": "white",
            "showbackground": true,
            "ticks": "",
            "zerolinecolor": "white"
           },
           "zaxis": {
            "backgroundcolor": "#E5ECF6",
            "gridcolor": "white",
            "gridwidth": 2,
            "linecolor": "white",
            "showbackground": true,
            "ticks": "",
            "zerolinecolor": "white"
           }
          },
          "shapedefaults": {
           "line": {
            "color": "#2a3f5f"
           }
          },
          "ternary": {
           "aaxis": {
            "gridcolor": "white",
            "linecolor": "white",
            "ticks": ""
           },
           "baxis": {
            "gridcolor": "white",
            "linecolor": "white",
            "ticks": ""
           },
           "bgcolor": "#E5ECF6",
           "caxis": {
            "gridcolor": "white",
            "linecolor": "white",
            "ticks": ""
           }
          },
          "title": {
           "x": 0.05
          },
          "xaxis": {
           "automargin": true,
           "gridcolor": "white",
           "linecolor": "white",
           "ticks": "",
           "title": {
            "standoff": 15
           },
           "zerolinecolor": "white",
           "zerolinewidth": 2
          },
          "yaxis": {
           "automargin": true,
           "gridcolor": "white",
           "linecolor": "white",
           "ticks": "",
           "title": {
            "standoff": 15
           },
           "zerolinecolor": "white",
           "zerolinewidth": 2
          }
         }
        },
        "title": {
         "text": "Distribucion geografica de los delitos"
        },
        "uniformtext": {
         "minsize": 6,
         "mode": "hide"
        },
        "width": 900,
        "xaxis": {
         "anchor": "y",
         "domain": [
          0,
          1
         ],
         "tickangle": -45,
         "tickfont": {
          "color": "black",
          "family": "Rockwell",
          "size": 8
         },
         "title": {
          "text": "Departamento"
         }
        },
        "yaxis": {
         "anchor": "x",
         "domain": [
          0,
          1
         ],
         "title": {
          "text": "Frecuencia del delito"
         }
        }
       }
      },
      "text/html": [
       "<div>\n",
       "        \n",
       "        \n",
       "            <div id=\"5ee0d47d-793c-42da-a5bf-ea5b5f23f5c8\" class=\"plotly-graph-div\" style=\"height:700px; width:900px;\"></div>\n",
       "            <script type=\"text/javascript\">\n",
       "                require([\"plotly\"], function(Plotly) {\n",
       "                    window.PLOTLYENV=window.PLOTLYENV || {};\n",
       "                    \n",
       "                if (document.getElementById(\"5ee0d47d-793c-42da-a5bf-ea5b5f23f5c8\")) {\n",
       "                    Plotly.newPlot(\n",
       "                        '5ee0d47d-793c-42da-a5bf-ea5b5f23f5c8',\n",
       "                        [{\"alignmentgroup\": \"True\", \"customdata\": [[\"FEMENINO\", \"AMAZONAS\"], [\"FEMENINO\", \"ANTIOQUIA\"], [\"FEMENINO\", \"ARAUCA\"], [\"FEMENINO\", \"ATLANTICO\"], [\"FEMENINO\", \"BOGOTA D.C.\"], [\"FEMENINO\", \"BOLIVAR\"], [\"FEMENINO\", \"BOYACA\"], [\"FEMENINO\", \"CALDAS\"], [\"FEMENINO\", \"CAQUETA\"], [\"FEMENINO\", \"CASANARE\"], [\"FEMENINO\", \"CAUCA\"], [\"FEMENINO\", \"CESAR\"], [\"FEMENINO\", \"CHOCO\"], [\"FEMENINO\", \"CORDOBA\"], [\"FEMENINO\", \"CUNDINAMARCA\"], [\"FEMENINO\", \"HUILA\"], [\"FEMENINO\", \"LA GUAJIRA\"], [\"FEMENINO\", \"MAGDALENA\"], [\"FEMENINO\", \"META\"], [\"FEMENINO\", \"NARI\\u00d1O\"], [\"FEMENINO\", \"NORTE DE SANTANDER\"], [\"FEMENINO\", \"PUTUMAYO\"], [\"FEMENINO\", \"QUINDIO\"], [\"FEMENINO\", \"RISARALDA\"], [\"FEMENINO\", \"SAN ANDRES Y PROVIDENCIA\"], [\"FEMENINO\", \"SANTANDER\"], [\"FEMENINO\", \"SUCRE\"], [\"FEMENINO\", \"TOLIMA\"], [\"FEMENINO\", \"VALLE DEL CAUCA\"]], \"hovertemplate\": \"GENERO=%{customdata[0]}<br>Departamento=%{customdata[1]}<br>Frecuencia del delito=%{text}<extra></extra>\", \"legendgroup\": \"FEMENINO\", \"marker\": {\"color\": \"#636efa\"}, \"name\": \"FEMENINO\", \"offsetgroup\": \"FEMENINO\", \"orientation\": \"v\", \"showlegend\": true, \"text\": [26.0, 1691.0, 14.0, 73.0, 2459.0, 17.0, 353.0, 390.0, 116.0, 112.0, 361.0, 91.0, 38.0, 103.0, 46.0, 442.0, 15.0, 101.0, 283.0, 518.0, 329.0, 39.0, 308.0, 443.0, 11.0, 610.0, 125.0, 440.0, 1436.0], \"textposition\": \"outside\", \"texttemplate\": \"%{text:.2s}\", \"type\": \"bar\", \"x\": [\"AMAZONAS\", \"ANTIOQUIA\", \"ARAUCA\", \"ATLANTICO\", \"BOGOTA D.C.\", \"BOLIVAR\", \"BOYACA\", \"CALDAS\", \"CAQUETA\", \"CASANARE\", \"CAUCA\", \"CESAR\", \"CHOCO\", \"CORDOBA\", \"CUNDINAMARCA\", \"HUILA\", \"LA GUAJIRA\", \"MAGDALENA\", \"META\", \"NARI\\u00d1O\", \"NORTE DE SANTANDER\", \"PUTUMAYO\", \"QUINDIO\", \"RISARALDA\", \"SAN ANDRES Y PROVIDENCIA\", \"SANTANDER\", \"SUCRE\", \"TOLIMA\", \"VALLE DEL CAUCA\"], \"xaxis\": \"x\", \"y\": [26, 1691, 14, 73, 2459, 17, 353, 390, 116, 112, 361, 91, 38, 103, 46, 442, 15, 101, 283, 518, 329, 39, 308, 443, 11, 610, 125, 440, 1436], \"yaxis\": \"y\"}, {\"alignmentgroup\": \"True\", \"customdata\": [[\"MASCULINO\", \"AMAZONAS\"], [\"MASCULINO\", \"ANTIOQUIA\"], [\"MASCULINO\", \"ARAUCA\"], [\"MASCULINO\", \"ATLANTICO\"], [\"MASCULINO\", \"BOGOTA D.C.\"], [\"MASCULINO\", \"BOLIVAR\"], [\"MASCULINO\", \"BOYACA\"], [\"MASCULINO\", \"CALDAS\"], [\"MASCULINO\", \"CAQUETA\"], [\"MASCULINO\", \"CASANARE\"], [\"MASCULINO\", \"CAUCA\"], [\"MASCULINO\", \"CESAR\"], [\"MASCULINO\", \"CHOCO\"], [\"MASCULINO\", \"CORDOBA\"], [\"MASCULINO\", \"CUNDINAMARCA\"], [\"MASCULINO\", \"HUILA\"], [\"MASCULINO\", \"LA GUAJIRA\"], [\"MASCULINO\", \"MAGDALENA\"], [\"MASCULINO\", \"META\"], [\"MASCULINO\", \"NARI\\u00d1O\"], [\"MASCULINO\", \"NORTE DE SANTANDER\"], [\"MASCULINO\", \"PUTUMAYO\"], [\"MASCULINO\", \"QUINDIO\"], [\"MASCULINO\", \"RISARALDA\"], [\"MASCULINO\", \"SAN ANDRES Y PROVIDENCIA\"], [\"MASCULINO\", \"SANTANDER\"], [\"MASCULINO\", \"SUCRE\"], [\"MASCULINO\", \"TOLIMA\"], [\"MASCULINO\", \"VALLE DEL CAUCA\"]], \"hovertemplate\": \"GENERO=%{customdata[0]}<br>Departamento=%{customdata[1]}<br>Frecuencia del delito=%{text}<extra></extra>\", \"legendgroup\": \"MASCULINO\", \"marker\": {\"color\": \"#EF553B\"}, \"name\": \"MASCULINO\", \"offsetgroup\": \"MASCULINO\", \"orientation\": \"v\", \"showlegend\": true, \"text\": [323.0, 16900.0, 499.0, 2491.0, 16549.0, 1914.0, 6934.0, 4906.0, 2169.0, 1729.0, 4296.0, 2022.0, 603.0, 2942.0, 5721.0, 4750.0, 441.0, 1351.0, 7713.0, 3638.0, 4092.0, 339.0, 2296.0, 2772.0, 241.0, 8664.0, 1347.0, 5566.0, 15910.0], \"textposition\": \"outside\", \"texttemplate\": \"%{text:.2s}\", \"type\": \"bar\", \"x\": [\"AMAZONAS\", \"ANTIOQUIA\", \"ARAUCA\", \"ATLANTICO\", \"BOGOTA D.C.\", \"BOLIVAR\", \"BOYACA\", \"CALDAS\", \"CAQUETA\", \"CASANARE\", \"CAUCA\", \"CESAR\", \"CHOCO\", \"CORDOBA\", \"CUNDINAMARCA\", \"HUILA\", \"LA GUAJIRA\", \"MAGDALENA\", \"META\", \"NARI\\u00d1O\", \"NORTE DE SANTANDER\", \"PUTUMAYO\", \"QUINDIO\", \"RISARALDA\", \"SAN ANDRES Y PROVIDENCIA\", \"SANTANDER\", \"SUCRE\", \"TOLIMA\", \"VALLE DEL CAUCA\"], \"xaxis\": \"x\", \"y\": [323, 16900, 499, 2491, 16549, 1914, 6934, 4906, 2169, 1729, 4296, 2022, 603, 2942, 5721, 4750, 441, 1351, 7713, 3638, 4092, 339, 2296, 2772, 241, 8664, 1347, 5566, 15910], \"yaxis\": \"y\"}],\n",
       "                        {\"autosize\": false, \"barmode\": \"relative\", \"height\": 700, \"legend\": {\"title\": {\"text\": \"GENERO\"}, \"tracegroupgap\": 0}, \"margin\": {\"b\": 100, \"l\": 50, \"pad\": 4, \"r\": 50, \"t\": 100}, \"showlegend\": true, \"template\": {\"data\": {\"bar\": [{\"error_x\": {\"color\": \"#2a3f5f\"}, \"error_y\": {\"color\": \"#2a3f5f\"}, \"marker\": {\"line\": {\"color\": \"#E5ECF6\", \"width\": 0.5}}, \"type\": \"bar\"}], \"barpolar\": [{\"marker\": {\"line\": {\"color\": \"#E5ECF6\", \"width\": 0.5}}, \"type\": \"barpolar\"}], \"carpet\": [{\"aaxis\": {\"endlinecolor\": \"#2a3f5f\", \"gridcolor\": \"white\", \"linecolor\": \"white\", \"minorgridcolor\": \"white\", \"startlinecolor\": \"#2a3f5f\"}, \"baxis\": {\"endlinecolor\": \"#2a3f5f\", \"gridcolor\": \"white\", \"linecolor\": \"white\", \"minorgridcolor\": \"white\", \"startlinecolor\": \"#2a3f5f\"}, \"type\": \"carpet\"}], \"choropleth\": [{\"colorbar\": {\"outlinewidth\": 0, \"ticks\": \"\"}, \"type\": \"choropleth\"}], \"contour\": [{\"colorbar\": {\"outlinewidth\": 0, \"ticks\": \"\"}, \"colorscale\": [[0.0, \"#0d0887\"], [0.1111111111111111, \"#46039f\"], [0.2222222222222222, \"#7201a8\"], [0.3333333333333333, \"#9c179e\"], [0.4444444444444444, \"#bd3786\"], [0.5555555555555556, \"#d8576b\"], [0.6666666666666666, \"#ed7953\"], [0.7777777777777778, \"#fb9f3a\"], [0.8888888888888888, \"#fdca26\"], [1.0, \"#f0f921\"]], \"type\": \"contour\"}], \"contourcarpet\": [{\"colorbar\": {\"outlinewidth\": 0, \"ticks\": \"\"}, \"type\": \"contourcarpet\"}], \"heatmap\": [{\"colorbar\": {\"outlinewidth\": 0, \"ticks\": \"\"}, \"colorscale\": [[0.0, \"#0d0887\"], [0.1111111111111111, \"#46039f\"], [0.2222222222222222, \"#7201a8\"], [0.3333333333333333, \"#9c179e\"], [0.4444444444444444, \"#bd3786\"], [0.5555555555555556, \"#d8576b\"], [0.6666666666666666, \"#ed7953\"], [0.7777777777777778, \"#fb9f3a\"], [0.8888888888888888, \"#fdca26\"], [1.0, \"#f0f921\"]], \"type\": \"heatmap\"}], \"heatmapgl\": [{\"colorbar\": {\"outlinewidth\": 0, \"ticks\": \"\"}, \"colorscale\": [[0.0, \"#0d0887\"], [0.1111111111111111, \"#46039f\"], [0.2222222222222222, \"#7201a8\"], [0.3333333333333333, \"#9c179e\"], [0.4444444444444444, \"#bd3786\"], [0.5555555555555556, \"#d8576b\"], [0.6666666666666666, \"#ed7953\"], [0.7777777777777778, \"#fb9f3a\"], [0.8888888888888888, \"#fdca26\"], [1.0, \"#f0f921\"]], \"type\": \"heatmapgl\"}], \"histogram\": [{\"marker\": {\"colorbar\": {\"outlinewidth\": 0, \"ticks\": \"\"}}, \"type\": \"histogram\"}], \"histogram2d\": [{\"colorbar\": {\"outlinewidth\": 0, \"ticks\": \"\"}, \"colorscale\": [[0.0, \"#0d0887\"], [0.1111111111111111, \"#46039f\"], [0.2222222222222222, \"#7201a8\"], [0.3333333333333333, \"#9c179e\"], [0.4444444444444444, \"#bd3786\"], [0.5555555555555556, \"#d8576b\"], [0.6666666666666666, \"#ed7953\"], [0.7777777777777778, \"#fb9f3a\"], [0.8888888888888888, \"#fdca26\"], [1.0, \"#f0f921\"]], \"type\": \"histogram2d\"}], \"histogram2dcontour\": [{\"colorbar\": {\"outlinewidth\": 0, \"ticks\": \"\"}, \"colorscale\": [[0.0, \"#0d0887\"], [0.1111111111111111, \"#46039f\"], [0.2222222222222222, \"#7201a8\"], [0.3333333333333333, \"#9c179e\"], [0.4444444444444444, \"#bd3786\"], [0.5555555555555556, \"#d8576b\"], [0.6666666666666666, \"#ed7953\"], [0.7777777777777778, \"#fb9f3a\"], [0.8888888888888888, \"#fdca26\"], [1.0, \"#f0f921\"]], \"type\": \"histogram2dcontour\"}], \"mesh3d\": [{\"colorbar\": {\"outlinewidth\": 0, \"ticks\": \"\"}, \"type\": \"mesh3d\"}], \"parcoords\": [{\"line\": {\"colorbar\": {\"outlinewidth\": 0, \"ticks\": \"\"}}, \"type\": \"parcoords\"}], \"pie\": [{\"automargin\": true, \"type\": \"pie\"}], \"scatter\": [{\"marker\": {\"colorbar\": {\"outlinewidth\": 0, \"ticks\": \"\"}}, \"type\": \"scatter\"}], \"scatter3d\": [{\"line\": {\"colorbar\": {\"outlinewidth\": 0, \"ticks\": \"\"}}, \"marker\": {\"colorbar\": {\"outlinewidth\": 0, \"ticks\": \"\"}}, \"type\": \"scatter3d\"}], \"scattercarpet\": [{\"marker\": {\"colorbar\": {\"outlinewidth\": 0, \"ticks\": \"\"}}, \"type\": \"scattercarpet\"}], \"scattergeo\": [{\"marker\": {\"colorbar\": {\"outlinewidth\": 0, \"ticks\": \"\"}}, \"type\": \"scattergeo\"}], \"scattergl\": [{\"marker\": {\"colorbar\": {\"outlinewidth\": 0, \"ticks\": \"\"}}, \"type\": \"scattergl\"}], \"scattermapbox\": [{\"marker\": {\"colorbar\": {\"outlinewidth\": 0, \"ticks\": \"\"}}, \"type\": \"scattermapbox\"}], \"scatterpolar\": [{\"marker\": {\"colorbar\": {\"outlinewidth\": 0, \"ticks\": \"\"}}, \"type\": \"scatterpolar\"}], \"scatterpolargl\": [{\"marker\": {\"colorbar\": {\"outlinewidth\": 0, \"ticks\": \"\"}}, \"type\": \"scatterpolargl\"}], \"scatterternary\": [{\"marker\": {\"colorbar\": {\"outlinewidth\": 0, \"ticks\": \"\"}}, \"type\": \"scatterternary\"}], \"surface\": [{\"colorbar\": {\"outlinewidth\": 0, \"ticks\": \"\"}, \"colorscale\": [[0.0, \"#0d0887\"], [0.1111111111111111, \"#46039f\"], [0.2222222222222222, \"#7201a8\"], [0.3333333333333333, \"#9c179e\"], [0.4444444444444444, \"#bd3786\"], [0.5555555555555556, \"#d8576b\"], [0.6666666666666666, \"#ed7953\"], [0.7777777777777778, \"#fb9f3a\"], [0.8888888888888888, \"#fdca26\"], [1.0, \"#f0f921\"]], \"type\": \"surface\"}], \"table\": [{\"cells\": {\"fill\": {\"color\": \"#EBF0F8\"}, \"line\": {\"color\": \"white\"}}, \"header\": {\"fill\": {\"color\": \"#C8D4E3\"}, \"line\": {\"color\": \"white\"}}, \"type\": \"table\"}]}, \"layout\": {\"annotationdefaults\": {\"arrowcolor\": \"#2a3f5f\", \"arrowhead\": 0, \"arrowwidth\": 1}, \"coloraxis\": {\"colorbar\": {\"outlinewidth\": 0, \"ticks\": \"\"}}, \"colorscale\": {\"diverging\": [[0, \"#8e0152\"], [0.1, \"#c51b7d\"], [0.2, \"#de77ae\"], [0.3, \"#f1b6da\"], [0.4, \"#fde0ef\"], [0.5, \"#f7f7f7\"], [0.6, \"#e6f5d0\"], [0.7, \"#b8e186\"], [0.8, \"#7fbc41\"], [0.9, \"#4d9221\"], [1, \"#276419\"]], \"sequential\": [[0.0, \"#0d0887\"], [0.1111111111111111, \"#46039f\"], [0.2222222222222222, \"#7201a8\"], [0.3333333333333333, \"#9c179e\"], [0.4444444444444444, \"#bd3786\"], [0.5555555555555556, \"#d8576b\"], [0.6666666666666666, \"#ed7953\"], [0.7777777777777778, \"#fb9f3a\"], [0.8888888888888888, \"#fdca26\"], [1.0, \"#f0f921\"]], \"sequentialminus\": [[0.0, \"#0d0887\"], [0.1111111111111111, \"#46039f\"], [0.2222222222222222, \"#7201a8\"], [0.3333333333333333, \"#9c179e\"], [0.4444444444444444, \"#bd3786\"], [0.5555555555555556, \"#d8576b\"], [0.6666666666666666, \"#ed7953\"], [0.7777777777777778, \"#fb9f3a\"], [0.8888888888888888, \"#fdca26\"], [1.0, \"#f0f921\"]]}, \"colorway\": [\"#636efa\", \"#EF553B\", \"#00cc96\", \"#ab63fa\", \"#FFA15A\", \"#19d3f3\", \"#FF6692\", \"#B6E880\", \"#FF97FF\", \"#FECB52\"], \"font\": {\"color\": \"#2a3f5f\"}, \"geo\": {\"bgcolor\": \"white\", \"lakecolor\": \"white\", \"landcolor\": \"#E5ECF6\", \"showlakes\": true, \"showland\": true, \"subunitcolor\": \"white\"}, \"hoverlabel\": {\"align\": \"left\"}, \"hovermode\": \"closest\", \"mapbox\": {\"style\": \"light\"}, \"paper_bgcolor\": \"white\", \"plot_bgcolor\": \"#E5ECF6\", \"polar\": {\"angularaxis\": {\"gridcolor\": \"white\", \"linecolor\": \"white\", \"ticks\": \"\"}, \"bgcolor\": \"#E5ECF6\", \"radialaxis\": {\"gridcolor\": \"white\", \"linecolor\": \"white\", \"ticks\": \"\"}}, \"scene\": {\"xaxis\": {\"backgroundcolor\": \"#E5ECF6\", \"gridcolor\": \"white\", \"gridwidth\": 2, \"linecolor\": \"white\", \"showbackground\": true, \"ticks\": \"\", \"zerolinecolor\": \"white\"}, \"yaxis\": {\"backgroundcolor\": \"#E5ECF6\", \"gridcolor\": \"white\", \"gridwidth\": 2, \"linecolor\": \"white\", \"showbackground\": true, \"ticks\": \"\", \"zerolinecolor\": \"white\"}, \"zaxis\": {\"backgroundcolor\": \"#E5ECF6\", \"gridcolor\": \"white\", \"gridwidth\": 2, \"linecolor\": \"white\", \"showbackground\": true, \"ticks\": \"\", \"zerolinecolor\": \"white\"}}, \"shapedefaults\": {\"line\": {\"color\": \"#2a3f5f\"}}, \"ternary\": {\"aaxis\": {\"gridcolor\": \"white\", \"linecolor\": \"white\", \"ticks\": \"\"}, \"baxis\": {\"gridcolor\": \"white\", \"linecolor\": \"white\", \"ticks\": \"\"}, \"bgcolor\": \"#E5ECF6\", \"caxis\": {\"gridcolor\": \"white\", \"linecolor\": \"white\", \"ticks\": \"\"}}, \"title\": {\"x\": 0.05}, \"xaxis\": {\"automargin\": true, \"gridcolor\": \"white\", \"linecolor\": \"white\", \"ticks\": \"\", \"title\": {\"standoff\": 15}, \"zerolinecolor\": \"white\", \"zerolinewidth\": 2}, \"yaxis\": {\"automargin\": true, \"gridcolor\": \"white\", \"linecolor\": \"white\", \"ticks\": \"\", \"title\": {\"standoff\": 15}, \"zerolinecolor\": \"white\", \"zerolinewidth\": 2}}}, \"title\": {\"text\": \"Distribucion geografica de los delitos\"}, \"uniformtext\": {\"minsize\": 6, \"mode\": \"hide\"}, \"width\": 900, \"xaxis\": {\"anchor\": \"y\", \"domain\": [0.0, 1.0], \"tickangle\": -45, \"tickfont\": {\"color\": \"black\", \"family\": \"Rockwell\", \"size\": 8}, \"title\": {\"text\": \"Departamento\"}}, \"yaxis\": {\"anchor\": \"x\", \"domain\": [0.0, 1.0], \"title\": {\"text\": \"Frecuencia del delito\"}}},\n",
       "                        {\"responsive\": true}\n",
       "                    ).then(function(){\n",
       "                            \n",
       "var gd = document.getElementById('5ee0d47d-793c-42da-a5bf-ea5b5f23f5c8');\n",
       "var x = new MutationObserver(function (mutations, observer) {{\n",
       "        var display = window.getComputedStyle(gd).display;\n",
       "        if (!display || display === 'none') {{\n",
       "            console.log([gd, 'removed!']);\n",
       "            Plotly.purge(gd);\n",
       "            observer.disconnect();\n",
       "        }}\n",
       "}});\n",
       "\n",
       "// Listen for the removal of the full notebook cells\n",
       "var notebookContainer = gd.closest('#notebook-container');\n",
       "if (notebookContainer) {{\n",
       "    x.observe(notebookContainer, {childList: true});\n",
       "}}\n",
       "\n",
       "// Listen for the clearing of the current output cell\n",
       "var outputEl = gd.closest('.output');\n",
       "if (outputEl) {{\n",
       "    x.observe(outputEl, {childList: true});\n",
       "}}\n",
       "\n",
       "                        })\n",
       "                };\n",
       "                });\n",
       "            </script>\n",
       "        </div>"
      ]
     },
     "metadata": {},
     "output_type": "display_data"
    }
   ],
   "source": [
    "fig = px.bar(df_geo_gen, x='DEPTO_ESTABLECIMIENTO', y='INTERNOEN',\n",
    "             hover_data=[\"GENERO\",'DEPTO_ESTABLECIMIENTO'], color='GENERO',\n",
    "             labels={'INTERNOEN':'Frecuencia del delito',\"DEPTO_ESTABLECIMIENTO\":\"Departamento\"},\n",
    "             barmode='relative', text=\"INTERNOEN\")\n",
    "fig.update_traces(texttemplate='%{text:.2s}', textposition='outside')\n",
    "fig.update_layout(uniformtext_minsize=6, uniformtext_mode='hide', xaxis_tickangle=-45, showlegend=True, autosize=False,\n",
    "                 width=900, height=700, margin=dict(l=50, r=50, b=100, t=100, pad=4 ),\n",
    "                  title=\"Distribucion geografica de los delitos\",\n",
    "                 )\n",
    "fig.update_xaxes( tickfont=dict(family='Rockwell', color='black', size=8)) #tickangle=45,\n",
    "\n",
    "fig.show()\n",
    "\n",
    "fig.write_image(\"fig2.png\")"
   ]
  },
  {
   "cell_type": "code",
   "execution_count": 45,
   "metadata": {},
   "outputs": [],
   "source": [
    "economic_crime = df_mj[(df_mj[\"TITULO_DELITO\"]==\"CONTRA EL PATRIMONIO ECONOMICO\")].groupby([\"GENERO\", \"DELITO\"])[\"DELITO\"].agg(\"count\")\n",
    "economic_crime = pd.DataFrame(economic_crime)\n",
    "economic_crime.rename(columns={\"DELITO\": \"COUNT\"},inplace=True)\n",
    "economic_crime.reset_index(inplace=True)"
   ]
  },
  {
   "cell_type": "code",
   "execution_count": 25,
   "metadata": {
    "scrolled": false
   },
   "outputs": [
    {
     "data": {
      "application/vnd.plotly.v1+json": {
       "config": {
        "plotlyServerURL": "https://plot.ly"
       },
       "data": [
        {
         "alignmentgroup": "True",
         "customdata": [
          [
           "FEMENINO",
           "ABUSO DE CONDICIONES DE INFERIORIDAD"
          ],
          [
           "FEMENINO",
           "ABUSO DE CONFIANZA"
          ],
          [
           "FEMENINO",
           "ALZAMIENTO DE BIENES"
          ],
          [
           "FEMENINO",
           "DEFRAUDACION DE FLUIDOS"
          ],
          [
           "FEMENINO",
           "EMISION Y TRANSFERENCIA ILEGAL DE CHEQUE"
          ],
          [
           "FEMENINO",
           "ESTAFA"
          ],
          [
           "FEMENINO",
           "EXTORSION"
          ],
          [
           "FEMENINO",
           "HURTO"
          ]
         ],
         "hovertemplate": "GENERO=%{customdata[0]}<br>DELITO=%{customdata[1]}<br>Amount of recidivist economic crimes=%{text}<extra></extra>",
         "legendgroup": "FEMENINO",
         "marker": {
          "color": "#636efa"
         },
         "name": "FEMENINO",
         "offsetgroup": "FEMENINO",
         "orientation": "v",
         "showlegend": true,
         "text": [
          1,
          6,
          1,
          2,
          1,
          132,
          172,
          3353
         ],
         "textposition": "outside",
         "texttemplate": "%{text:.2s}",
         "type": "bar",
         "x": [
          "ABUSO DE CONDICIONES DE INFERIORIDAD",
          "ABUSO DE CONFIANZA",
          "ALZAMIENTO DE BIENES",
          "DEFRAUDACION DE FLUIDOS",
          "EMISION Y TRANSFERENCIA ILEGAL DE CHEQUE",
          "ESTAFA",
          "EXTORSION",
          "HURTO"
         ],
         "xaxis": "x",
         "y": [
          1,
          6,
          1,
          2,
          1,
          132,
          172,
          3353
         ],
         "yaxis": "y"
        },
        {
         "alignmentgroup": "True",
         "customdata": [
          [
           "MASCULINO",
           "ABIGEATO"
          ],
          [
           "MASCULINO",
           "ABUSO DE CONFIANZA"
          ],
          [
           "MASCULINO",
           "ALTERACION DESFIGURACION Y SUPLANTACION DE MARCAS DE GANADO"
          ],
          [
           "MASCULINO",
           "DAÑO EN BIEN AJENO"
          ],
          [
           "MASCULINO",
           "DEFRAUDACION DE FLUIDOS"
          ],
          [
           "MASCULINO",
           "EMISION Y TRANSFERENCIA ILEGAL DE CHEQUE"
          ],
          [
           "MASCULINO",
           "ESTAFA"
          ],
          [
           "MASCULINO",
           "EXTORSION"
          ],
          [
           "MASCULINO",
           "GESTION INDEBIDA DE RECURSOS SOCIALES"
          ],
          [
           "MASCULINO",
           "HURTO"
          ],
          [
           "MASCULINO",
           "INVASION DE TIERRAS O EDIFICACIONES"
          ],
          [
           "MASCULINO",
           "PERTURBACION DE LA POSESION SOBRE INMUEBLE"
          ],
          [
           "MASCULINO",
           "SUSTRACCION DE BIEN PROPIO"
          ],
          [
           "MASCULINO",
           "UTILIZACION INDEBIDA DE INFORMACION PRIVILEGIADA"
          ]
         ],
         "hovertemplate": "GENERO=%{customdata[0]}<br>DELITO=%{customdata[1]}<br>Amount of recidivist economic crimes=%{text}<extra></extra>",
         "legendgroup": "MASCULINO",
         "marker": {
          "color": "#EF553B"
         },
         "name": "MASCULINO",
         "offsetgroup": "MASCULINO",
         "orientation": "v",
         "showlegend": true,
         "text": [
          5,
          65,
          2,
          174,
          6,
          4,
          475,
          2660,
          3,
          49792,
          3,
          1,
          1,
          1
         ],
         "textposition": "outside",
         "texttemplate": "%{text:.2s}",
         "type": "bar",
         "x": [
          "ABIGEATO",
          "ABUSO DE CONFIANZA",
          "ALTERACION DESFIGURACION Y SUPLANTACION DE MARCAS DE GANADO",
          "DAÑO EN BIEN AJENO",
          "DEFRAUDACION DE FLUIDOS",
          "EMISION Y TRANSFERENCIA ILEGAL DE CHEQUE",
          "ESTAFA",
          "EXTORSION",
          "GESTION INDEBIDA DE RECURSOS SOCIALES",
          "HURTO",
          "INVASION DE TIERRAS O EDIFICACIONES",
          "PERTURBACION DE LA POSESION SOBRE INMUEBLE",
          "SUSTRACCION DE BIEN PROPIO",
          "UTILIZACION INDEBIDA DE INFORMACION PRIVILEGIADA"
         ],
         "xaxis": "x",
         "y": [
          5,
          65,
          2,
          174,
          6,
          4,
          475,
          2660,
          3,
          49792,
          3,
          1,
          1,
          1
         ],
         "yaxis": "y"
        }
       ],
       "layout": {
        "autosize": false,
        "barmode": "relative",
        "height": 700,
        "legend": {
         "title": {
          "text": "GENERO"
         },
         "tracegroupgap": 0
        },
        "margin": {
         "b": 100,
         "l": 50,
         "pad": 4,
         "r": 50,
         "t": 100
        },
        "showlegend": true,
        "template": {
         "data": {
          "bar": [
           {
            "error_x": {
             "color": "#2a3f5f"
            },
            "error_y": {
             "color": "#2a3f5f"
            },
            "marker": {
             "line": {
              "color": "#E5ECF6",
              "width": 0.5
             }
            },
            "type": "bar"
           }
          ],
          "barpolar": [
           {
            "marker": {
             "line": {
              "color": "#E5ECF6",
              "width": 0.5
             }
            },
            "type": "barpolar"
           }
          ],
          "carpet": [
           {
            "aaxis": {
             "endlinecolor": "#2a3f5f",
             "gridcolor": "white",
             "linecolor": "white",
             "minorgridcolor": "white",
             "startlinecolor": "#2a3f5f"
            },
            "baxis": {
             "endlinecolor": "#2a3f5f",
             "gridcolor": "white",
             "linecolor": "white",
             "minorgridcolor": "white",
             "startlinecolor": "#2a3f5f"
            },
            "type": "carpet"
           }
          ],
          "choropleth": [
           {
            "colorbar": {
             "outlinewidth": 0,
             "ticks": ""
            },
            "type": "choropleth"
           }
          ],
          "contour": [
           {
            "colorbar": {
             "outlinewidth": 0,
             "ticks": ""
            },
            "colorscale": [
             [
              0,
              "#0d0887"
             ],
             [
              0.1111111111111111,
              "#46039f"
             ],
             [
              0.2222222222222222,
              "#7201a8"
             ],
             [
              0.3333333333333333,
              "#9c179e"
             ],
             [
              0.4444444444444444,
              "#bd3786"
             ],
             [
              0.5555555555555556,
              "#d8576b"
             ],
             [
              0.6666666666666666,
              "#ed7953"
             ],
             [
              0.7777777777777778,
              "#fb9f3a"
             ],
             [
              0.8888888888888888,
              "#fdca26"
             ],
             [
              1,
              "#f0f921"
             ]
            ],
            "type": "contour"
           }
          ],
          "contourcarpet": [
           {
            "colorbar": {
             "outlinewidth": 0,
             "ticks": ""
            },
            "type": "contourcarpet"
           }
          ],
          "heatmap": [
           {
            "colorbar": {
             "outlinewidth": 0,
             "ticks": ""
            },
            "colorscale": [
             [
              0,
              "#0d0887"
             ],
             [
              0.1111111111111111,
              "#46039f"
             ],
             [
              0.2222222222222222,
              "#7201a8"
             ],
             [
              0.3333333333333333,
              "#9c179e"
             ],
             [
              0.4444444444444444,
              "#bd3786"
             ],
             [
              0.5555555555555556,
              "#d8576b"
             ],
             [
              0.6666666666666666,
              "#ed7953"
             ],
             [
              0.7777777777777778,
              "#fb9f3a"
             ],
             [
              0.8888888888888888,
              "#fdca26"
             ],
             [
              1,
              "#f0f921"
             ]
            ],
            "type": "heatmap"
           }
          ],
          "heatmapgl": [
           {
            "colorbar": {
             "outlinewidth": 0,
             "ticks": ""
            },
            "colorscale": [
             [
              0,
              "#0d0887"
             ],
             [
              0.1111111111111111,
              "#46039f"
             ],
             [
              0.2222222222222222,
              "#7201a8"
             ],
             [
              0.3333333333333333,
              "#9c179e"
             ],
             [
              0.4444444444444444,
              "#bd3786"
             ],
             [
              0.5555555555555556,
              "#d8576b"
             ],
             [
              0.6666666666666666,
              "#ed7953"
             ],
             [
              0.7777777777777778,
              "#fb9f3a"
             ],
             [
              0.8888888888888888,
              "#fdca26"
             ],
             [
              1,
              "#f0f921"
             ]
            ],
            "type": "heatmapgl"
           }
          ],
          "histogram": [
           {
            "marker": {
             "colorbar": {
              "outlinewidth": 0,
              "ticks": ""
             }
            },
            "type": "histogram"
           }
          ],
          "histogram2d": [
           {
            "colorbar": {
             "outlinewidth": 0,
             "ticks": ""
            },
            "colorscale": [
             [
              0,
              "#0d0887"
             ],
             [
              0.1111111111111111,
              "#46039f"
             ],
             [
              0.2222222222222222,
              "#7201a8"
             ],
             [
              0.3333333333333333,
              "#9c179e"
             ],
             [
              0.4444444444444444,
              "#bd3786"
             ],
             [
              0.5555555555555556,
              "#d8576b"
             ],
             [
              0.6666666666666666,
              "#ed7953"
             ],
             [
              0.7777777777777778,
              "#fb9f3a"
             ],
             [
              0.8888888888888888,
              "#fdca26"
             ],
             [
              1,
              "#f0f921"
             ]
            ],
            "type": "histogram2d"
           }
          ],
          "histogram2dcontour": [
           {
            "colorbar": {
             "outlinewidth": 0,
             "ticks": ""
            },
            "colorscale": [
             [
              0,
              "#0d0887"
             ],
             [
              0.1111111111111111,
              "#46039f"
             ],
             [
              0.2222222222222222,
              "#7201a8"
             ],
             [
              0.3333333333333333,
              "#9c179e"
             ],
             [
              0.4444444444444444,
              "#bd3786"
             ],
             [
              0.5555555555555556,
              "#d8576b"
             ],
             [
              0.6666666666666666,
              "#ed7953"
             ],
             [
              0.7777777777777778,
              "#fb9f3a"
             ],
             [
              0.8888888888888888,
              "#fdca26"
             ],
             [
              1,
              "#f0f921"
             ]
            ],
            "type": "histogram2dcontour"
           }
          ],
          "mesh3d": [
           {
            "colorbar": {
             "outlinewidth": 0,
             "ticks": ""
            },
            "type": "mesh3d"
           }
          ],
          "parcoords": [
           {
            "line": {
             "colorbar": {
              "outlinewidth": 0,
              "ticks": ""
             }
            },
            "type": "parcoords"
           }
          ],
          "pie": [
           {
            "automargin": true,
            "type": "pie"
           }
          ],
          "scatter": [
           {
            "marker": {
             "colorbar": {
              "outlinewidth": 0,
              "ticks": ""
             }
            },
            "type": "scatter"
           }
          ],
          "scatter3d": [
           {
            "line": {
             "colorbar": {
              "outlinewidth": 0,
              "ticks": ""
             }
            },
            "marker": {
             "colorbar": {
              "outlinewidth": 0,
              "ticks": ""
             }
            },
            "type": "scatter3d"
           }
          ],
          "scattercarpet": [
           {
            "marker": {
             "colorbar": {
              "outlinewidth": 0,
              "ticks": ""
             }
            },
            "type": "scattercarpet"
           }
          ],
          "scattergeo": [
           {
            "marker": {
             "colorbar": {
              "outlinewidth": 0,
              "ticks": ""
             }
            },
            "type": "scattergeo"
           }
          ],
          "scattergl": [
           {
            "marker": {
             "colorbar": {
              "outlinewidth": 0,
              "ticks": ""
             }
            },
            "type": "scattergl"
           }
          ],
          "scattermapbox": [
           {
            "marker": {
             "colorbar": {
              "outlinewidth": 0,
              "ticks": ""
             }
            },
            "type": "scattermapbox"
           }
          ],
          "scatterpolar": [
           {
            "marker": {
             "colorbar": {
              "outlinewidth": 0,
              "ticks": ""
             }
            },
            "type": "scatterpolar"
           }
          ],
          "scatterpolargl": [
           {
            "marker": {
             "colorbar": {
              "outlinewidth": 0,
              "ticks": ""
             }
            },
            "type": "scatterpolargl"
           }
          ],
          "scatterternary": [
           {
            "marker": {
             "colorbar": {
              "outlinewidth": 0,
              "ticks": ""
             }
            },
            "type": "scatterternary"
           }
          ],
          "surface": [
           {
            "colorbar": {
             "outlinewidth": 0,
             "ticks": ""
            },
            "colorscale": [
             [
              0,
              "#0d0887"
             ],
             [
              0.1111111111111111,
              "#46039f"
             ],
             [
              0.2222222222222222,
              "#7201a8"
             ],
             [
              0.3333333333333333,
              "#9c179e"
             ],
             [
              0.4444444444444444,
              "#bd3786"
             ],
             [
              0.5555555555555556,
              "#d8576b"
             ],
             [
              0.6666666666666666,
              "#ed7953"
             ],
             [
              0.7777777777777778,
              "#fb9f3a"
             ],
             [
              0.8888888888888888,
              "#fdca26"
             ],
             [
              1,
              "#f0f921"
             ]
            ],
            "type": "surface"
           }
          ],
          "table": [
           {
            "cells": {
             "fill": {
              "color": "#EBF0F8"
             },
             "line": {
              "color": "white"
             }
            },
            "header": {
             "fill": {
              "color": "#C8D4E3"
             },
             "line": {
              "color": "white"
             }
            },
            "type": "table"
           }
          ]
         },
         "layout": {
          "annotationdefaults": {
           "arrowcolor": "#2a3f5f",
           "arrowhead": 0,
           "arrowwidth": 1
          },
          "coloraxis": {
           "colorbar": {
            "outlinewidth": 0,
            "ticks": ""
           }
          },
          "colorscale": {
           "diverging": [
            [
             0,
             "#8e0152"
            ],
            [
             0.1,
             "#c51b7d"
            ],
            [
             0.2,
             "#de77ae"
            ],
            [
             0.3,
             "#f1b6da"
            ],
            [
             0.4,
             "#fde0ef"
            ],
            [
             0.5,
             "#f7f7f7"
            ],
            [
             0.6,
             "#e6f5d0"
            ],
            [
             0.7,
             "#b8e186"
            ],
            [
             0.8,
             "#7fbc41"
            ],
            [
             0.9,
             "#4d9221"
            ],
            [
             1,
             "#276419"
            ]
           ],
           "sequential": [
            [
             0,
             "#0d0887"
            ],
            [
             0.1111111111111111,
             "#46039f"
            ],
            [
             0.2222222222222222,
             "#7201a8"
            ],
            [
             0.3333333333333333,
             "#9c179e"
            ],
            [
             0.4444444444444444,
             "#bd3786"
            ],
            [
             0.5555555555555556,
             "#d8576b"
            ],
            [
             0.6666666666666666,
             "#ed7953"
            ],
            [
             0.7777777777777778,
             "#fb9f3a"
            ],
            [
             0.8888888888888888,
             "#fdca26"
            ],
            [
             1,
             "#f0f921"
            ]
           ],
           "sequentialminus": [
            [
             0,
             "#0d0887"
            ],
            [
             0.1111111111111111,
             "#46039f"
            ],
            [
             0.2222222222222222,
             "#7201a8"
            ],
            [
             0.3333333333333333,
             "#9c179e"
            ],
            [
             0.4444444444444444,
             "#bd3786"
            ],
            [
             0.5555555555555556,
             "#d8576b"
            ],
            [
             0.6666666666666666,
             "#ed7953"
            ],
            [
             0.7777777777777778,
             "#fb9f3a"
            ],
            [
             0.8888888888888888,
             "#fdca26"
            ],
            [
             1,
             "#f0f921"
            ]
           ]
          },
          "colorway": [
           "#636efa",
           "#EF553B",
           "#00cc96",
           "#ab63fa",
           "#FFA15A",
           "#19d3f3",
           "#FF6692",
           "#B6E880",
           "#FF97FF",
           "#FECB52"
          ],
          "font": {
           "color": "#2a3f5f"
          },
          "geo": {
           "bgcolor": "white",
           "lakecolor": "white",
           "landcolor": "#E5ECF6",
           "showlakes": true,
           "showland": true,
           "subunitcolor": "white"
          },
          "hoverlabel": {
           "align": "left"
          },
          "hovermode": "closest",
          "mapbox": {
           "style": "light"
          },
          "paper_bgcolor": "white",
          "plot_bgcolor": "#E5ECF6",
          "polar": {
           "angularaxis": {
            "gridcolor": "white",
            "linecolor": "white",
            "ticks": ""
           },
           "bgcolor": "#E5ECF6",
           "radialaxis": {
            "gridcolor": "white",
            "linecolor": "white",
            "ticks": ""
           }
          },
          "scene": {
           "xaxis": {
            "backgroundcolor": "#E5ECF6",
            "gridcolor": "white",
            "gridwidth": 2,
            "linecolor": "white",
            "showbackground": true,
            "ticks": "",
            "zerolinecolor": "white"
           },
           "yaxis": {
            "backgroundcolor": "#E5ECF6",
            "gridcolor": "white",
            "gridwidth": 2,
            "linecolor": "white",
            "showbackground": true,
            "ticks": "",
            "zerolinecolor": "white"
           },
           "zaxis": {
            "backgroundcolor": "#E5ECF6",
            "gridcolor": "white",
            "gridwidth": 2,
            "linecolor": "white",
            "showbackground": true,
            "ticks": "",
            "zerolinecolor": "white"
           }
          },
          "shapedefaults": {
           "line": {
            "color": "#2a3f5f"
           }
          },
          "ternary": {
           "aaxis": {
            "gridcolor": "white",
            "linecolor": "white",
            "ticks": ""
           },
           "baxis": {
            "gridcolor": "white",
            "linecolor": "white",
            "ticks": ""
           },
           "bgcolor": "#E5ECF6",
           "caxis": {
            "gridcolor": "white",
            "linecolor": "white",
            "ticks": ""
           }
          },
          "title": {
           "x": 0.05
          },
          "xaxis": {
           "automargin": true,
           "gridcolor": "white",
           "linecolor": "white",
           "ticks": "",
           "title": {
            "standoff": 15
           },
           "zerolinecolor": "white",
           "zerolinewidth": 2
          },
          "yaxis": {
           "automargin": true,
           "gridcolor": "white",
           "linecolor": "white",
           "ticks": "",
           "title": {
            "standoff": 15
           },
           "zerolinecolor": "white",
           "zerolinewidth": 2
          }
         }
        },
        "title": {
         "text": "Most commited crimes against economic patrimony per gender"
        },
        "uniformtext": {
         "minsize": 6,
         "mode": "hide"
        },
        "width": 900,
        "xaxis": {
         "anchor": "y",
         "domain": [
          0,
          1
         ],
         "tickangle": -45,
         "tickfont": {
          "color": "black",
          "family": "Rockwell",
          "size": 8
         },
         "title": {
          "text": "DELITO"
         }
        },
        "yaxis": {
         "anchor": "x",
         "domain": [
          0,
          1
         ],
         "title": {
          "text": "Amount of recidivist economic crimes"
         }
        }
       }
      },
      "text/html": [
       "<div>\n",
       "        \n",
       "        \n",
       "            <div id=\"9ab97119-f52d-4744-bf8c-81c2241699ca\" class=\"plotly-graph-div\" style=\"height:700px; width:900px;\"></div>\n",
       "            <script type=\"text/javascript\">\n",
       "                require([\"plotly\"], function(Plotly) {\n",
       "                    window.PLOTLYENV=window.PLOTLYENV || {};\n",
       "                    \n",
       "                if (document.getElementById(\"9ab97119-f52d-4744-bf8c-81c2241699ca\")) {\n",
       "                    Plotly.newPlot(\n",
       "                        '9ab97119-f52d-4744-bf8c-81c2241699ca',\n",
       "                        [{\"alignmentgroup\": \"True\", \"customdata\": [[\"FEMENINO\", \"ABUSO DE CONDICIONES DE INFERIORIDAD\"], [\"FEMENINO\", \"ABUSO DE CONFIANZA\"], [\"FEMENINO\", \"ALZAMIENTO DE BIENES\"], [\"FEMENINO\", \"DEFRAUDACION DE FLUIDOS\"], [\"FEMENINO\", \"EMISION Y TRANSFERENCIA ILEGAL DE CHEQUE\"], [\"FEMENINO\", \"ESTAFA\"], [\"FEMENINO\", \"EXTORSION\"], [\"FEMENINO\", \"HURTO\"]], \"hovertemplate\": \"GENERO=%{customdata[0]}<br>DELITO=%{customdata[1]}<br>Amount of recidivist economic crimes=%{text}<extra></extra>\", \"legendgroup\": \"FEMENINO\", \"marker\": {\"color\": \"#636efa\"}, \"name\": \"FEMENINO\", \"offsetgroup\": \"FEMENINO\", \"orientation\": \"v\", \"showlegend\": true, \"text\": [1.0, 6.0, 1.0, 2.0, 1.0, 132.0, 172.0, 3353.0], \"textposition\": \"outside\", \"texttemplate\": \"%{text:.2s}\", \"type\": \"bar\", \"x\": [\"ABUSO DE CONDICIONES DE INFERIORIDAD\", \"ABUSO DE CONFIANZA\", \"ALZAMIENTO DE BIENES\", \"DEFRAUDACION DE FLUIDOS\", \"EMISION Y TRANSFERENCIA ILEGAL DE CHEQUE\", \"ESTAFA\", \"EXTORSION\", \"HURTO\"], \"xaxis\": \"x\", \"y\": [1, 6, 1, 2, 1, 132, 172, 3353], \"yaxis\": \"y\"}, {\"alignmentgroup\": \"True\", \"customdata\": [[\"MASCULINO\", \"ABIGEATO\"], [\"MASCULINO\", \"ABUSO DE CONFIANZA\"], [\"MASCULINO\", \"ALTERACION DESFIGURACION Y SUPLANTACION DE MARCAS DE GANADO\"], [\"MASCULINO\", \"DA\\u00d1O EN BIEN AJENO\"], [\"MASCULINO\", \"DEFRAUDACION DE FLUIDOS\"], [\"MASCULINO\", \"EMISION Y TRANSFERENCIA ILEGAL DE CHEQUE\"], [\"MASCULINO\", \"ESTAFA\"], [\"MASCULINO\", \"EXTORSION\"], [\"MASCULINO\", \"GESTION INDEBIDA DE RECURSOS SOCIALES\"], [\"MASCULINO\", \"HURTO\"], [\"MASCULINO\", \"INVASION DE TIERRAS O EDIFICACIONES\"], [\"MASCULINO\", \"PERTURBACION DE LA POSESION SOBRE INMUEBLE\"], [\"MASCULINO\", \"SUSTRACCION DE BIEN PROPIO\"], [\"MASCULINO\", \"UTILIZACION INDEBIDA DE INFORMACION PRIVILEGIADA\"]], \"hovertemplate\": \"GENERO=%{customdata[0]}<br>DELITO=%{customdata[1]}<br>Amount of recidivist economic crimes=%{text}<extra></extra>\", \"legendgroup\": \"MASCULINO\", \"marker\": {\"color\": \"#EF553B\"}, \"name\": \"MASCULINO\", \"offsetgroup\": \"MASCULINO\", \"orientation\": \"v\", \"showlegend\": true, \"text\": [5.0, 65.0, 2.0, 174.0, 6.0, 4.0, 475.0, 2660.0, 3.0, 49792.0, 3.0, 1.0, 1.0, 1.0], \"textposition\": \"outside\", \"texttemplate\": \"%{text:.2s}\", \"type\": \"bar\", \"x\": [\"ABIGEATO\", \"ABUSO DE CONFIANZA\", \"ALTERACION DESFIGURACION Y SUPLANTACION DE MARCAS DE GANADO\", \"DA\\u00d1O EN BIEN AJENO\", \"DEFRAUDACION DE FLUIDOS\", \"EMISION Y TRANSFERENCIA ILEGAL DE CHEQUE\", \"ESTAFA\", \"EXTORSION\", \"GESTION INDEBIDA DE RECURSOS SOCIALES\", \"HURTO\", \"INVASION DE TIERRAS O EDIFICACIONES\", \"PERTURBACION DE LA POSESION SOBRE INMUEBLE\", \"SUSTRACCION DE BIEN PROPIO\", \"UTILIZACION INDEBIDA DE INFORMACION PRIVILEGIADA\"], \"xaxis\": \"x\", \"y\": [5, 65, 2, 174, 6, 4, 475, 2660, 3, 49792, 3, 1, 1, 1], \"yaxis\": \"y\"}],\n",
       "                        {\"autosize\": false, \"barmode\": \"relative\", \"height\": 700, \"legend\": {\"title\": {\"text\": \"GENERO\"}, \"tracegroupgap\": 0}, \"margin\": {\"b\": 100, \"l\": 50, \"pad\": 4, \"r\": 50, \"t\": 100}, \"showlegend\": true, \"template\": {\"data\": {\"bar\": [{\"error_x\": {\"color\": \"#2a3f5f\"}, \"error_y\": {\"color\": \"#2a3f5f\"}, \"marker\": {\"line\": {\"color\": \"#E5ECF6\", \"width\": 0.5}}, \"type\": \"bar\"}], \"barpolar\": [{\"marker\": {\"line\": {\"color\": \"#E5ECF6\", \"width\": 0.5}}, \"type\": \"barpolar\"}], \"carpet\": [{\"aaxis\": {\"endlinecolor\": \"#2a3f5f\", \"gridcolor\": \"white\", \"linecolor\": \"white\", \"minorgridcolor\": \"white\", \"startlinecolor\": \"#2a3f5f\"}, \"baxis\": {\"endlinecolor\": \"#2a3f5f\", \"gridcolor\": \"white\", \"linecolor\": \"white\", \"minorgridcolor\": \"white\", \"startlinecolor\": \"#2a3f5f\"}, \"type\": \"carpet\"}], \"choropleth\": [{\"colorbar\": {\"outlinewidth\": 0, \"ticks\": \"\"}, \"type\": \"choropleth\"}], \"contour\": [{\"colorbar\": {\"outlinewidth\": 0, \"ticks\": \"\"}, \"colorscale\": [[0.0, \"#0d0887\"], [0.1111111111111111, \"#46039f\"], [0.2222222222222222, \"#7201a8\"], [0.3333333333333333, \"#9c179e\"], [0.4444444444444444, \"#bd3786\"], [0.5555555555555556, \"#d8576b\"], [0.6666666666666666, \"#ed7953\"], [0.7777777777777778, \"#fb9f3a\"], [0.8888888888888888, \"#fdca26\"], [1.0, \"#f0f921\"]], \"type\": \"contour\"}], \"contourcarpet\": [{\"colorbar\": {\"outlinewidth\": 0, \"ticks\": \"\"}, \"type\": \"contourcarpet\"}], \"heatmap\": [{\"colorbar\": {\"outlinewidth\": 0, \"ticks\": \"\"}, \"colorscale\": [[0.0, \"#0d0887\"], [0.1111111111111111, \"#46039f\"], [0.2222222222222222, \"#7201a8\"], [0.3333333333333333, \"#9c179e\"], [0.4444444444444444, \"#bd3786\"], [0.5555555555555556, \"#d8576b\"], [0.6666666666666666, \"#ed7953\"], [0.7777777777777778, \"#fb9f3a\"], [0.8888888888888888, \"#fdca26\"], [1.0, \"#f0f921\"]], \"type\": \"heatmap\"}], \"heatmapgl\": [{\"colorbar\": {\"outlinewidth\": 0, \"ticks\": \"\"}, \"colorscale\": [[0.0, \"#0d0887\"], [0.1111111111111111, \"#46039f\"], [0.2222222222222222, \"#7201a8\"], [0.3333333333333333, \"#9c179e\"], [0.4444444444444444, \"#bd3786\"], [0.5555555555555556, \"#d8576b\"], [0.6666666666666666, \"#ed7953\"], [0.7777777777777778, \"#fb9f3a\"], [0.8888888888888888, \"#fdca26\"], [1.0, \"#f0f921\"]], \"type\": \"heatmapgl\"}], \"histogram\": [{\"marker\": {\"colorbar\": {\"outlinewidth\": 0, \"ticks\": \"\"}}, \"type\": \"histogram\"}], \"histogram2d\": [{\"colorbar\": {\"outlinewidth\": 0, \"ticks\": \"\"}, \"colorscale\": [[0.0, \"#0d0887\"], [0.1111111111111111, \"#46039f\"], [0.2222222222222222, \"#7201a8\"], [0.3333333333333333, \"#9c179e\"], [0.4444444444444444, \"#bd3786\"], [0.5555555555555556, \"#d8576b\"], [0.6666666666666666, \"#ed7953\"], [0.7777777777777778, \"#fb9f3a\"], [0.8888888888888888, \"#fdca26\"], [1.0, \"#f0f921\"]], \"type\": \"histogram2d\"}], \"histogram2dcontour\": [{\"colorbar\": {\"outlinewidth\": 0, \"ticks\": \"\"}, \"colorscale\": [[0.0, \"#0d0887\"], [0.1111111111111111, \"#46039f\"], [0.2222222222222222, \"#7201a8\"], [0.3333333333333333, \"#9c179e\"], [0.4444444444444444, \"#bd3786\"], [0.5555555555555556, \"#d8576b\"], [0.6666666666666666, \"#ed7953\"], [0.7777777777777778, \"#fb9f3a\"], [0.8888888888888888, \"#fdca26\"], [1.0, \"#f0f921\"]], \"type\": \"histogram2dcontour\"}], \"mesh3d\": [{\"colorbar\": {\"outlinewidth\": 0, \"ticks\": \"\"}, \"type\": \"mesh3d\"}], \"parcoords\": [{\"line\": {\"colorbar\": {\"outlinewidth\": 0, \"ticks\": \"\"}}, \"type\": \"parcoords\"}], \"pie\": [{\"automargin\": true, \"type\": \"pie\"}], \"scatter\": [{\"marker\": {\"colorbar\": {\"outlinewidth\": 0, \"ticks\": \"\"}}, \"type\": \"scatter\"}], \"scatter3d\": [{\"line\": {\"colorbar\": {\"outlinewidth\": 0, \"ticks\": \"\"}}, \"marker\": {\"colorbar\": {\"outlinewidth\": 0, \"ticks\": \"\"}}, \"type\": \"scatter3d\"}], \"scattercarpet\": [{\"marker\": {\"colorbar\": {\"outlinewidth\": 0, \"ticks\": \"\"}}, \"type\": \"scattercarpet\"}], \"scattergeo\": [{\"marker\": {\"colorbar\": {\"outlinewidth\": 0, \"ticks\": \"\"}}, \"type\": \"scattergeo\"}], \"scattergl\": [{\"marker\": {\"colorbar\": {\"outlinewidth\": 0, \"ticks\": \"\"}}, \"type\": \"scattergl\"}], \"scattermapbox\": [{\"marker\": {\"colorbar\": {\"outlinewidth\": 0, \"ticks\": \"\"}}, \"type\": \"scattermapbox\"}], \"scatterpolar\": [{\"marker\": {\"colorbar\": {\"outlinewidth\": 0, \"ticks\": \"\"}}, \"type\": \"scatterpolar\"}], \"scatterpolargl\": [{\"marker\": {\"colorbar\": {\"outlinewidth\": 0, \"ticks\": \"\"}}, \"type\": \"scatterpolargl\"}], \"scatterternary\": [{\"marker\": {\"colorbar\": {\"outlinewidth\": 0, \"ticks\": \"\"}}, \"type\": \"scatterternary\"}], \"surface\": [{\"colorbar\": {\"outlinewidth\": 0, \"ticks\": \"\"}, \"colorscale\": [[0.0, \"#0d0887\"], [0.1111111111111111, \"#46039f\"], [0.2222222222222222, \"#7201a8\"], [0.3333333333333333, \"#9c179e\"], [0.4444444444444444, \"#bd3786\"], [0.5555555555555556, \"#d8576b\"], [0.6666666666666666, \"#ed7953\"], [0.7777777777777778, \"#fb9f3a\"], [0.8888888888888888, \"#fdca26\"], [1.0, \"#f0f921\"]], \"type\": \"surface\"}], \"table\": [{\"cells\": {\"fill\": {\"color\": \"#EBF0F8\"}, \"line\": {\"color\": \"white\"}}, \"header\": {\"fill\": {\"color\": \"#C8D4E3\"}, \"line\": {\"color\": \"white\"}}, \"type\": \"table\"}]}, \"layout\": {\"annotationdefaults\": {\"arrowcolor\": \"#2a3f5f\", \"arrowhead\": 0, \"arrowwidth\": 1}, \"coloraxis\": {\"colorbar\": {\"outlinewidth\": 0, \"ticks\": \"\"}}, \"colorscale\": {\"diverging\": [[0, \"#8e0152\"], [0.1, \"#c51b7d\"], [0.2, \"#de77ae\"], [0.3, \"#f1b6da\"], [0.4, \"#fde0ef\"], [0.5, \"#f7f7f7\"], [0.6, \"#e6f5d0\"], [0.7, \"#b8e186\"], [0.8, \"#7fbc41\"], [0.9, \"#4d9221\"], [1, \"#276419\"]], \"sequential\": [[0.0, \"#0d0887\"], [0.1111111111111111, \"#46039f\"], [0.2222222222222222, \"#7201a8\"], [0.3333333333333333, \"#9c179e\"], [0.4444444444444444, \"#bd3786\"], [0.5555555555555556, \"#d8576b\"], [0.6666666666666666, \"#ed7953\"], [0.7777777777777778, \"#fb9f3a\"], [0.8888888888888888, \"#fdca26\"], [1.0, \"#f0f921\"]], \"sequentialminus\": [[0.0, \"#0d0887\"], [0.1111111111111111, \"#46039f\"], [0.2222222222222222, \"#7201a8\"], [0.3333333333333333, \"#9c179e\"], [0.4444444444444444, \"#bd3786\"], [0.5555555555555556, \"#d8576b\"], [0.6666666666666666, \"#ed7953\"], [0.7777777777777778, \"#fb9f3a\"], [0.8888888888888888, \"#fdca26\"], [1.0, \"#f0f921\"]]}, \"colorway\": [\"#636efa\", \"#EF553B\", \"#00cc96\", \"#ab63fa\", \"#FFA15A\", \"#19d3f3\", \"#FF6692\", \"#B6E880\", \"#FF97FF\", \"#FECB52\"], \"font\": {\"color\": \"#2a3f5f\"}, \"geo\": {\"bgcolor\": \"white\", \"lakecolor\": \"white\", \"landcolor\": \"#E5ECF6\", \"showlakes\": true, \"showland\": true, \"subunitcolor\": \"white\"}, \"hoverlabel\": {\"align\": \"left\"}, \"hovermode\": \"closest\", \"mapbox\": {\"style\": \"light\"}, \"paper_bgcolor\": \"white\", \"plot_bgcolor\": \"#E5ECF6\", \"polar\": {\"angularaxis\": {\"gridcolor\": \"white\", \"linecolor\": \"white\", \"ticks\": \"\"}, \"bgcolor\": \"#E5ECF6\", \"radialaxis\": {\"gridcolor\": \"white\", \"linecolor\": \"white\", \"ticks\": \"\"}}, \"scene\": {\"xaxis\": {\"backgroundcolor\": \"#E5ECF6\", \"gridcolor\": \"white\", \"gridwidth\": 2, \"linecolor\": \"white\", \"showbackground\": true, \"ticks\": \"\", \"zerolinecolor\": \"white\"}, \"yaxis\": {\"backgroundcolor\": \"#E5ECF6\", \"gridcolor\": \"white\", \"gridwidth\": 2, \"linecolor\": \"white\", \"showbackground\": true, \"ticks\": \"\", \"zerolinecolor\": \"white\"}, \"zaxis\": {\"backgroundcolor\": \"#E5ECF6\", \"gridcolor\": \"white\", \"gridwidth\": 2, \"linecolor\": \"white\", \"showbackground\": true, \"ticks\": \"\", \"zerolinecolor\": \"white\"}}, \"shapedefaults\": {\"line\": {\"color\": \"#2a3f5f\"}}, \"ternary\": {\"aaxis\": {\"gridcolor\": \"white\", \"linecolor\": \"white\", \"ticks\": \"\"}, \"baxis\": {\"gridcolor\": \"white\", \"linecolor\": \"white\", \"ticks\": \"\"}, \"bgcolor\": \"#E5ECF6\", \"caxis\": {\"gridcolor\": \"white\", \"linecolor\": \"white\", \"ticks\": \"\"}}, \"title\": {\"x\": 0.05}, \"xaxis\": {\"automargin\": true, \"gridcolor\": \"white\", \"linecolor\": \"white\", \"ticks\": \"\", \"title\": {\"standoff\": 15}, \"zerolinecolor\": \"white\", \"zerolinewidth\": 2}, \"yaxis\": {\"automargin\": true, \"gridcolor\": \"white\", \"linecolor\": \"white\", \"ticks\": \"\", \"title\": {\"standoff\": 15}, \"zerolinecolor\": \"white\", \"zerolinewidth\": 2}}}, \"title\": {\"text\": \"Most commited crimes against economic patrimony per gender\"}, \"uniformtext\": {\"minsize\": 6, \"mode\": \"hide\"}, \"width\": 900, \"xaxis\": {\"anchor\": \"y\", \"domain\": [0.0, 1.0], \"tickangle\": -45, \"tickfont\": {\"color\": \"black\", \"family\": \"Rockwell\", \"size\": 8}, \"title\": {\"text\": \"DELITO\"}}, \"yaxis\": {\"anchor\": \"x\", \"domain\": [0.0, 1.0], \"title\": {\"text\": \"Amount of recidivist economic crimes\"}}},\n",
       "                        {\"responsive\": true}\n",
       "                    ).then(function(){\n",
       "                            \n",
       "var gd = document.getElementById('9ab97119-f52d-4744-bf8c-81c2241699ca');\n",
       "var x = new MutationObserver(function (mutations, observer) {{\n",
       "        var display = window.getComputedStyle(gd).display;\n",
       "        if (!display || display === 'none') {{\n",
       "            console.log([gd, 'removed!']);\n",
       "            Plotly.purge(gd);\n",
       "            observer.disconnect();\n",
       "        }}\n",
       "}});\n",
       "\n",
       "// Listen for the removal of the full notebook cells\n",
       "var notebookContainer = gd.closest('#notebook-container');\n",
       "if (notebookContainer) {{\n",
       "    x.observe(notebookContainer, {childList: true});\n",
       "}}\n",
       "\n",
       "// Listen for the clearing of the current output cell\n",
       "var outputEl = gd.closest('.output');\n",
       "if (outputEl) {{\n",
       "    x.observe(outputEl, {childList: true});\n",
       "}}\n",
       "\n",
       "                        })\n",
       "                };\n",
       "                });\n",
       "            </script>\n",
       "        </div>"
      ]
     },
     "metadata": {},
     "output_type": "display_data"
    }
   ],
   "source": [
    "fig = px.bar(economic_crime, x='DELITO', y='COUNT',\n",
    "             hover_data=[\"GENERO\",'DELITO'], color='GENERO',\n",
    "             labels={'COUNT':'Amount of recidivist economic crimes'}, barmode='relative', text=\"COUNT\")\n",
    "fig.update_traces(texttemplate='%{text:.2s}', textposition='outside')\n",
    "fig.update_layout(uniformtext_minsize=6, uniformtext_mode='hide', xaxis_tickangle=-45, showlegend=True, autosize=False,\n",
    "                 width=900, height=700, margin=dict(l=50, r=50, b=100, t=100, pad=4 ),\n",
    "                  title=\"Most commited crimes against economic patrimony per gender\",\n",
    "                 )\n",
    "fig.update_xaxes( tickfont=dict(family='Rockwell', color='black', size=8)) #tickangle=45,\n",
    "\n",
    "fig.show()"
   ]
  },
  {
   "cell_type": "code",
   "execution_count": 46,
   "metadata": {},
   "outputs": [],
   "source": [
    "female_crime = df_mj[(df_mj[\"TITULO_DELITO\"]==\"CONTRA LA SALUD PUBLICA\")].groupby([\"GENERO\", \"DELITO\"])[\"DELITO\"].agg(\"count\")\n",
    "female_crime = pd.DataFrame(female_crime)\n",
    "female_crime.rename(columns={\"DELITO\": \"COUNT\"},inplace=True)\n",
    "female_crime.reset_index(inplace=True)\n"
   ]
  },
  {
   "cell_type": "code",
   "execution_count": 47,
   "metadata": {
    "scrolled": true
   },
   "outputs": [
    {
     "data": {
      "application/vnd.plotly.v1+json": {
       "config": {
        "plotlyServerURL": "https://plot.ly"
       },
       "data": [
        {
         "alignmentgroup": "True",
         "customdata": [
          [
           "FEMENINO",
           "CONSERVACION O FINANCIACION DE PLANTACIONES"
          ],
          [
           "FEMENINO",
           "CORRUPCION DE ALIMENTOS PRODUCTOS MEDICOS O MATERIAL PROFILACTICO"
          ],
          [
           "FEMENINO",
           "DESTINACION ILICITA DE MUEBLES O INMUEBLES"
          ],
          [
           "FEMENINO",
           "ENAJENACIÓN ILEGAL DE MEDICAMENTOS"
          ],
          [
           "FEMENINO",
           "ESTIMULO AL USO ILICITO"
          ],
          [
           "FEMENINO",
           "FABRICACION Y COMERCIALIZACION DE SUSTANCIAS NOCIVAS PARA LA SALUD"
          ],
          [
           "FEMENINO",
           "IMITACION O SIMULACION DE ALIMENTOS PRODUCTOS O SUSTANCIAS"
          ],
          [
           "FEMENINO",
           "INFRACCION LEY 30 DE 1986"
          ],
          [
           "FEMENINO",
           "SUMINISTRO A MENOR"
          ],
          [
           "FEMENINO",
           "TRAFICO DE SUSTANCIAS PARA PROCESAMIENTO DE NARCOTICOS"
          ],
          [
           "FEMENINO",
           "TRAFICO FABRICACION O PORTE DE ESTUPEFACIENTES"
          ]
         ],
         "hovertemplate": "GENERO=%{customdata[0]}<br>DELITO=%{customdata[1]}<br>Amount of recidivist crimes against public health=%{text}<extra></extra>",
         "legendgroup": "FEMENINO",
         "marker": {
          "color": "#636efa"
         },
         "name": "FEMENINO",
         "offsetgroup": "FEMENINO",
         "orientation": "v",
         "showlegend": true,
         "text": [
          2,
          8,
          174,
          1,
          3,
          1,
          7,
          2,
          4,
          10,
          4313
         ],
         "textposition": "outside",
         "texttemplate": "%{text:.2s}",
         "type": "bar",
         "x": [
          "CONSERVACION O FINANCIACION DE PLANTACIONES",
          "CORRUPCION DE ALIMENTOS PRODUCTOS MEDICOS O MATERIAL PROFILACTICO",
          "DESTINACION ILICITA DE MUEBLES O INMUEBLES",
          "ENAJENACIÓN ILEGAL DE MEDICAMENTOS",
          "ESTIMULO AL USO ILICITO",
          "FABRICACION Y COMERCIALIZACION DE SUSTANCIAS NOCIVAS PARA LA SALUD",
          "IMITACION O SIMULACION DE ALIMENTOS PRODUCTOS O SUSTANCIAS",
          "INFRACCION LEY 30 DE 1986",
          "SUMINISTRO A MENOR",
          "TRAFICO DE SUSTANCIAS PARA PROCESAMIENTO DE NARCOTICOS",
          "TRAFICO FABRICACION O PORTE DE ESTUPEFACIENTES"
         ],
         "xaxis": "x",
         "y": [
          2,
          8,
          174,
          1,
          3,
          1,
          7,
          2,
          4,
          10,
          4313
         ],
         "yaxis": "y"
        },
        {
         "alignmentgroup": "True",
         "customdata": [
          [
           "MASCULINO",
           "CONSERVACION O FINANCIACION DE PLANTACIONES"
          ],
          [
           "MASCULINO",
           "CORRUPCION DE ALIMENTOS PRODUCTOS MEDICOS O MATERIAL PROFILACTICO"
          ],
          [
           "MASCULINO",
           "DESTINACION ILICITA DE MUEBLES O INMUEBLES"
          ],
          [
           "MASCULINO",
           "ENAJENACIÓN ILEGAL DE MEDICAMENTOS"
          ],
          [
           "MASCULINO",
           "ESTIMULO AL USO ILICITO"
          ],
          [
           "MASCULINO",
           "FABRICACION Y COMERCIALIZACION DE SUSTANCIAS NOCIVAS PARA LA SALUD"
          ],
          [
           "MASCULINO",
           "IMITACION O SIMULACION DE ALIMENTOS PRODUCTOS O SUSTANCIAS"
          ],
          [
           "MASCULINO",
           "INFRACCION LEY 30 DE 1986"
          ],
          [
           "MASCULINO",
           "PORTE DE SUSTANCIAS"
          ],
          [
           "MASCULINO",
           "PROPAGACION DEL VIRUS DE INMUNODEFICIENCIA HUMANA O DE LA HEPATITIS B"
          ],
          [
           "MASCULINO",
           "SUMINISTRO A MENOR"
          ],
          [
           "MASCULINO",
           "TRAFICO DE SUSTANCIAS PARA PROCESAMIENTO DE NARCOTICOS"
          ],
          [
           "MASCULINO",
           "TRAFICO FABRICACION O PORTE DE ESTUPEFACIENTES"
          ],
          [
           "MASCULINO",
           "VIOLACION DE MEDIDAS SANITARIAS"
          ]
         ],
         "hovertemplate": "GENERO=%{customdata[0]}<br>DELITO=%{customdata[1]}<br>Amount of recidivist crimes against public health=%{text}<extra></extra>",
         "legendgroup": "MASCULINO",
         "marker": {
          "color": "#EF553B"
         },
         "name": "MASCULINO",
         "offsetgroup": "MASCULINO",
         "orientation": "v",
         "showlegend": true,
         "text": [
          81,
          63,
          388,
          5,
          8,
          4,
          55,
          12,
          4,
          1,
          18,
          252,
          19610,
          2
         ],
         "textposition": "outside",
         "texttemplate": "%{text:.2s}",
         "type": "bar",
         "x": [
          "CONSERVACION O FINANCIACION DE PLANTACIONES",
          "CORRUPCION DE ALIMENTOS PRODUCTOS MEDICOS O MATERIAL PROFILACTICO",
          "DESTINACION ILICITA DE MUEBLES O INMUEBLES",
          "ENAJENACIÓN ILEGAL DE MEDICAMENTOS",
          "ESTIMULO AL USO ILICITO",
          "FABRICACION Y COMERCIALIZACION DE SUSTANCIAS NOCIVAS PARA LA SALUD",
          "IMITACION O SIMULACION DE ALIMENTOS PRODUCTOS O SUSTANCIAS",
          "INFRACCION LEY 30 DE 1986",
          "PORTE DE SUSTANCIAS",
          "PROPAGACION DEL VIRUS DE INMUNODEFICIENCIA HUMANA O DE LA HEPATITIS B",
          "SUMINISTRO A MENOR",
          "TRAFICO DE SUSTANCIAS PARA PROCESAMIENTO DE NARCOTICOS",
          "TRAFICO FABRICACION O PORTE DE ESTUPEFACIENTES",
          "VIOLACION DE MEDIDAS SANITARIAS"
         ],
         "xaxis": "x",
         "y": [
          81,
          63,
          388,
          5,
          8,
          4,
          55,
          12,
          4,
          1,
          18,
          252,
          19610,
          2
         ],
         "yaxis": "y"
        }
       ],
       "layout": {
        "autosize": false,
        "barmode": "relative",
        "height": 700,
        "legend": {
         "title": {
          "text": "GENERO"
         },
         "tracegroupgap": 0
        },
        "margin": {
         "b": 100,
         "l": 50,
         "pad": 4,
         "r": 50,
         "t": 100
        },
        "showlegend": true,
        "template": {
         "data": {
          "bar": [
           {
            "error_x": {
             "color": "#2a3f5f"
            },
            "error_y": {
             "color": "#2a3f5f"
            },
            "marker": {
             "line": {
              "color": "#E5ECF6",
              "width": 0.5
             }
            },
            "type": "bar"
           }
          ],
          "barpolar": [
           {
            "marker": {
             "line": {
              "color": "#E5ECF6",
              "width": 0.5
             }
            },
            "type": "barpolar"
           }
          ],
          "carpet": [
           {
            "aaxis": {
             "endlinecolor": "#2a3f5f",
             "gridcolor": "white",
             "linecolor": "white",
             "minorgridcolor": "white",
             "startlinecolor": "#2a3f5f"
            },
            "baxis": {
             "endlinecolor": "#2a3f5f",
             "gridcolor": "white",
             "linecolor": "white",
             "minorgridcolor": "white",
             "startlinecolor": "#2a3f5f"
            },
            "type": "carpet"
           }
          ],
          "choropleth": [
           {
            "colorbar": {
             "outlinewidth": 0,
             "ticks": ""
            },
            "type": "choropleth"
           }
          ],
          "contour": [
           {
            "colorbar": {
             "outlinewidth": 0,
             "ticks": ""
            },
            "colorscale": [
             [
              0,
              "#0d0887"
             ],
             [
              0.1111111111111111,
              "#46039f"
             ],
             [
              0.2222222222222222,
              "#7201a8"
             ],
             [
              0.3333333333333333,
              "#9c179e"
             ],
             [
              0.4444444444444444,
              "#bd3786"
             ],
             [
              0.5555555555555556,
              "#d8576b"
             ],
             [
              0.6666666666666666,
              "#ed7953"
             ],
             [
              0.7777777777777778,
              "#fb9f3a"
             ],
             [
              0.8888888888888888,
              "#fdca26"
             ],
             [
              1,
              "#f0f921"
             ]
            ],
            "type": "contour"
           }
          ],
          "contourcarpet": [
           {
            "colorbar": {
             "outlinewidth": 0,
             "ticks": ""
            },
            "type": "contourcarpet"
           }
          ],
          "heatmap": [
           {
            "colorbar": {
             "outlinewidth": 0,
             "ticks": ""
            },
            "colorscale": [
             [
              0,
              "#0d0887"
             ],
             [
              0.1111111111111111,
              "#46039f"
             ],
             [
              0.2222222222222222,
              "#7201a8"
             ],
             [
              0.3333333333333333,
              "#9c179e"
             ],
             [
              0.4444444444444444,
              "#bd3786"
             ],
             [
              0.5555555555555556,
              "#d8576b"
             ],
             [
              0.6666666666666666,
              "#ed7953"
             ],
             [
              0.7777777777777778,
              "#fb9f3a"
             ],
             [
              0.8888888888888888,
              "#fdca26"
             ],
             [
              1,
              "#f0f921"
             ]
            ],
            "type": "heatmap"
           }
          ],
          "heatmapgl": [
           {
            "colorbar": {
             "outlinewidth": 0,
             "ticks": ""
            },
            "colorscale": [
             [
              0,
              "#0d0887"
             ],
             [
              0.1111111111111111,
              "#46039f"
             ],
             [
              0.2222222222222222,
              "#7201a8"
             ],
             [
              0.3333333333333333,
              "#9c179e"
             ],
             [
              0.4444444444444444,
              "#bd3786"
             ],
             [
              0.5555555555555556,
              "#d8576b"
             ],
             [
              0.6666666666666666,
              "#ed7953"
             ],
             [
              0.7777777777777778,
              "#fb9f3a"
             ],
             [
              0.8888888888888888,
              "#fdca26"
             ],
             [
              1,
              "#f0f921"
             ]
            ],
            "type": "heatmapgl"
           }
          ],
          "histogram": [
           {
            "marker": {
             "colorbar": {
              "outlinewidth": 0,
              "ticks": ""
             }
            },
            "type": "histogram"
           }
          ],
          "histogram2d": [
           {
            "colorbar": {
             "outlinewidth": 0,
             "ticks": ""
            },
            "colorscale": [
             [
              0,
              "#0d0887"
             ],
             [
              0.1111111111111111,
              "#46039f"
             ],
             [
              0.2222222222222222,
              "#7201a8"
             ],
             [
              0.3333333333333333,
              "#9c179e"
             ],
             [
              0.4444444444444444,
              "#bd3786"
             ],
             [
              0.5555555555555556,
              "#d8576b"
             ],
             [
              0.6666666666666666,
              "#ed7953"
             ],
             [
              0.7777777777777778,
              "#fb9f3a"
             ],
             [
              0.8888888888888888,
              "#fdca26"
             ],
             [
              1,
              "#f0f921"
             ]
            ],
            "type": "histogram2d"
           }
          ],
          "histogram2dcontour": [
           {
            "colorbar": {
             "outlinewidth": 0,
             "ticks": ""
            },
            "colorscale": [
             [
              0,
              "#0d0887"
             ],
             [
              0.1111111111111111,
              "#46039f"
             ],
             [
              0.2222222222222222,
              "#7201a8"
             ],
             [
              0.3333333333333333,
              "#9c179e"
             ],
             [
              0.4444444444444444,
              "#bd3786"
             ],
             [
              0.5555555555555556,
              "#d8576b"
             ],
             [
              0.6666666666666666,
              "#ed7953"
             ],
             [
              0.7777777777777778,
              "#fb9f3a"
             ],
             [
              0.8888888888888888,
              "#fdca26"
             ],
             [
              1,
              "#f0f921"
             ]
            ],
            "type": "histogram2dcontour"
           }
          ],
          "mesh3d": [
           {
            "colorbar": {
             "outlinewidth": 0,
             "ticks": ""
            },
            "type": "mesh3d"
           }
          ],
          "parcoords": [
           {
            "line": {
             "colorbar": {
              "outlinewidth": 0,
              "ticks": ""
             }
            },
            "type": "parcoords"
           }
          ],
          "pie": [
           {
            "automargin": true,
            "type": "pie"
           }
          ],
          "scatter": [
           {
            "marker": {
             "colorbar": {
              "outlinewidth": 0,
              "ticks": ""
             }
            },
            "type": "scatter"
           }
          ],
          "scatter3d": [
           {
            "line": {
             "colorbar": {
              "outlinewidth": 0,
              "ticks": ""
             }
            },
            "marker": {
             "colorbar": {
              "outlinewidth": 0,
              "ticks": ""
             }
            },
            "type": "scatter3d"
           }
          ],
          "scattercarpet": [
           {
            "marker": {
             "colorbar": {
              "outlinewidth": 0,
              "ticks": ""
             }
            },
            "type": "scattercarpet"
           }
          ],
          "scattergeo": [
           {
            "marker": {
             "colorbar": {
              "outlinewidth": 0,
              "ticks": ""
             }
            },
            "type": "scattergeo"
           }
          ],
          "scattergl": [
           {
            "marker": {
             "colorbar": {
              "outlinewidth": 0,
              "ticks": ""
             }
            },
            "type": "scattergl"
           }
          ],
          "scattermapbox": [
           {
            "marker": {
             "colorbar": {
              "outlinewidth": 0,
              "ticks": ""
             }
            },
            "type": "scattermapbox"
           }
          ],
          "scatterpolar": [
           {
            "marker": {
             "colorbar": {
              "outlinewidth": 0,
              "ticks": ""
             }
            },
            "type": "scatterpolar"
           }
          ],
          "scatterpolargl": [
           {
            "marker": {
             "colorbar": {
              "outlinewidth": 0,
              "ticks": ""
             }
            },
            "type": "scatterpolargl"
           }
          ],
          "scatterternary": [
           {
            "marker": {
             "colorbar": {
              "outlinewidth": 0,
              "ticks": ""
             }
            },
            "type": "scatterternary"
           }
          ],
          "surface": [
           {
            "colorbar": {
             "outlinewidth": 0,
             "ticks": ""
            },
            "colorscale": [
             [
              0,
              "#0d0887"
             ],
             [
              0.1111111111111111,
              "#46039f"
             ],
             [
              0.2222222222222222,
              "#7201a8"
             ],
             [
              0.3333333333333333,
              "#9c179e"
             ],
             [
              0.4444444444444444,
              "#bd3786"
             ],
             [
              0.5555555555555556,
              "#d8576b"
             ],
             [
              0.6666666666666666,
              "#ed7953"
             ],
             [
              0.7777777777777778,
              "#fb9f3a"
             ],
             [
              0.8888888888888888,
              "#fdca26"
             ],
             [
              1,
              "#f0f921"
             ]
            ],
            "type": "surface"
           }
          ],
          "table": [
           {
            "cells": {
             "fill": {
              "color": "#EBF0F8"
             },
             "line": {
              "color": "white"
             }
            },
            "header": {
             "fill": {
              "color": "#C8D4E3"
             },
             "line": {
              "color": "white"
             }
            },
            "type": "table"
           }
          ]
         },
         "layout": {
          "annotationdefaults": {
           "arrowcolor": "#2a3f5f",
           "arrowhead": 0,
           "arrowwidth": 1
          },
          "coloraxis": {
           "colorbar": {
            "outlinewidth": 0,
            "ticks": ""
           }
          },
          "colorscale": {
           "diverging": [
            [
             0,
             "#8e0152"
            ],
            [
             0.1,
             "#c51b7d"
            ],
            [
             0.2,
             "#de77ae"
            ],
            [
             0.3,
             "#f1b6da"
            ],
            [
             0.4,
             "#fde0ef"
            ],
            [
             0.5,
             "#f7f7f7"
            ],
            [
             0.6,
             "#e6f5d0"
            ],
            [
             0.7,
             "#b8e186"
            ],
            [
             0.8,
             "#7fbc41"
            ],
            [
             0.9,
             "#4d9221"
            ],
            [
             1,
             "#276419"
            ]
           ],
           "sequential": [
            [
             0,
             "#0d0887"
            ],
            [
             0.1111111111111111,
             "#46039f"
            ],
            [
             0.2222222222222222,
             "#7201a8"
            ],
            [
             0.3333333333333333,
             "#9c179e"
            ],
            [
             0.4444444444444444,
             "#bd3786"
            ],
            [
             0.5555555555555556,
             "#d8576b"
            ],
            [
             0.6666666666666666,
             "#ed7953"
            ],
            [
             0.7777777777777778,
             "#fb9f3a"
            ],
            [
             0.8888888888888888,
             "#fdca26"
            ],
            [
             1,
             "#f0f921"
            ]
           ],
           "sequentialminus": [
            [
             0,
             "#0d0887"
            ],
            [
             0.1111111111111111,
             "#46039f"
            ],
            [
             0.2222222222222222,
             "#7201a8"
            ],
            [
             0.3333333333333333,
             "#9c179e"
            ],
            [
             0.4444444444444444,
             "#bd3786"
            ],
            [
             0.5555555555555556,
             "#d8576b"
            ],
            [
             0.6666666666666666,
             "#ed7953"
            ],
            [
             0.7777777777777778,
             "#fb9f3a"
            ],
            [
             0.8888888888888888,
             "#fdca26"
            ],
            [
             1,
             "#f0f921"
            ]
           ]
          },
          "colorway": [
           "#636efa",
           "#EF553B",
           "#00cc96",
           "#ab63fa",
           "#FFA15A",
           "#19d3f3",
           "#FF6692",
           "#B6E880",
           "#FF97FF",
           "#FECB52"
          ],
          "font": {
           "color": "#2a3f5f"
          },
          "geo": {
           "bgcolor": "white",
           "lakecolor": "white",
           "landcolor": "#E5ECF6",
           "showlakes": true,
           "showland": true,
           "subunitcolor": "white"
          },
          "hoverlabel": {
           "align": "left"
          },
          "hovermode": "closest",
          "mapbox": {
           "style": "light"
          },
          "paper_bgcolor": "white",
          "plot_bgcolor": "#E5ECF6",
          "polar": {
           "angularaxis": {
            "gridcolor": "white",
            "linecolor": "white",
            "ticks": ""
           },
           "bgcolor": "#E5ECF6",
           "radialaxis": {
            "gridcolor": "white",
            "linecolor": "white",
            "ticks": ""
           }
          },
          "scene": {
           "xaxis": {
            "backgroundcolor": "#E5ECF6",
            "gridcolor": "white",
            "gridwidth": 2,
            "linecolor": "white",
            "showbackground": true,
            "ticks": "",
            "zerolinecolor": "white"
           },
           "yaxis": {
            "backgroundcolor": "#E5ECF6",
            "gridcolor": "white",
            "gridwidth": 2,
            "linecolor": "white",
            "showbackground": true,
            "ticks": "",
            "zerolinecolor": "white"
           },
           "zaxis": {
            "backgroundcolor": "#E5ECF6",
            "gridcolor": "white",
            "gridwidth": 2,
            "linecolor": "white",
            "showbackground": true,
            "ticks": "",
            "zerolinecolor": "white"
           }
          },
          "shapedefaults": {
           "line": {
            "color": "#2a3f5f"
           }
          },
          "ternary": {
           "aaxis": {
            "gridcolor": "white",
            "linecolor": "white",
            "ticks": ""
           },
           "baxis": {
            "gridcolor": "white",
            "linecolor": "white",
            "ticks": ""
           },
           "bgcolor": "#E5ECF6",
           "caxis": {
            "gridcolor": "white",
            "linecolor": "white",
            "ticks": ""
           }
          },
          "title": {
           "x": 0.05
          },
          "xaxis": {
           "automargin": true,
           "gridcolor": "white",
           "linecolor": "white",
           "ticks": "",
           "title": {
            "standoff": 15
           },
           "zerolinecolor": "white",
           "zerolinewidth": 2
          },
          "yaxis": {
           "automargin": true,
           "gridcolor": "white",
           "linecolor": "white",
           "ticks": "",
           "title": {
            "standoff": 15
           },
           "zerolinecolor": "white",
           "zerolinewidth": 2
          }
         }
        },
        "title": {
         "text": "Most commited crimes against public health per gender"
        },
        "uniformtext": {
         "minsize": 6,
         "mode": "hide"
        },
        "width": 900,
        "xaxis": {
         "anchor": "y",
         "domain": [
          0,
          1
         ],
         "tickangle": -45,
         "tickfont": {
          "color": "black",
          "family": "Rockwell",
          "size": 8
         },
         "title": {
          "text": "DELITO"
         }
        },
        "yaxis": {
         "anchor": "x",
         "domain": [
          0,
          1
         ],
         "title": {
          "text": "Amount of recidivist crimes against public health"
         }
        }
       }
      },
      "text/html": [
       "<div>\n",
       "        \n",
       "        \n",
       "            <div id=\"73b219ab-1242-4b47-a413-ce854b08dfae\" class=\"plotly-graph-div\" style=\"height:700px; width:900px;\"></div>\n",
       "            <script type=\"text/javascript\">\n",
       "                require([\"plotly\"], function(Plotly) {\n",
       "                    window.PLOTLYENV=window.PLOTLYENV || {};\n",
       "                    \n",
       "                if (document.getElementById(\"73b219ab-1242-4b47-a413-ce854b08dfae\")) {\n",
       "                    Plotly.newPlot(\n",
       "                        '73b219ab-1242-4b47-a413-ce854b08dfae',\n",
       "                        [{\"alignmentgroup\": \"True\", \"customdata\": [[\"FEMENINO\", \"CONSERVACION O FINANCIACION DE PLANTACIONES\"], [\"FEMENINO\", \"CORRUPCION DE ALIMENTOS PRODUCTOS MEDICOS O MATERIAL PROFILACTICO\"], [\"FEMENINO\", \"DESTINACION ILICITA DE MUEBLES O INMUEBLES\"], [\"FEMENINO\", \"ENAJENACI\\u00d3N ILEGAL DE MEDICAMENTOS\"], [\"FEMENINO\", \"ESTIMULO AL USO ILICITO\"], [\"FEMENINO\", \"FABRICACION Y COMERCIALIZACION DE SUSTANCIAS NOCIVAS PARA LA SALUD\"], [\"FEMENINO\", \"IMITACION O SIMULACION DE ALIMENTOS PRODUCTOS O SUSTANCIAS\"], [\"FEMENINO\", \"INFRACCION LEY 30 DE 1986\"], [\"FEMENINO\", \"SUMINISTRO A MENOR\"], [\"FEMENINO\", \"TRAFICO DE SUSTANCIAS PARA PROCESAMIENTO DE NARCOTICOS\"], [\"FEMENINO\", \"TRAFICO FABRICACION O PORTE DE ESTUPEFACIENTES\"]], \"hovertemplate\": \"GENERO=%{customdata[0]}<br>DELITO=%{customdata[1]}<br>Amount of recidivist crimes against public health=%{text}<extra></extra>\", \"legendgroup\": \"FEMENINO\", \"marker\": {\"color\": \"#636efa\"}, \"name\": \"FEMENINO\", \"offsetgroup\": \"FEMENINO\", \"orientation\": \"v\", \"showlegend\": true, \"text\": [2.0, 8.0, 174.0, 1.0, 3.0, 1.0, 7.0, 2.0, 4.0, 10.0, 4313.0], \"textposition\": \"outside\", \"texttemplate\": \"%{text:.2s}\", \"type\": \"bar\", \"x\": [\"CONSERVACION O FINANCIACION DE PLANTACIONES\", \"CORRUPCION DE ALIMENTOS PRODUCTOS MEDICOS O MATERIAL PROFILACTICO\", \"DESTINACION ILICITA DE MUEBLES O INMUEBLES\", \"ENAJENACI\\u00d3N ILEGAL DE MEDICAMENTOS\", \"ESTIMULO AL USO ILICITO\", \"FABRICACION Y COMERCIALIZACION DE SUSTANCIAS NOCIVAS PARA LA SALUD\", \"IMITACION O SIMULACION DE ALIMENTOS PRODUCTOS O SUSTANCIAS\", \"INFRACCION LEY 30 DE 1986\", \"SUMINISTRO A MENOR\", \"TRAFICO DE SUSTANCIAS PARA PROCESAMIENTO DE NARCOTICOS\", \"TRAFICO FABRICACION O PORTE DE ESTUPEFACIENTES\"], \"xaxis\": \"x\", \"y\": [2, 8, 174, 1, 3, 1, 7, 2, 4, 10, 4313], \"yaxis\": \"y\"}, {\"alignmentgroup\": \"True\", \"customdata\": [[\"MASCULINO\", \"CONSERVACION O FINANCIACION DE PLANTACIONES\"], [\"MASCULINO\", \"CORRUPCION DE ALIMENTOS PRODUCTOS MEDICOS O MATERIAL PROFILACTICO\"], [\"MASCULINO\", \"DESTINACION ILICITA DE MUEBLES O INMUEBLES\"], [\"MASCULINO\", \"ENAJENACI\\u00d3N ILEGAL DE MEDICAMENTOS\"], [\"MASCULINO\", \"ESTIMULO AL USO ILICITO\"], [\"MASCULINO\", \"FABRICACION Y COMERCIALIZACION DE SUSTANCIAS NOCIVAS PARA LA SALUD\"], [\"MASCULINO\", \"IMITACION O SIMULACION DE ALIMENTOS PRODUCTOS O SUSTANCIAS\"], [\"MASCULINO\", \"INFRACCION LEY 30 DE 1986\"], [\"MASCULINO\", \"PORTE DE SUSTANCIAS\"], [\"MASCULINO\", \"PROPAGACION DEL VIRUS DE INMUNODEFICIENCIA HUMANA O DE LA HEPATITIS B\"], [\"MASCULINO\", \"SUMINISTRO A MENOR\"], [\"MASCULINO\", \"TRAFICO DE SUSTANCIAS PARA PROCESAMIENTO DE NARCOTICOS\"], [\"MASCULINO\", \"TRAFICO FABRICACION O PORTE DE ESTUPEFACIENTES\"], [\"MASCULINO\", \"VIOLACION DE MEDIDAS SANITARIAS\"]], \"hovertemplate\": \"GENERO=%{customdata[0]}<br>DELITO=%{customdata[1]}<br>Amount of recidivist crimes against public health=%{text}<extra></extra>\", \"legendgroup\": \"MASCULINO\", \"marker\": {\"color\": \"#EF553B\"}, \"name\": \"MASCULINO\", \"offsetgroup\": \"MASCULINO\", \"orientation\": \"v\", \"showlegend\": true, \"text\": [81.0, 63.0, 388.0, 5.0, 8.0, 4.0, 55.0, 12.0, 4.0, 1.0, 18.0, 252.0, 19610.0, 2.0], \"textposition\": \"outside\", \"texttemplate\": \"%{text:.2s}\", \"type\": \"bar\", \"x\": [\"CONSERVACION O FINANCIACION DE PLANTACIONES\", \"CORRUPCION DE ALIMENTOS PRODUCTOS MEDICOS O MATERIAL PROFILACTICO\", \"DESTINACION ILICITA DE MUEBLES O INMUEBLES\", \"ENAJENACI\\u00d3N ILEGAL DE MEDICAMENTOS\", \"ESTIMULO AL USO ILICITO\", \"FABRICACION Y COMERCIALIZACION DE SUSTANCIAS NOCIVAS PARA LA SALUD\", \"IMITACION O SIMULACION DE ALIMENTOS PRODUCTOS O SUSTANCIAS\", \"INFRACCION LEY 30 DE 1986\", \"PORTE DE SUSTANCIAS\", \"PROPAGACION DEL VIRUS DE INMUNODEFICIENCIA HUMANA O DE LA HEPATITIS B\", \"SUMINISTRO A MENOR\", \"TRAFICO DE SUSTANCIAS PARA PROCESAMIENTO DE NARCOTICOS\", \"TRAFICO FABRICACION O PORTE DE ESTUPEFACIENTES\", \"VIOLACION DE MEDIDAS SANITARIAS\"], \"xaxis\": \"x\", \"y\": [81, 63, 388, 5, 8, 4, 55, 12, 4, 1, 18, 252, 19610, 2], \"yaxis\": \"y\"}],\n",
       "                        {\"autosize\": false, \"barmode\": \"relative\", \"height\": 700, \"legend\": {\"title\": {\"text\": \"GENERO\"}, \"tracegroupgap\": 0}, \"margin\": {\"b\": 100, \"l\": 50, \"pad\": 4, \"r\": 50, \"t\": 100}, \"showlegend\": true, \"template\": {\"data\": {\"bar\": [{\"error_x\": {\"color\": \"#2a3f5f\"}, \"error_y\": {\"color\": \"#2a3f5f\"}, \"marker\": {\"line\": {\"color\": \"#E5ECF6\", \"width\": 0.5}}, \"type\": \"bar\"}], \"barpolar\": [{\"marker\": {\"line\": {\"color\": \"#E5ECF6\", \"width\": 0.5}}, \"type\": \"barpolar\"}], \"carpet\": [{\"aaxis\": {\"endlinecolor\": \"#2a3f5f\", \"gridcolor\": \"white\", \"linecolor\": \"white\", \"minorgridcolor\": \"white\", \"startlinecolor\": \"#2a3f5f\"}, \"baxis\": {\"endlinecolor\": \"#2a3f5f\", \"gridcolor\": \"white\", \"linecolor\": \"white\", \"minorgridcolor\": \"white\", \"startlinecolor\": \"#2a3f5f\"}, \"type\": \"carpet\"}], \"choropleth\": [{\"colorbar\": {\"outlinewidth\": 0, \"ticks\": \"\"}, \"type\": \"choropleth\"}], \"contour\": [{\"colorbar\": {\"outlinewidth\": 0, \"ticks\": \"\"}, \"colorscale\": [[0.0, \"#0d0887\"], [0.1111111111111111, \"#46039f\"], [0.2222222222222222, \"#7201a8\"], [0.3333333333333333, \"#9c179e\"], [0.4444444444444444, \"#bd3786\"], [0.5555555555555556, \"#d8576b\"], [0.6666666666666666, \"#ed7953\"], [0.7777777777777778, \"#fb9f3a\"], [0.8888888888888888, \"#fdca26\"], [1.0, \"#f0f921\"]], \"type\": \"contour\"}], \"contourcarpet\": [{\"colorbar\": {\"outlinewidth\": 0, \"ticks\": \"\"}, \"type\": \"contourcarpet\"}], \"heatmap\": [{\"colorbar\": {\"outlinewidth\": 0, \"ticks\": \"\"}, \"colorscale\": [[0.0, \"#0d0887\"], [0.1111111111111111, \"#46039f\"], [0.2222222222222222, \"#7201a8\"], [0.3333333333333333, \"#9c179e\"], [0.4444444444444444, \"#bd3786\"], [0.5555555555555556, \"#d8576b\"], [0.6666666666666666, \"#ed7953\"], [0.7777777777777778, \"#fb9f3a\"], [0.8888888888888888, \"#fdca26\"], [1.0, \"#f0f921\"]], \"type\": \"heatmap\"}], \"heatmapgl\": [{\"colorbar\": {\"outlinewidth\": 0, \"ticks\": \"\"}, \"colorscale\": [[0.0, \"#0d0887\"], [0.1111111111111111, \"#46039f\"], [0.2222222222222222, \"#7201a8\"], [0.3333333333333333, \"#9c179e\"], [0.4444444444444444, \"#bd3786\"], [0.5555555555555556, \"#d8576b\"], [0.6666666666666666, \"#ed7953\"], [0.7777777777777778, \"#fb9f3a\"], [0.8888888888888888, \"#fdca26\"], [1.0, \"#f0f921\"]], \"type\": \"heatmapgl\"}], \"histogram\": [{\"marker\": {\"colorbar\": {\"outlinewidth\": 0, \"ticks\": \"\"}}, \"type\": \"histogram\"}], \"histogram2d\": [{\"colorbar\": {\"outlinewidth\": 0, \"ticks\": \"\"}, \"colorscale\": [[0.0, \"#0d0887\"], [0.1111111111111111, \"#46039f\"], [0.2222222222222222, \"#7201a8\"], [0.3333333333333333, \"#9c179e\"], [0.4444444444444444, \"#bd3786\"], [0.5555555555555556, \"#d8576b\"], [0.6666666666666666, \"#ed7953\"], [0.7777777777777778, \"#fb9f3a\"], [0.8888888888888888, \"#fdca26\"], [1.0, \"#f0f921\"]], \"type\": \"histogram2d\"}], \"histogram2dcontour\": [{\"colorbar\": {\"outlinewidth\": 0, \"ticks\": \"\"}, \"colorscale\": [[0.0, \"#0d0887\"], [0.1111111111111111, \"#46039f\"], [0.2222222222222222, \"#7201a8\"], [0.3333333333333333, \"#9c179e\"], [0.4444444444444444, \"#bd3786\"], [0.5555555555555556, \"#d8576b\"], [0.6666666666666666, \"#ed7953\"], [0.7777777777777778, \"#fb9f3a\"], [0.8888888888888888, \"#fdca26\"], [1.0, \"#f0f921\"]], \"type\": \"histogram2dcontour\"}], \"mesh3d\": [{\"colorbar\": {\"outlinewidth\": 0, \"ticks\": \"\"}, \"type\": \"mesh3d\"}], \"parcoords\": [{\"line\": {\"colorbar\": {\"outlinewidth\": 0, \"ticks\": \"\"}}, \"type\": \"parcoords\"}], \"pie\": [{\"automargin\": true, \"type\": \"pie\"}], \"scatter\": [{\"marker\": {\"colorbar\": {\"outlinewidth\": 0, \"ticks\": \"\"}}, \"type\": \"scatter\"}], \"scatter3d\": [{\"line\": {\"colorbar\": {\"outlinewidth\": 0, \"ticks\": \"\"}}, \"marker\": {\"colorbar\": {\"outlinewidth\": 0, \"ticks\": \"\"}}, \"type\": \"scatter3d\"}], \"scattercarpet\": [{\"marker\": {\"colorbar\": {\"outlinewidth\": 0, \"ticks\": \"\"}}, \"type\": \"scattercarpet\"}], \"scattergeo\": [{\"marker\": {\"colorbar\": {\"outlinewidth\": 0, \"ticks\": \"\"}}, \"type\": \"scattergeo\"}], \"scattergl\": [{\"marker\": {\"colorbar\": {\"outlinewidth\": 0, \"ticks\": \"\"}}, \"type\": \"scattergl\"}], \"scattermapbox\": [{\"marker\": {\"colorbar\": {\"outlinewidth\": 0, \"ticks\": \"\"}}, \"type\": \"scattermapbox\"}], \"scatterpolar\": [{\"marker\": {\"colorbar\": {\"outlinewidth\": 0, \"ticks\": \"\"}}, \"type\": \"scatterpolar\"}], \"scatterpolargl\": [{\"marker\": {\"colorbar\": {\"outlinewidth\": 0, \"ticks\": \"\"}}, \"type\": \"scatterpolargl\"}], \"scatterternary\": [{\"marker\": {\"colorbar\": {\"outlinewidth\": 0, \"ticks\": \"\"}}, \"type\": \"scatterternary\"}], \"surface\": [{\"colorbar\": {\"outlinewidth\": 0, \"ticks\": \"\"}, \"colorscale\": [[0.0, \"#0d0887\"], [0.1111111111111111, \"#46039f\"], [0.2222222222222222, \"#7201a8\"], [0.3333333333333333, \"#9c179e\"], [0.4444444444444444, \"#bd3786\"], [0.5555555555555556, \"#d8576b\"], [0.6666666666666666, \"#ed7953\"], [0.7777777777777778, \"#fb9f3a\"], [0.8888888888888888, \"#fdca26\"], [1.0, \"#f0f921\"]], \"type\": \"surface\"}], \"table\": [{\"cells\": {\"fill\": {\"color\": \"#EBF0F8\"}, \"line\": {\"color\": \"white\"}}, \"header\": {\"fill\": {\"color\": \"#C8D4E3\"}, \"line\": {\"color\": \"white\"}}, \"type\": \"table\"}]}, \"layout\": {\"annotationdefaults\": {\"arrowcolor\": \"#2a3f5f\", \"arrowhead\": 0, \"arrowwidth\": 1}, \"coloraxis\": {\"colorbar\": {\"outlinewidth\": 0, \"ticks\": \"\"}}, \"colorscale\": {\"diverging\": [[0, \"#8e0152\"], [0.1, \"#c51b7d\"], [0.2, \"#de77ae\"], [0.3, \"#f1b6da\"], [0.4, \"#fde0ef\"], [0.5, \"#f7f7f7\"], [0.6, \"#e6f5d0\"], [0.7, \"#b8e186\"], [0.8, \"#7fbc41\"], [0.9, \"#4d9221\"], [1, \"#276419\"]], \"sequential\": [[0.0, \"#0d0887\"], [0.1111111111111111, \"#46039f\"], [0.2222222222222222, \"#7201a8\"], [0.3333333333333333, \"#9c179e\"], [0.4444444444444444, \"#bd3786\"], [0.5555555555555556, \"#d8576b\"], [0.6666666666666666, \"#ed7953\"], [0.7777777777777778, \"#fb9f3a\"], [0.8888888888888888, \"#fdca26\"], [1.0, \"#f0f921\"]], \"sequentialminus\": [[0.0, \"#0d0887\"], [0.1111111111111111, \"#46039f\"], [0.2222222222222222, \"#7201a8\"], [0.3333333333333333, \"#9c179e\"], [0.4444444444444444, \"#bd3786\"], [0.5555555555555556, \"#d8576b\"], [0.6666666666666666, \"#ed7953\"], [0.7777777777777778, \"#fb9f3a\"], [0.8888888888888888, \"#fdca26\"], [1.0, \"#f0f921\"]]}, \"colorway\": [\"#636efa\", \"#EF553B\", \"#00cc96\", \"#ab63fa\", \"#FFA15A\", \"#19d3f3\", \"#FF6692\", \"#B6E880\", \"#FF97FF\", \"#FECB52\"], \"font\": {\"color\": \"#2a3f5f\"}, \"geo\": {\"bgcolor\": \"white\", \"lakecolor\": \"white\", \"landcolor\": \"#E5ECF6\", \"showlakes\": true, \"showland\": true, \"subunitcolor\": \"white\"}, \"hoverlabel\": {\"align\": \"left\"}, \"hovermode\": \"closest\", \"mapbox\": {\"style\": \"light\"}, \"paper_bgcolor\": \"white\", \"plot_bgcolor\": \"#E5ECF6\", \"polar\": {\"angularaxis\": {\"gridcolor\": \"white\", \"linecolor\": \"white\", \"ticks\": \"\"}, \"bgcolor\": \"#E5ECF6\", \"radialaxis\": {\"gridcolor\": \"white\", \"linecolor\": \"white\", \"ticks\": \"\"}}, \"scene\": {\"xaxis\": {\"backgroundcolor\": \"#E5ECF6\", \"gridcolor\": \"white\", \"gridwidth\": 2, \"linecolor\": \"white\", \"showbackground\": true, \"ticks\": \"\", \"zerolinecolor\": \"white\"}, \"yaxis\": {\"backgroundcolor\": \"#E5ECF6\", \"gridcolor\": \"white\", \"gridwidth\": 2, \"linecolor\": \"white\", \"showbackground\": true, \"ticks\": \"\", \"zerolinecolor\": \"white\"}, \"zaxis\": {\"backgroundcolor\": \"#E5ECF6\", \"gridcolor\": \"white\", \"gridwidth\": 2, \"linecolor\": \"white\", \"showbackground\": true, \"ticks\": \"\", \"zerolinecolor\": \"white\"}}, \"shapedefaults\": {\"line\": {\"color\": \"#2a3f5f\"}}, \"ternary\": {\"aaxis\": {\"gridcolor\": \"white\", \"linecolor\": \"white\", \"ticks\": \"\"}, \"baxis\": {\"gridcolor\": \"white\", \"linecolor\": \"white\", \"ticks\": \"\"}, \"bgcolor\": \"#E5ECF6\", \"caxis\": {\"gridcolor\": \"white\", \"linecolor\": \"white\", \"ticks\": \"\"}}, \"title\": {\"x\": 0.05}, \"xaxis\": {\"automargin\": true, \"gridcolor\": \"white\", \"linecolor\": \"white\", \"ticks\": \"\", \"title\": {\"standoff\": 15}, \"zerolinecolor\": \"white\", \"zerolinewidth\": 2}, \"yaxis\": {\"automargin\": true, \"gridcolor\": \"white\", \"linecolor\": \"white\", \"ticks\": \"\", \"title\": {\"standoff\": 15}, \"zerolinecolor\": \"white\", \"zerolinewidth\": 2}}}, \"title\": {\"text\": \"Most commited crimes against public health per gender\"}, \"uniformtext\": {\"minsize\": 6, \"mode\": \"hide\"}, \"width\": 900, \"xaxis\": {\"anchor\": \"y\", \"domain\": [0.0, 1.0], \"tickangle\": -45, \"tickfont\": {\"color\": \"black\", \"family\": \"Rockwell\", \"size\": 8}, \"title\": {\"text\": \"DELITO\"}}, \"yaxis\": {\"anchor\": \"x\", \"domain\": [0.0, 1.0], \"title\": {\"text\": \"Amount of recidivist crimes against public health\"}}},\n",
       "                        {\"responsive\": true}\n",
       "                    ).then(function(){\n",
       "                            \n",
       "var gd = document.getElementById('73b219ab-1242-4b47-a413-ce854b08dfae');\n",
       "var x = new MutationObserver(function (mutations, observer) {{\n",
       "        var display = window.getComputedStyle(gd).display;\n",
       "        if (!display || display === 'none') {{\n",
       "            console.log([gd, 'removed!']);\n",
       "            Plotly.purge(gd);\n",
       "            observer.disconnect();\n",
       "        }}\n",
       "}});\n",
       "\n",
       "// Listen for the removal of the full notebook cells\n",
       "var notebookContainer = gd.closest('#notebook-container');\n",
       "if (notebookContainer) {{\n",
       "    x.observe(notebookContainer, {childList: true});\n",
       "}}\n",
       "\n",
       "// Listen for the clearing of the current output cell\n",
       "var outputEl = gd.closest('.output');\n",
       "if (outputEl) {{\n",
       "    x.observe(outputEl, {childList: true});\n",
       "}}\n",
       "\n",
       "                        })\n",
       "                };\n",
       "                });\n",
       "            </script>\n",
       "        </div>"
      ]
     },
     "metadata": {},
     "output_type": "display_data"
    }
   ],
   "source": [
    "fig = px.bar(female_crime, x='DELITO', y='COUNT',\n",
    "             hover_data=[\"GENERO\",'DELITO'], color='GENERO',\n",
    "             labels={'COUNT':'Amount of recidivist crimes against public health'}, barmode='relative', text=\"COUNT\")\n",
    "fig.update_traces(texttemplate='%{text:.2s}', textposition='outside')\n",
    "fig.update_layout(uniformtext_minsize=6, uniformtext_mode='hide', xaxis_tickangle=-45, showlegend=True, autosize=False,\n",
    "                 width=900, height=700, margin=dict(l=50, r=50, b=100, t=100, pad=4 ),\n",
    "                  title=\"Most commited crimes against public health per gender\",\n",
    "                 )\n",
    "fig.update_xaxes( tickfont=dict(family='Rockwell', color='black', size=8)) #tickangle=45,\n",
    "\n",
    "fig.show()"
   ]
  },
  {
   "cell_type": "code",
   "execution_count": 50,
   "metadata": {},
   "outputs": [
    {
     "data": {
      "text/plain": [
       "TRAFICO FABRICACION O PORTE DE ESTUPEFACIENTES                       19610\n",
       "DESTINACION ILICITA DE MUEBLES O INMUEBLES                             388\n",
       "TRAFICO DE SUSTANCIAS PARA PROCESAMIENTO DE NARCOTICOS                 252\n",
       "CONSERVACION O FINANCIACION DE PLANTACIONES                             81\n",
       "CORRUPCION DE ALIMENTOS PRODUCTOS MEDICOS O MATERIAL PROFILACTICO       63\n",
       "Name: DELITO, dtype: int64"
      ]
     },
     "execution_count": 50,
     "metadata": {},
     "output_type": "execute_result"
    }
   ],
   "source": [
    "df_mj[(df_mj[\"TITULO_DELITO\"]==\"CONTRA LA SALUD PUBLICA\") & (df_mj[\"GENERO\"]==\"MASCULINO\")][\"DELITO\"].value_counts()[0:5]\n"
   ]
  },
  {
   "cell_type": "code",
   "execution_count": 49,
   "metadata": {},
   "outputs": [
    {
     "data": {
      "text/plain": [
       "HOMICIDIO                      8625\n",
       "LESIONES PERSONALES            1995\n",
       "FEMINICIDIO                      95\n",
       "HOMICIDIO PRETERINTENCIONAL      54\n",
       "HOMICIDIO CULPOSO                48\n",
       "Name: DELITO, dtype: int64"
      ]
     },
     "execution_count": 49,
     "metadata": {},
     "output_type": "execute_result"
    }
   ],
   "source": [
    "df_mj[(df_mj[\"TITULO_DELITO\"]==\"CONTRA LA VIDA Y LA INTEGRIDAD PERSONAL\") & (df_mj[\"GENERO\"]==\"MASCULINO\")][\"DELITO\"].value_counts()[0:5]\n"
   ]
  },
  {
   "cell_type": "code",
   "execution_count": 48,
   "metadata": {
    "scrolled": true
   },
   "outputs": [
    {
     "data": {
      "text/plain": [
       "FABRICACION TRAFICO Y PORTE DE ARMAS DE FUEGO O MUNICIONES                                                                    16445\n",
       "CONCIERTO PARA DELINQUIR                                                                                                       8709\n",
       "FABRICACIÓN, TRÁFICO, PORTE O TENENCIA DE ARMAS DE FUEGO, ACCESORIOS, PARTES O MUNICIONES                                      2149\n",
       "FABRICACION  TRAFICO Y PORTE DE ARMAS Y MUNICIONES DE USO PRIVATIVO DE LAS FUERZAS ARMADAS                                     1748\n",
       "FABRICACIÓN, TRÁFICO Y PORTE DE ARMAS, MUNICIONES DE USO RESTRINGIDO, DE USO PRIVATIVO DE LAS FUERZAS ARMADAS O EXPLOSIVOS      360\n",
       "Name: DELITO, dtype: int64"
      ]
     },
     "execution_count": 48,
     "metadata": {},
     "output_type": "execute_result"
    }
   ],
   "source": [
    "df_mj[(df_mj[\"TITULO_DELITO\"]==\"CONTRA LA SEGURIDAD PUBLICA\") & (df_mj[\"GENERO\"]==\"MASCULINO\")][\"DELITO\"].value_counts()[0:5]"
   ]
  },
  {
   "cell_type": "code",
   "execution_count": 51,
   "metadata": {},
   "outputs": [
    {
     "data": {
      "text/plain": [
       "DELITO\n",
       "ABIGEATO                                                                      2\n",
       "ACCESO ABUSIVO A UN SISTEMA INFORMATICO                                       2\n",
       "ACCESO CARNAL ABUSIVO CON MENOR DE CATORCE AÑOS                             123\n",
       "ACCESO CARNAL O ACTO SEXUAL ABUSIVOS CON INCAPAZ DE RESISTIR                 11\n",
       "ACCESO CARNAL O ACTO SEXUAL EN PERSONA PUESTA EN INCAPACIDAD DE RESISTIR      4\n",
       "                                                                           ... \n",
       "USO DE MENORES DE EDAD PARA LA COMISION DE DELITOS                           14\n",
       "UTILIZACION ILEGAL DE UNIFORMES E INSIGNIAS                                   1\n",
       "VIOLACION DE DATOS PERSONALES                                                 9\n",
       "VIOLENCIA CONTRA SERVIDOR PUBLICO                                             1\n",
       "VIOLENCIA INTRAFAMILIAR                                                     434\n",
       "Name: INTERNOEN, Length: 85, dtype: int64"
      ]
     },
     "execution_count": 51,
     "metadata": {},
     "output_type": "execute_result"
    }
   ],
   "source": [
    "df_tent = df_mj[(df_mj.AGRAVADO == \"S\")] # & (df_mj.AGRAVADO == \"S\") & (df_mj.CALIFICADO == \"S\")\n",
    "df_tent.groupby([\"DELITO\"])[\"INTERNOEN\"].count()"
   ]
  },
  {
   "cell_type": "code",
   "execution_count": 11,
   "metadata": {},
   "outputs": [
    {
     "data": {
      "text/plain": [
       "0.9201254032568458"
      ]
     },
     "execution_count": 11,
     "metadata": {},
     "output_type": "execute_result"
    }
   ],
   "source": [
    "df_mj[df_mj.GENERO == \"MASCULINO\"].shape[0]/df_mj.shape[0]"
   ]
  }
 ],
 "metadata": {
  "colab": {
   "collapsed_sections": [],
   "name": "project_notebook_minjusticia.ipynb",
   "provenance": []
  },
  "kernelspec": {
   "display_name": "Python 3",
   "language": "python",
   "name": "python3"
  },
  "language_info": {
   "codemirror_mode": {
    "name": "ipython",
    "version": 3
   },
   "file_extension": ".py",
   "mimetype": "text/x-python",
   "name": "python",
   "nbconvert_exporter": "python",
   "pygments_lexer": "ipython3",
   "version": "3.8.3"
  }
 },
 "nbformat": 4,
 "nbformat_minor": 1
}
