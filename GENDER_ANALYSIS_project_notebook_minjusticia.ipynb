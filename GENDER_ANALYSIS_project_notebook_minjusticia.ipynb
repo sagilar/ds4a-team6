{
 "cells": [
  {
   "cell_type": "markdown",
   "metadata": {
    "colab_type": "text",
    "id": "tGVbJSaaXWk6"
   },
   "source": [
    "# Team 6 Project: MINJUSTICIA"
   ]
  },
  {
   "cell_type": "code",
   "execution_count": 1,
   "metadata": {
    "colab": {},
    "colab_type": "code",
    "id": "-Tgl_xzzXWlQ"
   },
   "outputs": [],
   "source": [
    "import pandas as pd\n",
    "import numpy as np\n",
    "import calendar\n",
    "from matplotlib import pyplot as plt\n",
    "%matplotlib inline\n",
    "pd.options.display.max_rows = 15\n",
    "import requests\n",
    "import io\n",
    "import plotly\n",
    "from datetime import datetime, date"
   ]
  },
  {
   "cell_type": "markdown",
   "metadata": {
    "colab_type": "text",
    "id": "80ZORxEqXWlu"
   },
   "source": [
    "Data"
   ]
  },
  {
   "cell_type": "code",
   "execution_count": 2,
   "metadata": {
    "colab": {
     "base_uri": "https://localhost:8080/",
     "height": 631
    },
    "colab_type": "code",
    "id": "6XZ1VBiLXWl6",
    "outputId": "32cb19cf-f596-408c-fb6b-418c7fc6f017"
   },
   "outputs": [
    {
     "data": {
      "text/html": [
       "<div>\n",
       "<style scoped>\n",
       "    .dataframe tbody tr th:only-of-type {\n",
       "        vertical-align: middle;\n",
       "    }\n",
       "\n",
       "    .dataframe tbody tr th {\n",
       "        vertical-align: top;\n",
       "    }\n",
       "\n",
       "    .dataframe thead th {\n",
       "        text-align: right;\n",
       "    }\n",
       "</style>\n",
       "<table border=\"1\" class=\"dataframe\">\n",
       "  <thead>\n",
       "    <tr style=\"text-align: right;\">\n",
       "      <th></th>\n",
       "      <th>INTERNOEN</th>\n",
       "      <th>DELITO</th>\n",
       "      <th>TITULO_DELITO</th>\n",
       "      <th>SUBTITULO_DELITO</th>\n",
       "      <th>TENTATIVA</th>\n",
       "      <th>AGRAVADO</th>\n",
       "      <th>CALIFICADO</th>\n",
       "      <th>FECHA_INGRESO</th>\n",
       "      <th>FECHA_SALIDA</th>\n",
       "      <th>FECHA_CAPTURA</th>\n",
       "      <th>...</th>\n",
       "      <th>ACTIVIDADES_ENSEÑANZA</th>\n",
       "      <th>NIVEL_EDUCATIVO</th>\n",
       "      <th>HIJOS_MENORES</th>\n",
       "      <th>CONDIC_EXPECIONAL</th>\n",
       "      <th>CODIGO_ESTABLECIMIENTO</th>\n",
       "      <th>ESTABLECIMIENTO</th>\n",
       "      <th>DEPTO_ESTABLECIMIENTO</th>\n",
       "      <th>MPIO_ESTABLECIMIENTO</th>\n",
       "      <th>REGIONAL</th>\n",
       "      <th>ESTADO</th>\n",
       "    </tr>\n",
       "  </thead>\n",
       "  <tbody>\n",
       "    <tr>\n",
       "      <th>0</th>\n",
       "      <td>5496C737C624136DB406CFC6744C684C070A3CD8</td>\n",
       "      <td>FABRICACION TRAFICO Y PORTE DE ARMAS DE FUEGO ...</td>\n",
       "      <td>CONTRA LA SEGURIDAD PUBLICA</td>\n",
       "      <td>DE LOS DELITOS DE PELIGRO COMUN O QUE PUEDEN O...</td>\n",
       "      <td>N</td>\n",
       "      <td>N</td>\n",
       "      <td>N</td>\n",
       "      <td>01/01/10</td>\n",
       "      <td>12/05/11</td>\n",
       "      <td>30/12/09</td>\n",
       "      <td>...</td>\n",
       "      <td>NO</td>\n",
       "      <td>CICLO III</td>\n",
       "      <td>SI</td>\n",
       "      <td>NaN</td>\n",
       "      <td>502</td>\n",
       "      <td>EPMSC MEDELLIN</td>\n",
       "      <td>ANTIOQUIA</td>\n",
       "      <td>MEDELLIN</td>\n",
       "      <td>NOROESTE</td>\n",
       "      <td>Baja</td>\n",
       "    </tr>\n",
       "    <tr>\n",
       "      <th>1</th>\n",
       "      <td>1097561F306939C26DB4AC60377063DA7E2B079F</td>\n",
       "      <td>TRAFICO FABRICACION O PORTE DE ESTUPEFACIENTES</td>\n",
       "      <td>CONTRA LA SALUD PUBLICA</td>\n",
       "      <td>DE LAS AFECTACIONES A LA SALUD PUBLICA</td>\n",
       "      <td>N</td>\n",
       "      <td>N</td>\n",
       "      <td>N</td>\n",
       "      <td>01/01/10</td>\n",
       "      <td>05/12/11</td>\n",
       "      <td>30/12/09</td>\n",
       "      <td>...</td>\n",
       "      <td>NO</td>\n",
       "      <td>CICLO I</td>\n",
       "      <td>SI</td>\n",
       "      <td>NaN</td>\n",
       "      <td>502</td>\n",
       "      <td>EPMSC MEDELLIN</td>\n",
       "      <td>ANTIOQUIA</td>\n",
       "      <td>MEDELLIN</td>\n",
       "      <td>NOROESTE</td>\n",
       "      <td>Baja</td>\n",
       "    </tr>\n",
       "    <tr>\n",
       "      <th>2</th>\n",
       "      <td>CB7033A707ADE673139F8A17CAD26AD54696C135</td>\n",
       "      <td>FABRICACION TRAFICO Y PORTE DE ARMAS DE FUEGO ...</td>\n",
       "      <td>CONTRA LA SEGURIDAD PUBLICA</td>\n",
       "      <td>DE LOS DELITOS DE PELIGRO COMUN O QUE PUEDEN O...</td>\n",
       "      <td>N</td>\n",
       "      <td>N</td>\n",
       "      <td>N</td>\n",
       "      <td>01/01/10</td>\n",
       "      <td>06/08/13</td>\n",
       "      <td>30/12/09</td>\n",
       "      <td>...</td>\n",
       "      <td>NO</td>\n",
       "      <td>CICLO I</td>\n",
       "      <td>SI</td>\n",
       "      <td>NaN</td>\n",
       "      <td>235</td>\n",
       "      <td>EPAMSCAS POPAYAN (ERE)</td>\n",
       "      <td>CAUCA</td>\n",
       "      <td>POPAYAN</td>\n",
       "      <td>OCCIDENTE</td>\n",
       "      <td>Baja</td>\n",
       "    </tr>\n",
       "    <tr>\n",
       "      <th>3</th>\n",
       "      <td>CB7033A707ADE673139F8A17CAD26AD54696C135</td>\n",
       "      <td>HURTO</td>\n",
       "      <td>CONTRA EL PATRIMONIO ECONOMICO</td>\n",
       "      <td>DE LA ESTAFA</td>\n",
       "      <td>N</td>\n",
       "      <td>S</td>\n",
       "      <td>S</td>\n",
       "      <td>01/01/10</td>\n",
       "      <td>06/08/13</td>\n",
       "      <td>30/12/09</td>\n",
       "      <td>...</td>\n",
       "      <td>NO</td>\n",
       "      <td>CICLO I</td>\n",
       "      <td>SI</td>\n",
       "      <td>NaN</td>\n",
       "      <td>235</td>\n",
       "      <td>EPAMSCAS POPAYAN (ERE)</td>\n",
       "      <td>CAUCA</td>\n",
       "      <td>POPAYAN</td>\n",
       "      <td>OCCIDENTE</td>\n",
       "      <td>Baja</td>\n",
       "    </tr>\n",
       "    <tr>\n",
       "      <th>4</th>\n",
       "      <td>CB7033A707ADE673139F8A17CAD26AD54696C135</td>\n",
       "      <td>UTILIZACION ILEGAL DE UNIFORMES E INSIGNIAS</td>\n",
       "      <td>CONTRA LA SEGURIDAD PUBLICA</td>\n",
       "      <td>DE LOS DELITOS DE PELIGRO COMUN O QUE PUEDEN O...</td>\n",
       "      <td>N</td>\n",
       "      <td>N</td>\n",
       "      <td>N</td>\n",
       "      <td>01/01/10</td>\n",
       "      <td>06/08/13</td>\n",
       "      <td>30/12/09</td>\n",
       "      <td>...</td>\n",
       "      <td>NO</td>\n",
       "      <td>CICLO I</td>\n",
       "      <td>SI</td>\n",
       "      <td>NaN</td>\n",
       "      <td>235</td>\n",
       "      <td>EPAMSCAS POPAYAN (ERE)</td>\n",
       "      <td>CAUCA</td>\n",
       "      <td>POPAYAN</td>\n",
       "      <td>OCCIDENTE</td>\n",
       "      <td>Baja</td>\n",
       "    </tr>\n",
       "    <tr>\n",
       "      <th>...</th>\n",
       "      <td>...</td>\n",
       "      <td>...</td>\n",
       "      <td>...</td>\n",
       "      <td>...</td>\n",
       "      <td>...</td>\n",
       "      <td>...</td>\n",
       "      <td>...</td>\n",
       "      <td>...</td>\n",
       "      <td>...</td>\n",
       "      <td>...</td>\n",
       "      <td>...</td>\n",
       "      <td>...</td>\n",
       "      <td>...</td>\n",
       "      <td>...</td>\n",
       "      <td>...</td>\n",
       "      <td>...</td>\n",
       "      <td>...</td>\n",
       "      <td>...</td>\n",
       "      <td>...</td>\n",
       "      <td>...</td>\n",
       "      <td>...</td>\n",
       "    </tr>\n",
       "    <tr>\n",
       "      <th>142894</th>\n",
       "      <td>E5551238168C284F73834D203E0EAD0679E5168C</td>\n",
       "      <td>HURTO</td>\n",
       "      <td>CONTRA EL PATRIMONIO ECONOMICO</td>\n",
       "      <td>DE LA ESTAFA</td>\n",
       "      <td>N</td>\n",
       "      <td>S</td>\n",
       "      <td>S</td>\n",
       "      <td>10/06/20</td>\n",
       "      <td>NaN</td>\n",
       "      <td>01/09/19</td>\n",
       "      <td>...</td>\n",
       "      <td>NO</td>\n",
       "      <td>CICLO III</td>\n",
       "      <td>SI</td>\n",
       "      <td>NaN</td>\n",
       "      <td>502</td>\n",
       "      <td>EPMSC MEDELLIN</td>\n",
       "      <td>ANTIOQUIA</td>\n",
       "      <td>MEDELLIN</td>\n",
       "      <td>NOROESTE</td>\n",
       "      <td>Activo</td>\n",
       "    </tr>\n",
       "    <tr>\n",
       "      <th>142895</th>\n",
       "      <td>A513E93CA6CBAED54CD9B1D165C75A3EF4F11CD4</td>\n",
       "      <td>HURTO</td>\n",
       "      <td>CONTRA EL PATRIMONIO ECONOMICO</td>\n",
       "      <td>DE LA ESTAFA</td>\n",
       "      <td>N</td>\n",
       "      <td>S</td>\n",
       "      <td>S</td>\n",
       "      <td>11/06/20</td>\n",
       "      <td>NaN</td>\n",
       "      <td>10/12/14</td>\n",
       "      <td>...</td>\n",
       "      <td>NO</td>\n",
       "      <td>CICLO II</td>\n",
       "      <td>NO</td>\n",
       "      <td>NaN</td>\n",
       "      <td>628</td>\n",
       "      <td>EPMSC HONDA</td>\n",
       "      <td>TOLIMA</td>\n",
       "      <td>HONDA</td>\n",
       "      <td>VIEJO CALDAS</td>\n",
       "      <td>Activo</td>\n",
       "    </tr>\n",
       "    <tr>\n",
       "      <th>142896</th>\n",
       "      <td>856368363834654A5F64534163FE7C7EE6A8A1CA</td>\n",
       "      <td>FABRICACION TRAFICO Y PORTE DE ARMAS DE FUEGO ...</td>\n",
       "      <td>CONTRA LA SEGURIDAD PUBLICA</td>\n",
       "      <td>DE LOS DELITOS DE PELIGRO COMUN O QUE PUEDEN O...</td>\n",
       "      <td>N</td>\n",
       "      <td>N</td>\n",
       "      <td>N</td>\n",
       "      <td>11/06/20</td>\n",
       "      <td>NaN</td>\n",
       "      <td>13/08/16</td>\n",
       "      <td>...</td>\n",
       "      <td>NO</td>\n",
       "      <td>CICLO I</td>\n",
       "      <td>NO</td>\n",
       "      <td>CON DISCAPACIDAD</td>\n",
       "      <td>613</td>\n",
       "      <td>EPMSC ARMENIA</td>\n",
       "      <td>QUINDIO</td>\n",
       "      <td>ARMENIA</td>\n",
       "      <td>VIEJO CALDAS</td>\n",
       "      <td>Activo</td>\n",
       "    </tr>\n",
       "    <tr>\n",
       "      <th>142897</th>\n",
       "      <td>E5385D722533896751FBF38A2129D97966267AB1</td>\n",
       "      <td>HURTO</td>\n",
       "      <td>CONTRA EL PATRIMONIO ECONOMICO</td>\n",
       "      <td>DE LA ESTAFA</td>\n",
       "      <td>S</td>\n",
       "      <td>N</td>\n",
       "      <td>N</td>\n",
       "      <td>11/06/20</td>\n",
       "      <td>NaN</td>\n",
       "      <td>09/06/20</td>\n",
       "      <td>...</td>\n",
       "      <td>NO</td>\n",
       "      <td>CICLO I</td>\n",
       "      <td>SI</td>\n",
       "      <td>AFRO COLOMBIANO</td>\n",
       "      <td>5373</td>\n",
       "      <td>COMPLEJO CARCELARIO Y PENITENCIARIO DE MEDELLI...</td>\n",
       "      <td>ANTIOQUIA</td>\n",
       "      <td>MEDELLIN</td>\n",
       "      <td>NOROESTE</td>\n",
       "      <td>Activo</td>\n",
       "    </tr>\n",
       "    <tr>\n",
       "      <th>142898</th>\n",
       "      <td>FA176CD9955DAF77F313343E29136E87FE8B0056</td>\n",
       "      <td>FABRICACION TRAFICO Y PORTE DE ARMAS DE FUEGO ...</td>\n",
       "      <td>CONTRA LA SEGURIDAD PUBLICA</td>\n",
       "      <td>DE LOS DELITOS DE PELIGRO COMUN O QUE PUEDEN O...</td>\n",
       "      <td>N</td>\n",
       "      <td>N</td>\n",
       "      <td>N</td>\n",
       "      <td>11/06/20</td>\n",
       "      <td>NaN</td>\n",
       "      <td>02/08/18</td>\n",
       "      <td>...</td>\n",
       "      <td>NO</td>\n",
       "      <td>CICLO IV</td>\n",
       "      <td>SI</td>\n",
       "      <td>NaN</td>\n",
       "      <td>204</td>\n",
       "      <td>EPMSC EL BORDO</td>\n",
       "      <td>CAUCA</td>\n",
       "      <td>EL BORDO</td>\n",
       "      <td>OCCIDENTE</td>\n",
       "      <td>Activo</td>\n",
       "    </tr>\n",
       "  </tbody>\n",
       "</table>\n",
       "<p>142899 rows × 32 columns</p>\n",
       "</div>"
      ],
      "text/plain": [
       "                                       INTERNOEN  \\\n",
       "0       5496C737C624136DB406CFC6744C684C070A3CD8   \n",
       "1       1097561F306939C26DB4AC60377063DA7E2B079F   \n",
       "2       CB7033A707ADE673139F8A17CAD26AD54696C135   \n",
       "3       CB7033A707ADE673139F8A17CAD26AD54696C135   \n",
       "4       CB7033A707ADE673139F8A17CAD26AD54696C135   \n",
       "...                                          ...   \n",
       "142894  E5551238168C284F73834D203E0EAD0679E5168C   \n",
       "142895  A513E93CA6CBAED54CD9B1D165C75A3EF4F11CD4   \n",
       "142896  856368363834654A5F64534163FE7C7EE6A8A1CA   \n",
       "142897  E5385D722533896751FBF38A2129D97966267AB1   \n",
       "142898  FA176CD9955DAF77F313343E29136E87FE8B0056   \n",
       "\n",
       "                                                   DELITO  \\\n",
       "0       FABRICACION TRAFICO Y PORTE DE ARMAS DE FUEGO ...   \n",
       "1          TRAFICO FABRICACION O PORTE DE ESTUPEFACIENTES   \n",
       "2       FABRICACION TRAFICO Y PORTE DE ARMAS DE FUEGO ...   \n",
       "3                                                   HURTO   \n",
       "4             UTILIZACION ILEGAL DE UNIFORMES E INSIGNIAS   \n",
       "...                                                   ...   \n",
       "142894                                              HURTO   \n",
       "142895                                              HURTO   \n",
       "142896  FABRICACION TRAFICO Y PORTE DE ARMAS DE FUEGO ...   \n",
       "142897                                              HURTO   \n",
       "142898  FABRICACION TRAFICO Y PORTE DE ARMAS DE FUEGO ...   \n",
       "\n",
       "                         TITULO_DELITO  \\\n",
       "0          CONTRA LA SEGURIDAD PUBLICA   \n",
       "1              CONTRA LA SALUD PUBLICA   \n",
       "2          CONTRA LA SEGURIDAD PUBLICA   \n",
       "3       CONTRA EL PATRIMONIO ECONOMICO   \n",
       "4          CONTRA LA SEGURIDAD PUBLICA   \n",
       "...                                ...   \n",
       "142894  CONTRA EL PATRIMONIO ECONOMICO   \n",
       "142895  CONTRA EL PATRIMONIO ECONOMICO   \n",
       "142896     CONTRA LA SEGURIDAD PUBLICA   \n",
       "142897  CONTRA EL PATRIMONIO ECONOMICO   \n",
       "142898     CONTRA LA SEGURIDAD PUBLICA   \n",
       "\n",
       "                                         SUBTITULO_DELITO TENTATIVA AGRAVADO  \\\n",
       "0       DE LOS DELITOS DE PELIGRO COMUN O QUE PUEDEN O...         N        N   \n",
       "1                  DE LAS AFECTACIONES A LA SALUD PUBLICA         N        N   \n",
       "2       DE LOS DELITOS DE PELIGRO COMUN O QUE PUEDEN O...         N        N   \n",
       "3                                            DE LA ESTAFA         N        S   \n",
       "4       DE LOS DELITOS DE PELIGRO COMUN O QUE PUEDEN O...         N        N   \n",
       "...                                                   ...       ...      ...   \n",
       "142894                                       DE LA ESTAFA         N        S   \n",
       "142895                                       DE LA ESTAFA         N        S   \n",
       "142896  DE LOS DELITOS DE PELIGRO COMUN O QUE PUEDEN O...         N        N   \n",
       "142897                                       DE LA ESTAFA         S        N   \n",
       "142898  DE LOS DELITOS DE PELIGRO COMUN O QUE PUEDEN O...         N        N   \n",
       "\n",
       "       CALIFICADO FECHA_INGRESO FECHA_SALIDA FECHA_CAPTURA  ...  \\\n",
       "0               N      01/01/10     12/05/11      30/12/09  ...   \n",
       "1               N      01/01/10     05/12/11      30/12/09  ...   \n",
       "2               N      01/01/10     06/08/13      30/12/09  ...   \n",
       "3               S      01/01/10     06/08/13      30/12/09  ...   \n",
       "4               N      01/01/10     06/08/13      30/12/09  ...   \n",
       "...           ...           ...          ...           ...  ...   \n",
       "142894          S      10/06/20          NaN      01/09/19  ...   \n",
       "142895          S      11/06/20          NaN      10/12/14  ...   \n",
       "142896          N      11/06/20          NaN      13/08/16  ...   \n",
       "142897          N      11/06/20          NaN      09/06/20  ...   \n",
       "142898          N      11/06/20          NaN      02/08/18  ...   \n",
       "\n",
       "       ACTIVIDADES_ENSEÑANZA  NIVEL_EDUCATIVO  HIJOS_MENORES  \\\n",
       "0                         NO        CICLO III             SI   \n",
       "1                         NO          CICLO I             SI   \n",
       "2                         NO          CICLO I             SI   \n",
       "3                         NO          CICLO I             SI   \n",
       "4                         NO          CICLO I             SI   \n",
       "...                      ...              ...            ...   \n",
       "142894                    NO        CICLO III             SI   \n",
       "142895                    NO         CICLO II             NO   \n",
       "142896                    NO          CICLO I             NO   \n",
       "142897                    NO          CICLO I             SI   \n",
       "142898                    NO         CICLO IV             SI   \n",
       "\n",
       "       CONDIC_EXPECIONAL CODIGO_ESTABLECIMIENTO  \\\n",
       "0                    NaN                    502   \n",
       "1                    NaN                    502   \n",
       "2                    NaN                    235   \n",
       "3                    NaN                    235   \n",
       "4                    NaN                    235   \n",
       "...                  ...                    ...   \n",
       "142894               NaN                    502   \n",
       "142895               NaN                    628   \n",
       "142896  CON DISCAPACIDAD                    613   \n",
       "142897   AFRO COLOMBIANO                   5373   \n",
       "142898               NaN                    204   \n",
       "\n",
       "                                          ESTABLECIMIENTO  \\\n",
       "0                                          EPMSC MEDELLIN   \n",
       "1                                          EPMSC MEDELLIN   \n",
       "2                                  EPAMSCAS POPAYAN (ERE)   \n",
       "3                                  EPAMSCAS POPAYAN (ERE)   \n",
       "4                                  EPAMSCAS POPAYAN (ERE)   \n",
       "...                                                   ...   \n",
       "142894                                     EPMSC MEDELLIN   \n",
       "142895                                        EPMSC HONDA   \n",
       "142896                                      EPMSC ARMENIA   \n",
       "142897  COMPLEJO CARCELARIO Y PENITENCIARIO DE MEDELLI...   \n",
       "142898                                     EPMSC EL BORDO   \n",
       "\n",
       "       DEPTO_ESTABLECIMIENTO MPIO_ESTABLECIMIENTO      REGIONAL  ESTADO  \n",
       "0                  ANTIOQUIA             MEDELLIN      NOROESTE    Baja  \n",
       "1                  ANTIOQUIA             MEDELLIN      NOROESTE    Baja  \n",
       "2                      CAUCA              POPAYAN     OCCIDENTE    Baja  \n",
       "3                      CAUCA              POPAYAN     OCCIDENTE    Baja  \n",
       "4                      CAUCA              POPAYAN     OCCIDENTE    Baja  \n",
       "...                      ...                  ...           ...     ...  \n",
       "142894             ANTIOQUIA             MEDELLIN      NOROESTE  Activo  \n",
       "142895                TOLIMA                HONDA  VIEJO CALDAS  Activo  \n",
       "142896               QUINDIO              ARMENIA  VIEJO CALDAS  Activo  \n",
       "142897             ANTIOQUIA             MEDELLIN      NOROESTE  Activo  \n",
       "142898                 CAUCA             EL BORDO     OCCIDENTE  Activo  \n",
       "\n",
       "[142899 rows x 32 columns]"
      ]
     },
     "execution_count": 2,
     "metadata": {},
     "output_type": "execute_result"
    }
   ],
   "source": [
    "url=\"https://raw.githubusercontent.com/sagilar/ds4a-team6/master/retomintic/Data_UpdateJune13/reincidencia11junio2020_clean.csv\"\n",
    "df_mj = pd.read_csv(url,sep=\",\",encoding=\"utf-8\")\n",
    "df_mj"
   ]
  },
  {
   "cell_type": "code",
   "execution_count": 3,
   "metadata": {
    "colab": {
     "base_uri": "https://localhost:8080/",
     "height": 201
    },
    "colab_type": "code",
    "id": "WndeGwuDbz8L",
    "outputId": "e2d5538a-46c8-46fd-cee9-d3bb6166d2d2"
   },
   "outputs": [
    {
     "data": {
      "text/plain": [
       "Index(['INTERNOEN', 'DELITO', 'TITULO_DELITO', 'SUBTITULO_DELITO', 'TENTATIVA',\n",
       "       'AGRAVADO', 'CALIFICADO', 'FECHA_INGRESO', 'FECHA_SALIDA',\n",
       "       'FECHA_CAPTURA', 'SITUACION_JURIDICA', 'ANO_NACIMIENTO', 'EDAD',\n",
       "       'GENERO', 'ESTADO_CIVIL', 'PAIS_INTERNO', 'DEPARTAMENTO', 'CIUDAD',\n",
       "       'REINCIDENTE', 'ESTADO_INGRESO', 'ACTIVIDADES_TRABAJO',\n",
       "       'ACTIVIDADES_ESTUDIO', 'ACTIVIDADES_ENSEÑANZA', 'NIVEL_EDUCATIVO',\n",
       "       'HIJOS_MENORES', 'CONDIC_EXPECIONAL', 'CODIGO_ESTABLECIMIENTO',\n",
       "       'ESTABLECIMIENTO', 'DEPTO_ESTABLECIMIENTO', 'MPIO_ESTABLECIMIENTO',\n",
       "       'REGIONAL', 'ESTADO'],\n",
       "      dtype='object')"
      ]
     },
     "execution_count": 3,
     "metadata": {},
     "output_type": "execute_result"
    }
   ],
   "source": [
    "df_orig = df_mj.copy()\n",
    "df_mj.columns"
   ]
  },
  {
   "cell_type": "code",
   "execution_count": 4,
   "metadata": {
    "colab": {
     "base_uri": "https://localhost:8080/",
     "height": 631
    },
    "colab_type": "code",
    "id": "qcYiOJo5XWmO",
    "outputId": "bea0f5be-e8a4-42a0-81be-31608b53c908"
   },
   "outputs": [
    {
     "data": {
      "text/html": [
       "<div>\n",
       "<style scoped>\n",
       "    .dataframe tbody tr th:only-of-type {\n",
       "        vertical-align: middle;\n",
       "    }\n",
       "\n",
       "    .dataframe tbody tr th {\n",
       "        vertical-align: top;\n",
       "    }\n",
       "\n",
       "    .dataframe thead th {\n",
       "        text-align: right;\n",
       "    }\n",
       "</style>\n",
       "<table border=\"1\" class=\"dataframe\">\n",
       "  <thead>\n",
       "    <tr style=\"text-align: right;\">\n",
       "      <th></th>\n",
       "      <th>INTERNOEN</th>\n",
       "      <th>DELITO</th>\n",
       "      <th>TITULO_DELITO</th>\n",
       "      <th>SUBTITULO_DELITO</th>\n",
       "      <th>TENTATIVA</th>\n",
       "      <th>AGRAVADO</th>\n",
       "      <th>CALIFICADO</th>\n",
       "      <th>FECHA_INGRESO</th>\n",
       "      <th>FECHA_SALIDA</th>\n",
       "      <th>FECHA_CAPTURA</th>\n",
       "      <th>...</th>\n",
       "      <th>NIVEL_EDUCATIVO</th>\n",
       "      <th>HIJOS_MENORES</th>\n",
       "      <th>CONDIC_EXPECIONAL</th>\n",
       "      <th>CODIGO_ESTABLECIMIENTO</th>\n",
       "      <th>ESTABLECIMIENTO</th>\n",
       "      <th>DEPTO_ESTABLECIMIENTO</th>\n",
       "      <th>MPIO_ESTABLECIMIENTO</th>\n",
       "      <th>REGIONAL</th>\n",
       "      <th>ESTADO</th>\n",
       "      <th>MES_INGRESO_INT</th>\n",
       "    </tr>\n",
       "  </thead>\n",
       "  <tbody>\n",
       "    <tr>\n",
       "      <th>0</th>\n",
       "      <td>5496C737C624136DB406CFC6744C684C070A3CD8</td>\n",
       "      <td>FABRICACION TRAFICO Y PORTE DE ARMAS DE FUEGO ...</td>\n",
       "      <td>CONTRA LA SEGURIDAD PUBLICA</td>\n",
       "      <td>DE LOS DELITOS DE PELIGRO COMUN O QUE PUEDEN O...</td>\n",
       "      <td>N</td>\n",
       "      <td>N</td>\n",
       "      <td>N</td>\n",
       "      <td>2010-01-01</td>\n",
       "      <td>2011-12-05</td>\n",
       "      <td>2009-12-30</td>\n",
       "      <td>...</td>\n",
       "      <td>CICLO III</td>\n",
       "      <td>SI</td>\n",
       "      <td>NaN</td>\n",
       "      <td>502</td>\n",
       "      <td>EPMSC MEDELLIN</td>\n",
       "      <td>ANTIOQUIA</td>\n",
       "      <td>MEDELLIN</td>\n",
       "      <td>NOROESTE</td>\n",
       "      <td>Baja</td>\n",
       "      <td>01</td>\n",
       "    </tr>\n",
       "    <tr>\n",
       "      <th>1</th>\n",
       "      <td>1097561F306939C26DB4AC60377063DA7E2B079F</td>\n",
       "      <td>TRAFICO FABRICACION O PORTE DE ESTUPEFACIENTES</td>\n",
       "      <td>CONTRA LA SALUD PUBLICA</td>\n",
       "      <td>DE LAS AFECTACIONES A LA SALUD PUBLICA</td>\n",
       "      <td>N</td>\n",
       "      <td>N</td>\n",
       "      <td>N</td>\n",
       "      <td>2010-01-01</td>\n",
       "      <td>2011-05-12</td>\n",
       "      <td>2009-12-30</td>\n",
       "      <td>...</td>\n",
       "      <td>CICLO I</td>\n",
       "      <td>SI</td>\n",
       "      <td>NaN</td>\n",
       "      <td>502</td>\n",
       "      <td>EPMSC MEDELLIN</td>\n",
       "      <td>ANTIOQUIA</td>\n",
       "      <td>MEDELLIN</td>\n",
       "      <td>NOROESTE</td>\n",
       "      <td>Baja</td>\n",
       "      <td>01</td>\n",
       "    </tr>\n",
       "    <tr>\n",
       "      <th>2</th>\n",
       "      <td>CB7033A707ADE673139F8A17CAD26AD54696C135</td>\n",
       "      <td>FABRICACION TRAFICO Y PORTE DE ARMAS DE FUEGO ...</td>\n",
       "      <td>CONTRA LA SEGURIDAD PUBLICA</td>\n",
       "      <td>DE LOS DELITOS DE PELIGRO COMUN O QUE PUEDEN O...</td>\n",
       "      <td>N</td>\n",
       "      <td>N</td>\n",
       "      <td>N</td>\n",
       "      <td>2010-01-01</td>\n",
       "      <td>2013-06-08</td>\n",
       "      <td>2009-12-30</td>\n",
       "      <td>...</td>\n",
       "      <td>CICLO I</td>\n",
       "      <td>SI</td>\n",
       "      <td>NaN</td>\n",
       "      <td>235</td>\n",
       "      <td>EPAMSCAS POPAYAN (ERE)</td>\n",
       "      <td>CAUCA</td>\n",
       "      <td>POPAYAN</td>\n",
       "      <td>OCCIDENTE</td>\n",
       "      <td>Baja</td>\n",
       "      <td>01</td>\n",
       "    </tr>\n",
       "    <tr>\n",
       "      <th>3</th>\n",
       "      <td>CB7033A707ADE673139F8A17CAD26AD54696C135</td>\n",
       "      <td>HURTO</td>\n",
       "      <td>CONTRA EL PATRIMONIO ECONOMICO</td>\n",
       "      <td>DE LA ESTAFA</td>\n",
       "      <td>N</td>\n",
       "      <td>S</td>\n",
       "      <td>S</td>\n",
       "      <td>2010-01-01</td>\n",
       "      <td>2013-06-08</td>\n",
       "      <td>2009-12-30</td>\n",
       "      <td>...</td>\n",
       "      <td>CICLO I</td>\n",
       "      <td>SI</td>\n",
       "      <td>NaN</td>\n",
       "      <td>235</td>\n",
       "      <td>EPAMSCAS POPAYAN (ERE)</td>\n",
       "      <td>CAUCA</td>\n",
       "      <td>POPAYAN</td>\n",
       "      <td>OCCIDENTE</td>\n",
       "      <td>Baja</td>\n",
       "      <td>01</td>\n",
       "    </tr>\n",
       "    <tr>\n",
       "      <th>4</th>\n",
       "      <td>CB7033A707ADE673139F8A17CAD26AD54696C135</td>\n",
       "      <td>UTILIZACION ILEGAL DE UNIFORMES E INSIGNIAS</td>\n",
       "      <td>CONTRA LA SEGURIDAD PUBLICA</td>\n",
       "      <td>DE LOS DELITOS DE PELIGRO COMUN O QUE PUEDEN O...</td>\n",
       "      <td>N</td>\n",
       "      <td>N</td>\n",
       "      <td>N</td>\n",
       "      <td>2010-01-01</td>\n",
       "      <td>2013-06-08</td>\n",
       "      <td>2009-12-30</td>\n",
       "      <td>...</td>\n",
       "      <td>CICLO I</td>\n",
       "      <td>SI</td>\n",
       "      <td>NaN</td>\n",
       "      <td>235</td>\n",
       "      <td>EPAMSCAS POPAYAN (ERE)</td>\n",
       "      <td>CAUCA</td>\n",
       "      <td>POPAYAN</td>\n",
       "      <td>OCCIDENTE</td>\n",
       "      <td>Baja</td>\n",
       "      <td>01</td>\n",
       "    </tr>\n",
       "    <tr>\n",
       "      <th>...</th>\n",
       "      <td>...</td>\n",
       "      <td>...</td>\n",
       "      <td>...</td>\n",
       "      <td>...</td>\n",
       "      <td>...</td>\n",
       "      <td>...</td>\n",
       "      <td>...</td>\n",
       "      <td>...</td>\n",
       "      <td>...</td>\n",
       "      <td>...</td>\n",
       "      <td>...</td>\n",
       "      <td>...</td>\n",
       "      <td>...</td>\n",
       "      <td>...</td>\n",
       "      <td>...</td>\n",
       "      <td>...</td>\n",
       "      <td>...</td>\n",
       "      <td>...</td>\n",
       "      <td>...</td>\n",
       "      <td>...</td>\n",
       "      <td>...</td>\n",
       "    </tr>\n",
       "    <tr>\n",
       "      <th>142894</th>\n",
       "      <td>E5551238168C284F73834D203E0EAD0679E5168C</td>\n",
       "      <td>HURTO</td>\n",
       "      <td>CONTRA EL PATRIMONIO ECONOMICO</td>\n",
       "      <td>DE LA ESTAFA</td>\n",
       "      <td>N</td>\n",
       "      <td>S</td>\n",
       "      <td>S</td>\n",
       "      <td>2020-10-06</td>\n",
       "      <td>NaT</td>\n",
       "      <td>2019-01-09</td>\n",
       "      <td>...</td>\n",
       "      <td>CICLO III</td>\n",
       "      <td>SI</td>\n",
       "      <td>NaN</td>\n",
       "      <td>502</td>\n",
       "      <td>EPMSC MEDELLIN</td>\n",
       "      <td>ANTIOQUIA</td>\n",
       "      <td>MEDELLIN</td>\n",
       "      <td>NOROESTE</td>\n",
       "      <td>Activo</td>\n",
       "      <td>10</td>\n",
       "    </tr>\n",
       "    <tr>\n",
       "      <th>142895</th>\n",
       "      <td>A513E93CA6CBAED54CD9B1D165C75A3EF4F11CD4</td>\n",
       "      <td>HURTO</td>\n",
       "      <td>CONTRA EL PATRIMONIO ECONOMICO</td>\n",
       "      <td>DE LA ESTAFA</td>\n",
       "      <td>N</td>\n",
       "      <td>S</td>\n",
       "      <td>S</td>\n",
       "      <td>2020-11-06</td>\n",
       "      <td>NaT</td>\n",
       "      <td>2014-10-12</td>\n",
       "      <td>...</td>\n",
       "      <td>CICLO II</td>\n",
       "      <td>NO</td>\n",
       "      <td>NaN</td>\n",
       "      <td>628</td>\n",
       "      <td>EPMSC HONDA</td>\n",
       "      <td>TOLIMA</td>\n",
       "      <td>HONDA</td>\n",
       "      <td>VIEJO CALDAS</td>\n",
       "      <td>Activo</td>\n",
       "      <td>11</td>\n",
       "    </tr>\n",
       "    <tr>\n",
       "      <th>142896</th>\n",
       "      <td>856368363834654A5F64534163FE7C7EE6A8A1CA</td>\n",
       "      <td>FABRICACION TRAFICO Y PORTE DE ARMAS DE FUEGO ...</td>\n",
       "      <td>CONTRA LA SEGURIDAD PUBLICA</td>\n",
       "      <td>DE LOS DELITOS DE PELIGRO COMUN O QUE PUEDEN O...</td>\n",
       "      <td>N</td>\n",
       "      <td>N</td>\n",
       "      <td>N</td>\n",
       "      <td>2020-11-06</td>\n",
       "      <td>NaT</td>\n",
       "      <td>2016-08-13</td>\n",
       "      <td>...</td>\n",
       "      <td>CICLO I</td>\n",
       "      <td>NO</td>\n",
       "      <td>CON DISCAPACIDAD</td>\n",
       "      <td>613</td>\n",
       "      <td>EPMSC ARMENIA</td>\n",
       "      <td>QUINDIO</td>\n",
       "      <td>ARMENIA</td>\n",
       "      <td>VIEJO CALDAS</td>\n",
       "      <td>Activo</td>\n",
       "      <td>11</td>\n",
       "    </tr>\n",
       "    <tr>\n",
       "      <th>142897</th>\n",
       "      <td>E5385D722533896751FBF38A2129D97966267AB1</td>\n",
       "      <td>HURTO</td>\n",
       "      <td>CONTRA EL PATRIMONIO ECONOMICO</td>\n",
       "      <td>DE LA ESTAFA</td>\n",
       "      <td>S</td>\n",
       "      <td>N</td>\n",
       "      <td>N</td>\n",
       "      <td>2020-11-06</td>\n",
       "      <td>NaT</td>\n",
       "      <td>2020-09-06</td>\n",
       "      <td>...</td>\n",
       "      <td>CICLO I</td>\n",
       "      <td>SI</td>\n",
       "      <td>AFRO COLOMBIANO</td>\n",
       "      <td>5373</td>\n",
       "      <td>COMPLEJO CARCELARIO Y PENITENCIARIO DE MEDELLI...</td>\n",
       "      <td>ANTIOQUIA</td>\n",
       "      <td>MEDELLIN</td>\n",
       "      <td>NOROESTE</td>\n",
       "      <td>Activo</td>\n",
       "      <td>11</td>\n",
       "    </tr>\n",
       "    <tr>\n",
       "      <th>142898</th>\n",
       "      <td>FA176CD9955DAF77F313343E29136E87FE8B0056</td>\n",
       "      <td>FABRICACION TRAFICO Y PORTE DE ARMAS DE FUEGO ...</td>\n",
       "      <td>CONTRA LA SEGURIDAD PUBLICA</td>\n",
       "      <td>DE LOS DELITOS DE PELIGRO COMUN O QUE PUEDEN O...</td>\n",
       "      <td>N</td>\n",
       "      <td>N</td>\n",
       "      <td>N</td>\n",
       "      <td>2020-11-06</td>\n",
       "      <td>NaT</td>\n",
       "      <td>2018-02-08</td>\n",
       "      <td>...</td>\n",
       "      <td>CICLO IV</td>\n",
       "      <td>SI</td>\n",
       "      <td>NaN</td>\n",
       "      <td>204</td>\n",
       "      <td>EPMSC EL BORDO</td>\n",
       "      <td>CAUCA</td>\n",
       "      <td>EL BORDO</td>\n",
       "      <td>OCCIDENTE</td>\n",
       "      <td>Activo</td>\n",
       "      <td>11</td>\n",
       "    </tr>\n",
       "  </tbody>\n",
       "</table>\n",
       "<p>142899 rows × 33 columns</p>\n",
       "</div>"
      ],
      "text/plain": [
       "                                       INTERNOEN  \\\n",
       "0       5496C737C624136DB406CFC6744C684C070A3CD8   \n",
       "1       1097561F306939C26DB4AC60377063DA7E2B079F   \n",
       "2       CB7033A707ADE673139F8A17CAD26AD54696C135   \n",
       "3       CB7033A707ADE673139F8A17CAD26AD54696C135   \n",
       "4       CB7033A707ADE673139F8A17CAD26AD54696C135   \n",
       "...                                          ...   \n",
       "142894  E5551238168C284F73834D203E0EAD0679E5168C   \n",
       "142895  A513E93CA6CBAED54CD9B1D165C75A3EF4F11CD4   \n",
       "142896  856368363834654A5F64534163FE7C7EE6A8A1CA   \n",
       "142897  E5385D722533896751FBF38A2129D97966267AB1   \n",
       "142898  FA176CD9955DAF77F313343E29136E87FE8B0056   \n",
       "\n",
       "                                                   DELITO  \\\n",
       "0       FABRICACION TRAFICO Y PORTE DE ARMAS DE FUEGO ...   \n",
       "1          TRAFICO FABRICACION O PORTE DE ESTUPEFACIENTES   \n",
       "2       FABRICACION TRAFICO Y PORTE DE ARMAS DE FUEGO ...   \n",
       "3                                                   HURTO   \n",
       "4             UTILIZACION ILEGAL DE UNIFORMES E INSIGNIAS   \n",
       "...                                                   ...   \n",
       "142894                                              HURTO   \n",
       "142895                                              HURTO   \n",
       "142896  FABRICACION TRAFICO Y PORTE DE ARMAS DE FUEGO ...   \n",
       "142897                                              HURTO   \n",
       "142898  FABRICACION TRAFICO Y PORTE DE ARMAS DE FUEGO ...   \n",
       "\n",
       "                         TITULO_DELITO  \\\n",
       "0          CONTRA LA SEGURIDAD PUBLICA   \n",
       "1              CONTRA LA SALUD PUBLICA   \n",
       "2          CONTRA LA SEGURIDAD PUBLICA   \n",
       "3       CONTRA EL PATRIMONIO ECONOMICO   \n",
       "4          CONTRA LA SEGURIDAD PUBLICA   \n",
       "...                                ...   \n",
       "142894  CONTRA EL PATRIMONIO ECONOMICO   \n",
       "142895  CONTRA EL PATRIMONIO ECONOMICO   \n",
       "142896     CONTRA LA SEGURIDAD PUBLICA   \n",
       "142897  CONTRA EL PATRIMONIO ECONOMICO   \n",
       "142898     CONTRA LA SEGURIDAD PUBLICA   \n",
       "\n",
       "                                         SUBTITULO_DELITO TENTATIVA AGRAVADO  \\\n",
       "0       DE LOS DELITOS DE PELIGRO COMUN O QUE PUEDEN O...         N        N   \n",
       "1                  DE LAS AFECTACIONES A LA SALUD PUBLICA         N        N   \n",
       "2       DE LOS DELITOS DE PELIGRO COMUN O QUE PUEDEN O...         N        N   \n",
       "3                                            DE LA ESTAFA         N        S   \n",
       "4       DE LOS DELITOS DE PELIGRO COMUN O QUE PUEDEN O...         N        N   \n",
       "...                                                   ...       ...      ...   \n",
       "142894                                       DE LA ESTAFA         N        S   \n",
       "142895                                       DE LA ESTAFA         N        S   \n",
       "142896  DE LOS DELITOS DE PELIGRO COMUN O QUE PUEDEN O...         N        N   \n",
       "142897                                       DE LA ESTAFA         S        N   \n",
       "142898  DE LOS DELITOS DE PELIGRO COMUN O QUE PUEDEN O...         N        N   \n",
       "\n",
       "       CALIFICADO FECHA_INGRESO FECHA_SALIDA FECHA_CAPTURA  ...  \\\n",
       "0               N    2010-01-01   2011-12-05    2009-12-30  ...   \n",
       "1               N    2010-01-01   2011-05-12    2009-12-30  ...   \n",
       "2               N    2010-01-01   2013-06-08    2009-12-30  ...   \n",
       "3               S    2010-01-01   2013-06-08    2009-12-30  ...   \n",
       "4               N    2010-01-01   2013-06-08    2009-12-30  ...   \n",
       "...           ...           ...          ...           ...  ...   \n",
       "142894          S    2020-10-06          NaT    2019-01-09  ...   \n",
       "142895          S    2020-11-06          NaT    2014-10-12  ...   \n",
       "142896          N    2020-11-06          NaT    2016-08-13  ...   \n",
       "142897          N    2020-11-06          NaT    2020-09-06  ...   \n",
       "142898          N    2020-11-06          NaT    2018-02-08  ...   \n",
       "\n",
       "       NIVEL_EDUCATIVO  HIJOS_MENORES  CONDIC_EXPECIONAL  \\\n",
       "0            CICLO III             SI                NaN   \n",
       "1              CICLO I             SI                NaN   \n",
       "2              CICLO I             SI                NaN   \n",
       "3              CICLO I             SI                NaN   \n",
       "4              CICLO I             SI                NaN   \n",
       "...                ...            ...                ...   \n",
       "142894       CICLO III             SI                NaN   \n",
       "142895        CICLO II             NO                NaN   \n",
       "142896         CICLO I             NO   CON DISCAPACIDAD   \n",
       "142897         CICLO I             SI    AFRO COLOMBIANO   \n",
       "142898        CICLO IV             SI                NaN   \n",
       "\n",
       "       CODIGO_ESTABLECIMIENTO  \\\n",
       "0                         502   \n",
       "1                         502   \n",
       "2                         235   \n",
       "3                         235   \n",
       "4                         235   \n",
       "...                       ...   \n",
       "142894                    502   \n",
       "142895                    628   \n",
       "142896                    613   \n",
       "142897                   5373   \n",
       "142898                    204   \n",
       "\n",
       "                                          ESTABLECIMIENTO  \\\n",
       "0                                          EPMSC MEDELLIN   \n",
       "1                                          EPMSC MEDELLIN   \n",
       "2                                  EPAMSCAS POPAYAN (ERE)   \n",
       "3                                  EPAMSCAS POPAYAN (ERE)   \n",
       "4                                  EPAMSCAS POPAYAN (ERE)   \n",
       "...                                                   ...   \n",
       "142894                                     EPMSC MEDELLIN   \n",
       "142895                                        EPMSC HONDA   \n",
       "142896                                      EPMSC ARMENIA   \n",
       "142897  COMPLEJO CARCELARIO Y PENITENCIARIO DE MEDELLI...   \n",
       "142898                                     EPMSC EL BORDO   \n",
       "\n",
       "       DEPTO_ESTABLECIMIENTO MPIO_ESTABLECIMIENTO      REGIONAL  ESTADO  \\\n",
       "0                  ANTIOQUIA             MEDELLIN      NOROESTE    Baja   \n",
       "1                  ANTIOQUIA             MEDELLIN      NOROESTE    Baja   \n",
       "2                      CAUCA              POPAYAN     OCCIDENTE    Baja   \n",
       "3                      CAUCA              POPAYAN     OCCIDENTE    Baja   \n",
       "4                      CAUCA              POPAYAN     OCCIDENTE    Baja   \n",
       "...                      ...                  ...           ...     ...   \n",
       "142894             ANTIOQUIA             MEDELLIN      NOROESTE  Activo   \n",
       "142895                TOLIMA                HONDA  VIEJO CALDAS  Activo   \n",
       "142896               QUINDIO              ARMENIA  VIEJO CALDAS  Activo   \n",
       "142897             ANTIOQUIA             MEDELLIN      NOROESTE  Activo   \n",
       "142898                 CAUCA             EL BORDO     OCCIDENTE  Activo   \n",
       "\n",
       "       MES_INGRESO_INT  \n",
       "0                   01  \n",
       "1                   01  \n",
       "2                   01  \n",
       "3                   01  \n",
       "4                   01  \n",
       "...                ...  \n",
       "142894              10  \n",
       "142895              11  \n",
       "142896              11  \n",
       "142897              11  \n",
       "142898              11  \n",
       "\n",
       "[142899 rows x 33 columns]"
      ]
     },
     "execution_count": 4,
     "metadata": {},
     "output_type": "execute_result"
    }
   ],
   "source": [
    "# df_mj =df_orig.copy()\n",
    "df_mj[\"FECHA_CAPTURA\"] = pd.to_datetime(df_mj[\"FECHA_CAPTURA\"])\n",
    "df_mj[\"FECHA_INGRESO\"] = pd.to_datetime(df_mj[\"FECHA_INGRESO\"])\n",
    "df_mj[\"FECHA_SALIDA\"] = pd.to_datetime(df_mj[\"FECHA_SALIDA\"])\n",
    "\n",
    "df_mj[\"MES_INGRESO_INT\"]=df_mj[\"FECHA_INGRESO\"].dt.strftime('%m')\n",
    "df_mj"
   ]
  },
  {
   "cell_type": "code",
   "execution_count": 5,
   "metadata": {},
   "outputs": [
    {
     "data": {
      "text/html": [
       "<div>\n",
       "<style scoped>\n",
       "    .dataframe tbody tr th:only-of-type {\n",
       "        vertical-align: middle;\n",
       "    }\n",
       "\n",
       "    .dataframe tbody tr th {\n",
       "        vertical-align: top;\n",
       "    }\n",
       "\n",
       "    .dataframe thead th {\n",
       "        text-align: right;\n",
       "    }\n",
       "</style>\n",
       "<table border=\"1\" class=\"dataframe\">\n",
       "  <thead>\n",
       "    <tr style=\"text-align: right;\">\n",
       "      <th></th>\n",
       "      <th>INTERNOEN</th>\n",
       "      <th>DELITO</th>\n",
       "      <th>TITULO_DELITO</th>\n",
       "      <th>SUBTITULO_DELITO</th>\n",
       "      <th>TENTATIVA</th>\n",
       "      <th>AGRAVADO</th>\n",
       "      <th>CALIFICADO</th>\n",
       "      <th>FECHA_INGRESO</th>\n",
       "      <th>FECHA_SALIDA</th>\n",
       "      <th>FECHA_CAPTURA</th>\n",
       "      <th>...</th>\n",
       "      <th>NIVEL_EDUCATIVO</th>\n",
       "      <th>HIJOS_MENORES</th>\n",
       "      <th>CONDIC_EXPECIONAL</th>\n",
       "      <th>CODIGO_ESTABLECIMIENTO</th>\n",
       "      <th>ESTABLECIMIENTO</th>\n",
       "      <th>DEPTO_ESTABLECIMIENTO</th>\n",
       "      <th>MPIO_ESTABLECIMIENTO</th>\n",
       "      <th>REGIONAL</th>\n",
       "      <th>ESTADO</th>\n",
       "      <th>MES_INGRESO_INT</th>\n",
       "    </tr>\n",
       "  </thead>\n",
       "  <tbody>\n",
       "    <tr>\n",
       "      <th>142894</th>\n",
       "      <td>E5551238168C284F73834D203E0EAD0679E5168C</td>\n",
       "      <td>HURTO</td>\n",
       "      <td>CONTRA EL PATRIMONIO ECONOMICO</td>\n",
       "      <td>DE LA ESTAFA</td>\n",
       "      <td>N</td>\n",
       "      <td>S</td>\n",
       "      <td>S</td>\n",
       "      <td>2020-10-06</td>\n",
       "      <td>NaT</td>\n",
       "      <td>2019-01-09</td>\n",
       "      <td>...</td>\n",
       "      <td>CICLO III</td>\n",
       "      <td>SI</td>\n",
       "      <td>NaN</td>\n",
       "      <td>502</td>\n",
       "      <td>EPMSC MEDELLIN</td>\n",
       "      <td>ANTIOQUIA</td>\n",
       "      <td>MEDELLIN</td>\n",
       "      <td>NOROESTE</td>\n",
       "      <td>Activo</td>\n",
       "      <td>10</td>\n",
       "    </tr>\n",
       "    <tr>\n",
       "      <th>142895</th>\n",
       "      <td>A513E93CA6CBAED54CD9B1D165C75A3EF4F11CD4</td>\n",
       "      <td>HURTO</td>\n",
       "      <td>CONTRA EL PATRIMONIO ECONOMICO</td>\n",
       "      <td>DE LA ESTAFA</td>\n",
       "      <td>N</td>\n",
       "      <td>S</td>\n",
       "      <td>S</td>\n",
       "      <td>2020-11-06</td>\n",
       "      <td>NaT</td>\n",
       "      <td>2014-10-12</td>\n",
       "      <td>...</td>\n",
       "      <td>CICLO II</td>\n",
       "      <td>NO</td>\n",
       "      <td>NaN</td>\n",
       "      <td>628</td>\n",
       "      <td>EPMSC HONDA</td>\n",
       "      <td>TOLIMA</td>\n",
       "      <td>HONDA</td>\n",
       "      <td>VIEJO CALDAS</td>\n",
       "      <td>Activo</td>\n",
       "      <td>11</td>\n",
       "    </tr>\n",
       "    <tr>\n",
       "      <th>142896</th>\n",
       "      <td>856368363834654A5F64534163FE7C7EE6A8A1CA</td>\n",
       "      <td>FABRICACION TRAFICO Y PORTE DE ARMAS DE FUEGO ...</td>\n",
       "      <td>CONTRA LA SEGURIDAD PUBLICA</td>\n",
       "      <td>DE LOS DELITOS DE PELIGRO COMUN O QUE PUEDEN O...</td>\n",
       "      <td>N</td>\n",
       "      <td>N</td>\n",
       "      <td>N</td>\n",
       "      <td>2020-11-06</td>\n",
       "      <td>NaT</td>\n",
       "      <td>2016-08-13</td>\n",
       "      <td>...</td>\n",
       "      <td>CICLO I</td>\n",
       "      <td>NO</td>\n",
       "      <td>CON DISCAPACIDAD</td>\n",
       "      <td>613</td>\n",
       "      <td>EPMSC ARMENIA</td>\n",
       "      <td>QUINDIO</td>\n",
       "      <td>ARMENIA</td>\n",
       "      <td>VIEJO CALDAS</td>\n",
       "      <td>Activo</td>\n",
       "      <td>11</td>\n",
       "    </tr>\n",
       "    <tr>\n",
       "      <th>142897</th>\n",
       "      <td>E5385D722533896751FBF38A2129D97966267AB1</td>\n",
       "      <td>HURTO</td>\n",
       "      <td>CONTRA EL PATRIMONIO ECONOMICO</td>\n",
       "      <td>DE LA ESTAFA</td>\n",
       "      <td>S</td>\n",
       "      <td>N</td>\n",
       "      <td>N</td>\n",
       "      <td>2020-11-06</td>\n",
       "      <td>NaT</td>\n",
       "      <td>2020-09-06</td>\n",
       "      <td>...</td>\n",
       "      <td>CICLO I</td>\n",
       "      <td>SI</td>\n",
       "      <td>AFRO COLOMBIANO</td>\n",
       "      <td>5373</td>\n",
       "      <td>COMPLEJO CARCELARIO Y PENITENCIARIO DE MEDELLI...</td>\n",
       "      <td>ANTIOQUIA</td>\n",
       "      <td>MEDELLIN</td>\n",
       "      <td>NOROESTE</td>\n",
       "      <td>Activo</td>\n",
       "      <td>11</td>\n",
       "    </tr>\n",
       "    <tr>\n",
       "      <th>142898</th>\n",
       "      <td>FA176CD9955DAF77F313343E29136E87FE8B0056</td>\n",
       "      <td>FABRICACION TRAFICO Y PORTE DE ARMAS DE FUEGO ...</td>\n",
       "      <td>CONTRA LA SEGURIDAD PUBLICA</td>\n",
       "      <td>DE LOS DELITOS DE PELIGRO COMUN O QUE PUEDEN O...</td>\n",
       "      <td>N</td>\n",
       "      <td>N</td>\n",
       "      <td>N</td>\n",
       "      <td>2020-11-06</td>\n",
       "      <td>NaT</td>\n",
       "      <td>2018-02-08</td>\n",
       "      <td>...</td>\n",
       "      <td>CICLO IV</td>\n",
       "      <td>SI</td>\n",
       "      <td>NaN</td>\n",
       "      <td>204</td>\n",
       "      <td>EPMSC EL BORDO</td>\n",
       "      <td>CAUCA</td>\n",
       "      <td>EL BORDO</td>\n",
       "      <td>OCCIDENTE</td>\n",
       "      <td>Activo</td>\n",
       "      <td>11</td>\n",
       "    </tr>\n",
       "  </tbody>\n",
       "</table>\n",
       "<p>5 rows × 33 columns</p>\n",
       "</div>"
      ],
      "text/plain": [
       "                                       INTERNOEN  \\\n",
       "142894  E5551238168C284F73834D203E0EAD0679E5168C   \n",
       "142895  A513E93CA6CBAED54CD9B1D165C75A3EF4F11CD4   \n",
       "142896  856368363834654A5F64534163FE7C7EE6A8A1CA   \n",
       "142897  E5385D722533896751FBF38A2129D97966267AB1   \n",
       "142898  FA176CD9955DAF77F313343E29136E87FE8B0056   \n",
       "\n",
       "                                                   DELITO  \\\n",
       "142894                                              HURTO   \n",
       "142895                                              HURTO   \n",
       "142896  FABRICACION TRAFICO Y PORTE DE ARMAS DE FUEGO ...   \n",
       "142897                                              HURTO   \n",
       "142898  FABRICACION TRAFICO Y PORTE DE ARMAS DE FUEGO ...   \n",
       "\n",
       "                         TITULO_DELITO  \\\n",
       "142894  CONTRA EL PATRIMONIO ECONOMICO   \n",
       "142895  CONTRA EL PATRIMONIO ECONOMICO   \n",
       "142896     CONTRA LA SEGURIDAD PUBLICA   \n",
       "142897  CONTRA EL PATRIMONIO ECONOMICO   \n",
       "142898     CONTRA LA SEGURIDAD PUBLICA   \n",
       "\n",
       "                                         SUBTITULO_DELITO TENTATIVA AGRAVADO  \\\n",
       "142894                                       DE LA ESTAFA         N        S   \n",
       "142895                                       DE LA ESTAFA         N        S   \n",
       "142896  DE LOS DELITOS DE PELIGRO COMUN O QUE PUEDEN O...         N        N   \n",
       "142897                                       DE LA ESTAFA         S        N   \n",
       "142898  DE LOS DELITOS DE PELIGRO COMUN O QUE PUEDEN O...         N        N   \n",
       "\n",
       "       CALIFICADO FECHA_INGRESO FECHA_SALIDA FECHA_CAPTURA  ...  \\\n",
       "142894          S    2020-10-06          NaT    2019-01-09  ...   \n",
       "142895          S    2020-11-06          NaT    2014-10-12  ...   \n",
       "142896          N    2020-11-06          NaT    2016-08-13  ...   \n",
       "142897          N    2020-11-06          NaT    2020-09-06  ...   \n",
       "142898          N    2020-11-06          NaT    2018-02-08  ...   \n",
       "\n",
       "       NIVEL_EDUCATIVO  HIJOS_MENORES  CONDIC_EXPECIONAL  \\\n",
       "142894       CICLO III             SI                NaN   \n",
       "142895        CICLO II             NO                NaN   \n",
       "142896         CICLO I             NO   CON DISCAPACIDAD   \n",
       "142897         CICLO I             SI    AFRO COLOMBIANO   \n",
       "142898        CICLO IV             SI                NaN   \n",
       "\n",
       "       CODIGO_ESTABLECIMIENTO  \\\n",
       "142894                    502   \n",
       "142895                    628   \n",
       "142896                    613   \n",
       "142897                   5373   \n",
       "142898                    204   \n",
       "\n",
       "                                          ESTABLECIMIENTO  \\\n",
       "142894                                     EPMSC MEDELLIN   \n",
       "142895                                        EPMSC HONDA   \n",
       "142896                                      EPMSC ARMENIA   \n",
       "142897  COMPLEJO CARCELARIO Y PENITENCIARIO DE MEDELLI...   \n",
       "142898                                     EPMSC EL BORDO   \n",
       "\n",
       "       DEPTO_ESTABLECIMIENTO MPIO_ESTABLECIMIENTO      REGIONAL  ESTADO  \\\n",
       "142894             ANTIOQUIA             MEDELLIN      NOROESTE  Activo   \n",
       "142895                TOLIMA                HONDA  VIEJO CALDAS  Activo   \n",
       "142896               QUINDIO              ARMENIA  VIEJO CALDAS  Activo   \n",
       "142897             ANTIOQUIA             MEDELLIN      NOROESTE  Activo   \n",
       "142898                 CAUCA             EL BORDO     OCCIDENTE  Activo   \n",
       "\n",
       "       MES_INGRESO_INT  \n",
       "142894              10  \n",
       "142895              11  \n",
       "142896              11  \n",
       "142897              11  \n",
       "142898              11  \n",
       "\n",
       "[5 rows x 33 columns]"
      ]
     },
     "execution_count": 5,
     "metadata": {},
     "output_type": "execute_result"
    }
   ],
   "source": [
    "# df_mj.INTERNOEN != df_mj.INTERNOEN.shift(1)\n",
    "# df_mj.loc[(df_mj.INTERNOEN != df_mj.INTERNOEN.shift(1)), \n",
    "#               ['DIAS' + column[5:]]] = pd.to_datetime(\"today\") - df_mj[column]\n",
    "df_mj.tail()\n",
    "# for column in ['FECHA_INGRESO', 'FECHA_SALIDA', 'FECHA_CAPTURA']:\n",
    "#     df = df_mj.loc[(df_mj.INTERNOEN != df_mj.INTERNOEN.shift(1)) | (df_mj['DIAS' + column[5:]] == np.timedelta64(0)), \n",
    "#               ['DIAS' + column[5:]]].copy()\n",
    "#     print(pd.to_datetime(\"today\") - df_mj[column])\n",
    "# df\n",
    "\n",
    "# datetime.today() - pd.to_datetime(df_mj[\"DIAS_CAPTURA\"])\n",
    "# datetime.today()"
   ]
  },
  {
   "cell_type": "code",
   "execution_count": 6,
   "metadata": {
    "colab": {
     "base_uri": "https://localhost:8080/",
     "height": 337
    },
    "colab_type": "code",
    "id": "nlX1b7XMfH3Z",
    "outputId": "209026fa-a687-491e-a884-c529c55bed46"
   },
   "outputs": [
    {
     "name": "stderr",
     "output_type": "stream",
     "text": [
      "<ipython-input-6-50a6f3ddb6c1>:6: SettingWithCopyWarning: \n",
      "A value is trying to be set on a copy of a slice from a DataFrame\n",
      "\n",
      "See the caveats in the documentation: https://pandas.pydata.org/pandas-docs/stable/user_guide/indexing.html#returning-a-view-versus-a-copy\n",
      "  df_mj['DIAS' + column[5:]][(df_mj.INTERNOEN != df_mj.INTERNOEN.shift(1)) | (df_mj['DIAS' + column[5:]] == np.timedelta64(0))] = (datetime.today() - pd.to_datetime(df_mj[column]))\n"
     ]
    },
    {
     "data": {
      "text/html": [
       "<div>\n",
       "<style scoped>\n",
       "    .dataframe tbody tr th:only-of-type {\n",
       "        vertical-align: middle;\n",
       "    }\n",
       "\n",
       "    .dataframe tbody tr th {\n",
       "        vertical-align: top;\n",
       "    }\n",
       "\n",
       "    .dataframe thead th {\n",
       "        text-align: right;\n",
       "    }\n",
       "</style>\n",
       "<table border=\"1\" class=\"dataframe\">\n",
       "  <thead>\n",
       "    <tr style=\"text-align: right;\">\n",
       "      <th></th>\n",
       "      <th>INTERNOEN</th>\n",
       "      <th>DELITO</th>\n",
       "      <th>TITULO_DELITO</th>\n",
       "      <th>SUBTITULO_DELITO</th>\n",
       "      <th>TENTATIVA</th>\n",
       "      <th>AGRAVADO</th>\n",
       "      <th>CALIFICADO</th>\n",
       "      <th>FECHA_INGRESO</th>\n",
       "      <th>FECHA_SALIDA</th>\n",
       "      <th>FECHA_CAPTURA</th>\n",
       "      <th>...</th>\n",
       "      <th>CODIGO_ESTABLECIMIENTO</th>\n",
       "      <th>ESTABLECIMIENTO</th>\n",
       "      <th>DEPTO_ESTABLECIMIENTO</th>\n",
       "      <th>MPIO_ESTABLECIMIENTO</th>\n",
       "      <th>REGIONAL</th>\n",
       "      <th>ESTADO</th>\n",
       "      <th>MES_INGRESO_INT</th>\n",
       "      <th>DIAS_INGRESO</th>\n",
       "      <th>DIAS_SALIDA</th>\n",
       "      <th>DIAS_CAPTURA</th>\n",
       "    </tr>\n",
       "  </thead>\n",
       "  <tbody>\n",
       "    <tr>\n",
       "      <th>72750</th>\n",
       "      <td>FFFFB0916FD16C7AF652FF211662005C40F70E33</td>\n",
       "      <td>FABRICACION TRAFICO Y PORTE DE ARMAS DE FUEGO ...</td>\n",
       "      <td>CONTRA LA SEGURIDAD PUBLICA</td>\n",
       "      <td>DE LOS DELITOS DE PELIGRO COMUN O QUE PUEDEN O...</td>\n",
       "      <td>N</td>\n",
       "      <td>N</td>\n",
       "      <td>N</td>\n",
       "      <td>2016-05-02</td>\n",
       "      <td>NaT</td>\n",
       "      <td>2016-02-02</td>\n",
       "      <td>...</td>\n",
       "      <td>502</td>\n",
       "      <td>EPMSC MEDELLIN</td>\n",
       "      <td>ANTIOQUIA</td>\n",
       "      <td>MEDELLIN</td>\n",
       "      <td>NOROESTE</td>\n",
       "      <td>Activo</td>\n",
       "      <td>05</td>\n",
       "      <td>1530 days 16:02:34.573226</td>\n",
       "      <td>NaT</td>\n",
       "      <td>1620 days 16:02:35.092263</td>\n",
       "    </tr>\n",
       "    <tr>\n",
       "      <th>72751</th>\n",
       "      <td>FFFFB0916FD16C7AF652FF211662005C40F70E33</td>\n",
       "      <td>HOMICIDIO</td>\n",
       "      <td>CONTRA LA VIDA Y LA INTEGRIDAD PERSONAL</td>\n",
       "      <td>DE LA MANIPULACION GENETICA</td>\n",
       "      <td>N</td>\n",
       "      <td>S</td>\n",
       "      <td>N</td>\n",
       "      <td>2016-05-02</td>\n",
       "      <td>NaT</td>\n",
       "      <td>2016-02-02</td>\n",
       "      <td>...</td>\n",
       "      <td>502</td>\n",
       "      <td>EPMSC MEDELLIN</td>\n",
       "      <td>ANTIOQUIA</td>\n",
       "      <td>MEDELLIN</td>\n",
       "      <td>NOROESTE</td>\n",
       "      <td>Activo</td>\n",
       "      <td>05</td>\n",
       "      <td>1530 days 16:02:34.573226</td>\n",
       "      <td>NaT</td>\n",
       "      <td>1620 days 16:02:35.092263</td>\n",
       "    </tr>\n",
       "    <tr>\n",
       "      <th>72752</th>\n",
       "      <td>FFFFB0916FD16C7AF652FF211662005C40F70E33</td>\n",
       "      <td>HOMICIDIO</td>\n",
       "      <td>CONTRA LA VIDA Y LA INTEGRIDAD PERSONAL</td>\n",
       "      <td>DE LA MANIPULACION GENETICA</td>\n",
       "      <td>S</td>\n",
       "      <td>N</td>\n",
       "      <td>N</td>\n",
       "      <td>2016-05-02</td>\n",
       "      <td>NaT</td>\n",
       "      <td>2016-02-02</td>\n",
       "      <td>...</td>\n",
       "      <td>502</td>\n",
       "      <td>EPMSC MEDELLIN</td>\n",
       "      <td>ANTIOQUIA</td>\n",
       "      <td>MEDELLIN</td>\n",
       "      <td>NOROESTE</td>\n",
       "      <td>Activo</td>\n",
       "      <td>05</td>\n",
       "      <td>1530 days 16:02:34.573226</td>\n",
       "      <td>NaT</td>\n",
       "      <td>1620 days 16:02:35.092263</td>\n",
       "    </tr>\n",
       "    <tr>\n",
       "      <th>75131</th>\n",
       "      <td>FFFF73D0B7088A0EF0A4B7F3CC26F8CF672C6EC1</td>\n",
       "      <td>HURTO</td>\n",
       "      <td>CONTRA EL PATRIMONIO ECONOMICO</td>\n",
       "      <td>DE LA ESTAFA</td>\n",
       "      <td>N</td>\n",
       "      <td>N</td>\n",
       "      <td>S</td>\n",
       "      <td>2016-05-04</td>\n",
       "      <td>2016-09-06</td>\n",
       "      <td>2014-11-06</td>\n",
       "      <td>...</td>\n",
       "      <td>113</td>\n",
       "      <td>COMPLEJO CARCELARIO Y PENITENCIARIO METROPOLIT...</td>\n",
       "      <td>BOGOTA D.C.</td>\n",
       "      <td>BOGOTA D.C.</td>\n",
       "      <td>CENTRAL</td>\n",
       "      <td>Baja</td>\n",
       "      <td>05</td>\n",
       "      <td>1528 days 16:02:34.573226</td>\n",
       "      <td>1403 days 16:02:34.852232</td>\n",
       "      <td>2073 days 16:02:35.092263</td>\n",
       "    </tr>\n",
       "    <tr>\n",
       "      <th>138808</th>\n",
       "      <td>FFFE667F85CF452DB70B955609103CB72ECA3EEB</td>\n",
       "      <td>FABRICACION TRAFICO Y PORTE DE ARMAS DE FUEGO ...</td>\n",
       "      <td>CONTRA LA SEGURIDAD PUBLICA</td>\n",
       "      <td>DE LOS DELITOS DE PELIGRO COMUN O QUE PUEDEN O...</td>\n",
       "      <td>N</td>\n",
       "      <td>N</td>\n",
       "      <td>N</td>\n",
       "      <td>2020-01-14</td>\n",
       "      <td>NaT</td>\n",
       "      <td>2019-12-16</td>\n",
       "      <td>...</td>\n",
       "      <td>4222</td>\n",
       "      <td>COMPLEJO CARCELARIO Y PENITENCIARIO METROPOLIT...</td>\n",
       "      <td>NORTE DE SANTANDER</td>\n",
       "      <td>CUCUTA</td>\n",
       "      <td>ORIENTE</td>\n",
       "      <td>Activo</td>\n",
       "      <td>01</td>\n",
       "      <td>178 days 16:02:34.573226</td>\n",
       "      <td>NaT</td>\n",
       "      <td>207 days 16:02:35.092263</td>\n",
       "    </tr>\n",
       "    <tr>\n",
       "      <th>...</th>\n",
       "      <td>...</td>\n",
       "      <td>...</td>\n",
       "      <td>...</td>\n",
       "      <td>...</td>\n",
       "      <td>...</td>\n",
       "      <td>...</td>\n",
       "      <td>...</td>\n",
       "      <td>...</td>\n",
       "      <td>...</td>\n",
       "      <td>...</td>\n",
       "      <td>...</td>\n",
       "      <td>...</td>\n",
       "      <td>...</td>\n",
       "      <td>...</td>\n",
       "      <td>...</td>\n",
       "      <td>...</td>\n",
       "      <td>...</td>\n",
       "      <td>...</td>\n",
       "      <td>...</td>\n",
       "      <td>...</td>\n",
       "      <td>...</td>\n",
       "    </tr>\n",
       "    <tr>\n",
       "      <th>39682</th>\n",
       "      <td>000393AD7FE65FBBE53A61B0EAA1FB9A62F71450</td>\n",
       "      <td>FABRICACION TRAFICO Y PORTE DE ARMAS DE FUEGO ...</td>\n",
       "      <td>CONTRA LA SEGURIDAD PUBLICA</td>\n",
       "      <td>DE LOS DELITOS DE PELIGRO COMUN O QUE PUEDEN O...</td>\n",
       "      <td>N</td>\n",
       "      <td>N</td>\n",
       "      <td>N</td>\n",
       "      <td>2013-05-17</td>\n",
       "      <td>2015-11-08</td>\n",
       "      <td>2010-04-22</td>\n",
       "      <td>...</td>\n",
       "      <td>113</td>\n",
       "      <td>COMPLEJO CARCELARIO Y PENITENCIARIO METROPOLIT...</td>\n",
       "      <td>BOGOTA D.C.</td>\n",
       "      <td>BOGOTA D.C.</td>\n",
       "      <td>CENTRAL</td>\n",
       "      <td>Baja</td>\n",
       "      <td>05</td>\n",
       "      <td>2611 days 16:02:34.573226</td>\n",
       "      <td>1706 days 16:02:34.852232</td>\n",
       "      <td>3732 days 16:02:35.092263</td>\n",
       "    </tr>\n",
       "    <tr>\n",
       "      <th>39683</th>\n",
       "      <td>000393AD7FE65FBBE53A61B0EAA1FB9A62F71450</td>\n",
       "      <td>HURTO</td>\n",
       "      <td>CONTRA EL PATRIMONIO ECONOMICO</td>\n",
       "      <td>DE LA ESTAFA</td>\n",
       "      <td>N</td>\n",
       "      <td>S</td>\n",
       "      <td>S</td>\n",
       "      <td>2013-05-17</td>\n",
       "      <td>2015-11-08</td>\n",
       "      <td>2010-04-22</td>\n",
       "      <td>...</td>\n",
       "      <td>113</td>\n",
       "      <td>COMPLEJO CARCELARIO Y PENITENCIARIO METROPOLIT...</td>\n",
       "      <td>BOGOTA D.C.</td>\n",
       "      <td>BOGOTA D.C.</td>\n",
       "      <td>CENTRAL</td>\n",
       "      <td>Baja</td>\n",
       "      <td>05</td>\n",
       "      <td>2611 days 16:02:34.573226</td>\n",
       "      <td>1706 days 16:02:34.852232</td>\n",
       "      <td>3732 days 16:02:35.092263</td>\n",
       "    </tr>\n",
       "    <tr>\n",
       "      <th>133508</th>\n",
       "      <td>000357E4F19E3722BA43488F69A7D7DECFC620C4</td>\n",
       "      <td>CONCIERTO PARA DELINQUIR</td>\n",
       "      <td>CONTRA LA SEGURIDAD PUBLICA</td>\n",
       "      <td>DE LOS DELITOS DE PELIGRO COMUN O QUE PUEDEN O...</td>\n",
       "      <td>N</td>\n",
       "      <td>N</td>\n",
       "      <td>N</td>\n",
       "      <td>2019-09-25</td>\n",
       "      <td>NaT</td>\n",
       "      <td>2017-12-14</td>\n",
       "      <td>...</td>\n",
       "      <td>616</td>\n",
       "      <td>EPMSC PEREIRA (ERE)</td>\n",
       "      <td>RISARALDA</td>\n",
       "      <td>PEREIRA</td>\n",
       "      <td>VIEJO CALDAS</td>\n",
       "      <td>Activo</td>\n",
       "      <td>09</td>\n",
       "      <td>289 days 16:02:34.573226</td>\n",
       "      <td>NaT</td>\n",
       "      <td>939 days 16:02:35.092263</td>\n",
       "    </tr>\n",
       "    <tr>\n",
       "      <th>133509</th>\n",
       "      <td>000357E4F19E3722BA43488F69A7D7DECFC620C4</td>\n",
       "      <td>HURTO</td>\n",
       "      <td>CONTRA EL PATRIMONIO ECONOMICO</td>\n",
       "      <td>DE LA ESTAFA</td>\n",
       "      <td>N</td>\n",
       "      <td>S</td>\n",
       "      <td>S</td>\n",
       "      <td>2019-09-25</td>\n",
       "      <td>NaT</td>\n",
       "      <td>2017-12-14</td>\n",
       "      <td>...</td>\n",
       "      <td>616</td>\n",
       "      <td>EPMSC PEREIRA (ERE)</td>\n",
       "      <td>RISARALDA</td>\n",
       "      <td>PEREIRA</td>\n",
       "      <td>VIEJO CALDAS</td>\n",
       "      <td>Activo</td>\n",
       "      <td>09</td>\n",
       "      <td>289 days 16:02:34.573226</td>\n",
       "      <td>NaT</td>\n",
       "      <td>939 days 16:02:35.092263</td>\n",
       "    </tr>\n",
       "    <tr>\n",
       "      <th>112953</th>\n",
       "      <td>000334541B6B3305CE91761942D7B381248777EA</td>\n",
       "      <td>TRAFICO FABRICACION O PORTE DE ESTUPEFACIENTES</td>\n",
       "      <td>CONTRA LA SALUD PUBLICA</td>\n",
       "      <td>DE LAS AFECTACIONES A LA SALUD PUBLICA</td>\n",
       "      <td>N</td>\n",
       "      <td>N</td>\n",
       "      <td>N</td>\n",
       "      <td>2018-06-08</td>\n",
       "      <td>NaT</td>\n",
       "      <td>2018-02-08</td>\n",
       "      <td>...</td>\n",
       "      <td>142</td>\n",
       "      <td>EPMSC PITALITO</td>\n",
       "      <td>HUILA</td>\n",
       "      <td>PITALITO</td>\n",
       "      <td>CENTRAL</td>\n",
       "      <td>Activo</td>\n",
       "      <td>06</td>\n",
       "      <td>763 days 16:02:34.573226</td>\n",
       "      <td>NaT</td>\n",
       "      <td>883 days 16:02:35.092263</td>\n",
       "    </tr>\n",
       "  </tbody>\n",
       "</table>\n",
       "<p>142899 rows × 36 columns</p>\n",
       "</div>"
      ],
      "text/plain": [
       "                                       INTERNOEN  \\\n",
       "72750   FFFFB0916FD16C7AF652FF211662005C40F70E33   \n",
       "72751   FFFFB0916FD16C7AF652FF211662005C40F70E33   \n",
       "72752   FFFFB0916FD16C7AF652FF211662005C40F70E33   \n",
       "75131   FFFF73D0B7088A0EF0A4B7F3CC26F8CF672C6EC1   \n",
       "138808  FFFE667F85CF452DB70B955609103CB72ECA3EEB   \n",
       "...                                          ...   \n",
       "39682   000393AD7FE65FBBE53A61B0EAA1FB9A62F71450   \n",
       "39683   000393AD7FE65FBBE53A61B0EAA1FB9A62F71450   \n",
       "133508  000357E4F19E3722BA43488F69A7D7DECFC620C4   \n",
       "133509  000357E4F19E3722BA43488F69A7D7DECFC620C4   \n",
       "112953  000334541B6B3305CE91761942D7B381248777EA   \n",
       "\n",
       "                                                   DELITO  \\\n",
       "72750   FABRICACION TRAFICO Y PORTE DE ARMAS DE FUEGO ...   \n",
       "72751                                           HOMICIDIO   \n",
       "72752                                           HOMICIDIO   \n",
       "75131                                               HURTO   \n",
       "138808  FABRICACION TRAFICO Y PORTE DE ARMAS DE FUEGO ...   \n",
       "...                                                   ...   \n",
       "39682   FABRICACION TRAFICO Y PORTE DE ARMAS DE FUEGO ...   \n",
       "39683                                               HURTO   \n",
       "133508                           CONCIERTO PARA DELINQUIR   \n",
       "133509                                              HURTO   \n",
       "112953     TRAFICO FABRICACION O PORTE DE ESTUPEFACIENTES   \n",
       "\n",
       "                                  TITULO_DELITO  \\\n",
       "72750               CONTRA LA SEGURIDAD PUBLICA   \n",
       "72751   CONTRA LA VIDA Y LA INTEGRIDAD PERSONAL   \n",
       "72752   CONTRA LA VIDA Y LA INTEGRIDAD PERSONAL   \n",
       "75131            CONTRA EL PATRIMONIO ECONOMICO   \n",
       "138808              CONTRA LA SEGURIDAD PUBLICA   \n",
       "...                                         ...   \n",
       "39682               CONTRA LA SEGURIDAD PUBLICA   \n",
       "39683            CONTRA EL PATRIMONIO ECONOMICO   \n",
       "133508              CONTRA LA SEGURIDAD PUBLICA   \n",
       "133509           CONTRA EL PATRIMONIO ECONOMICO   \n",
       "112953                  CONTRA LA SALUD PUBLICA   \n",
       "\n",
       "                                         SUBTITULO_DELITO TENTATIVA AGRAVADO  \\\n",
       "72750   DE LOS DELITOS DE PELIGRO COMUN O QUE PUEDEN O...         N        N   \n",
       "72751                         DE LA MANIPULACION GENETICA         N        S   \n",
       "72752                         DE LA MANIPULACION GENETICA         S        N   \n",
       "75131                                        DE LA ESTAFA         N        N   \n",
       "138808  DE LOS DELITOS DE PELIGRO COMUN O QUE PUEDEN O...         N        N   \n",
       "...                                                   ...       ...      ...   \n",
       "39682   DE LOS DELITOS DE PELIGRO COMUN O QUE PUEDEN O...         N        N   \n",
       "39683                                        DE LA ESTAFA         N        S   \n",
       "133508  DE LOS DELITOS DE PELIGRO COMUN O QUE PUEDEN O...         N        N   \n",
       "133509                                       DE LA ESTAFA         N        S   \n",
       "112953             DE LAS AFECTACIONES A LA SALUD PUBLICA         N        N   \n",
       "\n",
       "       CALIFICADO FECHA_INGRESO FECHA_SALIDA FECHA_CAPTURA  ...  \\\n",
       "72750           N    2016-05-02          NaT    2016-02-02  ...   \n",
       "72751           N    2016-05-02          NaT    2016-02-02  ...   \n",
       "72752           N    2016-05-02          NaT    2016-02-02  ...   \n",
       "75131           S    2016-05-04   2016-09-06    2014-11-06  ...   \n",
       "138808          N    2020-01-14          NaT    2019-12-16  ...   \n",
       "...           ...           ...          ...           ...  ...   \n",
       "39682           N    2013-05-17   2015-11-08    2010-04-22  ...   \n",
       "39683           S    2013-05-17   2015-11-08    2010-04-22  ...   \n",
       "133508          N    2019-09-25          NaT    2017-12-14  ...   \n",
       "133509          S    2019-09-25          NaT    2017-12-14  ...   \n",
       "112953          N    2018-06-08          NaT    2018-02-08  ...   \n",
       "\n",
       "       CODIGO_ESTABLECIMIENTO  \\\n",
       "72750                     502   \n",
       "72751                     502   \n",
       "72752                     502   \n",
       "75131                     113   \n",
       "138808                   4222   \n",
       "...                       ...   \n",
       "39682                     113   \n",
       "39683                     113   \n",
       "133508                    616   \n",
       "133509                    616   \n",
       "112953                    142   \n",
       "\n",
       "                                          ESTABLECIMIENTO  \\\n",
       "72750                                      EPMSC MEDELLIN   \n",
       "72751                                      EPMSC MEDELLIN   \n",
       "72752                                      EPMSC MEDELLIN   \n",
       "75131   COMPLEJO CARCELARIO Y PENITENCIARIO METROPOLIT...   \n",
       "138808  COMPLEJO CARCELARIO Y PENITENCIARIO METROPOLIT...   \n",
       "...                                                   ...   \n",
       "39682   COMPLEJO CARCELARIO Y PENITENCIARIO METROPOLIT...   \n",
       "39683   COMPLEJO CARCELARIO Y PENITENCIARIO METROPOLIT...   \n",
       "133508                                EPMSC PEREIRA (ERE)   \n",
       "133509                                EPMSC PEREIRA (ERE)   \n",
       "112953                                     EPMSC PITALITO   \n",
       "\n",
       "        DEPTO_ESTABLECIMIENTO MPIO_ESTABLECIMIENTO      REGIONAL  ESTADO  \\\n",
       "72750               ANTIOQUIA             MEDELLIN      NOROESTE  Activo   \n",
       "72751               ANTIOQUIA             MEDELLIN      NOROESTE  Activo   \n",
       "72752               ANTIOQUIA             MEDELLIN      NOROESTE  Activo   \n",
       "75131             BOGOTA D.C.          BOGOTA D.C.       CENTRAL    Baja   \n",
       "138808     NORTE DE SANTANDER               CUCUTA       ORIENTE  Activo   \n",
       "...                       ...                  ...           ...     ...   \n",
       "39682             BOGOTA D.C.          BOGOTA D.C.       CENTRAL    Baja   \n",
       "39683             BOGOTA D.C.          BOGOTA D.C.       CENTRAL    Baja   \n",
       "133508              RISARALDA              PEREIRA  VIEJO CALDAS  Activo   \n",
       "133509              RISARALDA              PEREIRA  VIEJO CALDAS  Activo   \n",
       "112953                  HUILA             PITALITO       CENTRAL  Activo   \n",
       "\n",
       "       MES_INGRESO_INT              DIAS_INGRESO               DIAS_SALIDA  \\\n",
       "72750               05 1530 days 16:02:34.573226                       NaT   \n",
       "72751               05 1530 days 16:02:34.573226                       NaT   \n",
       "72752               05 1530 days 16:02:34.573226                       NaT   \n",
       "75131               05 1528 days 16:02:34.573226 1403 days 16:02:34.852232   \n",
       "138808              01  178 days 16:02:34.573226                       NaT   \n",
       "...                ...                       ...                       ...   \n",
       "39682               05 2611 days 16:02:34.573226 1706 days 16:02:34.852232   \n",
       "39683               05 2611 days 16:02:34.573226 1706 days 16:02:34.852232   \n",
       "133508              09  289 days 16:02:34.573226                       NaT   \n",
       "133509              09  289 days 16:02:34.573226                       NaT   \n",
       "112953              06  763 days 16:02:34.573226                       NaT   \n",
       "\n",
       "                    DIAS_CAPTURA  \n",
       "72750  1620 days 16:02:35.092263  \n",
       "72751  1620 days 16:02:35.092263  \n",
       "72752  1620 days 16:02:35.092263  \n",
       "75131  2073 days 16:02:35.092263  \n",
       "138808  207 days 16:02:35.092263  \n",
       "...                          ...  \n",
       "39682  3732 days 16:02:35.092263  \n",
       "39683  3732 days 16:02:35.092263  \n",
       "133508  939 days 16:02:35.092263  \n",
       "133509  939 days 16:02:35.092263  \n",
       "112953  883 days 16:02:35.092263  \n",
       "\n",
       "[142899 rows x 36 columns]"
      ]
     },
     "execution_count": 6,
     "metadata": {},
     "output_type": "execute_result"
    }
   ],
   "source": [
    "for column in ['FECHA_INGRESO', 'FECHA_SALIDA', 'FECHA_CAPTURA']:\n",
    "    df_mj = df_mj.sort_values(['INTERNOEN', column], ascending = False)\n",
    "    \n",
    "    df_mj['DIAS' + column[5:]] = -1*df_mj[column].diff().copy()\n",
    "\n",
    "    df_mj['DIAS' + column[5:]][(df_mj.INTERNOEN != df_mj.INTERNOEN.shift(1)) | (df_mj['DIAS' + column[5:]] == np.timedelta64(0))] = (datetime.today() - pd.to_datetime(df_mj[column]))\n",
    "\n",
    "#     df_mj.loc[(df_mj.INTERNOEN != df_mj.INTERNOEN.shift(1)) | (df_mj['DIAS' + column[5:]] == np.timedelta64(0)), \n",
    "#               ['DIAS' + column[5:]]] = (pd.to_datetime(datetime.today() - df_mj[column])).values.astype('datetime64[D]')\n",
    "\n",
    "\n",
    "df_mj"
   ]
  },
  {
   "cell_type": "code",
   "execution_count": 7,
   "metadata": {},
   "outputs": [
    {
     "data": {
      "text/html": [
       "<div>\n",
       "<style scoped>\n",
       "    .dataframe tbody tr th:only-of-type {\n",
       "        vertical-align: middle;\n",
       "    }\n",
       "\n",
       "    .dataframe tbody tr th {\n",
       "        vertical-align: top;\n",
       "    }\n",
       "\n",
       "    .dataframe thead th {\n",
       "        text-align: right;\n",
       "    }\n",
       "</style>\n",
       "<table border=\"1\" class=\"dataframe\">\n",
       "  <thead>\n",
       "    <tr style=\"text-align: right;\">\n",
       "      <th></th>\n",
       "      <th>INTERNOEN</th>\n",
       "      <th>DELITO</th>\n",
       "      <th>TITULO_DELITO</th>\n",
       "      <th>SUBTITULO_DELITO</th>\n",
       "      <th>TENTATIVA</th>\n",
       "      <th>AGRAVADO</th>\n",
       "      <th>CALIFICADO</th>\n",
       "      <th>FECHA_INGRESO</th>\n",
       "      <th>FECHA_SALIDA</th>\n",
       "      <th>FECHA_CAPTURA</th>\n",
       "      <th>...</th>\n",
       "      <th>MPIO_ESTABLECIMIENTO</th>\n",
       "      <th>REGIONAL</th>\n",
       "      <th>ESTADO</th>\n",
       "      <th>MES_INGRESO_INT</th>\n",
       "      <th>DIAS_INGRESO</th>\n",
       "      <th>DIAS_SALIDA</th>\n",
       "      <th>DIAS_CAPTURA</th>\n",
       "      <th>DIAS_CONDENA</th>\n",
       "      <th>DIAS_JUDICIALIZACION</th>\n",
       "      <th>DIAS_LIBRE</th>\n",
       "    </tr>\n",
       "  </thead>\n",
       "  <tbody>\n",
       "    <tr>\n",
       "      <th>39682</th>\n",
       "      <td>000393AD7FE65FBBE53A61B0EAA1FB9A62F71450</td>\n",
       "      <td>FABRICACION TRAFICO Y PORTE DE ARMAS DE FUEGO ...</td>\n",
       "      <td>CONTRA LA SEGURIDAD PUBLICA</td>\n",
       "      <td>DE LOS DELITOS DE PELIGRO COMUN O QUE PUEDEN O...</td>\n",
       "      <td>N</td>\n",
       "      <td>N</td>\n",
       "      <td>N</td>\n",
       "      <td>2013-05-17</td>\n",
       "      <td>2015-11-08</td>\n",
       "      <td>2010-04-22</td>\n",
       "      <td>...</td>\n",
       "      <td>BOGOTA D.C.</td>\n",
       "      <td>CENTRAL</td>\n",
       "      <td>Baja</td>\n",
       "      <td>05</td>\n",
       "      <td>2611 days 16:02:34.573226</td>\n",
       "      <td>1706 days 16:02:34.852232</td>\n",
       "      <td>3732 days 16:02:35.092263</td>\n",
       "      <td>905 days</td>\n",
       "      <td>1121 days</td>\n",
       "      <td>1706 days 16:02:34.573226</td>\n",
       "    </tr>\n",
       "    <tr>\n",
       "      <th>39683</th>\n",
       "      <td>000393AD7FE65FBBE53A61B0EAA1FB9A62F71450</td>\n",
       "      <td>HURTO</td>\n",
       "      <td>CONTRA EL PATRIMONIO ECONOMICO</td>\n",
       "      <td>DE LA ESTAFA</td>\n",
       "      <td>N</td>\n",
       "      <td>S</td>\n",
       "      <td>S</td>\n",
       "      <td>2013-05-17</td>\n",
       "      <td>2015-11-08</td>\n",
       "      <td>2010-04-22</td>\n",
       "      <td>...</td>\n",
       "      <td>BOGOTA D.C.</td>\n",
       "      <td>CENTRAL</td>\n",
       "      <td>Baja</td>\n",
       "      <td>05</td>\n",
       "      <td>2611 days 16:02:34.573226</td>\n",
       "      <td>1706 days 16:02:34.852232</td>\n",
       "      <td>3732 days 16:02:35.092263</td>\n",
       "      <td>905 days</td>\n",
       "      <td>1121 days</td>\n",
       "      <td>1706 days 16:02:34.573226</td>\n",
       "    </tr>\n",
       "    <tr>\n",
       "      <th>133508</th>\n",
       "      <td>000357E4F19E3722BA43488F69A7D7DECFC620C4</td>\n",
       "      <td>CONCIERTO PARA DELINQUIR</td>\n",
       "      <td>CONTRA LA SEGURIDAD PUBLICA</td>\n",
       "      <td>DE LOS DELITOS DE PELIGRO COMUN O QUE PUEDEN O...</td>\n",
       "      <td>N</td>\n",
       "      <td>N</td>\n",
       "      <td>N</td>\n",
       "      <td>2019-09-25</td>\n",
       "      <td>NaT</td>\n",
       "      <td>2017-12-14</td>\n",
       "      <td>...</td>\n",
       "      <td>PEREIRA</td>\n",
       "      <td>VIEJO CALDAS</td>\n",
       "      <td>Activo</td>\n",
       "      <td>09</td>\n",
       "      <td>289 days 16:02:34.573226</td>\n",
       "      <td>NaT</td>\n",
       "      <td>939 days 16:02:35.092263</td>\n",
       "      <td>NaT</td>\n",
       "      <td>650 days</td>\n",
       "      <td>NaT</td>\n",
       "    </tr>\n",
       "    <tr>\n",
       "      <th>133509</th>\n",
       "      <td>000357E4F19E3722BA43488F69A7D7DECFC620C4</td>\n",
       "      <td>HURTO</td>\n",
       "      <td>CONTRA EL PATRIMONIO ECONOMICO</td>\n",
       "      <td>DE LA ESTAFA</td>\n",
       "      <td>N</td>\n",
       "      <td>S</td>\n",
       "      <td>S</td>\n",
       "      <td>2019-09-25</td>\n",
       "      <td>NaT</td>\n",
       "      <td>2017-12-14</td>\n",
       "      <td>...</td>\n",
       "      <td>PEREIRA</td>\n",
       "      <td>VIEJO CALDAS</td>\n",
       "      <td>Activo</td>\n",
       "      <td>09</td>\n",
       "      <td>289 days 16:02:34.573226</td>\n",
       "      <td>NaT</td>\n",
       "      <td>939 days 16:02:35.092263</td>\n",
       "      <td>NaT</td>\n",
       "      <td>650 days</td>\n",
       "      <td>NaT</td>\n",
       "    </tr>\n",
       "    <tr>\n",
       "      <th>112953</th>\n",
       "      <td>000334541B6B3305CE91761942D7B381248777EA</td>\n",
       "      <td>TRAFICO FABRICACION O PORTE DE ESTUPEFACIENTES</td>\n",
       "      <td>CONTRA LA SALUD PUBLICA</td>\n",
       "      <td>DE LAS AFECTACIONES A LA SALUD PUBLICA</td>\n",
       "      <td>N</td>\n",
       "      <td>N</td>\n",
       "      <td>N</td>\n",
       "      <td>2018-06-08</td>\n",
       "      <td>NaT</td>\n",
       "      <td>2018-02-08</td>\n",
       "      <td>...</td>\n",
       "      <td>PITALITO</td>\n",
       "      <td>CENTRAL</td>\n",
       "      <td>Activo</td>\n",
       "      <td>06</td>\n",
       "      <td>763 days 16:02:34.573226</td>\n",
       "      <td>NaT</td>\n",
       "      <td>883 days 16:02:35.092263</td>\n",
       "      <td>NaT</td>\n",
       "      <td>120 days</td>\n",
       "      <td>NaT</td>\n",
       "    </tr>\n",
       "  </tbody>\n",
       "</table>\n",
       "<p>5 rows × 39 columns</p>\n",
       "</div>"
      ],
      "text/plain": [
       "                                       INTERNOEN  \\\n",
       "39682   000393AD7FE65FBBE53A61B0EAA1FB9A62F71450   \n",
       "39683   000393AD7FE65FBBE53A61B0EAA1FB9A62F71450   \n",
       "133508  000357E4F19E3722BA43488F69A7D7DECFC620C4   \n",
       "133509  000357E4F19E3722BA43488F69A7D7DECFC620C4   \n",
       "112953  000334541B6B3305CE91761942D7B381248777EA   \n",
       "\n",
       "                                                   DELITO  \\\n",
       "39682   FABRICACION TRAFICO Y PORTE DE ARMAS DE FUEGO ...   \n",
       "39683                                               HURTO   \n",
       "133508                           CONCIERTO PARA DELINQUIR   \n",
       "133509                                              HURTO   \n",
       "112953     TRAFICO FABRICACION O PORTE DE ESTUPEFACIENTES   \n",
       "\n",
       "                         TITULO_DELITO  \\\n",
       "39682      CONTRA LA SEGURIDAD PUBLICA   \n",
       "39683   CONTRA EL PATRIMONIO ECONOMICO   \n",
       "133508     CONTRA LA SEGURIDAD PUBLICA   \n",
       "133509  CONTRA EL PATRIMONIO ECONOMICO   \n",
       "112953         CONTRA LA SALUD PUBLICA   \n",
       "\n",
       "                                         SUBTITULO_DELITO TENTATIVA AGRAVADO  \\\n",
       "39682   DE LOS DELITOS DE PELIGRO COMUN O QUE PUEDEN O...         N        N   \n",
       "39683                                        DE LA ESTAFA         N        S   \n",
       "133508  DE LOS DELITOS DE PELIGRO COMUN O QUE PUEDEN O...         N        N   \n",
       "133509                                       DE LA ESTAFA         N        S   \n",
       "112953             DE LAS AFECTACIONES A LA SALUD PUBLICA         N        N   \n",
       "\n",
       "       CALIFICADO FECHA_INGRESO FECHA_SALIDA FECHA_CAPTURA  ...  \\\n",
       "39682           N    2013-05-17   2015-11-08    2010-04-22  ...   \n",
       "39683           S    2013-05-17   2015-11-08    2010-04-22  ...   \n",
       "133508          N    2019-09-25          NaT    2017-12-14  ...   \n",
       "133509          S    2019-09-25          NaT    2017-12-14  ...   \n",
       "112953          N    2018-06-08          NaT    2018-02-08  ...   \n",
       "\n",
       "       MPIO_ESTABLECIMIENTO      REGIONAL  ESTADO MES_INGRESO_INT  \\\n",
       "39682           BOGOTA D.C.       CENTRAL    Baja              05   \n",
       "39683           BOGOTA D.C.       CENTRAL    Baja              05   \n",
       "133508              PEREIRA  VIEJO CALDAS  Activo              09   \n",
       "133509              PEREIRA  VIEJO CALDAS  Activo              09   \n",
       "112953             PITALITO       CENTRAL  Activo              06   \n",
       "\n",
       "                    DIAS_INGRESO               DIAS_SALIDA  \\\n",
       "39682  2611 days 16:02:34.573226 1706 days 16:02:34.852232   \n",
       "39683  2611 days 16:02:34.573226 1706 days 16:02:34.852232   \n",
       "133508  289 days 16:02:34.573226                       NaT   \n",
       "133509  289 days 16:02:34.573226                       NaT   \n",
       "112953  763 days 16:02:34.573226                       NaT   \n",
       "\n",
       "                    DIAS_CAPTURA DIAS_CONDENA DIAS_JUDICIALIZACION  \\\n",
       "39682  3732 days 16:02:35.092263     905 days            1121 days   \n",
       "39683  3732 days 16:02:35.092263     905 days            1121 days   \n",
       "133508  939 days 16:02:35.092263          NaT             650 days   \n",
       "133509  939 days 16:02:35.092263          NaT             650 days   \n",
       "112953  883 days 16:02:35.092263          NaT             120 days   \n",
       "\n",
       "                      DIAS_LIBRE  \n",
       "39682  1706 days 16:02:34.573226  \n",
       "39683  1706 days 16:02:34.573226  \n",
       "133508                       NaT  \n",
       "133509                       NaT  \n",
       "112953                       NaT  \n",
       "\n",
       "[5 rows x 39 columns]"
      ]
     },
     "execution_count": 7,
     "metadata": {},
     "output_type": "execute_result"
    }
   ],
   "source": [
    "df_mj['DIAS_CONDENA'] = df_mj['FECHA_SALIDA'] - df_mj['FECHA_INGRESO'] \n",
    "df_mj['DIAS_JUDICIALIZACION'] = df_mj['FECHA_INGRESO'] - df_mj['FECHA_CAPTURA']\n",
    "df_mj['DIAS_LIBRE'] = (df_mj['DIAS_INGRESO'] - df_mj['DIAS_CONDENA'])\n",
    "df_mj.tail()\n",
    "# df_mj['DIAS_CAPTURA'].unique().astype('timedelta64[D]')"
   ]
  },
  {
   "cell_type": "markdown",
   "metadata": {
    "colab_type": "text",
    "id": "Ndyq45BvXWmi"
   },
   "source": [
    "individuals"
   ]
  },
  {
   "cell_type": "code",
   "execution_count": 8,
   "metadata": {
    "colab": {
     "base_uri": "https://localhost:8080/",
     "height": 54
    },
    "colab_type": "code",
    "id": "Ul03ymVTXWml",
    "outputId": "5aed051e-0370-44c7-da66-b4e0298f5684"
   },
   "outputs": [
    {
     "name": "stdout",
     "output_type": "stream",
     "text": [
      "length of complete df: 142899\n",
      "length of unique individuals: 78841\n"
     ]
    }
   ],
   "source": [
    "individuals = df_mj[\"INTERNOEN\"].unique()\n",
    "print(\"length of complete df: \" + str(df_mj[\"INTERNOEN\"].count()))\n",
    "print(\"length of unique individuals: \"+ str(len(individuals)))\n"
   ]
  },
  {
   "cell_type": "code",
   "execution_count": 9,
   "metadata": {
    "colab": {
     "base_uri": "https://localhost:8080/",
     "height": 182
    },
    "colab_type": "code",
    "id": "VFlGhvfhXWm2",
    "outputId": "03320b9f-14d5-491e-d5f0-c6b84ede24c3"
   },
   "outputs": [
    {
     "name": "stdout",
     "output_type": "stream",
     "text": [
      "number of occurrences by individual\n"
     ]
    },
    {
     "data": {
      "text/plain": [
       "71D8863489582B956956B3E244CF97F629E190F8    16\n",
       "85F84CC906246E467ACC8D3CD73B576E0B264556    15\n",
       "C6A8D6B8A3433007BDDE0B6A682268EFD0FA16AD    14\n",
       "5F6A19F239D3786924DB4FEAC108F33219BFD205    14\n",
       "D46A8E8ACCCCBB5CF90A9A81047E36D2207F25FB    13\n",
       "                                            ..\n",
       "C880EA26504480D90456B735061B4ED66F30EECC     1\n",
       "1721B324E5DB0318633B5653C834BA99CFB4D86A     1\n",
       "383880F104A1BB76BA29033EC9E07E63CCCDE1C7     1\n",
       "1AA35E937518C28EF9EF98162B73239771990EEF     1\n",
       "6247C56F6D55087AB6A4E43B553B3ACCC57838F1     1\n",
       "Name: INTERNOEN, Length: 78841, dtype: int64"
      ]
     },
     "execution_count": 9,
     "metadata": {},
     "output_type": "execute_result"
    }
   ],
   "source": [
    "print(\"number of occurrences by individual\")\n",
    "occurrences = df_mj[\"INTERNOEN\"].value_counts()\n",
    "occurrences"
   ]
  },
  {
   "cell_type": "code",
   "execution_count": 10,
   "metadata": {
    "colab": {
     "base_uri": "https://localhost:8080/",
     "height": 74
    },
    "colab_type": "code",
    "id": "FJbl4HtMXWnI",
    "outputId": "fdbb7143-e612-488f-9cec-3934d4c3b3bb"
   },
   "outputs": [
    {
     "name": "stdout",
     "output_type": "stream",
     "text": [
      "crimes of individual 71D8863489582B956956B3E244CF97F629E190F8: \n",
      "CONCIERTO PARA DELINQUIR, CONSTREÑIMIENTO ILEGAL, DESPLAZAMIENTO FORZADO, DESTRUCCION Y APROPIACION DE BIENES PROTEGIDOS, FABRICACION  TRAFICO Y PORTE DE ARMAS Y MUNICIONES DE USO PRIVATIVO DE LAS FUERZAS ARMADAS, HOMICIDIO, HOMICIDIO EN PERSONA PROTEGIDA, HURTO, RECLUTAMIENTO ILICITO, SECUESTRO SIMPLE, TORTURA EN PERSONA PROTEGIDA, UTILIZACION ILEGAL DE UNIFORMES E INSIGNIAS, CONCIERTO PARA DELINQUIR, DESPLAZAMIENTO FORZADO, HOMICIDIO, HURTO, "
     ]
    }
   ],
   "source": [
    "for item in occurrences.index:\n",
    "    print(\"crimes of individual \" + str(item) + \": \")\n",
    "    crime_list_per_ind = df_mj[\"DELITO\"].where(df_mj[\"INTERNOEN\"]==item)\n",
    "    for crime in crime_list_per_ind.dropna():\n",
    "        print(crime + \", \", end=\"\")\n",
    "    #breaking to check just first ind\n",
    "    break"
   ]
  },
  {
   "cell_type": "markdown",
   "metadata": {
    "colab_type": "text",
    "id": "pUdUU0R3eFHY"
   },
   "source": [
    "Ubicación geográfica"
   ]
  },
  {
   "cell_type": "code",
   "execution_count": 11,
   "metadata": {
    "colab": {
     "base_uri": "https://localhost:8080/",
     "height": 164
    },
    "colab_type": "code",
    "id": "xJrfVLsqXWnX",
    "outputId": "e70a8c7c-e0e8-4d6a-9556-6d1cca5572ca"
   },
   "outputs": [
    {
     "data": {
      "text/plain": [
       "BOGOTA D.C.                 19008\n",
       "ANTIOQUIA                   18591\n",
       "VALLE DEL CAUCA             17346\n",
       "SANTANDER                    9274\n",
       "META                         7996\n",
       "                            ...  \n",
       "ARAUCA                        513\n",
       "LA GUAJIRA                    456\n",
       "PUTUMAYO                      378\n",
       "AMAZONAS                      349\n",
       "SAN ANDRES Y PROVIDENCIA      252\n",
       "Name: DEPTO_ESTABLECIMIENTO, Length: 29, dtype: int64"
      ]
     },
     "execution_count": 11,
     "metadata": {},
     "output_type": "execute_result"
    }
   ],
   "source": [
    "dept_count = df_mj[\"DEPTO_ESTABLECIMIENTO\"].value_counts()\n",
    "dept_count"
   ]
  },
  {
   "cell_type": "code",
   "execution_count": 12,
   "metadata": {
    "colab": {},
    "colab_type": "code",
    "id": "GtvEDB4jXWnh"
   },
   "outputs": [
    {
     "data": {
      "text/plain": [
       "MASCULINO    131485\n",
       "FEMENINO      11414\n",
       "Name: GENERO, dtype: int64"
      ]
     },
     "execution_count": 12,
     "metadata": {},
     "output_type": "execute_result"
    }
   ],
   "source": [
    "gender_count = df_mj[\"GENERO\"].value_counts()\n",
    "gender_count"
   ]
  },
  {
   "cell_type": "code",
   "execution_count": 13,
   "metadata": {},
   "outputs": [
    {
     "name": "stdout",
     "output_type": "stream",
     "text": [
      "CICLO II               54353\n",
      "CICLO I                28198\n",
      "CICLO III              27839\n",
      "CICLO IV               25109\n",
      "ANALFABETA              3717\n",
      "PROFESIONAL             1636\n",
      "TECNICO                 1328\n",
      "TECNOLOGICO              460\n",
      "ESPECIALIZACION          145\n",
      "TECNICO PROFESIONAL       61\n",
      "POST GRADO                33\n",
      "MAGISTER                  20\n",
      "Name: NIVEL_EDUCATIVO, dtype: int64\n"
     ]
    },
    {
     "data": {
      "text/plain": [
       "count       142899\n",
       "unique          12\n",
       "top       CICLO II\n",
       "freq         54353\n",
       "Name: NIVEL_EDUCATIVO, dtype: object"
      ]
     },
     "execution_count": 13,
     "metadata": {},
     "output_type": "execute_result"
    }
   ],
   "source": [
    "education_count =df_mj[\"NIVEL_EDUCATIVO\"].value_counts()\n",
    "print(education_count)\n",
    "\n",
    "df_mj[\"NIVEL_EDUCATIVO\"].describe()"
   ]
  },
  {
   "cell_type": "code",
   "execution_count": 14,
   "metadata": {},
   "outputs": [
    {
     "name": "stdout",
     "output_type": "stream",
     "text": [
      "Male education leves\n",
      " CICLO II               49994\n",
      "CICLO III              25844\n",
      "CICLO I                25790\n",
      "CICLO IV               23352\n",
      "ANALFABETA              3389\n",
      "PROFESIONAL             1375\n",
      "TECNICO                 1128\n",
      "TECNOLOGICO              397\n",
      "ESPECIALIZACION          115\n",
      "TECNICO PROFESIONAL       51\n",
      "POST GRADO                30\n",
      "MAGISTER                  20\n",
      "Name: NIVEL_EDUCATIVO, dtype: int64 \n",
      "\n",
      " Female education leves\n",
      " CICLO II               4359\n",
      "CICLO I                2408\n",
      "CICLO III              1995\n",
      "CICLO IV               1757\n",
      "ANALFABETA              328\n",
      "PROFESIONAL             261\n",
      "TECNICO                 200\n",
      "TECNOLOGICO              63\n",
      "ESPECIALIZACION          30\n",
      "TECNICO PROFESIONAL      10\n",
      "POST GRADO                3\n",
      "Name: NIVEL_EDUCATIVO, dtype: int64\n"
     ]
    }
   ],
   "source": [
    "education_male = df_mj[\"NIVEL_EDUCATIVO\"][df_mj[\"GENERO\"]==\"MASCULINO\"].value_counts()\n",
    "education_female = df_mj[\"NIVEL_EDUCATIVO\"][df_mj[\"GENERO\"]==\"FEMENINO\"].value_counts()\n",
    "print(\"Male education leves\\n\",education_male,\"\\n\\n\",\"Female education leves\\n\", education_female)"
   ]
  },
  {
   "cell_type": "code",
   "execution_count": 15,
   "metadata": {},
   "outputs": [
    {
     "data": {
      "text/plain": [
       "CONTRA EL PATRIMONIO ECONOMICO                 56860\n",
       "CONTRA LA SEGURIDAD PUBLICA                    31591\n",
       "CONTRA LA SALUD PUBLICA                        25028\n",
       "CONTRA LA VIDA Y LA INTEGRIDAD PERSONAL        11329\n",
       "CONTRA LA FAMILIA                               3689\n",
       "                                               ...  \n",
       "DELITOS DE PARAMILITARISMO Y SICARIATO             9\n",
       "DELITOS CONTRA LA DISCIPLINA                       5\n",
       "ACCION DE TUTELA                                   4\n",
       "DELITOS CONTRA LA ADMINISTRACION PUBLICA           2\n",
       "CONTRA LA EXISTENCIA Y SEGURIDAD DEL ESTADO        1\n",
       "Name: TITULO_DELITO, Length: 25, dtype: int64"
      ]
     },
     "execution_count": 15,
     "metadata": {},
     "output_type": "execute_result"
    }
   ],
   "source": [
    "df_mj[\"TITULO_DELITO\"].value_counts()"
   ]
  },
  {
   "cell_type": "code",
   "execution_count": 16,
   "metadata": {},
   "outputs": [],
   "source": [
    "df_genero = pd.DataFrame(df_mj.groupby([\"GENERO\",\"TITULO_DELITO\"])[\"INTERNOEN\"].agg('count'))\n",
    "df_genero.reset_index(inplace=True)\n",
    "df_genero\n",
    "\n",
    "\n",
    "df_geo_gen = pd.DataFrame(df_mj.groupby([\"GENERO\",\"DEPTO_ESTABLECIMIENTO\"])[\"INTERNOEN\"].agg('count'))\n",
    "df_geo_gen.reset_index(inplace=True)\n",
    "\n",
    "df_crimen = pd.DataFrame(df_mj.groupby([\"TITULO_DELITO\"])[\"INTERNOEN\"].agg('count'))\n",
    "df_crimen.reset_index(inplace=True)\n",
    "\n",
    "df_edu_gen = pd.DataFrame(df_mj.groupby([\"GENERO\",\"NIVEL_EDUCATIVO\"])[\"INTERNOEN\"].agg('count'))\n",
    "df_edu_gen.reset_index(inplace=True)"
   ]
  },
  {
   "cell_type": "code",
   "execution_count": 33,
   "metadata": {},
   "outputs": [],
   "source": [
    "# import seaborn as sns\n",
    "\n",
    "# fig_dims = (15, 10)\n",
    "# fig, ax = plt.subplots(figsize=fig_dims)\n",
    "\n",
    "# sns.barplot(x=\"NIVEL_EDUCATIVO\", y=\"INTERNOEN\", data=df_edu_gen, hue=\"GENERO\", ax=ax)\n",
    "# ax.set_xticklabels(ax.get_xticklabels(),rotation=30, horizontalalignment='right', fontsize = 12)\n",
    "\n",
    "# ax.set_title('Crimes most commited per education level', fontsize=20, fontweight='bold', pad=15)\n"
   ]
  },
  {
   "cell_type": "code",
   "execution_count": 41,
   "metadata": {
    "scrolled": false
   },
   "outputs": [
    {
     "data": {
      "application/vnd.plotly.v1+json": {
       "config": {
        "plotlyServerURL": "https://plot.ly"
       },
       "data": [
        {
         "alignmentgroup": "True",
         "customdata": [
          [
           "FEMENINO",
           "ANALFABETA"
          ],
          [
           "FEMENINO",
           "CICLO I"
          ],
          [
           "FEMENINO",
           "CICLO II"
          ],
          [
           "FEMENINO",
           "CICLO III"
          ],
          [
           "FEMENINO",
           "CICLO IV"
          ],
          [
           "FEMENINO",
           "ESPECIALIZACION"
          ],
          [
           "FEMENINO",
           "POST GRADO"
          ],
          [
           "FEMENINO",
           "PROFESIONAL"
          ],
          [
           "FEMENINO",
           "TECNICO"
          ],
          [
           "FEMENINO",
           "TECNICO PROFESIONAL"
          ],
          [
           "FEMENINO",
           "TECNOLOGICO"
          ]
         ],
         "hovertemplate": "GENERO=%{customdata[0]}<br>NIVEL_EDUCATIVO=%{customdata[1]}<br>Amount of recidivist crimes=%{text}<extra></extra>",
         "legendgroup": "FEMENINO",
         "marker": {
          "color": "#636efa"
         },
         "name": "FEMENINO",
         "offsetgroup": "FEMENINO",
         "orientation": "v",
         "showlegend": true,
         "text": [
          328,
          2408,
          4359,
          1995,
          1757,
          30,
          3,
          261,
          200,
          10,
          63
         ],
         "textposition": "outside",
         "texttemplate": "%{text:.2s}",
         "type": "bar",
         "x": [
          "ANALFABETA",
          "CICLO I",
          "CICLO II",
          "CICLO III",
          "CICLO IV",
          "ESPECIALIZACION",
          "POST GRADO",
          "PROFESIONAL",
          "TECNICO",
          "TECNICO PROFESIONAL",
          "TECNOLOGICO"
         ],
         "xaxis": "x",
         "y": [
          328,
          2408,
          4359,
          1995,
          1757,
          30,
          3,
          261,
          200,
          10,
          63
         ],
         "yaxis": "y"
        },
        {
         "alignmentgroup": "True",
         "customdata": [
          [
           "MASCULINO",
           "ANALFABETA"
          ],
          [
           "MASCULINO",
           "CICLO I"
          ],
          [
           "MASCULINO",
           "CICLO II"
          ],
          [
           "MASCULINO",
           "CICLO III"
          ],
          [
           "MASCULINO",
           "CICLO IV"
          ],
          [
           "MASCULINO",
           "ESPECIALIZACION"
          ],
          [
           "MASCULINO",
           "MAGISTER"
          ],
          [
           "MASCULINO",
           "POST GRADO"
          ],
          [
           "MASCULINO",
           "PROFESIONAL"
          ],
          [
           "MASCULINO",
           "TECNICO"
          ],
          [
           "MASCULINO",
           "TECNICO PROFESIONAL"
          ],
          [
           "MASCULINO",
           "TECNOLOGICO"
          ]
         ],
         "hovertemplate": "GENERO=%{customdata[0]}<br>NIVEL_EDUCATIVO=%{customdata[1]}<br>Amount of recidivist crimes=%{text}<extra></extra>",
         "legendgroup": "MASCULINO",
         "marker": {
          "color": "#EF553B"
         },
         "name": "MASCULINO",
         "offsetgroup": "MASCULINO",
         "orientation": "v",
         "showlegend": true,
         "text": [
          3389,
          25790,
          49994,
          25844,
          23352,
          115,
          20,
          30,
          1375,
          1128,
          51,
          397
         ],
         "textposition": "outside",
         "texttemplate": "%{text:.2s}",
         "type": "bar",
         "x": [
          "ANALFABETA",
          "CICLO I",
          "CICLO II",
          "CICLO III",
          "CICLO IV",
          "ESPECIALIZACION",
          "MAGISTER",
          "POST GRADO",
          "PROFESIONAL",
          "TECNICO",
          "TECNICO PROFESIONAL",
          "TECNOLOGICO"
         ],
         "xaxis": "x",
         "y": [
          3389,
          25790,
          49994,
          25844,
          23352,
          115,
          20,
          30,
          1375,
          1128,
          51,
          397
         ],
         "yaxis": "y"
        }
       ],
       "layout": {
        "barmode": "group",
        "height": 500,
        "legend": {
         "title": {
          "text": "GENERO"
         },
         "tracegroupgap": 0
        },
        "margin": {
         "t": 60
        },
        "template": {
         "data": {
          "bar": [
           {
            "error_x": {
             "color": "#2a3f5f"
            },
            "error_y": {
             "color": "#2a3f5f"
            },
            "marker": {
             "line": {
              "color": "#E5ECF6",
              "width": 0.5
             }
            },
            "type": "bar"
           }
          ],
          "barpolar": [
           {
            "marker": {
             "line": {
              "color": "#E5ECF6",
              "width": 0.5
             }
            },
            "type": "barpolar"
           }
          ],
          "carpet": [
           {
            "aaxis": {
             "endlinecolor": "#2a3f5f",
             "gridcolor": "white",
             "linecolor": "white",
             "minorgridcolor": "white",
             "startlinecolor": "#2a3f5f"
            },
            "baxis": {
             "endlinecolor": "#2a3f5f",
             "gridcolor": "white",
             "linecolor": "white",
             "minorgridcolor": "white",
             "startlinecolor": "#2a3f5f"
            },
            "type": "carpet"
           }
          ],
          "choropleth": [
           {
            "colorbar": {
             "outlinewidth": 0,
             "ticks": ""
            },
            "type": "choropleth"
           }
          ],
          "contour": [
           {
            "colorbar": {
             "outlinewidth": 0,
             "ticks": ""
            },
            "colorscale": [
             [
              0,
              "#0d0887"
             ],
             [
              0.1111111111111111,
              "#46039f"
             ],
             [
              0.2222222222222222,
              "#7201a8"
             ],
             [
              0.3333333333333333,
              "#9c179e"
             ],
             [
              0.4444444444444444,
              "#bd3786"
             ],
             [
              0.5555555555555556,
              "#d8576b"
             ],
             [
              0.6666666666666666,
              "#ed7953"
             ],
             [
              0.7777777777777778,
              "#fb9f3a"
             ],
             [
              0.8888888888888888,
              "#fdca26"
             ],
             [
              1,
              "#f0f921"
             ]
            ],
            "type": "contour"
           }
          ],
          "contourcarpet": [
           {
            "colorbar": {
             "outlinewidth": 0,
             "ticks": ""
            },
            "type": "contourcarpet"
           }
          ],
          "heatmap": [
           {
            "colorbar": {
             "outlinewidth": 0,
             "ticks": ""
            },
            "colorscale": [
             [
              0,
              "#0d0887"
             ],
             [
              0.1111111111111111,
              "#46039f"
             ],
             [
              0.2222222222222222,
              "#7201a8"
             ],
             [
              0.3333333333333333,
              "#9c179e"
             ],
             [
              0.4444444444444444,
              "#bd3786"
             ],
             [
              0.5555555555555556,
              "#d8576b"
             ],
             [
              0.6666666666666666,
              "#ed7953"
             ],
             [
              0.7777777777777778,
              "#fb9f3a"
             ],
             [
              0.8888888888888888,
              "#fdca26"
             ],
             [
              1,
              "#f0f921"
             ]
            ],
            "type": "heatmap"
           }
          ],
          "heatmapgl": [
           {
            "colorbar": {
             "outlinewidth": 0,
             "ticks": ""
            },
            "colorscale": [
             [
              0,
              "#0d0887"
             ],
             [
              0.1111111111111111,
              "#46039f"
             ],
             [
              0.2222222222222222,
              "#7201a8"
             ],
             [
              0.3333333333333333,
              "#9c179e"
             ],
             [
              0.4444444444444444,
              "#bd3786"
             ],
             [
              0.5555555555555556,
              "#d8576b"
             ],
             [
              0.6666666666666666,
              "#ed7953"
             ],
             [
              0.7777777777777778,
              "#fb9f3a"
             ],
             [
              0.8888888888888888,
              "#fdca26"
             ],
             [
              1,
              "#f0f921"
             ]
            ],
            "type": "heatmapgl"
           }
          ],
          "histogram": [
           {
            "marker": {
             "colorbar": {
              "outlinewidth": 0,
              "ticks": ""
             }
            },
            "type": "histogram"
           }
          ],
          "histogram2d": [
           {
            "colorbar": {
             "outlinewidth": 0,
             "ticks": ""
            },
            "colorscale": [
             [
              0,
              "#0d0887"
             ],
             [
              0.1111111111111111,
              "#46039f"
             ],
             [
              0.2222222222222222,
              "#7201a8"
             ],
             [
              0.3333333333333333,
              "#9c179e"
             ],
             [
              0.4444444444444444,
              "#bd3786"
             ],
             [
              0.5555555555555556,
              "#d8576b"
             ],
             [
              0.6666666666666666,
              "#ed7953"
             ],
             [
              0.7777777777777778,
              "#fb9f3a"
             ],
             [
              0.8888888888888888,
              "#fdca26"
             ],
             [
              1,
              "#f0f921"
             ]
            ],
            "type": "histogram2d"
           }
          ],
          "histogram2dcontour": [
           {
            "colorbar": {
             "outlinewidth": 0,
             "ticks": ""
            },
            "colorscale": [
             [
              0,
              "#0d0887"
             ],
             [
              0.1111111111111111,
              "#46039f"
             ],
             [
              0.2222222222222222,
              "#7201a8"
             ],
             [
              0.3333333333333333,
              "#9c179e"
             ],
             [
              0.4444444444444444,
              "#bd3786"
             ],
             [
              0.5555555555555556,
              "#d8576b"
             ],
             [
              0.6666666666666666,
              "#ed7953"
             ],
             [
              0.7777777777777778,
              "#fb9f3a"
             ],
             [
              0.8888888888888888,
              "#fdca26"
             ],
             [
              1,
              "#f0f921"
             ]
            ],
            "type": "histogram2dcontour"
           }
          ],
          "mesh3d": [
           {
            "colorbar": {
             "outlinewidth": 0,
             "ticks": ""
            },
            "type": "mesh3d"
           }
          ],
          "parcoords": [
           {
            "line": {
             "colorbar": {
              "outlinewidth": 0,
              "ticks": ""
             }
            },
            "type": "parcoords"
           }
          ],
          "pie": [
           {
            "automargin": true,
            "type": "pie"
           }
          ],
          "scatter": [
           {
            "marker": {
             "colorbar": {
              "outlinewidth": 0,
              "ticks": ""
             }
            },
            "type": "scatter"
           }
          ],
          "scatter3d": [
           {
            "line": {
             "colorbar": {
              "outlinewidth": 0,
              "ticks": ""
             }
            },
            "marker": {
             "colorbar": {
              "outlinewidth": 0,
              "ticks": ""
             }
            },
            "type": "scatter3d"
           }
          ],
          "scattercarpet": [
           {
            "marker": {
             "colorbar": {
              "outlinewidth": 0,
              "ticks": ""
             }
            },
            "type": "scattercarpet"
           }
          ],
          "scattergeo": [
           {
            "marker": {
             "colorbar": {
              "outlinewidth": 0,
              "ticks": ""
             }
            },
            "type": "scattergeo"
           }
          ],
          "scattergl": [
           {
            "marker": {
             "colorbar": {
              "outlinewidth": 0,
              "ticks": ""
             }
            },
            "type": "scattergl"
           }
          ],
          "scattermapbox": [
           {
            "marker": {
             "colorbar": {
              "outlinewidth": 0,
              "ticks": ""
             }
            },
            "type": "scattermapbox"
           }
          ],
          "scatterpolar": [
           {
            "marker": {
             "colorbar": {
              "outlinewidth": 0,
              "ticks": ""
             }
            },
            "type": "scatterpolar"
           }
          ],
          "scatterpolargl": [
           {
            "marker": {
             "colorbar": {
              "outlinewidth": 0,
              "ticks": ""
             }
            },
            "type": "scatterpolargl"
           }
          ],
          "scatterternary": [
           {
            "marker": {
             "colorbar": {
              "outlinewidth": 0,
              "ticks": ""
             }
            },
            "type": "scatterternary"
           }
          ],
          "surface": [
           {
            "colorbar": {
             "outlinewidth": 0,
             "ticks": ""
            },
            "colorscale": [
             [
              0,
              "#0d0887"
             ],
             [
              0.1111111111111111,
              "#46039f"
             ],
             [
              0.2222222222222222,
              "#7201a8"
             ],
             [
              0.3333333333333333,
              "#9c179e"
             ],
             [
              0.4444444444444444,
              "#bd3786"
             ],
             [
              0.5555555555555556,
              "#d8576b"
             ],
             [
              0.6666666666666666,
              "#ed7953"
             ],
             [
              0.7777777777777778,
              "#fb9f3a"
             ],
             [
              0.8888888888888888,
              "#fdca26"
             ],
             [
              1,
              "#f0f921"
             ]
            ],
            "type": "surface"
           }
          ],
          "table": [
           {
            "cells": {
             "fill": {
              "color": "#EBF0F8"
             },
             "line": {
              "color": "white"
             }
            },
            "header": {
             "fill": {
              "color": "#C8D4E3"
             },
             "line": {
              "color": "white"
             }
            },
            "type": "table"
           }
          ]
         },
         "layout": {
          "annotationdefaults": {
           "arrowcolor": "#2a3f5f",
           "arrowhead": 0,
           "arrowwidth": 1
          },
          "coloraxis": {
           "colorbar": {
            "outlinewidth": 0,
            "ticks": ""
           }
          },
          "colorscale": {
           "diverging": [
            [
             0,
             "#8e0152"
            ],
            [
             0.1,
             "#c51b7d"
            ],
            [
             0.2,
             "#de77ae"
            ],
            [
             0.3,
             "#f1b6da"
            ],
            [
             0.4,
             "#fde0ef"
            ],
            [
             0.5,
             "#f7f7f7"
            ],
            [
             0.6,
             "#e6f5d0"
            ],
            [
             0.7,
             "#b8e186"
            ],
            [
             0.8,
             "#7fbc41"
            ],
            [
             0.9,
             "#4d9221"
            ],
            [
             1,
             "#276419"
            ]
           ],
           "sequential": [
            [
             0,
             "#0d0887"
            ],
            [
             0.1111111111111111,
             "#46039f"
            ],
            [
             0.2222222222222222,
             "#7201a8"
            ],
            [
             0.3333333333333333,
             "#9c179e"
            ],
            [
             0.4444444444444444,
             "#bd3786"
            ],
            [
             0.5555555555555556,
             "#d8576b"
            ],
            [
             0.6666666666666666,
             "#ed7953"
            ],
            [
             0.7777777777777778,
             "#fb9f3a"
            ],
            [
             0.8888888888888888,
             "#fdca26"
            ],
            [
             1,
             "#f0f921"
            ]
           ],
           "sequentialminus": [
            [
             0,
             "#0d0887"
            ],
            [
             0.1111111111111111,
             "#46039f"
            ],
            [
             0.2222222222222222,
             "#7201a8"
            ],
            [
             0.3333333333333333,
             "#9c179e"
            ],
            [
             0.4444444444444444,
             "#bd3786"
            ],
            [
             0.5555555555555556,
             "#d8576b"
            ],
            [
             0.6666666666666666,
             "#ed7953"
            ],
            [
             0.7777777777777778,
             "#fb9f3a"
            ],
            [
             0.8888888888888888,
             "#fdca26"
            ],
            [
             1,
             "#f0f921"
            ]
           ]
          },
          "colorway": [
           "#636efa",
           "#EF553B",
           "#00cc96",
           "#ab63fa",
           "#FFA15A",
           "#19d3f3",
           "#FF6692",
           "#B6E880",
           "#FF97FF",
           "#FECB52"
          ],
          "font": {
           "color": "#2a3f5f"
          },
          "geo": {
           "bgcolor": "white",
           "lakecolor": "white",
           "landcolor": "#E5ECF6",
           "showlakes": true,
           "showland": true,
           "subunitcolor": "white"
          },
          "hoverlabel": {
           "align": "left"
          },
          "hovermode": "closest",
          "mapbox": {
           "style": "light"
          },
          "paper_bgcolor": "white",
          "plot_bgcolor": "#E5ECF6",
          "polar": {
           "angularaxis": {
            "gridcolor": "white",
            "linecolor": "white",
            "ticks": ""
           },
           "bgcolor": "#E5ECF6",
           "radialaxis": {
            "gridcolor": "white",
            "linecolor": "white",
            "ticks": ""
           }
          },
          "scene": {
           "xaxis": {
            "backgroundcolor": "#E5ECF6",
            "gridcolor": "white",
            "gridwidth": 2,
            "linecolor": "white",
            "showbackground": true,
            "ticks": "",
            "zerolinecolor": "white"
           },
           "yaxis": {
            "backgroundcolor": "#E5ECF6",
            "gridcolor": "white",
            "gridwidth": 2,
            "linecolor": "white",
            "showbackground": true,
            "ticks": "",
            "zerolinecolor": "white"
           },
           "zaxis": {
            "backgroundcolor": "#E5ECF6",
            "gridcolor": "white",
            "gridwidth": 2,
            "linecolor": "white",
            "showbackground": true,
            "ticks": "",
            "zerolinecolor": "white"
           }
          },
          "shapedefaults": {
           "line": {
            "color": "#2a3f5f"
           }
          },
          "ternary": {
           "aaxis": {
            "gridcolor": "white",
            "linecolor": "white",
            "ticks": ""
           },
           "baxis": {
            "gridcolor": "white",
            "linecolor": "white",
            "ticks": ""
           },
           "bgcolor": "#E5ECF6",
           "caxis": {
            "gridcolor": "white",
            "linecolor": "white",
            "ticks": ""
           }
          },
          "title": {
           "x": 0.05
          },
          "xaxis": {
           "automargin": true,
           "gridcolor": "white",
           "linecolor": "white",
           "ticks": "",
           "title": {
            "standoff": 15
           },
           "zerolinecolor": "white",
           "zerolinewidth": 2
          },
          "yaxis": {
           "automargin": true,
           "gridcolor": "white",
           "linecolor": "white",
           "ticks": "",
           "title": {
            "standoff": 15
           },
           "zerolinecolor": "white",
           "zerolinewidth": 2
          }
         }
        },
        "title": {
         "text": "Most commited crimes by educational level"
        },
        "uniformtext": {
         "minsize": 6,
         "mode": "hide"
        },
        "xaxis": {
         "anchor": "y",
         "domain": [
          0,
          1
         ],
         "title": {
          "text": "NIVEL_EDUCATIVO"
         }
        },
        "yaxis": {
         "anchor": "x",
         "domain": [
          0,
          1
         ],
         "title": {
          "text": "Amount of recidivist crimes"
         }
        }
       }
      },
      "text/html": [
       "<div>\n",
       "        \n",
       "        \n",
       "            <div id=\"ec5b1468-1d93-464e-bdc1-e65d3463d559\" class=\"plotly-graph-div\" style=\"height:500px; width:100%;\"></div>\n",
       "            <script type=\"text/javascript\">\n",
       "                require([\"plotly\"], function(Plotly) {\n",
       "                    window.PLOTLYENV=window.PLOTLYENV || {};\n",
       "                    \n",
       "                if (document.getElementById(\"ec5b1468-1d93-464e-bdc1-e65d3463d559\")) {\n",
       "                    Plotly.newPlot(\n",
       "                        'ec5b1468-1d93-464e-bdc1-e65d3463d559',\n",
       "                        [{\"alignmentgroup\": \"True\", \"customdata\": [[\"FEMENINO\", \"ANALFABETA\"], [\"FEMENINO\", \"CICLO I\"], [\"FEMENINO\", \"CICLO II\"], [\"FEMENINO\", \"CICLO III\"], [\"FEMENINO\", \"CICLO IV\"], [\"FEMENINO\", \"ESPECIALIZACION\"], [\"FEMENINO\", \"POST GRADO\"], [\"FEMENINO\", \"PROFESIONAL\"], [\"FEMENINO\", \"TECNICO\"], [\"FEMENINO\", \"TECNICO PROFESIONAL\"], [\"FEMENINO\", \"TECNOLOGICO\"]], \"hovertemplate\": \"GENERO=%{customdata[0]}<br>NIVEL_EDUCATIVO=%{customdata[1]}<br>Amount of recidivist crimes=%{text}<extra></extra>\", \"legendgroup\": \"FEMENINO\", \"marker\": {\"color\": \"#636efa\"}, \"name\": \"FEMENINO\", \"offsetgroup\": \"FEMENINO\", \"orientation\": \"v\", \"showlegend\": true, \"text\": [328.0, 2408.0, 4359.0, 1995.0, 1757.0, 30.0, 3.0, 261.0, 200.0, 10.0, 63.0], \"textposition\": \"outside\", \"texttemplate\": \"%{text:.2s}\", \"type\": \"bar\", \"x\": [\"ANALFABETA\", \"CICLO I\", \"CICLO II\", \"CICLO III\", \"CICLO IV\", \"ESPECIALIZACION\", \"POST GRADO\", \"PROFESIONAL\", \"TECNICO\", \"TECNICO PROFESIONAL\", \"TECNOLOGICO\"], \"xaxis\": \"x\", \"y\": [328, 2408, 4359, 1995, 1757, 30, 3, 261, 200, 10, 63], \"yaxis\": \"y\"}, {\"alignmentgroup\": \"True\", \"customdata\": [[\"MASCULINO\", \"ANALFABETA\"], [\"MASCULINO\", \"CICLO I\"], [\"MASCULINO\", \"CICLO II\"], [\"MASCULINO\", \"CICLO III\"], [\"MASCULINO\", \"CICLO IV\"], [\"MASCULINO\", \"ESPECIALIZACION\"], [\"MASCULINO\", \"MAGISTER\"], [\"MASCULINO\", \"POST GRADO\"], [\"MASCULINO\", \"PROFESIONAL\"], [\"MASCULINO\", \"TECNICO\"], [\"MASCULINO\", \"TECNICO PROFESIONAL\"], [\"MASCULINO\", \"TECNOLOGICO\"]], \"hovertemplate\": \"GENERO=%{customdata[0]}<br>NIVEL_EDUCATIVO=%{customdata[1]}<br>Amount of recidivist crimes=%{text}<extra></extra>\", \"legendgroup\": \"MASCULINO\", \"marker\": {\"color\": \"#EF553B\"}, \"name\": \"MASCULINO\", \"offsetgroup\": \"MASCULINO\", \"orientation\": \"v\", \"showlegend\": true, \"text\": [3389.0, 25790.0, 49994.0, 25844.0, 23352.0, 115.0, 20.0, 30.0, 1375.0, 1128.0, 51.0, 397.0], \"textposition\": \"outside\", \"texttemplate\": \"%{text:.2s}\", \"type\": \"bar\", \"x\": [\"ANALFABETA\", \"CICLO I\", \"CICLO II\", \"CICLO III\", \"CICLO IV\", \"ESPECIALIZACION\", \"MAGISTER\", \"POST GRADO\", \"PROFESIONAL\", \"TECNICO\", \"TECNICO PROFESIONAL\", \"TECNOLOGICO\"], \"xaxis\": \"x\", \"y\": [3389, 25790, 49994, 25844, 23352, 115, 20, 30, 1375, 1128, 51, 397], \"yaxis\": \"y\"}],\n",
       "                        {\"barmode\": \"group\", \"height\": 500, \"legend\": {\"title\": {\"text\": \"GENERO\"}, \"tracegroupgap\": 0}, \"margin\": {\"t\": 60}, \"template\": {\"data\": {\"bar\": [{\"error_x\": {\"color\": \"#2a3f5f\"}, \"error_y\": {\"color\": \"#2a3f5f\"}, \"marker\": {\"line\": {\"color\": \"#E5ECF6\", \"width\": 0.5}}, \"type\": \"bar\"}], \"barpolar\": [{\"marker\": {\"line\": {\"color\": \"#E5ECF6\", \"width\": 0.5}}, \"type\": \"barpolar\"}], \"carpet\": [{\"aaxis\": {\"endlinecolor\": \"#2a3f5f\", \"gridcolor\": \"white\", \"linecolor\": \"white\", \"minorgridcolor\": \"white\", \"startlinecolor\": \"#2a3f5f\"}, \"baxis\": {\"endlinecolor\": \"#2a3f5f\", \"gridcolor\": \"white\", \"linecolor\": \"white\", \"minorgridcolor\": \"white\", \"startlinecolor\": \"#2a3f5f\"}, \"type\": \"carpet\"}], \"choropleth\": [{\"colorbar\": {\"outlinewidth\": 0, \"ticks\": \"\"}, \"type\": \"choropleth\"}], \"contour\": [{\"colorbar\": {\"outlinewidth\": 0, \"ticks\": \"\"}, \"colorscale\": [[0.0, \"#0d0887\"], [0.1111111111111111, \"#46039f\"], [0.2222222222222222, \"#7201a8\"], [0.3333333333333333, \"#9c179e\"], [0.4444444444444444, \"#bd3786\"], [0.5555555555555556, \"#d8576b\"], [0.6666666666666666, \"#ed7953\"], [0.7777777777777778, \"#fb9f3a\"], [0.8888888888888888, \"#fdca26\"], [1.0, \"#f0f921\"]], \"type\": \"contour\"}], \"contourcarpet\": [{\"colorbar\": {\"outlinewidth\": 0, \"ticks\": \"\"}, \"type\": \"contourcarpet\"}], \"heatmap\": [{\"colorbar\": {\"outlinewidth\": 0, \"ticks\": \"\"}, \"colorscale\": [[0.0, \"#0d0887\"], [0.1111111111111111, \"#46039f\"], [0.2222222222222222, \"#7201a8\"], [0.3333333333333333, \"#9c179e\"], [0.4444444444444444, \"#bd3786\"], [0.5555555555555556, \"#d8576b\"], [0.6666666666666666, \"#ed7953\"], [0.7777777777777778, \"#fb9f3a\"], [0.8888888888888888, \"#fdca26\"], [1.0, \"#f0f921\"]], \"type\": \"heatmap\"}], \"heatmapgl\": [{\"colorbar\": {\"outlinewidth\": 0, \"ticks\": \"\"}, \"colorscale\": [[0.0, \"#0d0887\"], [0.1111111111111111, \"#46039f\"], [0.2222222222222222, \"#7201a8\"], [0.3333333333333333, \"#9c179e\"], [0.4444444444444444, \"#bd3786\"], [0.5555555555555556, \"#d8576b\"], [0.6666666666666666, \"#ed7953\"], [0.7777777777777778, \"#fb9f3a\"], [0.8888888888888888, \"#fdca26\"], [1.0, \"#f0f921\"]], \"type\": \"heatmapgl\"}], \"histogram\": [{\"marker\": {\"colorbar\": {\"outlinewidth\": 0, \"ticks\": \"\"}}, \"type\": \"histogram\"}], \"histogram2d\": [{\"colorbar\": {\"outlinewidth\": 0, \"ticks\": \"\"}, \"colorscale\": [[0.0, \"#0d0887\"], [0.1111111111111111, \"#46039f\"], [0.2222222222222222, \"#7201a8\"], [0.3333333333333333, \"#9c179e\"], [0.4444444444444444, \"#bd3786\"], [0.5555555555555556, \"#d8576b\"], [0.6666666666666666, \"#ed7953\"], [0.7777777777777778, \"#fb9f3a\"], [0.8888888888888888, \"#fdca26\"], [1.0, \"#f0f921\"]], \"type\": \"histogram2d\"}], \"histogram2dcontour\": [{\"colorbar\": {\"outlinewidth\": 0, \"ticks\": \"\"}, \"colorscale\": [[0.0, \"#0d0887\"], [0.1111111111111111, \"#46039f\"], [0.2222222222222222, \"#7201a8\"], [0.3333333333333333, \"#9c179e\"], [0.4444444444444444, \"#bd3786\"], [0.5555555555555556, \"#d8576b\"], [0.6666666666666666, \"#ed7953\"], [0.7777777777777778, \"#fb9f3a\"], [0.8888888888888888, \"#fdca26\"], [1.0, \"#f0f921\"]], \"type\": \"histogram2dcontour\"}], \"mesh3d\": [{\"colorbar\": {\"outlinewidth\": 0, \"ticks\": \"\"}, \"type\": \"mesh3d\"}], \"parcoords\": [{\"line\": {\"colorbar\": {\"outlinewidth\": 0, \"ticks\": \"\"}}, \"type\": \"parcoords\"}], \"pie\": [{\"automargin\": true, \"type\": \"pie\"}], \"scatter\": [{\"marker\": {\"colorbar\": {\"outlinewidth\": 0, \"ticks\": \"\"}}, \"type\": \"scatter\"}], \"scatter3d\": [{\"line\": {\"colorbar\": {\"outlinewidth\": 0, \"ticks\": \"\"}}, \"marker\": {\"colorbar\": {\"outlinewidth\": 0, \"ticks\": \"\"}}, \"type\": \"scatter3d\"}], \"scattercarpet\": [{\"marker\": {\"colorbar\": {\"outlinewidth\": 0, \"ticks\": \"\"}}, \"type\": \"scattercarpet\"}], \"scattergeo\": [{\"marker\": {\"colorbar\": {\"outlinewidth\": 0, \"ticks\": \"\"}}, \"type\": \"scattergeo\"}], \"scattergl\": [{\"marker\": {\"colorbar\": {\"outlinewidth\": 0, \"ticks\": \"\"}}, \"type\": \"scattergl\"}], \"scattermapbox\": [{\"marker\": {\"colorbar\": {\"outlinewidth\": 0, \"ticks\": \"\"}}, \"type\": \"scattermapbox\"}], \"scatterpolar\": [{\"marker\": {\"colorbar\": {\"outlinewidth\": 0, \"ticks\": \"\"}}, \"type\": \"scatterpolar\"}], \"scatterpolargl\": [{\"marker\": {\"colorbar\": {\"outlinewidth\": 0, \"ticks\": \"\"}}, \"type\": \"scatterpolargl\"}], \"scatterternary\": [{\"marker\": {\"colorbar\": {\"outlinewidth\": 0, \"ticks\": \"\"}}, \"type\": \"scatterternary\"}], \"surface\": [{\"colorbar\": {\"outlinewidth\": 0, \"ticks\": \"\"}, \"colorscale\": [[0.0, \"#0d0887\"], [0.1111111111111111, \"#46039f\"], [0.2222222222222222, \"#7201a8\"], [0.3333333333333333, \"#9c179e\"], [0.4444444444444444, \"#bd3786\"], [0.5555555555555556, \"#d8576b\"], [0.6666666666666666, \"#ed7953\"], [0.7777777777777778, \"#fb9f3a\"], [0.8888888888888888, \"#fdca26\"], [1.0, \"#f0f921\"]], \"type\": \"surface\"}], \"table\": [{\"cells\": {\"fill\": {\"color\": \"#EBF0F8\"}, \"line\": {\"color\": \"white\"}}, \"header\": {\"fill\": {\"color\": \"#C8D4E3\"}, \"line\": {\"color\": \"white\"}}, \"type\": \"table\"}]}, \"layout\": {\"annotationdefaults\": {\"arrowcolor\": \"#2a3f5f\", \"arrowhead\": 0, \"arrowwidth\": 1}, \"coloraxis\": {\"colorbar\": {\"outlinewidth\": 0, \"ticks\": \"\"}}, \"colorscale\": {\"diverging\": [[0, \"#8e0152\"], [0.1, \"#c51b7d\"], [0.2, \"#de77ae\"], [0.3, \"#f1b6da\"], [0.4, \"#fde0ef\"], [0.5, \"#f7f7f7\"], [0.6, \"#e6f5d0\"], [0.7, \"#b8e186\"], [0.8, \"#7fbc41\"], [0.9, \"#4d9221\"], [1, \"#276419\"]], \"sequential\": [[0.0, \"#0d0887\"], [0.1111111111111111, \"#46039f\"], [0.2222222222222222, \"#7201a8\"], [0.3333333333333333, \"#9c179e\"], [0.4444444444444444, \"#bd3786\"], [0.5555555555555556, \"#d8576b\"], [0.6666666666666666, \"#ed7953\"], [0.7777777777777778, \"#fb9f3a\"], [0.8888888888888888, \"#fdca26\"], [1.0, \"#f0f921\"]], \"sequentialminus\": [[0.0, \"#0d0887\"], [0.1111111111111111, \"#46039f\"], [0.2222222222222222, \"#7201a8\"], [0.3333333333333333, \"#9c179e\"], [0.4444444444444444, \"#bd3786\"], [0.5555555555555556, \"#d8576b\"], [0.6666666666666666, \"#ed7953\"], [0.7777777777777778, \"#fb9f3a\"], [0.8888888888888888, \"#fdca26\"], [1.0, \"#f0f921\"]]}, \"colorway\": [\"#636efa\", \"#EF553B\", \"#00cc96\", \"#ab63fa\", \"#FFA15A\", \"#19d3f3\", \"#FF6692\", \"#B6E880\", \"#FF97FF\", \"#FECB52\"], \"font\": {\"color\": \"#2a3f5f\"}, \"geo\": {\"bgcolor\": \"white\", \"lakecolor\": \"white\", \"landcolor\": \"#E5ECF6\", \"showlakes\": true, \"showland\": true, \"subunitcolor\": \"white\"}, \"hoverlabel\": {\"align\": \"left\"}, \"hovermode\": \"closest\", \"mapbox\": {\"style\": \"light\"}, \"paper_bgcolor\": \"white\", \"plot_bgcolor\": \"#E5ECF6\", \"polar\": {\"angularaxis\": {\"gridcolor\": \"white\", \"linecolor\": \"white\", \"ticks\": \"\"}, \"bgcolor\": \"#E5ECF6\", \"radialaxis\": {\"gridcolor\": \"white\", \"linecolor\": \"white\", \"ticks\": \"\"}}, \"scene\": {\"xaxis\": {\"backgroundcolor\": \"#E5ECF6\", \"gridcolor\": \"white\", \"gridwidth\": 2, \"linecolor\": \"white\", \"showbackground\": true, \"ticks\": \"\", \"zerolinecolor\": \"white\"}, \"yaxis\": {\"backgroundcolor\": \"#E5ECF6\", \"gridcolor\": \"white\", \"gridwidth\": 2, \"linecolor\": \"white\", \"showbackground\": true, \"ticks\": \"\", \"zerolinecolor\": \"white\"}, \"zaxis\": {\"backgroundcolor\": \"#E5ECF6\", \"gridcolor\": \"white\", \"gridwidth\": 2, \"linecolor\": \"white\", \"showbackground\": true, \"ticks\": \"\", \"zerolinecolor\": \"white\"}}, \"shapedefaults\": {\"line\": {\"color\": \"#2a3f5f\"}}, \"ternary\": {\"aaxis\": {\"gridcolor\": \"white\", \"linecolor\": \"white\", \"ticks\": \"\"}, \"baxis\": {\"gridcolor\": \"white\", \"linecolor\": \"white\", \"ticks\": \"\"}, \"bgcolor\": \"#E5ECF6\", \"caxis\": {\"gridcolor\": \"white\", \"linecolor\": \"white\", \"ticks\": \"\"}}, \"title\": {\"x\": 0.05}, \"xaxis\": {\"automargin\": true, \"gridcolor\": \"white\", \"linecolor\": \"white\", \"ticks\": \"\", \"title\": {\"standoff\": 15}, \"zerolinecolor\": \"white\", \"zerolinewidth\": 2}, \"yaxis\": {\"automargin\": true, \"gridcolor\": \"white\", \"linecolor\": \"white\", \"ticks\": \"\", \"title\": {\"standoff\": 15}, \"zerolinecolor\": \"white\", \"zerolinewidth\": 2}}}, \"title\": {\"text\": \"Most commited crimes by educational level\"}, \"uniformtext\": {\"minsize\": 6, \"mode\": \"hide\"}, \"xaxis\": {\"anchor\": \"y\", \"domain\": [0.0, 1.0], \"title\": {\"text\": \"NIVEL_EDUCATIVO\"}}, \"yaxis\": {\"anchor\": \"x\", \"domain\": [0.0, 1.0], \"title\": {\"text\": \"Amount of recidivist crimes\"}}},\n",
       "                        {\"responsive\": true}\n",
       "                    ).then(function(){\n",
       "                            \n",
       "var gd = document.getElementById('ec5b1468-1d93-464e-bdc1-e65d3463d559');\n",
       "var x = new MutationObserver(function (mutations, observer) {{\n",
       "        var display = window.getComputedStyle(gd).display;\n",
       "        if (!display || display === 'none') {{\n",
       "            console.log([gd, 'removed!']);\n",
       "            Plotly.purge(gd);\n",
       "            observer.disconnect();\n",
       "        }}\n",
       "}});\n",
       "\n",
       "// Listen for the removal of the full notebook cells\n",
       "var notebookContainer = gd.closest('#notebook-container');\n",
       "if (notebookContainer) {{\n",
       "    x.observe(notebookContainer, {childList: true});\n",
       "}}\n",
       "\n",
       "// Listen for the clearing of the current output cell\n",
       "var outputEl = gd.closest('.output');\n",
       "if (outputEl) {{\n",
       "    x.observe(outputEl, {childList: true});\n",
       "}}\n",
       "\n",
       "                        })\n",
       "                };\n",
       "                });\n",
       "            </script>\n",
       "        </div>"
      ]
     },
     "metadata": {},
     "output_type": "display_data"
    }
   ],
   "source": [
    "import plotly.express as px\n",
    "\n",
    "fig = px.bar(df_edu_gen, x='NIVEL_EDUCATIVO', y='INTERNOEN',\n",
    "             hover_data=['GENERO','NIVEL_EDUCATIVO'], color='GENERO',\n",
    "             labels={'INTERNOEN':'Amount of recidivist crimes'}, height=500, barmode='group', text=\"INTERNOEN\")\n",
    "fig.update_traces(texttemplate='%{text:.2s}', textposition='outside')\n",
    "fig.update_layout(uniformtext_minsize=6, uniformtext_mode='hide',\n",
    "                  title=\"Most commited crimes by educational level\",\n",
    "                 )\n",
    "fig.show()\n"
   ]
  },
  {
   "cell_type": "code",
   "execution_count": 34,
   "metadata": {
    "scrolled": false
   },
   "outputs": [
    {
     "data": {
      "application/vnd.plotly.v1+json": {
       "config": {
        "plotlyServerURL": "https://plot.ly"
       },
       "data": [
        {
         "alignmentgroup": "True",
         "customdata": [
          [
           "ACCION DE TUTELA"
          ]
         ],
         "hovertemplate": "TITULO_DELITO=%{customdata[0]}<br>Amount of recidivist crimes=%{text}<extra></extra>",
         "legendgroup": "ACCION DE TUTELA",
         "marker": {
          "color": "#636efa"
         },
         "name": "ACCION DE TUTELA",
         "offsetgroup": "ACCION DE TUTELA",
         "orientation": "v",
         "showlegend": true,
         "text": [
          4
         ],
         "textposition": "outside",
         "texttemplate": "%{text:.2s}",
         "type": "bar",
         "x": [
          "ACCION DE TUTELA"
         ],
         "xaxis": "x",
         "y": [
          4
         ],
         "yaxis": "y"
        },
        {
         "alignmentgroup": "True",
         "customdata": [
          [
           "CONTRA EL ORDEN ECONOMICO SOCIAL"
          ]
         ],
         "hovertemplate": "TITULO_DELITO=%{customdata[0]}<br>Amount of recidivist crimes=%{text}<extra></extra>",
         "legendgroup": "CONTRA EL ORDEN ECONOMICO SOCIAL",
         "marker": {
          "color": "#EF553B"
         },
         "name": "CONTRA EL ORDEN ECONOMICO SOCIAL",
         "offsetgroup": "CONTRA EL ORDEN ECONOMICO SOCIAL",
         "orientation": "v",
         "showlegend": true,
         "text": [
          459
         ],
         "textposition": "outside",
         "texttemplate": "%{text:.2s}",
         "type": "bar",
         "x": [
          "CONTRA EL ORDEN ECONOMICO SOCIAL"
         ],
         "xaxis": "x",
         "y": [
          459
         ],
         "yaxis": "y"
        },
        {
         "alignmentgroup": "True",
         "customdata": [
          [
           "CONTRA EL PATRIMONIO ECONOMICO"
          ]
         ],
         "hovertemplate": "TITULO_DELITO=%{customdata[0]}<br>Amount of recidivist crimes=%{text}<extra></extra>",
         "legendgroup": "CONTRA EL PATRIMONIO ECONOMICO",
         "marker": {
          "color": "#00cc96"
         },
         "name": "CONTRA EL PATRIMONIO ECONOMICO",
         "offsetgroup": "CONTRA EL PATRIMONIO ECONOMICO",
         "orientation": "v",
         "showlegend": true,
         "text": [
          53192
         ],
         "textposition": "outside",
         "texttemplate": "%{text:.2s}",
         "type": "bar",
         "x": [
          "CONTRA EL PATRIMONIO ECONOMICO"
         ],
         "xaxis": "x",
         "y": [
          53192
         ],
         "yaxis": "y"
        },
        {
         "alignmentgroup": "True",
         "customdata": [
          [
           "CONTRA EL REGIMEN CONSTITUCIONAL Y LEGAL"
          ]
         ],
         "hovertemplate": "TITULO_DELITO=%{customdata[0]}<br>Amount of recidivist crimes=%{text}<extra></extra>",
         "legendgroup": "CONTRA EL REGIMEN CONSTITUCIONAL Y LEGAL",
         "marker": {
          "color": "#ab63fa"
         },
         "name": "CONTRA EL REGIMEN CONSTITUCIONAL Y LEGAL",
         "offsetgroup": "CONTRA EL REGIMEN CONSTITUCIONAL Y LEGAL",
         "orientation": "v",
         "showlegend": true,
         "text": [
          339
         ],
         "textposition": "outside",
         "texttemplate": "%{text:.2s}",
         "type": "bar",
         "x": [
          "CONTRA EL REGIMEN CONSTITUCIONAL Y LEGAL"
         ],
         "xaxis": "x",
         "y": [
          339
         ],
         "yaxis": "y"
        },
        {
         "alignmentgroup": "True",
         "customdata": [
          [
           "CONTRA LA ADMINISTRACION PUBLICA"
          ]
         ],
         "hovertemplate": "TITULO_DELITO=%{customdata[0]}<br>Amount of recidivist crimes=%{text}<extra></extra>",
         "legendgroup": "CONTRA LA ADMINISTRACION PUBLICA",
         "marker": {
          "color": "#FFA15A"
         },
         "name": "CONTRA LA ADMINISTRACION PUBLICA",
         "offsetgroup": "CONTRA LA ADMINISTRACION PUBLICA",
         "orientation": "v",
         "showlegend": true,
         "text": [
          1218
         ],
         "textposition": "outside",
         "texttemplate": "%{text:.2s}",
         "type": "bar",
         "x": [
          "CONTRA LA ADMINISTRACION PUBLICA"
         ],
         "xaxis": "x",
         "y": [
          1218
         ],
         "yaxis": "y"
        },
        {
         "alignmentgroup": "True",
         "customdata": [
          [
           "CONTRA LA EFICAZ Y RECTA IMPARTICION DE JUSTICIA"
          ]
         ],
         "hovertemplate": "TITULO_DELITO=%{customdata[0]}<br>Amount of recidivist crimes=%{text}<extra></extra>",
         "legendgroup": "CONTRA LA EFICAZ Y RECTA IMPARTICION DE JUSTICIA",
         "marker": {
          "color": "#19d3f3"
         },
         "name": "CONTRA LA EFICAZ Y RECTA IMPARTICION DE JUSTICIA",
         "offsetgroup": "CONTRA LA EFICAZ Y RECTA IMPARTICION DE JUSTICIA",
         "orientation": "v",
         "showlegend": true,
         "text": [
          2855
         ],
         "textposition": "outside",
         "texttemplate": "%{text:.2s}",
         "type": "bar",
         "x": [
          "CONTRA LA EFICAZ Y RECTA IMPARTICION DE JUSTICIA"
         ],
         "xaxis": "x",
         "y": [
          2855
         ],
         "yaxis": "y"
        },
        {
         "alignmentgroup": "True",
         "customdata": [
          [
           "CONTRA LA EXISTENCIA Y SEGURIDAD DEL ESTADO"
          ]
         ],
         "hovertemplate": "TITULO_DELITO=%{customdata[0]}<br>Amount of recidivist crimes=%{text}<extra></extra>",
         "legendgroup": "CONTRA LA EXISTENCIA Y SEGURIDAD DEL ESTADO",
         "marker": {
          "color": "#FF6692"
         },
         "name": "CONTRA LA EXISTENCIA Y SEGURIDAD DEL ESTADO",
         "offsetgroup": "CONTRA LA EXISTENCIA Y SEGURIDAD DEL ESTADO",
         "orientation": "v",
         "showlegend": true,
         "text": [
          1
         ],
         "textposition": "outside",
         "texttemplate": "%{text:.2s}",
         "type": "bar",
         "x": [
          "CONTRA LA EXISTENCIA Y SEGURIDAD DEL ESTADO"
         ],
         "xaxis": "x",
         "y": [
          1
         ],
         "yaxis": "y"
        },
        {
         "alignmentgroup": "True",
         "customdata": [
          [
           "CONTRA LA FAMILIA"
          ]
         ],
         "hovertemplate": "TITULO_DELITO=%{customdata[0]}<br>Amount of recidivist crimes=%{text}<extra></extra>",
         "legendgroup": "CONTRA LA FAMILIA",
         "marker": {
          "color": "#B6E880"
         },
         "name": "CONTRA LA FAMILIA",
         "offsetgroup": "CONTRA LA FAMILIA",
         "orientation": "v",
         "showlegend": true,
         "text": [
          3632
         ],
         "textposition": "outside",
         "texttemplate": "%{text:.2s}",
         "type": "bar",
         "x": [
          "CONTRA LA FAMILIA"
         ],
         "xaxis": "x",
         "y": [
          3632
         ],
         "yaxis": "y"
        },
        {
         "alignmentgroup": "True",
         "customdata": [
          [
           "CONTRA LA FE PUBLICA"
          ]
         ],
         "hovertemplate": "TITULO_DELITO=%{customdata[0]}<br>Amount of recidivist crimes=%{text}<extra></extra>",
         "legendgroup": "CONTRA LA FE PUBLICA",
         "marker": {
          "color": "#FF97FF"
         },
         "name": "CONTRA LA FE PUBLICA",
         "offsetgroup": "CONTRA LA FE PUBLICA",
         "orientation": "v",
         "showlegend": true,
         "text": [
          2025
         ],
         "textposition": "outside",
         "texttemplate": "%{text:.2s}",
         "type": "bar",
         "x": [
          "CONTRA LA FE PUBLICA"
         ],
         "xaxis": "x",
         "y": [
          2025
         ],
         "yaxis": "y"
        },
        {
         "alignmentgroup": "True",
         "customdata": [
          [
           "CONTRA LA INTEGRIDAD MORAL"
          ]
         ],
         "hovertemplate": "TITULO_DELITO=%{customdata[0]}<br>Amount of recidivist crimes=%{text}<extra></extra>",
         "legendgroup": "CONTRA LA INTEGRIDAD MORAL",
         "marker": {
          "color": "#FECB52"
         },
         "name": "CONTRA LA INTEGRIDAD MORAL",
         "offsetgroup": "CONTRA LA INTEGRIDAD MORAL",
         "orientation": "v",
         "showlegend": true,
         "text": [
          23
         ],
         "textposition": "outside",
         "texttemplate": "%{text:.2s}",
         "type": "bar",
         "x": [
          "CONTRA LA INTEGRIDAD MORAL"
         ],
         "xaxis": "x",
         "y": [
          23
         ],
         "yaxis": "y"
        },
        {
         "alignmentgroup": "True",
         "customdata": [
          [
           "CONTRA LA LIBERTAD INDIVIDUAL Y OTRAS GARANTIAS"
          ]
         ],
         "hovertemplate": "TITULO_DELITO=%{customdata[0]}<br>Amount of recidivist crimes=%{text}<extra></extra>",
         "legendgroup": "CONTRA LA LIBERTAD INDIVIDUAL Y OTRAS GARANTIAS",
         "marker": {
          "color": "#636efa"
         },
         "name": "CONTRA LA LIBERTAD INDIVIDUAL Y OTRAS GARANTIAS",
         "offsetgroup": "CONTRA LA LIBERTAD INDIVIDUAL Y OTRAS GARANTIAS",
         "orientation": "v",
         "showlegend": true,
         "text": [
          2713
         ],
         "textposition": "outside",
         "texttemplate": "%{text:.2s}",
         "type": "bar",
         "x": [
          "CONTRA LA LIBERTAD INDIVIDUAL Y OTRAS GARANTIAS"
         ],
         "xaxis": "x",
         "y": [
          2713
         ],
         "yaxis": "y"
        },
        {
         "alignmentgroup": "True",
         "customdata": [
          [
           "CONTRA LA LIBERTAD INTEGRIDAD Y FORMACION SEXUALES"
          ]
         ],
         "hovertemplate": "TITULO_DELITO=%{customdata[0]}<br>Amount of recidivist crimes=%{text}<extra></extra>",
         "legendgroup": "CONTRA LA LIBERTAD INTEGRIDAD Y FORMACION SEXUALES",
         "marker": {
          "color": "#EF553B"
         },
         "name": "CONTRA LA LIBERTAD INTEGRIDAD Y FORMACION SEXUALES",
         "offsetgroup": "CONTRA LA LIBERTAD INTEGRIDAD Y FORMACION SEXUALES",
         "orientation": "v",
         "showlegend": true,
         "text": [
          2802
         ],
         "textposition": "outside",
         "texttemplate": "%{text:.2s}",
         "type": "bar",
         "x": [
          "CONTRA LA LIBERTAD INTEGRIDAD Y FORMACION SEXUALES"
         ],
         "xaxis": "x",
         "y": [
          2802
         ],
         "yaxis": "y"
        },
        {
         "alignmentgroup": "True",
         "customdata": [
          [
           "CONTRA LA SALUD PUBLICA"
          ]
         ],
         "hovertemplate": "TITULO_DELITO=%{customdata[0]}<br>Amount of recidivist crimes=%{text}<extra></extra>",
         "legendgroup": "CONTRA LA SALUD PUBLICA",
         "marker": {
          "color": "#00cc96"
         },
         "name": "CONTRA LA SALUD PUBLICA",
         "offsetgroup": "CONTRA LA SALUD PUBLICA",
         "orientation": "v",
         "showlegend": true,
         "text": [
          20503
         ],
         "textposition": "outside",
         "texttemplate": "%{text:.2s}",
         "type": "bar",
         "x": [
          "CONTRA LA SALUD PUBLICA"
         ],
         "xaxis": "x",
         "y": [
          20503
         ],
         "yaxis": "y"
        },
        {
         "alignmentgroup": "True",
         "customdata": [
          [
           "CONTRA LA SEGURIDAD PUBLICA"
          ]
         ],
         "hovertemplate": "TITULO_DELITO=%{customdata[0]}<br>Amount of recidivist crimes=%{text}<extra></extra>",
         "legendgroup": "CONTRA LA SEGURIDAD PUBLICA",
         "marker": {
          "color": "#ab63fa"
         },
         "name": "CONTRA LA SEGURIDAD PUBLICA",
         "offsetgroup": "CONTRA LA SEGURIDAD PUBLICA",
         "orientation": "v",
         "showlegend": true,
         "text": [
          29903
         ],
         "textposition": "outside",
         "texttemplate": "%{text:.2s}",
         "type": "bar",
         "x": [
          "CONTRA LA SEGURIDAD PUBLICA"
         ],
         "xaxis": "x",
         "y": [
          29903
         ],
         "yaxis": "y"
        },
        {
         "alignmentgroup": "True",
         "customdata": [
          [
           "CONTRA LA VIDA Y LA INTEGRIDAD PERSONAL"
          ]
         ],
         "hovertemplate": "TITULO_DELITO=%{customdata[0]}<br>Amount of recidivist crimes=%{text}<extra></extra>",
         "legendgroup": "CONTRA LA VIDA Y LA INTEGRIDAD PERSONAL",
         "marker": {
          "color": "#FFA15A"
         },
         "name": "CONTRA LA VIDA Y LA INTEGRIDAD PERSONAL",
         "offsetgroup": "CONTRA LA VIDA Y LA INTEGRIDAD PERSONAL",
         "orientation": "v",
         "showlegend": true,
         "text": [
          10942
         ],
         "textposition": "outside",
         "texttemplate": "%{text:.2s}",
         "type": "bar",
         "x": [
          "CONTRA LA VIDA Y LA INTEGRIDAD PERSONAL"
         ],
         "xaxis": "x",
         "y": [
          10942
         ],
         "yaxis": "y"
        },
        {
         "alignmentgroup": "True",
         "customdata": [
          [
           "CONTRA LOS DERECHOS DE AUTOR"
          ]
         ],
         "hovertemplate": "TITULO_DELITO=%{customdata[0]}<br>Amount of recidivist crimes=%{text}<extra></extra>",
         "legendgroup": "CONTRA LOS DERECHOS DE AUTOR",
         "marker": {
          "color": "#19d3f3"
         },
         "name": "CONTRA LOS DERECHOS DE AUTOR",
         "offsetgroup": "CONTRA LOS DERECHOS DE AUTOR",
         "orientation": "v",
         "showlegend": true,
         "text": [
          25
         ],
         "textposition": "outside",
         "texttemplate": "%{text:.2s}",
         "type": "bar",
         "x": [
          "CONTRA LOS DERECHOS DE AUTOR"
         ],
         "xaxis": "x",
         "y": [
          25
         ],
         "yaxis": "y"
        },
        {
         "alignmentgroup": "True",
         "customdata": [
          [
           "CONTRA LOS RECURSOS NATURALES Y EL MEDIO AMBIENTE"
          ]
         ],
         "hovertemplate": "TITULO_DELITO=%{customdata[0]}<br>Amount of recidivist crimes=%{text}<extra></extra>",
         "legendgroup": "CONTRA LOS RECURSOS NATURALES Y EL MEDIO AMBIENTE",
         "marker": {
          "color": "#FF6692"
         },
         "name": "CONTRA LOS RECURSOS NATURALES Y EL MEDIO AMBIENTE",
         "offsetgroup": "CONTRA LOS RECURSOS NATURALES Y EL MEDIO AMBIENTE",
         "orientation": "v",
         "showlegend": true,
         "text": [
          242
         ],
         "textposition": "outside",
         "texttemplate": "%{text:.2s}",
         "type": "bar",
         "x": [
          "CONTRA LOS RECURSOS NATURALES Y EL MEDIO AMBIENTE"
         ],
         "xaxis": "x",
         "y": [
          242
         ],
         "yaxis": "y"
        },
        {
         "alignmentgroup": "True",
         "customdata": [
          [
           "CONTRA MECANISMOS DE PARTICIPACION DEMOCRATICA"
          ]
         ],
         "hovertemplate": "TITULO_DELITO=%{customdata[0]}<br>Amount of recidivist crimes=%{text}<extra></extra>",
         "legendgroup": "CONTRA MECANISMOS DE PARTICIPACION DEMOCRATICA",
         "marker": {
          "color": "#B6E880"
         },
         "name": "CONTRA MECANISMOS DE PARTICIPACION DEMOCRATICA",
         "offsetgroup": "CONTRA MECANISMOS DE PARTICIPACION DEMOCRATICA",
         "orientation": "v",
         "showlegend": true,
         "text": [
          16
         ],
         "textposition": "outside",
         "texttemplate": "%{text:.2s}",
         "type": "bar",
         "x": [
          "CONTRA MECANISMOS DE PARTICIPACION DEMOCRATICA"
         ],
         "xaxis": "x",
         "y": [
          16
         ],
         "yaxis": "y"
        },
        {
         "alignmentgroup": "True",
         "customdata": [
          [
           "CONTRA PERSONAS Y BIENES PROTEGIDOS POR EL DERECHO INTERNACIONAL HUMANITARIO"
          ]
         ],
         "hovertemplate": "TITULO_DELITO=%{customdata[0]}<br>Amount of recidivist crimes=%{text}<extra></extra>",
         "legendgroup": "CONTRA PERSONAS Y BIENES PROTEGIDOS POR EL DERECHO INTERNACIONAL HUMANITARIO",
         "marker": {
          "color": "#FF97FF"
         },
         "name": "CONTRA PERSONAS Y BIENES PROTEGIDOS POR EL DERECHO INTERNACIONAL HUMANITARIO",
         "offsetgroup": "CONTRA PERSONAS Y BIENES PROTEGIDOS POR EL DERECHO INTERNACIONAL HUMANITARIO",
         "orientation": "v",
         "showlegend": true,
         "text": [
          140
         ],
         "textposition": "outside",
         "texttemplate": "%{text:.2s}",
         "type": "bar",
         "x": [
          "CONTRA PERSONAS Y BIENES PROTEGIDOS POR EL DERECHO INTERNACIONAL HUMANITARIO"
         ],
         "xaxis": "x",
         "y": [
          140
         ],
         "yaxis": "y"
        },
        {
         "alignmentgroup": "True",
         "customdata": [
          [
           "DE LA PROTECCION DE LA INFORMACION Y DE LOS DATOS"
          ]
         ],
         "hovertemplate": "TITULO_DELITO=%{customdata[0]}<br>Amount of recidivist crimes=%{text}<extra></extra>",
         "legendgroup": "DE LA PROTECCION DE LA INFORMACION Y DE LOS DATOS",
         "marker": {
          "color": "#FECB52"
         },
         "name": "DE LA PROTECCION DE LA INFORMACION Y DE LOS DATOS",
         "offsetgroup": "DE LA PROTECCION DE LA INFORMACION Y DE LOS DATOS",
         "orientation": "v",
         "showlegend": true,
         "text": [
          280
         ],
         "textposition": "outside",
         "texttemplate": "%{text:.2s}",
         "type": "bar",
         "x": [
          "DE LA PROTECCION DE LA INFORMACION Y DE LOS DATOS"
         ],
         "xaxis": "x",
         "y": [
          280
         ],
         "yaxis": "y"
        },
        {
         "alignmentgroup": "True",
         "customdata": [
          [
           "DELITOS CONTRA EL SERVICIO"
          ]
         ],
         "hovertemplate": "TITULO_DELITO=%{customdata[0]}<br>Amount of recidivist crimes=%{text}<extra></extra>",
         "legendgroup": "DELITOS CONTRA EL SERVICIO",
         "marker": {
          "color": "#636efa"
         },
         "name": "DELITOS CONTRA EL SERVICIO",
         "offsetgroup": "DELITOS CONTRA EL SERVICIO",
         "orientation": "v",
         "showlegend": true,
         "text": [
          144
         ],
         "textposition": "outside",
         "texttemplate": "%{text:.2s}",
         "type": "bar",
         "x": [
          "DELITOS CONTRA EL SERVICIO"
         ],
         "xaxis": "x",
         "y": [
          144
         ],
         "yaxis": "y"
        },
        {
         "alignmentgroup": "True",
         "customdata": [
          [
           "DELITOS CONTRA LA ADMINISTRACION PUBLICA"
          ]
         ],
         "hovertemplate": "TITULO_DELITO=%{customdata[0]}<br>Amount of recidivist crimes=%{text}<extra></extra>",
         "legendgroup": "DELITOS CONTRA LA ADMINISTRACION PUBLICA",
         "marker": {
          "color": "#EF553B"
         },
         "name": "DELITOS CONTRA LA ADMINISTRACION PUBLICA",
         "offsetgroup": "DELITOS CONTRA LA ADMINISTRACION PUBLICA",
         "orientation": "v",
         "showlegend": true,
         "text": [
          2
         ],
         "textposition": "outside",
         "texttemplate": "%{text:.2s}",
         "type": "bar",
         "x": [
          "DELITOS CONTRA LA ADMINISTRACION PUBLICA"
         ],
         "xaxis": "x",
         "y": [
          2
         ],
         "yaxis": "y"
        },
        {
         "alignmentgroup": "True",
         "customdata": [
          [
           "DELITOS CONTRA LA DISCIPLINA"
          ]
         ],
         "hovertemplate": "TITULO_DELITO=%{customdata[0]}<br>Amount of recidivist crimes=%{text}<extra></extra>",
         "legendgroup": "DELITOS CONTRA LA DISCIPLINA",
         "marker": {
          "color": "#00cc96"
         },
         "name": "DELITOS CONTRA LA DISCIPLINA",
         "offsetgroup": "DELITOS CONTRA LA DISCIPLINA",
         "orientation": "v",
         "showlegend": true,
         "text": [
          5
         ],
         "textposition": "outside",
         "texttemplate": "%{text:.2s}",
         "type": "bar",
         "x": [
          "DELITOS CONTRA LA DISCIPLINA"
         ],
         "xaxis": "x",
         "y": [
          5
         ],
         "yaxis": "y"
        },
        {
         "alignmentgroup": "True",
         "customdata": [
          [
           "DELITOS DE PARAMILITARISMO Y SICARIATO"
          ]
         ],
         "hovertemplate": "TITULO_DELITO=%{customdata[0]}<br>Amount of recidivist crimes=%{text}<extra></extra>",
         "legendgroup": "DELITOS DE PARAMILITARISMO Y SICARIATO",
         "marker": {
          "color": "#ab63fa"
         },
         "name": "DELITOS DE PARAMILITARISMO Y SICARIATO",
         "offsetgroup": "DELITOS DE PARAMILITARISMO Y SICARIATO",
         "orientation": "v",
         "showlegend": true,
         "text": [
          9
         ],
         "textposition": "outside",
         "texttemplate": "%{text:.2s}",
         "type": "bar",
         "x": [
          "DELITOS DE PARAMILITARISMO Y SICARIATO"
         ],
         "xaxis": "x",
         "y": [
          9
         ],
         "yaxis": "y"
        },
        {
         "alignmentgroup": "True",
         "customdata": [
          [
           "LEGISLACION INDIGENA"
          ]
         ],
         "hovertemplate": "TITULO_DELITO=%{customdata[0]}<br>Amount of recidivist crimes=%{text}<extra></extra>",
         "legendgroup": "LEGISLACION INDIGENA",
         "marker": {
          "color": "#FFA15A"
         },
         "name": "LEGISLACION INDIGENA",
         "offsetgroup": "LEGISLACION INDIGENA",
         "orientation": "v",
         "showlegend": true,
         "text": [
          11
         ],
         "textposition": "outside",
         "texttemplate": "%{text:.2s}",
         "type": "bar",
         "x": [
          "LEGISLACION INDIGENA"
         ],
         "xaxis": "x",
         "y": [
          11
         ],
         "yaxis": "y"
        }
       ],
       "layout": {
        "autosize": false,
        "barmode": "stack",
        "height": 700,
        "legend": {
         "title": {
          "text": "TITULO_DELITO"
         },
         "tracegroupgap": 0
        },
        "margin": {
         "b": 100,
         "l": 50,
         "pad": 4,
         "r": 50,
         "t": 100
        },
        "showlegend": false,
        "template": {
         "data": {
          "bar": [
           {
            "error_x": {
             "color": "#2a3f5f"
            },
            "error_y": {
             "color": "#2a3f5f"
            },
            "marker": {
             "line": {
              "color": "#E5ECF6",
              "width": 0.5
             }
            },
            "type": "bar"
           }
          ],
          "barpolar": [
           {
            "marker": {
             "line": {
              "color": "#E5ECF6",
              "width": 0.5
             }
            },
            "type": "barpolar"
           }
          ],
          "carpet": [
           {
            "aaxis": {
             "endlinecolor": "#2a3f5f",
             "gridcolor": "white",
             "linecolor": "white",
             "minorgridcolor": "white",
             "startlinecolor": "#2a3f5f"
            },
            "baxis": {
             "endlinecolor": "#2a3f5f",
             "gridcolor": "white",
             "linecolor": "white",
             "minorgridcolor": "white",
             "startlinecolor": "#2a3f5f"
            },
            "type": "carpet"
           }
          ],
          "choropleth": [
           {
            "colorbar": {
             "outlinewidth": 0,
             "ticks": ""
            },
            "type": "choropleth"
           }
          ],
          "contour": [
           {
            "colorbar": {
             "outlinewidth": 0,
             "ticks": ""
            },
            "colorscale": [
             [
              0,
              "#0d0887"
             ],
             [
              0.1111111111111111,
              "#46039f"
             ],
             [
              0.2222222222222222,
              "#7201a8"
             ],
             [
              0.3333333333333333,
              "#9c179e"
             ],
             [
              0.4444444444444444,
              "#bd3786"
             ],
             [
              0.5555555555555556,
              "#d8576b"
             ],
             [
              0.6666666666666666,
              "#ed7953"
             ],
             [
              0.7777777777777778,
              "#fb9f3a"
             ],
             [
              0.8888888888888888,
              "#fdca26"
             ],
             [
              1,
              "#f0f921"
             ]
            ],
            "type": "contour"
           }
          ],
          "contourcarpet": [
           {
            "colorbar": {
             "outlinewidth": 0,
             "ticks": ""
            },
            "type": "contourcarpet"
           }
          ],
          "heatmap": [
           {
            "colorbar": {
             "outlinewidth": 0,
             "ticks": ""
            },
            "colorscale": [
             [
              0,
              "#0d0887"
             ],
             [
              0.1111111111111111,
              "#46039f"
             ],
             [
              0.2222222222222222,
              "#7201a8"
             ],
             [
              0.3333333333333333,
              "#9c179e"
             ],
             [
              0.4444444444444444,
              "#bd3786"
             ],
             [
              0.5555555555555556,
              "#d8576b"
             ],
             [
              0.6666666666666666,
              "#ed7953"
             ],
             [
              0.7777777777777778,
              "#fb9f3a"
             ],
             [
              0.8888888888888888,
              "#fdca26"
             ],
             [
              1,
              "#f0f921"
             ]
            ],
            "type": "heatmap"
           }
          ],
          "heatmapgl": [
           {
            "colorbar": {
             "outlinewidth": 0,
             "ticks": ""
            },
            "colorscale": [
             [
              0,
              "#0d0887"
             ],
             [
              0.1111111111111111,
              "#46039f"
             ],
             [
              0.2222222222222222,
              "#7201a8"
             ],
             [
              0.3333333333333333,
              "#9c179e"
             ],
             [
              0.4444444444444444,
              "#bd3786"
             ],
             [
              0.5555555555555556,
              "#d8576b"
             ],
             [
              0.6666666666666666,
              "#ed7953"
             ],
             [
              0.7777777777777778,
              "#fb9f3a"
             ],
             [
              0.8888888888888888,
              "#fdca26"
             ],
             [
              1,
              "#f0f921"
             ]
            ],
            "type": "heatmapgl"
           }
          ],
          "histogram": [
           {
            "marker": {
             "colorbar": {
              "outlinewidth": 0,
              "ticks": ""
             }
            },
            "type": "histogram"
           }
          ],
          "histogram2d": [
           {
            "colorbar": {
             "outlinewidth": 0,
             "ticks": ""
            },
            "colorscale": [
             [
              0,
              "#0d0887"
             ],
             [
              0.1111111111111111,
              "#46039f"
             ],
             [
              0.2222222222222222,
              "#7201a8"
             ],
             [
              0.3333333333333333,
              "#9c179e"
             ],
             [
              0.4444444444444444,
              "#bd3786"
             ],
             [
              0.5555555555555556,
              "#d8576b"
             ],
             [
              0.6666666666666666,
              "#ed7953"
             ],
             [
              0.7777777777777778,
              "#fb9f3a"
             ],
             [
              0.8888888888888888,
              "#fdca26"
             ],
             [
              1,
              "#f0f921"
             ]
            ],
            "type": "histogram2d"
           }
          ],
          "histogram2dcontour": [
           {
            "colorbar": {
             "outlinewidth": 0,
             "ticks": ""
            },
            "colorscale": [
             [
              0,
              "#0d0887"
             ],
             [
              0.1111111111111111,
              "#46039f"
             ],
             [
              0.2222222222222222,
              "#7201a8"
             ],
             [
              0.3333333333333333,
              "#9c179e"
             ],
             [
              0.4444444444444444,
              "#bd3786"
             ],
             [
              0.5555555555555556,
              "#d8576b"
             ],
             [
              0.6666666666666666,
              "#ed7953"
             ],
             [
              0.7777777777777778,
              "#fb9f3a"
             ],
             [
              0.8888888888888888,
              "#fdca26"
             ],
             [
              1,
              "#f0f921"
             ]
            ],
            "type": "histogram2dcontour"
           }
          ],
          "mesh3d": [
           {
            "colorbar": {
             "outlinewidth": 0,
             "ticks": ""
            },
            "type": "mesh3d"
           }
          ],
          "parcoords": [
           {
            "line": {
             "colorbar": {
              "outlinewidth": 0,
              "ticks": ""
             }
            },
            "type": "parcoords"
           }
          ],
          "pie": [
           {
            "automargin": true,
            "type": "pie"
           }
          ],
          "scatter": [
           {
            "marker": {
             "colorbar": {
              "outlinewidth": 0,
              "ticks": ""
             }
            },
            "type": "scatter"
           }
          ],
          "scatter3d": [
           {
            "line": {
             "colorbar": {
              "outlinewidth": 0,
              "ticks": ""
             }
            },
            "marker": {
             "colorbar": {
              "outlinewidth": 0,
              "ticks": ""
             }
            },
            "type": "scatter3d"
           }
          ],
          "scattercarpet": [
           {
            "marker": {
             "colorbar": {
              "outlinewidth": 0,
              "ticks": ""
             }
            },
            "type": "scattercarpet"
           }
          ],
          "scattergeo": [
           {
            "marker": {
             "colorbar": {
              "outlinewidth": 0,
              "ticks": ""
             }
            },
            "type": "scattergeo"
           }
          ],
          "scattergl": [
           {
            "marker": {
             "colorbar": {
              "outlinewidth": 0,
              "ticks": ""
             }
            },
            "type": "scattergl"
           }
          ],
          "scattermapbox": [
           {
            "marker": {
             "colorbar": {
              "outlinewidth": 0,
              "ticks": ""
             }
            },
            "type": "scattermapbox"
           }
          ],
          "scatterpolar": [
           {
            "marker": {
             "colorbar": {
              "outlinewidth": 0,
              "ticks": ""
             }
            },
            "type": "scatterpolar"
           }
          ],
          "scatterpolargl": [
           {
            "marker": {
             "colorbar": {
              "outlinewidth": 0,
              "ticks": ""
             }
            },
            "type": "scatterpolargl"
           }
          ],
          "scatterternary": [
           {
            "marker": {
             "colorbar": {
              "outlinewidth": 0,
              "ticks": ""
             }
            },
            "type": "scatterternary"
           }
          ],
          "surface": [
           {
            "colorbar": {
             "outlinewidth": 0,
             "ticks": ""
            },
            "colorscale": [
             [
              0,
              "#0d0887"
             ],
             [
              0.1111111111111111,
              "#46039f"
             ],
             [
              0.2222222222222222,
              "#7201a8"
             ],
             [
              0.3333333333333333,
              "#9c179e"
             ],
             [
              0.4444444444444444,
              "#bd3786"
             ],
             [
              0.5555555555555556,
              "#d8576b"
             ],
             [
              0.6666666666666666,
              "#ed7953"
             ],
             [
              0.7777777777777778,
              "#fb9f3a"
             ],
             [
              0.8888888888888888,
              "#fdca26"
             ],
             [
              1,
              "#f0f921"
             ]
            ],
            "type": "surface"
           }
          ],
          "table": [
           {
            "cells": {
             "fill": {
              "color": "#EBF0F8"
             },
             "line": {
              "color": "white"
             }
            },
            "header": {
             "fill": {
              "color": "#C8D4E3"
             },
             "line": {
              "color": "white"
             }
            },
            "type": "table"
           }
          ]
         },
         "layout": {
          "annotationdefaults": {
           "arrowcolor": "#2a3f5f",
           "arrowhead": 0,
           "arrowwidth": 1
          },
          "coloraxis": {
           "colorbar": {
            "outlinewidth": 0,
            "ticks": ""
           }
          },
          "colorscale": {
           "diverging": [
            [
             0,
             "#8e0152"
            ],
            [
             0.1,
             "#c51b7d"
            ],
            [
             0.2,
             "#de77ae"
            ],
            [
             0.3,
             "#f1b6da"
            ],
            [
             0.4,
             "#fde0ef"
            ],
            [
             0.5,
             "#f7f7f7"
            ],
            [
             0.6,
             "#e6f5d0"
            ],
            [
             0.7,
             "#b8e186"
            ],
            [
             0.8,
             "#7fbc41"
            ],
            [
             0.9,
             "#4d9221"
            ],
            [
             1,
             "#276419"
            ]
           ],
           "sequential": [
            [
             0,
             "#0d0887"
            ],
            [
             0.1111111111111111,
             "#46039f"
            ],
            [
             0.2222222222222222,
             "#7201a8"
            ],
            [
             0.3333333333333333,
             "#9c179e"
            ],
            [
             0.4444444444444444,
             "#bd3786"
            ],
            [
             0.5555555555555556,
             "#d8576b"
            ],
            [
             0.6666666666666666,
             "#ed7953"
            ],
            [
             0.7777777777777778,
             "#fb9f3a"
            ],
            [
             0.8888888888888888,
             "#fdca26"
            ],
            [
             1,
             "#f0f921"
            ]
           ],
           "sequentialminus": [
            [
             0,
             "#0d0887"
            ],
            [
             0.1111111111111111,
             "#46039f"
            ],
            [
             0.2222222222222222,
             "#7201a8"
            ],
            [
             0.3333333333333333,
             "#9c179e"
            ],
            [
             0.4444444444444444,
             "#bd3786"
            ],
            [
             0.5555555555555556,
             "#d8576b"
            ],
            [
             0.6666666666666666,
             "#ed7953"
            ],
            [
             0.7777777777777778,
             "#fb9f3a"
            ],
            [
             0.8888888888888888,
             "#fdca26"
            ],
            [
             1,
             "#f0f921"
            ]
           ]
          },
          "colorway": [
           "#636efa",
           "#EF553B",
           "#00cc96",
           "#ab63fa",
           "#FFA15A",
           "#19d3f3",
           "#FF6692",
           "#B6E880",
           "#FF97FF",
           "#FECB52"
          ],
          "font": {
           "color": "#2a3f5f"
          },
          "geo": {
           "bgcolor": "white",
           "lakecolor": "white",
           "landcolor": "#E5ECF6",
           "showlakes": true,
           "showland": true,
           "subunitcolor": "white"
          },
          "hoverlabel": {
           "align": "left"
          },
          "hovermode": "closest",
          "mapbox": {
           "style": "light"
          },
          "paper_bgcolor": "white",
          "plot_bgcolor": "#E5ECF6",
          "polar": {
           "angularaxis": {
            "gridcolor": "white",
            "linecolor": "white",
            "ticks": ""
           },
           "bgcolor": "#E5ECF6",
           "radialaxis": {
            "gridcolor": "white",
            "linecolor": "white",
            "ticks": ""
           }
          },
          "scene": {
           "xaxis": {
            "backgroundcolor": "#E5ECF6",
            "gridcolor": "white",
            "gridwidth": 2,
            "linecolor": "white",
            "showbackground": true,
            "ticks": "",
            "zerolinecolor": "white"
           },
           "yaxis": {
            "backgroundcolor": "#E5ECF6",
            "gridcolor": "white",
            "gridwidth": 2,
            "linecolor": "white",
            "showbackground": true,
            "ticks": "",
            "zerolinecolor": "white"
           },
           "zaxis": {
            "backgroundcolor": "#E5ECF6",
            "gridcolor": "white",
            "gridwidth": 2,
            "linecolor": "white",
            "showbackground": true,
            "ticks": "",
            "zerolinecolor": "white"
           }
          },
          "shapedefaults": {
           "line": {
            "color": "#2a3f5f"
           }
          },
          "ternary": {
           "aaxis": {
            "gridcolor": "white",
            "linecolor": "white",
            "ticks": ""
           },
           "baxis": {
            "gridcolor": "white",
            "linecolor": "white",
            "ticks": ""
           },
           "bgcolor": "#E5ECF6",
           "caxis": {
            "gridcolor": "white",
            "linecolor": "white",
            "ticks": ""
           }
          },
          "title": {
           "x": 0.05
          },
          "xaxis": {
           "automargin": true,
           "gridcolor": "white",
           "linecolor": "white",
           "ticks": "",
           "title": {
            "standoff": 15
           },
           "zerolinecolor": "white",
           "zerolinewidth": 2
          },
          "yaxis": {
           "automargin": true,
           "gridcolor": "white",
           "linecolor": "white",
           "ticks": "",
           "title": {
            "standoff": 15
           },
           "zerolinecolor": "white",
           "zerolinewidth": 2
          }
         }
        },
        "title": {
         "text": "Most commited crimes by men"
        },
        "uniformtext": {
         "minsize": 6,
         "mode": "hide"
        },
        "width": 800,
        "xaxis": {
         "anchor": "y",
         "categoryarray": [
          "ACCION DE TUTELA",
          "CONTRA EL ORDEN ECONOMICO SOCIAL",
          "CONTRA EL PATRIMONIO ECONOMICO",
          "CONTRA EL REGIMEN CONSTITUCIONAL Y LEGAL",
          "CONTRA LA ADMINISTRACION PUBLICA",
          "CONTRA LA EFICAZ Y RECTA IMPARTICION DE JUSTICIA",
          "CONTRA LA EXISTENCIA Y SEGURIDAD DEL ESTADO",
          "CONTRA LA FAMILIA",
          "CONTRA LA FE PUBLICA",
          "CONTRA LA INTEGRIDAD MORAL",
          "CONTRA LA LIBERTAD INDIVIDUAL Y OTRAS GARANTIAS",
          "CONTRA LA LIBERTAD INTEGRIDAD Y FORMACION SEXUALES",
          "CONTRA LA SALUD PUBLICA",
          "CONTRA LA SEGURIDAD PUBLICA",
          "CONTRA LA VIDA Y LA INTEGRIDAD PERSONAL",
          "CONTRA LOS DERECHOS DE AUTOR",
          "CONTRA LOS RECURSOS NATURALES Y EL MEDIO AMBIENTE",
          "CONTRA MECANISMOS DE PARTICIPACION DEMOCRATICA",
          "CONTRA PERSONAS Y BIENES PROTEGIDOS POR EL DERECHO INTERNACIONAL HUMANITARIO",
          "DE LA PROTECCION DE LA INFORMACION Y DE LOS DATOS",
          "DELITOS CONTRA EL SERVICIO",
          "DELITOS CONTRA LA ADMINISTRACION PUBLICA",
          "DELITOS CONTRA LA DISCIPLINA",
          "DELITOS DE PARAMILITARISMO Y SICARIATO",
          "LEGISLACION INDIGENA"
         ],
         "categoryorder": "array",
         "domain": [
          0,
          1
         ],
         "tickangle": -45,
         "tickfont": {
          "color": "black",
          "family": "Rockwell",
          "size": 8
         },
         "title": {
          "text": "TITULO_DELITO"
         }
        },
        "yaxis": {
         "anchor": "x",
         "domain": [
          0,
          1
         ],
         "title": {
          "text": "Amount of recidivist crimes"
         }
        }
       }
      },
      "text/html": [
       "<div>\n",
       "        \n",
       "        \n",
       "            <div id=\"c39af173-348b-4cdf-b660-3adf6591ac5c\" class=\"plotly-graph-div\" style=\"height:700px; width:800px;\"></div>\n",
       "            <script type=\"text/javascript\">\n",
       "                require([\"plotly\"], function(Plotly) {\n",
       "                    window.PLOTLYENV=window.PLOTLYENV || {};\n",
       "                    \n",
       "                if (document.getElementById(\"c39af173-348b-4cdf-b660-3adf6591ac5c\")) {\n",
       "                    Plotly.newPlot(\n",
       "                        'c39af173-348b-4cdf-b660-3adf6591ac5c',\n",
       "                        [{\"alignmentgroup\": \"True\", \"customdata\": [[\"ACCION DE TUTELA\"]], \"hovertemplate\": \"TITULO_DELITO=%{customdata[0]}<br>Amount of recidivist crimes=%{text}<extra></extra>\", \"legendgroup\": \"ACCION DE TUTELA\", \"marker\": {\"color\": \"#636efa\"}, \"name\": \"ACCION DE TUTELA\", \"offsetgroup\": \"ACCION DE TUTELA\", \"orientation\": \"v\", \"showlegend\": true, \"text\": [4.0], \"textposition\": \"outside\", \"texttemplate\": \"%{text:.2s}\", \"type\": \"bar\", \"x\": [\"ACCION DE TUTELA\"], \"xaxis\": \"x\", \"y\": [4], \"yaxis\": \"y\"}, {\"alignmentgroup\": \"True\", \"customdata\": [[\"CONTRA EL ORDEN ECONOMICO SOCIAL\"]], \"hovertemplate\": \"TITULO_DELITO=%{customdata[0]}<br>Amount of recidivist crimes=%{text}<extra></extra>\", \"legendgroup\": \"CONTRA EL ORDEN ECONOMICO SOCIAL\", \"marker\": {\"color\": \"#EF553B\"}, \"name\": \"CONTRA EL ORDEN ECONOMICO SOCIAL\", \"offsetgroup\": \"CONTRA EL ORDEN ECONOMICO SOCIAL\", \"orientation\": \"v\", \"showlegend\": true, \"text\": [459.0], \"textposition\": \"outside\", \"texttemplate\": \"%{text:.2s}\", \"type\": \"bar\", \"x\": [\"CONTRA EL ORDEN ECONOMICO SOCIAL\"], \"xaxis\": \"x\", \"y\": [459], \"yaxis\": \"y\"}, {\"alignmentgroup\": \"True\", \"customdata\": [[\"CONTRA EL PATRIMONIO ECONOMICO\"]], \"hovertemplate\": \"TITULO_DELITO=%{customdata[0]}<br>Amount of recidivist crimes=%{text}<extra></extra>\", \"legendgroup\": \"CONTRA EL PATRIMONIO ECONOMICO\", \"marker\": {\"color\": \"#00cc96\"}, \"name\": \"CONTRA EL PATRIMONIO ECONOMICO\", \"offsetgroup\": \"CONTRA EL PATRIMONIO ECONOMICO\", \"orientation\": \"v\", \"showlegend\": true, \"text\": [53192.0], \"textposition\": \"outside\", \"texttemplate\": \"%{text:.2s}\", \"type\": \"bar\", \"x\": [\"CONTRA EL PATRIMONIO ECONOMICO\"], \"xaxis\": \"x\", \"y\": [53192], \"yaxis\": \"y\"}, {\"alignmentgroup\": \"True\", \"customdata\": [[\"CONTRA EL REGIMEN CONSTITUCIONAL Y LEGAL\"]], \"hovertemplate\": \"TITULO_DELITO=%{customdata[0]}<br>Amount of recidivist crimes=%{text}<extra></extra>\", \"legendgroup\": \"CONTRA EL REGIMEN CONSTITUCIONAL Y LEGAL\", \"marker\": {\"color\": \"#ab63fa\"}, \"name\": \"CONTRA EL REGIMEN CONSTITUCIONAL Y LEGAL\", \"offsetgroup\": \"CONTRA EL REGIMEN CONSTITUCIONAL Y LEGAL\", \"orientation\": \"v\", \"showlegend\": true, \"text\": [339.0], \"textposition\": \"outside\", \"texttemplate\": \"%{text:.2s}\", \"type\": \"bar\", \"x\": [\"CONTRA EL REGIMEN CONSTITUCIONAL Y LEGAL\"], \"xaxis\": \"x\", \"y\": [339], \"yaxis\": \"y\"}, {\"alignmentgroup\": \"True\", \"customdata\": [[\"CONTRA LA ADMINISTRACION PUBLICA\"]], \"hovertemplate\": \"TITULO_DELITO=%{customdata[0]}<br>Amount of recidivist crimes=%{text}<extra></extra>\", \"legendgroup\": \"CONTRA LA ADMINISTRACION PUBLICA\", \"marker\": {\"color\": \"#FFA15A\"}, \"name\": \"CONTRA LA ADMINISTRACION PUBLICA\", \"offsetgroup\": \"CONTRA LA ADMINISTRACION PUBLICA\", \"orientation\": \"v\", \"showlegend\": true, \"text\": [1218.0], \"textposition\": \"outside\", \"texttemplate\": \"%{text:.2s}\", \"type\": \"bar\", \"x\": [\"CONTRA LA ADMINISTRACION PUBLICA\"], \"xaxis\": \"x\", \"y\": [1218], \"yaxis\": \"y\"}, {\"alignmentgroup\": \"True\", \"customdata\": [[\"CONTRA LA EFICAZ Y RECTA IMPARTICION DE JUSTICIA\"]], \"hovertemplate\": \"TITULO_DELITO=%{customdata[0]}<br>Amount of recidivist crimes=%{text}<extra></extra>\", \"legendgroup\": \"CONTRA LA EFICAZ Y RECTA IMPARTICION DE JUSTICIA\", \"marker\": {\"color\": \"#19d3f3\"}, \"name\": \"CONTRA LA EFICAZ Y RECTA IMPARTICION DE JUSTICIA\", \"offsetgroup\": \"CONTRA LA EFICAZ Y RECTA IMPARTICION DE JUSTICIA\", \"orientation\": \"v\", \"showlegend\": true, \"text\": [2855.0], \"textposition\": \"outside\", \"texttemplate\": \"%{text:.2s}\", \"type\": \"bar\", \"x\": [\"CONTRA LA EFICAZ Y RECTA IMPARTICION DE JUSTICIA\"], \"xaxis\": \"x\", \"y\": [2855], \"yaxis\": \"y\"}, {\"alignmentgroup\": \"True\", \"customdata\": [[\"CONTRA LA EXISTENCIA Y SEGURIDAD DEL ESTADO\"]], \"hovertemplate\": \"TITULO_DELITO=%{customdata[0]}<br>Amount of recidivist crimes=%{text}<extra></extra>\", \"legendgroup\": \"CONTRA LA EXISTENCIA Y SEGURIDAD DEL ESTADO\", \"marker\": {\"color\": \"#FF6692\"}, \"name\": \"CONTRA LA EXISTENCIA Y SEGURIDAD DEL ESTADO\", \"offsetgroup\": \"CONTRA LA EXISTENCIA Y SEGURIDAD DEL ESTADO\", \"orientation\": \"v\", \"showlegend\": true, \"text\": [1.0], \"textposition\": \"outside\", \"texttemplate\": \"%{text:.2s}\", \"type\": \"bar\", \"x\": [\"CONTRA LA EXISTENCIA Y SEGURIDAD DEL ESTADO\"], \"xaxis\": \"x\", \"y\": [1], \"yaxis\": \"y\"}, {\"alignmentgroup\": \"True\", \"customdata\": [[\"CONTRA LA FAMILIA\"]], \"hovertemplate\": \"TITULO_DELITO=%{customdata[0]}<br>Amount of recidivist crimes=%{text}<extra></extra>\", \"legendgroup\": \"CONTRA LA FAMILIA\", \"marker\": {\"color\": \"#B6E880\"}, \"name\": \"CONTRA LA FAMILIA\", \"offsetgroup\": \"CONTRA LA FAMILIA\", \"orientation\": \"v\", \"showlegend\": true, \"text\": [3632.0], \"textposition\": \"outside\", \"texttemplate\": \"%{text:.2s}\", \"type\": \"bar\", \"x\": [\"CONTRA LA FAMILIA\"], \"xaxis\": \"x\", \"y\": [3632], \"yaxis\": \"y\"}, {\"alignmentgroup\": \"True\", \"customdata\": [[\"CONTRA LA FE PUBLICA\"]], \"hovertemplate\": \"TITULO_DELITO=%{customdata[0]}<br>Amount of recidivist crimes=%{text}<extra></extra>\", \"legendgroup\": \"CONTRA LA FE PUBLICA\", \"marker\": {\"color\": \"#FF97FF\"}, \"name\": \"CONTRA LA FE PUBLICA\", \"offsetgroup\": \"CONTRA LA FE PUBLICA\", \"orientation\": \"v\", \"showlegend\": true, \"text\": [2025.0], \"textposition\": \"outside\", \"texttemplate\": \"%{text:.2s}\", \"type\": \"bar\", \"x\": [\"CONTRA LA FE PUBLICA\"], \"xaxis\": \"x\", \"y\": [2025], \"yaxis\": \"y\"}, {\"alignmentgroup\": \"True\", \"customdata\": [[\"CONTRA LA INTEGRIDAD MORAL\"]], \"hovertemplate\": \"TITULO_DELITO=%{customdata[0]}<br>Amount of recidivist crimes=%{text}<extra></extra>\", \"legendgroup\": \"CONTRA LA INTEGRIDAD MORAL\", \"marker\": {\"color\": \"#FECB52\"}, \"name\": \"CONTRA LA INTEGRIDAD MORAL\", \"offsetgroup\": \"CONTRA LA INTEGRIDAD MORAL\", \"orientation\": \"v\", \"showlegend\": true, \"text\": [23.0], \"textposition\": \"outside\", \"texttemplate\": \"%{text:.2s}\", \"type\": \"bar\", \"x\": [\"CONTRA LA INTEGRIDAD MORAL\"], \"xaxis\": \"x\", \"y\": [23], \"yaxis\": \"y\"}, {\"alignmentgroup\": \"True\", \"customdata\": [[\"CONTRA LA LIBERTAD INDIVIDUAL Y OTRAS GARANTIAS\"]], \"hovertemplate\": \"TITULO_DELITO=%{customdata[0]}<br>Amount of recidivist crimes=%{text}<extra></extra>\", \"legendgroup\": \"CONTRA LA LIBERTAD INDIVIDUAL Y OTRAS GARANTIAS\", \"marker\": {\"color\": \"#636efa\"}, \"name\": \"CONTRA LA LIBERTAD INDIVIDUAL Y OTRAS GARANTIAS\", \"offsetgroup\": \"CONTRA LA LIBERTAD INDIVIDUAL Y OTRAS GARANTIAS\", \"orientation\": \"v\", \"showlegend\": true, \"text\": [2713.0], \"textposition\": \"outside\", \"texttemplate\": \"%{text:.2s}\", \"type\": \"bar\", \"x\": [\"CONTRA LA LIBERTAD INDIVIDUAL Y OTRAS GARANTIAS\"], \"xaxis\": \"x\", \"y\": [2713], \"yaxis\": \"y\"}, {\"alignmentgroup\": \"True\", \"customdata\": [[\"CONTRA LA LIBERTAD INTEGRIDAD Y FORMACION SEXUALES\"]], \"hovertemplate\": \"TITULO_DELITO=%{customdata[0]}<br>Amount of recidivist crimes=%{text}<extra></extra>\", \"legendgroup\": \"CONTRA LA LIBERTAD INTEGRIDAD Y FORMACION SEXUALES\", \"marker\": {\"color\": \"#EF553B\"}, \"name\": \"CONTRA LA LIBERTAD INTEGRIDAD Y FORMACION SEXUALES\", \"offsetgroup\": \"CONTRA LA LIBERTAD INTEGRIDAD Y FORMACION SEXUALES\", \"orientation\": \"v\", \"showlegend\": true, \"text\": [2802.0], \"textposition\": \"outside\", \"texttemplate\": \"%{text:.2s}\", \"type\": \"bar\", \"x\": [\"CONTRA LA LIBERTAD INTEGRIDAD Y FORMACION SEXUALES\"], \"xaxis\": \"x\", \"y\": [2802], \"yaxis\": \"y\"}, {\"alignmentgroup\": \"True\", \"customdata\": [[\"CONTRA LA SALUD PUBLICA\"]], \"hovertemplate\": \"TITULO_DELITO=%{customdata[0]}<br>Amount of recidivist crimes=%{text}<extra></extra>\", \"legendgroup\": \"CONTRA LA SALUD PUBLICA\", \"marker\": {\"color\": \"#00cc96\"}, \"name\": \"CONTRA LA SALUD PUBLICA\", \"offsetgroup\": \"CONTRA LA SALUD PUBLICA\", \"orientation\": \"v\", \"showlegend\": true, \"text\": [20503.0], \"textposition\": \"outside\", \"texttemplate\": \"%{text:.2s}\", \"type\": \"bar\", \"x\": [\"CONTRA LA SALUD PUBLICA\"], \"xaxis\": \"x\", \"y\": [20503], \"yaxis\": \"y\"}, {\"alignmentgroup\": \"True\", \"customdata\": [[\"CONTRA LA SEGURIDAD PUBLICA\"]], \"hovertemplate\": \"TITULO_DELITO=%{customdata[0]}<br>Amount of recidivist crimes=%{text}<extra></extra>\", \"legendgroup\": \"CONTRA LA SEGURIDAD PUBLICA\", \"marker\": {\"color\": \"#ab63fa\"}, \"name\": \"CONTRA LA SEGURIDAD PUBLICA\", \"offsetgroup\": \"CONTRA LA SEGURIDAD PUBLICA\", \"orientation\": \"v\", \"showlegend\": true, \"text\": [29903.0], \"textposition\": \"outside\", \"texttemplate\": \"%{text:.2s}\", \"type\": \"bar\", \"x\": [\"CONTRA LA SEGURIDAD PUBLICA\"], \"xaxis\": \"x\", \"y\": [29903], \"yaxis\": \"y\"}, {\"alignmentgroup\": \"True\", \"customdata\": [[\"CONTRA LA VIDA Y LA INTEGRIDAD PERSONAL\"]], \"hovertemplate\": \"TITULO_DELITO=%{customdata[0]}<br>Amount of recidivist crimes=%{text}<extra></extra>\", \"legendgroup\": \"CONTRA LA VIDA Y LA INTEGRIDAD PERSONAL\", \"marker\": {\"color\": \"#FFA15A\"}, \"name\": \"CONTRA LA VIDA Y LA INTEGRIDAD PERSONAL\", \"offsetgroup\": \"CONTRA LA VIDA Y LA INTEGRIDAD PERSONAL\", \"orientation\": \"v\", \"showlegend\": true, \"text\": [10942.0], \"textposition\": \"outside\", \"texttemplate\": \"%{text:.2s}\", \"type\": \"bar\", \"x\": [\"CONTRA LA VIDA Y LA INTEGRIDAD PERSONAL\"], \"xaxis\": \"x\", \"y\": [10942], \"yaxis\": \"y\"}, {\"alignmentgroup\": \"True\", \"customdata\": [[\"CONTRA LOS DERECHOS DE AUTOR\"]], \"hovertemplate\": \"TITULO_DELITO=%{customdata[0]}<br>Amount of recidivist crimes=%{text}<extra></extra>\", \"legendgroup\": \"CONTRA LOS DERECHOS DE AUTOR\", \"marker\": {\"color\": \"#19d3f3\"}, \"name\": \"CONTRA LOS DERECHOS DE AUTOR\", \"offsetgroup\": \"CONTRA LOS DERECHOS DE AUTOR\", \"orientation\": \"v\", \"showlegend\": true, \"text\": [25.0], \"textposition\": \"outside\", \"texttemplate\": \"%{text:.2s}\", \"type\": \"bar\", \"x\": [\"CONTRA LOS DERECHOS DE AUTOR\"], \"xaxis\": \"x\", \"y\": [25], \"yaxis\": \"y\"}, {\"alignmentgroup\": \"True\", \"customdata\": [[\"CONTRA LOS RECURSOS NATURALES Y EL MEDIO AMBIENTE\"]], \"hovertemplate\": \"TITULO_DELITO=%{customdata[0]}<br>Amount of recidivist crimes=%{text}<extra></extra>\", \"legendgroup\": \"CONTRA LOS RECURSOS NATURALES Y EL MEDIO AMBIENTE\", \"marker\": {\"color\": \"#FF6692\"}, \"name\": \"CONTRA LOS RECURSOS NATURALES Y EL MEDIO AMBIENTE\", \"offsetgroup\": \"CONTRA LOS RECURSOS NATURALES Y EL MEDIO AMBIENTE\", \"orientation\": \"v\", \"showlegend\": true, \"text\": [242.0], \"textposition\": \"outside\", \"texttemplate\": \"%{text:.2s}\", \"type\": \"bar\", \"x\": [\"CONTRA LOS RECURSOS NATURALES Y EL MEDIO AMBIENTE\"], \"xaxis\": \"x\", \"y\": [242], \"yaxis\": \"y\"}, {\"alignmentgroup\": \"True\", \"customdata\": [[\"CONTRA MECANISMOS DE PARTICIPACION DEMOCRATICA\"]], \"hovertemplate\": \"TITULO_DELITO=%{customdata[0]}<br>Amount of recidivist crimes=%{text}<extra></extra>\", \"legendgroup\": \"CONTRA MECANISMOS DE PARTICIPACION DEMOCRATICA\", \"marker\": {\"color\": \"#B6E880\"}, \"name\": \"CONTRA MECANISMOS DE PARTICIPACION DEMOCRATICA\", \"offsetgroup\": \"CONTRA MECANISMOS DE PARTICIPACION DEMOCRATICA\", \"orientation\": \"v\", \"showlegend\": true, \"text\": [16.0], \"textposition\": \"outside\", \"texttemplate\": \"%{text:.2s}\", \"type\": \"bar\", \"x\": [\"CONTRA MECANISMOS DE PARTICIPACION DEMOCRATICA\"], \"xaxis\": \"x\", \"y\": [16], \"yaxis\": \"y\"}, {\"alignmentgroup\": \"True\", \"customdata\": [[\"CONTRA PERSONAS Y BIENES PROTEGIDOS POR EL DERECHO INTERNACIONAL HUMANITARIO\"]], \"hovertemplate\": \"TITULO_DELITO=%{customdata[0]}<br>Amount of recidivist crimes=%{text}<extra></extra>\", \"legendgroup\": \"CONTRA PERSONAS Y BIENES PROTEGIDOS POR EL DERECHO INTERNACIONAL HUMANITARIO\", \"marker\": {\"color\": \"#FF97FF\"}, \"name\": \"CONTRA PERSONAS Y BIENES PROTEGIDOS POR EL DERECHO INTERNACIONAL HUMANITARIO\", \"offsetgroup\": \"CONTRA PERSONAS Y BIENES PROTEGIDOS POR EL DERECHO INTERNACIONAL HUMANITARIO\", \"orientation\": \"v\", \"showlegend\": true, \"text\": [140.0], \"textposition\": \"outside\", \"texttemplate\": \"%{text:.2s}\", \"type\": \"bar\", \"x\": [\"CONTRA PERSONAS Y BIENES PROTEGIDOS POR EL DERECHO INTERNACIONAL HUMANITARIO\"], \"xaxis\": \"x\", \"y\": [140], \"yaxis\": \"y\"}, {\"alignmentgroup\": \"True\", \"customdata\": [[\"DE LA PROTECCION DE LA INFORMACION Y DE LOS DATOS\"]], \"hovertemplate\": \"TITULO_DELITO=%{customdata[0]}<br>Amount of recidivist crimes=%{text}<extra></extra>\", \"legendgroup\": \"DE LA PROTECCION DE LA INFORMACION Y DE LOS DATOS\", \"marker\": {\"color\": \"#FECB52\"}, \"name\": \"DE LA PROTECCION DE LA INFORMACION Y DE LOS DATOS\", \"offsetgroup\": \"DE LA PROTECCION DE LA INFORMACION Y DE LOS DATOS\", \"orientation\": \"v\", \"showlegend\": true, \"text\": [280.0], \"textposition\": \"outside\", \"texttemplate\": \"%{text:.2s}\", \"type\": \"bar\", \"x\": [\"DE LA PROTECCION DE LA INFORMACION Y DE LOS DATOS\"], \"xaxis\": \"x\", \"y\": [280], \"yaxis\": \"y\"}, {\"alignmentgroup\": \"True\", \"customdata\": [[\"DELITOS CONTRA EL SERVICIO\"]], \"hovertemplate\": \"TITULO_DELITO=%{customdata[0]}<br>Amount of recidivist crimes=%{text}<extra></extra>\", \"legendgroup\": \"DELITOS CONTRA EL SERVICIO\", \"marker\": {\"color\": \"#636efa\"}, \"name\": \"DELITOS CONTRA EL SERVICIO\", \"offsetgroup\": \"DELITOS CONTRA EL SERVICIO\", \"orientation\": \"v\", \"showlegend\": true, \"text\": [144.0], \"textposition\": \"outside\", \"texttemplate\": \"%{text:.2s}\", \"type\": \"bar\", \"x\": [\"DELITOS CONTRA EL SERVICIO\"], \"xaxis\": \"x\", \"y\": [144], \"yaxis\": \"y\"}, {\"alignmentgroup\": \"True\", \"customdata\": [[\"DELITOS CONTRA LA ADMINISTRACION PUBLICA\"]], \"hovertemplate\": \"TITULO_DELITO=%{customdata[0]}<br>Amount of recidivist crimes=%{text}<extra></extra>\", \"legendgroup\": \"DELITOS CONTRA LA ADMINISTRACION PUBLICA\", \"marker\": {\"color\": \"#EF553B\"}, \"name\": \"DELITOS CONTRA LA ADMINISTRACION PUBLICA\", \"offsetgroup\": \"DELITOS CONTRA LA ADMINISTRACION PUBLICA\", \"orientation\": \"v\", \"showlegend\": true, \"text\": [2.0], \"textposition\": \"outside\", \"texttemplate\": \"%{text:.2s}\", \"type\": \"bar\", \"x\": [\"DELITOS CONTRA LA ADMINISTRACION PUBLICA\"], \"xaxis\": \"x\", \"y\": [2], \"yaxis\": \"y\"}, {\"alignmentgroup\": \"True\", \"customdata\": [[\"DELITOS CONTRA LA DISCIPLINA\"]], \"hovertemplate\": \"TITULO_DELITO=%{customdata[0]}<br>Amount of recidivist crimes=%{text}<extra></extra>\", \"legendgroup\": \"DELITOS CONTRA LA DISCIPLINA\", \"marker\": {\"color\": \"#00cc96\"}, \"name\": \"DELITOS CONTRA LA DISCIPLINA\", \"offsetgroup\": \"DELITOS CONTRA LA DISCIPLINA\", \"orientation\": \"v\", \"showlegend\": true, \"text\": [5.0], \"textposition\": \"outside\", \"texttemplate\": \"%{text:.2s}\", \"type\": \"bar\", \"x\": [\"DELITOS CONTRA LA DISCIPLINA\"], \"xaxis\": \"x\", \"y\": [5], \"yaxis\": \"y\"}, {\"alignmentgroup\": \"True\", \"customdata\": [[\"DELITOS DE PARAMILITARISMO Y SICARIATO\"]], \"hovertemplate\": \"TITULO_DELITO=%{customdata[0]}<br>Amount of recidivist crimes=%{text}<extra></extra>\", \"legendgroup\": \"DELITOS DE PARAMILITARISMO Y SICARIATO\", \"marker\": {\"color\": \"#ab63fa\"}, \"name\": \"DELITOS DE PARAMILITARISMO Y SICARIATO\", \"offsetgroup\": \"DELITOS DE PARAMILITARISMO Y SICARIATO\", \"orientation\": \"v\", \"showlegend\": true, \"text\": [9.0], \"textposition\": \"outside\", \"texttemplate\": \"%{text:.2s}\", \"type\": \"bar\", \"x\": [\"DELITOS DE PARAMILITARISMO Y SICARIATO\"], \"xaxis\": \"x\", \"y\": [9], \"yaxis\": \"y\"}, {\"alignmentgroup\": \"True\", \"customdata\": [[\"LEGISLACION INDIGENA\"]], \"hovertemplate\": \"TITULO_DELITO=%{customdata[0]}<br>Amount of recidivist crimes=%{text}<extra></extra>\", \"legendgroup\": \"LEGISLACION INDIGENA\", \"marker\": {\"color\": \"#FFA15A\"}, \"name\": \"LEGISLACION INDIGENA\", \"offsetgroup\": \"LEGISLACION INDIGENA\", \"orientation\": \"v\", \"showlegend\": true, \"text\": [11.0], \"textposition\": \"outside\", \"texttemplate\": \"%{text:.2s}\", \"type\": \"bar\", \"x\": [\"LEGISLACION INDIGENA\"], \"xaxis\": \"x\", \"y\": [11], \"yaxis\": \"y\"}],\n",
       "                        {\"autosize\": false, \"barmode\": \"stack\", \"height\": 700, \"legend\": {\"title\": {\"text\": \"TITULO_DELITO\"}, \"tracegroupgap\": 0}, \"margin\": {\"b\": 100, \"l\": 50, \"pad\": 4, \"r\": 50, \"t\": 100}, \"showlegend\": false, \"template\": {\"data\": {\"bar\": [{\"error_x\": {\"color\": \"#2a3f5f\"}, \"error_y\": {\"color\": \"#2a3f5f\"}, \"marker\": {\"line\": {\"color\": \"#E5ECF6\", \"width\": 0.5}}, \"type\": \"bar\"}], \"barpolar\": [{\"marker\": {\"line\": {\"color\": \"#E5ECF6\", \"width\": 0.5}}, \"type\": \"barpolar\"}], \"carpet\": [{\"aaxis\": {\"endlinecolor\": \"#2a3f5f\", \"gridcolor\": \"white\", \"linecolor\": \"white\", \"minorgridcolor\": \"white\", \"startlinecolor\": \"#2a3f5f\"}, \"baxis\": {\"endlinecolor\": \"#2a3f5f\", \"gridcolor\": \"white\", \"linecolor\": \"white\", \"minorgridcolor\": \"white\", \"startlinecolor\": \"#2a3f5f\"}, \"type\": \"carpet\"}], \"choropleth\": [{\"colorbar\": {\"outlinewidth\": 0, \"ticks\": \"\"}, \"type\": \"choropleth\"}], \"contour\": [{\"colorbar\": {\"outlinewidth\": 0, \"ticks\": \"\"}, \"colorscale\": [[0.0, \"#0d0887\"], [0.1111111111111111, \"#46039f\"], [0.2222222222222222, \"#7201a8\"], [0.3333333333333333, \"#9c179e\"], [0.4444444444444444, \"#bd3786\"], [0.5555555555555556, \"#d8576b\"], [0.6666666666666666, \"#ed7953\"], [0.7777777777777778, \"#fb9f3a\"], [0.8888888888888888, \"#fdca26\"], [1.0, \"#f0f921\"]], \"type\": \"contour\"}], \"contourcarpet\": [{\"colorbar\": {\"outlinewidth\": 0, \"ticks\": \"\"}, \"type\": \"contourcarpet\"}], \"heatmap\": [{\"colorbar\": {\"outlinewidth\": 0, \"ticks\": \"\"}, \"colorscale\": [[0.0, \"#0d0887\"], [0.1111111111111111, \"#46039f\"], [0.2222222222222222, \"#7201a8\"], [0.3333333333333333, \"#9c179e\"], [0.4444444444444444, \"#bd3786\"], [0.5555555555555556, \"#d8576b\"], [0.6666666666666666, \"#ed7953\"], [0.7777777777777778, \"#fb9f3a\"], [0.8888888888888888, \"#fdca26\"], [1.0, \"#f0f921\"]], \"type\": \"heatmap\"}], \"heatmapgl\": [{\"colorbar\": {\"outlinewidth\": 0, \"ticks\": \"\"}, \"colorscale\": [[0.0, \"#0d0887\"], [0.1111111111111111, \"#46039f\"], [0.2222222222222222, \"#7201a8\"], [0.3333333333333333, \"#9c179e\"], [0.4444444444444444, \"#bd3786\"], [0.5555555555555556, \"#d8576b\"], [0.6666666666666666, \"#ed7953\"], [0.7777777777777778, \"#fb9f3a\"], [0.8888888888888888, \"#fdca26\"], [1.0, \"#f0f921\"]], \"type\": \"heatmapgl\"}], \"histogram\": [{\"marker\": {\"colorbar\": {\"outlinewidth\": 0, \"ticks\": \"\"}}, \"type\": \"histogram\"}], \"histogram2d\": [{\"colorbar\": {\"outlinewidth\": 0, \"ticks\": \"\"}, \"colorscale\": [[0.0, \"#0d0887\"], [0.1111111111111111, \"#46039f\"], [0.2222222222222222, \"#7201a8\"], [0.3333333333333333, \"#9c179e\"], [0.4444444444444444, \"#bd3786\"], [0.5555555555555556, \"#d8576b\"], [0.6666666666666666, \"#ed7953\"], [0.7777777777777778, \"#fb9f3a\"], [0.8888888888888888, \"#fdca26\"], [1.0, \"#f0f921\"]], \"type\": \"histogram2d\"}], \"histogram2dcontour\": [{\"colorbar\": {\"outlinewidth\": 0, \"ticks\": \"\"}, \"colorscale\": [[0.0, \"#0d0887\"], [0.1111111111111111, \"#46039f\"], [0.2222222222222222, \"#7201a8\"], [0.3333333333333333, \"#9c179e\"], [0.4444444444444444, \"#bd3786\"], [0.5555555555555556, \"#d8576b\"], [0.6666666666666666, \"#ed7953\"], [0.7777777777777778, \"#fb9f3a\"], [0.8888888888888888, \"#fdca26\"], [1.0, \"#f0f921\"]], \"type\": \"histogram2dcontour\"}], \"mesh3d\": [{\"colorbar\": {\"outlinewidth\": 0, \"ticks\": \"\"}, \"type\": \"mesh3d\"}], \"parcoords\": [{\"line\": {\"colorbar\": {\"outlinewidth\": 0, \"ticks\": \"\"}}, \"type\": \"parcoords\"}], \"pie\": [{\"automargin\": true, \"type\": \"pie\"}], \"scatter\": [{\"marker\": {\"colorbar\": {\"outlinewidth\": 0, \"ticks\": \"\"}}, \"type\": \"scatter\"}], \"scatter3d\": [{\"line\": {\"colorbar\": {\"outlinewidth\": 0, \"ticks\": \"\"}}, \"marker\": {\"colorbar\": {\"outlinewidth\": 0, \"ticks\": \"\"}}, \"type\": \"scatter3d\"}], \"scattercarpet\": [{\"marker\": {\"colorbar\": {\"outlinewidth\": 0, \"ticks\": \"\"}}, \"type\": \"scattercarpet\"}], \"scattergeo\": [{\"marker\": {\"colorbar\": {\"outlinewidth\": 0, \"ticks\": \"\"}}, \"type\": \"scattergeo\"}], \"scattergl\": [{\"marker\": {\"colorbar\": {\"outlinewidth\": 0, \"ticks\": \"\"}}, \"type\": \"scattergl\"}], \"scattermapbox\": [{\"marker\": {\"colorbar\": {\"outlinewidth\": 0, \"ticks\": \"\"}}, \"type\": \"scattermapbox\"}], \"scatterpolar\": [{\"marker\": {\"colorbar\": {\"outlinewidth\": 0, \"ticks\": \"\"}}, \"type\": \"scatterpolar\"}], \"scatterpolargl\": [{\"marker\": {\"colorbar\": {\"outlinewidth\": 0, \"ticks\": \"\"}}, \"type\": \"scatterpolargl\"}], \"scatterternary\": [{\"marker\": {\"colorbar\": {\"outlinewidth\": 0, \"ticks\": \"\"}}, \"type\": \"scatterternary\"}], \"surface\": [{\"colorbar\": {\"outlinewidth\": 0, \"ticks\": \"\"}, \"colorscale\": [[0.0, \"#0d0887\"], [0.1111111111111111, \"#46039f\"], [0.2222222222222222, \"#7201a8\"], [0.3333333333333333, \"#9c179e\"], [0.4444444444444444, \"#bd3786\"], [0.5555555555555556, \"#d8576b\"], [0.6666666666666666, \"#ed7953\"], [0.7777777777777778, \"#fb9f3a\"], [0.8888888888888888, \"#fdca26\"], [1.0, \"#f0f921\"]], \"type\": \"surface\"}], \"table\": [{\"cells\": {\"fill\": {\"color\": \"#EBF0F8\"}, \"line\": {\"color\": \"white\"}}, \"header\": {\"fill\": {\"color\": \"#C8D4E3\"}, \"line\": {\"color\": \"white\"}}, \"type\": \"table\"}]}, \"layout\": {\"annotationdefaults\": {\"arrowcolor\": \"#2a3f5f\", \"arrowhead\": 0, \"arrowwidth\": 1}, \"coloraxis\": {\"colorbar\": {\"outlinewidth\": 0, \"ticks\": \"\"}}, \"colorscale\": {\"diverging\": [[0, \"#8e0152\"], [0.1, \"#c51b7d\"], [0.2, \"#de77ae\"], [0.3, \"#f1b6da\"], [0.4, \"#fde0ef\"], [0.5, \"#f7f7f7\"], [0.6, \"#e6f5d0\"], [0.7, \"#b8e186\"], [0.8, \"#7fbc41\"], [0.9, \"#4d9221\"], [1, \"#276419\"]], \"sequential\": [[0.0, \"#0d0887\"], [0.1111111111111111, \"#46039f\"], [0.2222222222222222, \"#7201a8\"], [0.3333333333333333, \"#9c179e\"], [0.4444444444444444, \"#bd3786\"], [0.5555555555555556, \"#d8576b\"], [0.6666666666666666, \"#ed7953\"], [0.7777777777777778, \"#fb9f3a\"], [0.8888888888888888, \"#fdca26\"], [1.0, \"#f0f921\"]], \"sequentialminus\": [[0.0, \"#0d0887\"], [0.1111111111111111, \"#46039f\"], [0.2222222222222222, \"#7201a8\"], [0.3333333333333333, \"#9c179e\"], [0.4444444444444444, \"#bd3786\"], [0.5555555555555556, \"#d8576b\"], [0.6666666666666666, \"#ed7953\"], [0.7777777777777778, \"#fb9f3a\"], [0.8888888888888888, \"#fdca26\"], [1.0, \"#f0f921\"]]}, \"colorway\": [\"#636efa\", \"#EF553B\", \"#00cc96\", \"#ab63fa\", \"#FFA15A\", \"#19d3f3\", \"#FF6692\", \"#B6E880\", \"#FF97FF\", \"#FECB52\"], \"font\": {\"color\": \"#2a3f5f\"}, \"geo\": {\"bgcolor\": \"white\", \"lakecolor\": \"white\", \"landcolor\": \"#E5ECF6\", \"showlakes\": true, \"showland\": true, \"subunitcolor\": \"white\"}, \"hoverlabel\": {\"align\": \"left\"}, \"hovermode\": \"closest\", \"mapbox\": {\"style\": \"light\"}, \"paper_bgcolor\": \"white\", \"plot_bgcolor\": \"#E5ECF6\", \"polar\": {\"angularaxis\": {\"gridcolor\": \"white\", \"linecolor\": \"white\", \"ticks\": \"\"}, \"bgcolor\": \"#E5ECF6\", \"radialaxis\": {\"gridcolor\": \"white\", \"linecolor\": \"white\", \"ticks\": \"\"}}, \"scene\": {\"xaxis\": {\"backgroundcolor\": \"#E5ECF6\", \"gridcolor\": \"white\", \"gridwidth\": 2, \"linecolor\": \"white\", \"showbackground\": true, \"ticks\": \"\", \"zerolinecolor\": \"white\"}, \"yaxis\": {\"backgroundcolor\": \"#E5ECF6\", \"gridcolor\": \"white\", \"gridwidth\": 2, \"linecolor\": \"white\", \"showbackground\": true, \"ticks\": \"\", \"zerolinecolor\": \"white\"}, \"zaxis\": {\"backgroundcolor\": \"#E5ECF6\", \"gridcolor\": \"white\", \"gridwidth\": 2, \"linecolor\": \"white\", \"showbackground\": true, \"ticks\": \"\", \"zerolinecolor\": \"white\"}}, \"shapedefaults\": {\"line\": {\"color\": \"#2a3f5f\"}}, \"ternary\": {\"aaxis\": {\"gridcolor\": \"white\", \"linecolor\": \"white\", \"ticks\": \"\"}, \"baxis\": {\"gridcolor\": \"white\", \"linecolor\": \"white\", \"ticks\": \"\"}, \"bgcolor\": \"#E5ECF6\", \"caxis\": {\"gridcolor\": \"white\", \"linecolor\": \"white\", \"ticks\": \"\"}}, \"title\": {\"x\": 0.05}, \"xaxis\": {\"automargin\": true, \"gridcolor\": \"white\", \"linecolor\": \"white\", \"ticks\": \"\", \"title\": {\"standoff\": 15}, \"zerolinecolor\": \"white\", \"zerolinewidth\": 2}, \"yaxis\": {\"automargin\": true, \"gridcolor\": \"white\", \"linecolor\": \"white\", \"ticks\": \"\", \"title\": {\"standoff\": 15}, \"zerolinecolor\": \"white\", \"zerolinewidth\": 2}}}, \"title\": {\"text\": \"Most commited crimes by men\"}, \"uniformtext\": {\"minsize\": 6, \"mode\": \"hide\"}, \"width\": 800, \"xaxis\": {\"anchor\": \"y\", \"categoryarray\": [\"ACCION DE TUTELA\", \"CONTRA EL ORDEN ECONOMICO SOCIAL\", \"CONTRA EL PATRIMONIO ECONOMICO\", \"CONTRA EL REGIMEN CONSTITUCIONAL Y LEGAL\", \"CONTRA LA ADMINISTRACION PUBLICA\", \"CONTRA LA EFICAZ Y RECTA IMPARTICION DE JUSTICIA\", \"CONTRA LA EXISTENCIA Y SEGURIDAD DEL ESTADO\", \"CONTRA LA FAMILIA\", \"CONTRA LA FE PUBLICA\", \"CONTRA LA INTEGRIDAD MORAL\", \"CONTRA LA LIBERTAD INDIVIDUAL Y OTRAS GARANTIAS\", \"CONTRA LA LIBERTAD INTEGRIDAD Y FORMACION SEXUALES\", \"CONTRA LA SALUD PUBLICA\", \"CONTRA LA SEGURIDAD PUBLICA\", \"CONTRA LA VIDA Y LA INTEGRIDAD PERSONAL\", \"CONTRA LOS DERECHOS DE AUTOR\", \"CONTRA LOS RECURSOS NATURALES Y EL MEDIO AMBIENTE\", \"CONTRA MECANISMOS DE PARTICIPACION DEMOCRATICA\", \"CONTRA PERSONAS Y BIENES PROTEGIDOS POR EL DERECHO INTERNACIONAL HUMANITARIO\", \"DE LA PROTECCION DE LA INFORMACION Y DE LOS DATOS\", \"DELITOS CONTRA EL SERVICIO\", \"DELITOS CONTRA LA ADMINISTRACION PUBLICA\", \"DELITOS CONTRA LA DISCIPLINA\", \"DELITOS DE PARAMILITARISMO Y SICARIATO\", \"LEGISLACION INDIGENA\"], \"categoryorder\": \"array\", \"domain\": [0.0, 1.0], \"tickangle\": -45, \"tickfont\": {\"color\": \"black\", \"family\": \"Rockwell\", \"size\": 8}, \"title\": {\"text\": \"TITULO_DELITO\"}}, \"yaxis\": {\"anchor\": \"x\", \"domain\": [0.0, 1.0], \"title\": {\"text\": \"Amount of recidivist crimes\"}}},\n",
       "                        {\"responsive\": true}\n",
       "                    ).then(function(){\n",
       "                            \n",
       "var gd = document.getElementById('c39af173-348b-4cdf-b660-3adf6591ac5c');\n",
       "var x = new MutationObserver(function (mutations, observer) {{\n",
       "        var display = window.getComputedStyle(gd).display;\n",
       "        if (!display || display === 'none') {{\n",
       "            console.log([gd, 'removed!']);\n",
       "            Plotly.purge(gd);\n",
       "            observer.disconnect();\n",
       "        }}\n",
       "}});\n",
       "\n",
       "// Listen for the removal of the full notebook cells\n",
       "var notebookContainer = gd.closest('#notebook-container');\n",
       "if (notebookContainer) {{\n",
       "    x.observe(notebookContainer, {childList: true});\n",
       "}}\n",
       "\n",
       "// Listen for the clearing of the current output cell\n",
       "var outputEl = gd.closest('.output');\n",
       "if (outputEl) {{\n",
       "    x.observe(outputEl, {childList: true});\n",
       "}}\n",
       "\n",
       "                        })\n",
       "                };\n",
       "                });\n",
       "            </script>\n",
       "        </div>"
      ]
     },
     "metadata": {},
     "output_type": "display_data"
    }
   ],
   "source": [
    "fig = px.bar(df_genero[df_genero[\"GENERO\"]==\"MASCULINO\"], x='TITULO_DELITO', y='INTERNOEN',\n",
    "             hover_data=['TITULO_DELITO'], color='TITULO_DELITO',\n",
    "             labels={'INTERNOEN':'Amount of recidivist crimes'}, height=400, barmode='stack', text=\"INTERNOEN\")\n",
    "fig.update_traces(texttemplate='%{text:.2s}', textposition='outside')\n",
    "fig.update_layout(uniformtext_minsize=6, uniformtext_mode='hide', xaxis_tickangle=-45, showlegend=False, autosize=False,\n",
    "                 width=800, height=700, margin=dict(l=50, r=50, b=100, t=100, pad=4 ),\n",
    "                  title=\"Most commited crimes by men\",\n",
    "                 )\n",
    "fig.update_xaxes( tickfont=dict(family='Rockwell', color='black', size=8)) #tickangle=45,\n",
    "\n",
    "fig.show()"
   ]
  },
  {
   "cell_type": "code",
   "execution_count": 35,
   "metadata": {},
   "outputs": [
    {
     "data": {
      "application/vnd.plotly.v1+json": {
       "config": {
        "plotlyServerURL": "https://plot.ly"
       },
       "data": [
        {
         "alignmentgroup": "True",
         "customdata": [
          [
           "CONTRA EL ORDEN ECONOMICO SOCIAL"
          ]
         ],
         "hovertemplate": "TITULO_DELITO=%{customdata[0]}<br>Amount of recidivist crimes=%{text}<extra></extra>",
         "legendgroup": "CONTRA EL ORDEN ECONOMICO SOCIAL",
         "marker": {
          "color": "#636efa"
         },
         "name": "CONTRA EL ORDEN ECONOMICO SOCIAL",
         "offsetgroup": "CONTRA EL ORDEN ECONOMICO SOCIAL",
         "orientation": "v",
         "showlegend": true,
         "text": [
          61
         ],
         "textposition": "outside",
         "texttemplate": "%{text:.2s}",
         "type": "bar",
         "x": [
          "CONTRA EL ORDEN ECONOMICO SOCIAL"
         ],
         "xaxis": "x",
         "y": [
          61
         ],
         "yaxis": "y"
        },
        {
         "alignmentgroup": "True",
         "customdata": [
          [
           "CONTRA EL PATRIMONIO ECONOMICO"
          ]
         ],
         "hovertemplate": "TITULO_DELITO=%{customdata[0]}<br>Amount of recidivist crimes=%{text}<extra></extra>",
         "legendgroup": "CONTRA EL PATRIMONIO ECONOMICO",
         "marker": {
          "color": "#EF553B"
         },
         "name": "CONTRA EL PATRIMONIO ECONOMICO",
         "offsetgroup": "CONTRA EL PATRIMONIO ECONOMICO",
         "orientation": "v",
         "showlegend": true,
         "text": [
          3668
         ],
         "textposition": "outside",
         "texttemplate": "%{text:.2s}",
         "type": "bar",
         "x": [
          "CONTRA EL PATRIMONIO ECONOMICO"
         ],
         "xaxis": "x",
         "y": [
          3668
         ],
         "yaxis": "y"
        },
        {
         "alignmentgroup": "True",
         "customdata": [
          [
           "CONTRA EL REGIMEN CONSTITUCIONAL Y LEGAL"
          ]
         ],
         "hovertemplate": "TITULO_DELITO=%{customdata[0]}<br>Amount of recidivist crimes=%{text}<extra></extra>",
         "legendgroup": "CONTRA EL REGIMEN CONSTITUCIONAL Y LEGAL",
         "marker": {
          "color": "#00cc96"
         },
         "name": "CONTRA EL REGIMEN CONSTITUCIONAL Y LEGAL",
         "offsetgroup": "CONTRA EL REGIMEN CONSTITUCIONAL Y LEGAL",
         "orientation": "v",
         "showlegend": true,
         "text": [
          27
         ],
         "textposition": "outside",
         "texttemplate": "%{text:.2s}",
         "type": "bar",
         "x": [
          "CONTRA EL REGIMEN CONSTITUCIONAL Y LEGAL"
         ],
         "xaxis": "x",
         "y": [
          27
         ],
         "yaxis": "y"
        },
        {
         "alignmentgroup": "True",
         "customdata": [
          [
           "CONTRA LA ADMINISTRACION PUBLICA"
          ]
         ],
         "hovertemplate": "TITULO_DELITO=%{customdata[0]}<br>Amount of recidivist crimes=%{text}<extra></extra>",
         "legendgroup": "CONTRA LA ADMINISTRACION PUBLICA",
         "marker": {
          "color": "#ab63fa"
         },
         "name": "CONTRA LA ADMINISTRACION PUBLICA",
         "offsetgroup": "CONTRA LA ADMINISTRACION PUBLICA",
         "orientation": "v",
         "showlegend": true,
         "text": [
          142
         ],
         "textposition": "outside",
         "texttemplate": "%{text:.2s}",
         "type": "bar",
         "x": [
          "CONTRA LA ADMINISTRACION PUBLICA"
         ],
         "xaxis": "x",
         "y": [
          142
         ],
         "yaxis": "y"
        },
        {
         "alignmentgroup": "True",
         "customdata": [
          [
           "CONTRA LA EFICAZ Y RECTA IMPARTICION DE JUSTICIA"
          ]
         ],
         "hovertemplate": "TITULO_DELITO=%{customdata[0]}<br>Amount of recidivist crimes=%{text}<extra></extra>",
         "legendgroup": "CONTRA LA EFICAZ Y RECTA IMPARTICION DE JUSTICIA",
         "marker": {
          "color": "#FFA15A"
         },
         "name": "CONTRA LA EFICAZ Y RECTA IMPARTICION DE JUSTICIA",
         "offsetgroup": "CONTRA LA EFICAZ Y RECTA IMPARTICION DE JUSTICIA",
         "orientation": "v",
         "showlegend": true,
         "text": [
          240
         ],
         "textposition": "outside",
         "texttemplate": "%{text:.2s}",
         "type": "bar",
         "x": [
          "CONTRA LA EFICAZ Y RECTA IMPARTICION DE JUSTICIA"
         ],
         "xaxis": "x",
         "y": [
          240
         ],
         "yaxis": "y"
        },
        {
         "alignmentgroup": "True",
         "customdata": [
          [
           "CONTRA LA FAMILIA"
          ]
         ],
         "hovertemplate": "TITULO_DELITO=%{customdata[0]}<br>Amount of recidivist crimes=%{text}<extra></extra>",
         "legendgroup": "CONTRA LA FAMILIA",
         "marker": {
          "color": "#19d3f3"
         },
         "name": "CONTRA LA FAMILIA",
         "offsetgroup": "CONTRA LA FAMILIA",
         "orientation": "v",
         "showlegend": true,
         "text": [
          57
         ],
         "textposition": "outside",
         "texttemplate": "%{text:.2s}",
         "type": "bar",
         "x": [
          "CONTRA LA FAMILIA"
         ],
         "xaxis": "x",
         "y": [
          57
         ],
         "yaxis": "y"
        },
        {
         "alignmentgroup": "True",
         "customdata": [
          [
           "CONTRA LA FE PUBLICA"
          ]
         ],
         "hovertemplate": "TITULO_DELITO=%{customdata[0]}<br>Amount of recidivist crimes=%{text}<extra></extra>",
         "legendgroup": "CONTRA LA FE PUBLICA",
         "marker": {
          "color": "#FF6692"
         },
         "name": "CONTRA LA FE PUBLICA",
         "offsetgroup": "CONTRA LA FE PUBLICA",
         "orientation": "v",
         "showlegend": true,
         "text": [
          336
         ],
         "textposition": "outside",
         "texttemplate": "%{text:.2s}",
         "type": "bar",
         "x": [
          "CONTRA LA FE PUBLICA"
         ],
         "xaxis": "x",
         "y": [
          336
         ],
         "yaxis": "y"
        },
        {
         "alignmentgroup": "True",
         "customdata": [
          [
           "CONTRA LA LIBERTAD INDIVIDUAL Y OTRAS GARANTIAS"
          ]
         ],
         "hovertemplate": "TITULO_DELITO=%{customdata[0]}<br>Amount of recidivist crimes=%{text}<extra></extra>",
         "legendgroup": "CONTRA LA LIBERTAD INDIVIDUAL Y OTRAS GARANTIAS",
         "marker": {
          "color": "#B6E880"
         },
         "name": "CONTRA LA LIBERTAD INDIVIDUAL Y OTRAS GARANTIAS",
         "offsetgroup": "CONTRA LA LIBERTAD INDIVIDUAL Y OTRAS GARANTIAS",
         "orientation": "v",
         "showlegend": true,
         "text": [
          183
         ],
         "textposition": "outside",
         "texttemplate": "%{text:.2s}",
         "type": "bar",
         "x": [
          "CONTRA LA LIBERTAD INDIVIDUAL Y OTRAS GARANTIAS"
         ],
         "xaxis": "x",
         "y": [
          183
         ],
         "yaxis": "y"
        },
        {
         "alignmentgroup": "True",
         "customdata": [
          [
           "CONTRA LA LIBERTAD INTEGRIDAD Y FORMACION SEXUALES"
          ]
         ],
         "hovertemplate": "TITULO_DELITO=%{customdata[0]}<br>Amount of recidivist crimes=%{text}<extra></extra>",
         "legendgroup": "CONTRA LA LIBERTAD INTEGRIDAD Y FORMACION SEXUALES",
         "marker": {
          "color": "#FF97FF"
         },
         "name": "CONTRA LA LIBERTAD INTEGRIDAD Y FORMACION SEXUALES",
         "offsetgroup": "CONTRA LA LIBERTAD INTEGRIDAD Y FORMACION SEXUALES",
         "orientation": "v",
         "showlegend": true,
         "text": [
          45
         ],
         "textposition": "outside",
         "texttemplate": "%{text:.2s}",
         "type": "bar",
         "x": [
          "CONTRA LA LIBERTAD INTEGRIDAD Y FORMACION SEXUALES"
         ],
         "xaxis": "x",
         "y": [
          45
         ],
         "yaxis": "y"
        },
        {
         "alignmentgroup": "True",
         "customdata": [
          [
           "CONTRA LA SALUD PUBLICA"
          ]
         ],
         "hovertemplate": "TITULO_DELITO=%{customdata[0]}<br>Amount of recidivist crimes=%{text}<extra></extra>",
         "legendgroup": "CONTRA LA SALUD PUBLICA",
         "marker": {
          "color": "#FECB52"
         },
         "name": "CONTRA LA SALUD PUBLICA",
         "offsetgroup": "CONTRA LA SALUD PUBLICA",
         "orientation": "v",
         "showlegend": true,
         "text": [
          4525
         ],
         "textposition": "outside",
         "texttemplate": "%{text:.2s}",
         "type": "bar",
         "x": [
          "CONTRA LA SALUD PUBLICA"
         ],
         "xaxis": "x",
         "y": [
          4525
         ],
         "yaxis": "y"
        },
        {
         "alignmentgroup": "True",
         "customdata": [
          [
           "CONTRA LA SEGURIDAD PUBLICA"
          ]
         ],
         "hovertemplate": "TITULO_DELITO=%{customdata[0]}<br>Amount of recidivist crimes=%{text}<extra></extra>",
         "legendgroup": "CONTRA LA SEGURIDAD PUBLICA",
         "marker": {
          "color": "#636efa"
         },
         "name": "CONTRA LA SEGURIDAD PUBLICA",
         "offsetgroup": "CONTRA LA SEGURIDAD PUBLICA",
         "orientation": "v",
         "showlegend": true,
         "text": [
          1688
         ],
         "textposition": "outside",
         "texttemplate": "%{text:.2s}",
         "type": "bar",
         "x": [
          "CONTRA LA SEGURIDAD PUBLICA"
         ],
         "xaxis": "x",
         "y": [
          1688
         ],
         "yaxis": "y"
        },
        {
         "alignmentgroup": "True",
         "customdata": [
          [
           "CONTRA LA VIDA Y LA INTEGRIDAD PERSONAL"
          ]
         ],
         "hovertemplate": "TITULO_DELITO=%{customdata[0]}<br>Amount of recidivist crimes=%{text}<extra></extra>",
         "legendgroup": "CONTRA LA VIDA Y LA INTEGRIDAD PERSONAL",
         "marker": {
          "color": "#EF553B"
         },
         "name": "CONTRA LA VIDA Y LA INTEGRIDAD PERSONAL",
         "offsetgroup": "CONTRA LA VIDA Y LA INTEGRIDAD PERSONAL",
         "orientation": "v",
         "showlegend": true,
         "text": [
          387
         ],
         "textposition": "outside",
         "texttemplate": "%{text:.2s}",
         "type": "bar",
         "x": [
          "CONTRA LA VIDA Y LA INTEGRIDAD PERSONAL"
         ],
         "xaxis": "x",
         "y": [
          387
         ],
         "yaxis": "y"
        },
        {
         "alignmentgroup": "True",
         "customdata": [
          [
           "CONTRA LOS DERECHOS DE AUTOR"
          ]
         ],
         "hovertemplate": "TITULO_DELITO=%{customdata[0]}<br>Amount of recidivist crimes=%{text}<extra></extra>",
         "legendgroup": "CONTRA LOS DERECHOS DE AUTOR",
         "marker": {
          "color": "#00cc96"
         },
         "name": "CONTRA LOS DERECHOS DE AUTOR",
         "offsetgroup": "CONTRA LOS DERECHOS DE AUTOR",
         "orientation": "v",
         "showlegend": true,
         "text": [
          6
         ],
         "textposition": "outside",
         "texttemplate": "%{text:.2s}",
         "type": "bar",
         "x": [
          "CONTRA LOS DERECHOS DE AUTOR"
         ],
         "xaxis": "x",
         "y": [
          6
         ],
         "yaxis": "y"
        },
        {
         "alignmentgroup": "True",
         "customdata": [
          [
           "CONTRA LOS RECURSOS NATURALES Y EL MEDIO AMBIENTE"
          ]
         ],
         "hovertemplate": "TITULO_DELITO=%{customdata[0]}<br>Amount of recidivist crimes=%{text}<extra></extra>",
         "legendgroup": "CONTRA LOS RECURSOS NATURALES Y EL MEDIO AMBIENTE",
         "marker": {
          "color": "#ab63fa"
         },
         "name": "CONTRA LOS RECURSOS NATURALES Y EL MEDIO AMBIENTE",
         "offsetgroup": "CONTRA LOS RECURSOS NATURALES Y EL MEDIO AMBIENTE",
         "orientation": "v",
         "showlegend": true,
         "text": [
          3
         ],
         "textposition": "outside",
         "texttemplate": "%{text:.2s}",
         "type": "bar",
         "x": [
          "CONTRA LOS RECURSOS NATURALES Y EL MEDIO AMBIENTE"
         ],
         "xaxis": "x",
         "y": [
          3
         ],
         "yaxis": "y"
        },
        {
         "alignmentgroup": "True",
         "customdata": [
          [
           "CONTRA MECANISMOS DE PARTICIPACION DEMOCRATICA"
          ]
         ],
         "hovertemplate": "TITULO_DELITO=%{customdata[0]}<br>Amount of recidivist crimes=%{text}<extra></extra>",
         "legendgroup": "CONTRA MECANISMOS DE PARTICIPACION DEMOCRATICA",
         "marker": {
          "color": "#FFA15A"
         },
         "name": "CONTRA MECANISMOS DE PARTICIPACION DEMOCRATICA",
         "offsetgroup": "CONTRA MECANISMOS DE PARTICIPACION DEMOCRATICA",
         "orientation": "v",
         "showlegend": true,
         "text": [
          1
         ],
         "textposition": "outside",
         "texttemplate": "%{text:.2s}",
         "type": "bar",
         "x": [
          "CONTRA MECANISMOS DE PARTICIPACION DEMOCRATICA"
         ],
         "xaxis": "x",
         "y": [
          1
         ],
         "yaxis": "y"
        },
        {
         "alignmentgroup": "True",
         "customdata": [
          [
           "CONTRA PERSONAS Y BIENES PROTEGIDOS POR EL DERECHO INTERNACIONAL HUMANITARIO"
          ]
         ],
         "hovertemplate": "TITULO_DELITO=%{customdata[0]}<br>Amount of recidivist crimes=%{text}<extra></extra>",
         "legendgroup": "CONTRA PERSONAS Y BIENES PROTEGIDOS POR EL DERECHO INTERNACIONAL HUMANITARIO",
         "marker": {
          "color": "#19d3f3"
         },
         "name": "CONTRA PERSONAS Y BIENES PROTEGIDOS POR EL DERECHO INTERNACIONAL HUMANITARIO",
         "offsetgroup": "CONTRA PERSONAS Y BIENES PROTEGIDOS POR EL DERECHO INTERNACIONAL HUMANITARIO",
         "orientation": "v",
         "showlegend": true,
         "text": [
          1
         ],
         "textposition": "outside",
         "texttemplate": "%{text:.2s}",
         "type": "bar",
         "x": [
          "CONTRA PERSONAS Y BIENES PROTEGIDOS POR EL DERECHO INTERNACIONAL HUMANITARIO"
         ],
         "xaxis": "x",
         "y": [
          1
         ],
         "yaxis": "y"
        },
        {
         "alignmentgroup": "True",
         "customdata": [
          [
           "DE LA PROTECCION DE LA INFORMACION Y DE LOS DATOS"
          ]
         ],
         "hovertemplate": "TITULO_DELITO=%{customdata[0]}<br>Amount of recidivist crimes=%{text}<extra></extra>",
         "legendgroup": "DE LA PROTECCION DE LA INFORMACION Y DE LOS DATOS",
         "marker": {
          "color": "#FF6692"
         },
         "name": "DE LA PROTECCION DE LA INFORMACION Y DE LOS DATOS",
         "offsetgroup": "DE LA PROTECCION DE LA INFORMACION Y DE LOS DATOS",
         "orientation": "v",
         "showlegend": true,
         "text": [
          35
         ],
         "textposition": "outside",
         "texttemplate": "%{text:.2s}",
         "type": "bar",
         "x": [
          "DE LA PROTECCION DE LA INFORMACION Y DE LOS DATOS"
         ],
         "xaxis": "x",
         "y": [
          35
         ],
         "yaxis": "y"
        },
        {
         "alignmentgroup": "True",
         "customdata": [
          [
           "DELITOS CONTRA EL SERVICIO"
          ]
         ],
         "hovertemplate": "TITULO_DELITO=%{customdata[0]}<br>Amount of recidivist crimes=%{text}<extra></extra>",
         "legendgroup": "DELITOS CONTRA EL SERVICIO",
         "marker": {
          "color": "#B6E880"
         },
         "name": "DELITOS CONTRA EL SERVICIO",
         "offsetgroup": "DELITOS CONTRA EL SERVICIO",
         "orientation": "v",
         "showlegend": true,
         "text": [
          9
         ],
         "textposition": "outside",
         "texttemplate": "%{text:.2s}",
         "type": "bar",
         "x": [
          "DELITOS CONTRA EL SERVICIO"
         ],
         "xaxis": "x",
         "y": [
          9
         ],
         "yaxis": "y"
        }
       ],
       "layout": {
        "autosize": false,
        "barmode": "stack",
        "height": 700,
        "legend": {
         "title": {
          "text": "TITULO_DELITO"
         },
         "tracegroupgap": 0
        },
        "margin": {
         "b": 100,
         "l": 50,
         "pad": 4,
         "r": 50,
         "t": 100
        },
        "showlegend": false,
        "template": {
         "data": {
          "bar": [
           {
            "error_x": {
             "color": "#2a3f5f"
            },
            "error_y": {
             "color": "#2a3f5f"
            },
            "marker": {
             "line": {
              "color": "#E5ECF6",
              "width": 0.5
             }
            },
            "type": "bar"
           }
          ],
          "barpolar": [
           {
            "marker": {
             "line": {
              "color": "#E5ECF6",
              "width": 0.5
             }
            },
            "type": "barpolar"
           }
          ],
          "carpet": [
           {
            "aaxis": {
             "endlinecolor": "#2a3f5f",
             "gridcolor": "white",
             "linecolor": "white",
             "minorgridcolor": "white",
             "startlinecolor": "#2a3f5f"
            },
            "baxis": {
             "endlinecolor": "#2a3f5f",
             "gridcolor": "white",
             "linecolor": "white",
             "minorgridcolor": "white",
             "startlinecolor": "#2a3f5f"
            },
            "type": "carpet"
           }
          ],
          "choropleth": [
           {
            "colorbar": {
             "outlinewidth": 0,
             "ticks": ""
            },
            "type": "choropleth"
           }
          ],
          "contour": [
           {
            "colorbar": {
             "outlinewidth": 0,
             "ticks": ""
            },
            "colorscale": [
             [
              0,
              "#0d0887"
             ],
             [
              0.1111111111111111,
              "#46039f"
             ],
             [
              0.2222222222222222,
              "#7201a8"
             ],
             [
              0.3333333333333333,
              "#9c179e"
             ],
             [
              0.4444444444444444,
              "#bd3786"
             ],
             [
              0.5555555555555556,
              "#d8576b"
             ],
             [
              0.6666666666666666,
              "#ed7953"
             ],
             [
              0.7777777777777778,
              "#fb9f3a"
             ],
             [
              0.8888888888888888,
              "#fdca26"
             ],
             [
              1,
              "#f0f921"
             ]
            ],
            "type": "contour"
           }
          ],
          "contourcarpet": [
           {
            "colorbar": {
             "outlinewidth": 0,
             "ticks": ""
            },
            "type": "contourcarpet"
           }
          ],
          "heatmap": [
           {
            "colorbar": {
             "outlinewidth": 0,
             "ticks": ""
            },
            "colorscale": [
             [
              0,
              "#0d0887"
             ],
             [
              0.1111111111111111,
              "#46039f"
             ],
             [
              0.2222222222222222,
              "#7201a8"
             ],
             [
              0.3333333333333333,
              "#9c179e"
             ],
             [
              0.4444444444444444,
              "#bd3786"
             ],
             [
              0.5555555555555556,
              "#d8576b"
             ],
             [
              0.6666666666666666,
              "#ed7953"
             ],
             [
              0.7777777777777778,
              "#fb9f3a"
             ],
             [
              0.8888888888888888,
              "#fdca26"
             ],
             [
              1,
              "#f0f921"
             ]
            ],
            "type": "heatmap"
           }
          ],
          "heatmapgl": [
           {
            "colorbar": {
             "outlinewidth": 0,
             "ticks": ""
            },
            "colorscale": [
             [
              0,
              "#0d0887"
             ],
             [
              0.1111111111111111,
              "#46039f"
             ],
             [
              0.2222222222222222,
              "#7201a8"
             ],
             [
              0.3333333333333333,
              "#9c179e"
             ],
             [
              0.4444444444444444,
              "#bd3786"
             ],
             [
              0.5555555555555556,
              "#d8576b"
             ],
             [
              0.6666666666666666,
              "#ed7953"
             ],
             [
              0.7777777777777778,
              "#fb9f3a"
             ],
             [
              0.8888888888888888,
              "#fdca26"
             ],
             [
              1,
              "#f0f921"
             ]
            ],
            "type": "heatmapgl"
           }
          ],
          "histogram": [
           {
            "marker": {
             "colorbar": {
              "outlinewidth": 0,
              "ticks": ""
             }
            },
            "type": "histogram"
           }
          ],
          "histogram2d": [
           {
            "colorbar": {
             "outlinewidth": 0,
             "ticks": ""
            },
            "colorscale": [
             [
              0,
              "#0d0887"
             ],
             [
              0.1111111111111111,
              "#46039f"
             ],
             [
              0.2222222222222222,
              "#7201a8"
             ],
             [
              0.3333333333333333,
              "#9c179e"
             ],
             [
              0.4444444444444444,
              "#bd3786"
             ],
             [
              0.5555555555555556,
              "#d8576b"
             ],
             [
              0.6666666666666666,
              "#ed7953"
             ],
             [
              0.7777777777777778,
              "#fb9f3a"
             ],
             [
              0.8888888888888888,
              "#fdca26"
             ],
             [
              1,
              "#f0f921"
             ]
            ],
            "type": "histogram2d"
           }
          ],
          "histogram2dcontour": [
           {
            "colorbar": {
             "outlinewidth": 0,
             "ticks": ""
            },
            "colorscale": [
             [
              0,
              "#0d0887"
             ],
             [
              0.1111111111111111,
              "#46039f"
             ],
             [
              0.2222222222222222,
              "#7201a8"
             ],
             [
              0.3333333333333333,
              "#9c179e"
             ],
             [
              0.4444444444444444,
              "#bd3786"
             ],
             [
              0.5555555555555556,
              "#d8576b"
             ],
             [
              0.6666666666666666,
              "#ed7953"
             ],
             [
              0.7777777777777778,
              "#fb9f3a"
             ],
             [
              0.8888888888888888,
              "#fdca26"
             ],
             [
              1,
              "#f0f921"
             ]
            ],
            "type": "histogram2dcontour"
           }
          ],
          "mesh3d": [
           {
            "colorbar": {
             "outlinewidth": 0,
             "ticks": ""
            },
            "type": "mesh3d"
           }
          ],
          "parcoords": [
           {
            "line": {
             "colorbar": {
              "outlinewidth": 0,
              "ticks": ""
             }
            },
            "type": "parcoords"
           }
          ],
          "pie": [
           {
            "automargin": true,
            "type": "pie"
           }
          ],
          "scatter": [
           {
            "marker": {
             "colorbar": {
              "outlinewidth": 0,
              "ticks": ""
             }
            },
            "type": "scatter"
           }
          ],
          "scatter3d": [
           {
            "line": {
             "colorbar": {
              "outlinewidth": 0,
              "ticks": ""
             }
            },
            "marker": {
             "colorbar": {
              "outlinewidth": 0,
              "ticks": ""
             }
            },
            "type": "scatter3d"
           }
          ],
          "scattercarpet": [
           {
            "marker": {
             "colorbar": {
              "outlinewidth": 0,
              "ticks": ""
             }
            },
            "type": "scattercarpet"
           }
          ],
          "scattergeo": [
           {
            "marker": {
             "colorbar": {
              "outlinewidth": 0,
              "ticks": ""
             }
            },
            "type": "scattergeo"
           }
          ],
          "scattergl": [
           {
            "marker": {
             "colorbar": {
              "outlinewidth": 0,
              "ticks": ""
             }
            },
            "type": "scattergl"
           }
          ],
          "scattermapbox": [
           {
            "marker": {
             "colorbar": {
              "outlinewidth": 0,
              "ticks": ""
             }
            },
            "type": "scattermapbox"
           }
          ],
          "scatterpolar": [
           {
            "marker": {
             "colorbar": {
              "outlinewidth": 0,
              "ticks": ""
             }
            },
            "type": "scatterpolar"
           }
          ],
          "scatterpolargl": [
           {
            "marker": {
             "colorbar": {
              "outlinewidth": 0,
              "ticks": ""
             }
            },
            "type": "scatterpolargl"
           }
          ],
          "scatterternary": [
           {
            "marker": {
             "colorbar": {
              "outlinewidth": 0,
              "ticks": ""
             }
            },
            "type": "scatterternary"
           }
          ],
          "surface": [
           {
            "colorbar": {
             "outlinewidth": 0,
             "ticks": ""
            },
            "colorscale": [
             [
              0,
              "#0d0887"
             ],
             [
              0.1111111111111111,
              "#46039f"
             ],
             [
              0.2222222222222222,
              "#7201a8"
             ],
             [
              0.3333333333333333,
              "#9c179e"
             ],
             [
              0.4444444444444444,
              "#bd3786"
             ],
             [
              0.5555555555555556,
              "#d8576b"
             ],
             [
              0.6666666666666666,
              "#ed7953"
             ],
             [
              0.7777777777777778,
              "#fb9f3a"
             ],
             [
              0.8888888888888888,
              "#fdca26"
             ],
             [
              1,
              "#f0f921"
             ]
            ],
            "type": "surface"
           }
          ],
          "table": [
           {
            "cells": {
             "fill": {
              "color": "#EBF0F8"
             },
             "line": {
              "color": "white"
             }
            },
            "header": {
             "fill": {
              "color": "#C8D4E3"
             },
             "line": {
              "color": "white"
             }
            },
            "type": "table"
           }
          ]
         },
         "layout": {
          "annotationdefaults": {
           "arrowcolor": "#2a3f5f",
           "arrowhead": 0,
           "arrowwidth": 1
          },
          "coloraxis": {
           "colorbar": {
            "outlinewidth": 0,
            "ticks": ""
           }
          },
          "colorscale": {
           "diverging": [
            [
             0,
             "#8e0152"
            ],
            [
             0.1,
             "#c51b7d"
            ],
            [
             0.2,
             "#de77ae"
            ],
            [
             0.3,
             "#f1b6da"
            ],
            [
             0.4,
             "#fde0ef"
            ],
            [
             0.5,
             "#f7f7f7"
            ],
            [
             0.6,
             "#e6f5d0"
            ],
            [
             0.7,
             "#b8e186"
            ],
            [
             0.8,
             "#7fbc41"
            ],
            [
             0.9,
             "#4d9221"
            ],
            [
             1,
             "#276419"
            ]
           ],
           "sequential": [
            [
             0,
             "#0d0887"
            ],
            [
             0.1111111111111111,
             "#46039f"
            ],
            [
             0.2222222222222222,
             "#7201a8"
            ],
            [
             0.3333333333333333,
             "#9c179e"
            ],
            [
             0.4444444444444444,
             "#bd3786"
            ],
            [
             0.5555555555555556,
             "#d8576b"
            ],
            [
             0.6666666666666666,
             "#ed7953"
            ],
            [
             0.7777777777777778,
             "#fb9f3a"
            ],
            [
             0.8888888888888888,
             "#fdca26"
            ],
            [
             1,
             "#f0f921"
            ]
           ],
           "sequentialminus": [
            [
             0,
             "#0d0887"
            ],
            [
             0.1111111111111111,
             "#46039f"
            ],
            [
             0.2222222222222222,
             "#7201a8"
            ],
            [
             0.3333333333333333,
             "#9c179e"
            ],
            [
             0.4444444444444444,
             "#bd3786"
            ],
            [
             0.5555555555555556,
             "#d8576b"
            ],
            [
             0.6666666666666666,
             "#ed7953"
            ],
            [
             0.7777777777777778,
             "#fb9f3a"
            ],
            [
             0.8888888888888888,
             "#fdca26"
            ],
            [
             1,
             "#f0f921"
            ]
           ]
          },
          "colorway": [
           "#636efa",
           "#EF553B",
           "#00cc96",
           "#ab63fa",
           "#FFA15A",
           "#19d3f3",
           "#FF6692",
           "#B6E880",
           "#FF97FF",
           "#FECB52"
          ],
          "font": {
           "color": "#2a3f5f"
          },
          "geo": {
           "bgcolor": "white",
           "lakecolor": "white",
           "landcolor": "#E5ECF6",
           "showlakes": true,
           "showland": true,
           "subunitcolor": "white"
          },
          "hoverlabel": {
           "align": "left"
          },
          "hovermode": "closest",
          "mapbox": {
           "style": "light"
          },
          "paper_bgcolor": "white",
          "plot_bgcolor": "#E5ECF6",
          "polar": {
           "angularaxis": {
            "gridcolor": "white",
            "linecolor": "white",
            "ticks": ""
           },
           "bgcolor": "#E5ECF6",
           "radialaxis": {
            "gridcolor": "white",
            "linecolor": "white",
            "ticks": ""
           }
          },
          "scene": {
           "xaxis": {
            "backgroundcolor": "#E5ECF6",
            "gridcolor": "white",
            "gridwidth": 2,
            "linecolor": "white",
            "showbackground": true,
            "ticks": "",
            "zerolinecolor": "white"
           },
           "yaxis": {
            "backgroundcolor": "#E5ECF6",
            "gridcolor": "white",
            "gridwidth": 2,
            "linecolor": "white",
            "showbackground": true,
            "ticks": "",
            "zerolinecolor": "white"
           },
           "zaxis": {
            "backgroundcolor": "#E5ECF6",
            "gridcolor": "white",
            "gridwidth": 2,
            "linecolor": "white",
            "showbackground": true,
            "ticks": "",
            "zerolinecolor": "white"
           }
          },
          "shapedefaults": {
           "line": {
            "color": "#2a3f5f"
           }
          },
          "ternary": {
           "aaxis": {
            "gridcolor": "white",
            "linecolor": "white",
            "ticks": ""
           },
           "baxis": {
            "gridcolor": "white",
            "linecolor": "white",
            "ticks": ""
           },
           "bgcolor": "#E5ECF6",
           "caxis": {
            "gridcolor": "white",
            "linecolor": "white",
            "ticks": ""
           }
          },
          "title": {
           "x": 0.05
          },
          "xaxis": {
           "automargin": true,
           "gridcolor": "white",
           "linecolor": "white",
           "ticks": "",
           "title": {
            "standoff": 15
           },
           "zerolinecolor": "white",
           "zerolinewidth": 2
          },
          "yaxis": {
           "automargin": true,
           "gridcolor": "white",
           "linecolor": "white",
           "ticks": "",
           "title": {
            "standoff": 15
           },
           "zerolinecolor": "white",
           "zerolinewidth": 2
          }
         }
        },
        "title": {
         "text": "Most commited crimes by women"
        },
        "uniformtext": {
         "minsize": 6,
         "mode": "hide"
        },
        "width": 800,
        "xaxis": {
         "anchor": "y",
         "categoryarray": [
          "CONTRA EL ORDEN ECONOMICO SOCIAL",
          "CONTRA EL PATRIMONIO ECONOMICO",
          "CONTRA EL REGIMEN CONSTITUCIONAL Y LEGAL",
          "CONTRA LA ADMINISTRACION PUBLICA",
          "CONTRA LA EFICAZ Y RECTA IMPARTICION DE JUSTICIA",
          "CONTRA LA FAMILIA",
          "CONTRA LA FE PUBLICA",
          "CONTRA LA LIBERTAD INDIVIDUAL Y OTRAS GARANTIAS",
          "CONTRA LA LIBERTAD INTEGRIDAD Y FORMACION SEXUALES",
          "CONTRA LA SALUD PUBLICA",
          "CONTRA LA SEGURIDAD PUBLICA",
          "CONTRA LA VIDA Y LA INTEGRIDAD PERSONAL",
          "CONTRA LOS DERECHOS DE AUTOR",
          "CONTRA LOS RECURSOS NATURALES Y EL MEDIO AMBIENTE",
          "CONTRA MECANISMOS DE PARTICIPACION DEMOCRATICA",
          "CONTRA PERSONAS Y BIENES PROTEGIDOS POR EL DERECHO INTERNACIONAL HUMANITARIO",
          "DE LA PROTECCION DE LA INFORMACION Y DE LOS DATOS",
          "DELITOS CONTRA EL SERVICIO"
         ],
         "categoryorder": "array",
         "domain": [
          0,
          1
         ],
         "tickangle": -45,
         "tickfont": {
          "color": "black",
          "family": "Rockwell",
          "size": 8
         },
         "title": {
          "text": "TITULO_DELITO"
         }
        },
        "yaxis": {
         "anchor": "x",
         "domain": [
          0,
          1
         ],
         "title": {
          "text": "Amount of recidivist crimes"
         }
        }
       }
      },
      "text/html": [
       "<div>\n",
       "        \n",
       "        \n",
       "            <div id=\"7033e9fd-cf7e-4cb8-85f1-192188d1a7d4\" class=\"plotly-graph-div\" style=\"height:700px; width:800px;\"></div>\n",
       "            <script type=\"text/javascript\">\n",
       "                require([\"plotly\"], function(Plotly) {\n",
       "                    window.PLOTLYENV=window.PLOTLYENV || {};\n",
       "                    \n",
       "                if (document.getElementById(\"7033e9fd-cf7e-4cb8-85f1-192188d1a7d4\")) {\n",
       "                    Plotly.newPlot(\n",
       "                        '7033e9fd-cf7e-4cb8-85f1-192188d1a7d4',\n",
       "                        [{\"alignmentgroup\": \"True\", \"customdata\": [[\"CONTRA EL ORDEN ECONOMICO SOCIAL\"]], \"hovertemplate\": \"TITULO_DELITO=%{customdata[0]}<br>Amount of recidivist crimes=%{text}<extra></extra>\", \"legendgroup\": \"CONTRA EL ORDEN ECONOMICO SOCIAL\", \"marker\": {\"color\": \"#636efa\"}, \"name\": \"CONTRA EL ORDEN ECONOMICO SOCIAL\", \"offsetgroup\": \"CONTRA EL ORDEN ECONOMICO SOCIAL\", \"orientation\": \"v\", \"showlegend\": true, \"text\": [61.0], \"textposition\": \"outside\", \"texttemplate\": \"%{text:.2s}\", \"type\": \"bar\", \"x\": [\"CONTRA EL ORDEN ECONOMICO SOCIAL\"], \"xaxis\": \"x\", \"y\": [61], \"yaxis\": \"y\"}, {\"alignmentgroup\": \"True\", \"customdata\": [[\"CONTRA EL PATRIMONIO ECONOMICO\"]], \"hovertemplate\": \"TITULO_DELITO=%{customdata[0]}<br>Amount of recidivist crimes=%{text}<extra></extra>\", \"legendgroup\": \"CONTRA EL PATRIMONIO ECONOMICO\", \"marker\": {\"color\": \"#EF553B\"}, \"name\": \"CONTRA EL PATRIMONIO ECONOMICO\", \"offsetgroup\": \"CONTRA EL PATRIMONIO ECONOMICO\", \"orientation\": \"v\", \"showlegend\": true, \"text\": [3668.0], \"textposition\": \"outside\", \"texttemplate\": \"%{text:.2s}\", \"type\": \"bar\", \"x\": [\"CONTRA EL PATRIMONIO ECONOMICO\"], \"xaxis\": \"x\", \"y\": [3668], \"yaxis\": \"y\"}, {\"alignmentgroup\": \"True\", \"customdata\": [[\"CONTRA EL REGIMEN CONSTITUCIONAL Y LEGAL\"]], \"hovertemplate\": \"TITULO_DELITO=%{customdata[0]}<br>Amount of recidivist crimes=%{text}<extra></extra>\", \"legendgroup\": \"CONTRA EL REGIMEN CONSTITUCIONAL Y LEGAL\", \"marker\": {\"color\": \"#00cc96\"}, \"name\": \"CONTRA EL REGIMEN CONSTITUCIONAL Y LEGAL\", \"offsetgroup\": \"CONTRA EL REGIMEN CONSTITUCIONAL Y LEGAL\", \"orientation\": \"v\", \"showlegend\": true, \"text\": [27.0], \"textposition\": \"outside\", \"texttemplate\": \"%{text:.2s}\", \"type\": \"bar\", \"x\": [\"CONTRA EL REGIMEN CONSTITUCIONAL Y LEGAL\"], \"xaxis\": \"x\", \"y\": [27], \"yaxis\": \"y\"}, {\"alignmentgroup\": \"True\", \"customdata\": [[\"CONTRA LA ADMINISTRACION PUBLICA\"]], \"hovertemplate\": \"TITULO_DELITO=%{customdata[0]}<br>Amount of recidivist crimes=%{text}<extra></extra>\", \"legendgroup\": \"CONTRA LA ADMINISTRACION PUBLICA\", \"marker\": {\"color\": \"#ab63fa\"}, \"name\": \"CONTRA LA ADMINISTRACION PUBLICA\", \"offsetgroup\": \"CONTRA LA ADMINISTRACION PUBLICA\", \"orientation\": \"v\", \"showlegend\": true, \"text\": [142.0], \"textposition\": \"outside\", \"texttemplate\": \"%{text:.2s}\", \"type\": \"bar\", \"x\": [\"CONTRA LA ADMINISTRACION PUBLICA\"], \"xaxis\": \"x\", \"y\": [142], \"yaxis\": \"y\"}, {\"alignmentgroup\": \"True\", \"customdata\": [[\"CONTRA LA EFICAZ Y RECTA IMPARTICION DE JUSTICIA\"]], \"hovertemplate\": \"TITULO_DELITO=%{customdata[0]}<br>Amount of recidivist crimes=%{text}<extra></extra>\", \"legendgroup\": \"CONTRA LA EFICAZ Y RECTA IMPARTICION DE JUSTICIA\", \"marker\": {\"color\": \"#FFA15A\"}, \"name\": \"CONTRA LA EFICAZ Y RECTA IMPARTICION DE JUSTICIA\", \"offsetgroup\": \"CONTRA LA EFICAZ Y RECTA IMPARTICION DE JUSTICIA\", \"orientation\": \"v\", \"showlegend\": true, \"text\": [240.0], \"textposition\": \"outside\", \"texttemplate\": \"%{text:.2s}\", \"type\": \"bar\", \"x\": [\"CONTRA LA EFICAZ Y RECTA IMPARTICION DE JUSTICIA\"], \"xaxis\": \"x\", \"y\": [240], \"yaxis\": \"y\"}, {\"alignmentgroup\": \"True\", \"customdata\": [[\"CONTRA LA FAMILIA\"]], \"hovertemplate\": \"TITULO_DELITO=%{customdata[0]}<br>Amount of recidivist crimes=%{text}<extra></extra>\", \"legendgroup\": \"CONTRA LA FAMILIA\", \"marker\": {\"color\": \"#19d3f3\"}, \"name\": \"CONTRA LA FAMILIA\", \"offsetgroup\": \"CONTRA LA FAMILIA\", \"orientation\": \"v\", \"showlegend\": true, \"text\": [57.0], \"textposition\": \"outside\", \"texttemplate\": \"%{text:.2s}\", \"type\": \"bar\", \"x\": [\"CONTRA LA FAMILIA\"], \"xaxis\": \"x\", \"y\": [57], \"yaxis\": \"y\"}, {\"alignmentgroup\": \"True\", \"customdata\": [[\"CONTRA LA FE PUBLICA\"]], \"hovertemplate\": \"TITULO_DELITO=%{customdata[0]}<br>Amount of recidivist crimes=%{text}<extra></extra>\", \"legendgroup\": \"CONTRA LA FE PUBLICA\", \"marker\": {\"color\": \"#FF6692\"}, \"name\": \"CONTRA LA FE PUBLICA\", \"offsetgroup\": \"CONTRA LA FE PUBLICA\", \"orientation\": \"v\", \"showlegend\": true, \"text\": [336.0], \"textposition\": \"outside\", \"texttemplate\": \"%{text:.2s}\", \"type\": \"bar\", \"x\": [\"CONTRA LA FE PUBLICA\"], \"xaxis\": \"x\", \"y\": [336], \"yaxis\": \"y\"}, {\"alignmentgroup\": \"True\", \"customdata\": [[\"CONTRA LA LIBERTAD INDIVIDUAL Y OTRAS GARANTIAS\"]], \"hovertemplate\": \"TITULO_DELITO=%{customdata[0]}<br>Amount of recidivist crimes=%{text}<extra></extra>\", \"legendgroup\": \"CONTRA LA LIBERTAD INDIVIDUAL Y OTRAS GARANTIAS\", \"marker\": {\"color\": \"#B6E880\"}, \"name\": \"CONTRA LA LIBERTAD INDIVIDUAL Y OTRAS GARANTIAS\", \"offsetgroup\": \"CONTRA LA LIBERTAD INDIVIDUAL Y OTRAS GARANTIAS\", \"orientation\": \"v\", \"showlegend\": true, \"text\": [183.0], \"textposition\": \"outside\", \"texttemplate\": \"%{text:.2s}\", \"type\": \"bar\", \"x\": [\"CONTRA LA LIBERTAD INDIVIDUAL Y OTRAS GARANTIAS\"], \"xaxis\": \"x\", \"y\": [183], \"yaxis\": \"y\"}, {\"alignmentgroup\": \"True\", \"customdata\": [[\"CONTRA LA LIBERTAD INTEGRIDAD Y FORMACION SEXUALES\"]], \"hovertemplate\": \"TITULO_DELITO=%{customdata[0]}<br>Amount of recidivist crimes=%{text}<extra></extra>\", \"legendgroup\": \"CONTRA LA LIBERTAD INTEGRIDAD Y FORMACION SEXUALES\", \"marker\": {\"color\": \"#FF97FF\"}, \"name\": \"CONTRA LA LIBERTAD INTEGRIDAD Y FORMACION SEXUALES\", \"offsetgroup\": \"CONTRA LA LIBERTAD INTEGRIDAD Y FORMACION SEXUALES\", \"orientation\": \"v\", \"showlegend\": true, \"text\": [45.0], \"textposition\": \"outside\", \"texttemplate\": \"%{text:.2s}\", \"type\": \"bar\", \"x\": [\"CONTRA LA LIBERTAD INTEGRIDAD Y FORMACION SEXUALES\"], \"xaxis\": \"x\", \"y\": [45], \"yaxis\": \"y\"}, {\"alignmentgroup\": \"True\", \"customdata\": [[\"CONTRA LA SALUD PUBLICA\"]], \"hovertemplate\": \"TITULO_DELITO=%{customdata[0]}<br>Amount of recidivist crimes=%{text}<extra></extra>\", \"legendgroup\": \"CONTRA LA SALUD PUBLICA\", \"marker\": {\"color\": \"#FECB52\"}, \"name\": \"CONTRA LA SALUD PUBLICA\", \"offsetgroup\": \"CONTRA LA SALUD PUBLICA\", \"orientation\": \"v\", \"showlegend\": true, \"text\": [4525.0], \"textposition\": \"outside\", \"texttemplate\": \"%{text:.2s}\", \"type\": \"bar\", \"x\": [\"CONTRA LA SALUD PUBLICA\"], \"xaxis\": \"x\", \"y\": [4525], \"yaxis\": \"y\"}, {\"alignmentgroup\": \"True\", \"customdata\": [[\"CONTRA LA SEGURIDAD PUBLICA\"]], \"hovertemplate\": \"TITULO_DELITO=%{customdata[0]}<br>Amount of recidivist crimes=%{text}<extra></extra>\", \"legendgroup\": \"CONTRA LA SEGURIDAD PUBLICA\", \"marker\": {\"color\": \"#636efa\"}, \"name\": \"CONTRA LA SEGURIDAD PUBLICA\", \"offsetgroup\": \"CONTRA LA SEGURIDAD PUBLICA\", \"orientation\": \"v\", \"showlegend\": true, \"text\": [1688.0], \"textposition\": \"outside\", \"texttemplate\": \"%{text:.2s}\", \"type\": \"bar\", \"x\": [\"CONTRA LA SEGURIDAD PUBLICA\"], \"xaxis\": \"x\", \"y\": [1688], \"yaxis\": \"y\"}, {\"alignmentgroup\": \"True\", \"customdata\": [[\"CONTRA LA VIDA Y LA INTEGRIDAD PERSONAL\"]], \"hovertemplate\": \"TITULO_DELITO=%{customdata[0]}<br>Amount of recidivist crimes=%{text}<extra></extra>\", \"legendgroup\": \"CONTRA LA VIDA Y LA INTEGRIDAD PERSONAL\", \"marker\": {\"color\": \"#EF553B\"}, \"name\": \"CONTRA LA VIDA Y LA INTEGRIDAD PERSONAL\", \"offsetgroup\": \"CONTRA LA VIDA Y LA INTEGRIDAD PERSONAL\", \"orientation\": \"v\", \"showlegend\": true, \"text\": [387.0], \"textposition\": \"outside\", \"texttemplate\": \"%{text:.2s}\", \"type\": \"bar\", \"x\": [\"CONTRA LA VIDA Y LA INTEGRIDAD PERSONAL\"], \"xaxis\": \"x\", \"y\": [387], \"yaxis\": \"y\"}, {\"alignmentgroup\": \"True\", \"customdata\": [[\"CONTRA LOS DERECHOS DE AUTOR\"]], \"hovertemplate\": \"TITULO_DELITO=%{customdata[0]}<br>Amount of recidivist crimes=%{text}<extra></extra>\", \"legendgroup\": \"CONTRA LOS DERECHOS DE AUTOR\", \"marker\": {\"color\": \"#00cc96\"}, \"name\": \"CONTRA LOS DERECHOS DE AUTOR\", \"offsetgroup\": \"CONTRA LOS DERECHOS DE AUTOR\", \"orientation\": \"v\", \"showlegend\": true, \"text\": [6.0], \"textposition\": \"outside\", \"texttemplate\": \"%{text:.2s}\", \"type\": \"bar\", \"x\": [\"CONTRA LOS DERECHOS DE AUTOR\"], \"xaxis\": \"x\", \"y\": [6], \"yaxis\": \"y\"}, {\"alignmentgroup\": \"True\", \"customdata\": [[\"CONTRA LOS RECURSOS NATURALES Y EL MEDIO AMBIENTE\"]], \"hovertemplate\": \"TITULO_DELITO=%{customdata[0]}<br>Amount of recidivist crimes=%{text}<extra></extra>\", \"legendgroup\": \"CONTRA LOS RECURSOS NATURALES Y EL MEDIO AMBIENTE\", \"marker\": {\"color\": \"#ab63fa\"}, \"name\": \"CONTRA LOS RECURSOS NATURALES Y EL MEDIO AMBIENTE\", \"offsetgroup\": \"CONTRA LOS RECURSOS NATURALES Y EL MEDIO AMBIENTE\", \"orientation\": \"v\", \"showlegend\": true, \"text\": [3.0], \"textposition\": \"outside\", \"texttemplate\": \"%{text:.2s}\", \"type\": \"bar\", \"x\": [\"CONTRA LOS RECURSOS NATURALES Y EL MEDIO AMBIENTE\"], \"xaxis\": \"x\", \"y\": [3], \"yaxis\": \"y\"}, {\"alignmentgroup\": \"True\", \"customdata\": [[\"CONTRA MECANISMOS DE PARTICIPACION DEMOCRATICA\"]], \"hovertemplate\": \"TITULO_DELITO=%{customdata[0]}<br>Amount of recidivist crimes=%{text}<extra></extra>\", \"legendgroup\": \"CONTRA MECANISMOS DE PARTICIPACION DEMOCRATICA\", \"marker\": {\"color\": \"#FFA15A\"}, \"name\": \"CONTRA MECANISMOS DE PARTICIPACION DEMOCRATICA\", \"offsetgroup\": \"CONTRA MECANISMOS DE PARTICIPACION DEMOCRATICA\", \"orientation\": \"v\", \"showlegend\": true, \"text\": [1.0], \"textposition\": \"outside\", \"texttemplate\": \"%{text:.2s}\", \"type\": \"bar\", \"x\": [\"CONTRA MECANISMOS DE PARTICIPACION DEMOCRATICA\"], \"xaxis\": \"x\", \"y\": [1], \"yaxis\": \"y\"}, {\"alignmentgroup\": \"True\", \"customdata\": [[\"CONTRA PERSONAS Y BIENES PROTEGIDOS POR EL DERECHO INTERNACIONAL HUMANITARIO\"]], \"hovertemplate\": \"TITULO_DELITO=%{customdata[0]}<br>Amount of recidivist crimes=%{text}<extra></extra>\", \"legendgroup\": \"CONTRA PERSONAS Y BIENES PROTEGIDOS POR EL DERECHO INTERNACIONAL HUMANITARIO\", \"marker\": {\"color\": \"#19d3f3\"}, \"name\": \"CONTRA PERSONAS Y BIENES PROTEGIDOS POR EL DERECHO INTERNACIONAL HUMANITARIO\", \"offsetgroup\": \"CONTRA PERSONAS Y BIENES PROTEGIDOS POR EL DERECHO INTERNACIONAL HUMANITARIO\", \"orientation\": \"v\", \"showlegend\": true, \"text\": [1.0], \"textposition\": \"outside\", \"texttemplate\": \"%{text:.2s}\", \"type\": \"bar\", \"x\": [\"CONTRA PERSONAS Y BIENES PROTEGIDOS POR EL DERECHO INTERNACIONAL HUMANITARIO\"], \"xaxis\": \"x\", \"y\": [1], \"yaxis\": \"y\"}, {\"alignmentgroup\": \"True\", \"customdata\": [[\"DE LA PROTECCION DE LA INFORMACION Y DE LOS DATOS\"]], \"hovertemplate\": \"TITULO_DELITO=%{customdata[0]}<br>Amount of recidivist crimes=%{text}<extra></extra>\", \"legendgroup\": \"DE LA PROTECCION DE LA INFORMACION Y DE LOS DATOS\", \"marker\": {\"color\": \"#FF6692\"}, \"name\": \"DE LA PROTECCION DE LA INFORMACION Y DE LOS DATOS\", \"offsetgroup\": \"DE LA PROTECCION DE LA INFORMACION Y DE LOS DATOS\", \"orientation\": \"v\", \"showlegend\": true, \"text\": [35.0], \"textposition\": \"outside\", \"texttemplate\": \"%{text:.2s}\", \"type\": \"bar\", \"x\": [\"DE LA PROTECCION DE LA INFORMACION Y DE LOS DATOS\"], \"xaxis\": \"x\", \"y\": [35], \"yaxis\": \"y\"}, {\"alignmentgroup\": \"True\", \"customdata\": [[\"DELITOS CONTRA EL SERVICIO\"]], \"hovertemplate\": \"TITULO_DELITO=%{customdata[0]}<br>Amount of recidivist crimes=%{text}<extra></extra>\", \"legendgroup\": \"DELITOS CONTRA EL SERVICIO\", \"marker\": {\"color\": \"#B6E880\"}, \"name\": \"DELITOS CONTRA EL SERVICIO\", \"offsetgroup\": \"DELITOS CONTRA EL SERVICIO\", \"orientation\": \"v\", \"showlegend\": true, \"text\": [9.0], \"textposition\": \"outside\", \"texttemplate\": \"%{text:.2s}\", \"type\": \"bar\", \"x\": [\"DELITOS CONTRA EL SERVICIO\"], \"xaxis\": \"x\", \"y\": [9], \"yaxis\": \"y\"}],\n",
       "                        {\"autosize\": false, \"barmode\": \"stack\", \"height\": 700, \"legend\": {\"title\": {\"text\": \"TITULO_DELITO\"}, \"tracegroupgap\": 0}, \"margin\": {\"b\": 100, \"l\": 50, \"pad\": 4, \"r\": 50, \"t\": 100}, \"showlegend\": false, \"template\": {\"data\": {\"bar\": [{\"error_x\": {\"color\": \"#2a3f5f\"}, \"error_y\": {\"color\": \"#2a3f5f\"}, \"marker\": {\"line\": {\"color\": \"#E5ECF6\", \"width\": 0.5}}, \"type\": \"bar\"}], \"barpolar\": [{\"marker\": {\"line\": {\"color\": \"#E5ECF6\", \"width\": 0.5}}, \"type\": \"barpolar\"}], \"carpet\": [{\"aaxis\": {\"endlinecolor\": \"#2a3f5f\", \"gridcolor\": \"white\", \"linecolor\": \"white\", \"minorgridcolor\": \"white\", \"startlinecolor\": \"#2a3f5f\"}, \"baxis\": {\"endlinecolor\": \"#2a3f5f\", \"gridcolor\": \"white\", \"linecolor\": \"white\", \"minorgridcolor\": \"white\", \"startlinecolor\": \"#2a3f5f\"}, \"type\": \"carpet\"}], \"choropleth\": [{\"colorbar\": {\"outlinewidth\": 0, \"ticks\": \"\"}, \"type\": \"choropleth\"}], \"contour\": [{\"colorbar\": {\"outlinewidth\": 0, \"ticks\": \"\"}, \"colorscale\": [[0.0, \"#0d0887\"], [0.1111111111111111, \"#46039f\"], [0.2222222222222222, \"#7201a8\"], [0.3333333333333333, \"#9c179e\"], [0.4444444444444444, \"#bd3786\"], [0.5555555555555556, \"#d8576b\"], [0.6666666666666666, \"#ed7953\"], [0.7777777777777778, \"#fb9f3a\"], [0.8888888888888888, \"#fdca26\"], [1.0, \"#f0f921\"]], \"type\": \"contour\"}], \"contourcarpet\": [{\"colorbar\": {\"outlinewidth\": 0, \"ticks\": \"\"}, \"type\": \"contourcarpet\"}], \"heatmap\": [{\"colorbar\": {\"outlinewidth\": 0, \"ticks\": \"\"}, \"colorscale\": [[0.0, \"#0d0887\"], [0.1111111111111111, \"#46039f\"], [0.2222222222222222, \"#7201a8\"], [0.3333333333333333, \"#9c179e\"], [0.4444444444444444, \"#bd3786\"], [0.5555555555555556, \"#d8576b\"], [0.6666666666666666, \"#ed7953\"], [0.7777777777777778, \"#fb9f3a\"], [0.8888888888888888, \"#fdca26\"], [1.0, \"#f0f921\"]], \"type\": \"heatmap\"}], \"heatmapgl\": [{\"colorbar\": {\"outlinewidth\": 0, \"ticks\": \"\"}, \"colorscale\": [[0.0, \"#0d0887\"], [0.1111111111111111, \"#46039f\"], [0.2222222222222222, \"#7201a8\"], [0.3333333333333333, \"#9c179e\"], [0.4444444444444444, \"#bd3786\"], [0.5555555555555556, \"#d8576b\"], [0.6666666666666666, \"#ed7953\"], [0.7777777777777778, \"#fb9f3a\"], [0.8888888888888888, \"#fdca26\"], [1.0, \"#f0f921\"]], \"type\": \"heatmapgl\"}], \"histogram\": [{\"marker\": {\"colorbar\": {\"outlinewidth\": 0, \"ticks\": \"\"}}, \"type\": \"histogram\"}], \"histogram2d\": [{\"colorbar\": {\"outlinewidth\": 0, \"ticks\": \"\"}, \"colorscale\": [[0.0, \"#0d0887\"], [0.1111111111111111, \"#46039f\"], [0.2222222222222222, \"#7201a8\"], [0.3333333333333333, \"#9c179e\"], [0.4444444444444444, \"#bd3786\"], [0.5555555555555556, \"#d8576b\"], [0.6666666666666666, \"#ed7953\"], [0.7777777777777778, \"#fb9f3a\"], [0.8888888888888888, \"#fdca26\"], [1.0, \"#f0f921\"]], \"type\": \"histogram2d\"}], \"histogram2dcontour\": [{\"colorbar\": {\"outlinewidth\": 0, \"ticks\": \"\"}, \"colorscale\": [[0.0, \"#0d0887\"], [0.1111111111111111, \"#46039f\"], [0.2222222222222222, \"#7201a8\"], [0.3333333333333333, \"#9c179e\"], [0.4444444444444444, \"#bd3786\"], [0.5555555555555556, \"#d8576b\"], [0.6666666666666666, \"#ed7953\"], [0.7777777777777778, \"#fb9f3a\"], [0.8888888888888888, \"#fdca26\"], [1.0, \"#f0f921\"]], \"type\": \"histogram2dcontour\"}], \"mesh3d\": [{\"colorbar\": {\"outlinewidth\": 0, \"ticks\": \"\"}, \"type\": \"mesh3d\"}], \"parcoords\": [{\"line\": {\"colorbar\": {\"outlinewidth\": 0, \"ticks\": \"\"}}, \"type\": \"parcoords\"}], \"pie\": [{\"automargin\": true, \"type\": \"pie\"}], \"scatter\": [{\"marker\": {\"colorbar\": {\"outlinewidth\": 0, \"ticks\": \"\"}}, \"type\": \"scatter\"}], \"scatter3d\": [{\"line\": {\"colorbar\": {\"outlinewidth\": 0, \"ticks\": \"\"}}, \"marker\": {\"colorbar\": {\"outlinewidth\": 0, \"ticks\": \"\"}}, \"type\": \"scatter3d\"}], \"scattercarpet\": [{\"marker\": {\"colorbar\": {\"outlinewidth\": 0, \"ticks\": \"\"}}, \"type\": \"scattercarpet\"}], \"scattergeo\": [{\"marker\": {\"colorbar\": {\"outlinewidth\": 0, \"ticks\": \"\"}}, \"type\": \"scattergeo\"}], \"scattergl\": [{\"marker\": {\"colorbar\": {\"outlinewidth\": 0, \"ticks\": \"\"}}, \"type\": \"scattergl\"}], \"scattermapbox\": [{\"marker\": {\"colorbar\": {\"outlinewidth\": 0, \"ticks\": \"\"}}, \"type\": \"scattermapbox\"}], \"scatterpolar\": [{\"marker\": {\"colorbar\": {\"outlinewidth\": 0, \"ticks\": \"\"}}, \"type\": \"scatterpolar\"}], \"scatterpolargl\": [{\"marker\": {\"colorbar\": {\"outlinewidth\": 0, \"ticks\": \"\"}}, \"type\": \"scatterpolargl\"}], \"scatterternary\": [{\"marker\": {\"colorbar\": {\"outlinewidth\": 0, \"ticks\": \"\"}}, \"type\": \"scatterternary\"}], \"surface\": [{\"colorbar\": {\"outlinewidth\": 0, \"ticks\": \"\"}, \"colorscale\": [[0.0, \"#0d0887\"], [0.1111111111111111, \"#46039f\"], [0.2222222222222222, \"#7201a8\"], [0.3333333333333333, \"#9c179e\"], [0.4444444444444444, \"#bd3786\"], [0.5555555555555556, \"#d8576b\"], [0.6666666666666666, \"#ed7953\"], [0.7777777777777778, \"#fb9f3a\"], [0.8888888888888888, \"#fdca26\"], [1.0, \"#f0f921\"]], \"type\": \"surface\"}], \"table\": [{\"cells\": {\"fill\": {\"color\": \"#EBF0F8\"}, \"line\": {\"color\": \"white\"}}, \"header\": {\"fill\": {\"color\": \"#C8D4E3\"}, \"line\": {\"color\": \"white\"}}, \"type\": \"table\"}]}, \"layout\": {\"annotationdefaults\": {\"arrowcolor\": \"#2a3f5f\", \"arrowhead\": 0, \"arrowwidth\": 1}, \"coloraxis\": {\"colorbar\": {\"outlinewidth\": 0, \"ticks\": \"\"}}, \"colorscale\": {\"diverging\": [[0, \"#8e0152\"], [0.1, \"#c51b7d\"], [0.2, \"#de77ae\"], [0.3, \"#f1b6da\"], [0.4, \"#fde0ef\"], [0.5, \"#f7f7f7\"], [0.6, \"#e6f5d0\"], [0.7, \"#b8e186\"], [0.8, \"#7fbc41\"], [0.9, \"#4d9221\"], [1, \"#276419\"]], \"sequential\": [[0.0, \"#0d0887\"], [0.1111111111111111, \"#46039f\"], [0.2222222222222222, \"#7201a8\"], [0.3333333333333333, \"#9c179e\"], [0.4444444444444444, \"#bd3786\"], [0.5555555555555556, \"#d8576b\"], [0.6666666666666666, \"#ed7953\"], [0.7777777777777778, \"#fb9f3a\"], [0.8888888888888888, \"#fdca26\"], [1.0, \"#f0f921\"]], \"sequentialminus\": [[0.0, \"#0d0887\"], [0.1111111111111111, \"#46039f\"], [0.2222222222222222, \"#7201a8\"], [0.3333333333333333, \"#9c179e\"], [0.4444444444444444, \"#bd3786\"], [0.5555555555555556, \"#d8576b\"], [0.6666666666666666, \"#ed7953\"], [0.7777777777777778, \"#fb9f3a\"], [0.8888888888888888, \"#fdca26\"], [1.0, \"#f0f921\"]]}, \"colorway\": [\"#636efa\", \"#EF553B\", \"#00cc96\", \"#ab63fa\", \"#FFA15A\", \"#19d3f3\", \"#FF6692\", \"#B6E880\", \"#FF97FF\", \"#FECB52\"], \"font\": {\"color\": \"#2a3f5f\"}, \"geo\": {\"bgcolor\": \"white\", \"lakecolor\": \"white\", \"landcolor\": \"#E5ECF6\", \"showlakes\": true, \"showland\": true, \"subunitcolor\": \"white\"}, \"hoverlabel\": {\"align\": \"left\"}, \"hovermode\": \"closest\", \"mapbox\": {\"style\": \"light\"}, \"paper_bgcolor\": \"white\", \"plot_bgcolor\": \"#E5ECF6\", \"polar\": {\"angularaxis\": {\"gridcolor\": \"white\", \"linecolor\": \"white\", \"ticks\": \"\"}, \"bgcolor\": \"#E5ECF6\", \"radialaxis\": {\"gridcolor\": \"white\", \"linecolor\": \"white\", \"ticks\": \"\"}}, \"scene\": {\"xaxis\": {\"backgroundcolor\": \"#E5ECF6\", \"gridcolor\": \"white\", \"gridwidth\": 2, \"linecolor\": \"white\", \"showbackground\": true, \"ticks\": \"\", \"zerolinecolor\": \"white\"}, \"yaxis\": {\"backgroundcolor\": \"#E5ECF6\", \"gridcolor\": \"white\", \"gridwidth\": 2, \"linecolor\": \"white\", \"showbackground\": true, \"ticks\": \"\", \"zerolinecolor\": \"white\"}, \"zaxis\": {\"backgroundcolor\": \"#E5ECF6\", \"gridcolor\": \"white\", \"gridwidth\": 2, \"linecolor\": \"white\", \"showbackground\": true, \"ticks\": \"\", \"zerolinecolor\": \"white\"}}, \"shapedefaults\": {\"line\": {\"color\": \"#2a3f5f\"}}, \"ternary\": {\"aaxis\": {\"gridcolor\": \"white\", \"linecolor\": \"white\", \"ticks\": \"\"}, \"baxis\": {\"gridcolor\": \"white\", \"linecolor\": \"white\", \"ticks\": \"\"}, \"bgcolor\": \"#E5ECF6\", \"caxis\": {\"gridcolor\": \"white\", \"linecolor\": \"white\", \"ticks\": \"\"}}, \"title\": {\"x\": 0.05}, \"xaxis\": {\"automargin\": true, \"gridcolor\": \"white\", \"linecolor\": \"white\", \"ticks\": \"\", \"title\": {\"standoff\": 15}, \"zerolinecolor\": \"white\", \"zerolinewidth\": 2}, \"yaxis\": {\"automargin\": true, \"gridcolor\": \"white\", \"linecolor\": \"white\", \"ticks\": \"\", \"title\": {\"standoff\": 15}, \"zerolinecolor\": \"white\", \"zerolinewidth\": 2}}}, \"title\": {\"text\": \"Most commited crimes by women\"}, \"uniformtext\": {\"minsize\": 6, \"mode\": \"hide\"}, \"width\": 800, \"xaxis\": {\"anchor\": \"y\", \"categoryarray\": [\"CONTRA EL ORDEN ECONOMICO SOCIAL\", \"CONTRA EL PATRIMONIO ECONOMICO\", \"CONTRA EL REGIMEN CONSTITUCIONAL Y LEGAL\", \"CONTRA LA ADMINISTRACION PUBLICA\", \"CONTRA LA EFICAZ Y RECTA IMPARTICION DE JUSTICIA\", \"CONTRA LA FAMILIA\", \"CONTRA LA FE PUBLICA\", \"CONTRA LA LIBERTAD INDIVIDUAL Y OTRAS GARANTIAS\", \"CONTRA LA LIBERTAD INTEGRIDAD Y FORMACION SEXUALES\", \"CONTRA LA SALUD PUBLICA\", \"CONTRA LA SEGURIDAD PUBLICA\", \"CONTRA LA VIDA Y LA INTEGRIDAD PERSONAL\", \"CONTRA LOS DERECHOS DE AUTOR\", \"CONTRA LOS RECURSOS NATURALES Y EL MEDIO AMBIENTE\", \"CONTRA MECANISMOS DE PARTICIPACION DEMOCRATICA\", \"CONTRA PERSONAS Y BIENES PROTEGIDOS POR EL DERECHO INTERNACIONAL HUMANITARIO\", \"DE LA PROTECCION DE LA INFORMACION Y DE LOS DATOS\", \"DELITOS CONTRA EL SERVICIO\"], \"categoryorder\": \"array\", \"domain\": [0.0, 1.0], \"tickangle\": -45, \"tickfont\": {\"color\": \"black\", \"family\": \"Rockwell\", \"size\": 8}, \"title\": {\"text\": \"TITULO_DELITO\"}}, \"yaxis\": {\"anchor\": \"x\", \"domain\": [0.0, 1.0], \"title\": {\"text\": \"Amount of recidivist crimes\"}}},\n",
       "                        {\"responsive\": true}\n",
       "                    ).then(function(){\n",
       "                            \n",
       "var gd = document.getElementById('7033e9fd-cf7e-4cb8-85f1-192188d1a7d4');\n",
       "var x = new MutationObserver(function (mutations, observer) {{\n",
       "        var display = window.getComputedStyle(gd).display;\n",
       "        if (!display || display === 'none') {{\n",
       "            console.log([gd, 'removed!']);\n",
       "            Plotly.purge(gd);\n",
       "            observer.disconnect();\n",
       "        }}\n",
       "}});\n",
       "\n",
       "// Listen for the removal of the full notebook cells\n",
       "var notebookContainer = gd.closest('#notebook-container');\n",
       "if (notebookContainer) {{\n",
       "    x.observe(notebookContainer, {childList: true});\n",
       "}}\n",
       "\n",
       "// Listen for the clearing of the current output cell\n",
       "var outputEl = gd.closest('.output');\n",
       "if (outputEl) {{\n",
       "    x.observe(outputEl, {childList: true});\n",
       "}}\n",
       "\n",
       "                        })\n",
       "                };\n",
       "                });\n",
       "            </script>\n",
       "        </div>"
      ]
     },
     "metadata": {},
     "output_type": "display_data"
    }
   ],
   "source": [
    "fig = px.bar(df_genero[df_genero[\"GENERO\"]==\"FEMENINO\"], x='TITULO_DELITO', y='INTERNOEN',\n",
    "             hover_data=['TITULO_DELITO'], color='TITULO_DELITO',\n",
    "             labels={'INTERNOEN':'Amount of recidivist crimes'}, height=400, barmode='stack', text=\"INTERNOEN\")\n",
    "fig.update_traces(texttemplate='%{text:.2s}', textposition='outside')\n",
    "fig.update_layout(uniformtext_minsize=6, uniformtext_mode='hide', xaxis_tickangle=-45, showlegend=False, autosize=False,\n",
    "                 width=800, height=700, margin=dict(l=50, r=50, b=100, t=100, pad=4 ),\n",
    "                  title=\"Most commited crimes by women\",\n",
    "                 )\n",
    "fig.update_xaxes( tickfont=dict(family='Rockwell', color='black', size=8)) #tickangle=45,\n",
    "\n",
    "fig.show()"
   ]
  },
  {
   "cell_type": "code",
   "execution_count": 36,
   "metadata": {},
   "outputs": [
    {
     "data": {
      "application/vnd.plotly.v1+json": {
       "config": {
        "plotlyServerURL": "https://plot.ly"
       },
       "data": [
        {
         "alignmentgroup": "True",
         "customdata": [
          [
           "FEMENINO",
           "CONTRA EL ORDEN ECONOMICO SOCIAL"
          ],
          [
           "FEMENINO",
           "CONTRA EL PATRIMONIO ECONOMICO"
          ],
          [
           "FEMENINO",
           "CONTRA EL REGIMEN CONSTITUCIONAL Y LEGAL"
          ],
          [
           "FEMENINO",
           "CONTRA LA ADMINISTRACION PUBLICA"
          ],
          [
           "FEMENINO",
           "CONTRA LA EFICAZ Y RECTA IMPARTICION DE JUSTICIA"
          ],
          [
           "FEMENINO",
           "CONTRA LA FAMILIA"
          ],
          [
           "FEMENINO",
           "CONTRA LA FE PUBLICA"
          ],
          [
           "FEMENINO",
           "CONTRA LA LIBERTAD INDIVIDUAL Y OTRAS GARANTIAS"
          ],
          [
           "FEMENINO",
           "CONTRA LA LIBERTAD INTEGRIDAD Y FORMACION SEXUALES"
          ],
          [
           "FEMENINO",
           "CONTRA LA SALUD PUBLICA"
          ],
          [
           "FEMENINO",
           "CONTRA LA SEGURIDAD PUBLICA"
          ],
          [
           "FEMENINO",
           "CONTRA LA VIDA Y LA INTEGRIDAD PERSONAL"
          ],
          [
           "FEMENINO",
           "CONTRA LOS DERECHOS DE AUTOR"
          ],
          [
           "FEMENINO",
           "CONTRA LOS RECURSOS NATURALES Y EL MEDIO AMBIENTE"
          ],
          [
           "FEMENINO",
           "CONTRA MECANISMOS DE PARTICIPACION DEMOCRATICA"
          ],
          [
           "FEMENINO",
           "CONTRA PERSONAS Y BIENES PROTEGIDOS POR EL DERECHO INTERNACIONAL HUMANITARIO"
          ],
          [
           "FEMENINO",
           "DE LA PROTECCION DE LA INFORMACION Y DE LOS DATOS"
          ],
          [
           "FEMENINO",
           "DELITOS CONTRA EL SERVICIO"
          ]
         ],
         "hovertemplate": "GENERO=%{customdata[0]}<br>TITULO_DELITO=%{customdata[1]}<br>Amount of recidivist crimes=%{text}<extra></extra>",
         "legendgroup": "FEMENINO",
         "marker": {
          "color": "#636efa"
         },
         "name": "FEMENINO",
         "offsetgroup": "FEMENINO",
         "orientation": "v",
         "showlegend": true,
         "text": [
          61,
          3668,
          27,
          142,
          240,
          57,
          336,
          183,
          45,
          4525,
          1688,
          387,
          6,
          3,
          1,
          1,
          35,
          9
         ],
         "textposition": "outside",
         "texttemplate": "%{text:.2s}",
         "type": "bar",
         "x": [
          "CONTRA EL ORDEN ECONOMICO SOCIAL",
          "CONTRA EL PATRIMONIO ECONOMICO",
          "CONTRA EL REGIMEN CONSTITUCIONAL Y LEGAL",
          "CONTRA LA ADMINISTRACION PUBLICA",
          "CONTRA LA EFICAZ Y RECTA IMPARTICION DE JUSTICIA",
          "CONTRA LA FAMILIA",
          "CONTRA LA FE PUBLICA",
          "CONTRA LA LIBERTAD INDIVIDUAL Y OTRAS GARANTIAS",
          "CONTRA LA LIBERTAD INTEGRIDAD Y FORMACION SEXUALES",
          "CONTRA LA SALUD PUBLICA",
          "CONTRA LA SEGURIDAD PUBLICA",
          "CONTRA LA VIDA Y LA INTEGRIDAD PERSONAL",
          "CONTRA LOS DERECHOS DE AUTOR",
          "CONTRA LOS RECURSOS NATURALES Y EL MEDIO AMBIENTE",
          "CONTRA MECANISMOS DE PARTICIPACION DEMOCRATICA",
          "CONTRA PERSONAS Y BIENES PROTEGIDOS POR EL DERECHO INTERNACIONAL HUMANITARIO",
          "DE LA PROTECCION DE LA INFORMACION Y DE LOS DATOS",
          "DELITOS CONTRA EL SERVICIO"
         ],
         "xaxis": "x",
         "y": [
          61,
          3668,
          27,
          142,
          240,
          57,
          336,
          183,
          45,
          4525,
          1688,
          387,
          6,
          3,
          1,
          1,
          35,
          9
         ],
         "yaxis": "y"
        },
        {
         "alignmentgroup": "True",
         "customdata": [
          [
           "MASCULINO",
           "ACCION DE TUTELA"
          ],
          [
           "MASCULINO",
           "CONTRA EL ORDEN ECONOMICO SOCIAL"
          ],
          [
           "MASCULINO",
           "CONTRA EL PATRIMONIO ECONOMICO"
          ],
          [
           "MASCULINO",
           "CONTRA EL REGIMEN CONSTITUCIONAL Y LEGAL"
          ],
          [
           "MASCULINO",
           "CONTRA LA ADMINISTRACION PUBLICA"
          ],
          [
           "MASCULINO",
           "CONTRA LA EFICAZ Y RECTA IMPARTICION DE JUSTICIA"
          ],
          [
           "MASCULINO",
           "CONTRA LA EXISTENCIA Y SEGURIDAD DEL ESTADO"
          ],
          [
           "MASCULINO",
           "CONTRA LA FAMILIA"
          ],
          [
           "MASCULINO",
           "CONTRA LA FE PUBLICA"
          ],
          [
           "MASCULINO",
           "CONTRA LA INTEGRIDAD MORAL"
          ],
          [
           "MASCULINO",
           "CONTRA LA LIBERTAD INDIVIDUAL Y OTRAS GARANTIAS"
          ],
          [
           "MASCULINO",
           "CONTRA LA LIBERTAD INTEGRIDAD Y FORMACION SEXUALES"
          ],
          [
           "MASCULINO",
           "CONTRA LA SALUD PUBLICA"
          ],
          [
           "MASCULINO",
           "CONTRA LA SEGURIDAD PUBLICA"
          ],
          [
           "MASCULINO",
           "CONTRA LA VIDA Y LA INTEGRIDAD PERSONAL"
          ],
          [
           "MASCULINO",
           "CONTRA LOS DERECHOS DE AUTOR"
          ],
          [
           "MASCULINO",
           "CONTRA LOS RECURSOS NATURALES Y EL MEDIO AMBIENTE"
          ],
          [
           "MASCULINO",
           "CONTRA MECANISMOS DE PARTICIPACION DEMOCRATICA"
          ],
          [
           "MASCULINO",
           "CONTRA PERSONAS Y BIENES PROTEGIDOS POR EL DERECHO INTERNACIONAL HUMANITARIO"
          ],
          [
           "MASCULINO",
           "DE LA PROTECCION DE LA INFORMACION Y DE LOS DATOS"
          ],
          [
           "MASCULINO",
           "DELITOS CONTRA EL SERVICIO"
          ],
          [
           "MASCULINO",
           "DELITOS CONTRA LA ADMINISTRACION PUBLICA"
          ],
          [
           "MASCULINO",
           "DELITOS CONTRA LA DISCIPLINA"
          ],
          [
           "MASCULINO",
           "DELITOS DE PARAMILITARISMO Y SICARIATO"
          ],
          [
           "MASCULINO",
           "LEGISLACION INDIGENA"
          ]
         ],
         "hovertemplate": "GENERO=%{customdata[0]}<br>TITULO_DELITO=%{customdata[1]}<br>Amount of recidivist crimes=%{text}<extra></extra>",
         "legendgroup": "MASCULINO",
         "marker": {
          "color": "#EF553B"
         },
         "name": "MASCULINO",
         "offsetgroup": "MASCULINO",
         "orientation": "v",
         "showlegend": true,
         "text": [
          4,
          459,
          53192,
          339,
          1218,
          2855,
          1,
          3632,
          2025,
          23,
          2713,
          2802,
          20503,
          29903,
          10942,
          25,
          242,
          16,
          140,
          280,
          144,
          2,
          5,
          9,
          11
         ],
         "textposition": "outside",
         "texttemplate": "%{text:.2s}",
         "type": "bar",
         "x": [
          "ACCION DE TUTELA",
          "CONTRA EL ORDEN ECONOMICO SOCIAL",
          "CONTRA EL PATRIMONIO ECONOMICO",
          "CONTRA EL REGIMEN CONSTITUCIONAL Y LEGAL",
          "CONTRA LA ADMINISTRACION PUBLICA",
          "CONTRA LA EFICAZ Y RECTA IMPARTICION DE JUSTICIA",
          "CONTRA LA EXISTENCIA Y SEGURIDAD DEL ESTADO",
          "CONTRA LA FAMILIA",
          "CONTRA LA FE PUBLICA",
          "CONTRA LA INTEGRIDAD MORAL",
          "CONTRA LA LIBERTAD INDIVIDUAL Y OTRAS GARANTIAS",
          "CONTRA LA LIBERTAD INTEGRIDAD Y FORMACION SEXUALES",
          "CONTRA LA SALUD PUBLICA",
          "CONTRA LA SEGURIDAD PUBLICA",
          "CONTRA LA VIDA Y LA INTEGRIDAD PERSONAL",
          "CONTRA LOS DERECHOS DE AUTOR",
          "CONTRA LOS RECURSOS NATURALES Y EL MEDIO AMBIENTE",
          "CONTRA MECANISMOS DE PARTICIPACION DEMOCRATICA",
          "CONTRA PERSONAS Y BIENES PROTEGIDOS POR EL DERECHO INTERNACIONAL HUMANITARIO",
          "DE LA PROTECCION DE LA INFORMACION Y DE LOS DATOS",
          "DELITOS CONTRA EL SERVICIO",
          "DELITOS CONTRA LA ADMINISTRACION PUBLICA",
          "DELITOS CONTRA LA DISCIPLINA",
          "DELITOS DE PARAMILITARISMO Y SICARIATO",
          "LEGISLACION INDIGENA"
         ],
         "xaxis": "x",
         "y": [
          4,
          459,
          53192,
          339,
          1218,
          2855,
          1,
          3632,
          2025,
          23,
          2713,
          2802,
          20503,
          29903,
          10942,
          25,
          242,
          16,
          140,
          280,
          144,
          2,
          5,
          9,
          11
         ],
         "yaxis": "y"
        }
       ],
       "layout": {
        "autosize": false,
        "barmode": "relative",
        "height": 700,
        "legend": {
         "title": {
          "text": "GENERO"
         },
         "tracegroupgap": 0
        },
        "margin": {
         "b": 100,
         "l": 50,
         "pad": 4,
         "r": 50,
         "t": 100
        },
        "showlegend": true,
        "template": {
         "data": {
          "bar": [
           {
            "error_x": {
             "color": "#2a3f5f"
            },
            "error_y": {
             "color": "#2a3f5f"
            },
            "marker": {
             "line": {
              "color": "#E5ECF6",
              "width": 0.5
             }
            },
            "type": "bar"
           }
          ],
          "barpolar": [
           {
            "marker": {
             "line": {
              "color": "#E5ECF6",
              "width": 0.5
             }
            },
            "type": "barpolar"
           }
          ],
          "carpet": [
           {
            "aaxis": {
             "endlinecolor": "#2a3f5f",
             "gridcolor": "white",
             "linecolor": "white",
             "minorgridcolor": "white",
             "startlinecolor": "#2a3f5f"
            },
            "baxis": {
             "endlinecolor": "#2a3f5f",
             "gridcolor": "white",
             "linecolor": "white",
             "minorgridcolor": "white",
             "startlinecolor": "#2a3f5f"
            },
            "type": "carpet"
           }
          ],
          "choropleth": [
           {
            "colorbar": {
             "outlinewidth": 0,
             "ticks": ""
            },
            "type": "choropleth"
           }
          ],
          "contour": [
           {
            "colorbar": {
             "outlinewidth": 0,
             "ticks": ""
            },
            "colorscale": [
             [
              0,
              "#0d0887"
             ],
             [
              0.1111111111111111,
              "#46039f"
             ],
             [
              0.2222222222222222,
              "#7201a8"
             ],
             [
              0.3333333333333333,
              "#9c179e"
             ],
             [
              0.4444444444444444,
              "#bd3786"
             ],
             [
              0.5555555555555556,
              "#d8576b"
             ],
             [
              0.6666666666666666,
              "#ed7953"
             ],
             [
              0.7777777777777778,
              "#fb9f3a"
             ],
             [
              0.8888888888888888,
              "#fdca26"
             ],
             [
              1,
              "#f0f921"
             ]
            ],
            "type": "contour"
           }
          ],
          "contourcarpet": [
           {
            "colorbar": {
             "outlinewidth": 0,
             "ticks": ""
            },
            "type": "contourcarpet"
           }
          ],
          "heatmap": [
           {
            "colorbar": {
             "outlinewidth": 0,
             "ticks": ""
            },
            "colorscale": [
             [
              0,
              "#0d0887"
             ],
             [
              0.1111111111111111,
              "#46039f"
             ],
             [
              0.2222222222222222,
              "#7201a8"
             ],
             [
              0.3333333333333333,
              "#9c179e"
             ],
             [
              0.4444444444444444,
              "#bd3786"
             ],
             [
              0.5555555555555556,
              "#d8576b"
             ],
             [
              0.6666666666666666,
              "#ed7953"
             ],
             [
              0.7777777777777778,
              "#fb9f3a"
             ],
             [
              0.8888888888888888,
              "#fdca26"
             ],
             [
              1,
              "#f0f921"
             ]
            ],
            "type": "heatmap"
           }
          ],
          "heatmapgl": [
           {
            "colorbar": {
             "outlinewidth": 0,
             "ticks": ""
            },
            "colorscale": [
             [
              0,
              "#0d0887"
             ],
             [
              0.1111111111111111,
              "#46039f"
             ],
             [
              0.2222222222222222,
              "#7201a8"
             ],
             [
              0.3333333333333333,
              "#9c179e"
             ],
             [
              0.4444444444444444,
              "#bd3786"
             ],
             [
              0.5555555555555556,
              "#d8576b"
             ],
             [
              0.6666666666666666,
              "#ed7953"
             ],
             [
              0.7777777777777778,
              "#fb9f3a"
             ],
             [
              0.8888888888888888,
              "#fdca26"
             ],
             [
              1,
              "#f0f921"
             ]
            ],
            "type": "heatmapgl"
           }
          ],
          "histogram": [
           {
            "marker": {
             "colorbar": {
              "outlinewidth": 0,
              "ticks": ""
             }
            },
            "type": "histogram"
           }
          ],
          "histogram2d": [
           {
            "colorbar": {
             "outlinewidth": 0,
             "ticks": ""
            },
            "colorscale": [
             [
              0,
              "#0d0887"
             ],
             [
              0.1111111111111111,
              "#46039f"
             ],
             [
              0.2222222222222222,
              "#7201a8"
             ],
             [
              0.3333333333333333,
              "#9c179e"
             ],
             [
              0.4444444444444444,
              "#bd3786"
             ],
             [
              0.5555555555555556,
              "#d8576b"
             ],
             [
              0.6666666666666666,
              "#ed7953"
             ],
             [
              0.7777777777777778,
              "#fb9f3a"
             ],
             [
              0.8888888888888888,
              "#fdca26"
             ],
             [
              1,
              "#f0f921"
             ]
            ],
            "type": "histogram2d"
           }
          ],
          "histogram2dcontour": [
           {
            "colorbar": {
             "outlinewidth": 0,
             "ticks": ""
            },
            "colorscale": [
             [
              0,
              "#0d0887"
             ],
             [
              0.1111111111111111,
              "#46039f"
             ],
             [
              0.2222222222222222,
              "#7201a8"
             ],
             [
              0.3333333333333333,
              "#9c179e"
             ],
             [
              0.4444444444444444,
              "#bd3786"
             ],
             [
              0.5555555555555556,
              "#d8576b"
             ],
             [
              0.6666666666666666,
              "#ed7953"
             ],
             [
              0.7777777777777778,
              "#fb9f3a"
             ],
             [
              0.8888888888888888,
              "#fdca26"
             ],
             [
              1,
              "#f0f921"
             ]
            ],
            "type": "histogram2dcontour"
           }
          ],
          "mesh3d": [
           {
            "colorbar": {
             "outlinewidth": 0,
             "ticks": ""
            },
            "type": "mesh3d"
           }
          ],
          "parcoords": [
           {
            "line": {
             "colorbar": {
              "outlinewidth": 0,
              "ticks": ""
             }
            },
            "type": "parcoords"
           }
          ],
          "pie": [
           {
            "automargin": true,
            "type": "pie"
           }
          ],
          "scatter": [
           {
            "marker": {
             "colorbar": {
              "outlinewidth": 0,
              "ticks": ""
             }
            },
            "type": "scatter"
           }
          ],
          "scatter3d": [
           {
            "line": {
             "colorbar": {
              "outlinewidth": 0,
              "ticks": ""
             }
            },
            "marker": {
             "colorbar": {
              "outlinewidth": 0,
              "ticks": ""
             }
            },
            "type": "scatter3d"
           }
          ],
          "scattercarpet": [
           {
            "marker": {
             "colorbar": {
              "outlinewidth": 0,
              "ticks": ""
             }
            },
            "type": "scattercarpet"
           }
          ],
          "scattergeo": [
           {
            "marker": {
             "colorbar": {
              "outlinewidth": 0,
              "ticks": ""
             }
            },
            "type": "scattergeo"
           }
          ],
          "scattergl": [
           {
            "marker": {
             "colorbar": {
              "outlinewidth": 0,
              "ticks": ""
             }
            },
            "type": "scattergl"
           }
          ],
          "scattermapbox": [
           {
            "marker": {
             "colorbar": {
              "outlinewidth": 0,
              "ticks": ""
             }
            },
            "type": "scattermapbox"
           }
          ],
          "scatterpolar": [
           {
            "marker": {
             "colorbar": {
              "outlinewidth": 0,
              "ticks": ""
             }
            },
            "type": "scatterpolar"
           }
          ],
          "scatterpolargl": [
           {
            "marker": {
             "colorbar": {
              "outlinewidth": 0,
              "ticks": ""
             }
            },
            "type": "scatterpolargl"
           }
          ],
          "scatterternary": [
           {
            "marker": {
             "colorbar": {
              "outlinewidth": 0,
              "ticks": ""
             }
            },
            "type": "scatterternary"
           }
          ],
          "surface": [
           {
            "colorbar": {
             "outlinewidth": 0,
             "ticks": ""
            },
            "colorscale": [
             [
              0,
              "#0d0887"
             ],
             [
              0.1111111111111111,
              "#46039f"
             ],
             [
              0.2222222222222222,
              "#7201a8"
             ],
             [
              0.3333333333333333,
              "#9c179e"
             ],
             [
              0.4444444444444444,
              "#bd3786"
             ],
             [
              0.5555555555555556,
              "#d8576b"
             ],
             [
              0.6666666666666666,
              "#ed7953"
             ],
             [
              0.7777777777777778,
              "#fb9f3a"
             ],
             [
              0.8888888888888888,
              "#fdca26"
             ],
             [
              1,
              "#f0f921"
             ]
            ],
            "type": "surface"
           }
          ],
          "table": [
           {
            "cells": {
             "fill": {
              "color": "#EBF0F8"
             },
             "line": {
              "color": "white"
             }
            },
            "header": {
             "fill": {
              "color": "#C8D4E3"
             },
             "line": {
              "color": "white"
             }
            },
            "type": "table"
           }
          ]
         },
         "layout": {
          "annotationdefaults": {
           "arrowcolor": "#2a3f5f",
           "arrowhead": 0,
           "arrowwidth": 1
          },
          "coloraxis": {
           "colorbar": {
            "outlinewidth": 0,
            "ticks": ""
           }
          },
          "colorscale": {
           "diverging": [
            [
             0,
             "#8e0152"
            ],
            [
             0.1,
             "#c51b7d"
            ],
            [
             0.2,
             "#de77ae"
            ],
            [
             0.3,
             "#f1b6da"
            ],
            [
             0.4,
             "#fde0ef"
            ],
            [
             0.5,
             "#f7f7f7"
            ],
            [
             0.6,
             "#e6f5d0"
            ],
            [
             0.7,
             "#b8e186"
            ],
            [
             0.8,
             "#7fbc41"
            ],
            [
             0.9,
             "#4d9221"
            ],
            [
             1,
             "#276419"
            ]
           ],
           "sequential": [
            [
             0,
             "#0d0887"
            ],
            [
             0.1111111111111111,
             "#46039f"
            ],
            [
             0.2222222222222222,
             "#7201a8"
            ],
            [
             0.3333333333333333,
             "#9c179e"
            ],
            [
             0.4444444444444444,
             "#bd3786"
            ],
            [
             0.5555555555555556,
             "#d8576b"
            ],
            [
             0.6666666666666666,
             "#ed7953"
            ],
            [
             0.7777777777777778,
             "#fb9f3a"
            ],
            [
             0.8888888888888888,
             "#fdca26"
            ],
            [
             1,
             "#f0f921"
            ]
           ],
           "sequentialminus": [
            [
             0,
             "#0d0887"
            ],
            [
             0.1111111111111111,
             "#46039f"
            ],
            [
             0.2222222222222222,
             "#7201a8"
            ],
            [
             0.3333333333333333,
             "#9c179e"
            ],
            [
             0.4444444444444444,
             "#bd3786"
            ],
            [
             0.5555555555555556,
             "#d8576b"
            ],
            [
             0.6666666666666666,
             "#ed7953"
            ],
            [
             0.7777777777777778,
             "#fb9f3a"
            ],
            [
             0.8888888888888888,
             "#fdca26"
            ],
            [
             1,
             "#f0f921"
            ]
           ]
          },
          "colorway": [
           "#636efa",
           "#EF553B",
           "#00cc96",
           "#ab63fa",
           "#FFA15A",
           "#19d3f3",
           "#FF6692",
           "#B6E880",
           "#FF97FF",
           "#FECB52"
          ],
          "font": {
           "color": "#2a3f5f"
          },
          "geo": {
           "bgcolor": "white",
           "lakecolor": "white",
           "landcolor": "#E5ECF6",
           "showlakes": true,
           "showland": true,
           "subunitcolor": "white"
          },
          "hoverlabel": {
           "align": "left"
          },
          "hovermode": "closest",
          "mapbox": {
           "style": "light"
          },
          "paper_bgcolor": "white",
          "plot_bgcolor": "#E5ECF6",
          "polar": {
           "angularaxis": {
            "gridcolor": "white",
            "linecolor": "white",
            "ticks": ""
           },
           "bgcolor": "#E5ECF6",
           "radialaxis": {
            "gridcolor": "white",
            "linecolor": "white",
            "ticks": ""
           }
          },
          "scene": {
           "xaxis": {
            "backgroundcolor": "#E5ECF6",
            "gridcolor": "white",
            "gridwidth": 2,
            "linecolor": "white",
            "showbackground": true,
            "ticks": "",
            "zerolinecolor": "white"
           },
           "yaxis": {
            "backgroundcolor": "#E5ECF6",
            "gridcolor": "white",
            "gridwidth": 2,
            "linecolor": "white",
            "showbackground": true,
            "ticks": "",
            "zerolinecolor": "white"
           },
           "zaxis": {
            "backgroundcolor": "#E5ECF6",
            "gridcolor": "white",
            "gridwidth": 2,
            "linecolor": "white",
            "showbackground": true,
            "ticks": "",
            "zerolinecolor": "white"
           }
          },
          "shapedefaults": {
           "line": {
            "color": "#2a3f5f"
           }
          },
          "ternary": {
           "aaxis": {
            "gridcolor": "white",
            "linecolor": "white",
            "ticks": ""
           },
           "baxis": {
            "gridcolor": "white",
            "linecolor": "white",
            "ticks": ""
           },
           "bgcolor": "#E5ECF6",
           "caxis": {
            "gridcolor": "white",
            "linecolor": "white",
            "ticks": ""
           }
          },
          "title": {
           "x": 0.05
          },
          "xaxis": {
           "automargin": true,
           "gridcolor": "white",
           "linecolor": "white",
           "ticks": "",
           "title": {
            "standoff": 15
           },
           "zerolinecolor": "white",
           "zerolinewidth": 2
          },
          "yaxis": {
           "automargin": true,
           "gridcolor": "white",
           "linecolor": "white",
           "ticks": "",
           "title": {
            "standoff": 15
           },
           "zerolinecolor": "white",
           "zerolinewidth": 2
          }
         }
        },
        "title": {
         "text": "Most commited crimes per gender"
        },
        "uniformtext": {
         "minsize": 7,
         "mode": "hide"
        },
        "width": 800,
        "xaxis": {
         "anchor": "y",
         "domain": [
          0,
          1
         ],
         "tickangle": -45,
         "tickfont": {
          "color": "black",
          "family": "Rockwell",
          "size": 8
         },
         "title": {
          "text": "TITULO_DELITO"
         }
        },
        "yaxis": {
         "anchor": "x",
         "domain": [
          0,
          1
         ],
         "title": {
          "text": "Amount of recidivist crimes"
         }
        }
       }
      },
      "text/html": [
       "<div>\n",
       "        \n",
       "        \n",
       "            <div id=\"df11fc40-1daa-4b0b-b74d-41eb1c8df193\" class=\"plotly-graph-div\" style=\"height:700px; width:800px;\"></div>\n",
       "            <script type=\"text/javascript\">\n",
       "                require([\"plotly\"], function(Plotly) {\n",
       "                    window.PLOTLYENV=window.PLOTLYENV || {};\n",
       "                    \n",
       "                if (document.getElementById(\"df11fc40-1daa-4b0b-b74d-41eb1c8df193\")) {\n",
       "                    Plotly.newPlot(\n",
       "                        'df11fc40-1daa-4b0b-b74d-41eb1c8df193',\n",
       "                        [{\"alignmentgroup\": \"True\", \"customdata\": [[\"FEMENINO\", \"CONTRA EL ORDEN ECONOMICO SOCIAL\"], [\"FEMENINO\", \"CONTRA EL PATRIMONIO ECONOMICO\"], [\"FEMENINO\", \"CONTRA EL REGIMEN CONSTITUCIONAL Y LEGAL\"], [\"FEMENINO\", \"CONTRA LA ADMINISTRACION PUBLICA\"], [\"FEMENINO\", \"CONTRA LA EFICAZ Y RECTA IMPARTICION DE JUSTICIA\"], [\"FEMENINO\", \"CONTRA LA FAMILIA\"], [\"FEMENINO\", \"CONTRA LA FE PUBLICA\"], [\"FEMENINO\", \"CONTRA LA LIBERTAD INDIVIDUAL Y OTRAS GARANTIAS\"], [\"FEMENINO\", \"CONTRA LA LIBERTAD INTEGRIDAD Y FORMACION SEXUALES\"], [\"FEMENINO\", \"CONTRA LA SALUD PUBLICA\"], [\"FEMENINO\", \"CONTRA LA SEGURIDAD PUBLICA\"], [\"FEMENINO\", \"CONTRA LA VIDA Y LA INTEGRIDAD PERSONAL\"], [\"FEMENINO\", \"CONTRA LOS DERECHOS DE AUTOR\"], [\"FEMENINO\", \"CONTRA LOS RECURSOS NATURALES Y EL MEDIO AMBIENTE\"], [\"FEMENINO\", \"CONTRA MECANISMOS DE PARTICIPACION DEMOCRATICA\"], [\"FEMENINO\", \"CONTRA PERSONAS Y BIENES PROTEGIDOS POR EL DERECHO INTERNACIONAL HUMANITARIO\"], [\"FEMENINO\", \"DE LA PROTECCION DE LA INFORMACION Y DE LOS DATOS\"], [\"FEMENINO\", \"DELITOS CONTRA EL SERVICIO\"]], \"hovertemplate\": \"GENERO=%{customdata[0]}<br>TITULO_DELITO=%{customdata[1]}<br>Amount of recidivist crimes=%{text}<extra></extra>\", \"legendgroup\": \"FEMENINO\", \"marker\": {\"color\": \"#636efa\"}, \"name\": \"FEMENINO\", \"offsetgroup\": \"FEMENINO\", \"orientation\": \"v\", \"showlegend\": true, \"text\": [61.0, 3668.0, 27.0, 142.0, 240.0, 57.0, 336.0, 183.0, 45.0, 4525.0, 1688.0, 387.0, 6.0, 3.0, 1.0, 1.0, 35.0, 9.0], \"textposition\": \"outside\", \"texttemplate\": \"%{text:.2s}\", \"type\": \"bar\", \"x\": [\"CONTRA EL ORDEN ECONOMICO SOCIAL\", \"CONTRA EL PATRIMONIO ECONOMICO\", \"CONTRA EL REGIMEN CONSTITUCIONAL Y LEGAL\", \"CONTRA LA ADMINISTRACION PUBLICA\", \"CONTRA LA EFICAZ Y RECTA IMPARTICION DE JUSTICIA\", \"CONTRA LA FAMILIA\", \"CONTRA LA FE PUBLICA\", \"CONTRA LA LIBERTAD INDIVIDUAL Y OTRAS GARANTIAS\", \"CONTRA LA LIBERTAD INTEGRIDAD Y FORMACION SEXUALES\", \"CONTRA LA SALUD PUBLICA\", \"CONTRA LA SEGURIDAD PUBLICA\", \"CONTRA LA VIDA Y LA INTEGRIDAD PERSONAL\", \"CONTRA LOS DERECHOS DE AUTOR\", \"CONTRA LOS RECURSOS NATURALES Y EL MEDIO AMBIENTE\", \"CONTRA MECANISMOS DE PARTICIPACION DEMOCRATICA\", \"CONTRA PERSONAS Y BIENES PROTEGIDOS POR EL DERECHO INTERNACIONAL HUMANITARIO\", \"DE LA PROTECCION DE LA INFORMACION Y DE LOS DATOS\", \"DELITOS CONTRA EL SERVICIO\"], \"xaxis\": \"x\", \"y\": [61, 3668, 27, 142, 240, 57, 336, 183, 45, 4525, 1688, 387, 6, 3, 1, 1, 35, 9], \"yaxis\": \"y\"}, {\"alignmentgroup\": \"True\", \"customdata\": [[\"MASCULINO\", \"ACCION DE TUTELA\"], [\"MASCULINO\", \"CONTRA EL ORDEN ECONOMICO SOCIAL\"], [\"MASCULINO\", \"CONTRA EL PATRIMONIO ECONOMICO\"], [\"MASCULINO\", \"CONTRA EL REGIMEN CONSTITUCIONAL Y LEGAL\"], [\"MASCULINO\", \"CONTRA LA ADMINISTRACION PUBLICA\"], [\"MASCULINO\", \"CONTRA LA EFICAZ Y RECTA IMPARTICION DE JUSTICIA\"], [\"MASCULINO\", \"CONTRA LA EXISTENCIA Y SEGURIDAD DEL ESTADO\"], [\"MASCULINO\", \"CONTRA LA FAMILIA\"], [\"MASCULINO\", \"CONTRA LA FE PUBLICA\"], [\"MASCULINO\", \"CONTRA LA INTEGRIDAD MORAL\"], [\"MASCULINO\", \"CONTRA LA LIBERTAD INDIVIDUAL Y OTRAS GARANTIAS\"], [\"MASCULINO\", \"CONTRA LA LIBERTAD INTEGRIDAD Y FORMACION SEXUALES\"], [\"MASCULINO\", \"CONTRA LA SALUD PUBLICA\"], [\"MASCULINO\", \"CONTRA LA SEGURIDAD PUBLICA\"], [\"MASCULINO\", \"CONTRA LA VIDA Y LA INTEGRIDAD PERSONAL\"], [\"MASCULINO\", \"CONTRA LOS DERECHOS DE AUTOR\"], [\"MASCULINO\", \"CONTRA LOS RECURSOS NATURALES Y EL MEDIO AMBIENTE\"], [\"MASCULINO\", \"CONTRA MECANISMOS DE PARTICIPACION DEMOCRATICA\"], [\"MASCULINO\", \"CONTRA PERSONAS Y BIENES PROTEGIDOS POR EL DERECHO INTERNACIONAL HUMANITARIO\"], [\"MASCULINO\", \"DE LA PROTECCION DE LA INFORMACION Y DE LOS DATOS\"], [\"MASCULINO\", \"DELITOS CONTRA EL SERVICIO\"], [\"MASCULINO\", \"DELITOS CONTRA LA ADMINISTRACION PUBLICA\"], [\"MASCULINO\", \"DELITOS CONTRA LA DISCIPLINA\"], [\"MASCULINO\", \"DELITOS DE PARAMILITARISMO Y SICARIATO\"], [\"MASCULINO\", \"LEGISLACION INDIGENA\"]], \"hovertemplate\": \"GENERO=%{customdata[0]}<br>TITULO_DELITO=%{customdata[1]}<br>Amount of recidivist crimes=%{text}<extra></extra>\", \"legendgroup\": \"MASCULINO\", \"marker\": {\"color\": \"#EF553B\"}, \"name\": \"MASCULINO\", \"offsetgroup\": \"MASCULINO\", \"orientation\": \"v\", \"showlegend\": true, \"text\": [4.0, 459.0, 53192.0, 339.0, 1218.0, 2855.0, 1.0, 3632.0, 2025.0, 23.0, 2713.0, 2802.0, 20503.0, 29903.0, 10942.0, 25.0, 242.0, 16.0, 140.0, 280.0, 144.0, 2.0, 5.0, 9.0, 11.0], \"textposition\": \"outside\", \"texttemplate\": \"%{text:.2s}\", \"type\": \"bar\", \"x\": [\"ACCION DE TUTELA\", \"CONTRA EL ORDEN ECONOMICO SOCIAL\", \"CONTRA EL PATRIMONIO ECONOMICO\", \"CONTRA EL REGIMEN CONSTITUCIONAL Y LEGAL\", \"CONTRA LA ADMINISTRACION PUBLICA\", \"CONTRA LA EFICAZ Y RECTA IMPARTICION DE JUSTICIA\", \"CONTRA LA EXISTENCIA Y SEGURIDAD DEL ESTADO\", \"CONTRA LA FAMILIA\", \"CONTRA LA FE PUBLICA\", \"CONTRA LA INTEGRIDAD MORAL\", \"CONTRA LA LIBERTAD INDIVIDUAL Y OTRAS GARANTIAS\", \"CONTRA LA LIBERTAD INTEGRIDAD Y FORMACION SEXUALES\", \"CONTRA LA SALUD PUBLICA\", \"CONTRA LA SEGURIDAD PUBLICA\", \"CONTRA LA VIDA Y LA INTEGRIDAD PERSONAL\", \"CONTRA LOS DERECHOS DE AUTOR\", \"CONTRA LOS RECURSOS NATURALES Y EL MEDIO AMBIENTE\", \"CONTRA MECANISMOS DE PARTICIPACION DEMOCRATICA\", \"CONTRA PERSONAS Y BIENES PROTEGIDOS POR EL DERECHO INTERNACIONAL HUMANITARIO\", \"DE LA PROTECCION DE LA INFORMACION Y DE LOS DATOS\", \"DELITOS CONTRA EL SERVICIO\", \"DELITOS CONTRA LA ADMINISTRACION PUBLICA\", \"DELITOS CONTRA LA DISCIPLINA\", \"DELITOS DE PARAMILITARISMO Y SICARIATO\", \"LEGISLACION INDIGENA\"], \"xaxis\": \"x\", \"y\": [4, 459, 53192, 339, 1218, 2855, 1, 3632, 2025, 23, 2713, 2802, 20503, 29903, 10942, 25, 242, 16, 140, 280, 144, 2, 5, 9, 11], \"yaxis\": \"y\"}],\n",
       "                        {\"autosize\": false, \"barmode\": \"relative\", \"height\": 700, \"legend\": {\"title\": {\"text\": \"GENERO\"}, \"tracegroupgap\": 0}, \"margin\": {\"b\": 100, \"l\": 50, \"pad\": 4, \"r\": 50, \"t\": 100}, \"showlegend\": true, \"template\": {\"data\": {\"bar\": [{\"error_x\": {\"color\": \"#2a3f5f\"}, \"error_y\": {\"color\": \"#2a3f5f\"}, \"marker\": {\"line\": {\"color\": \"#E5ECF6\", \"width\": 0.5}}, \"type\": \"bar\"}], \"barpolar\": [{\"marker\": {\"line\": {\"color\": \"#E5ECF6\", \"width\": 0.5}}, \"type\": \"barpolar\"}], \"carpet\": [{\"aaxis\": {\"endlinecolor\": \"#2a3f5f\", \"gridcolor\": \"white\", \"linecolor\": \"white\", \"minorgridcolor\": \"white\", \"startlinecolor\": \"#2a3f5f\"}, \"baxis\": {\"endlinecolor\": \"#2a3f5f\", \"gridcolor\": \"white\", \"linecolor\": \"white\", \"minorgridcolor\": \"white\", \"startlinecolor\": \"#2a3f5f\"}, \"type\": \"carpet\"}], \"choropleth\": [{\"colorbar\": {\"outlinewidth\": 0, \"ticks\": \"\"}, \"type\": \"choropleth\"}], \"contour\": [{\"colorbar\": {\"outlinewidth\": 0, \"ticks\": \"\"}, \"colorscale\": [[0.0, \"#0d0887\"], [0.1111111111111111, \"#46039f\"], [0.2222222222222222, \"#7201a8\"], [0.3333333333333333, \"#9c179e\"], [0.4444444444444444, \"#bd3786\"], [0.5555555555555556, \"#d8576b\"], [0.6666666666666666, \"#ed7953\"], [0.7777777777777778, \"#fb9f3a\"], [0.8888888888888888, \"#fdca26\"], [1.0, \"#f0f921\"]], \"type\": \"contour\"}], \"contourcarpet\": [{\"colorbar\": {\"outlinewidth\": 0, \"ticks\": \"\"}, \"type\": \"contourcarpet\"}], \"heatmap\": [{\"colorbar\": {\"outlinewidth\": 0, \"ticks\": \"\"}, \"colorscale\": [[0.0, \"#0d0887\"], [0.1111111111111111, \"#46039f\"], [0.2222222222222222, \"#7201a8\"], [0.3333333333333333, \"#9c179e\"], [0.4444444444444444, \"#bd3786\"], [0.5555555555555556, \"#d8576b\"], [0.6666666666666666, \"#ed7953\"], [0.7777777777777778, \"#fb9f3a\"], [0.8888888888888888, \"#fdca26\"], [1.0, \"#f0f921\"]], \"type\": \"heatmap\"}], \"heatmapgl\": [{\"colorbar\": {\"outlinewidth\": 0, \"ticks\": \"\"}, \"colorscale\": [[0.0, \"#0d0887\"], [0.1111111111111111, \"#46039f\"], [0.2222222222222222, \"#7201a8\"], [0.3333333333333333, \"#9c179e\"], [0.4444444444444444, \"#bd3786\"], [0.5555555555555556, \"#d8576b\"], [0.6666666666666666, \"#ed7953\"], [0.7777777777777778, \"#fb9f3a\"], [0.8888888888888888, \"#fdca26\"], [1.0, \"#f0f921\"]], \"type\": \"heatmapgl\"}], \"histogram\": [{\"marker\": {\"colorbar\": {\"outlinewidth\": 0, \"ticks\": \"\"}}, \"type\": \"histogram\"}], \"histogram2d\": [{\"colorbar\": {\"outlinewidth\": 0, \"ticks\": \"\"}, \"colorscale\": [[0.0, \"#0d0887\"], [0.1111111111111111, \"#46039f\"], [0.2222222222222222, \"#7201a8\"], [0.3333333333333333, \"#9c179e\"], [0.4444444444444444, \"#bd3786\"], [0.5555555555555556, \"#d8576b\"], [0.6666666666666666, \"#ed7953\"], [0.7777777777777778, \"#fb9f3a\"], [0.8888888888888888, \"#fdca26\"], [1.0, \"#f0f921\"]], \"type\": \"histogram2d\"}], \"histogram2dcontour\": [{\"colorbar\": {\"outlinewidth\": 0, \"ticks\": \"\"}, \"colorscale\": [[0.0, \"#0d0887\"], [0.1111111111111111, \"#46039f\"], [0.2222222222222222, \"#7201a8\"], [0.3333333333333333, \"#9c179e\"], [0.4444444444444444, \"#bd3786\"], [0.5555555555555556, \"#d8576b\"], [0.6666666666666666, \"#ed7953\"], [0.7777777777777778, \"#fb9f3a\"], [0.8888888888888888, \"#fdca26\"], [1.0, \"#f0f921\"]], \"type\": \"histogram2dcontour\"}], \"mesh3d\": [{\"colorbar\": {\"outlinewidth\": 0, \"ticks\": \"\"}, \"type\": \"mesh3d\"}], \"parcoords\": [{\"line\": {\"colorbar\": {\"outlinewidth\": 0, \"ticks\": \"\"}}, \"type\": \"parcoords\"}], \"pie\": [{\"automargin\": true, \"type\": \"pie\"}], \"scatter\": [{\"marker\": {\"colorbar\": {\"outlinewidth\": 0, \"ticks\": \"\"}}, \"type\": \"scatter\"}], \"scatter3d\": [{\"line\": {\"colorbar\": {\"outlinewidth\": 0, \"ticks\": \"\"}}, \"marker\": {\"colorbar\": {\"outlinewidth\": 0, \"ticks\": \"\"}}, \"type\": \"scatter3d\"}], \"scattercarpet\": [{\"marker\": {\"colorbar\": {\"outlinewidth\": 0, \"ticks\": \"\"}}, \"type\": \"scattercarpet\"}], \"scattergeo\": [{\"marker\": {\"colorbar\": {\"outlinewidth\": 0, \"ticks\": \"\"}}, \"type\": \"scattergeo\"}], \"scattergl\": [{\"marker\": {\"colorbar\": {\"outlinewidth\": 0, \"ticks\": \"\"}}, \"type\": \"scattergl\"}], \"scattermapbox\": [{\"marker\": {\"colorbar\": {\"outlinewidth\": 0, \"ticks\": \"\"}}, \"type\": \"scattermapbox\"}], \"scatterpolar\": [{\"marker\": {\"colorbar\": {\"outlinewidth\": 0, \"ticks\": \"\"}}, \"type\": \"scatterpolar\"}], \"scatterpolargl\": [{\"marker\": {\"colorbar\": {\"outlinewidth\": 0, \"ticks\": \"\"}}, \"type\": \"scatterpolargl\"}], \"scatterternary\": [{\"marker\": {\"colorbar\": {\"outlinewidth\": 0, \"ticks\": \"\"}}, \"type\": \"scatterternary\"}], \"surface\": [{\"colorbar\": {\"outlinewidth\": 0, \"ticks\": \"\"}, \"colorscale\": [[0.0, \"#0d0887\"], [0.1111111111111111, \"#46039f\"], [0.2222222222222222, \"#7201a8\"], [0.3333333333333333, \"#9c179e\"], [0.4444444444444444, \"#bd3786\"], [0.5555555555555556, \"#d8576b\"], [0.6666666666666666, \"#ed7953\"], [0.7777777777777778, \"#fb9f3a\"], [0.8888888888888888, \"#fdca26\"], [1.0, \"#f0f921\"]], \"type\": \"surface\"}], \"table\": [{\"cells\": {\"fill\": {\"color\": \"#EBF0F8\"}, \"line\": {\"color\": \"white\"}}, \"header\": {\"fill\": {\"color\": \"#C8D4E3\"}, \"line\": {\"color\": \"white\"}}, \"type\": \"table\"}]}, \"layout\": {\"annotationdefaults\": {\"arrowcolor\": \"#2a3f5f\", \"arrowhead\": 0, \"arrowwidth\": 1}, \"coloraxis\": {\"colorbar\": {\"outlinewidth\": 0, \"ticks\": \"\"}}, \"colorscale\": {\"diverging\": [[0, \"#8e0152\"], [0.1, \"#c51b7d\"], [0.2, \"#de77ae\"], [0.3, \"#f1b6da\"], [0.4, \"#fde0ef\"], [0.5, \"#f7f7f7\"], [0.6, \"#e6f5d0\"], [0.7, \"#b8e186\"], [0.8, \"#7fbc41\"], [0.9, \"#4d9221\"], [1, \"#276419\"]], \"sequential\": [[0.0, \"#0d0887\"], [0.1111111111111111, \"#46039f\"], [0.2222222222222222, \"#7201a8\"], [0.3333333333333333, \"#9c179e\"], [0.4444444444444444, \"#bd3786\"], [0.5555555555555556, \"#d8576b\"], [0.6666666666666666, \"#ed7953\"], [0.7777777777777778, \"#fb9f3a\"], [0.8888888888888888, \"#fdca26\"], [1.0, \"#f0f921\"]], \"sequentialminus\": [[0.0, \"#0d0887\"], [0.1111111111111111, \"#46039f\"], [0.2222222222222222, \"#7201a8\"], [0.3333333333333333, \"#9c179e\"], [0.4444444444444444, \"#bd3786\"], [0.5555555555555556, \"#d8576b\"], [0.6666666666666666, \"#ed7953\"], [0.7777777777777778, \"#fb9f3a\"], [0.8888888888888888, \"#fdca26\"], [1.0, \"#f0f921\"]]}, \"colorway\": [\"#636efa\", \"#EF553B\", \"#00cc96\", \"#ab63fa\", \"#FFA15A\", \"#19d3f3\", \"#FF6692\", \"#B6E880\", \"#FF97FF\", \"#FECB52\"], \"font\": {\"color\": \"#2a3f5f\"}, \"geo\": {\"bgcolor\": \"white\", \"lakecolor\": \"white\", \"landcolor\": \"#E5ECF6\", \"showlakes\": true, \"showland\": true, \"subunitcolor\": \"white\"}, \"hoverlabel\": {\"align\": \"left\"}, \"hovermode\": \"closest\", \"mapbox\": {\"style\": \"light\"}, \"paper_bgcolor\": \"white\", \"plot_bgcolor\": \"#E5ECF6\", \"polar\": {\"angularaxis\": {\"gridcolor\": \"white\", \"linecolor\": \"white\", \"ticks\": \"\"}, \"bgcolor\": \"#E5ECF6\", \"radialaxis\": {\"gridcolor\": \"white\", \"linecolor\": \"white\", \"ticks\": \"\"}}, \"scene\": {\"xaxis\": {\"backgroundcolor\": \"#E5ECF6\", \"gridcolor\": \"white\", \"gridwidth\": 2, \"linecolor\": \"white\", \"showbackground\": true, \"ticks\": \"\", \"zerolinecolor\": \"white\"}, \"yaxis\": {\"backgroundcolor\": \"#E5ECF6\", \"gridcolor\": \"white\", \"gridwidth\": 2, \"linecolor\": \"white\", \"showbackground\": true, \"ticks\": \"\", \"zerolinecolor\": \"white\"}, \"zaxis\": {\"backgroundcolor\": \"#E5ECF6\", \"gridcolor\": \"white\", \"gridwidth\": 2, \"linecolor\": \"white\", \"showbackground\": true, \"ticks\": \"\", \"zerolinecolor\": \"white\"}}, \"shapedefaults\": {\"line\": {\"color\": \"#2a3f5f\"}}, \"ternary\": {\"aaxis\": {\"gridcolor\": \"white\", \"linecolor\": \"white\", \"ticks\": \"\"}, \"baxis\": {\"gridcolor\": \"white\", \"linecolor\": \"white\", \"ticks\": \"\"}, \"bgcolor\": \"#E5ECF6\", \"caxis\": {\"gridcolor\": \"white\", \"linecolor\": \"white\", \"ticks\": \"\"}}, \"title\": {\"x\": 0.05}, \"xaxis\": {\"automargin\": true, \"gridcolor\": \"white\", \"linecolor\": \"white\", \"ticks\": \"\", \"title\": {\"standoff\": 15}, \"zerolinecolor\": \"white\", \"zerolinewidth\": 2}, \"yaxis\": {\"automargin\": true, \"gridcolor\": \"white\", \"linecolor\": \"white\", \"ticks\": \"\", \"title\": {\"standoff\": 15}, \"zerolinecolor\": \"white\", \"zerolinewidth\": 2}}}, \"title\": {\"text\": \"Most commited crimes per gender\"}, \"uniformtext\": {\"minsize\": 7, \"mode\": \"hide\"}, \"width\": 800, \"xaxis\": {\"anchor\": \"y\", \"domain\": [0.0, 1.0], \"tickangle\": -45, \"tickfont\": {\"color\": \"black\", \"family\": \"Rockwell\", \"size\": 8}, \"title\": {\"text\": \"TITULO_DELITO\"}}, \"yaxis\": {\"anchor\": \"x\", \"domain\": [0.0, 1.0], \"title\": {\"text\": \"Amount of recidivist crimes\"}}},\n",
       "                        {\"responsive\": true}\n",
       "                    ).then(function(){\n",
       "                            \n",
       "var gd = document.getElementById('df11fc40-1daa-4b0b-b74d-41eb1c8df193');\n",
       "var x = new MutationObserver(function (mutations, observer) {{\n",
       "        var display = window.getComputedStyle(gd).display;\n",
       "        if (!display || display === 'none') {{\n",
       "            console.log([gd, 'removed!']);\n",
       "            Plotly.purge(gd);\n",
       "            observer.disconnect();\n",
       "        }}\n",
       "}});\n",
       "\n",
       "// Listen for the removal of the full notebook cells\n",
       "var notebookContainer = gd.closest('#notebook-container');\n",
       "if (notebookContainer) {{\n",
       "    x.observe(notebookContainer, {childList: true});\n",
       "}}\n",
       "\n",
       "// Listen for the clearing of the current output cell\n",
       "var outputEl = gd.closest('.output');\n",
       "if (outputEl) {{\n",
       "    x.observe(outputEl, {childList: true});\n",
       "}}\n",
       "\n",
       "                        })\n",
       "                };\n",
       "                });\n",
       "            </script>\n",
       "        </div>"
      ]
     },
     "metadata": {},
     "output_type": "display_data"
    }
   ],
   "source": [
    "fig = px.bar(df_genero, x='TITULO_DELITO', y='INTERNOEN',\n",
    "             hover_data=[\"GENERO\",'TITULO_DELITO'], color='GENERO',\n",
    "             labels={'INTERNOEN':'Amount of recidivist crimes'}, height=400, barmode='relative', text=\"INTERNOEN\")\n",
    "fig.update_traces(texttemplate='%{text:.2s}', textposition='outside')\n",
    "fig.update_layout(uniformtext_minsize=7, uniformtext_mode='hide', xaxis_tickangle=-45, showlegend=True, autosize=False,\n",
    "                 width=800, height=700, margin=dict(l=50, r=50, b=100, t=100, pad=4 ),\n",
    "                  title=\"Most commited crimes per gender\",\n",
    "                 )\n",
    "fig.update_xaxes( tickfont=dict(family='Rockwell', color='black', size=8)) #tickangle=45,\n",
    "\n",
    "fig.show()"
   ]
  },
  {
   "cell_type": "code",
   "execution_count": 37,
   "metadata": {
    "scrolled": false
   },
   "outputs": [
    {
     "data": {
      "application/vnd.plotly.v1+json": {
       "config": {
        "plotlyServerURL": "https://plot.ly"
       },
       "data": [
        {
         "alignmentgroup": "True",
         "customdata": [
          [
           "FEMENINO",
           "AMAZONAS"
          ],
          [
           "FEMENINO",
           "ANTIOQUIA"
          ],
          [
           "FEMENINO",
           "ARAUCA"
          ],
          [
           "FEMENINO",
           "ATLANTICO"
          ],
          [
           "FEMENINO",
           "BOGOTA D.C."
          ],
          [
           "FEMENINO",
           "BOLIVAR"
          ],
          [
           "FEMENINO",
           "BOYACA"
          ],
          [
           "FEMENINO",
           "CALDAS"
          ],
          [
           "FEMENINO",
           "CAQUETA"
          ],
          [
           "FEMENINO",
           "CASANARE"
          ],
          [
           "FEMENINO",
           "CAUCA"
          ],
          [
           "FEMENINO",
           "CESAR"
          ],
          [
           "FEMENINO",
           "CHOCO"
          ],
          [
           "FEMENINO",
           "CORDOBA"
          ],
          [
           "FEMENINO",
           "CUNDINAMARCA"
          ],
          [
           "FEMENINO",
           "HUILA"
          ],
          [
           "FEMENINO",
           "LA GUAJIRA"
          ],
          [
           "FEMENINO",
           "MAGDALENA"
          ],
          [
           "FEMENINO",
           "META"
          ],
          [
           "FEMENINO",
           "NARIÑO"
          ],
          [
           "FEMENINO",
           "NORTE DE SANTANDER"
          ],
          [
           "FEMENINO",
           "PUTUMAYO"
          ],
          [
           "FEMENINO",
           "QUINDIO"
          ],
          [
           "FEMENINO",
           "RISARALDA"
          ],
          [
           "FEMENINO",
           "SAN ANDRES Y PROVIDENCIA"
          ],
          [
           "FEMENINO",
           "SANTANDER"
          ],
          [
           "FEMENINO",
           "SUCRE"
          ],
          [
           "FEMENINO",
           "TOLIMA"
          ],
          [
           "FEMENINO",
           "VALLE DEL CAUCA"
          ]
         ],
         "hovertemplate": "GENERO=%{customdata[0]}<br>DEPTO_ESTABLECIMIENTO=%{customdata[1]}<br>Amount of recidivist crimes=%{text}<extra></extra>",
         "legendgroup": "FEMENINO",
         "marker": {
          "color": "#636efa"
         },
         "name": "FEMENINO",
         "offsetgroup": "FEMENINO",
         "orientation": "v",
         "showlegend": true,
         "text": [
          26,
          1691,
          14,
          73,
          2459,
          17,
          353,
          390,
          116,
          112,
          361,
          91,
          38,
          103,
          46,
          442,
          15,
          101,
          283,
          518,
          329,
          39,
          308,
          443,
          11,
          610,
          125,
          440,
          1436
         ],
         "textposition": "outside",
         "texttemplate": "%{text:.2s}",
         "type": "bar",
         "x": [
          "AMAZONAS",
          "ANTIOQUIA",
          "ARAUCA",
          "ATLANTICO",
          "BOGOTA D.C.",
          "BOLIVAR",
          "BOYACA",
          "CALDAS",
          "CAQUETA",
          "CASANARE",
          "CAUCA",
          "CESAR",
          "CHOCO",
          "CORDOBA",
          "CUNDINAMARCA",
          "HUILA",
          "LA GUAJIRA",
          "MAGDALENA",
          "META",
          "NARIÑO",
          "NORTE DE SANTANDER",
          "PUTUMAYO",
          "QUINDIO",
          "RISARALDA",
          "SAN ANDRES Y PROVIDENCIA",
          "SANTANDER",
          "SUCRE",
          "TOLIMA",
          "VALLE DEL CAUCA"
         ],
         "xaxis": "x",
         "y": [
          26,
          1691,
          14,
          73,
          2459,
          17,
          353,
          390,
          116,
          112,
          361,
          91,
          38,
          103,
          46,
          442,
          15,
          101,
          283,
          518,
          329,
          39,
          308,
          443,
          11,
          610,
          125,
          440,
          1436
         ],
         "yaxis": "y"
        },
        {
         "alignmentgroup": "True",
         "customdata": [
          [
           "MASCULINO",
           "AMAZONAS"
          ],
          [
           "MASCULINO",
           "ANTIOQUIA"
          ],
          [
           "MASCULINO",
           "ARAUCA"
          ],
          [
           "MASCULINO",
           "ATLANTICO"
          ],
          [
           "MASCULINO",
           "BOGOTA D.C."
          ],
          [
           "MASCULINO",
           "BOLIVAR"
          ],
          [
           "MASCULINO",
           "BOYACA"
          ],
          [
           "MASCULINO",
           "CALDAS"
          ],
          [
           "MASCULINO",
           "CAQUETA"
          ],
          [
           "MASCULINO",
           "CASANARE"
          ],
          [
           "MASCULINO",
           "CAUCA"
          ],
          [
           "MASCULINO",
           "CESAR"
          ],
          [
           "MASCULINO",
           "CHOCO"
          ],
          [
           "MASCULINO",
           "CORDOBA"
          ],
          [
           "MASCULINO",
           "CUNDINAMARCA"
          ],
          [
           "MASCULINO",
           "HUILA"
          ],
          [
           "MASCULINO",
           "LA GUAJIRA"
          ],
          [
           "MASCULINO",
           "MAGDALENA"
          ],
          [
           "MASCULINO",
           "META"
          ],
          [
           "MASCULINO",
           "NARIÑO"
          ],
          [
           "MASCULINO",
           "NORTE DE SANTANDER"
          ],
          [
           "MASCULINO",
           "PUTUMAYO"
          ],
          [
           "MASCULINO",
           "QUINDIO"
          ],
          [
           "MASCULINO",
           "RISARALDA"
          ],
          [
           "MASCULINO",
           "SAN ANDRES Y PROVIDENCIA"
          ],
          [
           "MASCULINO",
           "SANTANDER"
          ],
          [
           "MASCULINO",
           "SUCRE"
          ],
          [
           "MASCULINO",
           "TOLIMA"
          ],
          [
           "MASCULINO",
           "VALLE DEL CAUCA"
          ]
         ],
         "hovertemplate": "GENERO=%{customdata[0]}<br>DEPTO_ESTABLECIMIENTO=%{customdata[1]}<br>Amount of recidivist crimes=%{text}<extra></extra>",
         "legendgroup": "MASCULINO",
         "marker": {
          "color": "#EF553B"
         },
         "name": "MASCULINO",
         "offsetgroup": "MASCULINO",
         "orientation": "v",
         "showlegend": true,
         "text": [
          323,
          16900,
          499,
          2491,
          16549,
          1914,
          6934,
          4906,
          2169,
          1729,
          4296,
          2022,
          603,
          2942,
          5721,
          4750,
          441,
          1351,
          7713,
          3638,
          4092,
          339,
          2296,
          2772,
          241,
          8664,
          1347,
          5566,
          15910
         ],
         "textposition": "outside",
         "texttemplate": "%{text:.2s}",
         "type": "bar",
         "x": [
          "AMAZONAS",
          "ANTIOQUIA",
          "ARAUCA",
          "ATLANTICO",
          "BOGOTA D.C.",
          "BOLIVAR",
          "BOYACA",
          "CALDAS",
          "CAQUETA",
          "CASANARE",
          "CAUCA",
          "CESAR",
          "CHOCO",
          "CORDOBA",
          "CUNDINAMARCA",
          "HUILA",
          "LA GUAJIRA",
          "MAGDALENA",
          "META",
          "NARIÑO",
          "NORTE DE SANTANDER",
          "PUTUMAYO",
          "QUINDIO",
          "RISARALDA",
          "SAN ANDRES Y PROVIDENCIA",
          "SANTANDER",
          "SUCRE",
          "TOLIMA",
          "VALLE DEL CAUCA"
         ],
         "xaxis": "x",
         "y": [
          323,
          16900,
          499,
          2491,
          16549,
          1914,
          6934,
          4906,
          2169,
          1729,
          4296,
          2022,
          603,
          2942,
          5721,
          4750,
          441,
          1351,
          7713,
          3638,
          4092,
          339,
          2296,
          2772,
          241,
          8664,
          1347,
          5566,
          15910
         ],
         "yaxis": "y"
        }
       ],
       "layout": {
        "autosize": false,
        "barmode": "relative",
        "height": 700,
        "legend": {
         "title": {
          "text": "GENERO"
         },
         "tracegroupgap": 0
        },
        "margin": {
         "b": 100,
         "l": 50,
         "pad": 4,
         "r": 50,
         "t": 100
        },
        "showlegend": true,
        "template": {
         "data": {
          "bar": [
           {
            "error_x": {
             "color": "#2a3f5f"
            },
            "error_y": {
             "color": "#2a3f5f"
            },
            "marker": {
             "line": {
              "color": "#E5ECF6",
              "width": 0.5
             }
            },
            "type": "bar"
           }
          ],
          "barpolar": [
           {
            "marker": {
             "line": {
              "color": "#E5ECF6",
              "width": 0.5
             }
            },
            "type": "barpolar"
           }
          ],
          "carpet": [
           {
            "aaxis": {
             "endlinecolor": "#2a3f5f",
             "gridcolor": "white",
             "linecolor": "white",
             "minorgridcolor": "white",
             "startlinecolor": "#2a3f5f"
            },
            "baxis": {
             "endlinecolor": "#2a3f5f",
             "gridcolor": "white",
             "linecolor": "white",
             "minorgridcolor": "white",
             "startlinecolor": "#2a3f5f"
            },
            "type": "carpet"
           }
          ],
          "choropleth": [
           {
            "colorbar": {
             "outlinewidth": 0,
             "ticks": ""
            },
            "type": "choropleth"
           }
          ],
          "contour": [
           {
            "colorbar": {
             "outlinewidth": 0,
             "ticks": ""
            },
            "colorscale": [
             [
              0,
              "#0d0887"
             ],
             [
              0.1111111111111111,
              "#46039f"
             ],
             [
              0.2222222222222222,
              "#7201a8"
             ],
             [
              0.3333333333333333,
              "#9c179e"
             ],
             [
              0.4444444444444444,
              "#bd3786"
             ],
             [
              0.5555555555555556,
              "#d8576b"
             ],
             [
              0.6666666666666666,
              "#ed7953"
             ],
             [
              0.7777777777777778,
              "#fb9f3a"
             ],
             [
              0.8888888888888888,
              "#fdca26"
             ],
             [
              1,
              "#f0f921"
             ]
            ],
            "type": "contour"
           }
          ],
          "contourcarpet": [
           {
            "colorbar": {
             "outlinewidth": 0,
             "ticks": ""
            },
            "type": "contourcarpet"
           }
          ],
          "heatmap": [
           {
            "colorbar": {
             "outlinewidth": 0,
             "ticks": ""
            },
            "colorscale": [
             [
              0,
              "#0d0887"
             ],
             [
              0.1111111111111111,
              "#46039f"
             ],
             [
              0.2222222222222222,
              "#7201a8"
             ],
             [
              0.3333333333333333,
              "#9c179e"
             ],
             [
              0.4444444444444444,
              "#bd3786"
             ],
             [
              0.5555555555555556,
              "#d8576b"
             ],
             [
              0.6666666666666666,
              "#ed7953"
             ],
             [
              0.7777777777777778,
              "#fb9f3a"
             ],
             [
              0.8888888888888888,
              "#fdca26"
             ],
             [
              1,
              "#f0f921"
             ]
            ],
            "type": "heatmap"
           }
          ],
          "heatmapgl": [
           {
            "colorbar": {
             "outlinewidth": 0,
             "ticks": ""
            },
            "colorscale": [
             [
              0,
              "#0d0887"
             ],
             [
              0.1111111111111111,
              "#46039f"
             ],
             [
              0.2222222222222222,
              "#7201a8"
             ],
             [
              0.3333333333333333,
              "#9c179e"
             ],
             [
              0.4444444444444444,
              "#bd3786"
             ],
             [
              0.5555555555555556,
              "#d8576b"
             ],
             [
              0.6666666666666666,
              "#ed7953"
             ],
             [
              0.7777777777777778,
              "#fb9f3a"
             ],
             [
              0.8888888888888888,
              "#fdca26"
             ],
             [
              1,
              "#f0f921"
             ]
            ],
            "type": "heatmapgl"
           }
          ],
          "histogram": [
           {
            "marker": {
             "colorbar": {
              "outlinewidth": 0,
              "ticks": ""
             }
            },
            "type": "histogram"
           }
          ],
          "histogram2d": [
           {
            "colorbar": {
             "outlinewidth": 0,
             "ticks": ""
            },
            "colorscale": [
             [
              0,
              "#0d0887"
             ],
             [
              0.1111111111111111,
              "#46039f"
             ],
             [
              0.2222222222222222,
              "#7201a8"
             ],
             [
              0.3333333333333333,
              "#9c179e"
             ],
             [
              0.4444444444444444,
              "#bd3786"
             ],
             [
              0.5555555555555556,
              "#d8576b"
             ],
             [
              0.6666666666666666,
              "#ed7953"
             ],
             [
              0.7777777777777778,
              "#fb9f3a"
             ],
             [
              0.8888888888888888,
              "#fdca26"
             ],
             [
              1,
              "#f0f921"
             ]
            ],
            "type": "histogram2d"
           }
          ],
          "histogram2dcontour": [
           {
            "colorbar": {
             "outlinewidth": 0,
             "ticks": ""
            },
            "colorscale": [
             [
              0,
              "#0d0887"
             ],
             [
              0.1111111111111111,
              "#46039f"
             ],
             [
              0.2222222222222222,
              "#7201a8"
             ],
             [
              0.3333333333333333,
              "#9c179e"
             ],
             [
              0.4444444444444444,
              "#bd3786"
             ],
             [
              0.5555555555555556,
              "#d8576b"
             ],
             [
              0.6666666666666666,
              "#ed7953"
             ],
             [
              0.7777777777777778,
              "#fb9f3a"
             ],
             [
              0.8888888888888888,
              "#fdca26"
             ],
             [
              1,
              "#f0f921"
             ]
            ],
            "type": "histogram2dcontour"
           }
          ],
          "mesh3d": [
           {
            "colorbar": {
             "outlinewidth": 0,
             "ticks": ""
            },
            "type": "mesh3d"
           }
          ],
          "parcoords": [
           {
            "line": {
             "colorbar": {
              "outlinewidth": 0,
              "ticks": ""
             }
            },
            "type": "parcoords"
           }
          ],
          "pie": [
           {
            "automargin": true,
            "type": "pie"
           }
          ],
          "scatter": [
           {
            "marker": {
             "colorbar": {
              "outlinewidth": 0,
              "ticks": ""
             }
            },
            "type": "scatter"
           }
          ],
          "scatter3d": [
           {
            "line": {
             "colorbar": {
              "outlinewidth": 0,
              "ticks": ""
             }
            },
            "marker": {
             "colorbar": {
              "outlinewidth": 0,
              "ticks": ""
             }
            },
            "type": "scatter3d"
           }
          ],
          "scattercarpet": [
           {
            "marker": {
             "colorbar": {
              "outlinewidth": 0,
              "ticks": ""
             }
            },
            "type": "scattercarpet"
           }
          ],
          "scattergeo": [
           {
            "marker": {
             "colorbar": {
              "outlinewidth": 0,
              "ticks": ""
             }
            },
            "type": "scattergeo"
           }
          ],
          "scattergl": [
           {
            "marker": {
             "colorbar": {
              "outlinewidth": 0,
              "ticks": ""
             }
            },
            "type": "scattergl"
           }
          ],
          "scattermapbox": [
           {
            "marker": {
             "colorbar": {
              "outlinewidth": 0,
              "ticks": ""
             }
            },
            "type": "scattermapbox"
           }
          ],
          "scatterpolar": [
           {
            "marker": {
             "colorbar": {
              "outlinewidth": 0,
              "ticks": ""
             }
            },
            "type": "scatterpolar"
           }
          ],
          "scatterpolargl": [
           {
            "marker": {
             "colorbar": {
              "outlinewidth": 0,
              "ticks": ""
             }
            },
            "type": "scatterpolargl"
           }
          ],
          "scatterternary": [
           {
            "marker": {
             "colorbar": {
              "outlinewidth": 0,
              "ticks": ""
             }
            },
            "type": "scatterternary"
           }
          ],
          "surface": [
           {
            "colorbar": {
             "outlinewidth": 0,
             "ticks": ""
            },
            "colorscale": [
             [
              0,
              "#0d0887"
             ],
             [
              0.1111111111111111,
              "#46039f"
             ],
             [
              0.2222222222222222,
              "#7201a8"
             ],
             [
              0.3333333333333333,
              "#9c179e"
             ],
             [
              0.4444444444444444,
              "#bd3786"
             ],
             [
              0.5555555555555556,
              "#d8576b"
             ],
             [
              0.6666666666666666,
              "#ed7953"
             ],
             [
              0.7777777777777778,
              "#fb9f3a"
             ],
             [
              0.8888888888888888,
              "#fdca26"
             ],
             [
              1,
              "#f0f921"
             ]
            ],
            "type": "surface"
           }
          ],
          "table": [
           {
            "cells": {
             "fill": {
              "color": "#EBF0F8"
             },
             "line": {
              "color": "white"
             }
            },
            "header": {
             "fill": {
              "color": "#C8D4E3"
             },
             "line": {
              "color": "white"
             }
            },
            "type": "table"
           }
          ]
         },
         "layout": {
          "annotationdefaults": {
           "arrowcolor": "#2a3f5f",
           "arrowhead": 0,
           "arrowwidth": 1
          },
          "coloraxis": {
           "colorbar": {
            "outlinewidth": 0,
            "ticks": ""
           }
          },
          "colorscale": {
           "diverging": [
            [
             0,
             "#8e0152"
            ],
            [
             0.1,
             "#c51b7d"
            ],
            [
             0.2,
             "#de77ae"
            ],
            [
             0.3,
             "#f1b6da"
            ],
            [
             0.4,
             "#fde0ef"
            ],
            [
             0.5,
             "#f7f7f7"
            ],
            [
             0.6,
             "#e6f5d0"
            ],
            [
             0.7,
             "#b8e186"
            ],
            [
             0.8,
             "#7fbc41"
            ],
            [
             0.9,
             "#4d9221"
            ],
            [
             1,
             "#276419"
            ]
           ],
           "sequential": [
            [
             0,
             "#0d0887"
            ],
            [
             0.1111111111111111,
             "#46039f"
            ],
            [
             0.2222222222222222,
             "#7201a8"
            ],
            [
             0.3333333333333333,
             "#9c179e"
            ],
            [
             0.4444444444444444,
             "#bd3786"
            ],
            [
             0.5555555555555556,
             "#d8576b"
            ],
            [
             0.6666666666666666,
             "#ed7953"
            ],
            [
             0.7777777777777778,
             "#fb9f3a"
            ],
            [
             0.8888888888888888,
             "#fdca26"
            ],
            [
             1,
             "#f0f921"
            ]
           ],
           "sequentialminus": [
            [
             0,
             "#0d0887"
            ],
            [
             0.1111111111111111,
             "#46039f"
            ],
            [
             0.2222222222222222,
             "#7201a8"
            ],
            [
             0.3333333333333333,
             "#9c179e"
            ],
            [
             0.4444444444444444,
             "#bd3786"
            ],
            [
             0.5555555555555556,
             "#d8576b"
            ],
            [
             0.6666666666666666,
             "#ed7953"
            ],
            [
             0.7777777777777778,
             "#fb9f3a"
            ],
            [
             0.8888888888888888,
             "#fdca26"
            ],
            [
             1,
             "#f0f921"
            ]
           ]
          },
          "colorway": [
           "#636efa",
           "#EF553B",
           "#00cc96",
           "#ab63fa",
           "#FFA15A",
           "#19d3f3",
           "#FF6692",
           "#B6E880",
           "#FF97FF",
           "#FECB52"
          ],
          "font": {
           "color": "#2a3f5f"
          },
          "geo": {
           "bgcolor": "white",
           "lakecolor": "white",
           "landcolor": "#E5ECF6",
           "showlakes": true,
           "showland": true,
           "subunitcolor": "white"
          },
          "hoverlabel": {
           "align": "left"
          },
          "hovermode": "closest",
          "mapbox": {
           "style": "light"
          },
          "paper_bgcolor": "white",
          "plot_bgcolor": "#E5ECF6",
          "polar": {
           "angularaxis": {
            "gridcolor": "white",
            "linecolor": "white",
            "ticks": ""
           },
           "bgcolor": "#E5ECF6",
           "radialaxis": {
            "gridcolor": "white",
            "linecolor": "white",
            "ticks": ""
           }
          },
          "scene": {
           "xaxis": {
            "backgroundcolor": "#E5ECF6",
            "gridcolor": "white",
            "gridwidth": 2,
            "linecolor": "white",
            "showbackground": true,
            "ticks": "",
            "zerolinecolor": "white"
           },
           "yaxis": {
            "backgroundcolor": "#E5ECF6",
            "gridcolor": "white",
            "gridwidth": 2,
            "linecolor": "white",
            "showbackground": true,
            "ticks": "",
            "zerolinecolor": "white"
           },
           "zaxis": {
            "backgroundcolor": "#E5ECF6",
            "gridcolor": "white",
            "gridwidth": 2,
            "linecolor": "white",
            "showbackground": true,
            "ticks": "",
            "zerolinecolor": "white"
           }
          },
          "shapedefaults": {
           "line": {
            "color": "#2a3f5f"
           }
          },
          "ternary": {
           "aaxis": {
            "gridcolor": "white",
            "linecolor": "white",
            "ticks": ""
           },
           "baxis": {
            "gridcolor": "white",
            "linecolor": "white",
            "ticks": ""
           },
           "bgcolor": "#E5ECF6",
           "caxis": {
            "gridcolor": "white",
            "linecolor": "white",
            "ticks": ""
           }
          },
          "title": {
           "x": 0.05
          },
          "xaxis": {
           "automargin": true,
           "gridcolor": "white",
           "linecolor": "white",
           "ticks": "",
           "title": {
            "standoff": 15
           },
           "zerolinecolor": "white",
           "zerolinewidth": 2
          },
          "yaxis": {
           "automargin": true,
           "gridcolor": "white",
           "linecolor": "white",
           "ticks": "",
           "title": {
            "standoff": 15
           },
           "zerolinecolor": "white",
           "zerolinewidth": 2
          }
         }
        },
        "title": {
         "text": "Geographic distribution of recidivism per gender"
        },
        "uniformtext": {
         "minsize": 6,
         "mode": "hide"
        },
        "width": 900,
        "xaxis": {
         "anchor": "y",
         "domain": [
          0,
          1
         ],
         "tickangle": -45,
         "tickfont": {
          "color": "black",
          "family": "Rockwell",
          "size": 8
         },
         "title": {
          "text": "DEPTO_ESTABLECIMIENTO"
         }
        },
        "yaxis": {
         "anchor": "x",
         "domain": [
          0,
          1
         ],
         "title": {
          "text": "Amount of recidivist crimes"
         }
        }
       }
      },
      "text/html": [
       "<div>\n",
       "        \n",
       "        \n",
       "            <div id=\"51f3b7ea-d050-4479-9837-42e6507cf447\" class=\"plotly-graph-div\" style=\"height:700px; width:900px;\"></div>\n",
       "            <script type=\"text/javascript\">\n",
       "                require([\"plotly\"], function(Plotly) {\n",
       "                    window.PLOTLYENV=window.PLOTLYENV || {};\n",
       "                    \n",
       "                if (document.getElementById(\"51f3b7ea-d050-4479-9837-42e6507cf447\")) {\n",
       "                    Plotly.newPlot(\n",
       "                        '51f3b7ea-d050-4479-9837-42e6507cf447',\n",
       "                        [{\"alignmentgroup\": \"True\", \"customdata\": [[\"FEMENINO\", \"AMAZONAS\"], [\"FEMENINO\", \"ANTIOQUIA\"], [\"FEMENINO\", \"ARAUCA\"], [\"FEMENINO\", \"ATLANTICO\"], [\"FEMENINO\", \"BOGOTA D.C.\"], [\"FEMENINO\", \"BOLIVAR\"], [\"FEMENINO\", \"BOYACA\"], [\"FEMENINO\", \"CALDAS\"], [\"FEMENINO\", \"CAQUETA\"], [\"FEMENINO\", \"CASANARE\"], [\"FEMENINO\", \"CAUCA\"], [\"FEMENINO\", \"CESAR\"], [\"FEMENINO\", \"CHOCO\"], [\"FEMENINO\", \"CORDOBA\"], [\"FEMENINO\", \"CUNDINAMARCA\"], [\"FEMENINO\", \"HUILA\"], [\"FEMENINO\", \"LA GUAJIRA\"], [\"FEMENINO\", \"MAGDALENA\"], [\"FEMENINO\", \"META\"], [\"FEMENINO\", \"NARI\\u00d1O\"], [\"FEMENINO\", \"NORTE DE SANTANDER\"], [\"FEMENINO\", \"PUTUMAYO\"], [\"FEMENINO\", \"QUINDIO\"], [\"FEMENINO\", \"RISARALDA\"], [\"FEMENINO\", \"SAN ANDRES Y PROVIDENCIA\"], [\"FEMENINO\", \"SANTANDER\"], [\"FEMENINO\", \"SUCRE\"], [\"FEMENINO\", \"TOLIMA\"], [\"FEMENINO\", \"VALLE DEL CAUCA\"]], \"hovertemplate\": \"GENERO=%{customdata[0]}<br>DEPTO_ESTABLECIMIENTO=%{customdata[1]}<br>Amount of recidivist crimes=%{text}<extra></extra>\", \"legendgroup\": \"FEMENINO\", \"marker\": {\"color\": \"#636efa\"}, \"name\": \"FEMENINO\", \"offsetgroup\": \"FEMENINO\", \"orientation\": \"v\", \"showlegend\": true, \"text\": [26.0, 1691.0, 14.0, 73.0, 2459.0, 17.0, 353.0, 390.0, 116.0, 112.0, 361.0, 91.0, 38.0, 103.0, 46.0, 442.0, 15.0, 101.0, 283.0, 518.0, 329.0, 39.0, 308.0, 443.0, 11.0, 610.0, 125.0, 440.0, 1436.0], \"textposition\": \"outside\", \"texttemplate\": \"%{text:.2s}\", \"type\": \"bar\", \"x\": [\"AMAZONAS\", \"ANTIOQUIA\", \"ARAUCA\", \"ATLANTICO\", \"BOGOTA D.C.\", \"BOLIVAR\", \"BOYACA\", \"CALDAS\", \"CAQUETA\", \"CASANARE\", \"CAUCA\", \"CESAR\", \"CHOCO\", \"CORDOBA\", \"CUNDINAMARCA\", \"HUILA\", \"LA GUAJIRA\", \"MAGDALENA\", \"META\", \"NARI\\u00d1O\", \"NORTE DE SANTANDER\", \"PUTUMAYO\", \"QUINDIO\", \"RISARALDA\", \"SAN ANDRES Y PROVIDENCIA\", \"SANTANDER\", \"SUCRE\", \"TOLIMA\", \"VALLE DEL CAUCA\"], \"xaxis\": \"x\", \"y\": [26, 1691, 14, 73, 2459, 17, 353, 390, 116, 112, 361, 91, 38, 103, 46, 442, 15, 101, 283, 518, 329, 39, 308, 443, 11, 610, 125, 440, 1436], \"yaxis\": \"y\"}, {\"alignmentgroup\": \"True\", \"customdata\": [[\"MASCULINO\", \"AMAZONAS\"], [\"MASCULINO\", \"ANTIOQUIA\"], [\"MASCULINO\", \"ARAUCA\"], [\"MASCULINO\", \"ATLANTICO\"], [\"MASCULINO\", \"BOGOTA D.C.\"], [\"MASCULINO\", \"BOLIVAR\"], [\"MASCULINO\", \"BOYACA\"], [\"MASCULINO\", \"CALDAS\"], [\"MASCULINO\", \"CAQUETA\"], [\"MASCULINO\", \"CASANARE\"], [\"MASCULINO\", \"CAUCA\"], [\"MASCULINO\", \"CESAR\"], [\"MASCULINO\", \"CHOCO\"], [\"MASCULINO\", \"CORDOBA\"], [\"MASCULINO\", \"CUNDINAMARCA\"], [\"MASCULINO\", \"HUILA\"], [\"MASCULINO\", \"LA GUAJIRA\"], [\"MASCULINO\", \"MAGDALENA\"], [\"MASCULINO\", \"META\"], [\"MASCULINO\", \"NARI\\u00d1O\"], [\"MASCULINO\", \"NORTE DE SANTANDER\"], [\"MASCULINO\", \"PUTUMAYO\"], [\"MASCULINO\", \"QUINDIO\"], [\"MASCULINO\", \"RISARALDA\"], [\"MASCULINO\", \"SAN ANDRES Y PROVIDENCIA\"], [\"MASCULINO\", \"SANTANDER\"], [\"MASCULINO\", \"SUCRE\"], [\"MASCULINO\", \"TOLIMA\"], [\"MASCULINO\", \"VALLE DEL CAUCA\"]], \"hovertemplate\": \"GENERO=%{customdata[0]}<br>DEPTO_ESTABLECIMIENTO=%{customdata[1]}<br>Amount of recidivist crimes=%{text}<extra></extra>\", \"legendgroup\": \"MASCULINO\", \"marker\": {\"color\": \"#EF553B\"}, \"name\": \"MASCULINO\", \"offsetgroup\": \"MASCULINO\", \"orientation\": \"v\", \"showlegend\": true, \"text\": [323.0, 16900.0, 499.0, 2491.0, 16549.0, 1914.0, 6934.0, 4906.0, 2169.0, 1729.0, 4296.0, 2022.0, 603.0, 2942.0, 5721.0, 4750.0, 441.0, 1351.0, 7713.0, 3638.0, 4092.0, 339.0, 2296.0, 2772.0, 241.0, 8664.0, 1347.0, 5566.0, 15910.0], \"textposition\": \"outside\", \"texttemplate\": \"%{text:.2s}\", \"type\": \"bar\", \"x\": [\"AMAZONAS\", \"ANTIOQUIA\", \"ARAUCA\", \"ATLANTICO\", \"BOGOTA D.C.\", \"BOLIVAR\", \"BOYACA\", \"CALDAS\", \"CAQUETA\", \"CASANARE\", \"CAUCA\", \"CESAR\", \"CHOCO\", \"CORDOBA\", \"CUNDINAMARCA\", \"HUILA\", \"LA GUAJIRA\", \"MAGDALENA\", \"META\", \"NARI\\u00d1O\", \"NORTE DE SANTANDER\", \"PUTUMAYO\", \"QUINDIO\", \"RISARALDA\", \"SAN ANDRES Y PROVIDENCIA\", \"SANTANDER\", \"SUCRE\", \"TOLIMA\", \"VALLE DEL CAUCA\"], \"xaxis\": \"x\", \"y\": [323, 16900, 499, 2491, 16549, 1914, 6934, 4906, 2169, 1729, 4296, 2022, 603, 2942, 5721, 4750, 441, 1351, 7713, 3638, 4092, 339, 2296, 2772, 241, 8664, 1347, 5566, 15910], \"yaxis\": \"y\"}],\n",
       "                        {\"autosize\": false, \"barmode\": \"relative\", \"height\": 700, \"legend\": {\"title\": {\"text\": \"GENERO\"}, \"tracegroupgap\": 0}, \"margin\": {\"b\": 100, \"l\": 50, \"pad\": 4, \"r\": 50, \"t\": 100}, \"showlegend\": true, \"template\": {\"data\": {\"bar\": [{\"error_x\": {\"color\": \"#2a3f5f\"}, \"error_y\": {\"color\": \"#2a3f5f\"}, \"marker\": {\"line\": {\"color\": \"#E5ECF6\", \"width\": 0.5}}, \"type\": \"bar\"}], \"barpolar\": [{\"marker\": {\"line\": {\"color\": \"#E5ECF6\", \"width\": 0.5}}, \"type\": \"barpolar\"}], \"carpet\": [{\"aaxis\": {\"endlinecolor\": \"#2a3f5f\", \"gridcolor\": \"white\", \"linecolor\": \"white\", \"minorgridcolor\": \"white\", \"startlinecolor\": \"#2a3f5f\"}, \"baxis\": {\"endlinecolor\": \"#2a3f5f\", \"gridcolor\": \"white\", \"linecolor\": \"white\", \"minorgridcolor\": \"white\", \"startlinecolor\": \"#2a3f5f\"}, \"type\": \"carpet\"}], \"choropleth\": [{\"colorbar\": {\"outlinewidth\": 0, \"ticks\": \"\"}, \"type\": \"choropleth\"}], \"contour\": [{\"colorbar\": {\"outlinewidth\": 0, \"ticks\": \"\"}, \"colorscale\": [[0.0, \"#0d0887\"], [0.1111111111111111, \"#46039f\"], [0.2222222222222222, \"#7201a8\"], [0.3333333333333333, \"#9c179e\"], [0.4444444444444444, \"#bd3786\"], [0.5555555555555556, \"#d8576b\"], [0.6666666666666666, \"#ed7953\"], [0.7777777777777778, \"#fb9f3a\"], [0.8888888888888888, \"#fdca26\"], [1.0, \"#f0f921\"]], \"type\": \"contour\"}], \"contourcarpet\": [{\"colorbar\": {\"outlinewidth\": 0, \"ticks\": \"\"}, \"type\": \"contourcarpet\"}], \"heatmap\": [{\"colorbar\": {\"outlinewidth\": 0, \"ticks\": \"\"}, \"colorscale\": [[0.0, \"#0d0887\"], [0.1111111111111111, \"#46039f\"], [0.2222222222222222, \"#7201a8\"], [0.3333333333333333, \"#9c179e\"], [0.4444444444444444, \"#bd3786\"], [0.5555555555555556, \"#d8576b\"], [0.6666666666666666, \"#ed7953\"], [0.7777777777777778, \"#fb9f3a\"], [0.8888888888888888, \"#fdca26\"], [1.0, \"#f0f921\"]], \"type\": \"heatmap\"}], \"heatmapgl\": [{\"colorbar\": {\"outlinewidth\": 0, \"ticks\": \"\"}, \"colorscale\": [[0.0, \"#0d0887\"], [0.1111111111111111, \"#46039f\"], [0.2222222222222222, \"#7201a8\"], [0.3333333333333333, \"#9c179e\"], [0.4444444444444444, \"#bd3786\"], [0.5555555555555556, \"#d8576b\"], [0.6666666666666666, \"#ed7953\"], [0.7777777777777778, \"#fb9f3a\"], [0.8888888888888888, \"#fdca26\"], [1.0, \"#f0f921\"]], \"type\": \"heatmapgl\"}], \"histogram\": [{\"marker\": {\"colorbar\": {\"outlinewidth\": 0, \"ticks\": \"\"}}, \"type\": \"histogram\"}], \"histogram2d\": [{\"colorbar\": {\"outlinewidth\": 0, \"ticks\": \"\"}, \"colorscale\": [[0.0, \"#0d0887\"], [0.1111111111111111, \"#46039f\"], [0.2222222222222222, \"#7201a8\"], [0.3333333333333333, \"#9c179e\"], [0.4444444444444444, \"#bd3786\"], [0.5555555555555556, \"#d8576b\"], [0.6666666666666666, \"#ed7953\"], [0.7777777777777778, \"#fb9f3a\"], [0.8888888888888888, \"#fdca26\"], [1.0, \"#f0f921\"]], \"type\": \"histogram2d\"}], \"histogram2dcontour\": [{\"colorbar\": {\"outlinewidth\": 0, \"ticks\": \"\"}, \"colorscale\": [[0.0, \"#0d0887\"], [0.1111111111111111, \"#46039f\"], [0.2222222222222222, \"#7201a8\"], [0.3333333333333333, \"#9c179e\"], [0.4444444444444444, \"#bd3786\"], [0.5555555555555556, \"#d8576b\"], [0.6666666666666666, \"#ed7953\"], [0.7777777777777778, \"#fb9f3a\"], [0.8888888888888888, \"#fdca26\"], [1.0, \"#f0f921\"]], \"type\": \"histogram2dcontour\"}], \"mesh3d\": [{\"colorbar\": {\"outlinewidth\": 0, \"ticks\": \"\"}, \"type\": \"mesh3d\"}], \"parcoords\": [{\"line\": {\"colorbar\": {\"outlinewidth\": 0, \"ticks\": \"\"}}, \"type\": \"parcoords\"}], \"pie\": [{\"automargin\": true, \"type\": \"pie\"}], \"scatter\": [{\"marker\": {\"colorbar\": {\"outlinewidth\": 0, \"ticks\": \"\"}}, \"type\": \"scatter\"}], \"scatter3d\": [{\"line\": {\"colorbar\": {\"outlinewidth\": 0, \"ticks\": \"\"}}, \"marker\": {\"colorbar\": {\"outlinewidth\": 0, \"ticks\": \"\"}}, \"type\": \"scatter3d\"}], \"scattercarpet\": [{\"marker\": {\"colorbar\": {\"outlinewidth\": 0, \"ticks\": \"\"}}, \"type\": \"scattercarpet\"}], \"scattergeo\": [{\"marker\": {\"colorbar\": {\"outlinewidth\": 0, \"ticks\": \"\"}}, \"type\": \"scattergeo\"}], \"scattergl\": [{\"marker\": {\"colorbar\": {\"outlinewidth\": 0, \"ticks\": \"\"}}, \"type\": \"scattergl\"}], \"scattermapbox\": [{\"marker\": {\"colorbar\": {\"outlinewidth\": 0, \"ticks\": \"\"}}, \"type\": \"scattermapbox\"}], \"scatterpolar\": [{\"marker\": {\"colorbar\": {\"outlinewidth\": 0, \"ticks\": \"\"}}, \"type\": \"scatterpolar\"}], \"scatterpolargl\": [{\"marker\": {\"colorbar\": {\"outlinewidth\": 0, \"ticks\": \"\"}}, \"type\": \"scatterpolargl\"}], \"scatterternary\": [{\"marker\": {\"colorbar\": {\"outlinewidth\": 0, \"ticks\": \"\"}}, \"type\": \"scatterternary\"}], \"surface\": [{\"colorbar\": {\"outlinewidth\": 0, \"ticks\": \"\"}, \"colorscale\": [[0.0, \"#0d0887\"], [0.1111111111111111, \"#46039f\"], [0.2222222222222222, \"#7201a8\"], [0.3333333333333333, \"#9c179e\"], [0.4444444444444444, \"#bd3786\"], [0.5555555555555556, \"#d8576b\"], [0.6666666666666666, \"#ed7953\"], [0.7777777777777778, \"#fb9f3a\"], [0.8888888888888888, \"#fdca26\"], [1.0, \"#f0f921\"]], \"type\": \"surface\"}], \"table\": [{\"cells\": {\"fill\": {\"color\": \"#EBF0F8\"}, \"line\": {\"color\": \"white\"}}, \"header\": {\"fill\": {\"color\": \"#C8D4E3\"}, \"line\": {\"color\": \"white\"}}, \"type\": \"table\"}]}, \"layout\": {\"annotationdefaults\": {\"arrowcolor\": \"#2a3f5f\", \"arrowhead\": 0, \"arrowwidth\": 1}, \"coloraxis\": {\"colorbar\": {\"outlinewidth\": 0, \"ticks\": \"\"}}, \"colorscale\": {\"diverging\": [[0, \"#8e0152\"], [0.1, \"#c51b7d\"], [0.2, \"#de77ae\"], [0.3, \"#f1b6da\"], [0.4, \"#fde0ef\"], [0.5, \"#f7f7f7\"], [0.6, \"#e6f5d0\"], [0.7, \"#b8e186\"], [0.8, \"#7fbc41\"], [0.9, \"#4d9221\"], [1, \"#276419\"]], \"sequential\": [[0.0, \"#0d0887\"], [0.1111111111111111, \"#46039f\"], [0.2222222222222222, \"#7201a8\"], [0.3333333333333333, \"#9c179e\"], [0.4444444444444444, \"#bd3786\"], [0.5555555555555556, \"#d8576b\"], [0.6666666666666666, \"#ed7953\"], [0.7777777777777778, \"#fb9f3a\"], [0.8888888888888888, \"#fdca26\"], [1.0, \"#f0f921\"]], \"sequentialminus\": [[0.0, \"#0d0887\"], [0.1111111111111111, \"#46039f\"], [0.2222222222222222, \"#7201a8\"], [0.3333333333333333, \"#9c179e\"], [0.4444444444444444, \"#bd3786\"], [0.5555555555555556, \"#d8576b\"], [0.6666666666666666, \"#ed7953\"], [0.7777777777777778, \"#fb9f3a\"], [0.8888888888888888, \"#fdca26\"], [1.0, \"#f0f921\"]]}, \"colorway\": [\"#636efa\", \"#EF553B\", \"#00cc96\", \"#ab63fa\", \"#FFA15A\", \"#19d3f3\", \"#FF6692\", \"#B6E880\", \"#FF97FF\", \"#FECB52\"], \"font\": {\"color\": \"#2a3f5f\"}, \"geo\": {\"bgcolor\": \"white\", \"lakecolor\": \"white\", \"landcolor\": \"#E5ECF6\", \"showlakes\": true, \"showland\": true, \"subunitcolor\": \"white\"}, \"hoverlabel\": {\"align\": \"left\"}, \"hovermode\": \"closest\", \"mapbox\": {\"style\": \"light\"}, \"paper_bgcolor\": \"white\", \"plot_bgcolor\": \"#E5ECF6\", \"polar\": {\"angularaxis\": {\"gridcolor\": \"white\", \"linecolor\": \"white\", \"ticks\": \"\"}, \"bgcolor\": \"#E5ECF6\", \"radialaxis\": {\"gridcolor\": \"white\", \"linecolor\": \"white\", \"ticks\": \"\"}}, \"scene\": {\"xaxis\": {\"backgroundcolor\": \"#E5ECF6\", \"gridcolor\": \"white\", \"gridwidth\": 2, \"linecolor\": \"white\", \"showbackground\": true, \"ticks\": \"\", \"zerolinecolor\": \"white\"}, \"yaxis\": {\"backgroundcolor\": \"#E5ECF6\", \"gridcolor\": \"white\", \"gridwidth\": 2, \"linecolor\": \"white\", \"showbackground\": true, \"ticks\": \"\", \"zerolinecolor\": \"white\"}, \"zaxis\": {\"backgroundcolor\": \"#E5ECF6\", \"gridcolor\": \"white\", \"gridwidth\": 2, \"linecolor\": \"white\", \"showbackground\": true, \"ticks\": \"\", \"zerolinecolor\": \"white\"}}, \"shapedefaults\": {\"line\": {\"color\": \"#2a3f5f\"}}, \"ternary\": {\"aaxis\": {\"gridcolor\": \"white\", \"linecolor\": \"white\", \"ticks\": \"\"}, \"baxis\": {\"gridcolor\": \"white\", \"linecolor\": \"white\", \"ticks\": \"\"}, \"bgcolor\": \"#E5ECF6\", \"caxis\": {\"gridcolor\": \"white\", \"linecolor\": \"white\", \"ticks\": \"\"}}, \"title\": {\"x\": 0.05}, \"xaxis\": {\"automargin\": true, \"gridcolor\": \"white\", \"linecolor\": \"white\", \"ticks\": \"\", \"title\": {\"standoff\": 15}, \"zerolinecolor\": \"white\", \"zerolinewidth\": 2}, \"yaxis\": {\"automargin\": true, \"gridcolor\": \"white\", \"linecolor\": \"white\", \"ticks\": \"\", \"title\": {\"standoff\": 15}, \"zerolinecolor\": \"white\", \"zerolinewidth\": 2}}}, \"title\": {\"text\": \"Geographic distribution of recidivism per gender\"}, \"uniformtext\": {\"minsize\": 6, \"mode\": \"hide\"}, \"width\": 900, \"xaxis\": {\"anchor\": \"y\", \"domain\": [0.0, 1.0], \"tickangle\": -45, \"tickfont\": {\"color\": \"black\", \"family\": \"Rockwell\", \"size\": 8}, \"title\": {\"text\": \"DEPTO_ESTABLECIMIENTO\"}}, \"yaxis\": {\"anchor\": \"x\", \"domain\": [0.0, 1.0], \"title\": {\"text\": \"Amount of recidivist crimes\"}}},\n",
       "                        {\"responsive\": true}\n",
       "                    ).then(function(){\n",
       "                            \n",
       "var gd = document.getElementById('51f3b7ea-d050-4479-9837-42e6507cf447');\n",
       "var x = new MutationObserver(function (mutations, observer) {{\n",
       "        var display = window.getComputedStyle(gd).display;\n",
       "        if (!display || display === 'none') {{\n",
       "            console.log([gd, 'removed!']);\n",
       "            Plotly.purge(gd);\n",
       "            observer.disconnect();\n",
       "        }}\n",
       "}});\n",
       "\n",
       "// Listen for the removal of the full notebook cells\n",
       "var notebookContainer = gd.closest('#notebook-container');\n",
       "if (notebookContainer) {{\n",
       "    x.observe(notebookContainer, {childList: true});\n",
       "}}\n",
       "\n",
       "// Listen for the clearing of the current output cell\n",
       "var outputEl = gd.closest('.output');\n",
       "if (outputEl) {{\n",
       "    x.observe(outputEl, {childList: true});\n",
       "}}\n",
       "\n",
       "                        })\n",
       "                };\n",
       "                });\n",
       "            </script>\n",
       "        </div>"
      ]
     },
     "metadata": {},
     "output_type": "display_data"
    }
   ],
   "source": [
    "fig = px.bar(df_geo_gen, x='DEPTO_ESTABLECIMIENTO', y='INTERNOEN',\n",
    "             hover_data=[\"GENERO\",'DEPTO_ESTABLECIMIENTO'], color='GENERO',\n",
    "             labels={'INTERNOEN':'Amount of recidivist crimes'}, barmode='relative', text=\"INTERNOEN\")\n",
    "fig.update_traces(texttemplate='%{text:.2s}', textposition='outside')\n",
    "fig.update_layout(uniformtext_minsize=6, uniformtext_mode='hide', xaxis_tickangle=-45, showlegend=True, autosize=False,\n",
    "                 width=900, height=700, margin=dict(l=50, r=50, b=100, t=100, pad=4 ),\n",
    "                  title=\"Geographic distribution of recidivism per gender\",\n",
    "                 )\n",
    "fig.update_xaxes( tickfont=dict(family='Rockwell', color='black', size=8)) #tickangle=45,\n",
    "\n",
    "fig.show()"
   ]
  },
  {
   "cell_type": "code",
   "execution_count": null,
   "metadata": {},
   "outputs": [],
   "source": []
  },
  {
   "cell_type": "code",
   "execution_count": 23,
   "metadata": {
    "scrolled": false
   },
   "outputs": [],
   "source": [
    "# g = sns.FacetGrid(df_genero, col=\"GENERO\")\n",
    "# g.map(plt.hist, \"TITULO_DELITO\");\n",
    "\n",
    "# fig_dims = (15, 60)\n",
    "# fig, ax = plt.subplots(4,figsize=fig_dims)\n",
    "\n",
    "# sns.barplot(x=\"TITULO_DELITO\", y=\"INTERNOEN\", data=df_genero[df_genero[\"GENERO\"]==\"MASCULINO\"], ax=ax[0])\n",
    "# sns.barplot(x=\"TITULO_DELITO\", y=\"INTERNOEN\", data=df_genero[df_genero[\"GENERO\"]==\"FEMENINO\"], ax=ax[1])\n",
    "# sns.barplot(x=\"TITULO_DELITO\", y=\"INTERNOEN\", data=df_crimen, ax=ax[2])\n",
    "# sns.barplot(x=\"DEPTO_ESTABLECIMIENTO\", y=\"INTERNOEN\", hue=\"GENERO\", data=df_geo_gen, ax=ax[3])\n",
    "\n",
    "# ax[0].set_xticklabels(ax[0].get_xticklabels(),rotation=30, horizontalalignment='right', fontsize = 12)\n",
    "# ax[1].set_xticklabels(ax[1].get_xticklabels(),rotation=30, horizontalalignment='right', fontsize = 12)\n",
    "# ax[2].set_xticklabels(ax[2].get_xticklabels(),rotation=30, horizontalalignment='right', fontsize = 12)\n",
    "# ax[3].set_xticklabels(ax[3].get_xticklabels(),rotation=30, horizontalalignment='right', fontsize = 12)\n",
    "\n",
    "# ax[0].set_title('Crimes most commited by men', fontsize=20, fontweight='bold', pad=15)\n",
    "# ax[1].set_title('Crimes most commited by women', fontsize=20, fontweight='bold', pad=15)\n",
    "# ax[2].set_title('Most committed crimes', fontsize=20, fontweight='bold', pad=15)\n",
    "# ax[3].set_title('Most committed crimes per gender per department', fontsize=20, fontweight='bold', pad=15)\n",
    "\n",
    "# fig.subplots_adjust(wspace=.1, hspace=1);\n",
    "\n",
    "\n",
    "# plt.set_xticklabels(rotation=45, horizontalalignment='right')\n",
    "# plt.ylabel(\"COUNT\")\n",
    "# plt.title(\"Colors vs Values\") # You can comment this line out if you don't need title\n",
    "# plt.show(fig)\n",
    "\n",
    "# sns.barplot(x = 'TITULO_DELITO', y = 'INTERNOEN', hue = 'GENERO', data = df_genero,\n",
    "#             palette = 'hls',\n",
    "#             order = ['MASCULINO', 'FEMENINO'],  \n",
    "#             capsize = 0.05,             \n",
    "#             saturation = 8,             \n",
    "#             errcolor = 'gray', errwidth = 2,  \n",
    "#             ci = 'sd'   \n",
    "#             )"
   ]
  },
  {
   "cell_type": "code",
   "execution_count": 24,
   "metadata": {},
   "outputs": [],
   "source": [
    "economic_crime = df_mj[(df_mj[\"TITULO_DELITO\"]==\"CONTRA EL PATRIMONIO ECONOMICO\")].groupby([\"GENERO\", \"DELITO\"])[\"DELITO\"].agg(\"count\")\n",
    "economic_crime = pd.DataFrame(economic_crime)\n",
    "economic_crime.rename(columns={\"DELITO\": \"COUNT\"},inplace=True)\n",
    "economic_crime.reset_index(inplace=True)"
   ]
  },
  {
   "cell_type": "code",
   "execution_count": 39,
   "metadata": {
    "scrolled": false
   },
   "outputs": [
    {
     "data": {
      "application/vnd.plotly.v1+json": {
       "config": {
        "plotlyServerURL": "https://plot.ly"
       },
       "data": [
        {
         "alignmentgroup": "True",
         "customdata": [
          [
           "FEMENINO",
           "ABUSO DE CONDICIONES DE INFERIORIDAD"
          ],
          [
           "FEMENINO",
           "ABUSO DE CONFIANZA"
          ],
          [
           "FEMENINO",
           "ALZAMIENTO DE BIENES"
          ],
          [
           "FEMENINO",
           "DEFRAUDACION DE FLUIDOS"
          ],
          [
           "FEMENINO",
           "EMISION Y TRANSFERENCIA ILEGAL DE CHEQUE"
          ],
          [
           "FEMENINO",
           "ESTAFA"
          ],
          [
           "FEMENINO",
           "EXTORSION"
          ],
          [
           "FEMENINO",
           "HURTO"
          ]
         ],
         "hovertemplate": "GENERO=%{customdata[0]}<br>DELITO=%{customdata[1]}<br>Amount of recidivist economic crimes=%{text}<extra></extra>",
         "legendgroup": "FEMENINO",
         "marker": {
          "color": "#636efa"
         },
         "name": "FEMENINO",
         "offsetgroup": "FEMENINO",
         "orientation": "v",
         "showlegend": true,
         "text": [
          1,
          6,
          1,
          2,
          1,
          132,
          172,
          3353
         ],
         "textposition": "outside",
         "texttemplate": "%{text:.2s}",
         "type": "bar",
         "x": [
          "ABUSO DE CONDICIONES DE INFERIORIDAD",
          "ABUSO DE CONFIANZA",
          "ALZAMIENTO DE BIENES",
          "DEFRAUDACION DE FLUIDOS",
          "EMISION Y TRANSFERENCIA ILEGAL DE CHEQUE",
          "ESTAFA",
          "EXTORSION",
          "HURTO"
         ],
         "xaxis": "x",
         "y": [
          1,
          6,
          1,
          2,
          1,
          132,
          172,
          3353
         ],
         "yaxis": "y"
        },
        {
         "alignmentgroup": "True",
         "customdata": [
          [
           "MASCULINO",
           "ABIGEATO"
          ],
          [
           "MASCULINO",
           "ABUSO DE CONFIANZA"
          ],
          [
           "MASCULINO",
           "ALTERACION DESFIGURACION Y SUPLANTACION DE MARCAS DE GANADO"
          ],
          [
           "MASCULINO",
           "DAÑO EN BIEN AJENO"
          ],
          [
           "MASCULINO",
           "DEFRAUDACION DE FLUIDOS"
          ],
          [
           "MASCULINO",
           "EMISION Y TRANSFERENCIA ILEGAL DE CHEQUE"
          ],
          [
           "MASCULINO",
           "ESTAFA"
          ],
          [
           "MASCULINO",
           "EXTORSION"
          ],
          [
           "MASCULINO",
           "GESTION INDEBIDA DE RECURSOS SOCIALES"
          ],
          [
           "MASCULINO",
           "HURTO"
          ],
          [
           "MASCULINO",
           "INVASION DE TIERRAS O EDIFICACIONES"
          ],
          [
           "MASCULINO",
           "PERTURBACION DE LA POSESION SOBRE INMUEBLE"
          ],
          [
           "MASCULINO",
           "SUSTRACCION DE BIEN PROPIO"
          ],
          [
           "MASCULINO",
           "UTILIZACION INDEBIDA DE INFORMACION PRIVILEGIADA"
          ]
         ],
         "hovertemplate": "GENERO=%{customdata[0]}<br>DELITO=%{customdata[1]}<br>Amount of recidivist economic crimes=%{text}<extra></extra>",
         "legendgroup": "MASCULINO",
         "marker": {
          "color": "#EF553B"
         },
         "name": "MASCULINO",
         "offsetgroup": "MASCULINO",
         "orientation": "v",
         "showlegend": true,
         "text": [
          5,
          65,
          2,
          174,
          6,
          4,
          475,
          2660,
          3,
          49792,
          3,
          1,
          1,
          1
         ],
         "textposition": "outside",
         "texttemplate": "%{text:.2s}",
         "type": "bar",
         "x": [
          "ABIGEATO",
          "ABUSO DE CONFIANZA",
          "ALTERACION DESFIGURACION Y SUPLANTACION DE MARCAS DE GANADO",
          "DAÑO EN BIEN AJENO",
          "DEFRAUDACION DE FLUIDOS",
          "EMISION Y TRANSFERENCIA ILEGAL DE CHEQUE",
          "ESTAFA",
          "EXTORSION",
          "GESTION INDEBIDA DE RECURSOS SOCIALES",
          "HURTO",
          "INVASION DE TIERRAS O EDIFICACIONES",
          "PERTURBACION DE LA POSESION SOBRE INMUEBLE",
          "SUSTRACCION DE BIEN PROPIO",
          "UTILIZACION INDEBIDA DE INFORMACION PRIVILEGIADA"
         ],
         "xaxis": "x",
         "y": [
          5,
          65,
          2,
          174,
          6,
          4,
          475,
          2660,
          3,
          49792,
          3,
          1,
          1,
          1
         ],
         "yaxis": "y"
        }
       ],
       "layout": {
        "autosize": false,
        "barmode": "relative",
        "height": 700,
        "legend": {
         "title": {
          "text": "GENERO"
         },
         "tracegroupgap": 0
        },
        "margin": {
         "b": 100,
         "l": 50,
         "pad": 4,
         "r": 50,
         "t": 100
        },
        "showlegend": true,
        "template": {
         "data": {
          "bar": [
           {
            "error_x": {
             "color": "#2a3f5f"
            },
            "error_y": {
             "color": "#2a3f5f"
            },
            "marker": {
             "line": {
              "color": "#E5ECF6",
              "width": 0.5
             }
            },
            "type": "bar"
           }
          ],
          "barpolar": [
           {
            "marker": {
             "line": {
              "color": "#E5ECF6",
              "width": 0.5
             }
            },
            "type": "barpolar"
           }
          ],
          "carpet": [
           {
            "aaxis": {
             "endlinecolor": "#2a3f5f",
             "gridcolor": "white",
             "linecolor": "white",
             "minorgridcolor": "white",
             "startlinecolor": "#2a3f5f"
            },
            "baxis": {
             "endlinecolor": "#2a3f5f",
             "gridcolor": "white",
             "linecolor": "white",
             "minorgridcolor": "white",
             "startlinecolor": "#2a3f5f"
            },
            "type": "carpet"
           }
          ],
          "choropleth": [
           {
            "colorbar": {
             "outlinewidth": 0,
             "ticks": ""
            },
            "type": "choropleth"
           }
          ],
          "contour": [
           {
            "colorbar": {
             "outlinewidth": 0,
             "ticks": ""
            },
            "colorscale": [
             [
              0,
              "#0d0887"
             ],
             [
              0.1111111111111111,
              "#46039f"
             ],
             [
              0.2222222222222222,
              "#7201a8"
             ],
             [
              0.3333333333333333,
              "#9c179e"
             ],
             [
              0.4444444444444444,
              "#bd3786"
             ],
             [
              0.5555555555555556,
              "#d8576b"
             ],
             [
              0.6666666666666666,
              "#ed7953"
             ],
             [
              0.7777777777777778,
              "#fb9f3a"
             ],
             [
              0.8888888888888888,
              "#fdca26"
             ],
             [
              1,
              "#f0f921"
             ]
            ],
            "type": "contour"
           }
          ],
          "contourcarpet": [
           {
            "colorbar": {
             "outlinewidth": 0,
             "ticks": ""
            },
            "type": "contourcarpet"
           }
          ],
          "heatmap": [
           {
            "colorbar": {
             "outlinewidth": 0,
             "ticks": ""
            },
            "colorscale": [
             [
              0,
              "#0d0887"
             ],
             [
              0.1111111111111111,
              "#46039f"
             ],
             [
              0.2222222222222222,
              "#7201a8"
             ],
             [
              0.3333333333333333,
              "#9c179e"
             ],
             [
              0.4444444444444444,
              "#bd3786"
             ],
             [
              0.5555555555555556,
              "#d8576b"
             ],
             [
              0.6666666666666666,
              "#ed7953"
             ],
             [
              0.7777777777777778,
              "#fb9f3a"
             ],
             [
              0.8888888888888888,
              "#fdca26"
             ],
             [
              1,
              "#f0f921"
             ]
            ],
            "type": "heatmap"
           }
          ],
          "heatmapgl": [
           {
            "colorbar": {
             "outlinewidth": 0,
             "ticks": ""
            },
            "colorscale": [
             [
              0,
              "#0d0887"
             ],
             [
              0.1111111111111111,
              "#46039f"
             ],
             [
              0.2222222222222222,
              "#7201a8"
             ],
             [
              0.3333333333333333,
              "#9c179e"
             ],
             [
              0.4444444444444444,
              "#bd3786"
             ],
             [
              0.5555555555555556,
              "#d8576b"
             ],
             [
              0.6666666666666666,
              "#ed7953"
             ],
             [
              0.7777777777777778,
              "#fb9f3a"
             ],
             [
              0.8888888888888888,
              "#fdca26"
             ],
             [
              1,
              "#f0f921"
             ]
            ],
            "type": "heatmapgl"
           }
          ],
          "histogram": [
           {
            "marker": {
             "colorbar": {
              "outlinewidth": 0,
              "ticks": ""
             }
            },
            "type": "histogram"
           }
          ],
          "histogram2d": [
           {
            "colorbar": {
             "outlinewidth": 0,
             "ticks": ""
            },
            "colorscale": [
             [
              0,
              "#0d0887"
             ],
             [
              0.1111111111111111,
              "#46039f"
             ],
             [
              0.2222222222222222,
              "#7201a8"
             ],
             [
              0.3333333333333333,
              "#9c179e"
             ],
             [
              0.4444444444444444,
              "#bd3786"
             ],
             [
              0.5555555555555556,
              "#d8576b"
             ],
             [
              0.6666666666666666,
              "#ed7953"
             ],
             [
              0.7777777777777778,
              "#fb9f3a"
             ],
             [
              0.8888888888888888,
              "#fdca26"
             ],
             [
              1,
              "#f0f921"
             ]
            ],
            "type": "histogram2d"
           }
          ],
          "histogram2dcontour": [
           {
            "colorbar": {
             "outlinewidth": 0,
             "ticks": ""
            },
            "colorscale": [
             [
              0,
              "#0d0887"
             ],
             [
              0.1111111111111111,
              "#46039f"
             ],
             [
              0.2222222222222222,
              "#7201a8"
             ],
             [
              0.3333333333333333,
              "#9c179e"
             ],
             [
              0.4444444444444444,
              "#bd3786"
             ],
             [
              0.5555555555555556,
              "#d8576b"
             ],
             [
              0.6666666666666666,
              "#ed7953"
             ],
             [
              0.7777777777777778,
              "#fb9f3a"
             ],
             [
              0.8888888888888888,
              "#fdca26"
             ],
             [
              1,
              "#f0f921"
             ]
            ],
            "type": "histogram2dcontour"
           }
          ],
          "mesh3d": [
           {
            "colorbar": {
             "outlinewidth": 0,
             "ticks": ""
            },
            "type": "mesh3d"
           }
          ],
          "parcoords": [
           {
            "line": {
             "colorbar": {
              "outlinewidth": 0,
              "ticks": ""
             }
            },
            "type": "parcoords"
           }
          ],
          "pie": [
           {
            "automargin": true,
            "type": "pie"
           }
          ],
          "scatter": [
           {
            "marker": {
             "colorbar": {
              "outlinewidth": 0,
              "ticks": ""
             }
            },
            "type": "scatter"
           }
          ],
          "scatter3d": [
           {
            "line": {
             "colorbar": {
              "outlinewidth": 0,
              "ticks": ""
             }
            },
            "marker": {
             "colorbar": {
              "outlinewidth": 0,
              "ticks": ""
             }
            },
            "type": "scatter3d"
           }
          ],
          "scattercarpet": [
           {
            "marker": {
             "colorbar": {
              "outlinewidth": 0,
              "ticks": ""
             }
            },
            "type": "scattercarpet"
           }
          ],
          "scattergeo": [
           {
            "marker": {
             "colorbar": {
              "outlinewidth": 0,
              "ticks": ""
             }
            },
            "type": "scattergeo"
           }
          ],
          "scattergl": [
           {
            "marker": {
             "colorbar": {
              "outlinewidth": 0,
              "ticks": ""
             }
            },
            "type": "scattergl"
           }
          ],
          "scattermapbox": [
           {
            "marker": {
             "colorbar": {
              "outlinewidth": 0,
              "ticks": ""
             }
            },
            "type": "scattermapbox"
           }
          ],
          "scatterpolar": [
           {
            "marker": {
             "colorbar": {
              "outlinewidth": 0,
              "ticks": ""
             }
            },
            "type": "scatterpolar"
           }
          ],
          "scatterpolargl": [
           {
            "marker": {
             "colorbar": {
              "outlinewidth": 0,
              "ticks": ""
             }
            },
            "type": "scatterpolargl"
           }
          ],
          "scatterternary": [
           {
            "marker": {
             "colorbar": {
              "outlinewidth": 0,
              "ticks": ""
             }
            },
            "type": "scatterternary"
           }
          ],
          "surface": [
           {
            "colorbar": {
             "outlinewidth": 0,
             "ticks": ""
            },
            "colorscale": [
             [
              0,
              "#0d0887"
             ],
             [
              0.1111111111111111,
              "#46039f"
             ],
             [
              0.2222222222222222,
              "#7201a8"
             ],
             [
              0.3333333333333333,
              "#9c179e"
             ],
             [
              0.4444444444444444,
              "#bd3786"
             ],
             [
              0.5555555555555556,
              "#d8576b"
             ],
             [
              0.6666666666666666,
              "#ed7953"
             ],
             [
              0.7777777777777778,
              "#fb9f3a"
             ],
             [
              0.8888888888888888,
              "#fdca26"
             ],
             [
              1,
              "#f0f921"
             ]
            ],
            "type": "surface"
           }
          ],
          "table": [
           {
            "cells": {
             "fill": {
              "color": "#EBF0F8"
             },
             "line": {
              "color": "white"
             }
            },
            "header": {
             "fill": {
              "color": "#C8D4E3"
             },
             "line": {
              "color": "white"
             }
            },
            "type": "table"
           }
          ]
         },
         "layout": {
          "annotationdefaults": {
           "arrowcolor": "#2a3f5f",
           "arrowhead": 0,
           "arrowwidth": 1
          },
          "coloraxis": {
           "colorbar": {
            "outlinewidth": 0,
            "ticks": ""
           }
          },
          "colorscale": {
           "diverging": [
            [
             0,
             "#8e0152"
            ],
            [
             0.1,
             "#c51b7d"
            ],
            [
             0.2,
             "#de77ae"
            ],
            [
             0.3,
             "#f1b6da"
            ],
            [
             0.4,
             "#fde0ef"
            ],
            [
             0.5,
             "#f7f7f7"
            ],
            [
             0.6,
             "#e6f5d0"
            ],
            [
             0.7,
             "#b8e186"
            ],
            [
             0.8,
             "#7fbc41"
            ],
            [
             0.9,
             "#4d9221"
            ],
            [
             1,
             "#276419"
            ]
           ],
           "sequential": [
            [
             0,
             "#0d0887"
            ],
            [
             0.1111111111111111,
             "#46039f"
            ],
            [
             0.2222222222222222,
             "#7201a8"
            ],
            [
             0.3333333333333333,
             "#9c179e"
            ],
            [
             0.4444444444444444,
             "#bd3786"
            ],
            [
             0.5555555555555556,
             "#d8576b"
            ],
            [
             0.6666666666666666,
             "#ed7953"
            ],
            [
             0.7777777777777778,
             "#fb9f3a"
            ],
            [
             0.8888888888888888,
             "#fdca26"
            ],
            [
             1,
             "#f0f921"
            ]
           ],
           "sequentialminus": [
            [
             0,
             "#0d0887"
            ],
            [
             0.1111111111111111,
             "#46039f"
            ],
            [
             0.2222222222222222,
             "#7201a8"
            ],
            [
             0.3333333333333333,
             "#9c179e"
            ],
            [
             0.4444444444444444,
             "#bd3786"
            ],
            [
             0.5555555555555556,
             "#d8576b"
            ],
            [
             0.6666666666666666,
             "#ed7953"
            ],
            [
             0.7777777777777778,
             "#fb9f3a"
            ],
            [
             0.8888888888888888,
             "#fdca26"
            ],
            [
             1,
             "#f0f921"
            ]
           ]
          },
          "colorway": [
           "#636efa",
           "#EF553B",
           "#00cc96",
           "#ab63fa",
           "#FFA15A",
           "#19d3f3",
           "#FF6692",
           "#B6E880",
           "#FF97FF",
           "#FECB52"
          ],
          "font": {
           "color": "#2a3f5f"
          },
          "geo": {
           "bgcolor": "white",
           "lakecolor": "white",
           "landcolor": "#E5ECF6",
           "showlakes": true,
           "showland": true,
           "subunitcolor": "white"
          },
          "hoverlabel": {
           "align": "left"
          },
          "hovermode": "closest",
          "mapbox": {
           "style": "light"
          },
          "paper_bgcolor": "white",
          "plot_bgcolor": "#E5ECF6",
          "polar": {
           "angularaxis": {
            "gridcolor": "white",
            "linecolor": "white",
            "ticks": ""
           },
           "bgcolor": "#E5ECF6",
           "radialaxis": {
            "gridcolor": "white",
            "linecolor": "white",
            "ticks": ""
           }
          },
          "scene": {
           "xaxis": {
            "backgroundcolor": "#E5ECF6",
            "gridcolor": "white",
            "gridwidth": 2,
            "linecolor": "white",
            "showbackground": true,
            "ticks": "",
            "zerolinecolor": "white"
           },
           "yaxis": {
            "backgroundcolor": "#E5ECF6",
            "gridcolor": "white",
            "gridwidth": 2,
            "linecolor": "white",
            "showbackground": true,
            "ticks": "",
            "zerolinecolor": "white"
           },
           "zaxis": {
            "backgroundcolor": "#E5ECF6",
            "gridcolor": "white",
            "gridwidth": 2,
            "linecolor": "white",
            "showbackground": true,
            "ticks": "",
            "zerolinecolor": "white"
           }
          },
          "shapedefaults": {
           "line": {
            "color": "#2a3f5f"
           }
          },
          "ternary": {
           "aaxis": {
            "gridcolor": "white",
            "linecolor": "white",
            "ticks": ""
           },
           "baxis": {
            "gridcolor": "white",
            "linecolor": "white",
            "ticks": ""
           },
           "bgcolor": "#E5ECF6",
           "caxis": {
            "gridcolor": "white",
            "linecolor": "white",
            "ticks": ""
           }
          },
          "title": {
           "x": 0.05
          },
          "xaxis": {
           "automargin": true,
           "gridcolor": "white",
           "linecolor": "white",
           "ticks": "",
           "title": {
            "standoff": 15
           },
           "zerolinecolor": "white",
           "zerolinewidth": 2
          },
          "yaxis": {
           "automargin": true,
           "gridcolor": "white",
           "linecolor": "white",
           "ticks": "",
           "title": {
            "standoff": 15
           },
           "zerolinecolor": "white",
           "zerolinewidth": 2
          }
         }
        },
        "title": {
         "text": "Most commited crimes against economic patrimony per gender"
        },
        "uniformtext": {
         "minsize": 6,
         "mode": "hide"
        },
        "width": 900,
        "xaxis": {
         "anchor": "y",
         "domain": [
          0,
          1
         ],
         "tickangle": -45,
         "tickfont": {
          "color": "black",
          "family": "Rockwell",
          "size": 8
         },
         "title": {
          "text": "DELITO"
         }
        },
        "yaxis": {
         "anchor": "x",
         "domain": [
          0,
          1
         ],
         "title": {
          "text": "Amount of recidivist economic crimes"
         }
        }
       }
      },
      "text/html": [
       "<div>\n",
       "        \n",
       "        \n",
       "            <div id=\"92e4b411-fe10-4c78-8b57-4be9786ef74e\" class=\"plotly-graph-div\" style=\"height:700px; width:900px;\"></div>\n",
       "            <script type=\"text/javascript\">\n",
       "                require([\"plotly\"], function(Plotly) {\n",
       "                    window.PLOTLYENV=window.PLOTLYENV || {};\n",
       "                    \n",
       "                if (document.getElementById(\"92e4b411-fe10-4c78-8b57-4be9786ef74e\")) {\n",
       "                    Plotly.newPlot(\n",
       "                        '92e4b411-fe10-4c78-8b57-4be9786ef74e',\n",
       "                        [{\"alignmentgroup\": \"True\", \"customdata\": [[\"FEMENINO\", \"ABUSO DE CONDICIONES DE INFERIORIDAD\"], [\"FEMENINO\", \"ABUSO DE CONFIANZA\"], [\"FEMENINO\", \"ALZAMIENTO DE BIENES\"], [\"FEMENINO\", \"DEFRAUDACION DE FLUIDOS\"], [\"FEMENINO\", \"EMISION Y TRANSFERENCIA ILEGAL DE CHEQUE\"], [\"FEMENINO\", \"ESTAFA\"], [\"FEMENINO\", \"EXTORSION\"], [\"FEMENINO\", \"HURTO\"]], \"hovertemplate\": \"GENERO=%{customdata[0]}<br>DELITO=%{customdata[1]}<br>Amount of recidivist economic crimes=%{text}<extra></extra>\", \"legendgroup\": \"FEMENINO\", \"marker\": {\"color\": \"#636efa\"}, \"name\": \"FEMENINO\", \"offsetgroup\": \"FEMENINO\", \"orientation\": \"v\", \"showlegend\": true, \"text\": [1.0, 6.0, 1.0, 2.0, 1.0, 132.0, 172.0, 3353.0], \"textposition\": \"outside\", \"texttemplate\": \"%{text:.2s}\", \"type\": \"bar\", \"x\": [\"ABUSO DE CONDICIONES DE INFERIORIDAD\", \"ABUSO DE CONFIANZA\", \"ALZAMIENTO DE BIENES\", \"DEFRAUDACION DE FLUIDOS\", \"EMISION Y TRANSFERENCIA ILEGAL DE CHEQUE\", \"ESTAFA\", \"EXTORSION\", \"HURTO\"], \"xaxis\": \"x\", \"y\": [1, 6, 1, 2, 1, 132, 172, 3353], \"yaxis\": \"y\"}, {\"alignmentgroup\": \"True\", \"customdata\": [[\"MASCULINO\", \"ABIGEATO\"], [\"MASCULINO\", \"ABUSO DE CONFIANZA\"], [\"MASCULINO\", \"ALTERACION DESFIGURACION Y SUPLANTACION DE MARCAS DE GANADO\"], [\"MASCULINO\", \"DA\\u00d1O EN BIEN AJENO\"], [\"MASCULINO\", \"DEFRAUDACION DE FLUIDOS\"], [\"MASCULINO\", \"EMISION Y TRANSFERENCIA ILEGAL DE CHEQUE\"], [\"MASCULINO\", \"ESTAFA\"], [\"MASCULINO\", \"EXTORSION\"], [\"MASCULINO\", \"GESTION INDEBIDA DE RECURSOS SOCIALES\"], [\"MASCULINO\", \"HURTO\"], [\"MASCULINO\", \"INVASION DE TIERRAS O EDIFICACIONES\"], [\"MASCULINO\", \"PERTURBACION DE LA POSESION SOBRE INMUEBLE\"], [\"MASCULINO\", \"SUSTRACCION DE BIEN PROPIO\"], [\"MASCULINO\", \"UTILIZACION INDEBIDA DE INFORMACION PRIVILEGIADA\"]], \"hovertemplate\": \"GENERO=%{customdata[0]}<br>DELITO=%{customdata[1]}<br>Amount of recidivist economic crimes=%{text}<extra></extra>\", \"legendgroup\": \"MASCULINO\", \"marker\": {\"color\": \"#EF553B\"}, \"name\": \"MASCULINO\", \"offsetgroup\": \"MASCULINO\", \"orientation\": \"v\", \"showlegend\": true, \"text\": [5.0, 65.0, 2.0, 174.0, 6.0, 4.0, 475.0, 2660.0, 3.0, 49792.0, 3.0, 1.0, 1.0, 1.0], \"textposition\": \"outside\", \"texttemplate\": \"%{text:.2s}\", \"type\": \"bar\", \"x\": [\"ABIGEATO\", \"ABUSO DE CONFIANZA\", \"ALTERACION DESFIGURACION Y SUPLANTACION DE MARCAS DE GANADO\", \"DA\\u00d1O EN BIEN AJENO\", \"DEFRAUDACION DE FLUIDOS\", \"EMISION Y TRANSFERENCIA ILEGAL DE CHEQUE\", \"ESTAFA\", \"EXTORSION\", \"GESTION INDEBIDA DE RECURSOS SOCIALES\", \"HURTO\", \"INVASION DE TIERRAS O EDIFICACIONES\", \"PERTURBACION DE LA POSESION SOBRE INMUEBLE\", \"SUSTRACCION DE BIEN PROPIO\", \"UTILIZACION INDEBIDA DE INFORMACION PRIVILEGIADA\"], \"xaxis\": \"x\", \"y\": [5, 65, 2, 174, 6, 4, 475, 2660, 3, 49792, 3, 1, 1, 1], \"yaxis\": \"y\"}],\n",
       "                        {\"autosize\": false, \"barmode\": \"relative\", \"height\": 700, \"legend\": {\"title\": {\"text\": \"GENERO\"}, \"tracegroupgap\": 0}, \"margin\": {\"b\": 100, \"l\": 50, \"pad\": 4, \"r\": 50, \"t\": 100}, \"showlegend\": true, \"template\": {\"data\": {\"bar\": [{\"error_x\": {\"color\": \"#2a3f5f\"}, \"error_y\": {\"color\": \"#2a3f5f\"}, \"marker\": {\"line\": {\"color\": \"#E5ECF6\", \"width\": 0.5}}, \"type\": \"bar\"}], \"barpolar\": [{\"marker\": {\"line\": {\"color\": \"#E5ECF6\", \"width\": 0.5}}, \"type\": \"barpolar\"}], \"carpet\": [{\"aaxis\": {\"endlinecolor\": \"#2a3f5f\", \"gridcolor\": \"white\", \"linecolor\": \"white\", \"minorgridcolor\": \"white\", \"startlinecolor\": \"#2a3f5f\"}, \"baxis\": {\"endlinecolor\": \"#2a3f5f\", \"gridcolor\": \"white\", \"linecolor\": \"white\", \"minorgridcolor\": \"white\", \"startlinecolor\": \"#2a3f5f\"}, \"type\": \"carpet\"}], \"choropleth\": [{\"colorbar\": {\"outlinewidth\": 0, \"ticks\": \"\"}, \"type\": \"choropleth\"}], \"contour\": [{\"colorbar\": {\"outlinewidth\": 0, \"ticks\": \"\"}, \"colorscale\": [[0.0, \"#0d0887\"], [0.1111111111111111, \"#46039f\"], [0.2222222222222222, \"#7201a8\"], [0.3333333333333333, \"#9c179e\"], [0.4444444444444444, \"#bd3786\"], [0.5555555555555556, \"#d8576b\"], [0.6666666666666666, \"#ed7953\"], [0.7777777777777778, \"#fb9f3a\"], [0.8888888888888888, \"#fdca26\"], [1.0, \"#f0f921\"]], \"type\": \"contour\"}], \"contourcarpet\": [{\"colorbar\": {\"outlinewidth\": 0, \"ticks\": \"\"}, \"type\": \"contourcarpet\"}], \"heatmap\": [{\"colorbar\": {\"outlinewidth\": 0, \"ticks\": \"\"}, \"colorscale\": [[0.0, \"#0d0887\"], [0.1111111111111111, \"#46039f\"], [0.2222222222222222, \"#7201a8\"], [0.3333333333333333, \"#9c179e\"], [0.4444444444444444, \"#bd3786\"], [0.5555555555555556, \"#d8576b\"], [0.6666666666666666, \"#ed7953\"], [0.7777777777777778, \"#fb9f3a\"], [0.8888888888888888, \"#fdca26\"], [1.0, \"#f0f921\"]], \"type\": \"heatmap\"}], \"heatmapgl\": [{\"colorbar\": {\"outlinewidth\": 0, \"ticks\": \"\"}, \"colorscale\": [[0.0, \"#0d0887\"], [0.1111111111111111, \"#46039f\"], [0.2222222222222222, \"#7201a8\"], [0.3333333333333333, \"#9c179e\"], [0.4444444444444444, \"#bd3786\"], [0.5555555555555556, \"#d8576b\"], [0.6666666666666666, \"#ed7953\"], [0.7777777777777778, \"#fb9f3a\"], [0.8888888888888888, \"#fdca26\"], [1.0, \"#f0f921\"]], \"type\": \"heatmapgl\"}], \"histogram\": [{\"marker\": {\"colorbar\": {\"outlinewidth\": 0, \"ticks\": \"\"}}, \"type\": \"histogram\"}], \"histogram2d\": [{\"colorbar\": {\"outlinewidth\": 0, \"ticks\": \"\"}, \"colorscale\": [[0.0, \"#0d0887\"], [0.1111111111111111, \"#46039f\"], [0.2222222222222222, \"#7201a8\"], [0.3333333333333333, \"#9c179e\"], [0.4444444444444444, \"#bd3786\"], [0.5555555555555556, \"#d8576b\"], [0.6666666666666666, \"#ed7953\"], [0.7777777777777778, \"#fb9f3a\"], [0.8888888888888888, \"#fdca26\"], [1.0, \"#f0f921\"]], \"type\": \"histogram2d\"}], \"histogram2dcontour\": [{\"colorbar\": {\"outlinewidth\": 0, \"ticks\": \"\"}, \"colorscale\": [[0.0, \"#0d0887\"], [0.1111111111111111, \"#46039f\"], [0.2222222222222222, \"#7201a8\"], [0.3333333333333333, \"#9c179e\"], [0.4444444444444444, \"#bd3786\"], [0.5555555555555556, \"#d8576b\"], [0.6666666666666666, \"#ed7953\"], [0.7777777777777778, \"#fb9f3a\"], [0.8888888888888888, \"#fdca26\"], [1.0, \"#f0f921\"]], \"type\": \"histogram2dcontour\"}], \"mesh3d\": [{\"colorbar\": {\"outlinewidth\": 0, \"ticks\": \"\"}, \"type\": \"mesh3d\"}], \"parcoords\": [{\"line\": {\"colorbar\": {\"outlinewidth\": 0, \"ticks\": \"\"}}, \"type\": \"parcoords\"}], \"pie\": [{\"automargin\": true, \"type\": \"pie\"}], \"scatter\": [{\"marker\": {\"colorbar\": {\"outlinewidth\": 0, \"ticks\": \"\"}}, \"type\": \"scatter\"}], \"scatter3d\": [{\"line\": {\"colorbar\": {\"outlinewidth\": 0, \"ticks\": \"\"}}, \"marker\": {\"colorbar\": {\"outlinewidth\": 0, \"ticks\": \"\"}}, \"type\": \"scatter3d\"}], \"scattercarpet\": [{\"marker\": {\"colorbar\": {\"outlinewidth\": 0, \"ticks\": \"\"}}, \"type\": \"scattercarpet\"}], \"scattergeo\": [{\"marker\": {\"colorbar\": {\"outlinewidth\": 0, \"ticks\": \"\"}}, \"type\": \"scattergeo\"}], \"scattergl\": [{\"marker\": {\"colorbar\": {\"outlinewidth\": 0, \"ticks\": \"\"}}, \"type\": \"scattergl\"}], \"scattermapbox\": [{\"marker\": {\"colorbar\": {\"outlinewidth\": 0, \"ticks\": \"\"}}, \"type\": \"scattermapbox\"}], \"scatterpolar\": [{\"marker\": {\"colorbar\": {\"outlinewidth\": 0, \"ticks\": \"\"}}, \"type\": \"scatterpolar\"}], \"scatterpolargl\": [{\"marker\": {\"colorbar\": {\"outlinewidth\": 0, \"ticks\": \"\"}}, \"type\": \"scatterpolargl\"}], \"scatterternary\": [{\"marker\": {\"colorbar\": {\"outlinewidth\": 0, \"ticks\": \"\"}}, \"type\": \"scatterternary\"}], \"surface\": [{\"colorbar\": {\"outlinewidth\": 0, \"ticks\": \"\"}, \"colorscale\": [[0.0, \"#0d0887\"], [0.1111111111111111, \"#46039f\"], [0.2222222222222222, \"#7201a8\"], [0.3333333333333333, \"#9c179e\"], [0.4444444444444444, \"#bd3786\"], [0.5555555555555556, \"#d8576b\"], [0.6666666666666666, \"#ed7953\"], [0.7777777777777778, \"#fb9f3a\"], [0.8888888888888888, \"#fdca26\"], [1.0, \"#f0f921\"]], \"type\": \"surface\"}], \"table\": [{\"cells\": {\"fill\": {\"color\": \"#EBF0F8\"}, \"line\": {\"color\": \"white\"}}, \"header\": {\"fill\": {\"color\": \"#C8D4E3\"}, \"line\": {\"color\": \"white\"}}, \"type\": \"table\"}]}, \"layout\": {\"annotationdefaults\": {\"arrowcolor\": \"#2a3f5f\", \"arrowhead\": 0, \"arrowwidth\": 1}, \"coloraxis\": {\"colorbar\": {\"outlinewidth\": 0, \"ticks\": \"\"}}, \"colorscale\": {\"diverging\": [[0, \"#8e0152\"], [0.1, \"#c51b7d\"], [0.2, \"#de77ae\"], [0.3, \"#f1b6da\"], [0.4, \"#fde0ef\"], [0.5, \"#f7f7f7\"], [0.6, \"#e6f5d0\"], [0.7, \"#b8e186\"], [0.8, \"#7fbc41\"], [0.9, \"#4d9221\"], [1, \"#276419\"]], \"sequential\": [[0.0, \"#0d0887\"], [0.1111111111111111, \"#46039f\"], [0.2222222222222222, \"#7201a8\"], [0.3333333333333333, \"#9c179e\"], [0.4444444444444444, \"#bd3786\"], [0.5555555555555556, \"#d8576b\"], [0.6666666666666666, \"#ed7953\"], [0.7777777777777778, \"#fb9f3a\"], [0.8888888888888888, \"#fdca26\"], [1.0, \"#f0f921\"]], \"sequentialminus\": [[0.0, \"#0d0887\"], [0.1111111111111111, \"#46039f\"], [0.2222222222222222, \"#7201a8\"], [0.3333333333333333, \"#9c179e\"], [0.4444444444444444, \"#bd3786\"], [0.5555555555555556, \"#d8576b\"], [0.6666666666666666, \"#ed7953\"], [0.7777777777777778, \"#fb9f3a\"], [0.8888888888888888, \"#fdca26\"], [1.0, \"#f0f921\"]]}, \"colorway\": [\"#636efa\", \"#EF553B\", \"#00cc96\", \"#ab63fa\", \"#FFA15A\", \"#19d3f3\", \"#FF6692\", \"#B6E880\", \"#FF97FF\", \"#FECB52\"], \"font\": {\"color\": \"#2a3f5f\"}, \"geo\": {\"bgcolor\": \"white\", \"lakecolor\": \"white\", \"landcolor\": \"#E5ECF6\", \"showlakes\": true, \"showland\": true, \"subunitcolor\": \"white\"}, \"hoverlabel\": {\"align\": \"left\"}, \"hovermode\": \"closest\", \"mapbox\": {\"style\": \"light\"}, \"paper_bgcolor\": \"white\", \"plot_bgcolor\": \"#E5ECF6\", \"polar\": {\"angularaxis\": {\"gridcolor\": \"white\", \"linecolor\": \"white\", \"ticks\": \"\"}, \"bgcolor\": \"#E5ECF6\", \"radialaxis\": {\"gridcolor\": \"white\", \"linecolor\": \"white\", \"ticks\": \"\"}}, \"scene\": {\"xaxis\": {\"backgroundcolor\": \"#E5ECF6\", \"gridcolor\": \"white\", \"gridwidth\": 2, \"linecolor\": \"white\", \"showbackground\": true, \"ticks\": \"\", \"zerolinecolor\": \"white\"}, \"yaxis\": {\"backgroundcolor\": \"#E5ECF6\", \"gridcolor\": \"white\", \"gridwidth\": 2, \"linecolor\": \"white\", \"showbackground\": true, \"ticks\": \"\", \"zerolinecolor\": \"white\"}, \"zaxis\": {\"backgroundcolor\": \"#E5ECF6\", \"gridcolor\": \"white\", \"gridwidth\": 2, \"linecolor\": \"white\", \"showbackground\": true, \"ticks\": \"\", \"zerolinecolor\": \"white\"}}, \"shapedefaults\": {\"line\": {\"color\": \"#2a3f5f\"}}, \"ternary\": {\"aaxis\": {\"gridcolor\": \"white\", \"linecolor\": \"white\", \"ticks\": \"\"}, \"baxis\": {\"gridcolor\": \"white\", \"linecolor\": \"white\", \"ticks\": \"\"}, \"bgcolor\": \"#E5ECF6\", \"caxis\": {\"gridcolor\": \"white\", \"linecolor\": \"white\", \"ticks\": \"\"}}, \"title\": {\"x\": 0.05}, \"xaxis\": {\"automargin\": true, \"gridcolor\": \"white\", \"linecolor\": \"white\", \"ticks\": \"\", \"title\": {\"standoff\": 15}, \"zerolinecolor\": \"white\", \"zerolinewidth\": 2}, \"yaxis\": {\"automargin\": true, \"gridcolor\": \"white\", \"linecolor\": \"white\", \"ticks\": \"\", \"title\": {\"standoff\": 15}, \"zerolinecolor\": \"white\", \"zerolinewidth\": 2}}}, \"title\": {\"text\": \"Most commited crimes against economic patrimony per gender\"}, \"uniformtext\": {\"minsize\": 6, \"mode\": \"hide\"}, \"width\": 900, \"xaxis\": {\"anchor\": \"y\", \"domain\": [0.0, 1.0], \"tickangle\": -45, \"tickfont\": {\"color\": \"black\", \"family\": \"Rockwell\", \"size\": 8}, \"title\": {\"text\": \"DELITO\"}}, \"yaxis\": {\"anchor\": \"x\", \"domain\": [0.0, 1.0], \"title\": {\"text\": \"Amount of recidivist economic crimes\"}}},\n",
       "                        {\"responsive\": true}\n",
       "                    ).then(function(){\n",
       "                            \n",
       "var gd = document.getElementById('92e4b411-fe10-4c78-8b57-4be9786ef74e');\n",
       "var x = new MutationObserver(function (mutations, observer) {{\n",
       "        var display = window.getComputedStyle(gd).display;\n",
       "        if (!display || display === 'none') {{\n",
       "            console.log([gd, 'removed!']);\n",
       "            Plotly.purge(gd);\n",
       "            observer.disconnect();\n",
       "        }}\n",
       "}});\n",
       "\n",
       "// Listen for the removal of the full notebook cells\n",
       "var notebookContainer = gd.closest('#notebook-container');\n",
       "if (notebookContainer) {{\n",
       "    x.observe(notebookContainer, {childList: true});\n",
       "}}\n",
       "\n",
       "// Listen for the clearing of the current output cell\n",
       "var outputEl = gd.closest('.output');\n",
       "if (outputEl) {{\n",
       "    x.observe(outputEl, {childList: true});\n",
       "}}\n",
       "\n",
       "                        })\n",
       "                };\n",
       "                });\n",
       "            </script>\n",
       "        </div>"
      ]
     },
     "metadata": {},
     "output_type": "display_data"
    }
   ],
   "source": [
    "fig = px.bar(economic_crime, x='DELITO', y='COUNT',\n",
    "             hover_data=[\"GENERO\",'DELITO'], color='GENERO',\n",
    "             labels={'COUNT':'Amount of recidivist economic crimes'}, barmode='relative', text=\"COUNT\")\n",
    "fig.update_traces(texttemplate='%{text:.2s}', textposition='outside')\n",
    "fig.update_layout(uniformtext_minsize=6, uniformtext_mode='hide', xaxis_tickangle=-45, showlegend=True, autosize=False,\n",
    "                 width=900, height=700, margin=dict(l=50, r=50, b=100, t=100, pad=4 ),\n",
    "                  title=\"Most commited crimes against economic patrimony per gender\",\n",
    "                 )\n",
    "fig.update_xaxes( tickfont=dict(family='Rockwell', color='black', size=8)) #tickangle=45,\n",
    "\n",
    "fig.show()"
   ]
  },
  {
   "cell_type": "code",
   "execution_count": 26,
   "metadata": {},
   "outputs": [],
   "source": [
    "# economic_crime\n",
    "\n",
    "# fig_dims = (15, 10)\n",
    "# fig, ax = plt.subplots(figsize=fig_dims)\n",
    "\n",
    "# sns.barplot(x=\"DELITO\", y=\"COUNT\", data=economic_crime, hue=\"GENERO\", ax=ax)\n",
    "# ax.set_xticklabels(ax.get_xticklabels(),rotation=30, horizontalalignment='right', fontsize = 12)\n",
    "\n",
    "# ax.set_title('Crimes against economic heritage', fontsize=20, fontweight='bold', pad=15)"
   ]
  },
  {
   "cell_type": "code",
   "execution_count": 27,
   "metadata": {},
   "outputs": [],
   "source": [
    "# female_crime = df_mj[(df_mj[\"TITULO_DELITO\"]==\"CONTRA LA SALUD PUBLICA\") & (df_mj[\"GENERO\"]==\"FEMENINO\")][\"DELITO\"].value_counts()\n",
    "female_crime = df_mj[(df_mj[\"TITULO_DELITO\"]==\"CONTRA LA SALUD PUBLICA\")].groupby([\"GENERO\", \"DELITO\"])[\"DELITO\"].agg(\"count\")\n",
    "female_crime = pd.DataFrame(female_crime)\n",
    "female_crime.rename(columns={\"DELITO\": \"COUNT\"},inplace=True)\n",
    "female_crime.reset_index(inplace=True)\n",
    "# female_crime\n",
    "# fig_dims = (15, 10)\n",
    "# fig, ax = plt.subplots(figsize=fig_dims)\n",
    "\n",
    "# sns.barplot(x=\"index\", y=\"DELITO\", data=female_crime, ax=ax)\n",
    "# ax.set_xticklabels(ax.get_xticklabels(),rotation=30, horizontalalignment='right', fontsize = 12)\n",
    "\n",
    "# ax.set_title('Crimes against public health committed by women', fontsize=20, fontweight='bold', pad=15)"
   ]
  },
  {
   "cell_type": "code",
   "execution_count": 40,
   "metadata": {},
   "outputs": [
    {
     "data": {
      "application/vnd.plotly.v1+json": {
       "config": {
        "plotlyServerURL": "https://plot.ly"
       },
       "data": [
        {
         "alignmentgroup": "True",
         "customdata": [
          [
           "FEMENINO",
           "CONSERVACION O FINANCIACION DE PLANTACIONES"
          ],
          [
           "FEMENINO",
           "CORRUPCION DE ALIMENTOS PRODUCTOS MEDICOS O MATERIAL PROFILACTICO"
          ],
          [
           "FEMENINO",
           "DESTINACION ILICITA DE MUEBLES O INMUEBLES"
          ],
          [
           "FEMENINO",
           "ENAJENACIÓN ILEGAL DE MEDICAMENTOS"
          ],
          [
           "FEMENINO",
           "ESTIMULO AL USO ILICITO"
          ],
          [
           "FEMENINO",
           "FABRICACION Y COMERCIALIZACION DE SUSTANCIAS NOCIVAS PARA LA SALUD"
          ],
          [
           "FEMENINO",
           "IMITACION O SIMULACION DE ALIMENTOS PRODUCTOS O SUSTANCIAS"
          ],
          [
           "FEMENINO",
           "INFRACCION LEY 30 DE 1986"
          ],
          [
           "FEMENINO",
           "SUMINISTRO A MENOR"
          ],
          [
           "FEMENINO",
           "TRAFICO DE SUSTANCIAS PARA PROCESAMIENTO DE NARCOTICOS"
          ],
          [
           "FEMENINO",
           "TRAFICO FABRICACION O PORTE DE ESTUPEFACIENTES"
          ]
         ],
         "hovertemplate": "GENERO=%{customdata[0]}<br>DELITO=%{customdata[1]}<br>Amount of recidivist crimes against public health=%{text}<extra></extra>",
         "legendgroup": "FEMENINO",
         "marker": {
          "color": "#636efa"
         },
         "name": "FEMENINO",
         "offsetgroup": "FEMENINO",
         "orientation": "v",
         "showlegend": true,
         "text": [
          2,
          8,
          174,
          1,
          3,
          1,
          7,
          2,
          4,
          10,
          4313
         ],
         "textposition": "outside",
         "texttemplate": "%{text:.2s}",
         "type": "bar",
         "x": [
          "CONSERVACION O FINANCIACION DE PLANTACIONES",
          "CORRUPCION DE ALIMENTOS PRODUCTOS MEDICOS O MATERIAL PROFILACTICO",
          "DESTINACION ILICITA DE MUEBLES O INMUEBLES",
          "ENAJENACIÓN ILEGAL DE MEDICAMENTOS",
          "ESTIMULO AL USO ILICITO",
          "FABRICACION Y COMERCIALIZACION DE SUSTANCIAS NOCIVAS PARA LA SALUD",
          "IMITACION O SIMULACION DE ALIMENTOS PRODUCTOS O SUSTANCIAS",
          "INFRACCION LEY 30 DE 1986",
          "SUMINISTRO A MENOR",
          "TRAFICO DE SUSTANCIAS PARA PROCESAMIENTO DE NARCOTICOS",
          "TRAFICO FABRICACION O PORTE DE ESTUPEFACIENTES"
         ],
         "xaxis": "x",
         "y": [
          2,
          8,
          174,
          1,
          3,
          1,
          7,
          2,
          4,
          10,
          4313
         ],
         "yaxis": "y"
        },
        {
         "alignmentgroup": "True",
         "customdata": [
          [
           "MASCULINO",
           "CONSERVACION O FINANCIACION DE PLANTACIONES"
          ],
          [
           "MASCULINO",
           "CORRUPCION DE ALIMENTOS PRODUCTOS MEDICOS O MATERIAL PROFILACTICO"
          ],
          [
           "MASCULINO",
           "DESTINACION ILICITA DE MUEBLES O INMUEBLES"
          ],
          [
           "MASCULINO",
           "ENAJENACIÓN ILEGAL DE MEDICAMENTOS"
          ],
          [
           "MASCULINO",
           "ESTIMULO AL USO ILICITO"
          ],
          [
           "MASCULINO",
           "FABRICACION Y COMERCIALIZACION DE SUSTANCIAS NOCIVAS PARA LA SALUD"
          ],
          [
           "MASCULINO",
           "IMITACION O SIMULACION DE ALIMENTOS PRODUCTOS O SUSTANCIAS"
          ],
          [
           "MASCULINO",
           "INFRACCION LEY 30 DE 1986"
          ],
          [
           "MASCULINO",
           "PORTE DE SUSTANCIAS"
          ],
          [
           "MASCULINO",
           "PROPAGACION DEL VIRUS DE INMUNODEFICIENCIA HUMANA O DE LA HEPATITIS B"
          ],
          [
           "MASCULINO",
           "SUMINISTRO A MENOR"
          ],
          [
           "MASCULINO",
           "TRAFICO DE SUSTANCIAS PARA PROCESAMIENTO DE NARCOTICOS"
          ],
          [
           "MASCULINO",
           "TRAFICO FABRICACION O PORTE DE ESTUPEFACIENTES"
          ],
          [
           "MASCULINO",
           "VIOLACION DE MEDIDAS SANITARIAS"
          ]
         ],
         "hovertemplate": "GENERO=%{customdata[0]}<br>DELITO=%{customdata[1]}<br>Amount of recidivist crimes against public health=%{text}<extra></extra>",
         "legendgroup": "MASCULINO",
         "marker": {
          "color": "#EF553B"
         },
         "name": "MASCULINO",
         "offsetgroup": "MASCULINO",
         "orientation": "v",
         "showlegend": true,
         "text": [
          81,
          63,
          388,
          5,
          8,
          4,
          55,
          12,
          4,
          1,
          18,
          252,
          19610,
          2
         ],
         "textposition": "outside",
         "texttemplate": "%{text:.2s}",
         "type": "bar",
         "x": [
          "CONSERVACION O FINANCIACION DE PLANTACIONES",
          "CORRUPCION DE ALIMENTOS PRODUCTOS MEDICOS O MATERIAL PROFILACTICO",
          "DESTINACION ILICITA DE MUEBLES O INMUEBLES",
          "ENAJENACIÓN ILEGAL DE MEDICAMENTOS",
          "ESTIMULO AL USO ILICITO",
          "FABRICACION Y COMERCIALIZACION DE SUSTANCIAS NOCIVAS PARA LA SALUD",
          "IMITACION O SIMULACION DE ALIMENTOS PRODUCTOS O SUSTANCIAS",
          "INFRACCION LEY 30 DE 1986",
          "PORTE DE SUSTANCIAS",
          "PROPAGACION DEL VIRUS DE INMUNODEFICIENCIA HUMANA O DE LA HEPATITIS B",
          "SUMINISTRO A MENOR",
          "TRAFICO DE SUSTANCIAS PARA PROCESAMIENTO DE NARCOTICOS",
          "TRAFICO FABRICACION O PORTE DE ESTUPEFACIENTES",
          "VIOLACION DE MEDIDAS SANITARIAS"
         ],
         "xaxis": "x",
         "y": [
          81,
          63,
          388,
          5,
          8,
          4,
          55,
          12,
          4,
          1,
          18,
          252,
          19610,
          2
         ],
         "yaxis": "y"
        }
       ],
       "layout": {
        "autosize": false,
        "barmode": "relative",
        "height": 700,
        "legend": {
         "title": {
          "text": "GENERO"
         },
         "tracegroupgap": 0
        },
        "margin": {
         "b": 100,
         "l": 50,
         "pad": 4,
         "r": 50,
         "t": 100
        },
        "showlegend": true,
        "template": {
         "data": {
          "bar": [
           {
            "error_x": {
             "color": "#2a3f5f"
            },
            "error_y": {
             "color": "#2a3f5f"
            },
            "marker": {
             "line": {
              "color": "#E5ECF6",
              "width": 0.5
             }
            },
            "type": "bar"
           }
          ],
          "barpolar": [
           {
            "marker": {
             "line": {
              "color": "#E5ECF6",
              "width": 0.5
             }
            },
            "type": "barpolar"
           }
          ],
          "carpet": [
           {
            "aaxis": {
             "endlinecolor": "#2a3f5f",
             "gridcolor": "white",
             "linecolor": "white",
             "minorgridcolor": "white",
             "startlinecolor": "#2a3f5f"
            },
            "baxis": {
             "endlinecolor": "#2a3f5f",
             "gridcolor": "white",
             "linecolor": "white",
             "minorgridcolor": "white",
             "startlinecolor": "#2a3f5f"
            },
            "type": "carpet"
           }
          ],
          "choropleth": [
           {
            "colorbar": {
             "outlinewidth": 0,
             "ticks": ""
            },
            "type": "choropleth"
           }
          ],
          "contour": [
           {
            "colorbar": {
             "outlinewidth": 0,
             "ticks": ""
            },
            "colorscale": [
             [
              0,
              "#0d0887"
             ],
             [
              0.1111111111111111,
              "#46039f"
             ],
             [
              0.2222222222222222,
              "#7201a8"
             ],
             [
              0.3333333333333333,
              "#9c179e"
             ],
             [
              0.4444444444444444,
              "#bd3786"
             ],
             [
              0.5555555555555556,
              "#d8576b"
             ],
             [
              0.6666666666666666,
              "#ed7953"
             ],
             [
              0.7777777777777778,
              "#fb9f3a"
             ],
             [
              0.8888888888888888,
              "#fdca26"
             ],
             [
              1,
              "#f0f921"
             ]
            ],
            "type": "contour"
           }
          ],
          "contourcarpet": [
           {
            "colorbar": {
             "outlinewidth": 0,
             "ticks": ""
            },
            "type": "contourcarpet"
           }
          ],
          "heatmap": [
           {
            "colorbar": {
             "outlinewidth": 0,
             "ticks": ""
            },
            "colorscale": [
             [
              0,
              "#0d0887"
             ],
             [
              0.1111111111111111,
              "#46039f"
             ],
             [
              0.2222222222222222,
              "#7201a8"
             ],
             [
              0.3333333333333333,
              "#9c179e"
             ],
             [
              0.4444444444444444,
              "#bd3786"
             ],
             [
              0.5555555555555556,
              "#d8576b"
             ],
             [
              0.6666666666666666,
              "#ed7953"
             ],
             [
              0.7777777777777778,
              "#fb9f3a"
             ],
             [
              0.8888888888888888,
              "#fdca26"
             ],
             [
              1,
              "#f0f921"
             ]
            ],
            "type": "heatmap"
           }
          ],
          "heatmapgl": [
           {
            "colorbar": {
             "outlinewidth": 0,
             "ticks": ""
            },
            "colorscale": [
             [
              0,
              "#0d0887"
             ],
             [
              0.1111111111111111,
              "#46039f"
             ],
             [
              0.2222222222222222,
              "#7201a8"
             ],
             [
              0.3333333333333333,
              "#9c179e"
             ],
             [
              0.4444444444444444,
              "#bd3786"
             ],
             [
              0.5555555555555556,
              "#d8576b"
             ],
             [
              0.6666666666666666,
              "#ed7953"
             ],
             [
              0.7777777777777778,
              "#fb9f3a"
             ],
             [
              0.8888888888888888,
              "#fdca26"
             ],
             [
              1,
              "#f0f921"
             ]
            ],
            "type": "heatmapgl"
           }
          ],
          "histogram": [
           {
            "marker": {
             "colorbar": {
              "outlinewidth": 0,
              "ticks": ""
             }
            },
            "type": "histogram"
           }
          ],
          "histogram2d": [
           {
            "colorbar": {
             "outlinewidth": 0,
             "ticks": ""
            },
            "colorscale": [
             [
              0,
              "#0d0887"
             ],
             [
              0.1111111111111111,
              "#46039f"
             ],
             [
              0.2222222222222222,
              "#7201a8"
             ],
             [
              0.3333333333333333,
              "#9c179e"
             ],
             [
              0.4444444444444444,
              "#bd3786"
             ],
             [
              0.5555555555555556,
              "#d8576b"
             ],
             [
              0.6666666666666666,
              "#ed7953"
             ],
             [
              0.7777777777777778,
              "#fb9f3a"
             ],
             [
              0.8888888888888888,
              "#fdca26"
             ],
             [
              1,
              "#f0f921"
             ]
            ],
            "type": "histogram2d"
           }
          ],
          "histogram2dcontour": [
           {
            "colorbar": {
             "outlinewidth": 0,
             "ticks": ""
            },
            "colorscale": [
             [
              0,
              "#0d0887"
             ],
             [
              0.1111111111111111,
              "#46039f"
             ],
             [
              0.2222222222222222,
              "#7201a8"
             ],
             [
              0.3333333333333333,
              "#9c179e"
             ],
             [
              0.4444444444444444,
              "#bd3786"
             ],
             [
              0.5555555555555556,
              "#d8576b"
             ],
             [
              0.6666666666666666,
              "#ed7953"
             ],
             [
              0.7777777777777778,
              "#fb9f3a"
             ],
             [
              0.8888888888888888,
              "#fdca26"
             ],
             [
              1,
              "#f0f921"
             ]
            ],
            "type": "histogram2dcontour"
           }
          ],
          "mesh3d": [
           {
            "colorbar": {
             "outlinewidth": 0,
             "ticks": ""
            },
            "type": "mesh3d"
           }
          ],
          "parcoords": [
           {
            "line": {
             "colorbar": {
              "outlinewidth": 0,
              "ticks": ""
             }
            },
            "type": "parcoords"
           }
          ],
          "pie": [
           {
            "automargin": true,
            "type": "pie"
           }
          ],
          "scatter": [
           {
            "marker": {
             "colorbar": {
              "outlinewidth": 0,
              "ticks": ""
             }
            },
            "type": "scatter"
           }
          ],
          "scatter3d": [
           {
            "line": {
             "colorbar": {
              "outlinewidth": 0,
              "ticks": ""
             }
            },
            "marker": {
             "colorbar": {
              "outlinewidth": 0,
              "ticks": ""
             }
            },
            "type": "scatter3d"
           }
          ],
          "scattercarpet": [
           {
            "marker": {
             "colorbar": {
              "outlinewidth": 0,
              "ticks": ""
             }
            },
            "type": "scattercarpet"
           }
          ],
          "scattergeo": [
           {
            "marker": {
             "colorbar": {
              "outlinewidth": 0,
              "ticks": ""
             }
            },
            "type": "scattergeo"
           }
          ],
          "scattergl": [
           {
            "marker": {
             "colorbar": {
              "outlinewidth": 0,
              "ticks": ""
             }
            },
            "type": "scattergl"
           }
          ],
          "scattermapbox": [
           {
            "marker": {
             "colorbar": {
              "outlinewidth": 0,
              "ticks": ""
             }
            },
            "type": "scattermapbox"
           }
          ],
          "scatterpolar": [
           {
            "marker": {
             "colorbar": {
              "outlinewidth": 0,
              "ticks": ""
             }
            },
            "type": "scatterpolar"
           }
          ],
          "scatterpolargl": [
           {
            "marker": {
             "colorbar": {
              "outlinewidth": 0,
              "ticks": ""
             }
            },
            "type": "scatterpolargl"
           }
          ],
          "scatterternary": [
           {
            "marker": {
             "colorbar": {
              "outlinewidth": 0,
              "ticks": ""
             }
            },
            "type": "scatterternary"
           }
          ],
          "surface": [
           {
            "colorbar": {
             "outlinewidth": 0,
             "ticks": ""
            },
            "colorscale": [
             [
              0,
              "#0d0887"
             ],
             [
              0.1111111111111111,
              "#46039f"
             ],
             [
              0.2222222222222222,
              "#7201a8"
             ],
             [
              0.3333333333333333,
              "#9c179e"
             ],
             [
              0.4444444444444444,
              "#bd3786"
             ],
             [
              0.5555555555555556,
              "#d8576b"
             ],
             [
              0.6666666666666666,
              "#ed7953"
             ],
             [
              0.7777777777777778,
              "#fb9f3a"
             ],
             [
              0.8888888888888888,
              "#fdca26"
             ],
             [
              1,
              "#f0f921"
             ]
            ],
            "type": "surface"
           }
          ],
          "table": [
           {
            "cells": {
             "fill": {
              "color": "#EBF0F8"
             },
             "line": {
              "color": "white"
             }
            },
            "header": {
             "fill": {
              "color": "#C8D4E3"
             },
             "line": {
              "color": "white"
             }
            },
            "type": "table"
           }
          ]
         },
         "layout": {
          "annotationdefaults": {
           "arrowcolor": "#2a3f5f",
           "arrowhead": 0,
           "arrowwidth": 1
          },
          "coloraxis": {
           "colorbar": {
            "outlinewidth": 0,
            "ticks": ""
           }
          },
          "colorscale": {
           "diverging": [
            [
             0,
             "#8e0152"
            ],
            [
             0.1,
             "#c51b7d"
            ],
            [
             0.2,
             "#de77ae"
            ],
            [
             0.3,
             "#f1b6da"
            ],
            [
             0.4,
             "#fde0ef"
            ],
            [
             0.5,
             "#f7f7f7"
            ],
            [
             0.6,
             "#e6f5d0"
            ],
            [
             0.7,
             "#b8e186"
            ],
            [
             0.8,
             "#7fbc41"
            ],
            [
             0.9,
             "#4d9221"
            ],
            [
             1,
             "#276419"
            ]
           ],
           "sequential": [
            [
             0,
             "#0d0887"
            ],
            [
             0.1111111111111111,
             "#46039f"
            ],
            [
             0.2222222222222222,
             "#7201a8"
            ],
            [
             0.3333333333333333,
             "#9c179e"
            ],
            [
             0.4444444444444444,
             "#bd3786"
            ],
            [
             0.5555555555555556,
             "#d8576b"
            ],
            [
             0.6666666666666666,
             "#ed7953"
            ],
            [
             0.7777777777777778,
             "#fb9f3a"
            ],
            [
             0.8888888888888888,
             "#fdca26"
            ],
            [
             1,
             "#f0f921"
            ]
           ],
           "sequentialminus": [
            [
             0,
             "#0d0887"
            ],
            [
             0.1111111111111111,
             "#46039f"
            ],
            [
             0.2222222222222222,
             "#7201a8"
            ],
            [
             0.3333333333333333,
             "#9c179e"
            ],
            [
             0.4444444444444444,
             "#bd3786"
            ],
            [
             0.5555555555555556,
             "#d8576b"
            ],
            [
             0.6666666666666666,
             "#ed7953"
            ],
            [
             0.7777777777777778,
             "#fb9f3a"
            ],
            [
             0.8888888888888888,
             "#fdca26"
            ],
            [
             1,
             "#f0f921"
            ]
           ]
          },
          "colorway": [
           "#636efa",
           "#EF553B",
           "#00cc96",
           "#ab63fa",
           "#FFA15A",
           "#19d3f3",
           "#FF6692",
           "#B6E880",
           "#FF97FF",
           "#FECB52"
          ],
          "font": {
           "color": "#2a3f5f"
          },
          "geo": {
           "bgcolor": "white",
           "lakecolor": "white",
           "landcolor": "#E5ECF6",
           "showlakes": true,
           "showland": true,
           "subunitcolor": "white"
          },
          "hoverlabel": {
           "align": "left"
          },
          "hovermode": "closest",
          "mapbox": {
           "style": "light"
          },
          "paper_bgcolor": "white",
          "plot_bgcolor": "#E5ECF6",
          "polar": {
           "angularaxis": {
            "gridcolor": "white",
            "linecolor": "white",
            "ticks": ""
           },
           "bgcolor": "#E5ECF6",
           "radialaxis": {
            "gridcolor": "white",
            "linecolor": "white",
            "ticks": ""
           }
          },
          "scene": {
           "xaxis": {
            "backgroundcolor": "#E5ECF6",
            "gridcolor": "white",
            "gridwidth": 2,
            "linecolor": "white",
            "showbackground": true,
            "ticks": "",
            "zerolinecolor": "white"
           },
           "yaxis": {
            "backgroundcolor": "#E5ECF6",
            "gridcolor": "white",
            "gridwidth": 2,
            "linecolor": "white",
            "showbackground": true,
            "ticks": "",
            "zerolinecolor": "white"
           },
           "zaxis": {
            "backgroundcolor": "#E5ECF6",
            "gridcolor": "white",
            "gridwidth": 2,
            "linecolor": "white",
            "showbackground": true,
            "ticks": "",
            "zerolinecolor": "white"
           }
          },
          "shapedefaults": {
           "line": {
            "color": "#2a3f5f"
           }
          },
          "ternary": {
           "aaxis": {
            "gridcolor": "white",
            "linecolor": "white",
            "ticks": ""
           },
           "baxis": {
            "gridcolor": "white",
            "linecolor": "white",
            "ticks": ""
           },
           "bgcolor": "#E5ECF6",
           "caxis": {
            "gridcolor": "white",
            "linecolor": "white",
            "ticks": ""
           }
          },
          "title": {
           "x": 0.05
          },
          "xaxis": {
           "automargin": true,
           "gridcolor": "white",
           "linecolor": "white",
           "ticks": "",
           "title": {
            "standoff": 15
           },
           "zerolinecolor": "white",
           "zerolinewidth": 2
          },
          "yaxis": {
           "automargin": true,
           "gridcolor": "white",
           "linecolor": "white",
           "ticks": "",
           "title": {
            "standoff": 15
           },
           "zerolinecolor": "white",
           "zerolinewidth": 2
          }
         }
        },
        "title": {
         "text": "Most commited crimes against public health per gender"
        },
        "uniformtext": {
         "minsize": 6,
         "mode": "hide"
        },
        "width": 900,
        "xaxis": {
         "anchor": "y",
         "domain": [
          0,
          1
         ],
         "tickangle": -45,
         "tickfont": {
          "color": "black",
          "family": "Rockwell",
          "size": 8
         },
         "title": {
          "text": "DELITO"
         }
        },
        "yaxis": {
         "anchor": "x",
         "domain": [
          0,
          1
         ],
         "title": {
          "text": "Amount of recidivist crimes against public health"
         }
        }
       }
      },
      "text/html": [
       "<div>\n",
       "        \n",
       "        \n",
       "            <div id=\"67e135d3-3250-4c5a-a5c4-2e6e1891ebfd\" class=\"plotly-graph-div\" style=\"height:700px; width:900px;\"></div>\n",
       "            <script type=\"text/javascript\">\n",
       "                require([\"plotly\"], function(Plotly) {\n",
       "                    window.PLOTLYENV=window.PLOTLYENV || {};\n",
       "                    \n",
       "                if (document.getElementById(\"67e135d3-3250-4c5a-a5c4-2e6e1891ebfd\")) {\n",
       "                    Plotly.newPlot(\n",
       "                        '67e135d3-3250-4c5a-a5c4-2e6e1891ebfd',\n",
       "                        [{\"alignmentgroup\": \"True\", \"customdata\": [[\"FEMENINO\", \"CONSERVACION O FINANCIACION DE PLANTACIONES\"], [\"FEMENINO\", \"CORRUPCION DE ALIMENTOS PRODUCTOS MEDICOS O MATERIAL PROFILACTICO\"], [\"FEMENINO\", \"DESTINACION ILICITA DE MUEBLES O INMUEBLES\"], [\"FEMENINO\", \"ENAJENACI\\u00d3N ILEGAL DE MEDICAMENTOS\"], [\"FEMENINO\", \"ESTIMULO AL USO ILICITO\"], [\"FEMENINO\", \"FABRICACION Y COMERCIALIZACION DE SUSTANCIAS NOCIVAS PARA LA SALUD\"], [\"FEMENINO\", \"IMITACION O SIMULACION DE ALIMENTOS PRODUCTOS O SUSTANCIAS\"], [\"FEMENINO\", \"INFRACCION LEY 30 DE 1986\"], [\"FEMENINO\", \"SUMINISTRO A MENOR\"], [\"FEMENINO\", \"TRAFICO DE SUSTANCIAS PARA PROCESAMIENTO DE NARCOTICOS\"], [\"FEMENINO\", \"TRAFICO FABRICACION O PORTE DE ESTUPEFACIENTES\"]], \"hovertemplate\": \"GENERO=%{customdata[0]}<br>DELITO=%{customdata[1]}<br>Amount of recidivist crimes against public health=%{text}<extra></extra>\", \"legendgroup\": \"FEMENINO\", \"marker\": {\"color\": \"#636efa\"}, \"name\": \"FEMENINO\", \"offsetgroup\": \"FEMENINO\", \"orientation\": \"v\", \"showlegend\": true, \"text\": [2.0, 8.0, 174.0, 1.0, 3.0, 1.0, 7.0, 2.0, 4.0, 10.0, 4313.0], \"textposition\": \"outside\", \"texttemplate\": \"%{text:.2s}\", \"type\": \"bar\", \"x\": [\"CONSERVACION O FINANCIACION DE PLANTACIONES\", \"CORRUPCION DE ALIMENTOS PRODUCTOS MEDICOS O MATERIAL PROFILACTICO\", \"DESTINACION ILICITA DE MUEBLES O INMUEBLES\", \"ENAJENACI\\u00d3N ILEGAL DE MEDICAMENTOS\", \"ESTIMULO AL USO ILICITO\", \"FABRICACION Y COMERCIALIZACION DE SUSTANCIAS NOCIVAS PARA LA SALUD\", \"IMITACION O SIMULACION DE ALIMENTOS PRODUCTOS O SUSTANCIAS\", \"INFRACCION LEY 30 DE 1986\", \"SUMINISTRO A MENOR\", \"TRAFICO DE SUSTANCIAS PARA PROCESAMIENTO DE NARCOTICOS\", \"TRAFICO FABRICACION O PORTE DE ESTUPEFACIENTES\"], \"xaxis\": \"x\", \"y\": [2, 8, 174, 1, 3, 1, 7, 2, 4, 10, 4313], \"yaxis\": \"y\"}, {\"alignmentgroup\": \"True\", \"customdata\": [[\"MASCULINO\", \"CONSERVACION O FINANCIACION DE PLANTACIONES\"], [\"MASCULINO\", \"CORRUPCION DE ALIMENTOS PRODUCTOS MEDICOS O MATERIAL PROFILACTICO\"], [\"MASCULINO\", \"DESTINACION ILICITA DE MUEBLES O INMUEBLES\"], [\"MASCULINO\", \"ENAJENACI\\u00d3N ILEGAL DE MEDICAMENTOS\"], [\"MASCULINO\", \"ESTIMULO AL USO ILICITO\"], [\"MASCULINO\", \"FABRICACION Y COMERCIALIZACION DE SUSTANCIAS NOCIVAS PARA LA SALUD\"], [\"MASCULINO\", \"IMITACION O SIMULACION DE ALIMENTOS PRODUCTOS O SUSTANCIAS\"], [\"MASCULINO\", \"INFRACCION LEY 30 DE 1986\"], [\"MASCULINO\", \"PORTE DE SUSTANCIAS\"], [\"MASCULINO\", \"PROPAGACION DEL VIRUS DE INMUNODEFICIENCIA HUMANA O DE LA HEPATITIS B\"], [\"MASCULINO\", \"SUMINISTRO A MENOR\"], [\"MASCULINO\", \"TRAFICO DE SUSTANCIAS PARA PROCESAMIENTO DE NARCOTICOS\"], [\"MASCULINO\", \"TRAFICO FABRICACION O PORTE DE ESTUPEFACIENTES\"], [\"MASCULINO\", \"VIOLACION DE MEDIDAS SANITARIAS\"]], \"hovertemplate\": \"GENERO=%{customdata[0]}<br>DELITO=%{customdata[1]}<br>Amount of recidivist crimes against public health=%{text}<extra></extra>\", \"legendgroup\": \"MASCULINO\", \"marker\": {\"color\": \"#EF553B\"}, \"name\": \"MASCULINO\", \"offsetgroup\": \"MASCULINO\", \"orientation\": \"v\", \"showlegend\": true, \"text\": [81.0, 63.0, 388.0, 5.0, 8.0, 4.0, 55.0, 12.0, 4.0, 1.0, 18.0, 252.0, 19610.0, 2.0], \"textposition\": \"outside\", \"texttemplate\": \"%{text:.2s}\", \"type\": \"bar\", \"x\": [\"CONSERVACION O FINANCIACION DE PLANTACIONES\", \"CORRUPCION DE ALIMENTOS PRODUCTOS MEDICOS O MATERIAL PROFILACTICO\", \"DESTINACION ILICITA DE MUEBLES O INMUEBLES\", \"ENAJENACI\\u00d3N ILEGAL DE MEDICAMENTOS\", \"ESTIMULO AL USO ILICITO\", \"FABRICACION Y COMERCIALIZACION DE SUSTANCIAS NOCIVAS PARA LA SALUD\", \"IMITACION O SIMULACION DE ALIMENTOS PRODUCTOS O SUSTANCIAS\", \"INFRACCION LEY 30 DE 1986\", \"PORTE DE SUSTANCIAS\", \"PROPAGACION DEL VIRUS DE INMUNODEFICIENCIA HUMANA O DE LA HEPATITIS B\", \"SUMINISTRO A MENOR\", \"TRAFICO DE SUSTANCIAS PARA PROCESAMIENTO DE NARCOTICOS\", \"TRAFICO FABRICACION O PORTE DE ESTUPEFACIENTES\", \"VIOLACION DE MEDIDAS SANITARIAS\"], \"xaxis\": \"x\", \"y\": [81, 63, 388, 5, 8, 4, 55, 12, 4, 1, 18, 252, 19610, 2], \"yaxis\": \"y\"}],\n",
       "                        {\"autosize\": false, \"barmode\": \"relative\", \"height\": 700, \"legend\": {\"title\": {\"text\": \"GENERO\"}, \"tracegroupgap\": 0}, \"margin\": {\"b\": 100, \"l\": 50, \"pad\": 4, \"r\": 50, \"t\": 100}, \"showlegend\": true, \"template\": {\"data\": {\"bar\": [{\"error_x\": {\"color\": \"#2a3f5f\"}, \"error_y\": {\"color\": \"#2a3f5f\"}, \"marker\": {\"line\": {\"color\": \"#E5ECF6\", \"width\": 0.5}}, \"type\": \"bar\"}], \"barpolar\": [{\"marker\": {\"line\": {\"color\": \"#E5ECF6\", \"width\": 0.5}}, \"type\": \"barpolar\"}], \"carpet\": [{\"aaxis\": {\"endlinecolor\": \"#2a3f5f\", \"gridcolor\": \"white\", \"linecolor\": \"white\", \"minorgridcolor\": \"white\", \"startlinecolor\": \"#2a3f5f\"}, \"baxis\": {\"endlinecolor\": \"#2a3f5f\", \"gridcolor\": \"white\", \"linecolor\": \"white\", \"minorgridcolor\": \"white\", \"startlinecolor\": \"#2a3f5f\"}, \"type\": \"carpet\"}], \"choropleth\": [{\"colorbar\": {\"outlinewidth\": 0, \"ticks\": \"\"}, \"type\": \"choropleth\"}], \"contour\": [{\"colorbar\": {\"outlinewidth\": 0, \"ticks\": \"\"}, \"colorscale\": [[0.0, \"#0d0887\"], [0.1111111111111111, \"#46039f\"], [0.2222222222222222, \"#7201a8\"], [0.3333333333333333, \"#9c179e\"], [0.4444444444444444, \"#bd3786\"], [0.5555555555555556, \"#d8576b\"], [0.6666666666666666, \"#ed7953\"], [0.7777777777777778, \"#fb9f3a\"], [0.8888888888888888, \"#fdca26\"], [1.0, \"#f0f921\"]], \"type\": \"contour\"}], \"contourcarpet\": [{\"colorbar\": {\"outlinewidth\": 0, \"ticks\": \"\"}, \"type\": \"contourcarpet\"}], \"heatmap\": [{\"colorbar\": {\"outlinewidth\": 0, \"ticks\": \"\"}, \"colorscale\": [[0.0, \"#0d0887\"], [0.1111111111111111, \"#46039f\"], [0.2222222222222222, \"#7201a8\"], [0.3333333333333333, \"#9c179e\"], [0.4444444444444444, \"#bd3786\"], [0.5555555555555556, \"#d8576b\"], [0.6666666666666666, \"#ed7953\"], [0.7777777777777778, \"#fb9f3a\"], [0.8888888888888888, \"#fdca26\"], [1.0, \"#f0f921\"]], \"type\": \"heatmap\"}], \"heatmapgl\": [{\"colorbar\": {\"outlinewidth\": 0, \"ticks\": \"\"}, \"colorscale\": [[0.0, \"#0d0887\"], [0.1111111111111111, \"#46039f\"], [0.2222222222222222, \"#7201a8\"], [0.3333333333333333, \"#9c179e\"], [0.4444444444444444, \"#bd3786\"], [0.5555555555555556, \"#d8576b\"], [0.6666666666666666, \"#ed7953\"], [0.7777777777777778, \"#fb9f3a\"], [0.8888888888888888, \"#fdca26\"], [1.0, \"#f0f921\"]], \"type\": \"heatmapgl\"}], \"histogram\": [{\"marker\": {\"colorbar\": {\"outlinewidth\": 0, \"ticks\": \"\"}}, \"type\": \"histogram\"}], \"histogram2d\": [{\"colorbar\": {\"outlinewidth\": 0, \"ticks\": \"\"}, \"colorscale\": [[0.0, \"#0d0887\"], [0.1111111111111111, \"#46039f\"], [0.2222222222222222, \"#7201a8\"], [0.3333333333333333, \"#9c179e\"], [0.4444444444444444, \"#bd3786\"], [0.5555555555555556, \"#d8576b\"], [0.6666666666666666, \"#ed7953\"], [0.7777777777777778, \"#fb9f3a\"], [0.8888888888888888, \"#fdca26\"], [1.0, \"#f0f921\"]], \"type\": \"histogram2d\"}], \"histogram2dcontour\": [{\"colorbar\": {\"outlinewidth\": 0, \"ticks\": \"\"}, \"colorscale\": [[0.0, \"#0d0887\"], [0.1111111111111111, \"#46039f\"], [0.2222222222222222, \"#7201a8\"], [0.3333333333333333, \"#9c179e\"], [0.4444444444444444, \"#bd3786\"], [0.5555555555555556, \"#d8576b\"], [0.6666666666666666, \"#ed7953\"], [0.7777777777777778, \"#fb9f3a\"], [0.8888888888888888, \"#fdca26\"], [1.0, \"#f0f921\"]], \"type\": \"histogram2dcontour\"}], \"mesh3d\": [{\"colorbar\": {\"outlinewidth\": 0, \"ticks\": \"\"}, \"type\": \"mesh3d\"}], \"parcoords\": [{\"line\": {\"colorbar\": {\"outlinewidth\": 0, \"ticks\": \"\"}}, \"type\": \"parcoords\"}], \"pie\": [{\"automargin\": true, \"type\": \"pie\"}], \"scatter\": [{\"marker\": {\"colorbar\": {\"outlinewidth\": 0, \"ticks\": \"\"}}, \"type\": \"scatter\"}], \"scatter3d\": [{\"line\": {\"colorbar\": {\"outlinewidth\": 0, \"ticks\": \"\"}}, \"marker\": {\"colorbar\": {\"outlinewidth\": 0, \"ticks\": \"\"}}, \"type\": \"scatter3d\"}], \"scattercarpet\": [{\"marker\": {\"colorbar\": {\"outlinewidth\": 0, \"ticks\": \"\"}}, \"type\": \"scattercarpet\"}], \"scattergeo\": [{\"marker\": {\"colorbar\": {\"outlinewidth\": 0, \"ticks\": \"\"}}, \"type\": \"scattergeo\"}], \"scattergl\": [{\"marker\": {\"colorbar\": {\"outlinewidth\": 0, \"ticks\": \"\"}}, \"type\": \"scattergl\"}], \"scattermapbox\": [{\"marker\": {\"colorbar\": {\"outlinewidth\": 0, \"ticks\": \"\"}}, \"type\": \"scattermapbox\"}], \"scatterpolar\": [{\"marker\": {\"colorbar\": {\"outlinewidth\": 0, \"ticks\": \"\"}}, \"type\": \"scatterpolar\"}], \"scatterpolargl\": [{\"marker\": {\"colorbar\": {\"outlinewidth\": 0, \"ticks\": \"\"}}, \"type\": \"scatterpolargl\"}], \"scatterternary\": [{\"marker\": {\"colorbar\": {\"outlinewidth\": 0, \"ticks\": \"\"}}, \"type\": \"scatterternary\"}], \"surface\": [{\"colorbar\": {\"outlinewidth\": 0, \"ticks\": \"\"}, \"colorscale\": [[0.0, \"#0d0887\"], [0.1111111111111111, \"#46039f\"], [0.2222222222222222, \"#7201a8\"], [0.3333333333333333, \"#9c179e\"], [0.4444444444444444, \"#bd3786\"], [0.5555555555555556, \"#d8576b\"], [0.6666666666666666, \"#ed7953\"], [0.7777777777777778, \"#fb9f3a\"], [0.8888888888888888, \"#fdca26\"], [1.0, \"#f0f921\"]], \"type\": \"surface\"}], \"table\": [{\"cells\": {\"fill\": {\"color\": \"#EBF0F8\"}, \"line\": {\"color\": \"white\"}}, \"header\": {\"fill\": {\"color\": \"#C8D4E3\"}, \"line\": {\"color\": \"white\"}}, \"type\": \"table\"}]}, \"layout\": {\"annotationdefaults\": {\"arrowcolor\": \"#2a3f5f\", \"arrowhead\": 0, \"arrowwidth\": 1}, \"coloraxis\": {\"colorbar\": {\"outlinewidth\": 0, \"ticks\": \"\"}}, \"colorscale\": {\"diverging\": [[0, \"#8e0152\"], [0.1, \"#c51b7d\"], [0.2, \"#de77ae\"], [0.3, \"#f1b6da\"], [0.4, \"#fde0ef\"], [0.5, \"#f7f7f7\"], [0.6, \"#e6f5d0\"], [0.7, \"#b8e186\"], [0.8, \"#7fbc41\"], [0.9, \"#4d9221\"], [1, \"#276419\"]], \"sequential\": [[0.0, \"#0d0887\"], [0.1111111111111111, \"#46039f\"], [0.2222222222222222, \"#7201a8\"], [0.3333333333333333, \"#9c179e\"], [0.4444444444444444, \"#bd3786\"], [0.5555555555555556, \"#d8576b\"], [0.6666666666666666, \"#ed7953\"], [0.7777777777777778, \"#fb9f3a\"], [0.8888888888888888, \"#fdca26\"], [1.0, \"#f0f921\"]], \"sequentialminus\": [[0.0, \"#0d0887\"], [0.1111111111111111, \"#46039f\"], [0.2222222222222222, \"#7201a8\"], [0.3333333333333333, \"#9c179e\"], [0.4444444444444444, \"#bd3786\"], [0.5555555555555556, \"#d8576b\"], [0.6666666666666666, \"#ed7953\"], [0.7777777777777778, \"#fb9f3a\"], [0.8888888888888888, \"#fdca26\"], [1.0, \"#f0f921\"]]}, \"colorway\": [\"#636efa\", \"#EF553B\", \"#00cc96\", \"#ab63fa\", \"#FFA15A\", \"#19d3f3\", \"#FF6692\", \"#B6E880\", \"#FF97FF\", \"#FECB52\"], \"font\": {\"color\": \"#2a3f5f\"}, \"geo\": {\"bgcolor\": \"white\", \"lakecolor\": \"white\", \"landcolor\": \"#E5ECF6\", \"showlakes\": true, \"showland\": true, \"subunitcolor\": \"white\"}, \"hoverlabel\": {\"align\": \"left\"}, \"hovermode\": \"closest\", \"mapbox\": {\"style\": \"light\"}, \"paper_bgcolor\": \"white\", \"plot_bgcolor\": \"#E5ECF6\", \"polar\": {\"angularaxis\": {\"gridcolor\": \"white\", \"linecolor\": \"white\", \"ticks\": \"\"}, \"bgcolor\": \"#E5ECF6\", \"radialaxis\": {\"gridcolor\": \"white\", \"linecolor\": \"white\", \"ticks\": \"\"}}, \"scene\": {\"xaxis\": {\"backgroundcolor\": \"#E5ECF6\", \"gridcolor\": \"white\", \"gridwidth\": 2, \"linecolor\": \"white\", \"showbackground\": true, \"ticks\": \"\", \"zerolinecolor\": \"white\"}, \"yaxis\": {\"backgroundcolor\": \"#E5ECF6\", \"gridcolor\": \"white\", \"gridwidth\": 2, \"linecolor\": \"white\", \"showbackground\": true, \"ticks\": \"\", \"zerolinecolor\": \"white\"}, \"zaxis\": {\"backgroundcolor\": \"#E5ECF6\", \"gridcolor\": \"white\", \"gridwidth\": 2, \"linecolor\": \"white\", \"showbackground\": true, \"ticks\": \"\", \"zerolinecolor\": \"white\"}}, \"shapedefaults\": {\"line\": {\"color\": \"#2a3f5f\"}}, \"ternary\": {\"aaxis\": {\"gridcolor\": \"white\", \"linecolor\": \"white\", \"ticks\": \"\"}, \"baxis\": {\"gridcolor\": \"white\", \"linecolor\": \"white\", \"ticks\": \"\"}, \"bgcolor\": \"#E5ECF6\", \"caxis\": {\"gridcolor\": \"white\", \"linecolor\": \"white\", \"ticks\": \"\"}}, \"title\": {\"x\": 0.05}, \"xaxis\": {\"automargin\": true, \"gridcolor\": \"white\", \"linecolor\": \"white\", \"ticks\": \"\", \"title\": {\"standoff\": 15}, \"zerolinecolor\": \"white\", \"zerolinewidth\": 2}, \"yaxis\": {\"automargin\": true, \"gridcolor\": \"white\", \"linecolor\": \"white\", \"ticks\": \"\", \"title\": {\"standoff\": 15}, \"zerolinecolor\": \"white\", \"zerolinewidth\": 2}}}, \"title\": {\"text\": \"Most commited crimes against public health per gender\"}, \"uniformtext\": {\"minsize\": 6, \"mode\": \"hide\"}, \"width\": 900, \"xaxis\": {\"anchor\": \"y\", \"domain\": [0.0, 1.0], \"tickangle\": -45, \"tickfont\": {\"color\": \"black\", \"family\": \"Rockwell\", \"size\": 8}, \"title\": {\"text\": \"DELITO\"}}, \"yaxis\": {\"anchor\": \"x\", \"domain\": [0.0, 1.0], \"title\": {\"text\": \"Amount of recidivist crimes against public health\"}}},\n",
       "                        {\"responsive\": true}\n",
       "                    ).then(function(){\n",
       "                            \n",
       "var gd = document.getElementById('67e135d3-3250-4c5a-a5c4-2e6e1891ebfd');\n",
       "var x = new MutationObserver(function (mutations, observer) {{\n",
       "        var display = window.getComputedStyle(gd).display;\n",
       "        if (!display || display === 'none') {{\n",
       "            console.log([gd, 'removed!']);\n",
       "            Plotly.purge(gd);\n",
       "            observer.disconnect();\n",
       "        }}\n",
       "}});\n",
       "\n",
       "// Listen for the removal of the full notebook cells\n",
       "var notebookContainer = gd.closest('#notebook-container');\n",
       "if (notebookContainer) {{\n",
       "    x.observe(notebookContainer, {childList: true});\n",
       "}}\n",
       "\n",
       "// Listen for the clearing of the current output cell\n",
       "var outputEl = gd.closest('.output');\n",
       "if (outputEl) {{\n",
       "    x.observe(outputEl, {childList: true});\n",
       "}}\n",
       "\n",
       "                        })\n",
       "                };\n",
       "                });\n",
       "            </script>\n",
       "        </div>"
      ]
     },
     "metadata": {},
     "output_type": "display_data"
    }
   ],
   "source": [
    "fig = px.bar(female_crime, x='DELITO', y='COUNT',\n",
    "             hover_data=[\"GENERO\",'DELITO'], color='GENERO',\n",
    "             labels={'COUNT':'Amount of recidivist crimes against public health'}, barmode='relative', text=\"COUNT\")\n",
    "fig.update_traces(texttemplate='%{text:.2s}', textposition='outside')\n",
    "fig.update_layout(uniformtext_minsize=6, uniformtext_mode='hide', xaxis_tickangle=-45, showlegend=True, autosize=False,\n",
    "                 width=900, height=700, margin=dict(l=50, r=50, b=100, t=100, pad=4 ),\n",
    "                  title=\"Most commited crimes against public health per gender\",\n",
    "                 )\n",
    "fig.update_xaxes( tickfont=dict(family='Rockwell', color='black', size=8)) #tickangle=45,\n",
    "\n",
    "fig.show()"
   ]
  },
  {
   "cell_type": "code",
   "execution_count": 29,
   "metadata": {},
   "outputs": [
    {
     "data": {
      "text/plain": [
       "FABRICACION TRAFICO Y PORTE DE ARMAS DE FUEGO O MUNICIONES                                                                    16445\n",
       "CONCIERTO PARA DELINQUIR                                                                                                       8709\n",
       "FABRICACIÓN, TRÁFICO, PORTE O TENENCIA DE ARMAS DE FUEGO, ACCESORIOS, PARTES O MUNICIONES                                      2149\n",
       "FABRICACION  TRAFICO Y PORTE DE ARMAS Y MUNICIONES DE USO PRIVATIVO DE LAS FUERZAS ARMADAS                                     1748\n",
       "FABRICACIÓN, TRÁFICO Y PORTE DE ARMAS, MUNICIONES DE USO RESTRINGIDO, DE USO PRIVATIVO DE LAS FUERZAS ARMADAS O EXPLOSIVOS      360\n",
       "                                                                                                                              ...  \n",
       "EMPLEO, PRODUCCION, COMERCIALIZACION Y ALMACENAMIENTO DE MINAS ANTIPERSONAL                                                       2\n",
       "DAÑO EN OBRAS O ELEMENTOS DE LOS SERVICIOS DE COMUNICACIONES ENERGIA Y COMBUSTIBLES CULPOSO                                       2\n",
       "TENENCIA FABRICACION Y TRAFICO DE SUSTANCIAS U OBJETOS PELIGROSOS                                                                 2\n",
       "FABRICACION IMPORTACION TRAFICO POSESION USO ARMAS QUIMICAS BIOLOGICAS Y NUCLEARES                                                1\n",
       "INSTIGACION AL TERRORISMO                                                                                                         1\n",
       "Name: DELITO, Length: 21, dtype: int64"
      ]
     },
     "execution_count": 29,
     "metadata": {},
     "output_type": "execute_result"
    }
   ],
   "source": [
    "df_mj[(df_mj[\"TITULO_DELITO\"]==\"CONTRA LA SALUD PUBLICA\") & (df_mj[\"GENERO\"]==\"MASCULINO\")][\"DELITO\"].value_counts()\n",
    "df_mj[(df_mj[\"TITULO_DELITO\"]==\"CONTRA LA VIDA Y LA INTEGRIDAD PERSONAL\") & (df_mj[\"GENERO\"]==\"MASCULINO\")][\"DELITO\"].value_counts()\n",
    "df_mj[(df_mj[\"TITULO_DELITO\"]==\"CONTRA LA SEGURIDAD PUBLICA\") & (df_mj[\"GENERO\"]==\"MASCULINO\")][\"DELITO\"].value_counts()\n",
    "\n",
    "# CONTRA LA VIDA\n",
    "# CONTRA LA LIBERTAD INDIVIDUAL - CONTRA EL PATRIMONIO\n",
    "# CONTRA LA SEGURIDAD PUBLICA\n",
    "# CONTRA LA SALUD PUBLICA"
   ]
  },
  {
   "cell_type": "code",
   "execution_count": 30,
   "metadata": {},
   "outputs": [
    {
     "data": {
      "text/plain": [
       "DELITO\n",
       "ABIGEATO                                                                      2\n",
       "ACCESO ABUSIVO A UN SISTEMA INFORMATICO                                       2\n",
       "ACCESO CARNAL ABUSIVO CON MENOR DE CATORCE AÑOS                             123\n",
       "ACCESO CARNAL O ACTO SEXUAL ABUSIVOS CON INCAPAZ DE RESISTIR                 11\n",
       "ACCESO CARNAL O ACTO SEXUAL EN PERSONA PUESTA EN INCAPACIDAD DE RESISTIR      4\n",
       "                                                                           ... \n",
       "USO DE MENORES DE EDAD PARA LA COMISION DE DELITOS                           14\n",
       "UTILIZACION ILEGAL DE UNIFORMES E INSIGNIAS                                   1\n",
       "VIOLACION DE DATOS PERSONALES                                                 9\n",
       "VIOLENCIA CONTRA SERVIDOR PUBLICO                                             1\n",
       "VIOLENCIA INTRAFAMILIAR                                                     434\n",
       "Name: INTERNOEN, Length: 85, dtype: int64"
      ]
     },
     "execution_count": 30,
     "metadata": {},
     "output_type": "execute_result"
    }
   ],
   "source": [
    "df_tent = df_mj[(df_mj.AGRAVADO == \"S\")] # & (df_mj.AGRAVADO == \"S\") & (df_mj.CALIFICADO == \"S\")\n",
    "df_tent.groupby([\"DELITO\"])[\"INTERNOEN\"].count()\n",
    "# df_tent = pd.DataFrame(df_tent)\n",
    "# df_tent.reset_index(inplace=True)\n",
    "# fig_dims = (15, 10)\n",
    "# fig, ax = plt.subplots(figsize=fig_dims)\n",
    "\n",
    "# sns.barplot(x=\"index\", y=\"DELITO\", data=df_tent, ax=ax, hue)\n",
    "# ax.set_xticklabels(ax.get_xticklabels(),rotation=30, horizontalalignment='right', fontsize = 12)\n",
    "\n",
    "# ax.set_title('Crimes against public health committed by women', fontsize=20, fontweight='bold', pad=15)"
   ]
  },
  {
   "cell_type": "code",
   "execution_count": 31,
   "metadata": {},
   "outputs": [
    {
     "data": {
      "text/plain": [
       "array(['HOMICIDIO', 'HURTO', 'CONCIERTO PARA DELINQUIR',\n",
       "       'TRAFICO FABRICACION O PORTE DE ESTUPEFACIENTES',\n",
       "       'LESIONES PERSONALES', 'EXTORSION', 'FEMINICIDIO',\n",
       "       'SECUESTRO SIMPLE', 'HURTO POR MEDIOS INFORMATICOS SEMEJANTES',\n",
       "       'FABRICACION TRAFICO Y PORTE DE ARMAS DE FUEGO O MUNICIONES',\n",
       "       'ESTAFA', 'ACCESO CARNAL ABUSIVO CON MENOR DE CATORCE AÑOS',\n",
       "       'ACTOS SEXUALES CON MENOR DE CATORCE AÑOS', 'REBELION',\n",
       "       'DAÑOS EN LOS RECURSOS NATURALES', 'DESPLAZAMIENTO FORZADO',\n",
       "       'ACTO SEXUAL VIOLENTO', 'SECUESTRO EXTORSIVO',\n",
       "       'VIOLENCIA INTRAFAMILIAR',\n",
       "       'FALSEDAD MATERIAL EN DOCUMENTO PUBLICO', 'RECEPTACION',\n",
       "       'LESIONES CULPOSAS', 'ACCESO CARNAL VIOLENTO',\n",
       "       'HOMICIDIO PRETERINTENCIONAL',\n",
       "       'FABRICACIÓN, POSESIÓN Y TRÁFICO ILEGAL DE ARMAS DE FUEGO, MUNICIONES Y EXPLOSIVOS.',\n",
       "       'USO DE MENORES DE EDAD PARA LA COMISION DE DELITOS',\n",
       "       'FABRICACIÓN, TRÁFICO, PORTE O TENENCIA DE ARMAS DE FUEGO, ACCESORIOS, PARTES O MUNICIONES',\n",
       "       'VIOLACION DE DATOS PERSONALES',\n",
       "       'FALSEDAD MATERIAL DE SERVIDOR PUBLICO EN DOCUMENTO PUBLICO',\n",
       "       'CONSTREÑIMIENTO ILEGAL',\n",
       "       'FABRICACIÓN, TRÁFICO Y PORTE DE ARMAS, MUNICIONES DE USO RESTRINGIDO, DE USO PRIVATIVO DE LAS FUERZAS ARMADAS O EXPLOSIVOS',\n",
       "       'TERRORISMO', 'PECULADO POR APROPIACION', 'ASONADA',\n",
       "       'LAVADO DE ACTIVOS', 'DESTINACION ILICITA DE MUEBLES O INMUEBLES',\n",
       "       'FABRICACION  TRAFICO Y PORTE DE ARMAS Y MUNICIONES DE USO PRIVATIVO DE LAS FUERZAS ARMADAS',\n",
       "       'ACOSO SEXUAL', 'FALSEDAD EN DOCUMENTO PRIVADO',\n",
       "       'PREVARICATO POR OMISION',\n",
       "       'FALSEDAD IDEOLOGICA EN DOCUMENTO PUBLICO',\n",
       "       'CONSTREÑIMIENTO AL SUFRAGANTE O AL ELECTOR',\n",
       "       'DESAPARICION FORZADA', 'EMISION Y TRANSFERENCIA ILEGAL DE CHEQUE',\n",
       "       'FALSEDAD MATERIAL DE PARTICULAR EN DOCUMENTO PUBLICO',\n",
       "       'HOMICIDIO CULPOSO', 'TORTURA',\n",
       "       'OBTENCION DE DOCUMENTO PUBLICO FALSO',\n",
       "       'HURTO DE HIDROCARBUROS O SUS DERIVADOS', 'FALSEDAD MARCARIA',\n",
       "       'ACCESO ABUSIVO A UN SISTEMA INFORMATICO',\n",
       "       'USO DE DOCUMENTO FALSO', 'TRATA DE PERSONAS',\n",
       "       'ACTOS SEXUALES VIOLENTOS EN PERSONA PROTEGIDA',\n",
       "       'ACCESO CARNAL O ACTO SEXUAL ABUSIVOS CON INCAPAZ DE RESISTIR',\n",
       "       'INDUCCION A LA PROSTITUCION',\n",
       "       'UTILIZACION ILEGAL DE UNIFORMES E INSIGNIAS',\n",
       "       'PROXENITISMO CON MENOR DE EDAD', 'FRAUDE PROCESAL',\n",
       "       'ENTRENAMIENTO PARA ACTIVIDADES ILICITAS', 'INCENDIO',\n",
       "       'VIOLENCIA CONTRA SERVIDOR PUBLICO', 'DAÑO INFORMATICO',\n",
       "       'DAÑO EN BIEN AJENO', 'PORTE DE SUSTANCIAS', 'ABIGEATO',\n",
       "       'CONSTREÑIMIENTO PARA DELINQUIR',\n",
       "       'INTERCEPTACION DE DATOS INFORMATICOS',\n",
       "       'INVASION DE TIERRAS O EDIFICACIONES',\n",
       "       'DEMANDA DE EXPLOTACION SEXUAL COMERCIAL DE PERSONA MENOR DE 18 AÑOS DE EDAD',\n",
       "       'FAVORECIMIENTO', 'HOMICIDIO EN PERSONA PROTEGIDA',\n",
       "       'LESIONES PERSONALES CAUSANDO DEFORMIDAD', 'URBANIZACION ILEGAL',\n",
       "       'ACCESO CARNAL O ACTO SEXUAL EN PERSONA PUESTA EN INCAPACIDAD DE RESISTIR',\n",
       "       'INVASION DE AREAS DE ESPECIAL IMPORTANCIA ECOLOGICA',\n",
       "       'CONTAMINACION AMBIENTAL',\n",
       "       'FABRICACION IMPORTACION TRAFICO POSESION USO ARMAS QUIMICAS BIOLOGICAS Y NUCLEARES',\n",
       "       'COHECHO POR DAR U OFRECER',\n",
       "       'ESTIMULO A LA PROSTITUCION DE MENORES',\n",
       "       'APODERAMIENTO DE HIDROCARBUROS, SUS DERIVADOS, BIOCOMBUSTIBLES O MEZCLAS QUE LOS CONTENGAN',\n",
       "       'TRANSFERENCIA NO CONSENTIDA DE ACTIVOS', 'SUMINISTRO A MENOR',\n",
       "       'DAÑO EN OBRAS O ELEMENTOS DE LOS SERVICIOS DE COMUNICACIONES ENERGIA Y COMBUSTIBLES',\n",
       "       'DEL TRAFICO DE MIGRANTES'], dtype=object)"
      ]
     },
     "execution_count": 31,
     "metadata": {},
     "output_type": "execute_result"
    }
   ],
   "source": [
    "df_mj[df_mj.AGRAVADO == \"S\"].DELITO.unique()"
   ]
  },
  {
   "cell_type": "code",
   "execution_count": 32,
   "metadata": {},
   "outputs": [
    {
     "data": {
      "text/plain": [
       "array(['HURTO', 'ABUSO DE CONFIANZA',\n",
       "       'HURTO POR MEDIOS INFORMATICOS SEMEJANTES',\n",
       "       'FABRICACION TRAFICO Y PORTE DE ARMAS DE FUEGO O MUNICIONES',\n",
       "       'TRAFICO FABRICACION O PORTE DE ESTUPEFACIENTES',\n",
       "       'CONSTREÑIMIENTO ILEGAL', 'CONCIERTO PARA DELINQUIR', 'HOMICIDIO',\n",
       "       'EXTORSION', 'ACTOS SEXUALES CON MENOR DE CATORCE AÑOS',\n",
       "       'LESIONES PERSONALES', 'HURTO DE HIDROCARBUROS O SUS DERIVADOS',\n",
       "       'VIOLENCIA INTRAFAMILIAR', 'SECUESTRO EXTORSIVO',\n",
       "       'SECUESTRO SIMPLE',\n",
       "       'FABRICACIÓN, TRÁFICO, PORTE O TENENCIA DE ARMAS DE FUEGO, ACCESORIOS, PARTES O MUNICIONES',\n",
       "       'VIOLENCIA CONTRA SERVIDOR PUBLICO',\n",
       "       'USO DE MENORES DE EDAD PARA LA COMISION DE DELITOS',\n",
       "       'FABRICACION  TRAFICO Y PORTE DE ARMAS Y MUNICIONES DE USO PRIVATIVO DE LAS FUERZAS ARMADAS',\n",
       "       'FALSEDAD MATERIAL DE PARTICULAR EN DOCUMENTO PUBLICO',\n",
       "       'ACTO SEXUAL VIOLENTO', 'ACCESO CARNAL VIOLENTO'], dtype=object)"
      ]
     },
     "execution_count": 32,
     "metadata": {},
     "output_type": "execute_result"
    }
   ],
   "source": [
    "df_mj[df_mj.CALIFICADO == \"S\"].DELITO.unique()"
   ]
  },
  {
   "cell_type": "code",
   "execution_count": null,
   "metadata": {},
   "outputs": [],
   "source": []
  }
 ],
 "metadata": {
  "colab": {
   "collapsed_sections": [],
   "name": "project_notebook_minjusticia.ipynb",
   "provenance": []
  },
  "kernelspec": {
   "display_name": "Python 3",
   "language": "python",
   "name": "python3"
  },
  "language_info": {
   "codemirror_mode": {
    "name": "ipython",
    "version": 3
   },
   "file_extension": ".py",
   "mimetype": "text/x-python",
   "name": "python",
   "nbconvert_exporter": "python",
   "pygments_lexer": "ipython3",
   "version": "3.8.3"
  }
 },
 "nbformat": 4,
 "nbformat_minor": 1
}
