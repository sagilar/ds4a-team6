{
 "cells": [
  {
   "cell_type": "code",
   "execution_count": 11,
   "metadata": {
    "tags": []
   },
   "outputs": [
    {
     "output_type": "stream",
     "name": "stdout",
     "text": "Collecting pyodbc\n  Using cached pyodbc-4.0.30-cp38-cp38-win32.whl (58 kB)\nInstalling collected packages: pyodbc\nSuccessfully installed pyodbc-4.0.30\n"
    }
   ],
   "source": [
    "!pip3 install pyodbc"
   ]
  },
  {
   "cell_type": "code",
   "execution_count": 22,
   "metadata": {},
   "outputs": [],
   "source": [
    "import pandas as pd\n",
    "import pyodbc \n",
    "from sqlalchemy import create_engine\n",
    "\n",
    "server = 'whiskas.database.windows.net' \n",
    "database = 'dbminjusticia' \n",
    "username = 'whiskasadmin' \n",
    "password = 'Ds4All2020*' \n",
    "sql_conn = pyodbc.connect('DRIVER={ODBC Driver 17 for SQL Server};SERVER='+server+';DATABASE='+database+';UID='+username+';PWD='+ password)\n",
    "\n",
    "def runQuery(sql):\n",
    "    _df = pd.read_sql(sql, sql_conn)\n",
    "    return _df\n"
   ]
  },
  {
   "cell_type": "code",
   "execution_count": 23,
   "metadata": {},
   "outputs": [
    {
     "output_type": "execute_result",
     "data": {
      "text/plain": "                                                Name  Reincidencias\n0                                              HURTO      10.880779\n1     TRAFICO FABRICACION O PORTE DE ESTUPEFACIENTES      10.082596\n2  FABRICACION TRAFICO Y PORTE DE ARMAS DE FUEGO ...       9.730086\n3                           CONCIERTO PARA DELINQUIR       9.196647\n4                                          HOMICIDIO       9.093469\n5                                          EXTORSION       7.948738\n6  FABRICACIÓN, TRÁFICO, PORTE O TENENCIA DE ARMA...       7.709308\n7                            VIOLENCIA INTRAFAMILIAR       7.682022\n8                                LESIONES PERSONALES       7.652071\n9  FABRICACION  TRAFICO Y PORTE DE ARMAS Y MUNICI...       7.494430",
      "text/html": "<div>\n<style scoped>\n    .dataframe tbody tr th:only-of-type {\n        vertical-align: middle;\n    }\n\n    .dataframe tbody tr th {\n        vertical-align: top;\n    }\n\n    .dataframe thead th {\n        text-align: right;\n    }\n</style>\n<table border=\"1\" class=\"dataframe\">\n  <thead>\n    <tr style=\"text-align: right;\">\n      <th></th>\n      <th>Name</th>\n      <th>Reincidencias</th>\n    </tr>\n  </thead>\n  <tbody>\n    <tr>\n      <th>0</th>\n      <td>HURTO</td>\n      <td>10.880779</td>\n    </tr>\n    <tr>\n      <th>1</th>\n      <td>TRAFICO FABRICACION O PORTE DE ESTUPEFACIENTES</td>\n      <td>10.082596</td>\n    </tr>\n    <tr>\n      <th>2</th>\n      <td>FABRICACION TRAFICO Y PORTE DE ARMAS DE FUEGO ...</td>\n      <td>9.730086</td>\n    </tr>\n    <tr>\n      <th>3</th>\n      <td>CONCIERTO PARA DELINQUIR</td>\n      <td>9.196647</td>\n    </tr>\n    <tr>\n      <th>4</th>\n      <td>HOMICIDIO</td>\n      <td>9.093469</td>\n    </tr>\n    <tr>\n      <th>5</th>\n      <td>EXTORSION</td>\n      <td>7.948738</td>\n    </tr>\n    <tr>\n      <th>6</th>\n      <td>FABRICACIÓN, TRÁFICO, PORTE O TENENCIA DE ARMA...</td>\n      <td>7.709308</td>\n    </tr>\n    <tr>\n      <th>7</th>\n      <td>VIOLENCIA INTRAFAMILIAR</td>\n      <td>7.682022</td>\n    </tr>\n    <tr>\n      <th>8</th>\n      <td>LESIONES PERSONALES</td>\n      <td>7.652071</td>\n    </tr>\n    <tr>\n      <th>9</th>\n      <td>FABRICACION  TRAFICO Y PORTE DE ARMAS Y MUNICI...</td>\n      <td>7.494430</td>\n    </tr>\n  </tbody>\n</table>\n</div>"
     },
     "metadata": {},
     "execution_count": 23
    }
   ],
   "source": [
    "runQuery(\"\"\"SELECT TOP 10 c.Name, LOG(COUNT(r.ReclusionId)) AS Reincidencias\n",
    "FROM dbo.Person p\n",
    "\tJOIN reclusion r ON r.PersonId = p.PersonId\n",
    "\tJOIN dbo.Crime c ON c.CrimeId = r.CrimeId\n",
    "GROUP BY c.Name\n",
    "ORDER BY Reincidencias DESC\n",
    "SELECT TOP 10 c.Name, LOG(COUNT(r.ReclusionId)) AS Reincidencias\n",
    "FROM dbo.Person p\n",
    "\tJOIN reclusion r ON r.PersonId = p.PersonId\n",
    "\tJOIN dbo.Crime c ON c.CrimeId = r.CrimeId\n",
    "GROUP BY c.Name\n",
    "ORDER BY Reincidencias DESC\n",
    "\"\"\")"
   ]
  },
  {
   "cell_type": "code",
   "execution_count": null,
   "metadata": {},
   "outputs": [],
   "source": []
  }
 ],
 "metadata": {
  "language_info": {
   "codemirror_mode": {
    "name": "ipython",
    "version": 3
   },
   "file_extension": ".py",
   "mimetype": "text/x-python",
   "name": "python",
   "nbconvert_exporter": "python",
   "pygments_lexer": "ipython3",
   "version": 3
  },
  "orig_nbformat": 2,
  "kernelspec": {
   "name": "python_defaultSpec_1594505310641",
   "display_name": "Python 3.8.3 32-bit"
  }
 },
 "nbformat": 4,
 "nbformat_minor": 2
}