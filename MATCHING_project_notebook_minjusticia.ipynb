{
 "cells": [
  {
   "cell_type": "markdown",
   "metadata": {
    "colab_type": "text",
    "id": "tGVbJSaaXWk6"
   },
   "source": [
    "# Team 6 Project: MINJUSTICIA"
   ]
  },
  {
   "cell_type": "code",
   "execution_count": 1,
   "metadata": {
    "colab": {},
    "colab_type": "code",
    "id": "-Tgl_xzzXWlQ"
   },
   "outputs": [
    {
     "name": "stderr",
     "output_type": "stream",
     "text": [
      "C:\\Users\\david\\AppData\\Local\\Continuum\\anaconda3\\lib\\site-packages\\statsmodels\\tools\\_testing.py:19: FutureWarning: pandas.util.testing is deprecated. Use the functions in the public API at pandas.testing instead.\n",
      "  import pandas.util.testing as tm\n"
     ]
    },
    {
     "data": {
      "text/html": [
       "        <script type=\"text/javascript\">\n",
       "        window.PlotlyConfig = {MathJaxConfig: 'local'};\n",
       "        if (window.MathJax) {MathJax.Hub.Config({SVG: {font: \"STIX-Web\"}});}\n",
       "        if (typeof require !== 'undefined') {\n",
       "        require.undef(\"plotly\");\n",
       "        requirejs.config({\n",
       "            paths: {\n",
       "                'plotly': ['https://cdn.plot.ly/plotly-latest.min']\n",
       "            }\n",
       "        });\n",
       "        require(['plotly'], function(Plotly) {\n",
       "            window._Plotly = Plotly;\n",
       "        });\n",
       "        }\n",
       "        </script>\n",
       "        "
      ]
     },
     "metadata": {},
     "output_type": "display_data"
    }
   ],
   "source": [
    "import pandas as pd\n",
    "import numpy as np\n",
    "from datetime import datetime, timedelta\n",
    "from lifelines import KaplanMeierFitter, CoxPHFitter\n",
    "from lifelines.statistics import logrank_test\n",
    "import seaborn as sns\n",
    "from scipy import stats\n",
    "pd.options.display.max_columns = 50\n",
    "import matplotlib.pyplot as plt\n",
    "import plotly.graph_objects as go\n",
    "from plotly.offline import init_notebook_mode, iplot\n",
    "from plotly.graph_objs import *\n",
    "init_notebook_mode(connected=True) \n",
    "import plotly.express as px\n",
    "\n",
    "import scipy.stats as stats\n",
    "from sklearn.metrics import roc_auc_score\n",
    "from sklearn.linear_model import LogisticRegression\n",
    "\n",
    "%matplotlib inline\n",
    "\n",
    "path = \"C:/Users/david/Desktop/ds4a-team6/retomintic/Data_UpdateJune13/reincidencia11junio2020_clean.csv\"\n",
    "df_mj = pd.read_csv(path, sep=\",\",encoding=\"utf-8\")"
   ]
  },
  {
   "cell_type": "markdown",
   "metadata": {
    "colab_type": "text",
    "id": "80ZORxEqXWlu"
   },
   "source": [
    "# Processing"
   ]
  },
  {
   "cell_type": "markdown",
   "metadata": {},
   "source": [
    "## 1. Data cleaning and tentative transformations"
   ]
  },
  {
   "cell_type": "code",
   "execution_count": 2,
   "metadata": {
    "colab": {
     "base_uri": "https://localhost:8080/",
     "height": 337
    },
    "colab_type": "code",
    "id": "nlX1b7XMfH3Z",
    "outputId": "209026fa-a687-491e-a884-c529c55bed46"
   },
   "outputs": [],
   "source": [
    "#Date variables are parsed to datetime\n",
    "df_mj[\"FECHA_CAPTURA\"] = pd.to_datetime(df_mj[\"FECHA_CAPTURA\"])\n",
    "df_mj[\"FECHA_INGRESO\"] = pd.to_datetime(df_mj[\"FECHA_INGRESO\"])\n",
    "df_mj[\"FECHA_SALIDA\"] = pd.to_datetime(df_mj[\"FECHA_SALIDA\"])\n",
    "#Month and year variables are defined\n",
    "df_mj[\"MES_INGRESO_INT\"]=df_mj[\"FECHA_INGRESO\"].dt.strftime('%m')\n",
    "df_mj[\"ANO_INGRESO_INT\"]=df_mj[\"FECHA_INGRESO\"].dt.strftime('%y')\n",
    "#Calculations on how much time have the criminal being outside since its last stay in jail\n",
    "for column in ['FECHA_INGRESO', 'FECHA_SALIDA', 'FECHA_CAPTURA']:\n",
    "    df_mj = df_mj.sort_values(['INTERNOEN', column], ascending = False)\n",
    "    \n",
    "    df_mj['DIAS' + column[5:]] = -1*(df_mj[column].diff()/timedelta(days = 1))\n",
    "\n",
    "    df_mj.loc[(df_mj.INTERNOEN != df_mj.INTERNOEN.shift(1)) | (df_mj['DIAS' + column[5:]] == 0), \n",
    "              ['DIAS' + column[5:]]] = (datetime.today() - df_mj[column])/timedelta(days = 1)\n",
    "    \n",
    "#It seems that sometimes entering and gettint out is switched, that's why we computed in absolute values\n",
    "df_mj['DIAS_CONDENA'] = abs(df_mj['FECHA_SALIDA'] - df_mj['FECHA_INGRESO'])/timedelta(days = 1)\n",
    "df_mj['DIAS_JUDICIALIZACION'] = df_mj['FECHA_INGRESO'] - df_mj['FECHA_CAPTURA']\n",
    "df_mj['DIAS_LIBRE'] = df_mj['DIAS_INGRESO'] - df_mj['DIAS_CONDENA']\n",
    "#The individual finishes its sentence but she's incarcelated inmediately for another crime\n",
    "df_mj.loc[df_mj.DIAS_CAPTURA < 0, 'DIAS_CAPTURA'] = 0\n",
    "df_mj.loc[df_mj.DIAS_INGRESO < 0, 'DIAS_INGRESO'] = 0\n",
    "df_mj.loc[df_mj.DIAS_LIBRE < 0, 'DIAS_LIBRE'] = 0\n",
    "#The individual is still on jail\n",
    "df_mj.loc[df_mj['DIAS_LIBRE'].isnull(), 'DIAS_LIBRE'] = 0\n",
    "\n",
    "#Find the last date the criminal went out the jail, so that these observations are marked as censored\n",
    "last_df = df_mj[['INTERNOEN', 'FECHA_INGRESO']].groupby('INTERNOEN').apply(lambda x: x.sort_values('FECHA_INGRESO', ascending = False).head(1)).reset_index(drop = True)\n",
    "#Censored\n",
    "last_df['CENSURADO_LIBRES'] = 0\n",
    "df_mj = df_mj.merge(last_df, on = ['INTERNOEN', 'FECHA_INGRESO'], how = 'left')\n",
    "#Event\n",
    "df_mj.loc[df_mj['CENSURADO_LIBRES'].isnull(), 'CENSURADO_LIBRES'] = 1\n",
    "#All criminals that haven't got out of jail yet have zero days out and they are not censored.\n",
    "df_mj.loc[df_mj['FECHA_SALIDA'].isnull(), 'CENSURADO_LIBRES'] = 1\n",
    "#Turned censored variables to integers instead of float\n",
    "df_mj['CENSURADO_LIBRES'] = df_mj['CENSURADO_LIBRES'].astype('int64')\n",
    "\n",
    "#We create a variable to count the amount of times the individual re-entered in jail\n",
    "df_mj = df_mj.merge(df_mj.drop_duplicates(['INTERNOEN', 'FECHA_INGRESO']).groupby(['INTERNOEN']).size().reset_index(name = 'NUMERO_REINCIDENCIAS'), on = 'INTERNOEN', how = 'left')\n",
    "\n",
    "#We dropped SITUACION_JURIDICA and REINCIDENTE as both columns are constants\n",
    "df_mj = df_mj.drop(columns = ['SITUACION_JURIDICA', 'REINCIDENTE'])"
   ]
  },
  {
   "cell_type": "markdown",
   "metadata": {},
   "source": [
    "### Análisis de supervivencia y matching"
   ]
  },
  {
   "cell_type": "markdown",
   "metadata": {},
   "source": [
    "#### Estudio"
   ]
  },
  {
   "cell_type": "code",
   "execution_count": 37,
   "metadata": {},
   "outputs": [],
   "source": [
    "index_out = round((datetime.today() - df_mj['FECHA_SALIDA'])/timedelta(days = 1)) != round(df_mj['DIAS_LIBRE'])                                                                                           "
   ]
  },
  {
   "cell_type": "code",
   "execution_count": 42,
   "metadata": {},
   "outputs": [],
   "source": [
    "df = df_mj[(index_out)&(df_mj['DIAS_LIBRE'] > 0)].copy()\n",
    "df['NIVEL_EDUCATIVO'] = df['NIVEL_EDUCATIVO'].map(\n",
    "            {'ANALFABETA': 0, 'CICLO I': 2, 'CICLO II': 5, 'CICLO III': 9,\n",
    "            'CICLO IV': 11, 'TECNICO': 13, 'TECNOLOGICO': 14, 'PROFESIONAL': 16,\n",
    "            'MAGISTER': 18, 'POST GRADO': 18})\n",
    "\n",
    "df_mj['EN_CARCEL'] = 0\n",
    "df_mj.loc[df_mj['ESTADO_INGRESO'].isin(['Espera Traslado', 'Intramuros']),'EN_CARCEL'] = 1\n",
    "\n",
    "df['ESTADO_INGRESO'] = df['ESTADO_INGRESO'].replace(\n",
    "            {'Prision Domiciliaria': 'Detencion Domiciliaria',\n",
    "             'Vigilancia Electronica': 'Intramuros',\n",
    "             'Control Electronico': 'Intramuros',\n",
    "             'Espera Traslado': 'Intramuros'\n",
    "            })\n",
    "\n",
    "treat_df = df.drop_duplicates('INTERNOEN')\n",
    "treat_df = treat_df.loc[treat_df['ACTIVIDADES_ESTUDIO'] == 'SI', ['DIAS_LIBRE', 'EDAD', 'ANO_INGRESO_INT', 'DIAS_CONDENA', 'CENSURADO_LIBRES', 'NUMERO_REINCIDENCIAS', 'NIVEL_EDUCATIVO']]\n",
    "\n",
    "untreat_df = df.drop_duplicates('INTERNOEN')\n",
    "untreat_df = untreat_df[(untreat_df['ACTIVIDADES_TRABAJO'] == 'NO') & (untreat_df['ACTIVIDADES_ESTUDIO'] == 'NO') & (untreat_df['ACTIVIDADES_ENSEÑANZA'] == 'NO')]\n",
    "untreat_df = untreat_df.loc[untreat_df['INTERNOEN'].isin(set(untreat_df['INTERNOEN']).difference(set(treat_df))), ['DIAS_LIBRE', 'EDAD', 'ANO_INGRESO_INT', 'DIAS_CONDENA', 'CENSURADO_LIBRES', 'NUMERO_REINCIDENCIAS', 'NIVEL_EDUCATIVO']]\n",
    "\n",
    "dummies_df = pd.get_dummies(df[['ESTADO', 'TENTATIVA', 'AGRAVADO', 'CALIFICADO', 'GENERO', \n",
    "                      'REGIONAL', 'ESTADO_INGRESO', 'HIJOS_MENORES', 'ESTADO_CIVIL']], drop_first = True)\n",
    "\n",
    "dummies_df.columns = [string.replace(' ', '_') for string in dummies_df.columns]\n",
    "dummies_df.columns = [string.replace('(', '_')  for string in dummies_df.columns]\n",
    "dummies_df.columns = [string.replace(')', '_')  for string in dummies_df.columns]\n",
    "dummies_df.columns = [string.replace('-', '_')  for string in dummies_df.columns]\n",
    "\n",
    "treat_df = treat_df.merge(dummies_df, right_index = True, left_index = True)\n",
    "untreat_df = untreat_df.merge(dummies_df, right_index = True, left_index = True)\n",
    "\n",
    "drops = list(set(treat_df.columns[np.where(treat_df.std() < 0.1)]).union(set(untreat_df.columns[np.where(untreat_df.std() == 0)])))\n",
    "\n",
    "treat_df.drop(columns = drops, inplace = True)\n",
    "untreat_df.drop(columns = drops, inplace = True)\n",
    "\n",
    "treat_df['treatment'] = 1\n",
    "untreat_df['treatment'] = 0\n",
    "\n",
    "df_final = pd.concat([treat_df, untreat_df], axis =0)\n",
    "df_final = df_final[~df_final['DIAS_CONDENA'].isnull()]"
   ]
  },
  {
   "cell_type": "code",
   "execution_count": 44,
   "metadata": {},
   "outputs": [],
   "source": [
    "treatment = df_final.iloc[:,-1]\n",
    "data = df_final.iloc[:, 1:-1]"
   ]
  },
  {
   "cell_type": "code",
   "execution_count": 45,
   "metadata": {
    "scrolled": true
   },
   "outputs": [
    {
     "name": "stdout",
     "output_type": "stream",
     "text": [
      "AUC is: 0.7727587833576698\n",
      "treatment count: (15585,)\n",
      "control count: (3210,)\n"
     ]
    }
   ],
   "source": [
    "logistic = LogisticRegression(solver = 'liblinear')\n",
    "logistic.fit(data, treatment)\n",
    "pscore = logistic.predict_proba(data)[:, 1]\n",
    "auc = roc_auc_score(treatment, pscore)\n",
    "print(f'AUC is: {auc}')\n",
    "mask = treatment == 1\n",
    "pos_pscore = pscore[mask]\n",
    "neg_pscore = pscore[~mask]\n",
    "print('treatment count:', pos_pscore.shape)\n",
    "print('control count:', neg_pscore.shape)"
   ]
  },
  {
   "cell_type": "code",
   "execution_count": 46,
   "metadata": {},
   "outputs": [
    {
     "data": {
      "image/png": "[encoded data removed]",
      "text/plain": [
       "<Figure size 576x432 with 1 Axes>"
      ]
     },
     "metadata": {
      "needs_background": "light"
     },
     "output_type": "display_data"
    }
   ],
   "source": [
    "# change default style figure and font size\n",
    "plt.rcParams['figure.figsize'] = 8, 6\n",
    "plt.rcParams['font.size'] = 12\n",
    "\n",
    "sns.distplot(neg_pscore, label='control')\n",
    "sns.distplot(pos_pscore, label='treatment')\n",
    "plt.xlim(0, 1)\n",
    "plt.title('Propensity Score Distribution of Control vs Treatment')\n",
    "plt.ylabel('Density')\n",
    "plt.xlabel('Scores')\n",
    "plt.legend()\n",
    "plt.tight_layout()\n",
    "plt.show()"
   ]
  },
  {
   "cell_type": "code",
   "execution_count": 47,
   "metadata": {},
   "outputs": [],
   "source": [
    "def get_similar(pos_pscore: np.ndarray, neg_pscore: np.ndarray, topn: int=5, n_jobs: int=1):\n",
    "    from sklearn.neighbors import NearestNeighbors\n",
    "\n",
    "    knn = NearestNeighbors(n_neighbors=topn + 1, metric='euclidean', n_jobs=n_jobs)\n",
    "    knn.fit(neg_pscore.reshape(-1, 1))\n",
    "\n",
    "    distances, indices = knn.kneighbors(pos_pscore.reshape(-1, 1))\n",
    "    sim_distances = distances[:, 1:]\n",
    "    sim_indices = indices[:, 1:]\n",
    "    return sim_distances, sim_indices\n",
    "\n",
    "\n",
    "sim_distances, sim_indices = get_similar(pos_pscore, neg_pscore, topn=1)"
   ]
  },
  {
   "cell_type": "code",
   "execution_count": 61,
   "metadata": {},
   "outputs": [],
   "source": [
    "caliper = 1\n",
    "df_pos = df_final[mask][sim_distances < caliper]\n",
    "df_neg = df_final[~mask].iloc[sim_indices[:, 0]][sim_distances < caliper]"
   ]
  },
  {
   "cell_type": "code",
   "execution_count": 62,
   "metadata": {
    "scrolled": true
   },
   "outputs": [
    {
     "data": {
      "text/plain": [
       "(15585, 21)"
      ]
     },
     "execution_count": 62,
     "metadata": {},
     "output_type": "execute_result"
    }
   ],
   "source": [
    "df_pos.shape"
   ]
  },
  {
   "cell_type": "code",
   "execution_count": 63,
   "metadata": {
    "scrolled": false
   },
   "outputs": [
    {
     "name": "stdout",
     "output_type": "stream",
     "text": [
      "Treatment is significant, its TTE is -30.577462135130077 with p-value 0.00022621582109411708\n",
      "EDAD is not balanced, its statistic is -4.734571440834069 with p-value 2.205248482988981e-06\n",
      "DIAS_CONDENA is not balanced, its statistic is -14.010923832623428 with p-value 1.8600150742201268e-44\n",
      "CENSURADO_LIBRES is not balanced, its statistic is 6.388386998322113 with p-value 1.7003338700033062e-10\n",
      "NUMERO_REINCIDENCIAS is not balanced, its statistic is 14.013908826856161 with p-value 1.7670522190569796e-44\n",
      "AGRAVADO_S is not balanced, its statistic is 8.484636894098518 with p-value 2.25836837131042e-17\n",
      "CALIFICADO_S is not balanced, its statistic is 11.85642305340674 with p-value 2.3401233431774163e-32\n",
      "GENERO_MASCULINO is not balanced, its statistic is 14.043753425656044 with p-value 1.167173868985496e-44\n",
      "REGIONAL_NORTE is not balanced, its statistic is -8.348954963394293 with p-value 7.174925419477259e-17\n",
      "REGIONAL_OCCIDENTE is not balanced, its statistic is -2.714312371742343 with p-value 0.006645006139007764\n",
      "REGIONAL_ORIENTE is not balanced, its statistic is 3.089055186327039 with p-value 0.002009710782292092\n",
      "ESTADO_INGRESO_Intramuros is not balanced, its statistic is 19.641711778015654 with p-value 2.238519002917402e-85\n",
      "ESTADO_CIVIL_SEPARADO_A_ is not balanced, its statistic is 4.336771173947809 with p-value 1.4516089377049879e-05\n",
      "ESTADO_CIVIL_SOLTERO_A_ is not balanced, its statistic is 6.572546415675813 with p-value 5.024857501543622e-11\n",
      "ESTADO_CIVIL_VIUDO_A_ is not balanced, its statistic is 2.838064277738904 with p-value 0.0045428584150037\n"
     ]
    }
   ],
   "source": [
    "for column in df_pos.columns:\n",
    "    if (df_pos[column].dtypes != 'object') & (column != 'treatment'):\n",
    "        statistic, pvalue = stats.ttest_ind(df_pos[column], df_neg[column], equal_var=False)\n",
    "        if pvalue < 0.05:\n",
    "            if column == 'DIAS_LIBRE':\n",
    "                y_1 = df_pos[column].mean()\n",
    "                y_2 = df_neg[column].mean()\n",
    "                print(f'Treatment is significant, its TTE is {y_2 - y_1} with p-value {pvalue}')\n",
    "            else:\n",
    "                print(f'{column} is not balanced, its statistic is {statistic} with p-value {pvalue}')\n",
    "        "
   ]
  },
  {
   "cell_type": "code",
   "execution_count": 64,
   "metadata": {},
   "outputs": [
    {
     "data": {
      "text/html": [
       "<div>\n",
       "<style scoped>\n",
       "    .dataframe tbody tr th:only-of-type {\n",
       "        vertical-align: middle;\n",
       "    }\n",
       "\n",
       "    .dataframe tbody tr th {\n",
       "        vertical-align: top;\n",
       "    }\n",
       "\n",
       "    .dataframe thead th {\n",
       "        text-align: right;\n",
       "    }\n",
       "</style>\n",
       "<table border=\"1\" class=\"dataframe\">\n",
       "  <tbody>\n",
       "    <tr>\n",
       "      <th>t_0</th>\n",
       "      <td>-1</td>\n",
       "    </tr>\n",
       "    <tr>\n",
       "      <th>null_distribution</th>\n",
       "      <td>chi squared</td>\n",
       "    </tr>\n",
       "    <tr>\n",
       "      <th>degrees_of_freedom</th>\n",
       "      <td>1</td>\n",
       "    </tr>\n",
       "    <tr>\n",
       "      <th>test_name</th>\n",
       "      <td>logrank_test</td>\n",
       "    </tr>\n",
       "  </tbody>\n",
       "</table>\n",
       "</div><table border=\"1\" class=\"dataframe\">\n",
       "  <thead>\n",
       "    <tr style=\"text-align: right;\">\n",
       "      <th></th>\n",
       "      <th>test_statistic</th>\n",
       "      <th>p</th>\n",
       "    </tr>\n",
       "  </thead>\n",
       "  <tbody>\n",
       "    <tr>\n",
       "      <th>0</th>\n",
       "      <td>0.42</td>\n",
       "      <td>0.52</td>\n",
       "    </tr>\n",
       "  </tbody>\n",
       "</table>"
      ],
      "text/plain": [
       "<IPython.core.display.HTML object>"
      ]
     },
     "metadata": {},
     "output_type": "display_data"
    }
   ],
   "source": [
    "results = logrank_test(df_pos['DIAS_LIBRE'], df_neg['DIAS_LIBRE'], \n",
    "                       event_observed_A=df_pos['CENSURADO_LIBRES'], \n",
    "                       event_observed_B=df_neg['CENSURADO_LIBRES'])\n",
    "results.print_summary()"
   ]
  },
  {
   "cell_type": "code",
   "execution_count": 140,
   "metadata": {},
   "outputs": [
    {
     "data": {
      "text/plain": [
       "count    43492.000000\n",
       "mean         1.719169\n",
       "std          3.843056\n",
       "min          0.030039\n",
       "25%          1.000000\n",
       "50%          1.000000\n",
       "75%          1.000000\n",
       "max        168.287041\n",
       "Name: wt, dtype: float64"
      ]
     },
     "execution_count": 140,
     "metadata": {},
     "output_type": "execute_result"
    }
   ],
   "source": [
    "import statsmodels.api as sm # import stastmodels\n",
    "import statsmodels.formula.api as smf # this allows us to use an explicit formulation\n",
    " \n",
    "\n",
    "# calculate propensity score weights for ATT (Austin, 2011)\n",
    "df_final['wt'] = np.where(df_final['treatment']==1, 1,pscore/(1-pscore))\n",
    "\n",
    "df_pos = df_final[df_final['treatment'].isin([1])]  \n",
    "df_neg = df_final[df_final['treatment'].isin([0])]"
   ]
  },
  {
   "cell_type": "code",
   "execution_count": null,
   "metadata": {},
   "outputs": [],
   "source": [
    "# descriptives for unmatched or unweighted data\n",
    "np.average(trt.black)\n",
    "np.average(ctrl.black)\n",
    "\n",
    "np.average(trt.re74)\n",
    "np.average(ctrl.re74)\n",
    "\n",
    "np.average(trt.age)\n",
    "np.average(ctrl.age)\n",
    "\n",
    "# descriptives with weighted data\n",
    "np.average(trt.black, weights =  trt.wt)\n",
    "np.average(ctrl.black, weights = ctrl.wt)\n",
    "\n",
    "np.average(trt.re74, weights =  trt.wt)\n",
    "np.average(ctrl.re74, weights = ctrl.wt)\n",
    "\n",
    "np.average(trt.age, weights =  trt.wt)\n",
    "np.average(ctrl.age, weights = ctrl.wt)\n",
    "\n",
    "#----------------------------------------\n",
    "# estimation of treatment effects\n",
    "#----------------------------------------\n",
    "\n",
    "### unweighted comparisons\n",
    "\n",
    "# regression using smf\n",
    "lmresults = smf.ols('re78 ~ treat', data=df).fit()\n",
    "\n",
    "# inspect results\n",
    "lmresults.summary()  # b_est = -635\n",
    "\n",
    "### weighted comparisons\n",
    "\n",
    "# weighted differences in outcome\n",
    "np.average(trt.re78, weights =  trt.wt)\n",
    "np.average(ctrl.re78, weights = ctrl.wt)\n",
    "\n",
    "# iptw regression\n",
    "iptwResults = smf.wls('re78 ~ treat', data=df, weights = df.wt).fit()\n",
    "iptwResults.summary() # b_est =  1214"
   ]
  },
  {
   "cell_type": "markdown",
   "metadata": {},
   "source": [
    "#### Trabajo"
   ]
  },
  {
   "cell_type": "code",
   "execution_count": 17,
   "metadata": {},
   "outputs": [],
   "source": [
    "df = df_mj.copy()\n",
    "df['NIVEL_EDUCATIVO'] = df['NIVEL_EDUCATIVO'].map(\n",
    "            {'ANALFABETA': 0, 'CICLO I': 2, 'CICLO II': 5, 'CICLO III': 9,\n",
    "            'CICLO IV': 11, 'TECNICO': 13, 'TECNOLOGICO': 13, 'PROFESIONAL': 16,\n",
    "            'MAGISTER': 18, 'POST GRADO': 18})\n",
    "\n",
    "df['ESTADO_INGRESO'] = df['ESTADO_INGRESO'].replace(\n",
    "            {'Prision Domiciliaria': 'Detencion Domiciliaria',\n",
    "             'Vigilancia Electronica': 'Intramuros',\n",
    "             'Control Electronico': 'Intramuros',\n",
    "             'Espera Traslado': 'Intramuros'\n",
    "            })\n",
    "\n",
    "treat_df = df.drop_duplicates('INTERNOEN')\n",
    "treat_df = treat_df.loc[treat_df['ACTIVIDADES_TRABAJO'] == 'SI', ['DIAS_LIBRE', 'EDAD', 'ANO_INGRESO_INT', 'DIAS_CONDENA', 'CENSURADO_LIBRES', 'NUMERO_REINCIDENCIAS', 'NIVEL_EDUCATIVO']]\n",
    "\n",
    "untreat_df = df.drop_duplicates('INTERNOEN')\n",
    "untreat_df = untreat_df[(untreat_df['ACTIVIDADES_TRABAJO'] == 'NO') & (untreat_df['ACTIVIDADES_ESTUDIO'] == 'NO') & (untreat_df['ACTIVIDADES_ENSEÑANZA'] == 'NO')]\n",
    "untreat_df = untreat_df.loc[untreat_df['INTERNOEN'].isin(set(untreat_df['INTERNOEN']).difference(set(treat_df))), ['DIAS_LIBRE', 'EDAD', 'ANO_INGRESO_INT', 'DIAS_CONDENA', 'CENSURADO_LIBRES', 'NUMERO_REINCIDENCIAS', 'NIVEL_EDUCATIVO']]\n",
    "\n",
    "dummies_df = pd.get_dummies(df[['ESTADO', 'TENTATIVA', 'AGRAVADO', 'CALIFICADO', 'GENERO', \n",
    "                      'REGIONAL', 'ESTADO_INGRESO', 'HIJOS_MENORES', 'ESTADO_CIVIL']], drop_first = True)\n",
    "\n",
    "dummies_df.columns = [string.replace(' ', '_') for string in dummies_df.columns]\n",
    "dummies_df.columns = [string.replace('(', '_')  for string in dummies_df.columns]\n",
    "dummies_df.columns = [string.replace(')', '_')  for string in dummies_df.columns]\n",
    "dummies_df.columns = [string.replace('-', '_')  for string in dummies_df.columns]\n",
    "\n",
    "treat_df = treat_df.merge(dummies_df, right_index = True, left_index = True)\n",
    "untreat_df = untreat_df.merge(dummies_df, right_index = True, left_index = True)\n",
    "\n",
    "drops = list(set(treat_df.columns[np.where(treat_df.std() < 0.1)]).union(set(untreat_df.columns[np.where(untreat_df.std() == 0)])))\n",
    "\n",
    "treat_df.drop(columns = drops, inplace = True)\n",
    "untreat_df.drop(columns = drops, inplace = True)\n",
    "\n",
    "treat_df['treatment'] = 1\n",
    "untreat_df['treatment'] = 0\n",
    "\n",
    "df_final = pd.concat([treat_df, untreat_df], axis =0)\n",
    "df_final = df_final[(~df_final['DIAS_CONDENA'].isnull()) & (~df_final['NIVEL_EDUCATIVO'].isnull())]"
   ]
  },
  {
   "cell_type": "code",
   "execution_count": 18,
   "metadata": {},
   "outputs": [],
   "source": [
    "treatment = df_final.iloc[:,-1]\n",
    "data = df_final.iloc[:, 1:-1]"
   ]
  },
  {
   "cell_type": "code",
   "execution_count": 123,
   "metadata": {
    "scrolled": false
   },
   "outputs": [
    {
     "name": "stdout",
     "output_type": "stream",
     "text": [
      "AUC is: 0.7719933178548362\n",
      "treatment count: (39075,)\n",
      "control count: (4417,)\n"
     ]
    }
   ],
   "source": [
    "logistic = LogisticRegression(solver = 'liblinear')\n",
    "logistic.fit(data, treatment)\n",
    "pscore = logistic.predict_proba(data)[:, 1]\n",
    "auc = roc_auc_score(treatment, pscore)\n",
    "print(f'AUC is: {auc}')\n",
    "mask = treatment == 1\n",
    "pos_pscore = pscore[mask]\n",
    "neg_pscore = pscore[~mask]\n",
    "print('treatment count:', pos_pscore.shape)\n",
    "print('control count:', neg_pscore.shape)"
   ]
  },
  {
   "cell_type": "code",
   "execution_count": 23,
   "metadata": {},
   "outputs": [
    {
     "data": {
      "image/png": "[encoded data removed]",
      "text/plain": [
       "<Figure size 576x432 with 1 Axes>"
      ]
     },
     "metadata": {
      "needs_background": "light"
     },
     "output_type": "display_data"
    }
   ],
   "source": [
    "# change default style figure and font size\n",
    "plt.rcParams['figure.figsize'] = 8, 6\n",
    "plt.rcParams['font.size'] = 12\n",
    "\n",
    "sns.distplot(neg_pscore, label='control')\n",
    "sns.distplot(pos_pscore, label='treatment')\n",
    "plt.xlim(0, 1)\n",
    "plt.title('Propensity Score Distribution of Control vs Treatment')\n",
    "plt.ylabel('Density')\n",
    "plt.xlabel('Scores')\n",
    "plt.legend()\n",
    "plt.tight_layout()\n",
    "plt.show()"
   ]
  },
  {
   "cell_type": "code",
   "execution_count": 24,
   "metadata": {},
   "outputs": [
    {
     "data": {
      "text/plain": [
       "array([[10352],\n",
       "       [13035],\n",
       "       [20665],\n",
       "       ...,\n",
       "       [29843],\n",
       "       [21203],\n",
       "       [20533]], dtype=int64)"
      ]
     },
     "execution_count": 24,
     "metadata": {},
     "output_type": "execute_result"
    }
   ],
   "source": [
    "def get_similar(pos_pscore: np.ndarray, neg_pscore: np.ndarray, topn: int=5, n_jobs: int=1):\n",
    "    from sklearn.neighbors import NearestNeighbors\n",
    "\n",
    "    knn = NearestNeighbors(n_neighbors=topn + 1, metric='euclidean', n_jobs=n_jobs)\n",
    "    knn.fit(neg_pscore.reshape(-1, 1))\n",
    "\n",
    "    distances, indices = knn.kneighbors(pos_pscore.reshape(-1, 1))\n",
    "    sim_distances = distances[:, 1:]\n",
    "    sim_indices = indices[:, 1:]\n",
    "    return sim_distances, sim_indices\n",
    "\n",
    "\n",
    "sim_distances, sim_indices = get_similar(pos_pscore, neg_pscore, topn=1)\n",
    "sim_indices"
   ]
  },
  {
   "cell_type": "code",
   "execution_count": 25,
   "metadata": {},
   "outputs": [],
   "source": [
    "caliper = 1\n",
    "df_pos = df_final[mask][sim_distances < caliper]\n",
    "df_neg = df_final[~mask].iloc[sim_indices[:, 0]][sim_distances < caliper]"
   ]
  },
  {
   "cell_type": "code",
   "execution_count": 26,
   "metadata": {
    "scrolled": true
   },
   "outputs": [
    {
     "data": {
      "text/plain": [
       "(4417, 22)"
      ]
     },
     "execution_count": 26,
     "metadata": {},
     "output_type": "execute_result"
    }
   ],
   "source": [
    "df_pos.shape"
   ]
  },
  {
   "cell_type": "code",
   "execution_count": 27,
   "metadata": {
    "scrolled": false
   },
   "outputs": [
    {
     "name": "stdout",
     "output_type": "stream",
     "text": [
      "CALIFICADO_S is not balanced, its statistic is 2.27229658390399 with p-value 0.023092547443017857\n"
     ]
    }
   ],
   "source": [
    "for column in df_pos.columns:\n",
    "    if (df_pos[column].dtypes != 'object') & (column != 'treatment'):\n",
    "        statistic, pvalue = stats.ttest_ind(df_pos[column], df_neg[column], equal_var=False)\n",
    "        if pvalue < 0.05:\n",
    "            if column == 'DIAS_LIBRE':\n",
    "                y_1 = df_pos[column].mean()\n",
    "                y_2 = df_neg[column].mean()\n",
    "                print(f'Treatment is significant, its TTE is {y_2 - y_1} with p-value {pvalue}')\n",
    "            else:\n",
    "                print(f'{column} is not balanced, its statistic is {statistic} with p-value {pvalue}')\n",
    "        "
   ]
  },
  {
   "cell_type": "code",
   "execution_count": 28,
   "metadata": {},
   "outputs": [
    {
     "data": {
      "text/html": [
       "<div>\n",
       "<style scoped>\n",
       "    .dataframe tbody tr th:only-of-type {\n",
       "        vertical-align: middle;\n",
       "    }\n",
       "\n",
       "    .dataframe tbody tr th {\n",
       "        vertical-align: top;\n",
       "    }\n",
       "\n",
       "    .dataframe thead th {\n",
       "        text-align: right;\n",
       "    }\n",
       "</style>\n",
       "<table border=\"1\" class=\"dataframe\">\n",
       "  <tbody>\n",
       "    <tr>\n",
       "      <th>t_0</th>\n",
       "      <td>-1</td>\n",
       "    </tr>\n",
       "    <tr>\n",
       "      <th>null_distribution</th>\n",
       "      <td>chi squared</td>\n",
       "    </tr>\n",
       "    <tr>\n",
       "      <th>degrees_of_freedom</th>\n",
       "      <td>1</td>\n",
       "    </tr>\n",
       "    <tr>\n",
       "      <th>test_name</th>\n",
       "      <td>logrank_test</td>\n",
       "    </tr>\n",
       "  </tbody>\n",
       "</table>\n",
       "</div><table border=\"1\" class=\"dataframe\">\n",
       "  <thead>\n",
       "    <tr style=\"text-align: right;\">\n",
       "      <th></th>\n",
       "      <th>test_statistic</th>\n",
       "      <th>p</th>\n",
       "    </tr>\n",
       "  </thead>\n",
       "  <tbody>\n",
       "    <tr>\n",
       "      <th>0</th>\n",
       "      <td>1.87</td>\n",
       "      <td>0.17</td>\n",
       "    </tr>\n",
       "  </tbody>\n",
       "</table>"
      ],
      "text/plain": [
       "<IPython.core.display.HTML object>"
      ]
     },
     "metadata": {},
     "output_type": "display_data"
    }
   ],
   "source": [
    "results = logrank_test(df_pos['DIAS_LIBRE'], df_neg['DIAS_LIBRE'], \n",
    "                       event_observed_A=df_pos['CENSURADO_LIBRES'], \n",
    "                       event_observed_B=df_neg['CENSURADO_LIBRES'])\n",
    "results.print_summary()"
   ]
  },
  {
   "cell_type": "raw",
   "metadata": {},
   "source": [
    "df_pos_top5 = df_final[mask]['DIAS_LIBRE']\n",
    "df_neg_top5 = pd.DataFrame(map(lambda i: df_final[~mask].iloc[sim_indices[i, :]]['DIAS_LIBRE'].mean(), np.arange(sim_indices.shape[0])))\n",
    "\n",
    "stats.ttest_ind(df_pos_top5, df_neg_top5, equal_var=False)"
   ]
  },
  {
   "cell_type": "markdown",
   "metadata": {},
   "source": [
    "#### Enseñanza"
   ]
  },
  {
   "cell_type": "code",
   "execution_count": 150,
   "metadata": {},
   "outputs": [],
   "source": [
    "df = df_mj.copy()\n",
    "df['NIVEL_EDUCATIVO'] = df['NIVEL_EDUCATIVO'].map(\n",
    "            {'ANALFABETA': 0, 'CICLO I': 2, 'CICLO II': 5, 'CICLO III': 9,\n",
    "            'CICLO IV': 11, 'TECNICO': 13, 'TECNOLOGICO': 13, 'PROFESIONAL': 16,\n",
    "            'MAGISTER': 18, 'POST GRADO': 18})\n",
    "\n",
    "df['ESTADO_INGRESO'] = df['ESTADO_INGRESO'].replace(\n",
    "            {'Prision Domiciliaria': 'Detencion Domiciliaria',\n",
    "             'Vigilancia Electronica': 'Intramuros',\n",
    "             'Control Electronico': 'Intramuros',\n",
    "             'Espera Traslado': 'Intramuros'\n",
    "            })\n",
    "\n",
    "treat_df = df.drop_duplicates('INTERNOEN')\n",
    "treat_df = treat_df.loc[treat_df['ACTIVIDADES_ENSEÑANZA'] == 'SI', ['DIAS_LIBRE', 'EDAD', 'ANO_INGRESO_INT', 'DIAS_CONDENA', 'CENSURADO_LIBRES', 'NUMERO_REINCIDENCIAS', 'NIVEL_EDUCATIVO']]\n",
    "\n",
    "untreat_df = df.drop_duplicates('INTERNOEN')\n",
    "untreat_df = untreat_df[(untreat_df['ACTIVIDADES_TRABAJO'] == 'NO') & (untreat_df['ACTIVIDADES_ESTUDIO'] == 'NO') & (untreat_df['ACTIVIDADES_ENSEÑANZA'] == 'NO')]\n",
    "untreat_df = untreat_df.loc[untreat_df['INTERNOEN'].isin(set(untreat_df['INTERNOEN']).difference(set(treat_df))), ['DIAS_LIBRE', 'EDAD', 'ANO_INGRESO_INT', 'DIAS_CONDENA', 'CENSURADO_LIBRES', 'NUMERO_REINCIDENCIAS', 'NIVEL_EDUCATIVO']]\n",
    "\n",
    "dummies_df = pd.get_dummies(df[['ESTADO', 'TENTATIVA', 'AGRAVADO', 'CALIFICADO', 'GENERO', \n",
    "                      'REGIONAL', 'ESTADO_INGRESO', 'HIJOS_MENORES', 'ESTADO_CIVIL']], drop_first = True)\n",
    "\n",
    "dummies_df.columns = [string.replace(' ', '_') for string in dummies_df.columns]\n",
    "dummies_df.columns = [string.replace('(', '_')  for string in dummies_df.columns]\n",
    "dummies_df.columns = [string.replace(')', '_')  for string in dummies_df.columns]\n",
    "dummies_df.columns = [string.replace('-', '_')  for string in dummies_df.columns]\n",
    "\n",
    "treat_df = treat_df.merge(dummies_df, right_index = True, left_index = True)\n",
    "untreat_df = untreat_df.merge(dummies_df, right_index = True, left_index = True)\n",
    "\n",
    "drops = list(set(treat_df.columns[np.where(treat_df.std() < 0.1)]).union(set(untreat_df.columns[np.where(untreat_df.std() == 0)])))\n",
    "\n",
    "treat_df.drop(columns = drops, inplace = True)\n",
    "untreat_df.drop(columns = drops, inplace = True)\n",
    "\n",
    "treat_df['treatment'] = 1\n",
    "untreat_df['treatment'] = 0\n",
    "\n",
    "df_final = pd.concat([treat_df, untreat_df], axis =0)\n",
    "df_final = df_final[(~df_final['DIAS_CONDENA'].isnull()) & (~df_final['NIVEL_EDUCATIVO'].isnull())]"
   ]
  },
  {
   "cell_type": "code",
   "execution_count": 151,
   "metadata": {},
   "outputs": [],
   "source": [
    "treatment = df_final.iloc[:,-1]\n",
    "data = df_final.iloc[:, 1:-1]"
   ]
  },
  {
   "cell_type": "code",
   "execution_count": 124,
   "metadata": {
    "scrolled": true
   },
   "outputs": [
    {
     "name": "stdout",
     "output_type": "stream",
     "text": [
      "AUC is: 0.7719933178548362\n",
      "treatment count: (39075,)\n",
      "control count: (4417,)\n"
     ]
    }
   ],
   "source": [
    "logistic = LogisticRegression(solver = 'liblinear')\n",
    "logistic.fit(data, treatment)\n",
    "pscore = logistic.predict_proba(data)[:, 1]\n",
    "auc = roc_auc_score(treatment, pscore)\n",
    "print(f'AUC is: {auc}')\n",
    "mask = treatment == 1\n",
    "pos_pscore = pscore[mask]\n",
    "neg_pscore = pscore[~mask]\n",
    "print('treatment count:', pos_pscore.shape)\n",
    "print('control count:', neg_pscore.shape)"
   ]
  },
  {
   "cell_type": "code",
   "execution_count": 30,
   "metadata": {},
   "outputs": [
    {
     "data": {
      "image/png": "[encoded data removed]",
      "text/plain": [
       "<Figure size 576x432 with 1 Axes>"
      ]
     },
     "metadata": {
      "needs_background": "light"
     },
     "output_type": "display_data"
    }
   ],
   "source": [
    "# change default style figure and font size\n",
    "plt.rcParams['figure.figsize'] = 8, 6\n",
    "plt.rcParams['font.size'] = 12\n",
    "\n",
    "sns.distplot(neg_pscore, label='control')\n",
    "sns.distplot(pos_pscore, label='treatment')\n",
    "plt.xlim(0, 1)\n",
    "plt.title('Propensity Score Distribution of Control vs Treatment')\n",
    "plt.ylabel('Density')\n",
    "plt.xlabel('Scores')\n",
    "plt.legend()\n",
    "plt.tight_layout()\n",
    "plt.show()"
   ]
  },
  {
   "cell_type": "code",
   "execution_count": 157,
   "metadata": {},
   "outputs": [
    {
     "data": {
      "text/plain": [
       "array([[ 170],\n",
       "       [ 558],\n",
       "       [ 640],\n",
       "       ...,\n",
       "       [ 845],\n",
       "       [1096],\n",
       "       [ 766]], dtype=int64)"
      ]
     },
     "execution_count": 157,
     "metadata": {},
     "output_type": "execute_result"
    }
   ],
   "source": [
    "def get_similar(pos_pscore: np.ndarray, neg_pscore: np.ndarray, topn: int=5, n_jobs: int=1):\n",
    "    from sklearn.neighbors import NearestNeighbors\n",
    "\n",
    "    knn = NearestNeighbors(n_neighbors=topn + 1, metric='euclidean', n_jobs=n_jobs)\n",
    "    knn.fit(neg_pscore.reshape(-1, 1))\n",
    "\n",
    "    distances, indices = knn.kneighbors(pos_pscore.reshape(-1, 1))\n",
    "    sim_distances = distances[:, 1:]\n",
    "    sim_indices = indices[:, 1:]\n",
    "    return sim_distances, sim_indices\n",
    "\n",
    "\n",
    "sim_distances, sim_indices = get_similar(pos_pscore, neg_pscore, topn=1)\n",
    "sim_indices"
   ]
  },
  {
   "cell_type": "code",
   "execution_count": 158,
   "metadata": {},
   "outputs": [],
   "source": [
    "caliper = 1\n",
    "df_pos = df_final[mask][sim_distances < caliper]\n",
    "df_neg = df_final[~mask].iloc[sim_indices[:, 0]][sim_distances < caliper]"
   ]
  },
  {
   "cell_type": "code",
   "execution_count": 159,
   "metadata": {
    "scrolled": true
   },
   "outputs": [
    {
     "data": {
      "text/plain": [
       "(4417, 22)"
      ]
     },
     "execution_count": 159,
     "metadata": {},
     "output_type": "execute_result"
    }
   ],
   "source": [
    "df_pos.shape"
   ]
  },
  {
   "cell_type": "code",
   "execution_count": 160,
   "metadata": {
    "scrolled": false
   },
   "outputs": [
    {
     "name": "stdout",
     "output_type": "stream",
     "text": [
      "Treatment is significant, its TTE is -128.63538269747005 with p-value 1.6920728366031189e-09\n",
      "EDAD is not balanced, its statistic is -3.3151922215655723 with p-value 0.0009196859513566017\n",
      "ESTADO_Baja is not balanced, its statistic is -9.555293332256722 with p-value 1.928996762268671e-21\n",
      "TENTATIVA_S is not balanced, its statistic is 6.9907152253577225 with p-value 2.950400016033513e-12\n",
      "GENERO_MASCULINO is not balanced, its statistic is -6.21828545929086 with p-value 5.262830002807862e-10\n",
      "REGIONAL_NOROESTE is not balanced, its statistic is -4.169236540311557 with p-value 3.085520866328999e-05\n",
      "REGIONAL_NORTE is not balanced, its statistic is -2.1019524248940775 with p-value 0.035585729611016\n",
      "REGIONAL_OCCIDENTE is not balanced, its statistic is 3.5229535065971547 with p-value 0.0004289313215551828\n",
      "ESTADO_INGRESO_Intramuros is not balanced, its statistic is 6.818662597359929 with p-value 9.793304085493081e-12\n",
      "ESTADO_CIVIL_SEPARADO_A_ is not balanced, its statistic is 2.2370813779495036 with p-value 0.025330727873535335\n"
     ]
    }
   ],
   "source": [
    "for column in df_pos.columns:\n",
    "    if (df_pos[column].dtypes != 'object') & (column != 'treatment'):\n",
    "        statistic, pvalue = stats.ttest_ind(df_pos[column], df_neg[column], equal_var=False)\n",
    "        if pvalue < 0.05:\n",
    "            if column == 'DIAS_LIBRE':\n",
    "                y_1 = df_pos[column].mean()\n",
    "                y_2 = df_neg[column].mean()\n",
    "                print(f'Treatment is significant, its TTE is {y_2 - y_1} with p-value {pvalue}')\n",
    "            else:\n",
    "                print(f'{column} is not balanced, its statistic is {statistic} with p-value {pvalue}')\n",
    "        "
   ]
  },
  {
   "cell_type": "code",
   "execution_count": 149,
   "metadata": {},
   "outputs": [
    {
     "data": {
      "text/html": [
       "<div>\n",
       "<style scoped>\n",
       "    .dataframe tbody tr th:only-of-type {\n",
       "        vertical-align: middle;\n",
       "    }\n",
       "\n",
       "    .dataframe tbody tr th {\n",
       "        vertical-align: top;\n",
       "    }\n",
       "\n",
       "    .dataframe thead th {\n",
       "        text-align: right;\n",
       "    }\n",
       "</style>\n",
       "<table border=\"1\" class=\"dataframe\">\n",
       "  <tbody>\n",
       "    <tr>\n",
       "      <th>t_0</th>\n",
       "      <td>-1</td>\n",
       "    </tr>\n",
       "    <tr>\n",
       "      <th>null_distribution</th>\n",
       "      <td>chi squared</td>\n",
       "    </tr>\n",
       "    <tr>\n",
       "      <th>degrees_of_freedom</th>\n",
       "      <td>1</td>\n",
       "    </tr>\n",
       "    <tr>\n",
       "      <th>test_name</th>\n",
       "      <td>logrank_test</td>\n",
       "    </tr>\n",
       "  </tbody>\n",
       "</table>\n",
       "</div><table border=\"1\" class=\"dataframe\">\n",
       "  <thead>\n",
       "    <tr style=\"text-align: right;\">\n",
       "      <th></th>\n",
       "      <th>test_statistic</th>\n",
       "      <th>p</th>\n",
       "    </tr>\n",
       "  </thead>\n",
       "  <tbody>\n",
       "    <tr>\n",
       "      <th>0</th>\n",
       "      <td>1.87</td>\n",
       "      <td>0.17</td>\n",
       "    </tr>\n",
       "  </tbody>\n",
       "</table>"
      ],
      "text/plain": [
       "<IPython.core.display.HTML object>"
      ]
     },
     "metadata": {},
     "output_type": "display_data"
    }
   ],
   "source": [
    "results = logrank_test(df_pos['DIAS_LIBRE'], df_neg['DIAS_LIBRE'], \n",
    "                       event_observed_A=df_pos['CENSURADO_LIBRES'], \n",
    "                       event_observed_B=df_neg['CENSURADO_LIBRES'])\n",
    "results.print_summary()"
   ]
  },
  {
   "cell_type": "raw",
   "metadata": {},
   "source": [
    "df_pos_top5 = df_final[mask]['DIAS_LIBRE']\n",
    "df_neg_top5 = pd.DataFrame(map(lambda i: df_final[~mask].iloc[sim_indices[i, :]]['DIAS_LIBRE'].mean(), np.arange(sim_indices.shape[0])))\n",
    "\n",
    "stats.ttest_ind(df_pos_top5, df_neg_top5, equal_var=False)"
   ]
  }
 ],
 "metadata": {
  "colab": {
   "collapsed_sections": [],
   "name": "project_notebook_minjusticia.ipynb",
   "provenance": []
  },
  "kernelspec": {
   "display_name": "Python 3",
   "language": "python",
   "name": "python3"
  },
  "language_info": {
   "codemirror_mode": {
    "name": "ipython",
    "version": 3
   },
   "file_extension": ".py",
   "mimetype": "text/x-python",
   "name": "python",
   "nbconvert_exporter": "python",
   "pygments_lexer": "ipython3",
   "version": "3.7.4"
  }
 },
 "nbformat": 4,
 "nbformat_minor": 1
}
